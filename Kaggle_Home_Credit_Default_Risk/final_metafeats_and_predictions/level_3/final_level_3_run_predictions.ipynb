{
 "cells": [
  {
   "cell_type": "code",
   "execution_count": null,
   "metadata": {},
   "outputs": [],
   "source": []
  },
  {
   "cell_type": "code",
   "execution_count": 1,
   "metadata": {
    "scrolled": true
   },
   "outputs": [
    {
     "data": {
      "text/plain": [
       "('0.23.3', '1.14.2')"
      ]
     },
     "execution_count": 1,
     "metadata": {},
     "output_type": "execute_result"
    }
   ],
   "source": [
    "import pandas as pd\n",
    "\n",
    "import numpy as np\n",
    "\n",
    "from IPython.display import display\n",
    "\n",
    "pd.__version__ , np.__version__ #,  matplotlib.__version__, sns.__version__"
   ]
  },
  {
   "cell_type": "code",
   "execution_count": null,
   "metadata": {},
   "outputs": [],
   "source": []
  },
  {
   "cell_type": "code",
   "execution_count": 2,
   "metadata": {},
   "outputs": [],
   "source": [
    "from sklearn.model_selection import train_test_split, learning_curve, cross_val_score, KFold, StratifiedKFold, \\\n",
    "                                    ShuffleSplit, GridSearchCV, RandomizedSearchCV, cross_val_predict\n",
    "\n",
    "from sklearn.metrics import roc_auc_score\n",
    "\n",
    "from sklearn.ensemble import RandomForestClassifier\n",
    "from sklearn.linear_model import LogisticRegression\n",
    "from sklearn.neural_network import MLPClassifier\n",
    "from sklearn.ensemble import AdaBoostClassifier\n",
    "\n",
    "from sklearn.tree import DecisionTreeClassifier\n",
    "\n",
    "from sklearn.externals import joblib"
   ]
  },
  {
   "cell_type": "code",
   "execution_count": null,
   "metadata": {},
   "outputs": [],
   "source": []
  },
  {
   "cell_type": "code",
   "execution_count": 3,
   "metadata": {
    "scrolled": true
   },
   "outputs": [
    {
     "data": {
      "text/plain": [
       "'/Users/DonBunk/Desktop/Google Drive/data_science/Python_Projects/Home_Credit_Default_Risk/final_metafeats_and_predictions/level_3'"
      ]
     },
     "execution_count": 3,
     "metadata": {},
     "output_type": "execute_result"
    }
   ],
   "source": [
    "pwd"
   ]
  },
  {
   "cell_type": "code",
   "execution_count": 4,
   "metadata": {},
   "outputs": [
    {
     "name": "stdout",
     "output_type": "stream",
     "text": [
      "/Users/DonBunk/Desktop/Google Drive/data_science/Python_Projects/Home_Credit_Default_Risk\n"
     ]
    }
   ],
   "source": [
    "cd '/Users/DonBunk/Desktop/Google Drive/data_science/Python_Projects/Home_Credit_Default_Risk/'"
   ]
  },
  {
   "cell_type": "code",
   "execution_count": 5,
   "metadata": {},
   "outputs": [],
   "source": [
    "from Home_Credit_package.master_pipeline import master_pipeline"
   ]
  },
  {
   "cell_type": "code",
   "execution_count": 6,
   "metadata": {},
   "outputs": [],
   "source": [
    "path_to_models = 'saved_models/level_3_models/'\n",
    "\n",
    "level_3_preds_save_path = 'final_metafeats_and_predictions/level_3/level_3_final_predictions/'"
   ]
  },
  {
   "cell_type": "code",
   "execution_count": null,
   "metadata": {},
   "outputs": [],
   "source": []
  },
  {
   "cell_type": "markdown",
   "metadata": {},
   "source": [
    "# load this"
   ]
  },
  {
   "cell_type": "code",
   "execution_count": null,
   "metadata": {},
   "outputs": [],
   "source": []
  },
  {
   "cell_type": "markdown",
   "metadata": {},
   "source": [
    "## load df"
   ]
  },
  {
   "cell_type": "code",
   "execution_count": null,
   "metadata": {},
   "outputs": [],
   "source": []
  },
  {
   "cell_type": "code",
   "execution_count": 7,
   "metadata": {},
   "outputs": [],
   "source": [
    "# load the training and test data, and merge each with their level_1 metafeatures. \n",
    "\n",
    "TRAIN_path = 'wrangling/TRAINING_DATA_create_final_wrangled_csv/'\n",
    "o_TRAIN_df = pd.read_csv(TRAIN_path + 'complete_initial_wrangled_data.csv', index_col = 'SK_ID_CURR')\n",
    "TRAIN_L2_mf_path = 'level_2_ensembling/'\n",
    "TRAIN_level_2_metafeatures_df = pd.read_csv(TRAIN_L2_mf_path + 'FINAL_level_2_meta_features_df.csv', index_col = 'SK_ID_CURR')\n",
    "TRAIN_df = pd.merge(o_TRAIN_df, TRAIN_level_2_metafeatures_df, left_index=True, right_index=True, how = 'outer' )\n",
    "\n",
    "\n",
    "TEST_path = 'wrangling/TEST_DATA_create_final_wrangled_csv/'\n",
    "o_TEST_df = pd.read_csv(TEST_path + 'complete_initial_wrangled_data.csv', index_col = 'SK_ID_CURR')\n",
    "TEST_L2_mf_path = 'final_metafeats_and_predictions/level_2/level_2_meta_feats/'\n",
    "TEST_level_2_metafeatures_df = pd.read_csv(TEST_L2_mf_path + 'FINAL_level_2_meta_features_df.csv', index_col = 'SK_ID_CURR')\n",
    "TEST_df = pd.merge(o_TEST_df, TEST_level_2_metafeatures_df, left_index=True, right_index=True, how = 'outer' )"
   ]
  },
  {
   "cell_type": "code",
   "execution_count": null,
   "metadata": {},
   "outputs": [],
   "source": []
  },
  {
   "cell_type": "code",
   "execution_count": 14,
   "metadata": {},
   "outputs": [],
   "source": [
    "level_3_predictions = pd.DataFrame(TEST_df.index)\n",
    "level_3_predictions.set_index('SK_ID_CURR', inplace=True)"
   ]
  },
  {
   "cell_type": "code",
   "execution_count": null,
   "metadata": {},
   "outputs": [],
   "source": []
  },
  {
   "cell_type": "markdown",
   "metadata": {},
   "source": [
    "# model with only EXT SOURCES + level 2 final scores."
   ]
  },
  {
   "cell_type": "code",
   "execution_count": null,
   "metadata": {},
   "outputs": [],
   "source": []
  },
  {
   "cell_type": "code",
   "execution_count": 9,
   "metadata": {
    "scrolled": true
   },
   "outputs": [],
   "source": [
    "minimal_feats = ['EXT_SOURCE_1','EXT_SOURCE_2','EXT_SOURCE_3',\n",
    "                 'pwr_rescale_RanFor_EXTpoly_Level2',     \n",
    "                    'pwr_rescale_LogReg_EXTpoly_Level2',     \n",
    "                    'pwr_rescale_MLP_EXTpoly_Level2',        \n",
    "                    'pwr_rescale_RanFor_AllFeats_Level2', \n",
    "                    'pwr_rescale_LogReg_AllFeats_Level2',  \n",
    "                    'pwr_rescale_MLP_AllFeats_Level2',\n",
    "                    ]"
   ]
  },
  {
   "cell_type": "code",
   "execution_count": 10,
   "metadata": {},
   "outputs": [
    {
     "name": "stdout",
     "output_type": "stream",
     "text": [
      "Total original feat len is 9. Sum of feats is 9.\n",
      "Final array is length 45. final feature list is length 45.\n"
     ]
    }
   ],
   "source": [
    "total_df_piped, final_feature_list, total_pipeline, trans_list = master_pipeline(df_in = TRAIN_df[minimal_feats],\n",
    "                                                                                 int_cutoff=20, \n",
    "                                                                                 poly_deg=4, \n",
    "                                                                                 feats_with_interaction=[]\n",
    "                                                                                 )"
   ]
  },
  {
   "cell_type": "code",
   "execution_count": 11,
   "metadata": {},
   "outputs": [],
   "source": [
    "TEST_piped = total_pipeline.transform(TEST_df)"
   ]
  },
  {
   "cell_type": "code",
   "execution_count": null,
   "metadata": {},
   "outputs": [],
   "source": []
  },
  {
   "cell_type": "markdown",
   "metadata": {
    "heading_collapsed": true
   },
   "source": [
    "### AdaBoost + log reg.\n",
    "Kaggle: Private: 0.76113 Public: 0.76498"
   ]
  },
  {
   "cell_type": "code",
   "execution_count": null,
   "metadata": {
    "hidden": true
   },
   "outputs": [],
   "source": []
  },
  {
   "cell_type": "code",
   "execution_count": 25,
   "metadata": {
    "hidden": true
   },
   "outputs": [
    {
     "data": {
      "text/plain": [
       "AdaBoostClassifier(algorithm='SAMME.R',\n",
       "          base_estimator=LogisticRegression(C=1000, class_weight=None, dual=False, fit_intercept=True,\n",
       "          intercept_scaling=1, max_iter=100, multi_class='ovr', n_jobs=1,\n",
       "          penalty='l2', random_state=0, solver='liblinear', tol=0.0001,\n",
       "          verbose=0, warm_start=False),\n",
       "          learning_rate=1, n_estimators=50, random_state=0)"
      ]
     },
     "execution_count": 25,
     "metadata": {},
     "output_type": "execute_result"
    }
   ],
   "source": [
    "my_LgRg_4_Ada = joblib.load(path_to_models + 'my_AdaBC_LogReg_minimal_feats_level_3.joblib')\n",
    "my_LgRg_4_Ada"
   ]
  },
  {
   "cell_type": "code",
   "execution_count": null,
   "metadata": {
    "hidden": true
   },
   "outputs": [],
   "source": []
  },
  {
   "cell_type": "code",
   "execution_count": 26,
   "metadata": {
    "hidden": true
   },
   "outputs": [],
   "source": [
    "preds = my_LgRg_4_Ada.predict_proba(TEST_piped)\n",
    "val_scores = [x[1]for x in preds]"
   ]
  },
  {
   "cell_type": "code",
   "execution_count": null,
   "metadata": {
    "hidden": true
   },
   "outputs": [],
   "source": []
  },
  {
   "cell_type": "code",
   "execution_count": 27,
   "metadata": {
    "hidden": true
   },
   "outputs": [],
   "source": [
    "level_3_predictions['my_AdaBC_LogReg_minimal_feats_level_3'] = val_scores"
   ]
  },
  {
   "cell_type": "code",
   "execution_count": null,
   "metadata": {
    "hidden": true
   },
   "outputs": [],
   "source": []
  },
  {
   "cell_type": "code",
   "execution_count": 28,
   "metadata": {
    "hidden": true
   },
   "outputs": [],
   "source": [
    "this_model = 'my_AdaBC_LogReg_minimal_feats_level_3'\n",
    "\n",
    "level_3_predictions[[this_model]].to_csv(level_3_preds_save_path + this_model + '.csv', \n",
    "                                         columns = list(level_3_predictions[[this_model]].columns),\n",
    "                                         header = ['TARGET'],\n",
    "                                          )"
   ]
  },
  {
   "cell_type": "code",
   "execution_count": null,
   "metadata": {
    "hidden": true
   },
   "outputs": [],
   "source": []
  },
  {
   "cell_type": "markdown",
   "metadata": {},
   "source": [
    "# model with all features"
   ]
  },
  {
   "cell_type": "code",
   "execution_count": 29,
   "metadata": {},
   "outputs": [],
   "source": [
    "feats_to_drop = ['pwr_rescale_RanFor_EXTpoly_Level2',     \n",
    "                 'pwr_rescale_LogReg_EXTpoly_Level2',     \n",
    "                 'pwr_rescale_MLP_EXTpoly_Level2',        \n",
    "                ]"
   ]
  },
  {
   "cell_type": "code",
   "execution_count": null,
   "metadata": {},
   "outputs": [],
   "source": []
  },
  {
   "cell_type": "code",
   "execution_count": 30,
   "metadata": {
    "scrolled": true
   },
   "outputs": [
    {
     "name": "stdout",
     "output_type": "stream",
     "text": [
      "Total original feat len is 88. Sum of feats is 88.\n",
      "Final array is length 433. final feature list is length 433.\n"
     ]
    }
   ],
   "source": [
    "total_df_piped, final_feature_list, total_pipeline, trans_list = \\\n",
    "master_pipeline(df_in = TRAIN_df.drop(columns = feats_to_drop),\n",
    "               int_cutoff=20, \n",
    "               poly_deg=4, \n",
    "               feats_with_interaction=[]\n",
    "               )"
   ]
  },
  {
   "cell_type": "code",
   "execution_count": 31,
   "metadata": {},
   "outputs": [],
   "source": [
    "TEST_piped = total_pipeline.transform(TEST_df)"
   ]
  },
  {
   "cell_type": "code",
   "execution_count": null,
   "metadata": {},
   "outputs": [],
   "source": []
  },
  {
   "cell_type": "markdown",
   "metadata": {
    "heading_collapsed": true
   },
   "source": [
    "### Adaboost + log reg.\n",
    "Kaggle: Private: 0.76085 Public: 0.76360"
   ]
  },
  {
   "cell_type": "code",
   "execution_count": null,
   "metadata": {
    "hidden": true
   },
   "outputs": [],
   "source": []
  },
  {
   "cell_type": "code",
   "execution_count": 32,
   "metadata": {
    "hidden": true
   },
   "outputs": [
    {
     "data": {
      "text/plain": [
       "AdaBoostClassifier(algorithm='SAMME.R',\n",
       "          base_estimator=LogisticRegression(C=200, class_weight=None, dual=False, fit_intercept=True,\n",
       "          intercept_scaling=1, max_iter=100, multi_class='ovr', n_jobs=1,\n",
       "          penalty='l2', random_state=0, solver='liblinear', tol=0.0001,\n",
       "          verbose=0, warm_start=False),\n",
       "          learning_rate=0.01, n_estimators=50, random_state=0)"
      ]
     },
     "execution_count": 32,
     "metadata": {},
     "output_type": "execute_result"
    }
   ],
   "source": [
    "my_AdaBC_LogReg_all_feats = joblib.load(path_to_models + 'my_AdaBC_LogReg_all_feats_level_3.joblib')\n",
    "my_AdaBC_LogReg_all_feats"
   ]
  },
  {
   "cell_type": "code",
   "execution_count": null,
   "metadata": {
    "hidden": true
   },
   "outputs": [],
   "source": []
  },
  {
   "cell_type": "code",
   "execution_count": 33,
   "metadata": {
    "hidden": true
   },
   "outputs": [],
   "source": [
    "preds = my_AdaBC_LogReg_all_feats.predict_proba(TEST_piped)\n",
    "val_scores = [x[1]for x in preds]"
   ]
  },
  {
   "cell_type": "code",
   "execution_count": null,
   "metadata": {
    "hidden": true
   },
   "outputs": [],
   "source": []
  },
  {
   "cell_type": "code",
   "execution_count": 34,
   "metadata": {
    "hidden": true
   },
   "outputs": [],
   "source": [
    "level_3_predictions['my_AdaBC_LogReg_all_feats_level_3'] = val_scores"
   ]
  },
  {
   "cell_type": "code",
   "execution_count": null,
   "metadata": {
    "hidden": true
   },
   "outputs": [],
   "source": []
  },
  {
   "cell_type": "code",
   "execution_count": 35,
   "metadata": {
    "hidden": true
   },
   "outputs": [],
   "source": [
    "this_model = 'my_AdaBC_LogReg_all_feats_level_3'\n",
    "\n",
    "level_3_predictions[[this_model]].to_csv(level_3_preds_save_path + this_model + '.csv', \n",
    "                                         columns = list(level_3_predictions[[this_model]].columns),\n",
    "                                         header = ['TARGET'],\n",
    "                                          )"
   ]
  },
  {
   "cell_type": "code",
   "execution_count": null,
   "metadata": {
    "hidden": true
   },
   "outputs": [],
   "source": []
  },
  {
   "cell_type": "code",
   "execution_count": null,
   "metadata": {
    "hidden": true
   },
   "outputs": [],
   "source": []
  }
 ],
 "metadata": {
  "kernelspec": {
   "display_name": "Python 3",
   "language": "python",
   "name": "python3"
  },
  "language_info": {
   "codemirror_mode": {
    "name": "ipython",
    "version": 3
   },
   "file_extension": ".py",
   "mimetype": "text/x-python",
   "name": "python",
   "nbconvert_exporter": "python",
   "pygments_lexer": "ipython3",
   "version": "3.6.6"
  },
  "latex_envs": {
   "LaTeX_envs_menu_present": true,
   "autocomplete": true,
   "bibliofile": "biblio.bib",
   "cite_by": "apalike",
   "current_citInitial": 1,
   "eqLabelWithNumbers": true,
   "eqNumInitial": 1,
   "hotkeys": {
    "equation": "Ctrl-E",
    "itemize": "Ctrl-I"
   },
   "labels_anchors": false,
   "latex_user_defs": false,
   "report_style_numbering": false,
   "user_envs_cfg": false
  },
  "toc": {
   "nav_menu": {},
   "number_sections": true,
   "sideBar": true,
   "skip_h1_title": false,
   "toc_cell": false,
   "toc_position": {},
   "toc_section_display": "none",
   "toc_window_display": false
  },
  "varInspector": {
   "cols": {
    "lenName": 16,
    "lenType": 16,
    "lenVar": 40
   },
   "kernels_config": {
    "python": {
     "delete_cmd_postfix": "",
     "delete_cmd_prefix": "del ",
     "library": "var_list.py",
     "varRefreshCmd": "print(var_dic_list())"
    },
    "r": {
     "delete_cmd_postfix": ") ",
     "delete_cmd_prefix": "rm(",
     "library": "var_list.r",
     "varRefreshCmd": "cat(var_dic_list()) "
    }
   },
   "oldHeight": 1038.5,
   "position": {
    "height": "852px",
    "left": "1314px",
    "right": "46px",
    "top": "121px",
    "width": "800px"
   },
   "types_to_exclude": [
    "module",
    "function",
    "builtin_function_or_method",
    "instance",
    "_Feature"
   ],
   "varInspector_section_display": "block",
   "window_display": false
  }
 },
 "nbformat": 4,
 "nbformat_minor": 2
}
