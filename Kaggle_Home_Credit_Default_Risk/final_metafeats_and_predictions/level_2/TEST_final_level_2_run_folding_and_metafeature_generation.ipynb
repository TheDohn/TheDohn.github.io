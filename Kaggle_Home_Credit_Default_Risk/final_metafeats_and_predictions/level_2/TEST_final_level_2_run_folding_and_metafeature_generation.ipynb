{
 "cells": [
  {
   "cell_type": "code",
   "execution_count": null,
   "metadata": {},
   "outputs": [],
   "source": []
  },
  {
   "cell_type": "code",
   "execution_count": 2,
   "metadata": {
    "scrolled": true
   },
   "outputs": [
    {
     "data": {
      "text/plain": [
       "('0.23.3', '1.14.2')"
      ]
     },
     "execution_count": 2,
     "metadata": {},
     "output_type": "execute_result"
    }
   ],
   "source": [
    "import pandas as pd\n",
    "\n",
    "import numpy as np\n",
    "\n",
    "import matplotlib.pyplot as plt\n",
    "import seaborn as sns\n",
    "sns.set(context = 'notebook', #mostly controls relative sizes of things on plot \n",
    "                        #The base context is “notebook”, and the other contexts are “paper”, “talk”, and “poster”\n",
    "        style = 'darkgrid', #dict, None, or one of {darkgrid, whitegrid, dark, white, ticks}\n",
    "        palette = 'deep', # Should be something that color_palette() can process.\n",
    "        font_scale = 1, \n",
    "        color_codes = False, \n",
    "        rc = None)\n",
    "\n",
    "# from IPython.core.interactiveshell import InteractiveShell \n",
    "# InteractiveShell.ast_node_interactivity = 'last_expr' \n",
    "# setting = \"all\" allows multiple outputs to be displayed for a given input cell. don't use w plotting!\n",
    "\n",
    "from IPython.display import display\n",
    "\n",
    "import ast\n",
    "\n",
    "%matplotlib notebook\n",
    "##%matplotlib inline\n",
    "\n",
    "pd.__version__ , np.__version__ #,  matplotlib.__version__, sns.__version__"
   ]
  },
  {
   "cell_type": "code",
   "execution_count": null,
   "metadata": {},
   "outputs": [],
   "source": []
  },
  {
   "cell_type": "code",
   "execution_count": 3,
   "metadata": {},
   "outputs": [],
   "source": [
    "from sklearn.model_selection import train_test_split, learning_curve, KFold, StratifiedKFold, \\\n",
    "                                    ShuffleSplit, GridSearchCV, RandomizedSearchCV, cross_val_predict\n",
    "\n",
    "from sklearn.metrics import roc_auc_score\n",
    "\n",
    "from sklearn.ensemble import RandomForestClassifier\n",
    "from sklearn.linear_model import LogisticRegression\n",
    "from sklearn.neural_network import MLPClassifier\n",
    "from sklearn.ensemble import AdaBoostClassifier\n",
    "\n",
    "from sklearn.tree import DecisionTreeClassifier\n",
    "\n",
    "from sklearn.externals import joblib"
   ]
  },
  {
   "cell_type": "code",
   "execution_count": null,
   "metadata": {
    "scrolled": true
   },
   "outputs": [],
   "source": []
  },
  {
   "cell_type": "code",
   "execution_count": 4,
   "metadata": {},
   "outputs": [
    {
     "name": "stdout",
     "output_type": "stream",
     "text": [
      "/Users/DonBunk/Desktop/Google Drive/data_science/Python_Projects/Home_Credit_Default_Risk\n"
     ]
    }
   ],
   "source": [
    "cd '/Users/DonBunk/Desktop/Google Drive/data_science/Python_Projects/Home_Credit_Default_Risk/'"
   ]
  },
  {
   "cell_type": "code",
   "execution_count": 5,
   "metadata": {},
   "outputs": [],
   "source": [
    "from Home_Credit_package.master_pipeline import master_pipeline\n",
    "from Home_Credit_package.Dons_functions import balanced_sample"
   ]
  },
  {
   "cell_type": "code",
   "execution_count": null,
   "metadata": {},
   "outputs": [],
   "source": []
  },
  {
   "cell_type": "code",
   "execution_count": 6,
   "metadata": {},
   "outputs": [],
   "source": [
    "path_to_models = 'saved_models/level_2_models/'\n",
    "\n",
    "level_2_metafeats_save_path = 'final_metafeats_and_predictions/level_2/level_2_meta_feats/'\n",
    "level_2_preds_save_path = 'final_metafeats_and_predictions/level_2/level_2_final_predictions/'"
   ]
  },
  {
   "cell_type": "code",
   "execution_count": null,
   "metadata": {},
   "outputs": [],
   "source": []
  },
  {
   "cell_type": "markdown",
   "metadata": {},
   "source": [
    "# load this"
   ]
  },
  {
   "cell_type": "code",
   "execution_count": null,
   "metadata": {},
   "outputs": [],
   "source": []
  },
  {
   "cell_type": "markdown",
   "metadata": {},
   "source": [
    "## load dfs"
   ]
  },
  {
   "cell_type": "code",
   "execution_count": null,
   "metadata": {},
   "outputs": [],
   "source": []
  },
  {
   "cell_type": "code",
   "execution_count": 7,
   "metadata": {},
   "outputs": [],
   "source": [
    "# load the training and test data, and merge each with their level_1 metafeatures. \n",
    "\n",
    "TRAIN_path = 'wrangling/TRAINING_DATA_create_final_wrangled_csv/'\n",
    "o_TRAIN_df = pd.read_csv(TRAIN_path + 'complete_initial_wrangled_data.csv', index_col = 'SK_ID_CURR')\n",
    "TRAIN_L1_mf_path = 'level_1_ensembling/'\n",
    "TRAIN_level_1_metafeatures_df = pd.read_csv(TRAIN_L1_mf_path + 'FINAL_level_1_meta_features_df.csv', index_col = 'SK_ID_CURR')\n",
    "TRAIN_df = pd.merge(o_TRAIN_df, TRAIN_level_1_metafeatures_df, left_index=True, right_index=True, how = 'outer' )\n",
    "\n",
    "\n",
    "TEST_path = 'wrangling/TEST_DATA_create_final_wrangled_csv/'\n",
    "o_TEST_df = pd.read_csv(TEST_path + 'complete_initial_wrangled_data.csv', index_col = 'SK_ID_CURR')\n",
    "TEST_L1_mf_path = 'final_metafeats_and_predictions/level_1/level_1_meta_feats/'\n",
    "TEST_level_1_metafeatures_df = pd.read_csv(TEST_L1_mf_path + 'FINAL_level_1_meta_features_df.csv', index_col = 'SK_ID_CURR')\n",
    "TEST_df = pd.merge(o_TEST_df, TEST_level_1_metafeatures_df, left_index=True, right_index=True, how = 'outer' )"
   ]
  },
  {
   "cell_type": "code",
   "execution_count": null,
   "metadata": {},
   "outputs": [],
   "source": []
  },
  {
   "cell_type": "code",
   "execution_count": 8,
   "metadata": {},
   "outputs": [],
   "source": [
    "raw_level_2_new_features_df = pd.DataFrame(TEST_df.index)\n",
    "raw_level_2_new_features_df.set_index('SK_ID_CURR', inplace=True)"
   ]
  },
  {
   "cell_type": "code",
   "execution_count": null,
   "metadata": {},
   "outputs": [],
   "source": []
  },
  {
   "cell_type": "markdown",
   "metadata": {
    "heading_collapsed": true
   },
   "source": [
    "# models with only EXT SOURCES + level 1 final scores.                                     "
   ]
  },
  {
   "cell_type": "code",
   "execution_count": null,
   "metadata": {
    "hidden": true
   },
   "outputs": [],
   "source": []
  },
  {
   "cell_type": "code",
   "execution_count": 9,
   "metadata": {
    "hidden": true,
    "scrolled": true
   },
   "outputs": [],
   "source": [
    "minimal_feats = ['EXT_SOURCE_1','EXT_SOURCE_2','EXT_SOURCE_3',\n",
    "                 'pwr_rescale_RanFor_EXTpoly', 'pwr_rescale_RanFor_AllFeats', \n",
    "                 'pwr_rescale_LogReg_EXTpoly','pwr_rescale_LogReg_AllFeats', \n",
    "                 'pwr_rescale_MLP_AllFeats']"
   ]
  },
  {
   "cell_type": "code",
   "execution_count": 10,
   "metadata": {
    "hidden": true
   },
   "outputs": [
    {
     "name": "stdout",
     "output_type": "stream",
     "text": [
      "Total original feat len is 8. Sum of feats is 8.\n",
      "Final array is length 40. final feature list is length 40.\n"
     ]
    }
   ],
   "source": [
    "total_df_piped, final_feature_list, total_pipeline, trans_list = master_pipeline(df_in = TRAIN_df[minimal_feats],\n",
    "                                                                                 int_cutoff=20, \n",
    "                                                                                 poly_deg=4, \n",
    "                                                                                 feats_with_interaction=[]\n",
    "                                                                                 )"
   ]
  },
  {
   "cell_type": "code",
   "execution_count": 11,
   "metadata": {
    "hidden": true
   },
   "outputs": [],
   "source": [
    "TEST_piped = total_pipeline.transform(TEST_df)"
   ]
  },
  {
   "cell_type": "code",
   "execution_count": null,
   "metadata": {
    "hidden": true
   },
   "outputs": [],
   "source": []
  },
  {
   "cell_type": "markdown",
   "metadata": {
    "heading_collapsed": true,
    "hidden": true
   },
   "source": [
    "### random forest\n",
    "Kaggle: Private: 0.75996 Public: 0.76357"
   ]
  },
  {
   "cell_type": "code",
   "execution_count": null,
   "metadata": {
    "hidden": true
   },
   "outputs": [],
   "source": []
  },
  {
   "cell_type": "code",
   "execution_count": 12,
   "metadata": {
    "hidden": true
   },
   "outputs": [
    {
     "data": {
      "text/plain": [
       "RandomForestClassifier(bootstrap=True, class_weight=None, criterion='gini',\n",
       "            max_depth=6, max_features='auto', max_leaf_nodes=None,\n",
       "            min_impurity_decrease=0.0, min_impurity_split=None,\n",
       "            min_samples_leaf=11, min_samples_split=2,\n",
       "            min_weight_fraction_leaf=0.0, n_estimators=40, n_jobs=1,\n",
       "            oob_score=False, random_state=0, verbose=0, warm_start=False)"
      ]
     },
     "execution_count": 12,
     "metadata": {},
     "output_type": "execute_result"
    }
   ],
   "source": [
    "RanFor_EXTpoly_Level_2 = joblib.load(path_to_models + 'RanFor_EXTpoly_Level_2.joblib')\n",
    "RanFor_EXTpoly_Level_2"
   ]
  },
  {
   "cell_type": "code",
   "execution_count": 13,
   "metadata": {
    "hidden": true
   },
   "outputs": [],
   "source": [
    "preds = RanFor_EXTpoly_Level_2.predict_proba(TEST_piped)\n",
    "val_scores = [x[1]for x in preds]"
   ]
  },
  {
   "cell_type": "code",
   "execution_count": null,
   "metadata": {
    "hidden": true
   },
   "outputs": [],
   "source": []
  },
  {
   "cell_type": "code",
   "execution_count": 14,
   "metadata": {
    "hidden": true
   },
   "outputs": [],
   "source": [
    "raw_level_2_new_features_df['RanFor_EXTpoly_Level2'] = val_scores"
   ]
  },
  {
   "cell_type": "code",
   "execution_count": null,
   "metadata": {
    "hidden": true
   },
   "outputs": [],
   "source": []
  },
  {
   "cell_type": "code",
   "execution_count": 15,
   "metadata": {
    "hidden": true
   },
   "outputs": [],
   "source": [
    "this_model = 'RanFor_EXTpoly_Level2'\n",
    "\n",
    "raw_level_2_new_features_df[[this_model]].to_csv(level_2_preds_save_path + this_model + '.csv', \n",
    "                                                 columns = list(raw_level_2_new_features_df[[this_model]].columns),\n",
    "                                                 header = ['TARGET'],\n",
    "                                                 )"
   ]
  },
  {
   "cell_type": "code",
   "execution_count": null,
   "metadata": {
    "hidden": true
   },
   "outputs": [],
   "source": []
  },
  {
   "cell_type": "markdown",
   "metadata": {
    "heading_collapsed": true,
    "hidden": true
   },
   "source": [
    "### log reg\n",
    "Kaggle: Private: 0.76157 Publice: 0.76274"
   ]
  },
  {
   "cell_type": "code",
   "execution_count": null,
   "metadata": {
    "hidden": true
   },
   "outputs": [],
   "source": []
  },
  {
   "cell_type": "code",
   "execution_count": 16,
   "metadata": {
    "hidden": true
   },
   "outputs": [
    {
     "data": {
      "text/plain": [
       "LogisticRegression(C=88.0, class_weight=None, dual=False, fit_intercept=True,\n",
       "          intercept_scaling=1, max_iter=100, multi_class='ovr', n_jobs=1,\n",
       "          penalty='l2', random_state=0, solver='liblinear', tol=0.0001,\n",
       "          verbose=0, warm_start=False)"
      ]
     },
     "execution_count": 16,
     "metadata": {},
     "output_type": "execute_result"
    }
   ],
   "source": [
    "LogReg_EXTpoly_Level_2 = joblib.load(path_to_models + 'LogReg_EXTpoly_Level_2.joblib')\n",
    "LogReg_EXTpoly_Level_2"
   ]
  },
  {
   "cell_type": "code",
   "execution_count": 17,
   "metadata": {
    "hidden": true
   },
   "outputs": [],
   "source": [
    "preds = LogReg_EXTpoly_Level_2.predict_proba(TEST_piped)\n",
    "val_scores = [x[1]for x in preds]"
   ]
  },
  {
   "cell_type": "code",
   "execution_count": null,
   "metadata": {
    "hidden": true
   },
   "outputs": [],
   "source": []
  },
  {
   "cell_type": "code",
   "execution_count": 18,
   "metadata": {
    "hidden": true
   },
   "outputs": [],
   "source": [
    "raw_level_2_new_features_df['LogReg_EXTpoly_Level2'] = val_scores"
   ]
  },
  {
   "cell_type": "code",
   "execution_count": null,
   "metadata": {
    "hidden": true
   },
   "outputs": [],
   "source": []
  },
  {
   "cell_type": "code",
   "execution_count": 19,
   "metadata": {
    "hidden": true
   },
   "outputs": [],
   "source": [
    "this_model = 'LogReg_EXTpoly_Level2'\n",
    "\n",
    "raw_level_2_new_features_df[[this_model]].to_csv(level_2_preds_save_path + this_model + '.csv', \n",
    "                                                 columns = list(raw_level_2_new_features_df[[this_model]].columns),\n",
    "                                                 header = ['TARGET'],\n",
    "                                                 )"
   ]
  },
  {
   "cell_type": "code",
   "execution_count": null,
   "metadata": {
    "hidden": true
   },
   "outputs": [],
   "source": []
  },
  {
   "cell_type": "code",
   "execution_count": null,
   "metadata": {
    "hidden": true
   },
   "outputs": [],
   "source": []
  },
  {
   "cell_type": "markdown",
   "metadata": {
    "heading_collapsed": true,
    "hidden": true
   },
   "source": [
    "### MLP Classifier.\n",
    "Kaggle: Private: 0.76199 Public: 0.76393"
   ]
  },
  {
   "cell_type": "code",
   "execution_count": null,
   "metadata": {
    "hidden": true
   },
   "outputs": [],
   "source": []
  },
  {
   "cell_type": "code",
   "execution_count": 20,
   "metadata": {
    "hidden": true
   },
   "outputs": [
    {
     "data": {
      "text/plain": [
       "MLPClassifier(activation='relu', alpha=0.15, batch_size='auto', beta_1=0.9,\n",
       "       beta_2=0.999, early_stopping=False, epsilon=1e-08,\n",
       "       hidden_layer_sizes=(67,), learning_rate='constant',\n",
       "       learning_rate_init=0.001, max_iter=200, momentum=0.9,\n",
       "       nesterovs_momentum=True, power_t=0.5, random_state=0, shuffle=True,\n",
       "       solver='adam', tol=0.0001, validation_fraction=0.1, verbose=False,\n",
       "       warm_start=False)"
      ]
     },
     "execution_count": 20,
     "metadata": {},
     "output_type": "execute_result"
    }
   ],
   "source": [
    "MLP_EXTpoly_Level_2 = joblib.load(path_to_models + 'MLP_EXTpoly_Level_2.joblib')\n",
    "MLP_EXTpoly_Level_2"
   ]
  },
  {
   "cell_type": "code",
   "execution_count": 21,
   "metadata": {
    "hidden": true
   },
   "outputs": [],
   "source": [
    "preds = MLP_EXTpoly_Level_2.predict_proba(TEST_piped)\n",
    "val_scores = [x[1]for x in preds]"
   ]
  },
  {
   "cell_type": "code",
   "execution_count": null,
   "metadata": {
    "hidden": true
   },
   "outputs": [],
   "source": []
  },
  {
   "cell_type": "code",
   "execution_count": 22,
   "metadata": {
    "hidden": true
   },
   "outputs": [],
   "source": [
    "raw_level_2_new_features_df['MLP_EXTpoly_Level2'] = val_scores"
   ]
  },
  {
   "cell_type": "code",
   "execution_count": null,
   "metadata": {
    "hidden": true
   },
   "outputs": [],
   "source": []
  },
  {
   "cell_type": "code",
   "execution_count": 23,
   "metadata": {
    "hidden": true
   },
   "outputs": [],
   "source": [
    "this_model = 'MLP_EXTpoly_Level2'\n",
    "\n",
    "raw_level_2_new_features_df[[this_model]].to_csv(level_2_preds_save_path + this_model + '.csv', \n",
    "                                                 columns = list(raw_level_2_new_features_df[[this_model]].columns),\n",
    "                                                 header = ['TARGET'],\n",
    "                                                 )"
   ]
  },
  {
   "cell_type": "code",
   "execution_count": null,
   "metadata": {
    "hidden": true
   },
   "outputs": [],
   "source": []
  },
  {
   "cell_type": "code",
   "execution_count": null,
   "metadata": {
    "hidden": true
   },
   "outputs": [],
   "source": []
  },
  {
   "cell_type": "markdown",
   "metadata": {},
   "source": [
    "# models with all features"
   ]
  },
  {
   "cell_type": "code",
   "execution_count": null,
   "metadata": {},
   "outputs": [],
   "source": []
  },
  {
   "cell_type": "code",
   "execution_count": 24,
   "metadata": {
    "scrolled": true
   },
   "outputs": [
    {
     "name": "stdout",
     "output_type": "stream",
     "text": [
      "Total original feat len is 90. Sum of feats is 90.\n",
      "Final array is length 443. final feature list is length 443.\n"
     ]
    }
   ],
   "source": [
    "total_df_piped, final_feature_list, total_pipeline, trans_list = master_pipeline(df_in = TRAIN_df,\n",
    "                                                                                 int_cutoff=20, \n",
    "                                                                                 poly_deg=4, \n",
    "                                                                                 feats_with_interaction=[]\n",
    "                                                                                 )"
   ]
  },
  {
   "cell_type": "code",
   "execution_count": null,
   "metadata": {},
   "outputs": [],
   "source": []
  },
  {
   "cell_type": "code",
   "execution_count": 25,
   "metadata": {},
   "outputs": [],
   "source": [
    "TEST_piped = total_pipeline.transform(TEST_df)"
   ]
  },
  {
   "cell_type": "code",
   "execution_count": null,
   "metadata": {},
   "outputs": [],
   "source": []
  },
  {
   "cell_type": "markdown",
   "metadata": {},
   "source": [
    "### random forest\n",
    "Kaggle: Private: 0.75813 Public:0.76088"
   ]
  },
  {
   "cell_type": "code",
   "execution_count": null,
   "metadata": {},
   "outputs": [],
   "source": []
  },
  {
   "cell_type": "code",
   "execution_count": 26,
   "metadata": {},
   "outputs": [
    {
     "data": {
      "text/plain": [
       "RandomForestClassifier(bootstrap=True, class_weight=None, criterion='gini',\n",
       "            max_depth=16, max_features='auto', max_leaf_nodes=None,\n",
       "            min_impurity_decrease=0.0, min_impurity_split=None,\n",
       "            min_samples_leaf=550, min_samples_split=2,\n",
       "            min_weight_fraction_leaf=0.0, n_estimators=40, n_jobs=1,\n",
       "            oob_score=False, random_state=0, verbose=0, warm_start=False)"
      ]
     },
     "execution_count": 26,
     "metadata": {},
     "output_type": "execute_result"
    }
   ],
   "source": [
    "RanFor_AllFeats_Level_2 = joblib.load(path_to_models + 'RanFor_AllFeats_Level_2.joblib')\n",
    "RanFor_AllFeats_Level_2"
   ]
  },
  {
   "cell_type": "code",
   "execution_count": 27,
   "metadata": {},
   "outputs": [],
   "source": [
    "preds = RanFor_AllFeats_Level_2.predict_proba(TEST_piped)\n",
    "val_scores = [x[1]for x in preds]"
   ]
  },
  {
   "cell_type": "code",
   "execution_count": null,
   "metadata": {},
   "outputs": [],
   "source": []
  },
  {
   "cell_type": "code",
   "execution_count": 28,
   "metadata": {},
   "outputs": [],
   "source": [
    "raw_level_2_new_features_df['RanFor_AllFeats_Level2'] = val_scores"
   ]
  },
  {
   "cell_type": "code",
   "execution_count": null,
   "metadata": {},
   "outputs": [],
   "source": []
  },
  {
   "cell_type": "code",
   "execution_count": 29,
   "metadata": {},
   "outputs": [],
   "source": [
    "this_model = 'RanFor_AllFeats_Level2'\n",
    "\n",
    "raw_level_2_new_features_df[[this_model]].to_csv(level_2_preds_save_path + this_model + '.csv', \n",
    "                                                 columns = list(raw_level_2_new_features_df[[this_model]].columns),\n",
    "                                                 header = ['TARGET'],\n",
    "                                                 )"
   ]
  },
  {
   "cell_type": "code",
   "execution_count": null,
   "metadata": {},
   "outputs": [],
   "source": []
  },
  {
   "cell_type": "markdown",
   "metadata": {
    "heading_collapsed": true
   },
   "source": [
    "### feature importance for random forest model above"
   ]
  },
  {
   "cell_type": "code",
   "execution_count": null,
   "metadata": {
    "hidden": true
   },
   "outputs": [],
   "source": []
  },
  {
   "cell_type": "code",
   "execution_count": 30,
   "metadata": {
    "hidden": true
   },
   "outputs": [],
   "source": [
    "# all features and importances\n",
    "feat_imports_raw = list(zip(final_feature_list, RanFor_AllFeats_Level_2.feature_importances_))\n",
    "# strip off details (polynomial order etc)\n",
    "feat_imports_stripped_details_df = pd.DataFrame( [(ast.literal_eval(x[0])[0], x[1]) for x in feat_imports_raw],\n",
    "                                               columns = ['Feature','Importance'])\n",
    "# group by 'base' feature and sum\n",
    "feats_grouped = feat_imports_stripped_details_df['Importance'].groupby(feat_imports_stripped_details_df['Feature'])\n",
    "final_feat_imports = feats_grouped.sum().to_frame()\n",
    "# make index into column, and order by Importance\n",
    "final_feat_imports.reset_index(inplace=True)\n",
    "final_feat_imports.sort_values(by = 'Importance', ascending=False, inplace=True)"
   ]
  },
  {
   "cell_type": "code",
   "execution_count": 31,
   "metadata": {
    "hidden": true
   },
   "outputs": [
    {
     "data": {
      "application/javascript": [
       "/* Put everything inside the global mpl namespace */\n",
       "window.mpl = {};\n",
       "\n",
       "\n",
       "mpl.get_websocket_type = function() {\n",
       "    if (typeof(WebSocket) !== 'undefined') {\n",
       "        return WebSocket;\n",
       "    } else if (typeof(MozWebSocket) !== 'undefined') {\n",
       "        return MozWebSocket;\n",
       "    } else {\n",
       "        alert('Your browser does not have WebSocket support.' +\n",
       "              'Please try Chrome, Safari or Firefox ≥ 6. ' +\n",
       "              'Firefox 4 and 5 are also supported but you ' +\n",
       "              'have to enable WebSockets in about:config.');\n",
       "    };\n",
       "}\n",
       "\n",
       "mpl.figure = function(figure_id, websocket, ondownload, parent_element) {\n",
       "    this.id = figure_id;\n",
       "\n",
       "    this.ws = websocket;\n",
       "\n",
       "    this.supports_binary = (this.ws.binaryType != undefined);\n",
       "\n",
       "    if (!this.supports_binary) {\n",
       "        var warnings = document.getElementById(\"mpl-warnings\");\n",
       "        if (warnings) {\n",
       "            warnings.style.display = 'block';\n",
       "            warnings.textContent = (\n",
       "                \"This browser does not support binary websocket messages. \" +\n",
       "                    \"Performance may be slow.\");\n",
       "        }\n",
       "    }\n",
       "\n",
       "    this.imageObj = new Image();\n",
       "\n",
       "    this.context = undefined;\n",
       "    this.message = undefined;\n",
       "    this.canvas = undefined;\n",
       "    this.rubberband_canvas = undefined;\n",
       "    this.rubberband_context = undefined;\n",
       "    this.format_dropdown = undefined;\n",
       "\n",
       "    this.image_mode = 'full';\n",
       "\n",
       "    this.root = $('<div/>');\n",
       "    this._root_extra_style(this.root)\n",
       "    this.root.attr('style', 'display: inline-block');\n",
       "\n",
       "    $(parent_element).append(this.root);\n",
       "\n",
       "    this._init_header(this);\n",
       "    this._init_canvas(this);\n",
       "    this._init_toolbar(this);\n",
       "\n",
       "    var fig = this;\n",
       "\n",
       "    this.waiting = false;\n",
       "\n",
       "    this.ws.onopen =  function () {\n",
       "            fig.send_message(\"supports_binary\", {value: fig.supports_binary});\n",
       "            fig.send_message(\"send_image_mode\", {});\n",
       "            if (mpl.ratio != 1) {\n",
       "                fig.send_message(\"set_dpi_ratio\", {'dpi_ratio': mpl.ratio});\n",
       "            }\n",
       "            fig.send_message(\"refresh\", {});\n",
       "        }\n",
       "\n",
       "    this.imageObj.onload = function() {\n",
       "            if (fig.image_mode == 'full') {\n",
       "                // Full images could contain transparency (where diff images\n",
       "                // almost always do), so we need to clear the canvas so that\n",
       "                // there is no ghosting.\n",
       "                fig.context.clearRect(0, 0, fig.canvas.width, fig.canvas.height);\n",
       "            }\n",
       "            fig.context.drawImage(fig.imageObj, 0, 0);\n",
       "        };\n",
       "\n",
       "    this.imageObj.onunload = function() {\n",
       "        fig.ws.close();\n",
       "    }\n",
       "\n",
       "    this.ws.onmessage = this._make_on_message_function(this);\n",
       "\n",
       "    this.ondownload = ondownload;\n",
       "}\n",
       "\n",
       "mpl.figure.prototype._init_header = function() {\n",
       "    var titlebar = $(\n",
       "        '<div class=\"ui-dialog-titlebar ui-widget-header ui-corner-all ' +\n",
       "        'ui-helper-clearfix\"/>');\n",
       "    var titletext = $(\n",
       "        '<div class=\"ui-dialog-title\" style=\"width: 100%; ' +\n",
       "        'text-align: center; padding: 3px;\"/>');\n",
       "    titlebar.append(titletext)\n",
       "    this.root.append(titlebar);\n",
       "    this.header = titletext[0];\n",
       "}\n",
       "\n",
       "\n",
       "\n",
       "mpl.figure.prototype._canvas_extra_style = function(canvas_div) {\n",
       "\n",
       "}\n",
       "\n",
       "\n",
       "mpl.figure.prototype._root_extra_style = function(canvas_div) {\n",
       "\n",
       "}\n",
       "\n",
       "mpl.figure.prototype._init_canvas = function() {\n",
       "    var fig = this;\n",
       "\n",
       "    var canvas_div = $('<div/>');\n",
       "\n",
       "    canvas_div.attr('style', 'position: relative; clear: both; outline: 0');\n",
       "\n",
       "    function canvas_keyboard_event(event) {\n",
       "        return fig.key_event(event, event['data']);\n",
       "    }\n",
       "\n",
       "    canvas_div.keydown('key_press', canvas_keyboard_event);\n",
       "    canvas_div.keyup('key_release', canvas_keyboard_event);\n",
       "    this.canvas_div = canvas_div\n",
       "    this._canvas_extra_style(canvas_div)\n",
       "    this.root.append(canvas_div);\n",
       "\n",
       "    var canvas = $('<canvas/>');\n",
       "    canvas.addClass('mpl-canvas');\n",
       "    canvas.attr('style', \"left: 0; top: 0; z-index: 0; outline: 0\")\n",
       "\n",
       "    this.canvas = canvas[0];\n",
       "    this.context = canvas[0].getContext(\"2d\");\n",
       "\n",
       "    var backingStore = this.context.backingStorePixelRatio ||\n",
       "\tthis.context.webkitBackingStorePixelRatio ||\n",
       "\tthis.context.mozBackingStorePixelRatio ||\n",
       "\tthis.context.msBackingStorePixelRatio ||\n",
       "\tthis.context.oBackingStorePixelRatio ||\n",
       "\tthis.context.backingStorePixelRatio || 1;\n",
       "\n",
       "    mpl.ratio = (window.devicePixelRatio || 1) / backingStore;\n",
       "\n",
       "    var rubberband = $('<canvas/>');\n",
       "    rubberband.attr('style', \"position: absolute; left: 0; top: 0; z-index: 1;\")\n",
       "\n",
       "    var pass_mouse_events = true;\n",
       "\n",
       "    canvas_div.resizable({\n",
       "        start: function(event, ui) {\n",
       "            pass_mouse_events = false;\n",
       "        },\n",
       "        resize: function(event, ui) {\n",
       "            fig.request_resize(ui.size.width, ui.size.height);\n",
       "        },\n",
       "        stop: function(event, ui) {\n",
       "            pass_mouse_events = true;\n",
       "            fig.request_resize(ui.size.width, ui.size.height);\n",
       "        },\n",
       "    });\n",
       "\n",
       "    function mouse_event_fn(event) {\n",
       "        if (pass_mouse_events)\n",
       "            return fig.mouse_event(event, event['data']);\n",
       "    }\n",
       "\n",
       "    rubberband.mousedown('button_press', mouse_event_fn);\n",
       "    rubberband.mouseup('button_release', mouse_event_fn);\n",
       "    // Throttle sequential mouse events to 1 every 20ms.\n",
       "    rubberband.mousemove('motion_notify', mouse_event_fn);\n",
       "\n",
       "    rubberband.mouseenter('figure_enter', mouse_event_fn);\n",
       "    rubberband.mouseleave('figure_leave', mouse_event_fn);\n",
       "\n",
       "    canvas_div.on(\"wheel\", function (event) {\n",
       "        event = event.originalEvent;\n",
       "        event['data'] = 'scroll'\n",
       "        if (event.deltaY < 0) {\n",
       "            event.step = 1;\n",
       "        } else {\n",
       "            event.step = -1;\n",
       "        }\n",
       "        mouse_event_fn(event);\n",
       "    });\n",
       "\n",
       "    canvas_div.append(canvas);\n",
       "    canvas_div.append(rubberband);\n",
       "\n",
       "    this.rubberband = rubberband;\n",
       "    this.rubberband_canvas = rubberband[0];\n",
       "    this.rubberband_context = rubberband[0].getContext(\"2d\");\n",
       "    this.rubberband_context.strokeStyle = \"#000000\";\n",
       "\n",
       "    this._resize_canvas = function(width, height) {\n",
       "        // Keep the size of the canvas, canvas container, and rubber band\n",
       "        // canvas in synch.\n",
       "        canvas_div.css('width', width)\n",
       "        canvas_div.css('height', height)\n",
       "\n",
       "        canvas.attr('width', width * mpl.ratio);\n",
       "        canvas.attr('height', height * mpl.ratio);\n",
       "        canvas.attr('style', 'width: ' + width + 'px; height: ' + height + 'px;');\n",
       "\n",
       "        rubberband.attr('width', width);\n",
       "        rubberband.attr('height', height);\n",
       "    }\n",
       "\n",
       "    // Set the figure to an initial 600x600px, this will subsequently be updated\n",
       "    // upon first draw.\n",
       "    this._resize_canvas(600, 600);\n",
       "\n",
       "    // Disable right mouse context menu.\n",
       "    $(this.rubberband_canvas).bind(\"contextmenu\",function(e){\n",
       "        return false;\n",
       "    });\n",
       "\n",
       "    function set_focus () {\n",
       "        canvas.focus();\n",
       "        canvas_div.focus();\n",
       "    }\n",
       "\n",
       "    window.setTimeout(set_focus, 100);\n",
       "}\n",
       "\n",
       "mpl.figure.prototype._init_toolbar = function() {\n",
       "    var fig = this;\n",
       "\n",
       "    var nav_element = $('<div/>')\n",
       "    nav_element.attr('style', 'width: 100%');\n",
       "    this.root.append(nav_element);\n",
       "\n",
       "    // Define a callback function for later on.\n",
       "    function toolbar_event(event) {\n",
       "        return fig.toolbar_button_onclick(event['data']);\n",
       "    }\n",
       "    function toolbar_mouse_event(event) {\n",
       "        return fig.toolbar_button_onmouseover(event['data']);\n",
       "    }\n",
       "\n",
       "    for(var toolbar_ind in mpl.toolbar_items) {\n",
       "        var name = mpl.toolbar_items[toolbar_ind][0];\n",
       "        var tooltip = mpl.toolbar_items[toolbar_ind][1];\n",
       "        var image = mpl.toolbar_items[toolbar_ind][2];\n",
       "        var method_name = mpl.toolbar_items[toolbar_ind][3];\n",
       "\n",
       "        if (!name) {\n",
       "            // put a spacer in here.\n",
       "            continue;\n",
       "        }\n",
       "        var button = $('<button/>');\n",
       "        button.addClass('ui-button ui-widget ui-state-default ui-corner-all ' +\n",
       "                        'ui-button-icon-only');\n",
       "        button.attr('role', 'button');\n",
       "        button.attr('aria-disabled', 'false');\n",
       "        button.click(method_name, toolbar_event);\n",
       "        button.mouseover(tooltip, toolbar_mouse_event);\n",
       "\n",
       "        var icon_img = $('<span/>');\n",
       "        icon_img.addClass('ui-button-icon-primary ui-icon');\n",
       "        icon_img.addClass(image);\n",
       "        icon_img.addClass('ui-corner-all');\n",
       "\n",
       "        var tooltip_span = $('<span/>');\n",
       "        tooltip_span.addClass('ui-button-text');\n",
       "        tooltip_span.html(tooltip);\n",
       "\n",
       "        button.append(icon_img);\n",
       "        button.append(tooltip_span);\n",
       "\n",
       "        nav_element.append(button);\n",
       "    }\n",
       "\n",
       "    var fmt_picker_span = $('<span/>');\n",
       "\n",
       "    var fmt_picker = $('<select/>');\n",
       "    fmt_picker.addClass('mpl-toolbar-option ui-widget ui-widget-content');\n",
       "    fmt_picker_span.append(fmt_picker);\n",
       "    nav_element.append(fmt_picker_span);\n",
       "    this.format_dropdown = fmt_picker[0];\n",
       "\n",
       "    for (var ind in mpl.extensions) {\n",
       "        var fmt = mpl.extensions[ind];\n",
       "        var option = $(\n",
       "            '<option/>', {selected: fmt === mpl.default_extension}).html(fmt);\n",
       "        fmt_picker.append(option)\n",
       "    }\n",
       "\n",
       "    // Add hover states to the ui-buttons\n",
       "    $( \".ui-button\" ).hover(\n",
       "        function() { $(this).addClass(\"ui-state-hover\");},\n",
       "        function() { $(this).removeClass(\"ui-state-hover\");}\n",
       "    );\n",
       "\n",
       "    var status_bar = $('<span class=\"mpl-message\"/>');\n",
       "    nav_element.append(status_bar);\n",
       "    this.message = status_bar[0];\n",
       "}\n",
       "\n",
       "mpl.figure.prototype.request_resize = function(x_pixels, y_pixels) {\n",
       "    // Request matplotlib to resize the figure. Matplotlib will then trigger a resize in the client,\n",
       "    // which will in turn request a refresh of the image.\n",
       "    this.send_message('resize', {'width': x_pixels, 'height': y_pixels});\n",
       "}\n",
       "\n",
       "mpl.figure.prototype.send_message = function(type, properties) {\n",
       "    properties['type'] = type;\n",
       "    properties['figure_id'] = this.id;\n",
       "    this.ws.send(JSON.stringify(properties));\n",
       "}\n",
       "\n",
       "mpl.figure.prototype.send_draw_message = function() {\n",
       "    if (!this.waiting) {\n",
       "        this.waiting = true;\n",
       "        this.ws.send(JSON.stringify({type: \"draw\", figure_id: this.id}));\n",
       "    }\n",
       "}\n",
       "\n",
       "\n",
       "mpl.figure.prototype.handle_save = function(fig, msg) {\n",
       "    var format_dropdown = fig.format_dropdown;\n",
       "    var format = format_dropdown.options[format_dropdown.selectedIndex].value;\n",
       "    fig.ondownload(fig, format);\n",
       "}\n",
       "\n",
       "\n",
       "mpl.figure.prototype.handle_resize = function(fig, msg) {\n",
       "    var size = msg['size'];\n",
       "    if (size[0] != fig.canvas.width || size[1] != fig.canvas.height) {\n",
       "        fig._resize_canvas(size[0], size[1]);\n",
       "        fig.send_message(\"refresh\", {});\n",
       "    };\n",
       "}\n",
       "\n",
       "mpl.figure.prototype.handle_rubberband = function(fig, msg) {\n",
       "    var x0 = msg['x0'] / mpl.ratio;\n",
       "    var y0 = (fig.canvas.height - msg['y0']) / mpl.ratio;\n",
       "    var x1 = msg['x1'] / mpl.ratio;\n",
       "    var y1 = (fig.canvas.height - msg['y1']) / mpl.ratio;\n",
       "    x0 = Math.floor(x0) + 0.5;\n",
       "    y0 = Math.floor(y0) + 0.5;\n",
       "    x1 = Math.floor(x1) + 0.5;\n",
       "    y1 = Math.floor(y1) + 0.5;\n",
       "    var min_x = Math.min(x0, x1);\n",
       "    var min_y = Math.min(y0, y1);\n",
       "    var width = Math.abs(x1 - x0);\n",
       "    var height = Math.abs(y1 - y0);\n",
       "\n",
       "    fig.rubberband_context.clearRect(\n",
       "        0, 0, fig.canvas.width, fig.canvas.height);\n",
       "\n",
       "    fig.rubberband_context.strokeRect(min_x, min_y, width, height);\n",
       "}\n",
       "\n",
       "mpl.figure.prototype.handle_figure_label = function(fig, msg) {\n",
       "    // Updates the figure title.\n",
       "    fig.header.textContent = msg['label'];\n",
       "}\n",
       "\n",
       "mpl.figure.prototype.handle_cursor = function(fig, msg) {\n",
       "    var cursor = msg['cursor'];\n",
       "    switch(cursor)\n",
       "    {\n",
       "    case 0:\n",
       "        cursor = 'pointer';\n",
       "        break;\n",
       "    case 1:\n",
       "        cursor = 'default';\n",
       "        break;\n",
       "    case 2:\n",
       "        cursor = 'crosshair';\n",
       "        break;\n",
       "    case 3:\n",
       "        cursor = 'move';\n",
       "        break;\n",
       "    }\n",
       "    fig.rubberband_canvas.style.cursor = cursor;\n",
       "}\n",
       "\n",
       "mpl.figure.prototype.handle_message = function(fig, msg) {\n",
       "    fig.message.textContent = msg['message'];\n",
       "}\n",
       "\n",
       "mpl.figure.prototype.handle_draw = function(fig, msg) {\n",
       "    // Request the server to send over a new figure.\n",
       "    fig.send_draw_message();\n",
       "}\n",
       "\n",
       "mpl.figure.prototype.handle_image_mode = function(fig, msg) {\n",
       "    fig.image_mode = msg['mode'];\n",
       "}\n",
       "\n",
       "mpl.figure.prototype.updated_canvas_event = function() {\n",
       "    // Called whenever the canvas gets updated.\n",
       "    this.send_message(\"ack\", {});\n",
       "}\n",
       "\n",
       "// A function to construct a web socket function for onmessage handling.\n",
       "// Called in the figure constructor.\n",
       "mpl.figure.prototype._make_on_message_function = function(fig) {\n",
       "    return function socket_on_message(evt) {\n",
       "        if (evt.data instanceof Blob) {\n",
       "            /* FIXME: We get \"Resource interpreted as Image but\n",
       "             * transferred with MIME type text/plain:\" errors on\n",
       "             * Chrome.  But how to set the MIME type?  It doesn't seem\n",
       "             * to be part of the websocket stream */\n",
       "            evt.data.type = \"image/png\";\n",
       "\n",
       "            /* Free the memory for the previous frames */\n",
       "            if (fig.imageObj.src) {\n",
       "                (window.URL || window.webkitURL).revokeObjectURL(\n",
       "                    fig.imageObj.src);\n",
       "            }\n",
       "\n",
       "            fig.imageObj.src = (window.URL || window.webkitURL).createObjectURL(\n",
       "                evt.data);\n",
       "            fig.updated_canvas_event();\n",
       "            fig.waiting = false;\n",
       "            return;\n",
       "        }\n",
       "        else if (typeof evt.data === 'string' && evt.data.slice(0, 21) == \"data:image/png;base64\") {\n",
       "            fig.imageObj.src = evt.data;\n",
       "            fig.updated_canvas_event();\n",
       "            fig.waiting = false;\n",
       "            return;\n",
       "        }\n",
       "\n",
       "        var msg = JSON.parse(evt.data);\n",
       "        var msg_type = msg['type'];\n",
       "\n",
       "        // Call the  \"handle_{type}\" callback, which takes\n",
       "        // the figure and JSON message as its only arguments.\n",
       "        try {\n",
       "            var callback = fig[\"handle_\" + msg_type];\n",
       "        } catch (e) {\n",
       "            console.log(\"No handler for the '\" + msg_type + \"' message type: \", msg);\n",
       "            return;\n",
       "        }\n",
       "\n",
       "        if (callback) {\n",
       "            try {\n",
       "                // console.log(\"Handling '\" + msg_type + \"' message: \", msg);\n",
       "                callback(fig, msg);\n",
       "            } catch (e) {\n",
       "                console.log(\"Exception inside the 'handler_\" + msg_type + \"' callback:\", e, e.stack, msg);\n",
       "            }\n",
       "        }\n",
       "    };\n",
       "}\n",
       "\n",
       "// from http://stackoverflow.com/questions/1114465/getting-mouse-location-in-canvas\n",
       "mpl.findpos = function(e) {\n",
       "    //this section is from http://www.quirksmode.org/js/events_properties.html\n",
       "    var targ;\n",
       "    if (!e)\n",
       "        e = window.event;\n",
       "    if (e.target)\n",
       "        targ = e.target;\n",
       "    else if (e.srcElement)\n",
       "        targ = e.srcElement;\n",
       "    if (targ.nodeType == 3) // defeat Safari bug\n",
       "        targ = targ.parentNode;\n",
       "\n",
       "    // jQuery normalizes the pageX and pageY\n",
       "    // pageX,Y are the mouse positions relative to the document\n",
       "    // offset() returns the position of the element relative to the document\n",
       "    var x = e.pageX - $(targ).offset().left;\n",
       "    var y = e.pageY - $(targ).offset().top;\n",
       "\n",
       "    return {\"x\": x, \"y\": y};\n",
       "};\n",
       "\n",
       "/*\n",
       " * return a copy of an object with only non-object keys\n",
       " * we need this to avoid circular references\n",
       " * http://stackoverflow.com/a/24161582/3208463\n",
       " */\n",
       "function simpleKeys (original) {\n",
       "  return Object.keys(original).reduce(function (obj, key) {\n",
       "    if (typeof original[key] !== 'object')\n",
       "        obj[key] = original[key]\n",
       "    return obj;\n",
       "  }, {});\n",
       "}\n",
       "\n",
       "mpl.figure.prototype.mouse_event = function(event, name) {\n",
       "    var canvas_pos = mpl.findpos(event)\n",
       "\n",
       "    if (name === 'button_press')\n",
       "    {\n",
       "        this.canvas.focus();\n",
       "        this.canvas_div.focus();\n",
       "    }\n",
       "\n",
       "    var x = canvas_pos.x * mpl.ratio;\n",
       "    var y = canvas_pos.y * mpl.ratio;\n",
       "\n",
       "    this.send_message(name, {x: x, y: y, button: event.button,\n",
       "                             step: event.step,\n",
       "                             guiEvent: simpleKeys(event)});\n",
       "\n",
       "    /* This prevents the web browser from automatically changing to\n",
       "     * the text insertion cursor when the button is pressed.  We want\n",
       "     * to control all of the cursor setting manually through the\n",
       "     * 'cursor' event from matplotlib */\n",
       "    event.preventDefault();\n",
       "    return false;\n",
       "}\n",
       "\n",
       "mpl.figure.prototype._key_event_extra = function(event, name) {\n",
       "    // Handle any extra behaviour associated with a key event\n",
       "}\n",
       "\n",
       "mpl.figure.prototype.key_event = function(event, name) {\n",
       "\n",
       "    // Prevent repeat events\n",
       "    if (name == 'key_press')\n",
       "    {\n",
       "        if (event.which === this._key)\n",
       "            return;\n",
       "        else\n",
       "            this._key = event.which;\n",
       "    }\n",
       "    if (name == 'key_release')\n",
       "        this._key = null;\n",
       "\n",
       "    var value = '';\n",
       "    if (event.ctrlKey && event.which != 17)\n",
       "        value += \"ctrl+\";\n",
       "    if (event.altKey && event.which != 18)\n",
       "        value += \"alt+\";\n",
       "    if (event.shiftKey && event.which != 16)\n",
       "        value += \"shift+\";\n",
       "\n",
       "    value += 'k';\n",
       "    value += event.which.toString();\n",
       "\n",
       "    this._key_event_extra(event, name);\n",
       "\n",
       "    this.send_message(name, {key: value,\n",
       "                             guiEvent: simpleKeys(event)});\n",
       "    return false;\n",
       "}\n",
       "\n",
       "mpl.figure.prototype.toolbar_button_onclick = function(name) {\n",
       "    if (name == 'download') {\n",
       "        this.handle_save(this, null);\n",
       "    } else {\n",
       "        this.send_message(\"toolbar_button\", {name: name});\n",
       "    }\n",
       "};\n",
       "\n",
       "mpl.figure.prototype.toolbar_button_onmouseover = function(tooltip) {\n",
       "    this.message.textContent = tooltip;\n",
       "};\n",
       "mpl.toolbar_items = [[\"Home\", \"Reset original view\", \"fa fa-home icon-home\", \"home\"], [\"Back\", \"Back to  previous view\", \"fa fa-arrow-left icon-arrow-left\", \"back\"], [\"Forward\", \"Forward to next view\", \"fa fa-arrow-right icon-arrow-right\", \"forward\"], [\"\", \"\", \"\", \"\"], [\"Pan\", \"Pan axes with left mouse, zoom with right\", \"fa fa-arrows icon-move\", \"pan\"], [\"Zoom\", \"Zoom to rectangle\", \"fa fa-square-o icon-check-empty\", \"zoom\"], [\"\", \"\", \"\", \"\"], [\"Download\", \"Download plot\", \"fa fa-floppy-o icon-save\", \"download\"]];\n",
       "\n",
       "mpl.extensions = [\"eps\", \"jpeg\", \"pdf\", \"png\", \"ps\", \"raw\", \"svg\", \"tif\"];\n",
       "\n",
       "mpl.default_extension = \"png\";var comm_websocket_adapter = function(comm) {\n",
       "    // Create a \"websocket\"-like object which calls the given IPython comm\n",
       "    // object with the appropriate methods. Currently this is a non binary\n",
       "    // socket, so there is still some room for performance tuning.\n",
       "    var ws = {};\n",
       "\n",
       "    ws.close = function() {\n",
       "        comm.close()\n",
       "    };\n",
       "    ws.send = function(m) {\n",
       "        //console.log('sending', m);\n",
       "        comm.send(m);\n",
       "    };\n",
       "    // Register the callback with on_msg.\n",
       "    comm.on_msg(function(msg) {\n",
       "        //console.log('receiving', msg['content']['data'], msg);\n",
       "        // Pass the mpl event to the overridden (by mpl) onmessage function.\n",
       "        ws.onmessage(msg['content']['data'])\n",
       "    });\n",
       "    return ws;\n",
       "}\n",
       "\n",
       "mpl.mpl_figure_comm = function(comm, msg) {\n",
       "    // This is the function which gets called when the mpl process\n",
       "    // starts-up an IPython Comm through the \"matplotlib\" channel.\n",
       "\n",
       "    var id = msg.content.data.id;\n",
       "    // Get hold of the div created by the display call when the Comm\n",
       "    // socket was opened in Python.\n",
       "    var element = $(\"#\" + id);\n",
       "    var ws_proxy = comm_websocket_adapter(comm)\n",
       "\n",
       "    function ondownload(figure, format) {\n",
       "        window.open(figure.imageObj.src);\n",
       "    }\n",
       "\n",
       "    var fig = new mpl.figure(id, ws_proxy,\n",
       "                           ondownload,\n",
       "                           element.get(0));\n",
       "\n",
       "    // Call onopen now - mpl needs it, as it is assuming we've passed it a real\n",
       "    // web socket which is closed, not our websocket->open comm proxy.\n",
       "    ws_proxy.onopen();\n",
       "\n",
       "    fig.parent_element = element.get(0);\n",
       "    fig.cell_info = mpl.find_output_cell(\"<div id='\" + id + \"'></div>\");\n",
       "    if (!fig.cell_info) {\n",
       "        console.error(\"Failed to find cell for figure\", id, fig);\n",
       "        return;\n",
       "    }\n",
       "\n",
       "    var output_index = fig.cell_info[2]\n",
       "    var cell = fig.cell_info[0];\n",
       "\n",
       "};\n",
       "\n",
       "mpl.figure.prototype.handle_close = function(fig, msg) {\n",
       "    var width = fig.canvas.width/mpl.ratio\n",
       "    fig.root.unbind('remove')\n",
       "\n",
       "    // Update the output cell to use the data from the current canvas.\n",
       "    fig.push_to_output();\n",
       "    var dataURL = fig.canvas.toDataURL();\n",
       "    // Re-enable the keyboard manager in IPython - without this line, in FF,\n",
       "    // the notebook keyboard shortcuts fail.\n",
       "    IPython.keyboard_manager.enable()\n",
       "    $(fig.parent_element).html('<img src=\"' + dataURL + '\" width=\"' + width + '\">');\n",
       "    fig.close_ws(fig, msg);\n",
       "}\n",
       "\n",
       "mpl.figure.prototype.close_ws = function(fig, msg){\n",
       "    fig.send_message('closing', msg);\n",
       "    // fig.ws.close()\n",
       "}\n",
       "\n",
       "mpl.figure.prototype.push_to_output = function(remove_interactive) {\n",
       "    // Turn the data on the canvas into data in the output cell.\n",
       "    var width = this.canvas.width/mpl.ratio\n",
       "    var dataURL = this.canvas.toDataURL();\n",
       "    this.cell_info[1]['text/html'] = '<img src=\"' + dataURL + '\" width=\"' + width + '\">';\n",
       "}\n",
       "\n",
       "mpl.figure.prototype.updated_canvas_event = function() {\n",
       "    // Tell IPython that the notebook contents must change.\n",
       "    IPython.notebook.set_dirty(true);\n",
       "    this.send_message(\"ack\", {});\n",
       "    var fig = this;\n",
       "    // Wait a second, then push the new image to the DOM so\n",
       "    // that it is saved nicely (might be nice to debounce this).\n",
       "    setTimeout(function () { fig.push_to_output() }, 1000);\n",
       "}\n",
       "\n",
       "mpl.figure.prototype._init_toolbar = function() {\n",
       "    var fig = this;\n",
       "\n",
       "    var nav_element = $('<div/>')\n",
       "    nav_element.attr('style', 'width: 100%');\n",
       "    this.root.append(nav_element);\n",
       "\n",
       "    // Define a callback function for later on.\n",
       "    function toolbar_event(event) {\n",
       "        return fig.toolbar_button_onclick(event['data']);\n",
       "    }\n",
       "    function toolbar_mouse_event(event) {\n",
       "        return fig.toolbar_button_onmouseover(event['data']);\n",
       "    }\n",
       "\n",
       "    for(var toolbar_ind in mpl.toolbar_items){\n",
       "        var name = mpl.toolbar_items[toolbar_ind][0];\n",
       "        var tooltip = mpl.toolbar_items[toolbar_ind][1];\n",
       "        var image = mpl.toolbar_items[toolbar_ind][2];\n",
       "        var method_name = mpl.toolbar_items[toolbar_ind][3];\n",
       "\n",
       "        if (!name) { continue; };\n",
       "\n",
       "        var button = $('<button class=\"btn btn-default\" href=\"#\" title=\"' + name + '\"><i class=\"fa ' + image + ' fa-lg\"></i></button>');\n",
       "        button.click(method_name, toolbar_event);\n",
       "        button.mouseover(tooltip, toolbar_mouse_event);\n",
       "        nav_element.append(button);\n",
       "    }\n",
       "\n",
       "    // Add the status bar.\n",
       "    var status_bar = $('<span class=\"mpl-message\" style=\"text-align:right; float: right;\"/>');\n",
       "    nav_element.append(status_bar);\n",
       "    this.message = status_bar[0];\n",
       "\n",
       "    // Add the close button to the window.\n",
       "    var buttongrp = $('<div class=\"btn-group inline pull-right\"></div>');\n",
       "    var button = $('<button class=\"btn btn-mini btn-primary\" href=\"#\" title=\"Stop Interaction\"><i class=\"fa fa-power-off icon-remove icon-large\"></i></button>');\n",
       "    button.click(function (evt) { fig.handle_close(fig, {}); } );\n",
       "    button.mouseover('Stop Interaction', toolbar_mouse_event);\n",
       "    buttongrp.append(button);\n",
       "    var titlebar = this.root.find($('.ui-dialog-titlebar'));\n",
       "    titlebar.prepend(buttongrp);\n",
       "}\n",
       "\n",
       "mpl.figure.prototype._root_extra_style = function(el){\n",
       "    var fig = this\n",
       "    el.on(\"remove\", function(){\n",
       "\tfig.close_ws(fig, {});\n",
       "    });\n",
       "}\n",
       "\n",
       "mpl.figure.prototype._canvas_extra_style = function(el){\n",
       "    // this is important to make the div 'focusable\n",
       "    el.attr('tabindex', 0)\n",
       "    // reach out to IPython and tell the keyboard manager to turn it's self\n",
       "    // off when our div gets focus\n",
       "\n",
       "    // location in version 3\n",
       "    if (IPython.notebook.keyboard_manager) {\n",
       "        IPython.notebook.keyboard_manager.register_events(el);\n",
       "    }\n",
       "    else {\n",
       "        // location in version 2\n",
       "        IPython.keyboard_manager.register_events(el);\n",
       "    }\n",
       "\n",
       "}\n",
       "\n",
       "mpl.figure.prototype._key_event_extra = function(event, name) {\n",
       "    var manager = IPython.notebook.keyboard_manager;\n",
       "    if (!manager)\n",
       "        manager = IPython.keyboard_manager;\n",
       "\n",
       "    // Check for shift+enter\n",
       "    if (event.shiftKey && event.which == 13) {\n",
       "        this.canvas_div.blur();\n",
       "        event.shiftKey = false;\n",
       "        // Send a \"J\" for go to next cell\n",
       "        event.which = 74;\n",
       "        event.keyCode = 74;\n",
       "        manager.command_mode();\n",
       "        manager.handle_keydown(event);\n",
       "    }\n",
       "}\n",
       "\n",
       "mpl.figure.prototype.handle_save = function(fig, msg) {\n",
       "    fig.ondownload(fig, null);\n",
       "}\n",
       "\n",
       "\n",
       "mpl.find_output_cell = function(html_output) {\n",
       "    // Return the cell and output element which can be found *uniquely* in the notebook.\n",
       "    // Note - this is a bit hacky, but it is done because the \"notebook_saving.Notebook\"\n",
       "    // IPython event is triggered only after the cells have been serialised, which for\n",
       "    // our purposes (turning an active figure into a static one), is too late.\n",
       "    var cells = IPython.notebook.get_cells();\n",
       "    var ncells = cells.length;\n",
       "    for (var i=0; i<ncells; i++) {\n",
       "        var cell = cells[i];\n",
       "        if (cell.cell_type === 'code'){\n",
       "            for (var j=0; j<cell.output_area.outputs.length; j++) {\n",
       "                var data = cell.output_area.outputs[j];\n",
       "                if (data.data) {\n",
       "                    // IPython >= 3 moved mimebundle to data attribute of output\n",
       "                    data = data.data;\n",
       "                }\n",
       "                if (data['text/html'] == html_output) {\n",
       "                    return [cell, data, j];\n",
       "                }\n",
       "            }\n",
       "        }\n",
       "    }\n",
       "}\n",
       "\n",
       "// Register the function which deals with the matplotlib target/channel.\n",
       "// The kernel may be null if the page has been refreshed.\n",
       "if (IPython.notebook.kernel != null) {\n",
       "    IPython.notebook.kernel.comm_manager.register_target('matplotlib', mpl.mpl_figure_comm);\n",
       "}\n"
      ],
      "text/plain": [
       "<IPython.core.display.Javascript object>"
      ]
     },
     "metadata": {},
     "output_type": "display_data"
    },
    {
     "data": {
      "text/html": [
       "<img src=\"data:image/png;base64,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\" width=\"639.6666666666666\">"
      ],
      "text/plain": [
       "<IPython.core.display.HTML object>"
      ]
     },
     "metadata": {},
     "output_type": "display_data"
    }
   ],
   "source": [
    "sns.barplot(x=\"Feature\", y=\"Importance\", data=final_feat_imports[:20])\n",
    "plt.xticks(rotation=90)\n",
    "plt.tight_layout()"
   ]
  },
  {
   "cell_type": "code",
   "execution_count": null,
   "metadata": {
    "hidden": true
   },
   "outputs": [],
   "source": []
  },
  {
   "cell_type": "markdown",
   "metadata": {
    "heading_collapsed": true
   },
   "source": [
    "### log reg\n",
    "Kaggle: Private: 0.76158 Public: 0.76412"
   ]
  },
  {
   "cell_type": "code",
   "execution_count": null,
   "metadata": {
    "hidden": true
   },
   "outputs": [],
   "source": []
  },
  {
   "cell_type": "code",
   "execution_count": 46,
   "metadata": {
    "hidden": true
   },
   "outputs": [
    {
     "data": {
      "text/plain": [
       "LogisticRegression(C=179.0, class_weight=None, dual=False, fit_intercept=True,\n",
       "          intercept_scaling=1, max_iter=100, multi_class='ovr', n_jobs=1,\n",
       "          penalty='l2', random_state=0, solver='liblinear', tol=0.0001,\n",
       "          verbose=0, warm_start=False)"
      ]
     },
     "execution_count": 46,
     "metadata": {},
     "output_type": "execute_result"
    }
   ],
   "source": [
    "LogReg_AllFeats_Level_2 = joblib.load(path_to_models + 'LogReg_AllFeats_Level_2.joblib')\n",
    "LogReg_AllFeats_Level_2"
   ]
  },
  {
   "cell_type": "code",
   "execution_count": 47,
   "metadata": {
    "hidden": true
   },
   "outputs": [],
   "source": [
    "preds = LogReg_AllFeats_Level_2.predict_proba(TEST_piped)\n",
    "val_scores = [x[1]for x in preds]"
   ]
  },
  {
   "cell_type": "code",
   "execution_count": null,
   "metadata": {
    "hidden": true
   },
   "outputs": [],
   "source": []
  },
  {
   "cell_type": "code",
   "execution_count": 48,
   "metadata": {
    "hidden": true
   },
   "outputs": [],
   "source": [
    "raw_level_2_new_features_df['LogReg_AllFeats_Level2'] = val_scores"
   ]
  },
  {
   "cell_type": "code",
   "execution_count": null,
   "metadata": {
    "hidden": true
   },
   "outputs": [],
   "source": []
  },
  {
   "cell_type": "code",
   "execution_count": 49,
   "metadata": {
    "hidden": true
   },
   "outputs": [],
   "source": [
    "this_model = 'LogReg_AllFeats_Level2'\n",
    "\n",
    "raw_level_2_new_features_df[[this_model]].to_csv(level_2_preds_save_path + this_model + '.csv', \n",
    "                                                 columns = list(raw_level_2_new_features_df[[this_model]].columns),\n",
    "                                                 header = ['TARGET'],\n",
    "                                                 )"
   ]
  },
  {
   "cell_type": "code",
   "execution_count": null,
   "metadata": {
    "hidden": true
   },
   "outputs": [],
   "source": []
  },
  {
   "cell_type": "markdown",
   "metadata": {
    "heading_collapsed": true
   },
   "source": [
    "### MLP Classifier\n",
    "Kaggle: Private: 0.75735 Public: 0.76152"
   ]
  },
  {
   "cell_type": "code",
   "execution_count": null,
   "metadata": {
    "hidden": true
   },
   "outputs": [],
   "source": []
  },
  {
   "cell_type": "code",
   "execution_count": 50,
   "metadata": {
    "hidden": true
   },
   "outputs": [
    {
     "data": {
      "text/plain": [
       "MLPClassifier(activation='relu', alpha=0.05, batch_size='auto', beta_1=0.9,\n",
       "       beta_2=0.999, early_stopping=False, epsilon=1e-08,\n",
       "       hidden_layer_sizes=(55,), learning_rate='constant',\n",
       "       learning_rate_init=0.001, max_iter=200, momentum=0.9,\n",
       "       nesterovs_momentum=True, power_t=0.5, random_state=0, shuffle=True,\n",
       "       solver='adam', tol=0.0001, validation_fraction=0.1, verbose=False,\n",
       "       warm_start=False)"
      ]
     },
     "execution_count": 50,
     "metadata": {},
     "output_type": "execute_result"
    }
   ],
   "source": [
    "MLP_AllFeats_Level_2 = joblib.load(path_to_models + 'MLP_AllFeats_Level_2.joblib')\n",
    "MLP_AllFeats_Level_2"
   ]
  },
  {
   "cell_type": "code",
   "execution_count": 51,
   "metadata": {
    "hidden": true
   },
   "outputs": [],
   "source": [
    "preds = MLP_AllFeats_Level_2.predict_proba(TEST_piped)\n",
    "val_scores = [x[1]for x in preds]"
   ]
  },
  {
   "cell_type": "code",
   "execution_count": null,
   "metadata": {
    "hidden": true
   },
   "outputs": [],
   "source": []
  },
  {
   "cell_type": "code",
   "execution_count": 52,
   "metadata": {
    "hidden": true
   },
   "outputs": [],
   "source": [
    "raw_level_2_new_features_df['MLP_AllFeats_Level2'] = val_scores"
   ]
  },
  {
   "cell_type": "code",
   "execution_count": null,
   "metadata": {
    "hidden": true
   },
   "outputs": [],
   "source": []
  },
  {
   "cell_type": "code",
   "execution_count": 53,
   "metadata": {
    "hidden": true
   },
   "outputs": [],
   "source": [
    "this_model = 'MLP_AllFeats_Level2'\n",
    "\n",
    "raw_level_2_new_features_df[[this_model]].to_csv(level_2_preds_save_path + this_model + '.csv', \n",
    "                                                 columns = list(raw_level_2_new_features_df[[this_model]].columns),\n",
    "                                                 header = ['TARGET'],\n",
    "                                                 )"
   ]
  },
  {
   "cell_type": "code",
   "execution_count": null,
   "metadata": {
    "hidden": true
   },
   "outputs": [],
   "source": []
  },
  {
   "cell_type": "markdown",
   "metadata": {
    "heading_collapsed": true
   },
   "source": [
    "# Final level 2 metafeatures"
   ]
  },
  {
   "cell_type": "code",
   "execution_count": null,
   "metadata": {
    "hidden": true
   },
   "outputs": [],
   "source": []
  },
  {
   "cell_type": "code",
   "execution_count": 54,
   "metadata": {
    "hidden": true
   },
   "outputs": [],
   "source": [
    "def pwr_and_rescale(df_col, pwr):\n",
    "    temp_col = df_col**pwr\n",
    "    return (temp_col - min(temp_col)) /( max(temp_col) - min(temp_col))"
   ]
  },
  {
   "cell_type": "code",
   "execution_count": null,
   "metadata": {
    "hidden": true
   },
   "outputs": [],
   "source": []
  },
  {
   "cell_type": "code",
   "execution_count": 55,
   "metadata": {
    "hidden": true
   },
   "outputs": [],
   "source": [
    "FINAL_level_2_new_features_df = pd.DataFrame()"
   ]
  },
  {
   "cell_type": "code",
   "execution_count": null,
   "metadata": {
    "hidden": true
   },
   "outputs": [],
   "source": []
  },
  {
   "cell_type": "code",
   "execution_count": 58,
   "metadata": {
    "hidden": true
   },
   "outputs": [],
   "source": [
    "feat = 'RanFor_EXTpoly_Level2'\n",
    "FINAL_level_2_new_features_df['pwr_rescale_'+ feat] = pwr_and_rescale(+raw_level_2_new_features_df[feat], 1/5)\n",
    "\n",
    "feat = 'LogReg_EXTpoly_Level2'\n",
    "FINAL_level_2_new_features_df['pwr_rescale_'+ feat] = pwr_and_rescale(+raw_level_2_new_features_df[feat], 1/3.5)\n",
    "\n",
    "feat = 'MLP_EXTpoly_Level2'\n",
    "FINAL_level_2_new_features_df['pwr_rescale_'+ feat] = pwr_and_rescale(+raw_level_2_new_features_df[feat], 1/4)\n",
    "\n",
    "feat = 'RanFor_AllFeats_Level2'\n",
    "FINAL_level_2_new_features_df['pwr_rescale_'+ feat] = pwr_and_rescale(+raw_level_2_new_features_df[feat], 1/7)\n",
    "\n",
    "feat = 'LogReg_AllFeats_Level2'\n",
    "FINAL_level_2_new_features_df['pwr_rescale_'+ feat] = pwr_and_rescale(+raw_level_2_new_features_df[feat], 1/4)\n",
    "\n",
    "feat = 'MLP_AllFeats_Level2'\n",
    "FINAL_level_2_new_features_df['pwr_rescale_'+ feat] = pwr_and_rescale(+raw_level_2_new_features_df[feat], 1/4)\n"
   ]
  },
  {
   "cell_type": "code",
   "execution_count": null,
   "metadata": {
    "hidden": true
   },
   "outputs": [],
   "source": []
  },
  {
   "cell_type": "code",
   "execution_count": 59,
   "metadata": {
    "hidden": true
   },
   "outputs": [
    {
     "data": {
      "text/plain": [
       "'/Users/DonBunk/Desktop/Google Drive/data_science/Python_Projects/Home_Credit_Default_Risk'"
      ]
     },
     "execution_count": 59,
     "metadata": {},
     "output_type": "execute_result"
    }
   ],
   "source": [
    "pwd"
   ]
  },
  {
   "cell_type": "code",
   "execution_count": 61,
   "metadata": {
    "hidden": true
   },
   "outputs": [],
   "source": [
    "FINAL_level_2_new_features_df.to_csv(level_2_metafeats_save_path + 'FINAL_level_2_meta_features_df.csv', columns = list(FINAL_level_2_new_features_df.columns))"
   ]
  },
  {
   "cell_type": "code",
   "execution_count": null,
   "metadata": {
    "hidden": true
   },
   "outputs": [],
   "source": []
  },
  {
   "cell_type": "code",
   "execution_count": null,
   "metadata": {
    "hidden": true
   },
   "outputs": [],
   "source": []
  },
  {
   "cell_type": "code",
   "execution_count": null,
   "metadata": {
    "hidden": true
   },
   "outputs": [],
   "source": []
  }
 ],
 "metadata": {
  "kernelspec": {
   "display_name": "Python 3",
   "language": "python",
   "name": "python3"
  },
  "language_info": {
   "codemirror_mode": {
    "name": "ipython",
    "version": 3
   },
   "file_extension": ".py",
   "mimetype": "text/x-python",
   "name": "python",
   "nbconvert_exporter": "python",
   "pygments_lexer": "ipython3",
   "version": "3.6.6"
  },
  "latex_envs": {
   "LaTeX_envs_menu_present": true,
   "autocomplete": true,
   "bibliofile": "biblio.bib",
   "cite_by": "apalike",
   "current_citInitial": 1,
   "eqLabelWithNumbers": true,
   "eqNumInitial": 1,
   "hotkeys": {
    "equation": "Ctrl-E",
    "itemize": "Ctrl-I"
   },
   "labels_anchors": false,
   "latex_user_defs": false,
   "report_style_numbering": false,
   "user_envs_cfg": false
  },
  "toc": {
   "nav_menu": {},
   "number_sections": true,
   "sideBar": true,
   "skip_h1_title": false,
   "toc_cell": false,
   "toc_position": {},
   "toc_section_display": "none",
   "toc_window_display": false
  },
  "varInspector": {
   "cols": {
    "lenName": 16,
    "lenType": 16,
    "lenVar": 40
   },
   "kernels_config": {
    "python": {
     "delete_cmd_postfix": "",
     "delete_cmd_prefix": "del ",
     "library": "var_list.py",
     "varRefreshCmd": "print(var_dic_list())"
    },
    "r": {
     "delete_cmd_postfix": ") ",
     "delete_cmd_prefix": "rm(",
     "library": "var_list.r",
     "varRefreshCmd": "cat(var_dic_list()) "
    }
   },
   "oldHeight": 1038.5,
   "position": {
    "height": "852px",
    "left": "1314px",
    "right": "46px",
    "top": "121px",
    "width": "800px"
   },
   "types_to_exclude": [
    "module",
    "function",
    "builtin_function_or_method",
    "instance",
    "_Feature"
   ],
   "varInspector_section_display": "block",
   "window_display": false
  }
 },
 "nbformat": 4,
 "nbformat_minor": 2
}
