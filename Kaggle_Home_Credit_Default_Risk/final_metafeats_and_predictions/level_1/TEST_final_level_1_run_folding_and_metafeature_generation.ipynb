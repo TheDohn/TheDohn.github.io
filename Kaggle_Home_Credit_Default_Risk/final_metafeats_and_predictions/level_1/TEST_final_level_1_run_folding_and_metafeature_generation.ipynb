{
 "cells": [
  {
   "cell_type": "code",
   "execution_count": 153,
   "metadata": {
    "scrolled": true
   },
   "outputs": [
    {
     "data": {
      "text/plain": [
       "('0.23.3', '1.14.2')"
      ]
     },
     "execution_count": 153,
     "metadata": {},
     "output_type": "execute_result"
    }
   ],
   "source": [
    "import pandas as pd\n",
    "\n",
    "import numpy as np\n",
    "\n",
    "import matplotlib.pyplot as plt\n",
    "import seaborn as sns\n",
    "sns.set(context = 'notebook', #mostly controls relative sizes of things on plot \n",
    "                        #The base context is “notebook”, and the other contexts are “paper”, “talk”, and “poster”\n",
    "        style = 'darkgrid', #dict, None, or one of {darkgrid, whitegrid, dark, white, ticks}\n",
    "        palette = 'deep', # Should be something that color_palette() can process.\n",
    "        font_scale = 1, \n",
    "        color_codes = False, \n",
    "        rc = None)\n",
    "\n",
    "#from IPython.core.interactiveshell import InteractiveShell \n",
    "#InteractiveShell.ast_node_interactivity = 'last_expr' \n",
    "#setting = \"all\" allows multiple outputs to be displayed for a given input cell. don't use w plotting!\n",
    "\n",
    "from IPython.display import display\n",
    "\n",
    "import ast\n",
    "\n",
    "%matplotlib notebook\n",
    "#%matplotlib inline\n",
    "\n",
    "pd.__version__ , np.__version__ #,  matplotlib.__version__, sns.__version__"
   ]
  },
  {
   "cell_type": "code",
   "execution_count": 2,
   "metadata": {},
   "outputs": [],
   "source": [
    "from sklearn.metrics import roc_auc_score\n",
    "\n",
    "from sklearn.ensemble import RandomForestClassifier\n",
    "from sklearn.linear_model import LogisticRegression\n",
    "\n",
    "from sklearn.neural_network import MLPClassifier\n",
    "\n",
    "from sklearn.externals import joblib"
   ]
  },
  {
   "cell_type": "code",
   "execution_count": null,
   "metadata": {},
   "outputs": [],
   "source": []
  },
  {
   "cell_type": "code",
   "execution_count": 3,
   "metadata": {
    "scrolled": true
   },
   "outputs": [
    {
     "data": {
      "text/plain": [
       "'/Users/DonBunk/Desktop/Google Drive/data_science/Python_Projects/Home_Credit_Default_Risk/final_metafeats_and_predictions/level_1'"
      ]
     },
     "execution_count": 3,
     "metadata": {},
     "output_type": "execute_result"
    }
   ],
   "source": [
    "pwd"
   ]
  },
  {
   "cell_type": "code",
   "execution_count": 4,
   "metadata": {},
   "outputs": [
    {
     "name": "stdout",
     "output_type": "stream",
     "text": [
      "/Users/DonBunk/Desktop/Google Drive/data_science/Python_Projects/Home_Credit_Default_Risk\n"
     ]
    }
   ],
   "source": [
    "% cd '/Users/DonBunk/Desktop/Google Drive/data_science/Python_Projects/Home_Credit_Default_Risk/'"
   ]
  },
  {
   "cell_type": "code",
   "execution_count": 5,
   "metadata": {},
   "outputs": [],
   "source": [
    "from Home_Credit_package.master_pipeline import master_pipeline\n",
    "from Home_Credit_package.Dons_functions import balanced_sample"
   ]
  },
  {
   "cell_type": "code",
   "execution_count": 6,
   "metadata": {},
   "outputs": [
    {
     "data": {
      "text/plain": [
       "'/Users/DonBunk/Desktop/Google Drive/data_science/Python_Projects/Home_Credit_Default_Risk'"
      ]
     },
     "execution_count": 6,
     "metadata": {},
     "output_type": "execute_result"
    }
   ],
   "source": [
    "pwd"
   ]
  },
  {
   "cell_type": "code",
   "execution_count": null,
   "metadata": {},
   "outputs": [],
   "source": []
  },
  {
   "cell_type": "code",
   "execution_count": 7,
   "metadata": {},
   "outputs": [],
   "source": [
    "path_to_models = 'saved_models/level_1_models/'\n",
    "\n",
    "level_1_metafeats_save_path = 'final_metafeats_and_predictions/level_1/level_1_meta_feats/'\n",
    "level_1_preds_save_path = 'final_metafeats_and_predictions/level_1/level_1_final_predictions/'"
   ]
  },
  {
   "cell_type": "code",
   "execution_count": null,
   "metadata": {},
   "outputs": [],
   "source": []
  },
  {
   "cell_type": "markdown",
   "metadata": {},
   "source": [
    "# load this"
   ]
  },
  {
   "cell_type": "code",
   "execution_count": null,
   "metadata": {},
   "outputs": [],
   "source": []
  },
  {
   "cell_type": "markdown",
   "metadata": {},
   "source": [
    "## load dfs"
   ]
  },
  {
   "cell_type": "code",
   "execution_count": null,
   "metadata": {},
   "outputs": [],
   "source": []
  },
  {
   "cell_type": "code",
   "execution_count": 8,
   "metadata": {},
   "outputs": [],
   "source": [
    "path = 'wrangling/TRAINING_DATA_create_final_wrangled_csv/'\n",
    "TRAIN_df = pd.read_csv(path + 'complete_initial_wrangled_data.csv', index_col = 'SK_ID_CURR')\n",
    "\n",
    "path = 'wrangling/TEST_DATA_create_final_wrangled_csv/'\n",
    "TEST_df = pd.read_csv(path + 'complete_initial_wrangled_data.csv', index_col = 'SK_ID_CURR')"
   ]
  },
  {
   "cell_type": "code",
   "execution_count": null,
   "metadata": {
    "scrolled": true
   },
   "outputs": [],
   "source": []
  },
  {
   "cell_type": "markdown",
   "metadata": {},
   "source": [
    "# new models to run"
   ]
  },
  {
   "cell_type": "code",
   "execution_count": null,
   "metadata": {},
   "outputs": [],
   "source": []
  },
  {
   "cell_type": "code",
   "execution_count": 9,
   "metadata": {},
   "outputs": [],
   "source": [
    "raw_level_1_new_features_df = pd.DataFrame(TEST_df.index)\n",
    "raw_level_1_new_features_df.set_index('SK_ID_CURR', inplace=True)"
   ]
  },
  {
   "cell_type": "code",
   "execution_count": null,
   "metadata": {},
   "outputs": [],
   "source": []
  },
  {
   "cell_type": "markdown",
   "metadata": {
    "heading_collapsed": true
   },
   "source": [
    "### random forest random, EXT sources, with poly interactions. \n",
    "Kaggle scores: \n",
    "    Public: 0.70550\n",
    "    Private: 0.71763"
   ]
  },
  {
   "cell_type": "code",
   "execution_count": null,
   "metadata": {
    "hidden": true
   },
   "outputs": [],
   "source": []
  },
  {
   "cell_type": "code",
   "execution_count": 10,
   "metadata": {
    "hidden": true,
    "scrolled": true
   },
   "outputs": [
    {
     "name": "stdout",
     "output_type": "stream",
     "text": [
      "Total original feat len is 3. Sum of feats is 3.\n",
      "Final array is length 35. final feature list is length 35.\n"
     ]
    }
   ],
   "source": [
    "total_df_piped, final_feature_list, total_pipeline, trans_list = \\\n",
    "master_pipeline(df_in = TRAIN_df[['EXT_SOURCE_1','EXT_SOURCE_2',\n",
    "                                         'EXT_SOURCE_3']],\n",
    "                int_cutoff=20, \n",
    "                poly_deg=4, \n",
    "                feats_with_interaction=['EXT_SOURCE_1','EXT_SOURCE_2',\n",
    "                                         'EXT_SOURCE_3']\n",
    "                )"
   ]
  },
  {
   "cell_type": "code",
   "execution_count": 11,
   "metadata": {
    "hidden": true
   },
   "outputs": [],
   "source": [
    "TEST_piped = total_pipeline.transform(TEST_df)"
   ]
  },
  {
   "cell_type": "code",
   "execution_count": 12,
   "metadata": {
    "hidden": true
   },
   "outputs": [],
   "source": [
    "RanFor_EXTpoly_level_1 = joblib.load(path_to_models + 'RanFor_EXTpoly_level_1.joblib')"
   ]
  },
  {
   "cell_type": "code",
   "execution_count": 13,
   "metadata": {
    "hidden": true
   },
   "outputs": [
    {
     "data": {
      "text/plain": [
       "RandomForestClassifier(bootstrap=True, class_weight=None, criterion='gini',\n",
       "            max_depth=7, max_features='auto', max_leaf_nodes=None,\n",
       "            min_impurity_decrease=0.0, min_impurity_split=None,\n",
       "            min_samples_leaf=10, min_samples_split=2,\n",
       "            min_weight_fraction_leaf=0.0, n_estimators=50, n_jobs=1,\n",
       "            oob_score=False, random_state=0, verbose=0, warm_start=False)"
      ]
     },
     "execution_count": 13,
     "metadata": {},
     "output_type": "execute_result"
    }
   ],
   "source": [
    "RanFor_EXTpoly_level_1"
   ]
  },
  {
   "cell_type": "code",
   "execution_count": 14,
   "metadata": {
    "hidden": true
   },
   "outputs": [],
   "source": [
    "preds = RanFor_EXTpoly_level_1.predict_proba(TEST_piped)\n",
    "val_scores = [x[1]for x in preds]"
   ]
  },
  {
   "cell_type": "code",
   "execution_count": null,
   "metadata": {
    "hidden": true
   },
   "outputs": [],
   "source": []
  },
  {
   "cell_type": "code",
   "execution_count": 15,
   "metadata": {
    "hidden": true
   },
   "outputs": [],
   "source": [
    "raw_level_1_new_features_df['RanFor_EXTpoly'] = val_scores"
   ]
  },
  {
   "cell_type": "code",
   "execution_count": null,
   "metadata": {
    "hidden": true
   },
   "outputs": [],
   "source": []
  },
  {
   "cell_type": "code",
   "execution_count": 16,
   "metadata": {
    "hidden": true
   },
   "outputs": [],
   "source": [
    "this_model = 'RanFor_EXTpoly'\n",
    "\n",
    "\n",
    "raw_level_1_new_features_df[[this_model]].to_csv(level_1_preds_save_path + this_model + '.csv', \n",
    "                                                 columns = list(raw_level_1_new_features_df[[this_model]].columns),\n",
    "                                                 header = ['TARGET'],\n",
    "                                                 )"
   ]
  },
  {
   "cell_type": "code",
   "execution_count": null,
   "metadata": {
    "hidden": true
   },
   "outputs": [],
   "source": []
  },
  {
   "cell_type": "markdown",
   "metadata": {},
   "source": [
    "### random forest, all features\n",
    "Kaggle scores: Public: 0.74025 Private:0.74177"
   ]
  },
  {
   "cell_type": "code",
   "execution_count": null,
   "metadata": {},
   "outputs": [],
   "source": []
  },
  {
   "cell_type": "code",
   "execution_count": 10,
   "metadata": {},
   "outputs": [
    {
     "name": "stdout",
     "output_type": "stream",
     "text": [
      "Total original feat len is 85. Sum of feats is 85.\n",
      "Final array is length 418. final feature list is length 418.\n"
     ]
    }
   ],
   "source": [
    "total_df_piped, final_feature_list, total_pipeline, trans_list = \\\n",
    "master_pipeline(df_in = TRAIN_df,\n",
    "                int_cutoff=20, \n",
    "                poly_deg=4, \n",
    "                feats_with_interaction=[]\n",
    "                )"
   ]
  },
  {
   "cell_type": "code",
   "execution_count": null,
   "metadata": {},
   "outputs": [],
   "source": []
  },
  {
   "cell_type": "code",
   "execution_count": 11,
   "metadata": {
    "scrolled": false
   },
   "outputs": [],
   "source": [
    "TEST_piped = total_pipeline.transform(TEST_df)"
   ]
  },
  {
   "cell_type": "code",
   "execution_count": 12,
   "metadata": {},
   "outputs": [
    {
     "data": {
      "text/plain": [
       "RandomForestClassifier(bootstrap=True, class_weight=None, criterion='gini',\n",
       "            max_depth=15, max_features='auto', max_leaf_nodes=None,\n",
       "            min_impurity_decrease=0.0, min_impurity_split=None,\n",
       "            min_samples_leaf=63, min_samples_split=2,\n",
       "            min_weight_fraction_leaf=0.0, n_estimators=40, n_jobs=1,\n",
       "            oob_score=False, random_state=0, verbose=0, warm_start=False)"
      ]
     },
     "execution_count": 12,
     "metadata": {},
     "output_type": "execute_result"
    }
   ],
   "source": [
    "RanFor_AllFeats_level_1 = joblib.load(path_to_models + 'RanFor_AllFeats_level_1.joblib')\n",
    "RanFor_AllFeats_level_1"
   ]
  },
  {
   "cell_type": "code",
   "execution_count": null,
   "metadata": {},
   "outputs": [],
   "source": []
  },
  {
   "cell_type": "code",
   "execution_count": 13,
   "metadata": {},
   "outputs": [],
   "source": [
    "preds = RanFor_AllFeats_level_1.predict_proba(TEST_piped)\n",
    "val_scores = [x[1] for x in preds]"
   ]
  },
  {
   "cell_type": "code",
   "execution_count": null,
   "metadata": {},
   "outputs": [],
   "source": []
  },
  {
   "cell_type": "code",
   "execution_count": 14,
   "metadata": {},
   "outputs": [],
   "source": [
    "raw_level_1_new_features_df['RanFor_AllFeats'] = val_scores"
   ]
  },
  {
   "cell_type": "code",
   "execution_count": null,
   "metadata": {},
   "outputs": [],
   "source": []
  },
  {
   "cell_type": "code",
   "execution_count": 15,
   "metadata": {},
   "outputs": [],
   "source": [
    "this_model = 'RanFor_AllFeats'\n",
    "\n",
    "raw_level_1_new_features_df[[this_model]].to_csv(level_1_preds_save_path + this_model + '.csv', \n",
    "                                                 columns = list(raw_level_1_new_features_df[[this_model]].columns),\n",
    "                                                 header = ['TARGET'],\n",
    "                                                 )"
   ]
  },
  {
   "cell_type": "code",
   "execution_count": null,
   "metadata": {},
   "outputs": [],
   "source": []
  },
  {
   "cell_type": "markdown",
   "metadata": {},
   "source": [
    "### plot feature importances for random forest model above"
   ]
  },
  {
   "cell_type": "code",
   "execution_count": 144,
   "metadata": {},
   "outputs": [],
   "source": [
    "# all features and importances\n",
    "feat_imports_raw = list(zip(final_feature_list, RanFor_AllFeats_level_1.feature_importances_))\n",
    "# strip off details (polynomial order etc)\n",
    "feat_imports_stripped_details_df = pd.DataFrame( [(ast.literal_eval(x[0])[0], x[1]) for x in feat_imports_raw],\n",
    "                                               columns = ['Feature','Importance'])\n",
    "# group by 'base' feature and sum\n",
    "feats_grouped = feat_imports_stripped_details_df['Importance'].groupby(feat_imports_stripped_details_df['Feature'])\n",
    "final_feat_imports = feats_grouped.sum().to_frame()\n",
    "# make index into column, and order by Importance\n",
    "final_feat_imports.reset_index(inplace=True)\n",
    "final_feat_imports.sort_values(by = 'Importance', ascending=False, inplace=True)"
   ]
  },
  {
   "cell_type": "code",
   "execution_count": 154,
   "metadata": {},
   "outputs": [
    {
     "data": {
      "application/javascript": [
       "/* Put everything inside the global mpl namespace */\n",
       "window.mpl = {};\n",
       "\n",
       "\n",
       "mpl.get_websocket_type = function() {\n",
       "    if (typeof(WebSocket) !== 'undefined') {\n",
       "        return WebSocket;\n",
       "    } else if (typeof(MozWebSocket) !== 'undefined') {\n",
       "        return MozWebSocket;\n",
       "    } else {\n",
       "        alert('Your browser does not have WebSocket support.' +\n",
       "              'Please try Chrome, Safari or Firefox ≥ 6. ' +\n",
       "              'Firefox 4 and 5 are also supported but you ' +\n",
       "              'have to enable WebSockets in about:config.');\n",
       "    };\n",
       "}\n",
       "\n",
       "mpl.figure = function(figure_id, websocket, ondownload, parent_element) {\n",
       "    this.id = figure_id;\n",
       "\n",
       "    this.ws = websocket;\n",
       "\n",
       "    this.supports_binary = (this.ws.binaryType != undefined);\n",
       "\n",
       "    if (!this.supports_binary) {\n",
       "        var warnings = document.getElementById(\"mpl-warnings\");\n",
       "        if (warnings) {\n",
       "            warnings.style.display = 'block';\n",
       "            warnings.textContent = (\n",
       "                \"This browser does not support binary websocket messages. \" +\n",
       "                    \"Performance may be slow.\");\n",
       "        }\n",
       "    }\n",
       "\n",
       "    this.imageObj = new Image();\n",
       "\n",
       "    this.context = undefined;\n",
       "    this.message = undefined;\n",
       "    this.canvas = undefined;\n",
       "    this.rubberband_canvas = undefined;\n",
       "    this.rubberband_context = undefined;\n",
       "    this.format_dropdown = undefined;\n",
       "\n",
       "    this.image_mode = 'full';\n",
       "\n",
       "    this.root = $('<div/>');\n",
       "    this._root_extra_style(this.root)\n",
       "    this.root.attr('style', 'display: inline-block');\n",
       "\n",
       "    $(parent_element).append(this.root);\n",
       "\n",
       "    this._init_header(this);\n",
       "    this._init_canvas(this);\n",
       "    this._init_toolbar(this);\n",
       "\n",
       "    var fig = this;\n",
       "\n",
       "    this.waiting = false;\n",
       "\n",
       "    this.ws.onopen =  function () {\n",
       "            fig.send_message(\"supports_binary\", {value: fig.supports_binary});\n",
       "            fig.send_message(\"send_image_mode\", {});\n",
       "            if (mpl.ratio != 1) {\n",
       "                fig.send_message(\"set_dpi_ratio\", {'dpi_ratio': mpl.ratio});\n",
       "            }\n",
       "            fig.send_message(\"refresh\", {});\n",
       "        }\n",
       "\n",
       "    this.imageObj.onload = function() {\n",
       "            if (fig.image_mode == 'full') {\n",
       "                // Full images could contain transparency (where diff images\n",
       "                // almost always do), so we need to clear the canvas so that\n",
       "                // there is no ghosting.\n",
       "                fig.context.clearRect(0, 0, fig.canvas.width, fig.canvas.height);\n",
       "            }\n",
       "            fig.context.drawImage(fig.imageObj, 0, 0);\n",
       "        };\n",
       "\n",
       "    this.imageObj.onunload = function() {\n",
       "        fig.ws.close();\n",
       "    }\n",
       "\n",
       "    this.ws.onmessage = this._make_on_message_function(this);\n",
       "\n",
       "    this.ondownload = ondownload;\n",
       "}\n",
       "\n",
       "mpl.figure.prototype._init_header = function() {\n",
       "    var titlebar = $(\n",
       "        '<div class=\"ui-dialog-titlebar ui-widget-header ui-corner-all ' +\n",
       "        'ui-helper-clearfix\"/>');\n",
       "    var titletext = $(\n",
       "        '<div class=\"ui-dialog-title\" style=\"width: 100%; ' +\n",
       "        'text-align: center; padding: 3px;\"/>');\n",
       "    titlebar.append(titletext)\n",
       "    this.root.append(titlebar);\n",
       "    this.header = titletext[0];\n",
       "}\n",
       "\n",
       "\n",
       "\n",
       "mpl.figure.prototype._canvas_extra_style = function(canvas_div) {\n",
       "\n",
       "}\n",
       "\n",
       "\n",
       "mpl.figure.prototype._root_extra_style = function(canvas_div) {\n",
       "\n",
       "}\n",
       "\n",
       "mpl.figure.prototype._init_canvas = function() {\n",
       "    var fig = this;\n",
       "\n",
       "    var canvas_div = $('<div/>');\n",
       "\n",
       "    canvas_div.attr('style', 'position: relative; clear: both; outline: 0');\n",
       "\n",
       "    function canvas_keyboard_event(event) {\n",
       "        return fig.key_event(event, event['data']);\n",
       "    }\n",
       "\n",
       "    canvas_div.keydown('key_press', canvas_keyboard_event);\n",
       "    canvas_div.keyup('key_release', canvas_keyboard_event);\n",
       "    this.canvas_div = canvas_div\n",
       "    this._canvas_extra_style(canvas_div)\n",
       "    this.root.append(canvas_div);\n",
       "\n",
       "    var canvas = $('<canvas/>');\n",
       "    canvas.addClass('mpl-canvas');\n",
       "    canvas.attr('style', \"left: 0; top: 0; z-index: 0; outline: 0\")\n",
       "\n",
       "    this.canvas = canvas[0];\n",
       "    this.context = canvas[0].getContext(\"2d\");\n",
       "\n",
       "    var backingStore = this.context.backingStorePixelRatio ||\n",
       "\tthis.context.webkitBackingStorePixelRatio ||\n",
       "\tthis.context.mozBackingStorePixelRatio ||\n",
       "\tthis.context.msBackingStorePixelRatio ||\n",
       "\tthis.context.oBackingStorePixelRatio ||\n",
       "\tthis.context.backingStorePixelRatio || 1;\n",
       "\n",
       "    mpl.ratio = (window.devicePixelRatio || 1) / backingStore;\n",
       "\n",
       "    var rubberband = $('<canvas/>');\n",
       "    rubberband.attr('style', \"position: absolute; left: 0; top: 0; z-index: 1;\")\n",
       "\n",
       "    var pass_mouse_events = true;\n",
       "\n",
       "    canvas_div.resizable({\n",
       "        start: function(event, ui) {\n",
       "            pass_mouse_events = false;\n",
       "        },\n",
       "        resize: function(event, ui) {\n",
       "            fig.request_resize(ui.size.width, ui.size.height);\n",
       "        },\n",
       "        stop: function(event, ui) {\n",
       "            pass_mouse_events = true;\n",
       "            fig.request_resize(ui.size.width, ui.size.height);\n",
       "        },\n",
       "    });\n",
       "\n",
       "    function mouse_event_fn(event) {\n",
       "        if (pass_mouse_events)\n",
       "            return fig.mouse_event(event, event['data']);\n",
       "    }\n",
       "\n",
       "    rubberband.mousedown('button_press', mouse_event_fn);\n",
       "    rubberband.mouseup('button_release', mouse_event_fn);\n",
       "    // Throttle sequential mouse events to 1 every 20ms.\n",
       "    rubberband.mousemove('motion_notify', mouse_event_fn);\n",
       "\n",
       "    rubberband.mouseenter('figure_enter', mouse_event_fn);\n",
       "    rubberband.mouseleave('figure_leave', mouse_event_fn);\n",
       "\n",
       "    canvas_div.on(\"wheel\", function (event) {\n",
       "        event = event.originalEvent;\n",
       "        event['data'] = 'scroll'\n",
       "        if (event.deltaY < 0) {\n",
       "            event.step = 1;\n",
       "        } else {\n",
       "            event.step = -1;\n",
       "        }\n",
       "        mouse_event_fn(event);\n",
       "    });\n",
       "\n",
       "    canvas_div.append(canvas);\n",
       "    canvas_div.append(rubberband);\n",
       "\n",
       "    this.rubberband = rubberband;\n",
       "    this.rubberband_canvas = rubberband[0];\n",
       "    this.rubberband_context = rubberband[0].getContext(\"2d\");\n",
       "    this.rubberband_context.strokeStyle = \"#000000\";\n",
       "\n",
       "    this._resize_canvas = function(width, height) {\n",
       "        // Keep the size of the canvas, canvas container, and rubber band\n",
       "        // canvas in synch.\n",
       "        canvas_div.css('width', width)\n",
       "        canvas_div.css('height', height)\n",
       "\n",
       "        canvas.attr('width', width * mpl.ratio);\n",
       "        canvas.attr('height', height * mpl.ratio);\n",
       "        canvas.attr('style', 'width: ' + width + 'px; height: ' + height + 'px;');\n",
       "\n",
       "        rubberband.attr('width', width);\n",
       "        rubberband.attr('height', height);\n",
       "    }\n",
       "\n",
       "    // Set the figure to an initial 600x600px, this will subsequently be updated\n",
       "    // upon first draw.\n",
       "    this._resize_canvas(600, 600);\n",
       "\n",
       "    // Disable right mouse context menu.\n",
       "    $(this.rubberband_canvas).bind(\"contextmenu\",function(e){\n",
       "        return false;\n",
       "    });\n",
       "\n",
       "    function set_focus () {\n",
       "        canvas.focus();\n",
       "        canvas_div.focus();\n",
       "    }\n",
       "\n",
       "    window.setTimeout(set_focus, 100);\n",
       "}\n",
       "\n",
       "mpl.figure.prototype._init_toolbar = function() {\n",
       "    var fig = this;\n",
       "\n",
       "    var nav_element = $('<div/>')\n",
       "    nav_element.attr('style', 'width: 100%');\n",
       "    this.root.append(nav_element);\n",
       "\n",
       "    // Define a callback function for later on.\n",
       "    function toolbar_event(event) {\n",
       "        return fig.toolbar_button_onclick(event['data']);\n",
       "    }\n",
       "    function toolbar_mouse_event(event) {\n",
       "        return fig.toolbar_button_onmouseover(event['data']);\n",
       "    }\n",
       "\n",
       "    for(var toolbar_ind in mpl.toolbar_items) {\n",
       "        var name = mpl.toolbar_items[toolbar_ind][0];\n",
       "        var tooltip = mpl.toolbar_items[toolbar_ind][1];\n",
       "        var image = mpl.toolbar_items[toolbar_ind][2];\n",
       "        var method_name = mpl.toolbar_items[toolbar_ind][3];\n",
       "\n",
       "        if (!name) {\n",
       "            // put a spacer in here.\n",
       "            continue;\n",
       "        }\n",
       "        var button = $('<button/>');\n",
       "        button.addClass('ui-button ui-widget ui-state-default ui-corner-all ' +\n",
       "                        'ui-button-icon-only');\n",
       "        button.attr('role', 'button');\n",
       "        button.attr('aria-disabled', 'false');\n",
       "        button.click(method_name, toolbar_event);\n",
       "        button.mouseover(tooltip, toolbar_mouse_event);\n",
       "\n",
       "        var icon_img = $('<span/>');\n",
       "        icon_img.addClass('ui-button-icon-primary ui-icon');\n",
       "        icon_img.addClass(image);\n",
       "        icon_img.addClass('ui-corner-all');\n",
       "\n",
       "        var tooltip_span = $('<span/>');\n",
       "        tooltip_span.addClass('ui-button-text');\n",
       "        tooltip_span.html(tooltip);\n",
       "\n",
       "        button.append(icon_img);\n",
       "        button.append(tooltip_span);\n",
       "\n",
       "        nav_element.append(button);\n",
       "    }\n",
       "\n",
       "    var fmt_picker_span = $('<span/>');\n",
       "\n",
       "    var fmt_picker = $('<select/>');\n",
       "    fmt_picker.addClass('mpl-toolbar-option ui-widget ui-widget-content');\n",
       "    fmt_picker_span.append(fmt_picker);\n",
       "    nav_element.append(fmt_picker_span);\n",
       "    this.format_dropdown = fmt_picker[0];\n",
       "\n",
       "    for (var ind in mpl.extensions) {\n",
       "        var fmt = mpl.extensions[ind];\n",
       "        var option = $(\n",
       "            '<option/>', {selected: fmt === mpl.default_extension}).html(fmt);\n",
       "        fmt_picker.append(option)\n",
       "    }\n",
       "\n",
       "    // Add hover states to the ui-buttons\n",
       "    $( \".ui-button\" ).hover(\n",
       "        function() { $(this).addClass(\"ui-state-hover\");},\n",
       "        function() { $(this).removeClass(\"ui-state-hover\");}\n",
       "    );\n",
       "\n",
       "    var status_bar = $('<span class=\"mpl-message\"/>');\n",
       "    nav_element.append(status_bar);\n",
       "    this.message = status_bar[0];\n",
       "}\n",
       "\n",
       "mpl.figure.prototype.request_resize = function(x_pixels, y_pixels) {\n",
       "    // Request matplotlib to resize the figure. Matplotlib will then trigger a resize in the client,\n",
       "    // which will in turn request a refresh of the image.\n",
       "    this.send_message('resize', {'width': x_pixels, 'height': y_pixels});\n",
       "}\n",
       "\n",
       "mpl.figure.prototype.send_message = function(type, properties) {\n",
       "    properties['type'] = type;\n",
       "    properties['figure_id'] = this.id;\n",
       "    this.ws.send(JSON.stringify(properties));\n",
       "}\n",
       "\n",
       "mpl.figure.prototype.send_draw_message = function() {\n",
       "    if (!this.waiting) {\n",
       "        this.waiting = true;\n",
       "        this.ws.send(JSON.stringify({type: \"draw\", figure_id: this.id}));\n",
       "    }\n",
       "}\n",
       "\n",
       "\n",
       "mpl.figure.prototype.handle_save = function(fig, msg) {\n",
       "    var format_dropdown = fig.format_dropdown;\n",
       "    var format = format_dropdown.options[format_dropdown.selectedIndex].value;\n",
       "    fig.ondownload(fig, format);\n",
       "}\n",
       "\n",
       "\n",
       "mpl.figure.prototype.handle_resize = function(fig, msg) {\n",
       "    var size = msg['size'];\n",
       "    if (size[0] != fig.canvas.width || size[1] != fig.canvas.height) {\n",
       "        fig._resize_canvas(size[0], size[1]);\n",
       "        fig.send_message(\"refresh\", {});\n",
       "    };\n",
       "}\n",
       "\n",
       "mpl.figure.prototype.handle_rubberband = function(fig, msg) {\n",
       "    var x0 = msg['x0'] / mpl.ratio;\n",
       "    var y0 = (fig.canvas.height - msg['y0']) / mpl.ratio;\n",
       "    var x1 = msg['x1'] / mpl.ratio;\n",
       "    var y1 = (fig.canvas.height - msg['y1']) / mpl.ratio;\n",
       "    x0 = Math.floor(x0) + 0.5;\n",
       "    y0 = Math.floor(y0) + 0.5;\n",
       "    x1 = Math.floor(x1) + 0.5;\n",
       "    y1 = Math.floor(y1) + 0.5;\n",
       "    var min_x = Math.min(x0, x1);\n",
       "    var min_y = Math.min(y0, y1);\n",
       "    var width = Math.abs(x1 - x0);\n",
       "    var height = Math.abs(y1 - y0);\n",
       "\n",
       "    fig.rubberband_context.clearRect(\n",
       "        0, 0, fig.canvas.width, fig.canvas.height);\n",
       "\n",
       "    fig.rubberband_context.strokeRect(min_x, min_y, width, height);\n",
       "}\n",
       "\n",
       "mpl.figure.prototype.handle_figure_label = function(fig, msg) {\n",
       "    // Updates the figure title.\n",
       "    fig.header.textContent = msg['label'];\n",
       "}\n",
       "\n",
       "mpl.figure.prototype.handle_cursor = function(fig, msg) {\n",
       "    var cursor = msg['cursor'];\n",
       "    switch(cursor)\n",
       "    {\n",
       "    case 0:\n",
       "        cursor = 'pointer';\n",
       "        break;\n",
       "    case 1:\n",
       "        cursor = 'default';\n",
       "        break;\n",
       "    case 2:\n",
       "        cursor = 'crosshair';\n",
       "        break;\n",
       "    case 3:\n",
       "        cursor = 'move';\n",
       "        break;\n",
       "    }\n",
       "    fig.rubberband_canvas.style.cursor = cursor;\n",
       "}\n",
       "\n",
       "mpl.figure.prototype.handle_message = function(fig, msg) {\n",
       "    fig.message.textContent = msg['message'];\n",
       "}\n",
       "\n",
       "mpl.figure.prototype.handle_draw = function(fig, msg) {\n",
       "    // Request the server to send over a new figure.\n",
       "    fig.send_draw_message();\n",
       "}\n",
       "\n",
       "mpl.figure.prototype.handle_image_mode = function(fig, msg) {\n",
       "    fig.image_mode = msg['mode'];\n",
       "}\n",
       "\n",
       "mpl.figure.prototype.updated_canvas_event = function() {\n",
       "    // Called whenever the canvas gets updated.\n",
       "    this.send_message(\"ack\", {});\n",
       "}\n",
       "\n",
       "// A function to construct a web socket function for onmessage handling.\n",
       "// Called in the figure constructor.\n",
       "mpl.figure.prototype._make_on_message_function = function(fig) {\n",
       "    return function socket_on_message(evt) {\n",
       "        if (evt.data instanceof Blob) {\n",
       "            /* FIXME: We get \"Resource interpreted as Image but\n",
       "             * transferred with MIME type text/plain:\" errors on\n",
       "             * Chrome.  But how to set the MIME type?  It doesn't seem\n",
       "             * to be part of the websocket stream */\n",
       "            evt.data.type = \"image/png\";\n",
       "\n",
       "            /* Free the memory for the previous frames */\n",
       "            if (fig.imageObj.src) {\n",
       "                (window.URL || window.webkitURL).revokeObjectURL(\n",
       "                    fig.imageObj.src);\n",
       "            }\n",
       "\n",
       "            fig.imageObj.src = (window.URL || window.webkitURL).createObjectURL(\n",
       "                evt.data);\n",
       "            fig.updated_canvas_event();\n",
       "            fig.waiting = false;\n",
       "            return;\n",
       "        }\n",
       "        else if (typeof evt.data === 'string' && evt.data.slice(0, 21) == \"data:image/png;base64\") {\n",
       "            fig.imageObj.src = evt.data;\n",
       "            fig.updated_canvas_event();\n",
       "            fig.waiting = false;\n",
       "            return;\n",
       "        }\n",
       "\n",
       "        var msg = JSON.parse(evt.data);\n",
       "        var msg_type = msg['type'];\n",
       "\n",
       "        // Call the  \"handle_{type}\" callback, which takes\n",
       "        // the figure and JSON message as its only arguments.\n",
       "        try {\n",
       "            var callback = fig[\"handle_\" + msg_type];\n",
       "        } catch (e) {\n",
       "            console.log(\"No handler for the '\" + msg_type + \"' message type: \", msg);\n",
       "            return;\n",
       "        }\n",
       "\n",
       "        if (callback) {\n",
       "            try {\n",
       "                // console.log(\"Handling '\" + msg_type + \"' message: \", msg);\n",
       "                callback(fig, msg);\n",
       "            } catch (e) {\n",
       "                console.log(\"Exception inside the 'handler_\" + msg_type + \"' callback:\", e, e.stack, msg);\n",
       "            }\n",
       "        }\n",
       "    };\n",
       "}\n",
       "\n",
       "// from http://stackoverflow.com/questions/1114465/getting-mouse-location-in-canvas\n",
       "mpl.findpos = function(e) {\n",
       "    //this section is from http://www.quirksmode.org/js/events_properties.html\n",
       "    var targ;\n",
       "    if (!e)\n",
       "        e = window.event;\n",
       "    if (e.target)\n",
       "        targ = e.target;\n",
       "    else if (e.srcElement)\n",
       "        targ = e.srcElement;\n",
       "    if (targ.nodeType == 3) // defeat Safari bug\n",
       "        targ = targ.parentNode;\n",
       "\n",
       "    // jQuery normalizes the pageX and pageY\n",
       "    // pageX,Y are the mouse positions relative to the document\n",
       "    // offset() returns the position of the element relative to the document\n",
       "    var x = e.pageX - $(targ).offset().left;\n",
       "    var y = e.pageY - $(targ).offset().top;\n",
       "\n",
       "    return {\"x\": x, \"y\": y};\n",
       "};\n",
       "\n",
       "/*\n",
       " * return a copy of an object with only non-object keys\n",
       " * we need this to avoid circular references\n",
       " * http://stackoverflow.com/a/24161582/3208463\n",
       " */\n",
       "function simpleKeys (original) {\n",
       "  return Object.keys(original).reduce(function (obj, key) {\n",
       "    if (typeof original[key] !== 'object')\n",
       "        obj[key] = original[key]\n",
       "    return obj;\n",
       "  }, {});\n",
       "}\n",
       "\n",
       "mpl.figure.prototype.mouse_event = function(event, name) {\n",
       "    var canvas_pos = mpl.findpos(event)\n",
       "\n",
       "    if (name === 'button_press')\n",
       "    {\n",
       "        this.canvas.focus();\n",
       "        this.canvas_div.focus();\n",
       "    }\n",
       "\n",
       "    var x = canvas_pos.x * mpl.ratio;\n",
       "    var y = canvas_pos.y * mpl.ratio;\n",
       "\n",
       "    this.send_message(name, {x: x, y: y, button: event.button,\n",
       "                             step: event.step,\n",
       "                             guiEvent: simpleKeys(event)});\n",
       "\n",
       "    /* This prevents the web browser from automatically changing to\n",
       "     * the text insertion cursor when the button is pressed.  We want\n",
       "     * to control all of the cursor setting manually through the\n",
       "     * 'cursor' event from matplotlib */\n",
       "    event.preventDefault();\n",
       "    return false;\n",
       "}\n",
       "\n",
       "mpl.figure.prototype._key_event_extra = function(event, name) {\n",
       "    // Handle any extra behaviour associated with a key event\n",
       "}\n",
       "\n",
       "mpl.figure.prototype.key_event = function(event, name) {\n",
       "\n",
       "    // Prevent repeat events\n",
       "    if (name == 'key_press')\n",
       "    {\n",
       "        if (event.which === this._key)\n",
       "            return;\n",
       "        else\n",
       "            this._key = event.which;\n",
       "    }\n",
       "    if (name == 'key_release')\n",
       "        this._key = null;\n",
       "\n",
       "    var value = '';\n",
       "    if (event.ctrlKey && event.which != 17)\n",
       "        value += \"ctrl+\";\n",
       "    if (event.altKey && event.which != 18)\n",
       "        value += \"alt+\";\n",
       "    if (event.shiftKey && event.which != 16)\n",
       "        value += \"shift+\";\n",
       "\n",
       "    value += 'k';\n",
       "    value += event.which.toString();\n",
       "\n",
       "    this._key_event_extra(event, name);\n",
       "\n",
       "    this.send_message(name, {key: value,\n",
       "                             guiEvent: simpleKeys(event)});\n",
       "    return false;\n",
       "}\n",
       "\n",
       "mpl.figure.prototype.toolbar_button_onclick = function(name) {\n",
       "    if (name == 'download') {\n",
       "        this.handle_save(this, null);\n",
       "    } else {\n",
       "        this.send_message(\"toolbar_button\", {name: name});\n",
       "    }\n",
       "};\n",
       "\n",
       "mpl.figure.prototype.toolbar_button_onmouseover = function(tooltip) {\n",
       "    this.message.textContent = tooltip;\n",
       "};\n",
       "mpl.toolbar_items = [[\"Home\", \"Reset original view\", \"fa fa-home icon-home\", \"home\"], [\"Back\", \"Back to  previous view\", \"fa fa-arrow-left icon-arrow-left\", \"back\"], [\"Forward\", \"Forward to next view\", \"fa fa-arrow-right icon-arrow-right\", \"forward\"], [\"\", \"\", \"\", \"\"], [\"Pan\", \"Pan axes with left mouse, zoom with right\", \"fa fa-arrows icon-move\", \"pan\"], [\"Zoom\", \"Zoom to rectangle\", \"fa fa-square-o icon-check-empty\", \"zoom\"], [\"\", \"\", \"\", \"\"], [\"Download\", \"Download plot\", \"fa fa-floppy-o icon-save\", \"download\"]];\n",
       "\n",
       "mpl.extensions = [\"eps\", \"jpeg\", \"pdf\", \"png\", \"ps\", \"raw\", \"svg\", \"tif\"];\n",
       "\n",
       "mpl.default_extension = \"png\";var comm_websocket_adapter = function(comm) {\n",
       "    // Create a \"websocket\"-like object which calls the given IPython comm\n",
       "    // object with the appropriate methods. Currently this is a non binary\n",
       "    // socket, so there is still some room for performance tuning.\n",
       "    var ws = {};\n",
       "\n",
       "    ws.close = function() {\n",
       "        comm.close()\n",
       "    };\n",
       "    ws.send = function(m) {\n",
       "        //console.log('sending', m);\n",
       "        comm.send(m);\n",
       "    };\n",
       "    // Register the callback with on_msg.\n",
       "    comm.on_msg(function(msg) {\n",
       "        //console.log('receiving', msg['content']['data'], msg);\n",
       "        // Pass the mpl event to the overridden (by mpl) onmessage function.\n",
       "        ws.onmessage(msg['content']['data'])\n",
       "    });\n",
       "    return ws;\n",
       "}\n",
       "\n",
       "mpl.mpl_figure_comm = function(comm, msg) {\n",
       "    // This is the function which gets called when the mpl process\n",
       "    // starts-up an IPython Comm through the \"matplotlib\" channel.\n",
       "\n",
       "    var id = msg.content.data.id;\n",
       "    // Get hold of the div created by the display call when the Comm\n",
       "    // socket was opened in Python.\n",
       "    var element = $(\"#\" + id);\n",
       "    var ws_proxy = comm_websocket_adapter(comm)\n",
       "\n",
       "    function ondownload(figure, format) {\n",
       "        window.open(figure.imageObj.src);\n",
       "    }\n",
       "\n",
       "    var fig = new mpl.figure(id, ws_proxy,\n",
       "                           ondownload,\n",
       "                           element.get(0));\n",
       "\n",
       "    // Call onopen now - mpl needs it, as it is assuming we've passed it a real\n",
       "    // web socket which is closed, not our websocket->open comm proxy.\n",
       "    ws_proxy.onopen();\n",
       "\n",
       "    fig.parent_element = element.get(0);\n",
       "    fig.cell_info = mpl.find_output_cell(\"<div id='\" + id + \"'></div>\");\n",
       "    if (!fig.cell_info) {\n",
       "        console.error(\"Failed to find cell for figure\", id, fig);\n",
       "        return;\n",
       "    }\n",
       "\n",
       "    var output_index = fig.cell_info[2]\n",
       "    var cell = fig.cell_info[0];\n",
       "\n",
       "};\n",
       "\n",
       "mpl.figure.prototype.handle_close = function(fig, msg) {\n",
       "    var width = fig.canvas.width/mpl.ratio\n",
       "    fig.root.unbind('remove')\n",
       "\n",
       "    // Update the output cell to use the data from the current canvas.\n",
       "    fig.push_to_output();\n",
       "    var dataURL = fig.canvas.toDataURL();\n",
       "    // Re-enable the keyboard manager in IPython - without this line, in FF,\n",
       "    // the notebook keyboard shortcuts fail.\n",
       "    IPython.keyboard_manager.enable()\n",
       "    $(fig.parent_element).html('<img src=\"' + dataURL + '\" width=\"' + width + '\">');\n",
       "    fig.close_ws(fig, msg);\n",
       "}\n",
       "\n",
       "mpl.figure.prototype.close_ws = function(fig, msg){\n",
       "    fig.send_message('closing', msg);\n",
       "    // fig.ws.close()\n",
       "}\n",
       "\n",
       "mpl.figure.prototype.push_to_output = function(remove_interactive) {\n",
       "    // Turn the data on the canvas into data in the output cell.\n",
       "    var width = this.canvas.width/mpl.ratio\n",
       "    var dataURL = this.canvas.toDataURL();\n",
       "    this.cell_info[1]['text/html'] = '<img src=\"' + dataURL + '\" width=\"' + width + '\">';\n",
       "}\n",
       "\n",
       "mpl.figure.prototype.updated_canvas_event = function() {\n",
       "    // Tell IPython that the notebook contents must change.\n",
       "    IPython.notebook.set_dirty(true);\n",
       "    this.send_message(\"ack\", {});\n",
       "    var fig = this;\n",
       "    // Wait a second, then push the new image to the DOM so\n",
       "    // that it is saved nicely (might be nice to debounce this).\n",
       "    setTimeout(function () { fig.push_to_output() }, 1000);\n",
       "}\n",
       "\n",
       "mpl.figure.prototype._init_toolbar = function() {\n",
       "    var fig = this;\n",
       "\n",
       "    var nav_element = $('<div/>')\n",
       "    nav_element.attr('style', 'width: 100%');\n",
       "    this.root.append(nav_element);\n",
       "\n",
       "    // Define a callback function for later on.\n",
       "    function toolbar_event(event) {\n",
       "        return fig.toolbar_button_onclick(event['data']);\n",
       "    }\n",
       "    function toolbar_mouse_event(event) {\n",
       "        return fig.toolbar_button_onmouseover(event['data']);\n",
       "    }\n",
       "\n",
       "    for(var toolbar_ind in mpl.toolbar_items){\n",
       "        var name = mpl.toolbar_items[toolbar_ind][0];\n",
       "        var tooltip = mpl.toolbar_items[toolbar_ind][1];\n",
       "        var image = mpl.toolbar_items[toolbar_ind][2];\n",
       "        var method_name = mpl.toolbar_items[toolbar_ind][3];\n",
       "\n",
       "        if (!name) { continue; };\n",
       "\n",
       "        var button = $('<button class=\"btn btn-default\" href=\"#\" title=\"' + name + '\"><i class=\"fa ' + image + ' fa-lg\"></i></button>');\n",
       "        button.click(method_name, toolbar_event);\n",
       "        button.mouseover(tooltip, toolbar_mouse_event);\n",
       "        nav_element.append(button);\n",
       "    }\n",
       "\n",
       "    // Add the status bar.\n",
       "    var status_bar = $('<span class=\"mpl-message\" style=\"text-align:right; float: right;\"/>');\n",
       "    nav_element.append(status_bar);\n",
       "    this.message = status_bar[0];\n",
       "\n",
       "    // Add the close button to the window.\n",
       "    var buttongrp = $('<div class=\"btn-group inline pull-right\"></div>');\n",
       "    var button = $('<button class=\"btn btn-mini btn-primary\" href=\"#\" title=\"Stop Interaction\"><i class=\"fa fa-power-off icon-remove icon-large\"></i></button>');\n",
       "    button.click(function (evt) { fig.handle_close(fig, {}); } );\n",
       "    button.mouseover('Stop Interaction', toolbar_mouse_event);\n",
       "    buttongrp.append(button);\n",
       "    var titlebar = this.root.find($('.ui-dialog-titlebar'));\n",
       "    titlebar.prepend(buttongrp);\n",
       "}\n",
       "\n",
       "mpl.figure.prototype._root_extra_style = function(el){\n",
       "    var fig = this\n",
       "    el.on(\"remove\", function(){\n",
       "\tfig.close_ws(fig, {});\n",
       "    });\n",
       "}\n",
       "\n",
       "mpl.figure.prototype._canvas_extra_style = function(el){\n",
       "    // this is important to make the div 'focusable\n",
       "    el.attr('tabindex', 0)\n",
       "    // reach out to IPython and tell the keyboard manager to turn it's self\n",
       "    // off when our div gets focus\n",
       "\n",
       "    // location in version 3\n",
       "    if (IPython.notebook.keyboard_manager) {\n",
       "        IPython.notebook.keyboard_manager.register_events(el);\n",
       "    }\n",
       "    else {\n",
       "        // location in version 2\n",
       "        IPython.keyboard_manager.register_events(el);\n",
       "    }\n",
       "\n",
       "}\n",
       "\n",
       "mpl.figure.prototype._key_event_extra = function(event, name) {\n",
       "    var manager = IPython.notebook.keyboard_manager;\n",
       "    if (!manager)\n",
       "        manager = IPython.keyboard_manager;\n",
       "\n",
       "    // Check for shift+enter\n",
       "    if (event.shiftKey && event.which == 13) {\n",
       "        this.canvas_div.blur();\n",
       "        event.shiftKey = false;\n",
       "        // Send a \"J\" for go to next cell\n",
       "        event.which = 74;\n",
       "        event.keyCode = 74;\n",
       "        manager.command_mode();\n",
       "        manager.handle_keydown(event);\n",
       "    }\n",
       "}\n",
       "\n",
       "mpl.figure.prototype.handle_save = function(fig, msg) {\n",
       "    fig.ondownload(fig, null);\n",
       "}\n",
       "\n",
       "\n",
       "mpl.find_output_cell = function(html_output) {\n",
       "    // Return the cell and output element which can be found *uniquely* in the notebook.\n",
       "    // Note - this is a bit hacky, but it is done because the \"notebook_saving.Notebook\"\n",
       "    // IPython event is triggered only after the cells have been serialised, which for\n",
       "    // our purposes (turning an active figure into a static one), is too late.\n",
       "    var cells = IPython.notebook.get_cells();\n",
       "    var ncells = cells.length;\n",
       "    for (var i=0; i<ncells; i++) {\n",
       "        var cell = cells[i];\n",
       "        if (cell.cell_type === 'code'){\n",
       "            for (var j=0; j<cell.output_area.outputs.length; j++) {\n",
       "                var data = cell.output_area.outputs[j];\n",
       "                if (data.data) {\n",
       "                    // IPython >= 3 moved mimebundle to data attribute of output\n",
       "                    data = data.data;\n",
       "                }\n",
       "                if (data['text/html'] == html_output) {\n",
       "                    return [cell, data, j];\n",
       "                }\n",
       "            }\n",
       "        }\n",
       "    }\n",
       "}\n",
       "\n",
       "// Register the function which deals with the matplotlib target/channel.\n",
       "// The kernel may be null if the page has been refreshed.\n",
       "if (IPython.notebook.kernel != null) {\n",
       "    IPython.notebook.kernel.comm_manager.register_target('matplotlib', mpl.mpl_figure_comm);\n",
       "}\n"
      ],
      "text/plain": [
       "<IPython.core.display.Javascript object>"
      ]
     },
     "metadata": {},
     "output_type": "display_data"
    },
    {
     "data": {
      "text/html": [
       "<img src=\"data:image/png;base64,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\" width=\"639.6666666666666\">"
      ],
      "text/plain": [
       "<IPython.core.display.HTML object>"
      ]
     },
     "metadata": {},
     "output_type": "display_data"
    }
   ],
   "source": [
    "sns.barplot(x=\"Feature\", y=\"Importance\", data=final_feat_imports[:20])\n",
    "plt.xticks(rotation=90)\n",
    "plt.tight_layout()"
   ]
  },
  {
   "cell_type": "code",
   "execution_count": null,
   "metadata": {},
   "outputs": [],
   "source": []
  },
  {
   "cell_type": "markdown",
   "metadata": {
    "heading_collapsed": true
   },
   "source": [
    "### log reg, on EXT sources with poly interactions\n",
    "Kaggle: Public: 0.70579 Private:0.71612"
   ]
  },
  {
   "cell_type": "code",
   "execution_count": 32,
   "metadata": {
    "hidden": true
   },
   "outputs": [
    {
     "name": "stdout",
     "output_type": "stream",
     "text": [
      "Total original feat len is 3. Sum of feats is 3.\n",
      "Final array is length 35. final feature list is length 35.\n"
     ]
    }
   ],
   "source": [
    "total_df_piped, final_feature_list, total_pipeline, trans_list = \\\n",
    "master_pipeline(df_in = TRAIN_df[['EXT_SOURCE_1','EXT_SOURCE_2',\n",
    "                                         'EXT_SOURCE_3']],\n",
    "                int_cutoff=20, \n",
    "                poly_deg=4, \n",
    "                feats_with_interaction=['EXT_SOURCE_1','EXT_SOURCE_2',\n",
    "                                         'EXT_SOURCE_3']\n",
    "                )"
   ]
  },
  {
   "cell_type": "code",
   "execution_count": null,
   "metadata": {
    "hidden": true
   },
   "outputs": [],
   "source": []
  },
  {
   "cell_type": "code",
   "execution_count": 33,
   "metadata": {
    "hidden": true,
    "scrolled": false
   },
   "outputs": [],
   "source": [
    "TEST_piped = total_pipeline.transform(TEST_df)"
   ]
  },
  {
   "cell_type": "code",
   "execution_count": 34,
   "metadata": {
    "hidden": true
   },
   "outputs": [
    {
     "data": {
      "text/plain": [
       "LogisticRegression(C=30.5, class_weight=None, dual=False, fit_intercept=True,\n",
       "          intercept_scaling=1, max_iter=100, multi_class='ovr', n_jobs=1,\n",
       "          penalty='l2', random_state=0, solver='liblinear', tol=0.0001,\n",
       "          verbose=0, warm_start=False)"
      ]
     },
     "execution_count": 34,
     "metadata": {},
     "output_type": "execute_result"
    }
   ],
   "source": [
    "LogReg_EXTpoly_level_1 = joblib.load(path_to_models + 'LogReg_EXTpoly_level_1.joblib')\n",
    "LogReg_EXTpoly_level_1"
   ]
  },
  {
   "cell_type": "code",
   "execution_count": null,
   "metadata": {
    "hidden": true
   },
   "outputs": [],
   "source": []
  },
  {
   "cell_type": "code",
   "execution_count": 35,
   "metadata": {
    "hidden": true
   },
   "outputs": [],
   "source": [
    "preds = LogReg_EXTpoly_level_1.predict_proba(TEST_piped)\n",
    "val_scores = [x[1] for x in preds]"
   ]
  },
  {
   "cell_type": "code",
   "execution_count": null,
   "metadata": {
    "hidden": true
   },
   "outputs": [],
   "source": []
  },
  {
   "cell_type": "code",
   "execution_count": 36,
   "metadata": {
    "hidden": true
   },
   "outputs": [],
   "source": [
    "raw_level_1_new_features_df['LogReg_EXTpoly'] = val_scores"
   ]
  },
  {
   "cell_type": "code",
   "execution_count": null,
   "metadata": {
    "hidden": true
   },
   "outputs": [],
   "source": []
  },
  {
   "cell_type": "code",
   "execution_count": 37,
   "metadata": {
    "hidden": true
   },
   "outputs": [],
   "source": [
    "this_model = 'LogReg_EXTpoly'\n",
    "\n",
    "raw_level_1_new_features_df[[this_model]].to_csv(level_1_preds_save_path + this_model + '.csv', \n",
    "                                                 columns = list(raw_level_1_new_features_df[[this_model]].columns),\n",
    "                                                 header = ['TARGET'],\n",
    "                                                 )"
   ]
  },
  {
   "cell_type": "code",
   "execution_count": null,
   "metadata": {
    "hidden": true
   },
   "outputs": [],
   "source": []
  },
  {
   "cell_type": "markdown",
   "metadata": {
    "heading_collapsed": true
   },
   "source": [
    "###  log reg, on all features\n",
    "Kaggle: Public: 0.75913 Private: 0.76233"
   ]
  },
  {
   "cell_type": "code",
   "execution_count": null,
   "metadata": {
    "hidden": true
   },
   "outputs": [],
   "source": []
  },
  {
   "cell_type": "code",
   "execution_count": 38,
   "metadata": {
    "hidden": true,
    "scrolled": true
   },
   "outputs": [
    {
     "name": "stdout",
     "output_type": "stream",
     "text": [
      "Total original feat len is 85. Sum of feats is 85.\n",
      "Final array is length 418. final feature list is length 418.\n"
     ]
    }
   ],
   "source": [
    "total_df_piped, final_feature_list, total_pipeline, trans_list = \\\n",
    "master_pipeline(df_in = TRAIN_df,\n",
    "                int_cutoff=20, \n",
    "                poly_deg=4, \n",
    "                feats_with_interaction=[]\n",
    "                )"
   ]
  },
  {
   "cell_type": "code",
   "execution_count": null,
   "metadata": {
    "hidden": true
   },
   "outputs": [],
   "source": []
  },
  {
   "cell_type": "code",
   "execution_count": 39,
   "metadata": {
    "hidden": true,
    "scrolled": false
   },
   "outputs": [],
   "source": [
    "TEST_piped = total_pipeline.transform(TEST_df)"
   ]
  },
  {
   "cell_type": "code",
   "execution_count": 40,
   "metadata": {
    "hidden": true
   },
   "outputs": [
    {
     "data": {
      "text/plain": [
       "LogisticRegression(C=5.5, class_weight=None, dual=False, fit_intercept=True,\n",
       "          intercept_scaling=1, max_iter=100, multi_class='ovr', n_jobs=1,\n",
       "          penalty='l2', random_state=0, solver='liblinear', tol=0.0001,\n",
       "          verbose=0, warm_start=False)"
      ]
     },
     "execution_count": 40,
     "metadata": {},
     "output_type": "execute_result"
    }
   ],
   "source": [
    "LogReg_AllFeats_level_1 = joblib.load(path_to_models + 'LogReg_AllFeats_level_1.joblib')\n",
    "LogReg_AllFeats_level_1"
   ]
  },
  {
   "cell_type": "code",
   "execution_count": null,
   "metadata": {
    "hidden": true
   },
   "outputs": [],
   "source": []
  },
  {
   "cell_type": "code",
   "execution_count": 41,
   "metadata": {
    "hidden": true
   },
   "outputs": [],
   "source": [
    "preds = LogReg_AllFeats_level_1.predict_proba(TEST_piped)\n",
    "val_scores = [x[1] for x in preds]"
   ]
  },
  {
   "cell_type": "code",
   "execution_count": null,
   "metadata": {
    "hidden": true
   },
   "outputs": [],
   "source": []
  },
  {
   "cell_type": "code",
   "execution_count": 42,
   "metadata": {
    "hidden": true
   },
   "outputs": [],
   "source": [
    "raw_level_1_new_features_df['LogReg_AllFeats'] = val_scores"
   ]
  },
  {
   "cell_type": "code",
   "execution_count": null,
   "metadata": {
    "hidden": true
   },
   "outputs": [],
   "source": []
  },
  {
   "cell_type": "code",
   "execution_count": 43,
   "metadata": {
    "hidden": true
   },
   "outputs": [],
   "source": [
    "this_model = 'LogReg_AllFeats'\n",
    "\n",
    "raw_level_1_new_features_df[[this_model]].to_csv(level_1_preds_save_path + this_model + '.csv', \n",
    "                                                 columns = list(raw_level_1_new_features_df[[this_model]].columns),\n",
    "                                                 header = ['TARGET'],\n",
    "                                                 )"
   ]
  },
  {
   "cell_type": "code",
   "execution_count": null,
   "metadata": {
    "hidden": true
   },
   "outputs": [],
   "source": []
  },
  {
   "cell_type": "markdown",
   "metadata": {
    "heading_collapsed": true
   },
   "source": [
    "### MLP Classifier, all features. \n",
    "Kaggle: Public: 0.75187 Private: 0.75392"
   ]
  },
  {
   "cell_type": "code",
   "execution_count": null,
   "metadata": {
    "hidden": true
   },
   "outputs": [],
   "source": []
  },
  {
   "cell_type": "code",
   "execution_count": 44,
   "metadata": {
    "hidden": true,
    "scrolled": true
   },
   "outputs": [
    {
     "name": "stdout",
     "output_type": "stream",
     "text": [
      "Total original feat len is 85. Sum of feats is 85.\n",
      "Final array is length 418. final feature list is length 418.\n"
     ]
    }
   ],
   "source": [
    "total_df_piped, final_feature_list, total_pipeline, trans_list = \\\n",
    "master_pipeline(df_in = TRAIN_df,\n",
    "                int_cutoff=20, \n",
    "                poly_deg=4, \n",
    "                feats_with_interaction=[]\n",
    "                )"
   ]
  },
  {
   "cell_type": "code",
   "execution_count": null,
   "metadata": {
    "hidden": true
   },
   "outputs": [],
   "source": []
  },
  {
   "cell_type": "code",
   "execution_count": 45,
   "metadata": {
    "hidden": true,
    "scrolled": false
   },
   "outputs": [],
   "source": [
    "TEST_piped = total_pipeline.transform(TEST_df)"
   ]
  },
  {
   "cell_type": "code",
   "execution_count": 46,
   "metadata": {
    "hidden": true
   },
   "outputs": [
    {
     "data": {
      "text/plain": [
       "MLPClassifier(activation='relu', alpha=0.35, batch_size='auto', beta_1=0.9,\n",
       "       beta_2=0.999, early_stopping=False, epsilon=1e-08,\n",
       "       hidden_layer_sizes=(100,), learning_rate='constant',\n",
       "       learning_rate_init=0.001, max_iter=200, momentum=0.9,\n",
       "       nesterovs_momentum=True, power_t=0.5, random_state=0, shuffle=True,\n",
       "       solver='adam', tol=0.0001, validation_fraction=0.1, verbose=False,\n",
       "       warm_start=False)"
      ]
     },
     "execution_count": 46,
     "metadata": {},
     "output_type": "execute_result"
    }
   ],
   "source": [
    "MLP_AllFeats_level_1 = joblib.load(path_to_models + 'MLP_AllFeats_level_1.joblib')\n",
    "MLP_AllFeats_level_1"
   ]
  },
  {
   "cell_type": "code",
   "execution_count": null,
   "metadata": {
    "hidden": true
   },
   "outputs": [],
   "source": []
  },
  {
   "cell_type": "code",
   "execution_count": 47,
   "metadata": {
    "hidden": true
   },
   "outputs": [],
   "source": [
    "preds = MLP_AllFeats_level_1.predict_proba(TEST_piped)\n",
    "val_scores = [x[1] for x in preds]"
   ]
  },
  {
   "cell_type": "code",
   "execution_count": null,
   "metadata": {
    "hidden": true
   },
   "outputs": [],
   "source": []
  },
  {
   "cell_type": "code",
   "execution_count": 48,
   "metadata": {
    "hidden": true
   },
   "outputs": [],
   "source": [
    "raw_level_1_new_features_df['MLP_AllFeats'] = val_scores"
   ]
  },
  {
   "cell_type": "code",
   "execution_count": null,
   "metadata": {
    "hidden": true
   },
   "outputs": [],
   "source": []
  },
  {
   "cell_type": "code",
   "execution_count": 49,
   "metadata": {
    "hidden": true
   },
   "outputs": [],
   "source": [
    "this_model = 'MLP_AllFeats'\n",
    "\n",
    "raw_level_1_new_features_df[[this_model]].to_csv(level_1_preds_save_path + this_model + '.csv', \n",
    "                                                 columns = list(raw_level_1_new_features_df[[this_model]].columns),\n",
    "                                                 header = ['TARGET'],\n",
    "                                                 )"
   ]
  },
  {
   "cell_type": "code",
   "execution_count": null,
   "metadata": {
    "hidden": true
   },
   "outputs": [],
   "source": []
  },
  {
   "cell_type": "code",
   "execution_count": null,
   "metadata": {
    "hidden": true
   },
   "outputs": [],
   "source": []
  },
  {
   "cell_type": "code",
   "execution_count": null,
   "metadata": {
    "hidden": true
   },
   "outputs": [],
   "source": []
  },
  {
   "cell_type": "markdown",
   "metadata": {
    "heading_collapsed": true
   },
   "source": [
    "# final new level 1 meta-features"
   ]
  },
  {
   "cell_type": "code",
   "execution_count": null,
   "metadata": {
    "hidden": true
   },
   "outputs": [],
   "source": []
  },
  {
   "cell_type": "code",
   "execution_count": 50,
   "metadata": {
    "hidden": true
   },
   "outputs": [],
   "source": [
    "def pwr_and_rescale(df_col, pwr):\n",
    "    temp_col = df_col**pwr\n",
    "    return (temp_col - min(temp_col)) /( max(temp_col) - min(temp_col))"
   ]
  },
  {
   "cell_type": "code",
   "execution_count": null,
   "metadata": {
    "hidden": true
   },
   "outputs": [],
   "source": []
  },
  {
   "cell_type": "code",
   "execution_count": 51,
   "metadata": {
    "hidden": true
   },
   "outputs": [],
   "source": [
    "FINAL_level_1_new_features_df = pd.DataFrame()"
   ]
  },
  {
   "cell_type": "code",
   "execution_count": null,
   "metadata": {
    "hidden": true
   },
   "outputs": [],
   "source": []
  },
  {
   "cell_type": "code",
   "execution_count": 52,
   "metadata": {
    "code_folding": [
     9,
     13
    ],
    "hidden": true
   },
   "outputs": [],
   "source": [
    "feat = 'RanFor_EXTpoly'\n",
    "FINAL_level_1_new_features_df['pwr_rescale_'+ feat] = pwr_and_rescale(+raw_level_1_new_features_df[feat], 1/5)\n",
    "#total_df.drop(columns=[feat], inplace = True)\n",
    "\n",
    "feat = 'RanFor_AllFeats'\n",
    "FINAL_level_1_new_features_df['pwr_rescale_'+ feat] = pwr_and_rescale(+raw_level_1_new_features_df[feat], 1/3.5)\n",
    "#total_df.drop(columns=[feat], inplace = True)\n",
    "\n",
    "feat = 'LogReg_EXTpoly'\n",
    "FINAL_level_1_new_features_df['pwr_rescale_'+ feat] = pwr_and_rescale(+raw_level_1_new_features_df[feat], 1/7)\n",
    "#total_df.drop(columns=[feat], inplace = True)\n",
    "\n",
    "feat = 'LogReg_AllFeats'\n",
    "FINAL_level_1_new_features_df['pwr_rescale_'+ feat] = pwr_and_rescale(+raw_level_1_new_features_df[feat], 1/4)\n",
    "#total_df.drop(columns=[feat], inplace = True)\n",
    "\n",
    "feat = 'MLP_AllFeats'\n",
    "FINAL_level_1_new_features_df['pwr_rescale_'+ feat] = pwr_and_rescale(+raw_level_1_new_features_df[feat], 1/4)\n",
    "#total_df.drop(columns=[feat], inplace = True)\n"
   ]
  },
  {
   "cell_type": "code",
   "execution_count": null,
   "metadata": {
    "hidden": true
   },
   "outputs": [],
   "source": []
  },
  {
   "cell_type": "code",
   "execution_count": 53,
   "metadata": {
    "hidden": true
   },
   "outputs": [
    {
     "data": {
      "text/plain": [
       "'/Users/DonBunk/Desktop/Google Drive/data_science/Python_Projects/Home_Credit_Default_Risk'"
      ]
     },
     "execution_count": 53,
     "metadata": {},
     "output_type": "execute_result"
    }
   ],
   "source": [
    "pwd"
   ]
  },
  {
   "cell_type": "code",
   "execution_count": null,
   "metadata": {
    "hidden": true
   },
   "outputs": [],
   "source": []
  },
  {
   "cell_type": "code",
   "execution_count": 54,
   "metadata": {
    "hidden": true
   },
   "outputs": [],
   "source": [
    "FINAL_level_1_new_features_df.to_csv(level_1_metafeats_save_path + 'FINAL_level_1_meta_features_df.csv', \n",
    "                                     columns = list(FINAL_level_1_new_features_df.columns))"
   ]
  },
  {
   "cell_type": "code",
   "execution_count": null,
   "metadata": {
    "hidden": true
   },
   "outputs": [],
   "source": []
  }
 ],
 "metadata": {
  "kernelspec": {
   "display_name": "Python 3",
   "language": "python",
   "name": "python3"
  },
  "language_info": {
   "codemirror_mode": {
    "name": "ipython",
    "version": 3
   },
   "file_extension": ".py",
   "mimetype": "text/x-python",
   "name": "python",
   "nbconvert_exporter": "python",
   "pygments_lexer": "ipython3",
   "version": "3.6.6"
  },
  "latex_envs": {
   "LaTeX_envs_menu_present": true,
   "autocomplete": true,
   "bibliofile": "biblio.bib",
   "cite_by": "apalike",
   "current_citInitial": 1,
   "eqLabelWithNumbers": true,
   "eqNumInitial": 1,
   "hotkeys": {
    "equation": "Ctrl-E",
    "itemize": "Ctrl-I"
   },
   "labels_anchors": false,
   "latex_user_defs": false,
   "report_style_numbering": false,
   "user_envs_cfg": false
  },
  "toc": {
   "nav_menu": {},
   "number_sections": true,
   "sideBar": true,
   "skip_h1_title": false,
   "toc_cell": false,
   "toc_position": {},
   "toc_section_display": "none",
   "toc_window_display": false
  },
  "varInspector": {
   "cols": {
    "lenName": 16,
    "lenType": 16,
    "lenVar": 40
   },
   "kernels_config": {
    "python": {
     "delete_cmd_postfix": "",
     "delete_cmd_prefix": "del ",
     "library": "var_list.py",
     "varRefreshCmd": "print(var_dic_list())"
    },
    "r": {
     "delete_cmd_postfix": ") ",
     "delete_cmd_prefix": "rm(",
     "library": "var_list.r",
     "varRefreshCmd": "cat(var_dic_list()) "
    }
   },
   "oldHeight": 1038.5,
   "position": {
    "height": "852px",
    "left": "897px",
    "right": "-112.4px",
    "top": "128px",
    "width": "800px"
   },
   "types_to_exclude": [
    "module",
    "function",
    "builtin_function_or_method",
    "instance",
    "_Feature"
   ],
   "varInspector_section_display": "block",
   "window_display": false
  }
 },
 "nbformat": 4,
 "nbformat_minor": 2
}
