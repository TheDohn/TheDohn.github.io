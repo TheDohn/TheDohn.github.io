{
 "cells": [
  {
   "cell_type": "code",
   "execution_count": 1,
   "metadata": {},
   "outputs": [
    {
     "data": {
      "text/plain": [
       "('1.14.2', '0.23.3')"
      ]
     },
     "execution_count": 1,
     "metadata": {},
     "output_type": "execute_result"
    }
   ],
   "source": [
    "import pandas as pd\n",
    "\n",
    "import numpy as np\n",
    "\n",
    "\n",
    "import matplotlib.pyplot as plt\n",
    "import seaborn as sns\n",
    "sns.set(context = 'notebook', #The base context is “notebook”, and the other contexts are “paper”, “talk”, and “poster”\n",
    "        style = 'darkgrid', #dict, None, or one of {darkgrid, whitegrid, dark, white, ticks}\n",
    "        palette = 'deep', # Should be something that color_palette() can process.\n",
    "        font_scale = 1, \n",
    "        color_codes = False, \n",
    "        rc = None)\n",
    "\n",
    "from IPython.display import display\n",
    "\n",
    "%matplotlib notebook\n",
    "\n",
    "np.version.version, pd.__version__"
   ]
  },
  {
   "cell_type": "code",
   "execution_count": null,
   "metadata": {},
   "outputs": [],
   "source": []
  },
  {
   "cell_type": "code",
   "execution_count": 2,
   "metadata": {
    "code_folding": [
     2,
     6,
     13
    ]
   },
   "outputs": [],
   "source": [
    "# some functions to load\n",
    "\n",
    "def head_with_full_columns(pd_in, row_amount = 5):\n",
    "    with pd.option_context('display.max_columns', len(pd_in.iloc[0])):\n",
    "        display(pd_in[:row_amount])\n",
    "        \n",
    "def balanced_sample(df_in, total_size, rand_state):\n",
    "    s0 = df_in[df_in['TARGET']==0].sample(n = total_size//2, random_state = rand_state)\n",
    "    s1 = df_in[df_in['TARGET']==1].sample(n = total_size//2, random_state = rand_state)\n",
    "    new_df = pd.concat([s0,s1])\n",
    "    new_df.sort_index(inplace = True)\n",
    "    return new_df\n",
    "\n",
    "def which_df(feature):\n",
    "    if feature in application_train_df_f_list:\n",
    "        return feature, 'application_train_df'\n",
    "    \n",
    "    if feature in bureau_df_f_list:\n",
    "        return feature, 'bureau_df'\n",
    "        \n",
    "    if feature in bureau_balance_df_f_list:\n",
    "        return feature, 'bureau_balance_df'\n",
    "        \n",
    "    if feature in credit_card_balance_df_f_list:\n",
    "        return feature, 'credit_card_balance_df'\n",
    "    \n",
    "    if feature in installments_payments_df_f_list:\n",
    "        return feature, 'installments_payments_df'\n",
    "        \n",
    "    if feature in POS_CASH_balance_df_f_list:\n",
    "        return feature, 'POS_CASH_balance_df'\n",
    "        \n",
    "    if feature in previous_application_df_f_list:\n",
    "        return feature, 'previous_application_df'"
   ]
  },
  {
   "cell_type": "code",
   "execution_count": null,
   "metadata": {},
   "outputs": [],
   "source": []
  },
  {
   "cell_type": "code",
   "execution_count": 2,
   "metadata": {},
   "outputs": [
    {
     "data": {
      "text/plain": [
       "'/Users/DonBunk/Desktop/Google Drive/data_science/Python_Projects/Home_Credit_Default_Risk/aggregation/TEST_aggregation'"
      ]
     },
     "execution_count": 2,
     "metadata": {},
     "output_type": "execute_result"
    }
   ],
   "source": [
    "pwd"
   ]
  },
  {
   "cell_type": "code",
   "execution_count": 4,
   "metadata": {},
   "outputs": [
    {
     "name": "stdout",
     "output_type": "stream",
     "text": [
      "/Users/DonBunk/Desktop/Google Drive/data_science/Python_Projects/Home_Credit_Default_Risk\n"
     ]
    }
   ],
   "source": [
    "cd '/Users/DonBunk/Desktop/Google Drive/data_science/Python_Projects/Home_Credit_Default_Risk/'"
   ]
  },
  {
   "cell_type": "code",
   "execution_count": null,
   "metadata": {},
   "outputs": [],
   "source": []
  },
  {
   "cell_type": "code",
   "execution_count": 5,
   "metadata": {},
   "outputs": [],
   "source": [
    "path_w = 'raw_loan_data_from_Kaggle/'\n",
    "path_a = 'aggregation/TEST_aggregation/'"
   ]
  },
  {
   "cell_type": "code",
   "execution_count": null,
   "metadata": {},
   "outputs": [],
   "source": []
  },
  {
   "cell_type": "code",
   "execution_count": 6,
   "metadata": {},
   "outputs": [],
   "source": [
    "test_SK_ID_index_df = pd.read_csv(path_w + 'application_test.csv', usecols=['SK_ID_CURR'], index_col = 'SK_ID_CURR')\n",
    "\n",
    "test_SK_ID_index_df.sort_values(by = ['SK_ID_CURR'], inplace=True)"
   ]
  },
  {
   "cell_type": "code",
   "execution_count": null,
   "metadata": {},
   "outputs": [],
   "source": []
  },
  {
   "cell_type": "markdown",
   "metadata": {},
   "source": [
    "# aggregate data for each df and merge dfs"
   ]
  },
  {
   "cell_type": "code",
   "execution_count": null,
   "metadata": {},
   "outputs": [],
   "source": []
  },
  {
   "cell_type": "markdown",
   "metadata": {
    "heading_collapsed": true
   },
   "source": [
    "## load bureau csv"
   ]
  },
  {
   "cell_type": "code",
   "execution_count": null,
   "metadata": {
    "hidden": true
   },
   "outputs": [],
   "source": []
  },
  {
   "cell_type": "code",
   "execution_count": 8,
   "metadata": {
    "hidden": true
   },
   "outputs": [],
   "source": [
    "bureau_df = pd.read_csv(path_w + 'bureau.csv')#, index_col = 'SK_ID_CURR')\n",
    "# replace NaNs in object entries for now is pretty safe. \n",
    "f_list = list(bureau_df.select_dtypes('object').columns)\n",
    "bureau_df[f_list] = bureau_df[f_list].fillna(value = 'NA')\n",
    "# AMT_ANNUITY appears in multiple files, so rename more specifically. \n",
    "bureau_df.rename( columns = {\"AMT_ANNUITY\":\"AMT_ANNUITY_from_bureau\"} , inplace=True)# index = str,\n",
    "del f_list"
   ]
  },
  {
   "cell_type": "code",
   "execution_count": null,
   "metadata": {
    "hidden": true
   },
   "outputs": [],
   "source": []
  },
  {
   "cell_type": "markdown",
   "metadata": {
    "heading_collapsed": true,
    "hidden": true
   },
   "source": [
    "### aggregate and define df"
   ]
  },
  {
   "cell_type": "code",
   "execution_count": null,
   "metadata": {
    "hidden": true
   },
   "outputs": [],
   "source": []
  },
  {
   "cell_type": "code",
   "execution_count": 9,
   "metadata": {
    "hidden": true,
    "scrolled": true
   },
   "outputs": [
    {
     "name": "stdout",
     "output_type": "stream",
     "text": [
      "<class 'pandas.core.frame.DataFrame'>\n",
      "RangeIndex: 1716428 entries, 0 to 1716427\n",
      "Data columns (total 17 columns):\n",
      "SK_ID_CURR                 1716428 non-null int64\n",
      "SK_ID_BUREAU               1716428 non-null int64\n",
      "CREDIT_ACTIVE              1716428 non-null object\n",
      "CREDIT_CURRENCY            1716428 non-null object\n",
      "DAYS_CREDIT                1716428 non-null int64\n",
      "CREDIT_DAY_OVERDUE         1716428 non-null int64\n",
      "DAYS_CREDIT_ENDDATE        1610875 non-null float64\n",
      "DAYS_ENDDATE_FACT          1082775 non-null float64\n",
      "AMT_CREDIT_MAX_OVERDUE     591940 non-null float64\n",
      "CNT_CREDIT_PROLONG         1716428 non-null int64\n",
      "AMT_CREDIT_SUM             1716415 non-null float64\n",
      "AMT_CREDIT_SUM_DEBT        1458759 non-null float64\n",
      "AMT_CREDIT_SUM_LIMIT       1124648 non-null float64\n",
      "AMT_CREDIT_SUM_OVERDUE     1716428 non-null float64\n",
      "CREDIT_TYPE                1716428 non-null object\n",
      "DAYS_CREDIT_UPDATE         1716428 non-null int64\n",
      "AMT_ANNUITY_from_bureau    489637 non-null float64\n",
      "dtypes: float64(8), int64(6), object(3)\n",
      "memory usage: 222.6+ MB\n"
     ]
    }
   ],
   "source": [
    "bureau_df.info(verbose = True, null_counts = True)"
   ]
  },
  {
   "cell_type": "code",
   "execution_count": 10,
   "metadata": {
    "hidden": true
   },
   "outputs": [
    {
     "data": {
      "text/plain": [
       "305811"
      ]
     },
     "execution_count": 10,
     "metadata": {},
     "output_type": "execute_result"
    }
   ],
   "source": [
    "len(np.unique(bureau_df['SK_ID_CURR'].values))"
   ]
  },
  {
   "cell_type": "code",
   "execution_count": null,
   "metadata": {
    "hidden": true,
    "scrolled": false
   },
   "outputs": [],
   "source": []
  },
  {
   "cell_type": "markdown",
   "metadata": {
    "hidden": true
   },
   "source": [
    "All the floats are really floats, and all the integers are continous numerical."
   ]
  },
  {
   "cell_type": "code",
   "execution_count": 11,
   "metadata": {
    "hidden": true
   },
   "outputs": [],
   "source": [
    "# group interger features\n",
    "bureau_df_float_list = list(bureau_df.select_dtypes('float64').columns)\n",
    "bureau_df_float_grouped = bureau_df[bureau_df_float_list].groupby(bureau_df['SK_ID_CURR'])\n",
    "\n",
    "# apply functions to these features and name them appropriately\n",
    "function_list = ['mean', 'median','max','min'] \n",
    "bureau_df_float_grouped_agg = bureau_df_float_grouped.agg(function_list)\n",
    "new_cols = ['_'.join(col).strip() for col in bureau_df_float_grouped_agg.columns.values]\n",
    "bureau_df_float_grouped_agg.columns = new_cols"
   ]
  },
  {
   "cell_type": "code",
   "execution_count": 12,
   "metadata": {
    "hidden": true
   },
   "outputs": [],
   "source": [
    "# group float features, remove ID features\n",
    "bureau_df_int_list = list(    bureau_df.select_dtypes('int64').columns    )\n",
    "bureau_df_int_list.remove('SK_ID_CURR')\n",
    "bureau_df_int_list.remove('SK_ID_BUREAU')\n",
    "bureau_df_int_grouped = bureau_df[bureau_df_int_list].groupby(bureau_df['SK_ID_CURR'])\n",
    "\n",
    "# apply functions to these features and name them appropriately\n",
    "function_list = ['mean', 'median','max','min']\n",
    "bureau_df_int_grouped_agg = bureau_df_int_grouped.agg(function_list)\n",
    "new_cols = ['_'.join(col).strip() for col in bureau_df_int_grouped_agg.columns.values]\n",
    "bureau_df_int_grouped_agg.columns = new_cols"
   ]
  },
  {
   "cell_type": "code",
   "execution_count": 13,
   "metadata": {
    "hidden": true
   },
   "outputs": [],
   "source": [
    "# group string features\n",
    "bureau_df_string_list = list(bureau_df.select_dtypes('object').columns)\n",
    "bureau_df_string_grouped = bureau_df[bureau_df_string_list].groupby(bureau_df['SK_ID_CURR'])\n",
    "\n",
    "# calculate the mode for each aggregated feature\n",
    "# this takes a VERY long time to run\n",
    "bureau_df_string_grouped_agg = bureau_df_string_grouped.agg(lambda x:x.value_counts().index[0])\n",
    "bureau_df_string_grouped_agg.columns = [x + '_mode' for x in bureau_df_string_grouped_agg.columns]"
   ]
  },
  {
   "cell_type": "code",
   "execution_count": 14,
   "metadata": {
    "hidden": true
   },
   "outputs": [],
   "source": []
  },
  {
   "cell_type": "code",
   "execution_count": 16,
   "metadata": {
    "hidden": true,
    "scrolled": false
   },
   "outputs": [],
   "source": [
    "# merge int, float, and string features into new df\n",
    "bureau_df_float_and_int_grouped = pd.merge(bureau_df_float_grouped_agg, bureau_df_int_grouped_agg, left_index=True, right_index=True)\n",
    "bureau_df_aggregated_final = pd.merge(bureau_df_float_and_int_grouped, bureau_df_string_grouped_agg, left_index=True, right_index=True)"
   ]
  },
  {
   "cell_type": "code",
   "execution_count": 17,
   "metadata": {
    "hidden": true
   },
   "outputs": [],
   "source": []
  },
  {
   "cell_type": "code",
   "execution_count": 18,
   "metadata": {
    "hidden": true
   },
   "outputs": [
    {
     "name": "stdout",
     "output_type": "stream",
     "text": [
      "<class 'pandas.core.frame.DataFrame'>\n",
      "Int64Index: 305811 entries, 100001 to 456255\n",
      "Data columns (total 51 columns):\n",
      "DAYS_CREDIT_ENDDATE_mean          303226 non-null float64\n",
      "DAYS_CREDIT_ENDDATE_median        303226 non-null float64\n",
      "DAYS_CREDIT_ENDDATE_max           303226 non-null float64\n",
      "DAYS_CREDIT_ENDDATE_min           303226 non-null float64\n",
      "DAYS_ENDDATE_FACT_mean            268155 non-null float64\n",
      "DAYS_ENDDATE_FACT_median          268155 non-null float64\n",
      "DAYS_ENDDATE_FACT_max             268155 non-null float64\n",
      "DAYS_ENDDATE_FACT_min             268155 non-null float64\n",
      "AMT_CREDIT_MAX_OVERDUE_mean       212971 non-null float64\n",
      "AMT_CREDIT_MAX_OVERDUE_median     212971 non-null float64\n",
      "AMT_CREDIT_MAX_OVERDUE_max        212971 non-null float64\n",
      "AMT_CREDIT_MAX_OVERDUE_min        212971 non-null float64\n",
      "AMT_CREDIT_SUM_mean               305809 non-null float64\n",
      "AMT_CREDIT_SUM_median             305809 non-null float64\n",
      "AMT_CREDIT_SUM_max                305809 non-null float64\n",
      "AMT_CREDIT_SUM_min                305809 non-null float64\n",
      "AMT_CREDIT_SUM_DEBT_mean          297439 non-null float64\n",
      "AMT_CREDIT_SUM_DEBT_median        297439 non-null float64\n",
      "AMT_CREDIT_SUM_DEBT_max           297439 non-null float64\n",
      "AMT_CREDIT_SUM_DEBT_min           297439 non-null float64\n",
      "AMT_CREDIT_SUM_LIMIT_mean         280503 non-null float64\n",
      "AMT_CREDIT_SUM_LIMIT_median       280503 non-null float64\n",
      "AMT_CREDIT_SUM_LIMIT_max          280503 non-null float64\n",
      "AMT_CREDIT_SUM_LIMIT_min          280503 non-null float64\n",
      "AMT_CREDIT_SUM_OVERDUE_mean       305811 non-null float64\n",
      "AMT_CREDIT_SUM_OVERDUE_median     305811 non-null float64\n",
      "AMT_CREDIT_SUM_OVERDUE_max        305811 non-null float64\n",
      "AMT_CREDIT_SUM_OVERDUE_min        305811 non-null float64\n",
      "AMT_ANNUITY_from_bureau_mean      118224 non-null float64\n",
      "AMT_ANNUITY_from_bureau_median    118224 non-null float64\n",
      "AMT_ANNUITY_from_bureau_max       118224 non-null float64\n",
      "AMT_ANNUITY_from_bureau_min       118224 non-null float64\n",
      "DAYS_CREDIT_mean                  305811 non-null float64\n",
      "DAYS_CREDIT_median                305811 non-null float64\n",
      "DAYS_CREDIT_max                   305811 non-null int64\n",
      "DAYS_CREDIT_min                   305811 non-null int64\n",
      "CREDIT_DAY_OVERDUE_mean           305811 non-null float64\n",
      "CREDIT_DAY_OVERDUE_median         305811 non-null float64\n",
      "CREDIT_DAY_OVERDUE_max            305811 non-null int64\n",
      "CREDIT_DAY_OVERDUE_min            305811 non-null int64\n",
      "CNT_CREDIT_PROLONG_mean           305811 non-null float64\n",
      "CNT_CREDIT_PROLONG_median         305811 non-null float64\n",
      "CNT_CREDIT_PROLONG_max            305811 non-null int64\n",
      "CNT_CREDIT_PROLONG_min            305811 non-null int64\n",
      "DAYS_CREDIT_UPDATE_mean           305811 non-null float64\n",
      "DAYS_CREDIT_UPDATE_median         305811 non-null float64\n",
      "DAYS_CREDIT_UPDATE_max            305811 non-null int64\n",
      "DAYS_CREDIT_UPDATE_min            305811 non-null int64\n",
      "CREDIT_ACTIVE_mode                305811 non-null object\n",
      "CREDIT_CURRENCY_mode              305811 non-null object\n",
      "CREDIT_TYPE_mode                  305811 non-null object\n",
      "dtypes: float64(40), int64(8), object(3)\n",
      "memory usage: 131.3+ MB\n"
     ]
    }
   ],
   "source": [
    "bureau_df_aggregated_final.info()"
   ]
  },
  {
   "cell_type": "code",
   "execution_count": null,
   "metadata": {
    "hidden": true
   },
   "outputs": [],
   "source": []
  },
  {
   "cell_type": "code",
   "execution_count": 19,
   "metadata": {
    "hidden": true
   },
   "outputs": [],
   "source": [
    "# add in all SK_IDS, which will appear as NaNs in new df\n",
    "bureau_df_aggregated_final = pd.merge(test_SK_ID_index_df, bureau_df_aggregated_final, left_index=True, right_index=True, how = 'left')"
   ]
  },
  {
   "cell_type": "code",
   "execution_count": 20,
   "metadata": {
    "hidden": true
   },
   "outputs": [],
   "source": [
    "bureau_df_aggregated_final.to_csv(path_a + 'bureau_df_aggregated_final.csv', columns = list(bureau_df_aggregated_final.columns))"
   ]
  },
  {
   "cell_type": "code",
   "execution_count": null,
   "metadata": {
    "hidden": true
   },
   "outputs": [],
   "source": []
  },
  {
   "cell_type": "code",
   "execution_count": 21,
   "metadata": {
    "hidden": true
   },
   "outputs": [],
   "source": [
    "del bureau_df\n",
    "del bureau_df_float_list\n",
    "del bureau_df_float_grouped\n",
    "del bureau_df_float_grouped_agg\n",
    "del bureau_df_int_list\n",
    "del bureau_df_int_grouped\n",
    "del function_list\n",
    "del bureau_df_int_grouped_agg \n",
    "del bureau_df_string_list \n",
    "del bureau_df_string_grouped\n",
    "del bureau_df_string_grouped_agg \n",
    "del bureau_df_float_and_int_grouped\n",
    "del new_cols "
   ]
  },
  {
   "cell_type": "code",
   "execution_count": null,
   "metadata": {
    "hidden": true
   },
   "outputs": [],
   "source": []
  },
  {
   "cell_type": "markdown",
   "metadata": {},
   "source": [
    "## installments_payments_df"
   ]
  },
  {
   "cell_type": "code",
   "execution_count": null,
   "metadata": {},
   "outputs": [],
   "source": []
  },
  {
   "cell_type": "code",
   "execution_count": 22,
   "metadata": {},
   "outputs": [],
   "source": [
    "installments_payments_df = pd.read_csv(path_w + 'installments_payments.csv')#, index_col = 'SK_ID_CURR')\n",
    "# replace NaNs in object entries for now is pretty safe. \n",
    "f_list = list(installments_payments_df.select_dtypes('object').columns)\n",
    "installments_payments_df[f_list] = installments_payments_df[f_list].fillna(value = 'NA')\n",
    "del f_list"
   ]
  },
  {
   "cell_type": "markdown",
   "metadata": {
    "heading_collapsed": true
   },
   "source": [
    "### add new column features to full df"
   ]
  },
  {
   "cell_type": "code",
   "execution_count": null,
   "metadata": {
    "hidden": true
   },
   "outputs": [],
   "source": []
  },
  {
   "cell_type": "code",
   "execution_count": 24,
   "metadata": {
    "hidden": true,
    "scrolled": true
   },
   "outputs": [
    {
     "name": "stdout",
     "output_type": "stream",
     "text": [
      "<class 'pandas.core.frame.DataFrame'>\n",
      "RangeIndex: 13605401 entries, 0 to 13605400\n",
      "Data columns (total 8 columns):\n",
      "SK_ID_PREV                13605401 non-null int64\n",
      "SK_ID_CURR                13605401 non-null int64\n",
      "NUM_INSTALMENT_VERSION    13605401 non-null float64\n",
      "NUM_INSTALMENT_NUMBER     13605401 non-null int64\n",
      "DAYS_INSTALMENT           13605401 non-null float64\n",
      "DAYS_ENTRY_PAYMENT        13602496 non-null float64\n",
      "AMT_INSTALMENT            13605401 non-null float64\n",
      "AMT_PAYMENT               13602496 non-null float64\n",
      "dtypes: float64(5), int64(3)\n",
      "memory usage: 830.4 MB\n"
     ]
    }
   ],
   "source": [
    "installments_payments_df.info(null_counts=True)"
   ]
  },
  {
   "cell_type": "code",
   "execution_count": 25,
   "metadata": {
    "hidden": true
   },
   "outputs": [],
   "source": [
    "# add these new features in full DF. \n",
    "installments_payments_df['DAYS_PAYMENT_LATE'] = installments_payments_df['DAYS_ENTRY_PAYMENT'] - installments_payments_df['DAYS_INSTALMENT']\n",
    "installments_payments_df['AMT_OVERPAY'] = installments_payments_df['AMT_PAYMENT'] - installments_payments_df['AMT_INSTALMENT']"
   ]
  },
  {
   "cell_type": "code",
   "execution_count": 26,
   "metadata": {
    "hidden": true,
    "scrolled": false
   },
   "outputs": [],
   "source": [
    "# organize indices to call later. \n",
    "installments_payments_df.set_index(['SK_ID_CURR','SK_ID_PREV', 'NUM_INSTALMENT_NUMBER'], inplace = True)\n",
    "installments_payments_df.sort_index(inplace=True)"
   ]
  },
  {
   "cell_type": "code",
   "execution_count": null,
   "metadata": {
    "hidden": true
   },
   "outputs": [],
   "source": []
  },
  {
   "cell_type": "code",
   "execution_count": 27,
   "metadata": {
    "hidden": true
   },
   "outputs": [],
   "source": [
    "# this takes WHILE to run for the full df. \n",
    "\n",
    "# peel off, group, and find diffs of NUM_INSTALMENT_VERSION to see how often loan payment calender changed. \n",
    "\n",
    "# NOTE YOU NEED DOUBLE SQUARE BRACKETS BELOW SO THAT YOU DEFINE A DF NOT A SERIES, group by and diff only seem to work on former!\n",
    "NUM_INSTALMENT_VERSION_df = installments_payments_df[['NUM_INSTALMENT_VERSION']]\n",
    "NUM_INSTALMENT_VERSION_df_grouped = NUM_INSTALMENT_VERSION_df[['NUM_INSTALMENT_VERSION']].groupby(level = 1)\n",
    "\n",
    "# THIS TAKES AWHILE!\n",
    "NUM_INSTALMENT_VERSION_df_grouped_diff = NUM_INSTALMENT_VERSION_df_grouped.diff()"
   ]
  },
  {
   "cell_type": "code",
   "execution_count": 28,
   "metadata": {
    "hidden": true
   },
   "outputs": [],
   "source": [
    "# rename this new feature and join with original full DF. \n",
    "NUM_INSTALMENT_VERSION_df_grouped_diff['NUM_INSTALMENT_VERSION_diff'] = NUM_INSTALMENT_VERSION_df_grouped_diff['NUM_INSTALMENT_VERSION']\n",
    "installments_payments_df = installments_payments_df.join( NUM_INSTALMENT_VERSION_df_grouped_diff['NUM_INSTALMENT_VERSION_diff'])"
   ]
  },
  {
   "cell_type": "code",
   "execution_count": null,
   "metadata": {
    "hidden": true
   },
   "outputs": [],
   "source": []
  },
  {
   "cell_type": "code",
   "execution_count": 30,
   "metadata": {
    "hidden": true
   },
   "outputs": [],
   "source": [
    "# reset NUM_INSTALMENT_NUMBER and SK_ID_PREV to columns\n",
    "installments_payments_df.reset_index(level=2, inplace=True)\n",
    "installments_payments_df.reset_index(level=1, inplace=True)"
   ]
  },
  {
   "cell_type": "code",
   "execution_count": null,
   "metadata": {
    "hidden": true
   },
   "outputs": [],
   "source": []
  },
  {
   "cell_type": "code",
   "execution_count": 32,
   "metadata": {
    "code_folding": [
     0,
     3,
     6
    ],
    "hidden": true
   },
   "outputs": [],
   "source": [
    "def count_unique(list_in):\n",
    "    return len(np.unique(list_in))\n",
    "\n",
    "def count_postive(list_in):\n",
    "    return len([x for x in list_in if x > 0])\n",
    "\n",
    "def count_negative(list_in):\n",
    "    return len([x for x in list_in if x < 0])"
   ]
  },
  {
   "cell_type": "code",
   "execution_count": null,
   "metadata": {
    "hidden": true
   },
   "outputs": [],
   "source": []
  },
  {
   "cell_type": "code",
   "execution_count": 33,
   "metadata": {
    "hidden": true
   },
   "outputs": [],
   "source": [
    "installments_payments_df_grouped = installments_payments_df.groupby('SK_ID_CURR')\n",
    "\n",
    "# create the new feature and make a new summary feature DF out of it. \n",
    "num_of_loans = installments_payments_df_grouped['SK_ID_PREV'].agg([('NUM_OF_LOANS', count_unique)])\n",
    "installments_payments_df_summary = num_of_loans"
   ]
  },
  {
   "cell_type": "code",
   "execution_count": 34,
   "metadata": {
    "hidden": true
   },
   "outputs": [],
   "source": [
    "# demote SK_ID_CURR index to column for aggregation\n",
    "installments_payments_df.reset_index(level=0, inplace=True)"
   ]
  },
  {
   "cell_type": "code",
   "execution_count": 35,
   "metadata": {
    "hidden": true
   },
   "outputs": [],
   "source": [
    "# group for aggregation\n",
    "installments_payments_df_grouped = installments_payments_df.groupby('SK_ID_CURR')"
   ]
  },
  {
   "cell_type": "code",
   "execution_count": 36,
   "metadata": {
    "hidden": true
   },
   "outputs": [],
   "source": [
    "# early/ late features. \n",
    "\n",
    "agg_list = [('DAYS_PAYMENT_LATE_mean', np.mean), \n",
    "            ('DAYS_PAYMENT_LATE_median', np.median),\n",
    "            ('DAYS_PAYMENT_LATE_sd', np.std),\n",
    "            ('NUM_TIMES_LATE', count_postive),\n",
    "            ('NUM_TIMES_EARLY', count_negative)]\n",
    "\n",
    "some_feats = installments_payments_df_grouped['DAYS_PAYMENT_LATE'].agg(agg_list)\n",
    "\n",
    "installments_payments_df_summary = installments_payments_df_summary.join(some_feats)"
   ]
  },
  {
   "cell_type": "code",
   "execution_count": 37,
   "metadata": {
    "hidden": true
   },
   "outputs": [],
   "source": [
    "# over/under pay features. \n",
    "\n",
    "agg_list = [('AMT_OVERPAY_MEAN', np.mean), \n",
    "            ('AMT_OVERPAY_MEDIAN', np.median),\n",
    "            ('AMT_OVERPAY_SD', np.std),\n",
    "            ('NUM_TIMES_OVERPAY', count_postive),\n",
    "            ('NUM_TIMES_UNDERPAY', count_negative)]\n",
    "\n",
    "some_feats = installments_payments_df_grouped['NUM_INSTALMENT_VERSION_diff'].agg(agg_list)\n",
    "\n",
    "installments_payments_df_summary = installments_payments_df_summary.join(some_feats)"
   ]
  },
  {
   "cell_type": "code",
   "execution_count": 38,
   "metadata": {
    "hidden": true
   },
   "outputs": [],
   "source": [
    "# loan terms change features. \n",
    "\n",
    "agg_list = [('TERMS_CHANGE_TIMES', np.count_nonzero)]\n",
    "\n",
    "some_feats = installments_payments_df_grouped['NUM_INSTALMENT_VERSION_diff'].agg(agg_list)\n",
    "\n",
    "installments_payments_df_summary = installments_payments_df_summary.join(some_feats)"
   ]
  },
  {
   "cell_type": "code",
   "execution_count": 39,
   "metadata": {
    "hidden": true
   },
   "outputs": [],
   "source": [
    "installments_payments_df_summary['TERMS_CHANGE_PER_LOAN'] \\\n",
    "= installments_payments_df_summary['TERMS_CHANGE_TIMES']/installments_payments_df_summary['NUM_OF_LOANS']"
   ]
  },
  {
   "cell_type": "code",
   "execution_count": null,
   "metadata": {
    "hidden": true
   },
   "outputs": [],
   "source": []
  },
  {
   "cell_type": "code",
   "execution_count": 41,
   "metadata": {
    "hidden": true
   },
   "outputs": [
    {
     "name": "stdout",
     "output_type": "stream",
     "text": [
      "<class 'pandas.core.frame.DataFrame'>\n",
      "Int64Index: 339587 entries, 100001 to 456255\n",
      "Data columns (total 13 columns):\n",
      "NUM_OF_LOANS                339587 non-null int64\n",
      "DAYS_PAYMENT_LATE_mean      339578 non-null float64\n",
      "DAYS_PAYMENT_LATE_median    339578 non-null float64\n",
      "DAYS_PAYMENT_LATE_sd        338610 non-null float64\n",
      "NUM_TIMES_LATE              339587 non-null float64\n",
      "NUM_TIMES_EARLY             339587 non-null float64\n",
      "AMT_OVERPAY_MEAN            338569 non-null float64\n",
      "AMT_OVERPAY_MEDIAN          338569 non-null float64\n",
      "AMT_OVERPAY_SD              337656 non-null float64\n",
      "NUM_TIMES_OVERPAY           339587 non-null float64\n",
      "NUM_TIMES_UNDERPAY          339587 non-null float64\n",
      "TERMS_CHANGE_TIMES          339587 non-null float64\n",
      "TERMS_CHANGE_PER_LOAN       339587 non-null float64\n",
      "dtypes: float64(12), int64(1)\n",
      "memory usage: 46.3 MB\n"
     ]
    }
   ],
   "source": [
    "installments_payments_df_summary.info(verbose = True, null_counts = True)"
   ]
  },
  {
   "cell_type": "code",
   "execution_count": null,
   "metadata": {
    "hidden": true
   },
   "outputs": [],
   "source": []
  },
  {
   "cell_type": "code",
   "execution_count": 43,
   "metadata": {
    "hidden": true
   },
   "outputs": [],
   "source": [
    "del NUM_INSTALMENT_VERSION_df\n",
    "del NUM_INSTALMENT_VERSION_df_grouped\n",
    "del NUM_INSTALMENT_VERSION_df_grouped_diff \n",
    "del num_of_loans \n",
    "del installments_payments_df_grouped\n",
    "del agg_list \n",
    "del some_feats"
   ]
  },
  {
   "cell_type": "code",
   "execution_count": null,
   "metadata": {
    "hidden": true
   },
   "outputs": [],
   "source": []
  },
  {
   "cell_type": "markdown",
   "metadata": {
    "heading_collapsed": true
   },
   "source": [
    "### basic aggregate data"
   ]
  },
  {
   "cell_type": "code",
   "execution_count": null,
   "metadata": {
    "hidden": true
   },
   "outputs": [],
   "source": []
  },
  {
   "cell_type": "code",
   "execution_count": 44,
   "metadata": {
    "hidden": true
   },
   "outputs": [],
   "source": [
    "# have to drop these columns if I have previously ran the section above. \n",
    "installments_payments_df.drop(columns = ['DAYS_PAYMENT_LATE','AMT_OVERPAY','NUM_INSTALMENT_VERSION_diff'], inplace = True)"
   ]
  },
  {
   "cell_type": "code",
   "execution_count": 46,
   "metadata": {
    "hidden": true,
    "scrolled": true
   },
   "outputs": [
    {
     "name": "stdout",
     "output_type": "stream",
     "text": [
      "<class 'pandas.core.frame.DataFrame'>\n",
      "RangeIndex: 15120797 entries, 0 to 15120796\n",
      "Data columns (total 8 columns):\n",
      "SK_ID_CURR                15120797 non-null int64\n",
      "SK_ID_PREV                15120797 non-null int64\n",
      "NUM_INSTALMENT_NUMBER     15120797 non-null int64\n",
      "NUM_INSTALMENT_VERSION    15120797 non-null float64\n",
      "DAYS_INSTALMENT           15120797 non-null float64\n",
      "DAYS_ENTRY_PAYMENT        15117863 non-null float64\n",
      "AMT_INSTALMENT            15120797 non-null float64\n",
      "AMT_PAYMENT               15117863 non-null float64\n",
      "dtypes: float64(5), int64(3)\n",
      "memory usage: 922.9 MB\n"
     ]
    }
   ],
   "source": [
    "installments_payments_df.info(verbose = True, null_counts = True)"
   ]
  },
  {
   "cell_type": "markdown",
   "metadata": {
    "hidden": true
   },
   "source": [
    "All the floats are really floats, and all the integers are continous numerical.\n",
    "No string features. "
   ]
  },
  {
   "cell_type": "code",
   "execution_count": 50,
   "metadata": {
    "hidden": true
   },
   "outputs": [],
   "source": [
    "installments_payments_df_float_grouped = installments_payments_df.groupby(installments_payments_df['SK_ID_CURR'])"
   ]
  },
  {
   "cell_type": "code",
   "execution_count": null,
   "metadata": {
    "hidden": true
   },
   "outputs": [],
   "source": []
  },
  {
   "cell_type": "code",
   "execution_count": 51,
   "metadata": {
    "hidden": true,
    "scrolled": false
   },
   "outputs": [],
   "source": [
    "# group the float features\n",
    "installments_payments_df_float_list = list(installments_payments_df.select_dtypes('float64').columns)\n",
    "\n",
    "installments_payments_df_float_grouped = \\\n",
    "installments_payments_df[installments_payments_df_float_list].groupby(installments_payments_df['SK_ID_CURR'])\n",
    "\n",
    "# apply these functions to the aggregated feaures, and name acoordingly\n",
    "function_list = ['mean', 'median', 'max', 'min']\n",
    "installments_payments_df_float_grouped_agg = installments_payments_df_float_grouped.agg(function_list)\n",
    "\n",
    "new_cols = ['_'.join(col).strip() for col in installments_payments_df_float_grouped_agg.columns.values]\n",
    "installments_payments_df_float_grouped_agg.columns = new_cols"
   ]
  },
  {
   "cell_type": "code",
   "execution_count": null,
   "metadata": {
    "hidden": true
   },
   "outputs": [],
   "source": [
    "# group the int features\n",
    "installments_payments_df_int_list = list(    installments_payments_df.select_dtypes('int64').columns    )\n",
    "installments_payments_df_int_list.remove('SK_ID_CURR')\n",
    "installments_payments_df_int_list.remove('SK_ID_PREV')\n",
    "\n",
    "installments_payments_df_int_grouped = \\\n",
    "installments_payments_df[installments_payments_df_int_list].groupby(installments_payments_df['SK_ID_CURR'])\n",
    "\n",
    "# apply these functions to the aggregated feaures, and name acoordingly\n",
    "function_list = ['mean', 'median','max','min']\n",
    "installments_payments_df_int_grouped_agg = installments_payments_df_int_grouped.agg(function_list)\n",
    "\n",
    "new_cols = ['_'.join(col).strip() for col in installments_payments_df_int_grouped_agg.columns.values]\n",
    "installments_payments_df_int_grouped_agg.columns = new_cols"
   ]
  },
  {
   "cell_type": "code",
   "execution_count": null,
   "metadata": {
    "hidden": true
   },
   "outputs": [],
   "source": [
    "# merge all the above as new df\n",
    "installments_payments_df_aggregated_final = \\\n",
    "pd.merge(installments_payments_df_float_grouped_agg, installments_payments_df_int_grouped_agg, left_index=True, right_index=True)"
   ]
  },
  {
   "cell_type": "code",
   "execution_count": null,
   "metadata": {
    "hidden": true
   },
   "outputs": [],
   "source": []
  },
  {
   "cell_type": "code",
   "execution_count": 54,
   "metadata": {
    "hidden": true
   },
   "outputs": [],
   "source": [
    "del installments_payments_df_float_list\n",
    "del installments_payments_df_float_grouped \n",
    "del function_list\n",
    "del installments_payments_df_float_grouped_agg\n",
    "del new_cols \n",
    "del installments_payments_df_int_list \n",
    "del installments_payments_df_int_grouped\n",
    "del installments_payments_df_int_grouped_agg"
   ]
  },
  {
   "cell_type": "code",
   "execution_count": null,
   "metadata": {
    "hidden": true
   },
   "outputs": [],
   "source": []
  },
  {
   "cell_type": "markdown",
   "metadata": {
    "heading_collapsed": true
   },
   "source": [
    "### merge dfs from two sections above"
   ]
  },
  {
   "cell_type": "code",
   "execution_count": null,
   "metadata": {
    "hidden": true
   },
   "outputs": [],
   "source": []
  },
  {
   "cell_type": "code",
   "execution_count": 55,
   "metadata": {
    "hidden": true
   },
   "outputs": [],
   "source": [
    "# add in all SK_IDS, which will appear as NaNs in new df\n",
    "installments_payments_df_final = pd.merge(test_SK_ID_index_df, installments_payments_df_summary, left_index=True, right_index=True, how = 'left')\n",
    "installments_payments_df_final = pd.merge(installments_payments_df_final, installments_payments_df_aggregated_final, left_index=True, right_index=True, how = 'left')"
   ]
  },
  {
   "cell_type": "code",
   "execution_count": 56,
   "metadata": {
    "hidden": true
   },
   "outputs": [],
   "source": [
    "installments_payments_df_final.to_csv(path_a + 'installments_payments_df_final.csv', columns = list(installments_payments_df_final.columns))"
   ]
  },
  {
   "cell_type": "code",
   "execution_count": null,
   "metadata": {
    "hidden": true
   },
   "outputs": [],
   "source": []
  },
  {
   "cell_type": "code",
   "execution_count": 57,
   "metadata": {
    "hidden": true
   },
   "outputs": [
    {
     "data": {
      "text/plain": [
       "Index(['NUM_OF_LOANS', 'DAYS_PAYMENT_LATE_mean', 'DAYS_PAYMENT_LATE_median',\n",
       "       'DAYS_PAYMENT_LATE_sd', 'NUM_TIMES_LATE', 'NUM_TIMES_EARLY',\n",
       "       'AMT_OVERPAY_MEAN', 'AMT_OVERPAY_MEDIAN', 'AMT_OVERPAY_SD',\n",
       "       'NUM_TIMES_OVERPAY', 'NUM_TIMES_UNDERPAY', 'TERMS_CHANGE_TIMES',\n",
       "       'TERMS_CHANGE_PER_LOAN', 'NUM_INSTALMENT_VERSION_mean',\n",
       "       'NUM_INSTALMENT_VERSION_median', 'NUM_INSTALMENT_VERSION_max',\n",
       "       'NUM_INSTALMENT_VERSION_min', 'DAYS_INSTALMENT_mean',\n",
       "       'DAYS_INSTALMENT_median', 'DAYS_INSTALMENT_max', 'DAYS_INSTALMENT_min',\n",
       "       'DAYS_ENTRY_PAYMENT_mean', 'DAYS_ENTRY_PAYMENT_median',\n",
       "       'DAYS_ENTRY_PAYMENT_max', 'DAYS_ENTRY_PAYMENT_min',\n",
       "       'AMT_INSTALMENT_mean', 'AMT_INSTALMENT_median', 'AMT_INSTALMENT_max',\n",
       "       'AMT_INSTALMENT_min', 'AMT_PAYMENT_mean', 'AMT_PAYMENT_median',\n",
       "       'AMT_PAYMENT_max', 'AMT_PAYMENT_min', 'NUM_INSTALMENT_NUMBER_mean',\n",
       "       'NUM_INSTALMENT_NUMBER_median', 'NUM_INSTALMENT_NUMBER_max',\n",
       "       'NUM_INSTALMENT_NUMBER_min'],\n",
       "      dtype='object')"
      ]
     },
     "execution_count": 57,
     "metadata": {},
     "output_type": "execute_result"
    }
   ],
   "source": [
    "installments_payments_df_final.columns"
   ]
  },
  {
   "cell_type": "code",
   "execution_count": null,
   "metadata": {
    "hidden": true
   },
   "outputs": [],
   "source": []
  },
  {
   "cell_type": "code",
   "execution_count": 58,
   "metadata": {
    "hidden": true
   },
   "outputs": [],
   "source": [
    "del installments_payments_df_summary\n",
    "del installments_payments_df\n",
    "del installments_payments_df_final\n",
    "del installments_payments_df_aggregated_final"
   ]
  },
  {
   "cell_type": "code",
   "execution_count": null,
   "metadata": {
    "hidden": true
   },
   "outputs": [],
   "source": []
  },
  {
   "cell_type": "markdown",
   "metadata": {},
   "source": [
    "##  POS_CASH_balance_df"
   ]
  },
  {
   "cell_type": "code",
   "execution_count": 59,
   "metadata": {},
   "outputs": [],
   "source": [
    "POS_CASH_balance_df = pd.read_csv(path_w + 'POS_CASH_balance.csv')\n",
    "# replace NaNs in object entries for now is pretty safe. \n",
    "\n",
    "f_list = list(POS_CASH_balance_df.select_dtypes('object').columns)\n",
    "POS_CASH_balance_df[f_list] = POS_CASH_balance_df[f_list].fillna(value = 'NA')\n",
    "del f_list"
   ]
  },
  {
   "cell_type": "markdown",
   "metadata": {
    "heading_collapsed": true
   },
   "source": [
    "### Aggregate data"
   ]
  },
  {
   "cell_type": "code",
   "execution_count": null,
   "metadata": {
    "hidden": true
   },
   "outputs": [],
   "source": []
  },
  {
   "cell_type": "code",
   "execution_count": 61,
   "metadata": {
    "hidden": true,
    "scrolled": true
   },
   "outputs": [
    {
     "name": "stdout",
     "output_type": "stream",
     "text": [
      "<class 'pandas.core.frame.DataFrame'>\n",
      "RangeIndex: 10001358 entries, 0 to 10001357\n",
      "Data columns (total 8 columns):\n",
      "SK_ID_PREV               10001358 non-null int64\n",
      "SK_ID_CURR               10001358 non-null int64\n",
      "MONTHS_BALANCE           10001358 non-null int64\n",
      "CNT_INSTALMENT           9975287 non-null float64\n",
      "CNT_INSTALMENT_FUTURE    9975271 non-null float64\n",
      "NAME_CONTRACT_STATUS     10001358 non-null object\n",
      "SK_DPD                   10001358 non-null int64\n",
      "SK_DPD_DEF               10001358 non-null int64\n",
      "dtypes: float64(2), int64(5), object(1)\n",
      "memory usage: 610.4+ MB\n"
     ]
    }
   ],
   "source": [
    "POS_CASH_balance_df.info(verbose = True, null_counts = True)"
   ]
  },
  {
   "cell_type": "markdown",
   "metadata": {
    "hidden": true
   },
   "source": [
    "All the floats are really floats, and all the integers are continous numerical."
   ]
  },
  {
   "cell_type": "code",
   "execution_count": 64,
   "metadata": {
    "hidden": true
   },
   "outputs": [],
   "source": [
    "# group all the float features and aggregate\n",
    "POS_CASH_balance_df_float_list = list(POS_CASH_balance_df.select_dtypes('float64').columns)\n",
    "\n",
    "POS_CASH_balance_df_float_grouped = POS_CASH_balance_df[POS_CASH_balance_df_float_list].groupby(POS_CASH_balance_df['SK_ID_CURR'])\n",
    "\n",
    "# apply the functions to the aggregated features and name accordingly\n",
    "function_list = ['mean', 'median','max','min']\n",
    "POS_CASH_balance_df_float_grouped_agg = POS_CASH_balance_df_float_grouped.agg(function_list)\n",
    "new_cols = ['_'.join(col).strip() for col in POS_CASH_balance_df_float_grouped_agg.columns.values]\n",
    "POS_CASH_balance_df_float_grouped_agg.columns = new_cols"
   ]
  },
  {
   "cell_type": "code",
   "execution_count": 65,
   "metadata": {
    "hidden": true
   },
   "outputs": [],
   "source": [
    "# group all int features and aggregate, drop ID features\n",
    "POS_CASH_balance_df_int_list = list(    POS_CASH_balance_df.select_dtypes('int64').columns    )\n",
    "POS_CASH_balance_df_int_list.remove('SK_ID_CURR')\n",
    "POS_CASH_balance_df_int_list.remove('SK_ID_PREV')\n",
    "\n",
    "POS_CASH_balance_df_int_grouped = POS_CASH_balance_df[POS_CASH_balance_df_int_list].groupby(POS_CASH_balance_df['SK_ID_CURR'])\n",
    "\n",
    "# apply the functions to the aggregated features and name accordingly\n",
    "function_list = ['mean', 'median','max','min']\n",
    "POS_CASH_balance_df_int_grouped_agg = POS_CASH_balance_df_int_grouped.agg(function_list)\n",
    "new_cols = ['_'.join(col).strip() for col in POS_CASH_balance_df_int_grouped_agg.columns.values]\n",
    "POS_CASH_balance_df_int_grouped_agg.columns = new_cols"
   ]
  },
  {
   "cell_type": "code",
   "execution_count": 66,
   "metadata": {
    "hidden": true
   },
   "outputs": [],
   "source": [
    "# group all object features and aggregate\n",
    "POS_CASH_balance_df_string_list = list(POS_CASH_balance_df.select_dtypes('object').columns)\n",
    "POS_CASH_balance_df_string_grouped = POS_CASH_balance_df[POS_CASH_balance_df_string_list].groupby(POS_CASH_balance_df['SK_ID_CURR'])\n",
    "\n",
    "# calculate the mode for these features and name accordingly\n",
    "# this takes a long time to run\n",
    "POS_CASH_balance_df_string_grouped_agg = POS_CASH_balance_df_string_grouped.agg(lambda x:x.value_counts().index[0])\n",
    "\n",
    "POS_CASH_balance_df_string_grouped_agg.columns = [x + '_mode' for x in POS_CASH_balance_df_string_grouped_agg.columns]"
   ]
  },
  {
   "cell_type": "code",
   "execution_count": 67,
   "metadata": {
    "hidden": true
   },
   "outputs": [],
   "source": []
  },
  {
   "cell_type": "code",
   "execution_count": 69,
   "metadata": {
    "hidden": true,
    "scrolled": false
   },
   "outputs": [],
   "source": [
    "# merge above dfs\n",
    "POS_CASH_balance_df_float_and_int_grouped = pd.merge(POS_CASH_balance_df_float_grouped_agg, POS_CASH_balance_df_int_grouped_agg, left_index=True, right_index=True)\n",
    "POS_CASH_balance_df_aggregated_final = pd.merge(POS_CASH_balance_df_float_and_int_grouped, POS_CASH_balance_df_string_grouped_agg, left_index=True, right_index=True)"
   ]
  },
  {
   "cell_type": "code",
   "execution_count": null,
   "metadata": {
    "hidden": true
   },
   "outputs": [],
   "source": []
  },
  {
   "cell_type": "code",
   "execution_count": 74,
   "metadata": {
    "hidden": true
   },
   "outputs": [],
   "source": [
    "# add in all SK_IDS, which will appear as NaNs in new df\n",
    "POS_CASH_balance_df_aggregated_final = pd.merge(test_SK_ID_index_df, POS_CASH_balance_df_aggregated_final, left_index=True, right_index=True, how = 'left')"
   ]
  },
  {
   "cell_type": "code",
   "execution_count": 75,
   "metadata": {
    "hidden": true
   },
   "outputs": [],
   "source": [
    "POS_CASH_balance_df_aggregated_final.to_csv(path_a +'POS_CASH_balance_df_aggregated_final.csv', columns = list(POS_CASH_balance_df_aggregated_final.columns))"
   ]
  },
  {
   "cell_type": "code",
   "execution_count": 76,
   "metadata": {
    "hidden": true
   },
   "outputs": [],
   "source": [
    "del POS_CASH_balance_df\n",
    "del POS_CASH_balance_df_aggregated_final\n",
    "del POS_CASH_balance_df_float_list \n",
    "del POS_CASH_balance_df_float_grouped \n",
    "del function_list\n",
    "del POS_CASH_balance_df_float_grouped_agg\n",
    "del new_cols \n",
    "del POS_CASH_balance_df_int_list \n",
    "del POS_CASH_balance_df_int_grouped \n",
    "del POS_CASH_balance_df_int_grouped_agg\n",
    "del POS_CASH_balance_df_string_list\n",
    "del POS_CASH_balance_df_string_grouped\n",
    "del POS_CASH_balance_df_string_grouped_agg \n",
    "del POS_CASH_balance_df_float_and_int_grouped"
   ]
  },
  {
   "cell_type": "code",
   "execution_count": null,
   "metadata": {
    "hidden": true
   },
   "outputs": [],
   "source": []
  },
  {
   "cell_type": "markdown",
   "metadata": {
    "heading_collapsed": true
   },
   "source": [
    "##  previous_application_df"
   ]
  },
  {
   "cell_type": "code",
   "execution_count": 77,
   "metadata": {
    "hidden": true
   },
   "outputs": [],
   "source": [
    "previous_application_df = pd.read_csv(path_w + 'previous_application.csv')\n",
    "# replace NaNs in object entries for now is pretty safe. \n",
    "\n",
    "f_list = list(previous_application_df.select_dtypes('object').columns)\n",
    "previous_application_df[f_list] = previous_application_df[f_list].fillna(value = 'NA')\n",
    "del f_list"
   ]
  },
  {
   "cell_type": "markdown",
   "metadata": {
    "heading_collapsed": true,
    "hidden": true
   },
   "source": [
    "### Aggregate data"
   ]
  },
  {
   "cell_type": "code",
   "execution_count": null,
   "metadata": {
    "hidden": true
   },
   "outputs": [],
   "source": []
  },
  {
   "cell_type": "code",
   "execution_count": 78,
   "metadata": {
    "hidden": true
   },
   "outputs": [],
   "source": [
    "# I have to rename this bc there is an AMT_ANNUITY and NAME_CONTRACT_STATUS in the application data set too, and need to distinguish after merging. \n",
    "previous_application_df.rename(columns= {'AMT_ANNUITY':'AMT_ANNUITY_PREV_APP', 'NAME_CONTRACT_STATUS':'NAME_CONTRACT_STATUS_PREV_APP'}, inplace=True)"
   ]
  },
  {
   "cell_type": "code",
   "execution_count": 80,
   "metadata": {
    "hidden": true
   },
   "outputs": [
    {
     "name": "stdout",
     "output_type": "stream",
     "text": [
      "<class 'pandas.core.frame.DataFrame'>\n",
      "RangeIndex: 1670214 entries, 0 to 1670213\n",
      "Data columns (total 37 columns):\n",
      "SK_ID_PREV                       1670214 non-null int64\n",
      "SK_ID_CURR                       1670214 non-null int64\n",
      "NAME_CONTRACT_TYPE               1670214 non-null object\n",
      "AMT_ANNUITY_PREV_APP             1297979 non-null float64\n",
      "AMT_APPLICATION                  1670214 non-null float64\n",
      "AMT_CREDIT                       1670213 non-null float64\n",
      "AMT_DOWN_PAYMENT                 774370 non-null float64\n",
      "AMT_GOODS_PRICE                  1284699 non-null float64\n",
      "WEEKDAY_APPR_PROCESS_START       1670214 non-null object\n",
      "HOUR_APPR_PROCESS_START          1670214 non-null int64\n",
      "FLAG_LAST_APPL_PER_CONTRACT      1670214 non-null object\n",
      "NFLAG_LAST_APPL_IN_DAY           1670214 non-null int64\n",
      "RATE_DOWN_PAYMENT                774370 non-null float64\n",
      "RATE_INTEREST_PRIMARY            5951 non-null float64\n",
      "RATE_INTEREST_PRIVILEGED         5951 non-null float64\n",
      "NAME_CASH_LOAN_PURPOSE           1670214 non-null object\n",
      "NAME_CONTRACT_STATUS_PREV_APP    1670214 non-null object\n",
      "DAYS_DECISION                    1670214 non-null int64\n",
      "NAME_PAYMENT_TYPE                1670214 non-null object\n",
      "CODE_REJECT_REASON               1670214 non-null object\n",
      "NAME_TYPE_SUITE                  1670214 non-null object\n",
      "NAME_CLIENT_TYPE                 1670214 non-null object\n",
      "NAME_GOODS_CATEGORY              1670214 non-null object\n",
      "NAME_PORTFOLIO                   1670214 non-null object\n",
      "NAME_PRODUCT_TYPE                1670214 non-null object\n",
      "CHANNEL_TYPE                     1670214 non-null object\n",
      "SELLERPLACE_AREA                 1670214 non-null int64\n",
      "NAME_SELLER_INDUSTRY             1670214 non-null object\n",
      "CNT_PAYMENT                      1297984 non-null float64\n",
      "NAME_YIELD_GROUP                 1670214 non-null object\n",
      "PRODUCT_COMBINATION              1670214 non-null object\n",
      "DAYS_FIRST_DRAWING               997149 non-null float64\n",
      "DAYS_FIRST_DUE                   997149 non-null float64\n",
      "DAYS_LAST_DUE_1ST_VERSION        997149 non-null float64\n",
      "DAYS_LAST_DUE                    997149 non-null float64\n",
      "DAYS_TERMINATION                 997149 non-null float64\n",
      "NFLAG_INSURED_ON_APPROVAL        997149 non-null float64\n",
      "dtypes: float64(15), int64(6), object(16)\n",
      "memory usage: 471.5+ MB\n"
     ]
    }
   ],
   "source": [
    "previous_application_df.info(verbose = True, null_counts = True)"
   ]
  },
  {
   "cell_type": "code",
   "execution_count": null,
   "metadata": {
    "hidden": true
   },
   "outputs": [],
   "source": []
  },
  {
   "cell_type": "markdown",
   "metadata": {
    "hidden": true
   },
   "source": [
    "All the floats are really floats, and all the integers are continous numerical except NFLAG_LAST_APPL_IN_DAY so subtract that from int,\n",
    "and add to catagorical list. "
   ]
  },
  {
   "cell_type": "code",
   "execution_count": 84,
   "metadata": {
    "hidden": true
   },
   "outputs": [],
   "source": [
    "# get float features and group them \n",
    "previous_application_df_float_list = list(previous_application_df.select_dtypes('float64').columns)\n",
    "previous_application_df_float_grouped = previous_application_df[previous_application_df_float_list].groupby(previous_application_df['SK_ID_CURR'])\n",
    "\n",
    "# apply these functions and name new features accordinly\n",
    "function_list = ['mean', 'median','max','min']\n",
    "previous_application_df_float_grouped_agg = previous_application_df_float_grouped.agg(function_list)\n",
    "new_cols = ['_'.join(col).strip() for col in previous_application_df_float_grouped_agg.columns.values]\n",
    "previous_application_df_float_grouped_agg.columns = new_cols"
   ]
  },
  {
   "cell_type": "code",
   "execution_count": 85,
   "metadata": {
    "hidden": true
   },
   "outputs": [],
   "source": [
    "# get int features and group them, and drop ID features\n",
    "previous_application_df_int_list = list(    previous_application_df.select_dtypes('int64').columns    )\n",
    "previous_application_df_int_list.remove('SK_ID_CURR')\n",
    "previous_application_df_int_list.remove('SK_ID_PREV')\n",
    "previous_application_df_int_list.remove('NFLAG_LAST_APPL_IN_DAY')\n",
    "\n",
    "previous_application_df_int_grouped = previous_application_df[previous_application_df_int_list].groupby(previous_application_df['SK_ID_CURR'])\n",
    "\n",
    "# apply these functions and name new features accordinly\n",
    "function_list = ['mean', 'median','max','min']\n",
    "previous_application_df_int_grouped_agg = previous_application_df_int_grouped.agg(function_list)\n",
    "new_cols = ['_'.join(col).strip() for col in previous_application_df_int_grouped_agg.columns.values]\n",
    "previous_application_df_int_grouped_agg.columns = new_cols"
   ]
  },
  {
   "cell_type": "code",
   "execution_count": 86,
   "metadata": {
    "hidden": true
   },
   "outputs": [],
   "source": [
    "previous_application_df_string_list = list(previous_application_df.select_dtypes('object').columns) + ['NFLAG_LAST_APPL_IN_DAY']\n",
    "\n",
    "previous_application_df_string_grouped \\\n",
    "= previous_application_df[previous_application_df_string_list].groupby(previous_application_df['SK_ID_CURR'])\n",
    "\n",
    "# calculate the mode for these features and name accordingly\n",
    "# this takes a long time to run\n",
    "previous_application_df_string_grouped_agg \\\n",
    "= previous_application_df_string_grouped.agg(lambda x:x.value_counts().index[0])\n",
    "previous_application_df_string_grouped_agg;\n",
    "\n",
    "previous_application_df_string_grouped_agg.columns = [x + '_mode' for x in previous_application_df_string_grouped_agg.columns]"
   ]
  },
  {
   "cell_type": "code",
   "execution_count": 90,
   "metadata": {
    "hidden": true
   },
   "outputs": [],
   "source": []
  },
  {
   "cell_type": "code",
   "execution_count": 91,
   "metadata": {
    "hidden": true,
    "scrolled": false
   },
   "outputs": [],
   "source": [
    "# merge all these dfs together\n",
    "previous_application_df_float_and_int_grouped = \\\n",
    "pd.merge(previous_application_df_float_grouped_agg, previous_application_df_int_grouped_agg, left_index=True, right_index=True)\n",
    "previous_application_df_aggregated_final = \\\n",
    "pd.merge(previous_application_df_float_and_int_grouped, previous_application_df_string_grouped_agg, left_index=True, right_index=True)"
   ]
  },
  {
   "cell_type": "code",
   "execution_count": null,
   "metadata": {
    "hidden": true
   },
   "outputs": [],
   "source": []
  },
  {
   "cell_type": "code",
   "execution_count": 95,
   "metadata": {
    "hidden": true
   },
   "outputs": [],
   "source": [
    "# add in all SK_IDS, which will appear as NaNs in new df\n",
    "\n",
    "previous_application_df_aggregated_final = pd.merge(test_SK_ID_index_df, previous_application_df_aggregated_final, left_index=True, right_index=True, how = 'left')"
   ]
  },
  {
   "cell_type": "code",
   "execution_count": 96,
   "metadata": {
    "hidden": true
   },
   "outputs": [],
   "source": [
    "previous_application_df_aggregated_final.to_csv(path_a + 'previous_application_df_aggregated_final.csv', columns = list(previous_application_df_aggregated_final.columns))"
   ]
  },
  {
   "cell_type": "code",
   "execution_count": 97,
   "metadata": {
    "hidden": true
   },
   "outputs": [],
   "source": [
    "del previous_application_df\n",
    "del previous_application_df_aggregated_final\n",
    "del previous_application_df_float_list\n",
    "del previous_application_df_float_grouped \n",
    "del function_list\n",
    "del previous_application_df_float_grouped_agg\n",
    "del new_cols \n",
    "del previous_application_df_int_list \n",
    "del previous_application_df_int_grouped\n",
    "del previous_application_df_string_list\n",
    "del previous_application_df_string_grouped\n",
    "del previous_application_df_string_grouped_agg\n",
    "del previous_application_df_float_and_int_grouped"
   ]
  },
  {
   "cell_type": "code",
   "execution_count": null,
   "metadata": {
    "hidden": true
   },
   "outputs": [],
   "source": []
  }
 ],
 "metadata": {
  "kernelspec": {
   "display_name": "Python 3",
   "language": "python",
   "name": "python3"
  },
  "language_info": {
   "codemirror_mode": {
    "name": "ipython",
    "version": 3
   },
   "file_extension": ".py",
   "mimetype": "text/x-python",
   "name": "python",
   "nbconvert_exporter": "python",
   "pygments_lexer": "ipython3",
   "version": "3.6.6"
  },
  "latex_envs": {
   "LaTeX_envs_menu_present": true,
   "autocomplete": true,
   "bibliofile": "biblio.bib",
   "cite_by": "apalike",
   "current_citInitial": 1,
   "eqLabelWithNumbers": true,
   "eqNumInitial": 1,
   "hotkeys": {
    "equation": "Ctrl-E",
    "itemize": "Ctrl-I"
   },
   "labels_anchors": false,
   "latex_user_defs": false,
   "report_style_numbering": false,
   "user_envs_cfg": false
  },
  "toc": {
   "nav_menu": {},
   "number_sections": true,
   "sideBar": true,
   "skip_h1_title": false,
   "toc_cell": false,
   "toc_position": {},
   "toc_section_display": "block",
   "toc_window_display": false
  },
  "varInspector": {
   "cols": {
    "lenName": 16,
    "lenType": 16,
    "lenVar": 40
   },
   "kernels_config": {
    "python": {
     "delete_cmd_postfix": "",
     "delete_cmd_prefix": "del ",
     "library": "var_list.py",
     "varRefreshCmd": "print(var_dic_list())"
    },
    "r": {
     "delete_cmd_postfix": ") ",
     "delete_cmd_prefix": "rm(",
     "library": "var_list.r",
     "varRefreshCmd": "cat(var_dic_list()) "
    }
   },
   "oldHeight": 524.733334,
   "position": {
    "height": "665px",
    "left": "1261px",
    "right": "33px",
    "top": "10px",
    "width": "800px"
   },
   "types_to_exclude": [
    "module",
    "function",
    "builtin_function_or_method",
    "instance",
    "_Feature"
   ],
   "varInspector_section_display": "block",
   "window_display": false
  }
 },
 "nbformat": 4,
 "nbformat_minor": 2
}
