{
 "cells": [
  {
   "cell_type": "code",
   "execution_count": 1,
   "metadata": {},
   "outputs": [
    {
     "data": {
      "text/plain": [
       "('0.23.3', '0.9.0', '1.14.2')"
      ]
     },
     "execution_count": 1,
     "metadata": {},
     "output_type": "execute_result"
    }
   ],
   "source": [
    "import pandas as pd\n",
    "\n",
    "import numpy as np\n",
    "\n",
    "from functools import reduce\n",
    "\n",
    "#import matplotlib\n",
    "import matplotlib.pyplot as plt\n",
    "import seaborn as sns\n",
    "sns.set(context = 'notebook', #mostly controls relative sizes of things on plot #The base context is “notebook”, and the other contexts are “paper”, “talk”, and “poster”\n",
    "        style = 'darkgrid', #dict, None, or one of {darkgrid, whitegrid, dark, white, ticks}\n",
    "        palette = 'deep', # Should be something that color_palette() can process.\n",
    "        font_scale = 1, \n",
    "        color_codes = False, \n",
    "        rc = None)\n",
    "\n",
    "from scipy import stats\n",
    "\n",
    "# from IPython.core.interactiveshell import InteractiveShell \n",
    "# InteractiveShell.ast_node_interactivity = 'last_expr' #s etting = \"all\" allows multiple outputs to be displayed for a given input cell. don't use w plotting!\n",
    "\n",
    "from IPython.display import display\n",
    "\n",
    "%matplotlib notebook\n",
    "#%matplotlib inline\n",
    "\n",
    "pd.__version__, sns.__version__ , np.__version__ #,  matplotlib.__version__"
   ]
  },
  {
   "cell_type": "code",
   "execution_count": null,
   "metadata": {},
   "outputs": [],
   "source": []
  },
  {
   "cell_type": "code",
   "execution_count": 2,
   "metadata": {
    "code_folding": [
     1,
     5
    ]
   },
   "outputs": [],
   "source": [
    "# some functions to load\n",
    "def head_with_full_columns(pd_in, row_amount = 5):\n",
    "    with pd.option_context('display.max_columns', len(pd_in.iloc[0])):\n",
    "        display(pd_in[:row_amount])\n",
    "        \n",
    "def balanced_sample(df_in, total_size, rand_state):\n",
    "    s0 = df_in[df_in['TARGET']==0].sample(n = total_size//2, random_state = rand_state)\n",
    "    s1 = df_in[df_in['TARGET']==1].sample(n = total_size//2, random_state = rand_state)\n",
    "    new_df = pd.concat([s0,s1])\n",
    "    new_df.sort_index(inplace = True)\n",
    "    return new_df"
   ]
  },
  {
   "cell_type": "code",
   "execution_count": null,
   "metadata": {},
   "outputs": [],
   "source": []
  },
  {
   "cell_type": "code",
   "execution_count": 3,
   "metadata": {},
   "outputs": [
    {
     "name": "stdout",
     "output_type": "stream",
     "text": [
      "/Users/DonBunk\n"
     ]
    }
   ],
   "source": [
    "cd"
   ]
  },
  {
   "cell_type": "code",
   "execution_count": 4,
   "metadata": {},
   "outputs": [],
   "source": [
    "raw_data_path = 'Desktop/Google Drive/data_science/Python_Projects/Home_Credit_Default_Risk/raw_loan_data_from_Kaggle/'\n",
    "\n",
    "agg_data_path = 'Desktop/Google Drive/data_science/Python_Projects/Home_Credit_Default_Risk/aggregation/TEST_aggregation/'\n",
    "\n",
    "TRAIN_agg_data_path = 'Desktop/Google Drive/data_science/Python_Projects/Home_Credit_Default_Risk/aggregation/TRAIN_aggregation/'\n",
    "\n",
    "save_path = 'Desktop/Google Drive/data_science/Python_Projects/Home_Credit_Default_Risk/wrangling/TEST_DATA_create_final_wrangled_csv/'"
   ]
  },
  {
   "cell_type": "markdown",
   "metadata": {},
   "source": [
    "#  Wrangle  application_test"
   ]
  },
  {
   "cell_type": "code",
   "execution_count": null,
   "metadata": {},
   "outputs": [],
   "source": []
  },
  {
   "cell_type": "code",
   "execution_count": 5,
   "metadata": {},
   "outputs": [],
   "source": [
    "application_TRAIN_df = pd.read_csv(raw_data_path + 'application_train.csv', index_col = 'SK_ID_CURR')\n",
    "# AMT_ANNUITY appears in multiple files, so rename more specifically. \n",
    "# I will keep this renaming as AMT_ANNUITY_from_app_train so it will work will the same pipeline etc inc ase. \n",
    "application_TRAIN_df.rename(columns = {\"AMT_ANNUITY\":\"AMT_ANNUITY_from_app_train\"} , inplace=True) #index = str, "
   ]
  },
  {
   "cell_type": "code",
   "execution_count": 6,
   "metadata": {},
   "outputs": [],
   "source": [
    "application_test_df = pd.read_csv(raw_data_path + 'application_test.csv', index_col = 'SK_ID_CURR')\n",
    "# AMT_ANNUITY appears in multiple files, so rename more specifically. \n",
    "# I will keep this renaming as AMT_ANNUITY_from_app_train so it will work will the same pipeline etc inc ase. \n",
    "application_test_df.rename(columns = {\"AMT_ANNUITY\":\"AMT_ANNUITY_from_app_train\"} , inplace=True) #index = str, "
   ]
  },
  {
   "cell_type": "code",
   "execution_count": null,
   "metadata": {},
   "outputs": [],
   "source": []
  },
  {
   "cell_type": "code",
   "execution_count": null,
   "metadata": {},
   "outputs": [],
   "source": []
  },
  {
   "cell_type": "code",
   "execution_count": null,
   "metadata": {},
   "outputs": [],
   "source": []
  },
  {
   "cell_type": "markdown",
   "metadata": {
    "heading_collapsed": true
   },
   "source": [
    "## null counts feature, social_counts feature, THEN replace categorical NaNs -> 'NA's, combine cat features <1%. creat DAYS_EMPLOYED = 365243 feature, fix DAYS_EMPLOYED"
   ]
  },
  {
   "cell_type": "code",
   "execution_count": null,
   "metadata": {
    "hidden": true
   },
   "outputs": [],
   "source": []
  },
  {
   "cell_type": "code",
   "execution_count": 7,
   "metadata": {
    "code_folding": [],
    "hidden": true
   },
   "outputs": [],
   "source": [
    "# dropping some features\n",
    "\n",
    "# separate out certain features \n",
    "housing_feats = [f for f in application_test_df.columns if 'AVG' in f or 'MODE' in f or 'MEDI' in f]\n",
    "doc_feats = [f for f in application_test_df.columns if 'DOCUMENT' in f]\n",
    "social_circle_feats = [f for f in application_test_df.columns if 'SOCIAL' in f]\n",
    "amt_req_feats = [f for f in application_test_df.columns if 'AMT_REQ' in f]\n",
    "\n",
    "# in another notebook (application_less_important_features) I explore these feats and decide what to drop\n",
    "# this is a bit confusing: I am forming a list of features to drop from groups I made\n",
    "# and subtract some features from those groups TO KEEP\n",
    "# I also add some individual features to drop\n",
    "\n",
    "groups_of_features_to_drop  = housing_feats + doc_feats + social_circle_feats + amt_req_feats\n",
    "\n",
    "feats_to_not_drop = {'EMERGENCYSTATE_MODE', 'APARTMENTS_AVG', 'LANDAREA_AVG', 'TOTALAREA_MODE', # these have a bit of info in them\n",
    "                        'FLAG_DOCUMENT_3','FLAG_DOCUMENT_6', # these have a bit of info in them\n",
    "                        'OBS_60_CNT_SOCIAL_CIRCLE',   # there is no info here, but keeping it as representative feature \n",
    "                        'AMT_REQ_CREDIT_BUREAU_YEAR'  # there is not a lot of info here, but keeping it as representative feature \n",
    "                        }\n",
    "\n",
    "misc_feats_to_drop = ['FLAG_MOBIL',  # this doesn't have much info\n",
    "                        'FLAG_CONT_MOBILE', # this doesn't have much info\n",
    "                        'REGION_RATING_CLIENT_W_CITY' # this is HIGHLY correlated (~.95) with REGION_RATING_CLIENT_\n",
    "                        ]\n",
    "\n",
    "feats_to_drop = list( set(groups_of_features_to_drop) - set(feats_to_not_drop)) + misc_feats_to_drop\n",
    "\n",
    "\n",
    "application_TRAIN_df.drop(columns= feats_to_drop, inplace=True)\n",
    "application_test_df.drop(columns= feats_to_drop, inplace=True)\n",
    "\n",
    "del housing_feats\n",
    "del doc_feats\n",
    "del social_circle_feats\n",
    "del amt_req_feats\n",
    "del feats_to_drop"
   ]
  },
  {
   "cell_type": "code",
   "execution_count": null,
   "metadata": {
    "hidden": true
   },
   "outputs": [],
   "source": []
  },
  {
   "cell_type": "code",
   "execution_count": 8,
   "metadata": {
    "hidden": true
   },
   "outputs": [],
   "source": [
    "# create a null counts feature\n",
    "null_counts = application_test_df.isnull().sum(axis = 1)\n",
    "null_counts.rename('NULL_COUNTS', inplace=True);\n",
    "application_test_df = pd.concat([application_test_df, null_counts], axis = 1)\n",
    "del null_counts"
   ]
  },
  {
   "cell_type": "code",
   "execution_count": null,
   "metadata": {
    "hidden": true
   },
   "outputs": [],
   "source": []
  },
  {
   "cell_type": "code",
   "execution_count": 9,
   "metadata": {
    "hidden": true
   },
   "outputs": [],
   "source": [
    "# create a null counts just for social features. which may have some corr with TARGET\n",
    "social_circle_feats = [f for f in application_test_df.columns if 'SOCIAL' in f]\n",
    "social_null_counts = application_test_df[social_circle_feats].isnull().sum(axis = 1)\n",
    "social_null_counts.rename('SOCIAL_NULL_COUNTS', inplace=True);\n",
    "application_test_df = pd.concat([application_test_df, social_null_counts], axis = 1)\n",
    "del social_circle_feats\n",
    "del social_null_counts"
   ]
  },
  {
   "cell_type": "code",
   "execution_count": null,
   "metadata": {
    "hidden": true
   },
   "outputs": [],
   "source": []
  },
  {
   "cell_type": "code",
   "execution_count": 10,
   "metadata": {
    "hidden": true
   },
   "outputs": [],
   "source": [
    "# replace NaNs in object entries for now is pretty safe. \n",
    "f_list = list(application_test_df.select_dtypes('object').columns)\n",
    "application_test_df[f_list] = application_test_df[f_list].fillna(value = 'No/Av')\n",
    "del f_list"
   ]
  },
  {
   "cell_type": "code",
   "execution_count": null,
   "metadata": {
    "hidden": true
   },
   "outputs": [],
   "source": []
  },
  {
   "cell_type": "code",
   "execution_count": 11,
   "metadata": {
    "hidden": true
   },
   "outputs": [],
   "source": [
    "# for categorical feature than have more than one value <1% in TRAINING data, \n",
    "# condensed the <1% values and define a new condensed feature\n",
    "\n",
    "for feat in application_TRAIN_df.select_dtypes('object').columns:\n",
    "    percent_srs_TRAIN = application_TRAIN_df[feat].value_counts() /len(application_TRAIN_df[feat])\n",
    "    percent_less_than_1_TRAIN = list(percent_srs_TRAIN[percent_srs_TRAIN <.01].index)\n",
    "    \n",
    "    \n",
    "    if len(percent_less_than_1_TRAIN) > 1:\n",
    "        application_test_df[feat + '_condensed'] = application_test_df[feat].apply(lambda x: '<1%' if x in percent_less_than_1_TRAIN else x)\n",
    "        application_test_df.drop(columns=[feat], inplace=True)\n",
    "      \n",
    "    \n",
    "del feat\n",
    "del percent_srs_TRAIN\n",
    "del percent_less_than_1_TRAIN"
   ]
  },
  {
   "cell_type": "code",
   "execution_count": null,
   "metadata": {
    "hidden": true
   },
   "outputs": [],
   "source": []
  },
  {
   "cell_type": "code",
   "execution_count": 12,
   "metadata": {
    "code_folding": [],
    "hidden": true
   },
   "outputs": [],
   "source": [
    "# creat a DAYS_EMPLOYED = 365243 feature, and then regress away those values\n",
    "\n",
    "def make_days_empl_col(row):\n",
    "    if row['DAYS_EMPLOYED']== 365243:\n",
    "        return 'Y'\n",
    "    else:\n",
    "        return 'N'\n",
    "    \n",
    "from sklearn import linear_model\n",
    "reg = linear_model.LinearRegression()\n",
    "\n",
    "# have to make a list of lists, turn that into np.array, then transpose to has correct shape for the single feature(s) working w here. \n",
    "# this is fit to TRAINING DATA!!\n",
    "no_weird_vals_df = application_TRAIN_df[ application_TRAIN_df['DAYS_EMPLOYED'] !=365243]\n",
    "reg.fit(np.array([no_weird_vals_df['DAYS_BIRTH'].values]).T, no_weird_vals_df['DAYS_EMPLOYED'].values)\n",
    "\n",
    "# create a new binary column while I still have the 365243 values.\n",
    "application_test_df['DAYS_EMPLOYED_eq_365243'] = application_test_df.apply(make_days_empl_col, axis=1)\n",
    "\n",
    "# replace ['DAYS_EMPLOYED']==365243 with lin reg vals from above\n",
    "\n",
    "def fix_DAYS_EMPLOYED(row):\n",
    "    # fill in the weird values\n",
    "    if row['DAYS_EMPLOYED']== 365243:\n",
    "        return reg.predict( row['DAYS_BIRTH'] )[0] # need this [0] so it puts value and not a 1-dim array in place\n",
    "    # fill in any nans while we are at it\n",
    "    elif np.isnan(row['DAYS_EMPLOYED']):\n",
    "        return reg.predict( row['DAYS_BIRTH'] )[0] # need this [0] so it puts value and not a 1-dim array in place\n",
    "    else:\n",
    "        return row['DAYS_EMPLOYED']\n",
    "    \n",
    "application_test_df['DAYS_EMPLOYED'] = application_test_df.apply(fix_DAYS_EMPLOYED, axis = 1)\n",
    "\n",
    "del reg\n",
    "del no_weird_vals_df"
   ]
  },
  {
   "cell_type": "code",
   "execution_count": null,
   "metadata": {
    "hidden": true
   },
   "outputs": [],
   "source": []
  },
  {
   "cell_type": "code",
   "execution_count": 13,
   "metadata": {
    "hidden": true
   },
   "outputs": [
    {
     "name": "stderr",
     "output_type": "stream",
     "text": [
      "/anaconda/lib/python3.6/site-packages/seaborn/regression.py:546: UserWarning: The `size` paramter has been renamed to `height`; please update your code.\n",
      "  warnings.warn(msg, UserWarning)\n"
     ]
    },
    {
     "data": {
      "text/plain": [
       "<seaborn.axisgrid.FacetGrid at 0x1035af438>"
      ]
     },
     "execution_count": 13,
     "metadata": {},
     "output_type": "execute_result"
    },
    {
     "data": {
      "image/png": "[encoded data removed]",
      "text/plain": [
       "<Figure size 586.8x432 with 1 Axes>"
      ]
     },
     "metadata": {},
     "output_type": "display_data"
    }
   ],
   "source": [
    "# check that the line and altered data make sense:\n",
    "sns.lmplot(data = application_test_df,\n",
    "            x = 'DAYS_BIRTH',\n",
    "            y = 'DAYS_EMPLOYED',\n",
    "            hue = 'DAYS_EMPLOYED_eq_365243', \n",
    "            fit_reg = True,\n",
    "            scatter_kws={'alpha':.2,\"s\":10},\n",
    "            line_kws={'alpha':.2},\n",
    "            #palette = ['green','orange'],\n",
    "            legend_out = True,\n",
    "            size = 6)"
   ]
  },
  {
   "cell_type": "code",
   "execution_count": null,
   "metadata": {
    "hidden": true
   },
   "outputs": [],
   "source": []
  },
  {
   "cell_type": "code",
   "execution_count": null,
   "metadata": {
    "hidden": true
   },
   "outputs": [],
   "source": []
  },
  {
   "cell_type": "code",
   "execution_count": null,
   "metadata": {
    "hidden": true
   },
   "outputs": [],
   "source": []
  },
  {
   "cell_type": "markdown",
   "metadata": {
    "heading_collapsed": true
   },
   "source": [
    "## replacing NaNs"
   ]
  },
  {
   "cell_type": "code",
   "execution_count": null,
   "metadata": {
    "hidden": true
   },
   "outputs": [],
   "source": []
  },
  {
   "cell_type": "code",
   "execution_count": 14,
   "metadata": {
    "hidden": true
   },
   "outputs": [],
   "source": [
    "# replace NaNs in CNT_FAMILY_MEMBERS and make it an int\n",
    "# need to replace NaNs bc pandas does not support NaNs in ints!\n",
    "\n",
    "replace_dict = {#'EXT_SOURCE_1':.5,\n",
    "                #'EXT_SOURCE_3':.5, # there are a lot of missing values, but as it stands it is hard to find anything better to impute with\n",
    "                'CNT_FAM_MEMBERS':application_test_df['CNT_FAM_MEMBERS'].median(), # not many missing, need an integer so use median\n",
    "                'AMT_ANNUITY_from_app_train':application_test_df['AMT_ANNUITY_from_app_train'].median(), # not many missing\n",
    "                'AMT_GOODS_PRICE': application_test_df['AMT_GOODS_PRICE'].median(), # not many missing\n",
    "                'DAYS_LAST_PHONE_CHANGE': application_test_df['DAYS_LAST_PHONE_CHANGE'].median(), # not many missing\n",
    "                'OWN_CAR_AGE':15, # eyeballed the car age that has equal TARGET = 0, 1 scores                 \n",
    "                'APARTMENTS_AVG':0, # A LOT MISSING, having a null here likely means 0 for someone filling out the form        \n",
    "                'LANDAREA_AVG':0, # A LOT MISSING, having a null here likely means 0 for someone filling out the form                  \n",
    "                'TOTALAREA_MODE':0, # A LOT MISSING, having a null here likely means 0 for someone filling out the form            \n",
    "                'OBS_60_CNT_SOCIAL_CIRCLE':0, # not many missing, having a null here likely means 0 for someone filling out the form          \n",
    "                'AMT_REQ_CREDIT_BUREAU_YEAR':0, # A LOT MISSING, having a null here likely means 0 for someone filling out the form    \n",
    "                }\n",
    "\n",
    "application_test_df.fillna(replace_dict, inplace=True)\n",
    "\n",
    "# convert this to int now that NaNs are gone, which it should be\n",
    "application_test_df['CNT_FAM_MEMBERS'] = application_test_df['CNT_FAM_MEMBERS'].astype(int)\n",
    "\n",
    "# this is a final catch all in case other missing values appear in test set\n",
    "#check_nan = application_test_df.isna().any() \n",
    "\n",
    "# replace_dict_EXTRA ={}\n",
    "# for f in check_nan[check_nan==True].index:\n",
    "#     replace_dict_EXTRA[f]=application_test_df[f].median()\n",
    "    \n",
    "# if replace_dict_EXTRA:\n",
    "#     print('There were additional replacements!')\n",
    "#     application_test_df.fillna(replace_dict_EXTRA, inplace=True)"
   ]
  },
  {
   "cell_type": "code",
   "execution_count": null,
   "metadata": {
    "hidden": true
   },
   "outputs": [],
   "source": []
  },
  {
   "cell_type": "code",
   "execution_count": null,
   "metadata": {
    "hidden": true
   },
   "outputs": [],
   "source": []
  },
  {
   "cell_type": "code",
   "execution_count": 15,
   "metadata": {
    "hidden": true
   },
   "outputs": [],
   "source": [
    "test_1 = application_test_df[application_test_df['EXT_SOURCE_1'].isnull()][['CODE_GENDER','DAYS_BIRTH','EXT_SOURCE_1']].sample(n =5, random_state = 0)"
   ]
  },
  {
   "cell_type": "code",
   "execution_count": 16,
   "metadata": {
    "hidden": true
   },
   "outputs": [],
   "source": [
    "test_2 = application_test_df[application_test_df['EXT_SOURCE_2'].isnull()][['REGION_RATING_CLIENT','DAYS_BIRTH','EXT_SOURCE_2']].sample(n =5, random_state = 3)"
   ]
  },
  {
   "cell_type": "code",
   "execution_count": 17,
   "metadata": {
    "hidden": true
   },
   "outputs": [],
   "source": [
    "test_3 = application_test_df[application_test_df['EXT_SOURCE_3'].isnull()][['DAYS_BIRTH','EXT_SOURCE_3']].sample(n =5, random_state = 0)"
   ]
  },
  {
   "cell_type": "code",
   "execution_count": null,
   "metadata": {
    "hidden": true
   },
   "outputs": [],
   "source": []
  },
  {
   "cell_type": "code",
   "execution_count": 18,
   "metadata": {
    "code_folding": [
     13
    ],
    "hidden": true
   },
   "outputs": [],
   "source": [
    "# this is a bit slow, but faster than only applying to nan values and then replacing in a loop \n",
    "male_df = application_test_df[application_test_df['CODE_GENDER']=='M'][['DAYS_BIRTH','EXT_SOURCE_1']]\n",
    "male_df = male_df[male_df['EXT_SOURCE_1'].notna()]\n",
    "m_s, m_i, r_value, p_value, std_err = stats.linregress(male_df)\n",
    "\n",
    "female_df = application_test_df[application_test_df['CODE_GENDER']=='F'][['DAYS_BIRTH','EXT_SOURCE_1']]\n",
    "female_df = female_df[female_df['EXT_SOURCE_1'].notna()]\n",
    "f_s, f_i, r_value, p_value, std_err = stats.linregress(female_df)\n",
    "\n",
    "nogender_df = application_test_df[['DAYS_BIRTH','EXT_SOURCE_1']]\n",
    "nogender_df = nogender_df[nogender_df['EXT_SOURCE_1'].notna()]\n",
    "ng_s, ng_i, r_value, p_value, std_err = stats.linregress(nogender_df)\n",
    "\n",
    "def EXT1_replace(row):\n",
    "    if np.isnan(row['EXT_SOURCE_1']) ==False:\n",
    "        return row['EXT_SOURCE_1']\n",
    "    else:\n",
    "        if row['CODE_GENDER']=='M':\n",
    "            return m_s*row['DAYS_BIRTH'] + m_i\n",
    "        if row['CODE_GENDER']=='F':\n",
    "            return f_s*row['DAYS_BIRTH'] + f_i\n",
    "        if row['CODE_GENDER']=='XNA':\n",
    "            return ng_s*row['DAYS_BIRTH'] + ng_i\n",
    "    \n",
    "application_test_df['EXT_SOURCE_1'] = application_test_df.apply(EXT1_replace, axis = 1)\n",
    "\n",
    "del male_df\n",
    "del female_df\n",
    "del nogender_df\n",
    "del  r_value, p_value, std_err"
   ]
  },
  {
   "cell_type": "code",
   "execution_count": null,
   "metadata": {
    "hidden": true
   },
   "outputs": [],
   "source": []
  },
  {
   "cell_type": "code",
   "execution_count": 19,
   "metadata": {
    "hidden": true
   },
   "outputs": [
    {
     "data": {
      "text/html": [
       "<div>\n",
       "<style scoped>\n",
       "    .dataframe tbody tr th:only-of-type {\n",
       "        vertical-align: middle;\n",
       "    }\n",
       "\n",
       "    .dataframe tbody tr th {\n",
       "        vertical-align: top;\n",
       "    }\n",
       "\n",
       "    .dataframe thead th {\n",
       "        text-align: right;\n",
       "    }\n",
       "</style>\n",
       "<table border=\"1\" class=\"dataframe\">\n",
       "  <thead>\n",
       "    <tr style=\"text-align: right;\">\n",
       "      <th></th>\n",
       "      <th>CODE_GENDER</th>\n",
       "      <th>DAYS_BIRTH</th>\n",
       "      <th>EXT_SOURCE_1</th>\n",
       "    </tr>\n",
       "    <tr>\n",
       "      <th>SK_ID_CURR</th>\n",
       "      <th></th>\n",
       "      <th></th>\n",
       "      <th></th>\n",
       "    </tr>\n",
       "  </thead>\n",
       "  <tbody>\n",
       "    <tr>\n",
       "      <th>201751</th>\n",
       "      <td>F</td>\n",
       "      <td>-19074</td>\n",
       "      <td>NaN</td>\n",
       "    </tr>\n",
       "    <tr>\n",
       "      <th>178353</th>\n",
       "      <td>M</td>\n",
       "      <td>-16397</td>\n",
       "      <td>NaN</td>\n",
       "    </tr>\n",
       "    <tr>\n",
       "      <th>406129</th>\n",
       "      <td>F</td>\n",
       "      <td>-22397</td>\n",
       "      <td>NaN</td>\n",
       "    </tr>\n",
       "    <tr>\n",
       "      <th>172804</th>\n",
       "      <td>F</td>\n",
       "      <td>-12042</td>\n",
       "      <td>NaN</td>\n",
       "    </tr>\n",
       "    <tr>\n",
       "      <th>188521</th>\n",
       "      <td>M</td>\n",
       "      <td>-22240</td>\n",
       "      <td>NaN</td>\n",
       "    </tr>\n",
       "  </tbody>\n",
       "</table>\n",
       "</div>"
      ],
      "text/plain": [
       "           CODE_GENDER  DAYS_BIRTH  EXT_SOURCE_1\n",
       "SK_ID_CURR                                      \n",
       "201751               F      -19074           NaN\n",
       "178353               M      -16397           NaN\n",
       "406129               F      -22397           NaN\n",
       "172804               F      -12042           NaN\n",
       "188521               M      -22240           NaN"
      ]
     },
     "metadata": {},
     "output_type": "display_data"
    },
    {
     "data": {
      "text/html": [
       "<div>\n",
       "<style scoped>\n",
       "    .dataframe tbody tr th:only-of-type {\n",
       "        vertical-align: middle;\n",
       "    }\n",
       "\n",
       "    .dataframe tbody tr th {\n",
       "        vertical-align: top;\n",
       "    }\n",
       "\n",
       "    .dataframe thead th {\n",
       "        text-align: right;\n",
       "    }\n",
       "</style>\n",
       "<table border=\"1\" class=\"dataframe\">\n",
       "  <thead>\n",
       "    <tr style=\"text-align: right;\">\n",
       "      <th></th>\n",
       "      <th>CODE_GENDER</th>\n",
       "      <th>DAYS_BIRTH</th>\n",
       "      <th>EXT_SOURCE_1</th>\n",
       "    </tr>\n",
       "    <tr>\n",
       "      <th>SK_ID_CURR</th>\n",
       "      <th></th>\n",
       "      <th></th>\n",
       "      <th></th>\n",
       "    </tr>\n",
       "  </thead>\n",
       "  <tbody>\n",
       "    <tr>\n",
       "      <th>201751</th>\n",
       "      <td>F</td>\n",
       "      <td>-19074</td>\n",
       "      <td>0.629041</td>\n",
       "    </tr>\n",
       "    <tr>\n",
       "      <th>178353</th>\n",
       "      <td>M</td>\n",
       "      <td>-16397</td>\n",
       "      <td>0.476558</td>\n",
       "    </tr>\n",
       "    <tr>\n",
       "      <th>406129</th>\n",
       "      <td>F</td>\n",
       "      <td>-22397</td>\n",
       "      <td>0.710293</td>\n",
       "    </tr>\n",
       "    <tr>\n",
       "      <th>172804</th>\n",
       "      <td>F</td>\n",
       "      <td>-12042</td>\n",
       "      <td>0.457099</td>\n",
       "    </tr>\n",
       "    <tr>\n",
       "      <th>188521</th>\n",
       "      <td>M</td>\n",
       "      <td>-22240</td>\n",
       "      <td>0.639027</td>\n",
       "    </tr>\n",
       "  </tbody>\n",
       "</table>\n",
       "</div>"
      ],
      "text/plain": [
       "           CODE_GENDER  DAYS_BIRTH  EXT_SOURCE_1\n",
       "SK_ID_CURR                                      \n",
       "201751               F      -19074      0.629041\n",
       "178353               M      -16397      0.476558\n",
       "406129               F      -22397      0.710293\n",
       "172804               F      -12042      0.457099\n",
       "188521               M      -22240      0.639027"
      ]
     },
     "metadata": {},
     "output_type": "display_data"
    }
   ],
   "source": [
    "# check \n",
    "display(test_1)\n",
    "display(application_test_df.loc[test_1.index.values, ['CODE_GENDER','DAYS_BIRTH','EXT_SOURCE_1']])"
   ]
  },
  {
   "cell_type": "code",
   "execution_count": null,
   "metadata": {
    "hidden": true
   },
   "outputs": [],
   "source": []
  },
  {
   "cell_type": "code",
   "execution_count": 20,
   "metadata": {
    "code_folding": [
     13
    ],
    "hidden": true
   },
   "outputs": [],
   "source": [
    "# this is a bit slow, but faster than only applying to nan values and then replacing in a loop \n",
    "r1_df = application_test_df[application_test_df['REGION_RATING_CLIENT']==1][['DAYS_BIRTH','EXT_SOURCE_2']]\n",
    "r1_df = r1_df[r1_df['EXT_SOURCE_2'].notna()]\n",
    "r1_s, r1_i, r_value, p_value, std_err = stats.linregress(r1_df)\n",
    "\n",
    "r2_df = application_test_df[application_test_df['REGION_RATING_CLIENT']==2][['DAYS_BIRTH','EXT_SOURCE_2']]\n",
    "r2_df = r2_df[r2_df['EXT_SOURCE_2'].notna()]\n",
    "r2_s, r2_i, r_value, p_value, std_err = stats.linregress(r2_df)\n",
    "\n",
    "r3_df = application_test_df[application_test_df['REGION_RATING_CLIENT']==3][['DAYS_BIRTH','EXT_SOURCE_2']]\n",
    "r3_df = r3_df[r3_df['EXT_SOURCE_2'].notna()]\n",
    "r3_s, r3_i, r_value, p_value, std_err = stats.linregress(r3_df)\n",
    "\n",
    "def EXT2_replace(row):\n",
    "    if np.isnan(row['EXT_SOURCE_2']) ==False:\n",
    "        return row['EXT_SOURCE_2']\n",
    "    else:\n",
    "        if row['REGION_RATING_CLIENT']==1:\n",
    "            return r1_s*row['DAYS_BIRTH'] + r1_i\n",
    "        if row['REGION_RATING_CLIENT']==2:\n",
    "            return r2_s*row['DAYS_BIRTH'] + r2_i\n",
    "        if row['REGION_RATING_CLIENT']==3:\n",
    "            return r3_s*row['DAYS_BIRTH'] + r3_i\n",
    "    \n",
    "application_test_df['EXT_SOURCE_2'] = application_test_df.apply(EXT2_replace, axis = 1)\n",
    "\n",
    "del r1_df, r2_df, r3_df\n",
    "del r_value, p_value, std_err"
   ]
  },
  {
   "cell_type": "code",
   "execution_count": 21,
   "metadata": {
    "hidden": true
   },
   "outputs": [
    {
     "data": {
      "text/html": [
       "<div>\n",
       "<style scoped>\n",
       "    .dataframe tbody tr th:only-of-type {\n",
       "        vertical-align: middle;\n",
       "    }\n",
       "\n",
       "    .dataframe tbody tr th {\n",
       "        vertical-align: top;\n",
       "    }\n",
       "\n",
       "    .dataframe thead th {\n",
       "        text-align: right;\n",
       "    }\n",
       "</style>\n",
       "<table border=\"1\" class=\"dataframe\">\n",
       "  <thead>\n",
       "    <tr style=\"text-align: right;\">\n",
       "      <th></th>\n",
       "      <th>REGION_RATING_CLIENT</th>\n",
       "      <th>DAYS_BIRTH</th>\n",
       "      <th>EXT_SOURCE_2</th>\n",
       "    </tr>\n",
       "    <tr>\n",
       "      <th>SK_ID_CURR</th>\n",
       "      <th></th>\n",
       "      <th></th>\n",
       "      <th></th>\n",
       "    </tr>\n",
       "  </thead>\n",
       "  <tbody>\n",
       "    <tr>\n",
       "      <th>392730</th>\n",
       "      <td>2</td>\n",
       "      <td>-10862</td>\n",
       "      <td>NaN</td>\n",
       "    </tr>\n",
       "    <tr>\n",
       "      <th>450310</th>\n",
       "      <td>2</td>\n",
       "      <td>-11659</td>\n",
       "      <td>NaN</td>\n",
       "    </tr>\n",
       "    <tr>\n",
       "      <th>355560</th>\n",
       "      <td>2</td>\n",
       "      <td>-21895</td>\n",
       "      <td>NaN</td>\n",
       "    </tr>\n",
       "    <tr>\n",
       "      <th>405125</th>\n",
       "      <td>2</td>\n",
       "      <td>-8842</td>\n",
       "      <td>NaN</td>\n",
       "    </tr>\n",
       "    <tr>\n",
       "      <th>327587</th>\n",
       "      <td>2</td>\n",
       "      <td>-10383</td>\n",
       "      <td>NaN</td>\n",
       "    </tr>\n",
       "  </tbody>\n",
       "</table>\n",
       "</div>"
      ],
      "text/plain": [
       "            REGION_RATING_CLIENT  DAYS_BIRTH  EXT_SOURCE_2\n",
       "SK_ID_CURR                                                \n",
       "392730                         2      -10862           NaN\n",
       "450310                         2      -11659           NaN\n",
       "355560                         2      -21895           NaN\n",
       "405125                         2       -8842           NaN\n",
       "327587                         2      -10383           NaN"
      ]
     },
     "metadata": {},
     "output_type": "display_data"
    },
    {
     "data": {
      "text/html": [
       "<div>\n",
       "<style scoped>\n",
       "    .dataframe tbody tr th:only-of-type {\n",
       "        vertical-align: middle;\n",
       "    }\n",
       "\n",
       "    .dataframe tbody tr th {\n",
       "        vertical-align: top;\n",
       "    }\n",
       "\n",
       "    .dataframe thead th {\n",
       "        text-align: right;\n",
       "    }\n",
       "</style>\n",
       "<table border=\"1\" class=\"dataframe\">\n",
       "  <thead>\n",
       "    <tr style=\"text-align: right;\">\n",
       "      <th></th>\n",
       "      <th>REGION_RATING_CLIENT</th>\n",
       "      <th>DAYS_BIRTH</th>\n",
       "      <th>EXT_SOURCE_2</th>\n",
       "    </tr>\n",
       "    <tr>\n",
       "      <th>SK_ID_CURR</th>\n",
       "      <th></th>\n",
       "      <th></th>\n",
       "      <th></th>\n",
       "    </tr>\n",
       "  </thead>\n",
       "  <tbody>\n",
       "    <tr>\n",
       "      <th>392730</th>\n",
       "      <td>2</td>\n",
       "      <td>-10862</td>\n",
       "      <td>0.493423</td>\n",
       "    </tr>\n",
       "    <tr>\n",
       "      <th>450310</th>\n",
       "      <td>2</td>\n",
       "      <td>-11659</td>\n",
       "      <td>0.497323</td>\n",
       "    </tr>\n",
       "    <tr>\n",
       "      <th>355560</th>\n",
       "      <td>2</td>\n",
       "      <td>-21895</td>\n",
       "      <td>0.547416</td>\n",
       "    </tr>\n",
       "    <tr>\n",
       "      <th>405125</th>\n",
       "      <td>2</td>\n",
       "      <td>-8842</td>\n",
       "      <td>0.483537</td>\n",
       "    </tr>\n",
       "    <tr>\n",
       "      <th>327587</th>\n",
       "      <td>2</td>\n",
       "      <td>-10383</td>\n",
       "      <td>0.491079</td>\n",
       "    </tr>\n",
       "  </tbody>\n",
       "</table>\n",
       "</div>"
      ],
      "text/plain": [
       "            REGION_RATING_CLIENT  DAYS_BIRTH  EXT_SOURCE_2\n",
       "SK_ID_CURR                                                \n",
       "392730                         2      -10862      0.493423\n",
       "450310                         2      -11659      0.497323\n",
       "355560                         2      -21895      0.547416\n",
       "405125                         2       -8842      0.483537\n",
       "327587                         2      -10383      0.491079"
      ]
     },
     "metadata": {},
     "output_type": "display_data"
    }
   ],
   "source": [
    "# check\n",
    "display(test_2)\n",
    "display(application_test_df.loc[test_2.index.values,['REGION_RATING_CLIENT','DAYS_BIRTH','EXT_SOURCE_2']])"
   ]
  },
  {
   "cell_type": "code",
   "execution_count": null,
   "metadata": {
    "hidden": true
   },
   "outputs": [],
   "source": []
  },
  {
   "cell_type": "code",
   "execution_count": 22,
   "metadata": {
    "code_folding": [
     5
    ],
    "hidden": true
   },
   "outputs": [],
   "source": [
    "# this is a bit slow, but faster than only applying to nan values and then replacing in a loop \n",
    "e3_df = application_test_df[['DAYS_BIRTH','EXT_SOURCE_3']]\n",
    "e3_df = e3_df[e3_df['EXT_SOURCE_3'].notna()]\n",
    "e3_s, e3_i, r_value, p_value, std_err = stats.linregress(e3_df)\n",
    "\n",
    "def EXT3_replace(row):\n",
    "    if np.isnan(row['EXT_SOURCE_3']) ==False:\n",
    "        return row['EXT_SOURCE_3']\n",
    "    else:\n",
    "        return e3_s*row['DAYS_BIRTH'] + e3_i\n",
    "    \n",
    "application_test_df['EXT_SOURCE_3'] = application_test_df.apply(EXT3_replace, axis = 1)\n",
    "\n",
    "del e3_df\n",
    "del r_value, p_value, std_err"
   ]
  },
  {
   "cell_type": "code",
   "execution_count": 23,
   "metadata": {
    "hidden": true
   },
   "outputs": [
    {
     "data": {
      "text/html": [
       "<div>\n",
       "<style scoped>\n",
       "    .dataframe tbody tr th:only-of-type {\n",
       "        vertical-align: middle;\n",
       "    }\n",
       "\n",
       "    .dataframe tbody tr th {\n",
       "        vertical-align: top;\n",
       "    }\n",
       "\n",
       "    .dataframe thead th {\n",
       "        text-align: right;\n",
       "    }\n",
       "</style>\n",
       "<table border=\"1\" class=\"dataframe\">\n",
       "  <thead>\n",
       "    <tr style=\"text-align: right;\">\n",
       "      <th></th>\n",
       "      <th>DAYS_BIRTH</th>\n",
       "      <th>EXT_SOURCE_3</th>\n",
       "    </tr>\n",
       "    <tr>\n",
       "      <th>SK_ID_CURR</th>\n",
       "      <th></th>\n",
       "      <th></th>\n",
       "    </tr>\n",
       "  </thead>\n",
       "  <tbody>\n",
       "    <tr>\n",
       "      <th>219688</th>\n",
       "      <td>-14158</td>\n",
       "      <td>NaN</td>\n",
       "    </tr>\n",
       "    <tr>\n",
       "      <th>322841</th>\n",
       "      <td>-20942</td>\n",
       "      <td>NaN</td>\n",
       "    </tr>\n",
       "    <tr>\n",
       "      <th>277668</th>\n",
       "      <td>-14098</td>\n",
       "      <td>NaN</td>\n",
       "    </tr>\n",
       "    <tr>\n",
       "      <th>420278</th>\n",
       "      <td>-9788</td>\n",
       "      <td>NaN</td>\n",
       "    </tr>\n",
       "    <tr>\n",
       "      <th>354173</th>\n",
       "      <td>-12408</td>\n",
       "      <td>NaN</td>\n",
       "    </tr>\n",
       "  </tbody>\n",
       "</table>\n",
       "</div>"
      ],
      "text/plain": [
       "            DAYS_BIRTH  EXT_SOURCE_3\n",
       "SK_ID_CURR                          \n",
       "219688          -14158           NaN\n",
       "322841          -20942           NaN\n",
       "277668          -14098           NaN\n",
       "420278           -9788           NaN\n",
       "354173          -12408           NaN"
      ]
     },
     "metadata": {},
     "output_type": "display_data"
    },
    {
     "data": {
      "text/html": [
       "<div>\n",
       "<style scoped>\n",
       "    .dataframe tbody tr th:only-of-type {\n",
       "        vertical-align: middle;\n",
       "    }\n",
       "\n",
       "    .dataframe tbody tr th {\n",
       "        vertical-align: top;\n",
       "    }\n",
       "\n",
       "    .dataframe thead th {\n",
       "        text-align: right;\n",
       "    }\n",
       "</style>\n",
       "<table border=\"1\" class=\"dataframe\">\n",
       "  <thead>\n",
       "    <tr style=\"text-align: right;\">\n",
       "      <th></th>\n",
       "      <th>DAYS_BIRTH</th>\n",
       "      <th>EXT_SOURCE_3</th>\n",
       "    </tr>\n",
       "    <tr>\n",
       "      <th>SK_ID_CURR</th>\n",
       "      <th></th>\n",
       "      <th></th>\n",
       "    </tr>\n",
       "  </thead>\n",
       "  <tbody>\n",
       "    <tr>\n",
       "      <th>219688</th>\n",
       "      <td>-14158</td>\n",
       "      <td>0.483865</td>\n",
       "    </tr>\n",
       "    <tr>\n",
       "      <th>322841</th>\n",
       "      <td>-20942</td>\n",
       "      <td>0.538123</td>\n",
       "    </tr>\n",
       "    <tr>\n",
       "      <th>277668</th>\n",
       "      <td>-14098</td>\n",
       "      <td>0.483385</td>\n",
       "    </tr>\n",
       "    <tr>\n",
       "      <th>420278</th>\n",
       "      <td>-9788</td>\n",
       "      <td>0.448914</td>\n",
       "    </tr>\n",
       "    <tr>\n",
       "      <th>354173</th>\n",
       "      <td>-12408</td>\n",
       "      <td>0.469869</td>\n",
       "    </tr>\n",
       "  </tbody>\n",
       "</table>\n",
       "</div>"
      ],
      "text/plain": [
       "            DAYS_BIRTH  EXT_SOURCE_3\n",
       "SK_ID_CURR                          \n",
       "219688          -14158      0.483865\n",
       "322841          -20942      0.538123\n",
       "277668          -14098      0.483385\n",
       "420278           -9788      0.448914\n",
       "354173          -12408      0.469869"
      ]
     },
     "metadata": {},
     "output_type": "display_data"
    }
   ],
   "source": [
    "# check\n",
    "display(test_3)\n",
    "display(application_test_df.loc[test_3.index.values,['DAYS_BIRTH','EXT_SOURCE_3']])"
   ]
  },
  {
   "cell_type": "code",
   "execution_count": null,
   "metadata": {
    "hidden": true
   },
   "outputs": [],
   "source": []
  },
  {
   "cell_type": "code",
   "execution_count": 24,
   "metadata": {
    "hidden": true
   },
   "outputs": [
    {
     "data": {
      "text/plain": [
       "NAME_CONTRACT_TYPE             False\n",
       "CODE_GENDER                    False\n",
       "FLAG_OWN_CAR                   False\n",
       "FLAG_OWN_REALTY                False\n",
       "CNT_CHILDREN                   False\n",
       "AMT_INCOME_TOTAL               False\n",
       "AMT_CREDIT                     False\n",
       "AMT_ANNUITY_from_app_train     False\n",
       "AMT_GOODS_PRICE                False\n",
       "NAME_EDUCATION_TYPE            False\n",
       "NAME_FAMILY_STATUS             False\n",
       "REGION_POPULATION_RELATIVE     False\n",
       "DAYS_BIRTH                     False\n",
       "DAYS_EMPLOYED                  False\n",
       "DAYS_REGISTRATION              False\n",
       "DAYS_ID_PUBLISH                False\n",
       "OWN_CAR_AGE                    False\n",
       "FLAG_EMP_PHONE                 False\n",
       "FLAG_WORK_PHONE                False\n",
       "FLAG_PHONE                     False\n",
       "FLAG_EMAIL                     False\n",
       "CNT_FAM_MEMBERS                False\n",
       "REGION_RATING_CLIENT           False\n",
       "WEEKDAY_APPR_PROCESS_START     False\n",
       "HOUR_APPR_PROCESS_START        False\n",
       "REG_REGION_NOT_LIVE_REGION     False\n",
       "REG_REGION_NOT_WORK_REGION     False\n",
       "LIVE_REGION_NOT_WORK_REGION    False\n",
       "REG_CITY_NOT_LIVE_CITY         False\n",
       "REG_CITY_NOT_WORK_CITY         False\n",
       "LIVE_CITY_NOT_WORK_CITY        False\n",
       "EXT_SOURCE_1                   False\n",
       "EXT_SOURCE_2                   False\n",
       "EXT_SOURCE_3                   False\n",
       "APARTMENTS_AVG                 False\n",
       "LANDAREA_AVG                   False\n",
       "TOTALAREA_MODE                 False\n",
       "EMERGENCYSTATE_MODE            False\n",
       "OBS_60_CNT_SOCIAL_CIRCLE       False\n",
       "DAYS_LAST_PHONE_CHANGE         False\n",
       "FLAG_DOCUMENT_3                False\n",
       "FLAG_DOCUMENT_6                False\n",
       "AMT_REQ_CREDIT_BUREAU_YEAR     False\n",
       "NULL_COUNTS                    False\n",
       "SOCIAL_NULL_COUNTS             False\n",
       "NAME_TYPE_SUITE_condensed      False\n",
       "NAME_INCOME_TYPE_condensed     False\n",
       "NAME_HOUSING_TYPE_condensed    False\n",
       "OCCUPATION_TYPE_condensed      False\n",
       "ORGANIZATION_TYPE_condensed    False\n",
       "DAYS_EMPLOYED_eq_365243        False\n",
       "dtype: bool"
      ]
     },
     "execution_count": 24,
     "metadata": {},
     "output_type": "execute_result"
    }
   ],
   "source": [
    "application_test_df.isnull().any()"
   ]
  },
  {
   "cell_type": "code",
   "execution_count": 25,
   "metadata": {
    "hidden": true
   },
   "outputs": [
    {
     "data": {
      "text/plain": [
       "False"
      ]
     },
     "execution_count": 25,
     "metadata": {},
     "output_type": "execute_result"
    }
   ],
   "source": [
    "application_test_df.isnull().values.any()"
   ]
  },
  {
   "cell_type": "code",
   "execution_count": null,
   "metadata": {
    "hidden": true
   },
   "outputs": [],
   "source": []
  },
  {
   "cell_type": "markdown",
   "metadata": {
    "heading_collapsed": true
   },
   "source": [
    "## create new features (log and pwr of continuous features)"
   ]
  },
  {
   "cell_type": "code",
   "execution_count": null,
   "metadata": {
    "hidden": true
   },
   "outputs": [],
   "source": []
  },
  {
   "cell_type": "code",
   "execution_count": 26,
   "metadata": {
    "hidden": true
   },
   "outputs": [],
   "source": [
    "# these were explored in plots in a separate notebook\n",
    "\n",
    "this_feat = 'AMT_INCOME_TOTAL'\n",
    "application_test_df['log_'+this_feat] = np.log10( application_test_df[this_feat] + 1 ) \n",
    "\n",
    "this_feat = 'AMT_CREDIT'\n",
    "application_test_df['log_'+this_feat] = np.log10( application_test_df[this_feat] + 1 ) \n",
    "\n",
    "this_feat = 'AMT_ANNUITY_from_app_train'\n",
    "application_test_df['pwr_'+this_feat] = (application_test_df[this_feat])**(1/4)\n",
    "\n",
    "this_feat = 'AMT_GOODS_PRICE'\n",
    "application_test_df['log_'+this_feat] = np.log10( application_test_df[this_feat] + 1 ) \n",
    "\n",
    "this_feat = 'REGION_POPULATION_RELATIVE'\n",
    "application_test_df['pwr_'+this_feat] = (application_test_df[this_feat])**(1/4)\n",
    "\n",
    "this_feat = 'DAYS_REGISTRATION' \n",
    "application_test_df['pwr_'+this_feat] = (-application_test_df[this_feat])**(1/2)\n",
    "\n",
    "this_feat = 'OWN_CAR_AGE'\n",
    "application_test_df['pwr_'+this_feat] = (+application_test_df[this_feat])**(1/2)\n",
    "\n",
    "this_feat = 'DAYS_LAST_PHONE_CHANGE'\n",
    "application_test_df['pwr_'+this_feat] = (-application_test_df[this_feat])**(1/2)\n",
    "\n",
    "this_feat = 'DAYS_EMPLOYED'\n",
    "application_test_df['pwr_'+this_feat] = (-application_test_df[this_feat])**(1/8)\n",
    "\n",
    "this_feat = 'DAYS_ID_PUBLISH'\n",
    "application_test_df['pwr_'+this_feat] = (-application_test_df[this_feat])**(1/1.8)\n",
    " \n",
    "feats_do_drop = ['AMT_INCOME_TOTAL',\n",
    "                 'AMT_CREDIT',\n",
    "                 'AMT_ANNUITY_from_app_train',\n",
    "                 'AMT_GOODS_PRICE',\n",
    "                 'REGION_POPULATION_RELATIVE',\n",
    "                 'DAYS_REGISTRATION',\n",
    "                 'OWN_CAR_AGE',\n",
    "                 'DAYS_LAST_PHONE_CHANGE',\n",
    "                 'DAYS_EMPLOYED',\n",
    "                 'DAYS_ID_PUBLISH',\n",
    "                  ]\n",
    "\n",
    "application_test_df.drop(columns=feats_do_drop, inplace=True)"
   ]
  },
  {
   "cell_type": "code",
   "execution_count": null,
   "metadata": {
    "hidden": true
   },
   "outputs": [],
   "source": []
  },
  {
   "cell_type": "code",
   "execution_count": 27,
   "metadata": {
    "hidden": true
   },
   "outputs": [
    {
     "data": {
      "text/plain": [
       "NAME_CONTRACT_TYPE                False\n",
       "CODE_GENDER                       False\n",
       "FLAG_OWN_CAR                      False\n",
       "FLAG_OWN_REALTY                   False\n",
       "CNT_CHILDREN                      False\n",
       "NAME_EDUCATION_TYPE               False\n",
       "NAME_FAMILY_STATUS                False\n",
       "DAYS_BIRTH                        False\n",
       "FLAG_EMP_PHONE                    False\n",
       "FLAG_WORK_PHONE                   False\n",
       "FLAG_PHONE                        False\n",
       "FLAG_EMAIL                        False\n",
       "CNT_FAM_MEMBERS                   False\n",
       "REGION_RATING_CLIENT              False\n",
       "WEEKDAY_APPR_PROCESS_START        False\n",
       "HOUR_APPR_PROCESS_START           False\n",
       "REG_REGION_NOT_LIVE_REGION        False\n",
       "REG_REGION_NOT_WORK_REGION        False\n",
       "LIVE_REGION_NOT_WORK_REGION       False\n",
       "REG_CITY_NOT_LIVE_CITY            False\n",
       "REG_CITY_NOT_WORK_CITY            False\n",
       "LIVE_CITY_NOT_WORK_CITY           False\n",
       "EXT_SOURCE_1                      False\n",
       "EXT_SOURCE_2                      False\n",
       "EXT_SOURCE_3                      False\n",
       "APARTMENTS_AVG                    False\n",
       "LANDAREA_AVG                      False\n",
       "TOTALAREA_MODE                    False\n",
       "EMERGENCYSTATE_MODE               False\n",
       "OBS_60_CNT_SOCIAL_CIRCLE          False\n",
       "FLAG_DOCUMENT_3                   False\n",
       "FLAG_DOCUMENT_6                   False\n",
       "AMT_REQ_CREDIT_BUREAU_YEAR        False\n",
       "NULL_COUNTS                       False\n",
       "SOCIAL_NULL_COUNTS                False\n",
       "NAME_TYPE_SUITE_condensed         False\n",
       "NAME_INCOME_TYPE_condensed        False\n",
       "NAME_HOUSING_TYPE_condensed       False\n",
       "OCCUPATION_TYPE_condensed         False\n",
       "ORGANIZATION_TYPE_condensed       False\n",
       "DAYS_EMPLOYED_eq_365243           False\n",
       "log_AMT_INCOME_TOTAL              False\n",
       "log_AMT_CREDIT                    False\n",
       "pwr_AMT_ANNUITY_from_app_train    False\n",
       "log_AMT_GOODS_PRICE               False\n",
       "pwr_REGION_POPULATION_RELATIVE    False\n",
       "pwr_DAYS_REGISTRATION             False\n",
       "pwr_OWN_CAR_AGE                   False\n",
       "pwr_DAYS_LAST_PHONE_CHANGE        False\n",
       "pwr_DAYS_EMPLOYED                 False\n",
       "pwr_DAYS_ID_PUBLISH               False\n",
       "dtype: bool"
      ]
     },
     "execution_count": 27,
     "metadata": {},
     "output_type": "execute_result"
    }
   ],
   "source": [
    "application_test_df.isnull().any()"
   ]
  },
  {
   "cell_type": "code",
   "execution_count": 28,
   "metadata": {
    "hidden": true
   },
   "outputs": [
    {
     "data": {
      "text/plain": [
       "False"
      ]
     },
     "execution_count": 28,
     "metadata": {},
     "output_type": "execute_result"
    }
   ],
   "source": [
    "application_test_df.isnull().values.any()"
   ]
  },
  {
   "cell_type": "markdown",
   "metadata": {
    "heading_collapsed": true
   },
   "source": [
    "## save as csv"
   ]
  },
  {
   "cell_type": "code",
   "execution_count": 29,
   "metadata": {
    "hidden": true
   },
   "outputs": [],
   "source": [
    "application_test_df.to_csv(save_path + 'application_test_df_cleaned_final.csv', columns = list(application_test_df.columns))"
   ]
  },
  {
   "cell_type": "code",
   "execution_count": 30,
   "metadata": {
    "hidden": true
   },
   "outputs": [],
   "source": [
    "del application_test_df"
   ]
  },
  {
   "cell_type": "markdown",
   "metadata": {},
   "source": [
    "# bureau wrangling"
   ]
  },
  {
   "cell_type": "code",
   "execution_count": null,
   "metadata": {},
   "outputs": [],
   "source": []
  },
  {
   "cell_type": "code",
   "execution_count": 31,
   "metadata": {},
   "outputs": [],
   "source": [
    "best_feats = ['SK_ID_CURR',\n",
    "              'CREDIT_CURRENCY_mode', \n",
    "              'CREDIT_ACTIVE_mode', \n",
    "              'CREDIT_TYPE_mode',\n",
    "              'DAYS_CREDIT_min',\n",
    "              'DAYS_CREDIT_mean',\n",
    "              'DAYS_ENDDATE_FACT_min',\n",
    "              'DAYS_CREDIT_median',\n",
    "              'DAYS_ENDDATE_FACT_median',\n",
    "            # 'AMT_ANNUITY_from_bureau_mean', # this doesn't have enough non null vals\n",
    "              'AMT_CREDIT_SUM_DEBT_mean',\n",
    "              'DAYS_CREDIT_ENDDATE_mean', \n",
    "              'DAYS_CREDIT_UPDATE_mean'\n",
    "                ]"
   ]
  },
  {
   "cell_type": "code",
   "execution_count": 32,
   "metadata": {},
   "outputs": [],
   "source": [
    "bureau_df_aggregated_final_df = pd.read_csv(agg_data_path + 'bureau_df_aggregated_final.csv', index_col='SK_ID_CURR', usecols=best_feats)\n",
    "\n",
    "bureau_df_aggregated_final_df_TRAIN = pd.read_csv(TRAIN_agg_data_path + 'bureau_df_aggregated_final.csv', index_col='SK_ID_CURR', usecols=best_feats)"
   ]
  },
  {
   "cell_type": "code",
   "execution_count": 33,
   "metadata": {},
   "outputs": [
    {
     "name": "stdout",
     "output_type": "stream",
     "text": [
      "<class 'pandas.core.frame.DataFrame'>\n",
      "Int64Index: 48744 entries, 100001 to 456250\n",
      "Data columns (total 11 columns):\n",
      "DAYS_CREDIT_ENDDATE_mean    41984 non-null float64\n",
      "DAYS_ENDDATE_FACT_median    37800 non-null float64\n",
      "DAYS_ENDDATE_FACT_min       37800 non-null float64\n",
      "AMT_CREDIT_SUM_DEBT_mean    41308 non-null float64\n",
      "DAYS_CREDIT_mean            42320 non-null float64\n",
      "DAYS_CREDIT_median          42320 non-null float64\n",
      "DAYS_CREDIT_min             42320 non-null float64\n",
      "DAYS_CREDIT_UPDATE_mean     42320 non-null float64\n",
      "CREDIT_ACTIVE_mode          42320 non-null object\n",
      "CREDIT_CURRENCY_mode        42320 non-null object\n",
      "CREDIT_TYPE_mode            42320 non-null object\n",
      "dtypes: float64(8), object(3)\n",
      "memory usage: 4.5+ MB\n"
     ]
    }
   ],
   "source": [
    "bureau_df_aggregated_final_df.info(verbose = True, null_counts=True)"
   ]
  },
  {
   "cell_type": "code",
   "execution_count": 34,
   "metadata": {},
   "outputs": [],
   "source": [
    "# replace NaNs in object entries for now is pretty safe. \n",
    "f_list = list(bureau_df_aggregated_final_df.select_dtypes('object').columns)\n",
    "bureau_df_aggregated_final_df[f_list] = bureau_df_aggregated_final_df[f_list].fillna(value = 'No/Av')\n",
    "del f_list"
   ]
  },
  {
   "cell_type": "code",
   "execution_count": 35,
   "metadata": {},
   "outputs": [],
   "source": [
    "# for categorical feature than have more than one value <1%, condensed the <1% values and define a new condensed feature\n",
    "\n",
    "for feat in bureau_df_aggregated_final_df_TRAIN.select_dtypes('object').columns:\n",
    "    percent_srs_TRAIN = bureau_df_aggregated_final_df_TRAIN[feat].value_counts() /len(bureau_df_aggregated_final_df_TRAIN[feat])\n",
    "    percent_less_than_1_TRAIN = list(percent_srs_TRAIN[percent_srs_TRAIN <.01].index)\n",
    "    \n",
    "    if len(percent_less_than_1_TRAIN)>1:\n",
    "        bureau_df_aggregated_final_df[feat + '_condensed'] = bureau_df_aggregated_final_df[feat].apply(lambda x: '<1%' if x in percent_less_than_1_TRAIN else x)\n",
    "        bureau_df_aggregated_final_df.drop(columns=[feat], inplace=True)\n",
    "      \n",
    "del feat\n",
    "del percent_srs_TRAIN\n",
    "del percent_less_than_1_TRAIN"
   ]
  },
  {
   "cell_type": "code",
   "execution_count": null,
   "metadata": {},
   "outputs": [],
   "source": []
  },
  {
   "cell_type": "code",
   "execution_count": 36,
   "metadata": {},
   "outputs": [],
   "source": [
    "def log_modulus_transformation(x):\n",
    "    return np.sign(x)*np.log10( np.abs(x)+1)\n",
    "\n",
    "def pwr_transformation(x,pwr):\n",
    "    return np.sign(x)*( np.abs(x) )**pwr"
   ]
  },
  {
   "cell_type": "code",
   "execution_count": 37,
   "metadata": {},
   "outputs": [],
   "source": [
    "# TRANSFORMATIONS, then drop original features. \n",
    "\n",
    "bureau_df_aggregated_final_df['pwr_DAYS_CREDIT_mean'] = pwr_transformation(bureau_df_aggregated_final_df['DAYS_CREDIT_mean'], 1/1.7)\n",
    "bureau_df_aggregated_final_df['pwr_DAYS_ENDDATE_FACT_min'] = pwr_transformation(bureau_df_aggregated_final_df['DAYS_ENDDATE_FACT_min'],1/1.3)\n",
    "bureau_df_aggregated_final_df['pwr_DAYS_CREDIT_median'] = pwr_transformation(bureau_df_aggregated_final_df['DAYS_CREDIT_median'],1/2)\n",
    "bureau_df_aggregated_final_df['pwr_DAYS_ENDDATE_FACT_median'] = pwr_transformation(bureau_df_aggregated_final_df['DAYS_ENDDATE_FACT_median'],1/2)\n",
    "bureau_df_aggregated_final_df['LogMod_AMT_CREDIT_SUM_DEBT_mean'] = log_modulus_transformation(bureau_df_aggregated_final_df['AMT_CREDIT_SUM_DEBT_mean'])\n",
    "bureau_df_aggregated_final_df['pwr_DAYS_CREDIT_ENDDATE_mean'] = pwr_transformation(bureau_df_aggregated_final_df['DAYS_CREDIT_ENDDATE_mean'], .65)\n",
    "bureau_df_aggregated_final_df['pwr_DAYS_CREDIT_UPDATE_mean'] = pwr_transformation(bureau_df_aggregated_final_df['DAYS_CREDIT_UPDATE_mean'],.2)\n",
    "\n",
    "bureau_df_aggregated_final_df.drop(columns=['DAYS_CREDIT_mean',\n",
    "                                            'DAYS_ENDDATE_FACT_min',                                            \n",
    "                                            'DAYS_CREDIT_median',\n",
    "                                            'DAYS_ENDDATE_FACT_median',   \n",
    "                                            'AMT_CREDIT_SUM_DEBT_mean',\n",
    "                                            'DAYS_CREDIT_ENDDATE_mean',\n",
    "                                            'DAYS_CREDIT_UPDATE_mean',\n",
    "                                            ], inplace=True)"
   ]
  },
  {
   "cell_type": "code",
   "execution_count": 38,
   "metadata": {},
   "outputs": [],
   "source": [
    "replace_dict = {'DAYS_CREDIT_min':-1262,\n",
    "                'pwr_DAYS_CREDIT_mean':54,\n",
    "                'pwr_DAYS_ENDDATE_FACT_min':134,\n",
    "                'pwr_DAYS_CREDIT_median':26,\n",
    "                'pwr_DAYS_ENDDATE_FACT_median':22,\n",
    "                'LogMod_AMT_CREDIT_SUM_DEBT_mean':bureau_df_aggregated_final_df['LogMod_AMT_CREDIT_SUM_DEBT_mean'].median(),\n",
    "                'pwr_DAYS_CREDIT_ENDDATE_mean':0,\n",
    "                'pwr_DAYS_CREDIT_UPDATE_mean':-3.23,    \n",
    "                }\n",
    "\n",
    "bureau_df_aggregated_final_df.fillna(replace_dict, inplace=True)"
   ]
  },
  {
   "cell_type": "code",
   "execution_count": 39,
   "metadata": {},
   "outputs": [
    {
     "name": "stdout",
     "output_type": "stream",
     "text": [
      "<class 'pandas.core.frame.DataFrame'>\n",
      "Int64Index: 48744 entries, 100001 to 456250\n",
      "Data columns (total 11 columns):\n",
      "DAYS_CREDIT_min                    48744 non-null float64\n",
      "CREDIT_ACTIVE_mode                 48744 non-null object\n",
      "CREDIT_CURRENCY_mode_condensed     48744 non-null object\n",
      "CREDIT_TYPE_mode_condensed         48744 non-null object\n",
      "pwr_DAYS_CREDIT_mean               48744 non-null float64\n",
      "pwr_DAYS_ENDDATE_FACT_min          48744 non-null float64\n",
      "pwr_DAYS_CREDIT_median             48744 non-null float64\n",
      "pwr_DAYS_ENDDATE_FACT_median       48744 non-null float64\n",
      "LogMod_AMT_CREDIT_SUM_DEBT_mean    48744 non-null float64\n",
      "pwr_DAYS_CREDIT_ENDDATE_mean       48744 non-null float64\n",
      "pwr_DAYS_CREDIT_UPDATE_mean        48744 non-null float64\n",
      "dtypes: float64(8), object(3)\n",
      "memory usage: 4.5+ MB\n"
     ]
    }
   ],
   "source": [
    "bureau_df_aggregated_final_df.info(verbose = True, null_counts=True)"
   ]
  },
  {
   "cell_type": "code",
   "execution_count": 40,
   "metadata": {},
   "outputs": [],
   "source": [
    "bureau_df_aggregated_final_df.to_csv(save_path + 'bureau_df_aggregated_wrangled_final.csv', columns = list(bureau_df_aggregated_final_df.columns))"
   ]
  },
  {
   "cell_type": "code",
   "execution_count": 41,
   "metadata": {},
   "outputs": [],
   "source": [
    "del bureau_df_aggregated_final_df"
   ]
  },
  {
   "cell_type": "markdown",
   "metadata": {},
   "source": [
    "# installments payments wrangling"
   ]
  },
  {
   "cell_type": "code",
   "execution_count": null,
   "metadata": {},
   "outputs": [],
   "source": []
  },
  {
   "cell_type": "code",
   "execution_count": 42,
   "metadata": {},
   "outputs": [],
   "source": [
    "best_feats = ['SK_ID_CURR',\n",
    "              'NUM_OF_LOANS',\n",
    "              'DAYS_PAYMENT_LATE_median',\n",
    "              'DAYS_PAYMENT_LATE_sd',\n",
    "              'NUM_TIMES_LATE',\n",
    "              'NUM_TIMES_EARLY',\n",
    "              'AMT_OVERPAY_MEAN',\n",
    "              'AMT_OVERPAY_SD',\n",
    "              'NUM_TIMES_OVERPAY',\n",
    "              'TERMS_CHANGE_TIMES',\n",
    "              'NUM_INSTALMENT_VERSION_max',\n",
    "              'NUM_INSTALMENT_VERSION_min',\n",
    "              'DAYS_INSTALMENT_mean',\n",
    "              'DAYS_INSTALMENT_min',\n",
    "              'DAYS_ENTRY_PAYMENT_mean',\n",
    "              'DAYS_ENTRY_PAYMENT_min',\n",
    "              'AMT_INSTALMENT_mean',\n",
    "              'AMT_INSTALMENT_max',\n",
    "              'AMT_INSTALMENT_min',\n",
    "              'AMT_PAYMENT_mean',\n",
    "              'AMT_PAYMENT_max',\n",
    "              'AMT_PAYMENT_min',\n",
    "              'NUM_INSTALMENT_NUMBER_mean',\n",
    "              'NUM_INSTALMENT_NUMBER_max',\n",
    "             ]            \n",
    "              \n",
    "#               'NUM_INSTALMENT_VERSION_min',\n",
    "#               'DAYS_INSTALMENT_mean',\n",
    "#               'DAYS_INSTALMENT_min',\n",
    "#               'DAYS_ENTRY_PAYMENT_median',\n",
    "#               'DAYS_ENTRY_PAYMENT_min',\n",
    "#               'AMT_INSTALMENT_mean',\n",
    "#               'AMT_INSTALMENT_max',\n",
    "#               'AMT_INSTALMENT_min',\n",
    "#               'AMT_PAYMENT_mean',\n",
    "#               'AMT_PAYMENT_max',\n",
    "#               'AMT_PAYMENT_min',\n",
    "#               'NUM_INSTALMENT_NUMBER_mean',\n",
    "#             ]"
   ]
  },
  {
   "cell_type": "code",
   "execution_count": 43,
   "metadata": {},
   "outputs": [],
   "source": [
    "installments_payments_df_agg_final = pd.read_csv(agg_data_path + 'installments_payments_df_final.csv', index_col='SK_ID_CURR', usecols=best_feats)"
   ]
  },
  {
   "cell_type": "code",
   "execution_count": 44,
   "metadata": {},
   "outputs": [
    {
     "name": "stdout",
     "output_type": "stream",
     "text": [
      "<class 'pandas.core.frame.DataFrame'>\n",
      "Int64Index: 48744 entries, 100001 to 456250\n",
      "Data columns (total 23 columns):\n",
      "NUM_OF_LOANS                  47944 non-null float64\n",
      "DAYS_PAYMENT_LATE_median      47943 non-null float64\n",
      "DAYS_PAYMENT_LATE_sd          47663 non-null float64\n",
      "NUM_TIMES_LATE                47944 non-null float64\n",
      "NUM_TIMES_EARLY               47944 non-null float64\n",
      "AMT_OVERPAY_MEAN              47656 non-null float64\n",
      "AMT_OVERPAY_SD                47427 non-null float64\n",
      "NUM_TIMES_OVERPAY             47944 non-null float64\n",
      "TERMS_CHANGE_TIMES            47944 non-null float64\n",
      "NUM_INSTALMENT_VERSION_max    47944 non-null float64\n",
      "NUM_INSTALMENT_VERSION_min    47944 non-null float64\n",
      "DAYS_INSTALMENT_mean          47944 non-null float64\n",
      "DAYS_INSTALMENT_min           47944 non-null float64\n",
      "DAYS_ENTRY_PAYMENT_mean       47943 non-null float64\n",
      "DAYS_ENTRY_PAYMENT_min        47943 non-null float64\n",
      "AMT_INSTALMENT_mean           47944 non-null float64\n",
      "AMT_INSTALMENT_max            47944 non-null float64\n",
      "AMT_INSTALMENT_min            47944 non-null float64\n",
      "AMT_PAYMENT_mean              47943 non-null float64\n",
      "AMT_PAYMENT_max               47943 non-null float64\n",
      "AMT_PAYMENT_min               47943 non-null float64\n",
      "NUM_INSTALMENT_NUMBER_mean    47944 non-null float64\n",
      "NUM_INSTALMENT_NUMBER_max     47944 non-null float64\n",
      "dtypes: float64(23)\n",
      "memory usage: 8.9 MB\n"
     ]
    }
   ],
   "source": [
    "installments_payments_df_agg_final.info(verbose = True, null_counts=True)"
   ]
  },
  {
   "cell_type": "code",
   "execution_count": 45,
   "metadata": {},
   "outputs": [],
   "source": [
    "def log_modulus_transformation(x):\n",
    "    return np.sign(x)*np.log10( np.abs(x)+1)\n",
    "\n",
    "def pwr_transformation(x,pwr):\n",
    "    return np.sign(x)*( np.abs(x) )**pwr\n",
    "\n",
    "def transform_drop_replace(df_in, old_feat, trans,  replace_w, exp=0):\n",
    "    \n",
    "    if trans=='pwr':\n",
    "        new_feat = 'pwr_'+ old_feat\n",
    "        df_in[new_feat] = pwr_transformation(df_in[old_feat],exp) \n",
    "        df_in.drop(columns = [old_feat], inplace = True)\n",
    "        \n",
    "        if type(replace_w)==int:\n",
    "            df_in.fillna({new_feat:replace_w}, inplace = True)\n",
    "        elif replace_w == 'median':\n",
    "            df_in.fillna({new_feat:df_in[new_feat].median()}, inplace = True)\n",
    "        elif replace_w == 'mean':\n",
    "            df_in.fillna({new_feat:df_in[new_feat].mean()}, inplace = True)\n",
    "        \n",
    "    if trans=='logmod':\n",
    "        new_feat = 'LogMod_'+ old_feat\n",
    "        df_in[new_feat] = log_modulus_transformation(df_in[old_feat]) \n",
    "        df_in.drop(columns = [old_feat], inplace = True)\n",
    "        \n",
    "        if type(replace_w)==int:\n",
    "            df_in.fillna({new_feat:replace_w}, inplace = True)\n",
    "        elif replace_w == 'median':\n",
    "            df_in.fillna({new_feat:df_in[new_feat].median()}, inplace = True)\n",
    "        elif replace_w == 'mean':\n",
    "            df_in.fillna({new_feat:df_in[new_feat].mean()}, inplace = True)\n",
    "        "
   ]
  },
  {
   "cell_type": "code",
   "execution_count": 46,
   "metadata": {},
   "outputs": [],
   "source": [
    "# TRANSFORMATIONS, then drop original features. \n",
    "\n",
    "\n",
    "transform_drop_replace(df_in = installments_payments_df_agg_final, \n",
    "                       old_feat = 'DAYS_PAYMENT_LATE_median', \n",
    "                       trans = 'pwr', \n",
    "                       replace_w = 'median',\n",
    "                       exp = 1/1.7, \n",
    "                      )\n",
    "\n",
    "transform_drop_replace(df_in = installments_payments_df_agg_final, \n",
    "                       old_feat ='DAYS_PAYMENT_LATE_sd', \n",
    "                       trans = 'logmod',  \n",
    "                       replace_w = 'median',\n",
    "                       )\n",
    "\n",
    "transform_drop_replace(df_in = installments_payments_df_agg_final, \n",
    "                       old_feat ='NUM_TIMES_LATE', \n",
    "                       trans = 'pwr', \n",
    "                       exp = 1/1.5, \n",
    "                       replace_w = 'median')\n",
    "\n",
    "transform_drop_replace(df_in = installments_payments_df_agg_final, \n",
    "                       old_feat ='NUM_TIMES_EARLY', \n",
    "                       trans = 'logmod', \n",
    "                       replace_w ='median')\n",
    "\n",
    "\n",
    "transform_drop_replace(df_in = installments_payments_df_agg_final, \n",
    "                       old_feat = 'TERMS_CHANGE_TIMES', \n",
    "                       trans = 'pwr', \n",
    "                       exp = 1/2, \n",
    "                       replace_w ='median')\n",
    "\n",
    "transform_drop_replace(df_in = installments_payments_df_agg_final, \n",
    "                       old_feat = 'DAYS_INSTALMENT_mean', \n",
    "                       trans = 'pwr', \n",
    "                       exp = 1/3.5, \n",
    "                       replace_w ='median')\n",
    "\n",
    "transform_drop_replace(df_in = installments_payments_df_agg_final, \n",
    "                       old_feat ='DAYS_ENTRY_PAYMENT_mean', \n",
    "                       trans = 'pwr', \n",
    "                       exp = 1/3, \n",
    "                       replace_w ='median')\n",
    "                       \n",
    "transform_drop_replace(df_in = installments_payments_df_agg_final, \n",
    "                       old_feat = 'AMT_INSTALMENT_mean', \n",
    "                       trans = 'logmod', \n",
    "                       replace_w = 'median')       \n",
    "                       \n",
    "transform_drop_replace(df_in = installments_payments_df_agg_final, \n",
    "                       old_feat = 'AMT_INSTALMENT_max', \n",
    "                       trans = 'pwr', \n",
    "                       exp = 1/6, \n",
    "                       replace_w ='median')\n",
    "                       \n",
    "transform_drop_replace(df_in = installments_payments_df_agg_final, \n",
    "                       old_feat = 'AMT_INSTALMENT_min', \n",
    "                       trans = 'pwr', \n",
    "                       exp = 1/4, \n",
    "                       replace_w ='median')                       \n",
    "                       \n",
    "transform_drop_replace(df_in = installments_payments_df_agg_final, \n",
    "                       old_feat = 'AMT_PAYMENT_mean', \n",
    "                       trans = 'logmod', \n",
    "                       replace_w = 'median')                       \n",
    "\n",
    "transform_drop_replace(df_in = installments_payments_df_agg_final, \n",
    "                       old_feat = 'AMT_PAYMENT_max', \n",
    "                       trans = 'logmod', \n",
    "                       replace_w = 'median')                       \n",
    "                       \n",
    "transform_drop_replace(df_in = installments_payments_df_agg_final, \n",
    "                       old_feat = 'AMT_PAYMENT_min', \n",
    "                       trans = 'pwr', \n",
    "                       exp =1/5.2, \n",
    "                       replace_w = 'median')                       \n",
    "                       \n",
    "transform_drop_replace(df_in = installments_payments_df_agg_final, \n",
    "                       old_feat = 'NUM_INSTALMENT_NUMBER_mean', \n",
    "                       trans = 'logmod', \n",
    "                       replace_w = 'median')                       \n",
    "                       \n",
    "transform_drop_replace(df_in = installments_payments_df_agg_final, \n",
    "                       old_feat = 'NUM_INSTALMENT_NUMBER_max', \n",
    "                       trans = 'logmod', \n",
    "                       replace_w = 'median')"
   ]
  },
  {
   "cell_type": "code",
   "execution_count": 47,
   "metadata": {},
   "outputs": [],
   "source": [
    "remaining_replace_list=['NUM_OF_LOANS',\n",
    "                        'AMT_OVERPAY_MEAN',\n",
    "                        'AMT_OVERPAY_SD',\n",
    "                        'NUM_TIMES_OVERPAY',\n",
    "                        'NUM_INSTALMENT_VERSION_max',\n",
    "                        'NUM_INSTALMENT_VERSION_min',\n",
    "                        'DAYS_INSTALMENT_min',\n",
    "                        'DAYS_ENTRY_PAYMENT_min', \n",
    "                       ]\n",
    "    \n",
    "for f in remaining_replace_list:\n",
    "    installments_payments_df_agg_final.fillna({f:installments_payments_df_agg_final[f].median()}, inplace=True)"
   ]
  },
  {
   "cell_type": "code",
   "execution_count": 48,
   "metadata": {},
   "outputs": [
    {
     "name": "stdout",
     "output_type": "stream",
     "text": [
      "<class 'pandas.core.frame.DataFrame'>\n",
      "Int64Index: 48744 entries, 100001 to 456250\n",
      "Data columns (total 23 columns):\n",
      "NUM_OF_LOANS                         48744 non-null float64\n",
      "AMT_OVERPAY_MEAN                     48744 non-null float64\n",
      "AMT_OVERPAY_SD                       48744 non-null float64\n",
      "NUM_TIMES_OVERPAY                    48744 non-null float64\n",
      "NUM_INSTALMENT_VERSION_max           48744 non-null float64\n",
      "NUM_INSTALMENT_VERSION_min           48744 non-null float64\n",
      "DAYS_INSTALMENT_min                  48744 non-null float64\n",
      "DAYS_ENTRY_PAYMENT_min               48744 non-null float64\n",
      "pwr_DAYS_PAYMENT_LATE_median         48744 non-null float64\n",
      "LogMod_DAYS_PAYMENT_LATE_sd          48744 non-null float64\n",
      "pwr_NUM_TIMES_LATE                   48744 non-null float64\n",
      "LogMod_NUM_TIMES_EARLY               48744 non-null float64\n",
      "pwr_TERMS_CHANGE_TIMES               48744 non-null float64\n",
      "pwr_DAYS_INSTALMENT_mean             48744 non-null float64\n",
      "pwr_DAYS_ENTRY_PAYMENT_mean          48744 non-null float64\n",
      "LogMod_AMT_INSTALMENT_mean           48744 non-null float64\n",
      "pwr_AMT_INSTALMENT_max               48744 non-null float64\n",
      "pwr_AMT_INSTALMENT_min               48744 non-null float64\n",
      "LogMod_AMT_PAYMENT_mean              48744 non-null float64\n",
      "LogMod_AMT_PAYMENT_max               48744 non-null float64\n",
      "pwr_AMT_PAYMENT_min                  48744 non-null float64\n",
      "LogMod_NUM_INSTALMENT_NUMBER_mean    48744 non-null float64\n",
      "LogMod_NUM_INSTALMENT_NUMBER_max     48744 non-null float64\n",
      "dtypes: float64(23)\n",
      "memory usage: 8.9 MB\n"
     ]
    }
   ],
   "source": [
    "installments_payments_df_agg_final.info(verbose = True, null_counts=True)"
   ]
  },
  {
   "cell_type": "code",
   "execution_count": null,
   "metadata": {},
   "outputs": [],
   "source": []
  },
  {
   "cell_type": "code",
   "execution_count": 49,
   "metadata": {},
   "outputs": [],
   "source": [
    "installments_payments_df_agg_final.to_csv(save_path + 'installments_payments_wrangled_df_final.csv', columns = list(installments_payments_df_agg_final.columns))"
   ]
  },
  {
   "cell_type": "code",
   "execution_count": 50,
   "metadata": {},
   "outputs": [],
   "source": [
    "del installments_payments_df_agg_final"
   ]
  },
  {
   "cell_type": "code",
   "execution_count": null,
   "metadata": {},
   "outputs": [],
   "source": []
  },
  {
   "cell_type": "markdown",
   "metadata": {},
   "source": [
    "# create final single wrangled CSV (only )"
   ]
  },
  {
   "cell_type": "code",
   "execution_count": 51,
   "metadata": {},
   "outputs": [
    {
     "data": {
      "text/plain": [
       "'Desktop/Google Drive/data_science/Python_Projects/Home_Credit_Default_Risk/wrangling/TEST_DATA_create_final_wrangled_csv/'"
      ]
     },
     "execution_count": 51,
     "metadata": {},
     "output_type": "execute_result"
    }
   ],
   "source": [
    "save_path"
   ]
  },
  {
   "cell_type": "code",
   "execution_count": 52,
   "metadata": {},
   "outputs": [],
   "source": [
    "df_to_merge_0 = pd.read_csv(save_path + 'application_test_df_cleaned_final.csv', index_col = 'SK_ID_CURR')\n",
    "df_to_merge_1 = pd.read_csv(save_path + 'bureau_df_aggregated_wrangled_final.csv', index_col = 'SK_ID_CURR')\n",
    "df_to_merge_2 = pd.read_csv(save_path + 'installments_payments_wrangled_df_final.csv', index_col = 'SK_ID_CURR')\n",
    "\n",
    "dfs = (df_to_merge_0,\n",
    "       df_to_merge_1,\n",
    "       df_to_merge_2,\n",
    "       )\n",
    "\n",
    "# these all have the same index (SK_ID_CURR) so no risk for funny business\n",
    "total_df = reduce( lambda left, right: pd.merge( left, right, left_index = True, right_index = True), dfs)\n",
    "# from https://stackoverflow.com/questions/23668427/pandas-joining-multiple-dataframes-on-columns\n",
    "\n",
    "del dfs\n",
    "del df_to_merge_0\n",
    "del df_to_merge_1\n",
    "del df_to_merge_2"
   ]
  },
  {
   "cell_type": "code",
   "execution_count": 53,
   "metadata": {},
   "outputs": [],
   "source": [
    "\n",
    "total_df.to_csv(save_path + 'complete_initial_wrangled_data.csv', columns = list(total_df.columns))"
   ]
  },
  {
   "cell_type": "code",
   "execution_count": 54,
   "metadata": {},
   "outputs": [
    {
     "name": "stdout",
     "output_type": "stream",
     "text": [
      "<class 'pandas.core.frame.DataFrame'>\n",
      "Int64Index: 48744 entries, 100001 to 456250\n",
      "Data columns (total 85 columns):\n",
      "NAME_CONTRACT_TYPE                   48744 non-null object\n",
      "CODE_GENDER                          48744 non-null object\n",
      "FLAG_OWN_CAR                         48744 non-null object\n",
      "FLAG_OWN_REALTY                      48744 non-null object\n",
      "CNT_CHILDREN                         48744 non-null int64\n",
      "NAME_EDUCATION_TYPE                  48744 non-null object\n",
      "NAME_FAMILY_STATUS                   48744 non-null object\n",
      "DAYS_BIRTH                           48744 non-null int64\n",
      "FLAG_EMP_PHONE                       48744 non-null int64\n",
      "FLAG_WORK_PHONE                      48744 non-null int64\n",
      "FLAG_PHONE                           48744 non-null int64\n",
      "FLAG_EMAIL                           48744 non-null int64\n",
      "CNT_FAM_MEMBERS                      48744 non-null int64\n",
      "REGION_RATING_CLIENT                 48744 non-null int64\n",
      "WEEKDAY_APPR_PROCESS_START           48744 non-null object\n",
      "HOUR_APPR_PROCESS_START              48744 non-null int64\n",
      "REG_REGION_NOT_LIVE_REGION           48744 non-null int64\n",
      "REG_REGION_NOT_WORK_REGION           48744 non-null int64\n",
      "LIVE_REGION_NOT_WORK_REGION          48744 non-null int64\n",
      "REG_CITY_NOT_LIVE_CITY               48744 non-null int64\n",
      "REG_CITY_NOT_WORK_CITY               48744 non-null int64\n",
      "LIVE_CITY_NOT_WORK_CITY              48744 non-null int64\n",
      "EXT_SOURCE_1                         48744 non-null float64\n",
      "EXT_SOURCE_2                         48744 non-null float64\n",
      "EXT_SOURCE_3                         48744 non-null float64\n",
      "APARTMENTS_AVG                       48744 non-null float64\n",
      "LANDAREA_AVG                         48744 non-null float64\n",
      "TOTALAREA_MODE                       48744 non-null float64\n",
      "EMERGENCYSTATE_MODE                  48744 non-null object\n",
      "OBS_60_CNT_SOCIAL_CIRCLE             48744 non-null float64\n",
      "FLAG_DOCUMENT_3                      48744 non-null int64\n",
      "FLAG_DOCUMENT_6                      48744 non-null int64\n",
      "AMT_REQ_CREDIT_BUREAU_YEAR           48744 non-null float64\n",
      "NULL_COUNTS                          48744 non-null int64\n",
      "SOCIAL_NULL_COUNTS                   48744 non-null int64\n",
      "NAME_TYPE_SUITE_condensed            48744 non-null object\n",
      "NAME_INCOME_TYPE_condensed           48744 non-null object\n",
      "NAME_HOUSING_TYPE_condensed          48744 non-null object\n",
      "OCCUPATION_TYPE_condensed            48744 non-null object\n",
      "ORGANIZATION_TYPE_condensed          48744 non-null object\n",
      "DAYS_EMPLOYED_eq_365243              48744 non-null object\n",
      "log_AMT_INCOME_TOTAL                 48744 non-null float64\n",
      "log_AMT_CREDIT                       48744 non-null float64\n",
      "pwr_AMT_ANNUITY_from_app_train       48744 non-null float64\n",
      "log_AMT_GOODS_PRICE                  48744 non-null float64\n",
      "pwr_REGION_POPULATION_RELATIVE       48744 non-null float64\n",
      "pwr_DAYS_REGISTRATION                48744 non-null float64\n",
      "pwr_OWN_CAR_AGE                      48744 non-null float64\n",
      "pwr_DAYS_LAST_PHONE_CHANGE           48744 non-null float64\n",
      "pwr_DAYS_EMPLOYED                    48744 non-null float64\n",
      "pwr_DAYS_ID_PUBLISH                  48744 non-null float64\n",
      "DAYS_CREDIT_min                      48744 non-null float64\n",
      "CREDIT_ACTIVE_mode                   48744 non-null object\n",
      "CREDIT_CURRENCY_mode_condensed       48744 non-null object\n",
      "CREDIT_TYPE_mode_condensed           48744 non-null object\n",
      "pwr_DAYS_CREDIT_mean                 48744 non-null float64\n",
      "pwr_DAYS_ENDDATE_FACT_min            48744 non-null float64\n",
      "pwr_DAYS_CREDIT_median               48744 non-null float64\n",
      "pwr_DAYS_ENDDATE_FACT_median         48744 non-null float64\n",
      "LogMod_AMT_CREDIT_SUM_DEBT_mean      48744 non-null float64\n",
      "pwr_DAYS_CREDIT_ENDDATE_mean         48744 non-null float64\n",
      "pwr_DAYS_CREDIT_UPDATE_mean          48744 non-null float64\n",
      "NUM_OF_LOANS                         48744 non-null float64\n",
      "AMT_OVERPAY_MEAN                     48744 non-null float64\n",
      "AMT_OVERPAY_SD                       48744 non-null float64\n",
      "NUM_TIMES_OVERPAY                    48744 non-null float64\n",
      "NUM_INSTALMENT_VERSION_max           48744 non-null float64\n",
      "NUM_INSTALMENT_VERSION_min           48744 non-null float64\n",
      "DAYS_INSTALMENT_min                  48744 non-null float64\n",
      "DAYS_ENTRY_PAYMENT_min               48744 non-null float64\n",
      "pwr_DAYS_PAYMENT_LATE_median         48744 non-null float64\n",
      "LogMod_DAYS_PAYMENT_LATE_sd          48744 non-null float64\n",
      "pwr_NUM_TIMES_LATE                   48744 non-null float64\n",
      "LogMod_NUM_TIMES_EARLY               48744 non-null float64\n",
      "pwr_TERMS_CHANGE_TIMES               48744 non-null float64\n",
      "pwr_DAYS_INSTALMENT_mean             48744 non-null float64\n",
      "pwr_DAYS_ENTRY_PAYMENT_mean          48744 non-null float64\n",
      "LogMod_AMT_INSTALMENT_mean           48744 non-null float64\n",
      "pwr_AMT_INSTALMENT_max               48744 non-null float64\n",
      "pwr_AMT_INSTALMENT_min               48744 non-null float64\n",
      "LogMod_AMT_PAYMENT_mean              48744 non-null float64\n",
      "LogMod_AMT_PAYMENT_max               48744 non-null float64\n",
      "pwr_AMT_PAYMENT_min                  48744 non-null float64\n",
      "LogMod_NUM_INSTALMENT_NUMBER_mean    48744 non-null float64\n",
      "LogMod_NUM_INSTALMENT_NUMBER_max     48744 non-null float64\n",
      "dtypes: float64(49), int64(19), object(17)\n",
      "memory usage: 33.2+ MB\n"
     ]
    }
   ],
   "source": [
    "total_df.info()"
   ]
  },
  {
   "cell_type": "code",
   "execution_count": null,
   "metadata": {},
   "outputs": [],
   "source": []
  },
  {
   "cell_type": "code",
   "execution_count": null,
   "metadata": {},
   "outputs": [],
   "source": []
  },
  {
   "cell_type": "code",
   "execution_count": null,
   "metadata": {},
   "outputs": [],
   "source": []
  },
  {
   "cell_type": "code",
   "execution_count": null,
   "metadata": {},
   "outputs": [],
   "source": []
  },
  {
   "cell_type": "code",
   "execution_count": null,
   "metadata": {},
   "outputs": [],
   "source": []
  },
  {
   "cell_type": "code",
   "execution_count": null,
   "metadata": {},
   "outputs": [],
   "source": []
  }
 ],
 "metadata": {
  "kernelspec": {
   "display_name": "Python 3",
   "language": "python",
   "name": "python3"
  },
  "language_info": {
   "codemirror_mode": {
    "name": "ipython",
    "version": 3
   },
   "file_extension": ".py",
   "mimetype": "text/x-python",
   "name": "python",
   "nbconvert_exporter": "python",
   "pygments_lexer": "ipython3",
   "version": "3.6.6"
  },
  "latex_envs": {
   "LaTeX_envs_menu_present": true,
   "autocomplete": true,
   "bibliofile": "biblio.bib",
   "cite_by": "apalike",
   "current_citInitial": 1,
   "eqLabelWithNumbers": true,
   "eqNumInitial": 1,
   "hotkeys": {
    "equation": "Ctrl-E",
    "itemize": "Ctrl-I"
   },
   "labels_anchors": false,
   "latex_user_defs": false,
   "report_style_numbering": false,
   "user_envs_cfg": false
  },
  "toc": {
   "nav_menu": {},
   "number_sections": true,
   "sideBar": true,
   "skip_h1_title": false,
   "toc_cell": false,
   "toc_position": {},
   "toc_section_display": "block",
   "toc_window_display": false
  },
  "varInspector": {
   "cols": {
    "lenName": 16,
    "lenType": 16,
    "lenVar": 40
   },
   "kernels_config": {
    "python": {
     "delete_cmd_postfix": "",
     "delete_cmd_prefix": "del ",
     "library": "var_list.py",
     "varRefreshCmd": "print(var_dic_list())"
    },
    "r": {
     "delete_cmd_postfix": ") ",
     "delete_cmd_prefix": "rm(",
     "library": "var_list.r",
     "varRefreshCmd": "cat(var_dic_list()) "
    }
   },
   "position": {
    "height": "823px",
    "left": "1572px",
    "right": "68px",
    "top": "108px",
    "width": "447px"
   },
   "types_to_exclude": [
    "module",
    "function",
    "builtin_function_or_method",
    "instance",
    "_Feature"
   ],
   "window_display": false
  }
 },
 "nbformat": 4,
 "nbformat_minor": 2
}
