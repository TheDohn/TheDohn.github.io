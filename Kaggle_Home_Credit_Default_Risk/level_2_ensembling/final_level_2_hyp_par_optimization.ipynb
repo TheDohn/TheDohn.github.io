{
 "cells": [
  {
   "cell_type": "code",
   "execution_count": null,
   "metadata": {},
   "outputs": [],
   "source": []
  },
  {
   "cell_type": "code",
   "execution_count": 17,
   "metadata": {
    "scrolled": true
   },
   "outputs": [
    {
     "data": {
      "text/plain": [
       "('0.23.0', '1.14.3')"
      ]
     },
     "execution_count": 17,
     "metadata": {},
     "output_type": "execute_result"
    }
   ],
   "source": [
    "import pandas as pd\n",
    "\n",
    "import numpy as np\n",
    "\n",
    "# import matplotlib.pyplot as plt\n",
    "# import seaborn as sns\n",
    "# sns.set(context = 'notebook', #mostly controls relative sizes of things on plot \n",
    "#                         #The base context is “notebook”, and the other contexts are “paper”, “talk”, and “poster”\n",
    "#         style = 'darkgrid', #dict, None, or one of {darkgrid, whitegrid, dark, white, ticks}\n",
    "#         palette = 'deep', # Should be something that color_palette() can process.\n",
    "#         font_scale = 1, \n",
    "#         color_codes = False, \n",
    "#         rc = None)\n",
    "\n",
    "# from IPython.core.interactiveshell import InteractiveShell \n",
    "# InteractiveShell.ast_node_interactivity = 'last_expr' \n",
    "# setting = \"all\" allows multiple outputs to be displayed for a given input cell. don't use w plotting!\n",
    "\n",
    "from IPython.display import display\n",
    "\n",
    "# %matplotlib notebook\n",
    "#%matplotlib inline\n",
    "\n",
    "pd.__version__ , np.__version__ #,  matplotlib.__version__, sns.__version__"
   ]
  },
  {
   "cell_type": "code",
   "execution_count": null,
   "metadata": {},
   "outputs": [],
   "source": []
  },
  {
   "cell_type": "code",
   "execution_count": 18,
   "metadata": {},
   "outputs": [],
   "source": [
    "from sklearn.model_selection import train_test_split, learning_curve, cross_val_score, KFold, StratifiedKFold, \\\n",
    "                                    ShuffleSplit, GridSearchCV, RandomizedSearchCV\n",
    "\n",
    "from sklearn.metrics import roc_auc_score\n",
    "\n",
    "from sklearn.ensemble import RandomForestClassifier\n",
    "from sklearn.linear_model import LogisticRegression\n",
    "from sklearn.neural_network import MLPClassifier\n",
    "from sklearn.ensemble import AdaBoostClassifier\n",
    "\n",
    "from sklearn.tree import DecisionTreeClassifier"
   ]
  },
  {
   "cell_type": "code",
   "execution_count": null,
   "metadata": {},
   "outputs": [],
   "source": []
  },
  {
   "cell_type": "code",
   "execution_count": 19,
   "metadata": {
    "scrolled": true
   },
   "outputs": [
    {
     "data": {
      "text/plain": [
       "'/home/thedohn/Notebooks'"
      ]
     },
     "execution_count": 19,
     "metadata": {},
     "output_type": "execute_result"
    }
   ],
   "source": [
    "pwd"
   ]
  },
  {
   "cell_type": "code",
   "execution_count": 20,
   "metadata": {},
   "outputs": [],
   "source": [
    "#cd '/Users/DonBunk/Desktop/Google Drive/data_science/Python_Projects/Home_Credit_Default_Risk/'"
   ]
  },
  {
   "cell_type": "code",
   "execution_count": 21,
   "metadata": {},
   "outputs": [],
   "source": [
    "from Home_Credit_package.master_pipeline import master_pipeline"
   ]
  },
  {
   "cell_type": "code",
   "execution_count": null,
   "metadata": {},
   "outputs": [],
   "source": []
  },
  {
   "cell_type": "markdown",
   "metadata": {},
   "source": [
    "# load this"
   ]
  },
  {
   "cell_type": "code",
   "execution_count": null,
   "metadata": {},
   "outputs": [],
   "source": []
  },
  {
   "cell_type": "markdown",
   "metadata": {
    "heading_collapsed": true
   },
   "source": [
    "## load df."
   ]
  },
  {
   "cell_type": "code",
   "execution_count": null,
   "metadata": {
    "hidden": true
   },
   "outputs": [],
   "source": []
  },
  {
   "cell_type": "code",
   "execution_count": 22,
   "metadata": {
    "hidden": true
   },
   "outputs": [],
   "source": [
    "path = ''\n",
    "original_cleaned_df = pd.read_csv(path + 'complete_initial_wrangled_data.csv', index_col = 'SK_ID_CURR')\n",
    "level_1_metafeatures_df = pd.read_csv(path + 'level_2_input_FINAL_level_1_meta_features_df.csv', index_col = 'SK_ID_CURR')\n",
    "total_df = pd.merge(original_cleaned_df, level_1_metafeatures_df, left_index=True, right_index=True, how = 'outer' )"
   ]
  },
  {
   "cell_type": "code",
   "execution_count": null,
   "metadata": {
    "hidden": true
   },
   "outputs": [],
   "source": []
  },
  {
   "cell_type": "code",
   "execution_count": 23,
   "metadata": {
    "hidden": true
   },
   "outputs": [
    {
     "name": "stdout",
     "output_type": "stream",
     "text": [
      "<class 'pandas.core.frame.DataFrame'>\n",
      "Int64Index: 307511 entries, 100002 to 456255\n",
      "Data columns (total 91 columns):\n",
      "TARGET                               307511 non-null int64\n",
      "NAME_CONTRACT_TYPE                   307511 non-null object\n",
      "CODE_GENDER                          307511 non-null object\n",
      "FLAG_OWN_CAR                         307511 non-null object\n",
      "FLAG_OWN_REALTY                      307511 non-null object\n",
      "CNT_CHILDREN                         307511 non-null int64\n",
      "NAME_EDUCATION_TYPE                  307511 non-null object\n",
      "NAME_FAMILY_STATUS                   307511 non-null object\n",
      "DAYS_BIRTH                           307511 non-null int64\n",
      "FLAG_EMP_PHONE                       307511 non-null int64\n",
      "FLAG_WORK_PHONE                      307511 non-null int64\n",
      "FLAG_PHONE                           307511 non-null int64\n",
      "FLAG_EMAIL                           307511 non-null int64\n",
      "CNT_FAM_MEMBERS                      307511 non-null int64\n",
      "REGION_RATING_CLIENT                 307511 non-null int64\n",
      "WEEKDAY_APPR_PROCESS_START           307511 non-null object\n",
      "HOUR_APPR_PROCESS_START              307511 non-null int64\n",
      "REG_REGION_NOT_LIVE_REGION           307511 non-null int64\n",
      "REG_REGION_NOT_WORK_REGION           307511 non-null int64\n",
      "LIVE_REGION_NOT_WORK_REGION          307511 non-null int64\n",
      "REG_CITY_NOT_LIVE_CITY               307511 non-null int64\n",
      "REG_CITY_NOT_WORK_CITY               307511 non-null int64\n",
      "LIVE_CITY_NOT_WORK_CITY              307511 non-null int64\n",
      "EXT_SOURCE_1                         307511 non-null float64\n",
      "EXT_SOURCE_2                         307511 non-null float64\n",
      "EXT_SOURCE_3                         307511 non-null float64\n",
      "APARTMENTS_AVG                       307511 non-null float64\n",
      "LANDAREA_AVG                         307511 non-null float64\n",
      "TOTALAREA_MODE                       307511 non-null float64\n",
      "EMERGENCYSTATE_MODE                  307511 non-null object\n",
      "OBS_60_CNT_SOCIAL_CIRCLE             307511 non-null float64\n",
      "FLAG_DOCUMENT_3                      307511 non-null int64\n",
      "FLAG_DOCUMENT_6                      307511 non-null int64\n",
      "AMT_REQ_CREDIT_BUREAU_YEAR           307511 non-null float64\n",
      "NULL_COUNTS                          307511 non-null int64\n",
      "SOCIAL_NULL_COUNTS                   307511 non-null int64\n",
      "NAME_TYPE_SUITE_condensed            307511 non-null object\n",
      "NAME_INCOME_TYPE_condensed           307511 non-null object\n",
      "NAME_HOUSING_TYPE_condensed          307511 non-null object\n",
      "OCCUPATION_TYPE_condensed            307511 non-null object\n",
      "ORGANIZATION_TYPE_condensed          307511 non-null object\n",
      "DAYS_EMPLOYED_eq_365243              307511 non-null object\n",
      "log_AMT_INCOME_TOTAL                 307511 non-null float64\n",
      "log_AMT_CREDIT                       307511 non-null float64\n",
      "pwr_AMT_ANNUITY_from_app_train       307511 non-null float64\n",
      "log_AMT_GOODS_PRICE                  307511 non-null float64\n",
      "pwr_REGION_POPULATION_RELATIVE       307511 non-null float64\n",
      "pwr_DAYS_REGISTRATION                307511 non-null float64\n",
      "pwr_OWN_CAR_AGE                      307511 non-null float64\n",
      "pwr_DAYS_LAST_PHONE_CHANGE           307511 non-null float64\n",
      "pwr_DAYS_EMPLOYED                    307511 non-null float64\n",
      "pwr_DAYS_ID_PUBLISH                  307511 non-null float64\n",
      "DAYS_CREDIT_min                      307511 non-null float64\n",
      "CREDIT_ACTIVE_mode_condensed         307511 non-null object\n",
      "CREDIT_CURRENCY_mode_condensed       307511 non-null object\n",
      "CREDIT_TYPE_mode_condensed           307511 non-null object\n",
      "pwr_DAYS_CREDIT_mean                 307511 non-null float64\n",
      "pwr_DAYS_ENDDATE_FACT_min            307511 non-null float64\n",
      "pwr_DAYS_CREDIT_median               307511 non-null float64\n",
      "pwr_DAYS_ENDDATE_FACT_median         307511 non-null float64\n",
      "LogMod_AMT_CREDIT_SUM_DEBT_mean      307511 non-null float64\n",
      "pwr_DAYS_CREDIT_ENDDATE_mean         307511 non-null float64\n",
      "pwr_DAYS_CREDIT_UPDATE_mean          307511 non-null float64\n",
      "NUM_OF_LOANS                         307511 non-null float64\n",
      "AMT_OVERPAY_MEAN                     307511 non-null float64\n",
      "AMT_OVERPAY_SD                       307511 non-null float64\n",
      "NUM_TIMES_OVERPAY                    307511 non-null float64\n",
      "NUM_INSTALMENT_VERSION_max           307511 non-null float64\n",
      "NUM_INSTALMENT_VERSION_min           307511 non-null float64\n",
      "DAYS_INSTALMENT_min                  307511 non-null float64\n",
      "DAYS_ENTRY_PAYMENT_min               307511 non-null float64\n",
      "pwr_DAYS_PAYMENT_LATE_median         307511 non-null float64\n",
      "LogMod_DAYS_PAYMENT_LATE_sd          307511 non-null float64\n",
      "pwr_NUM_TIMES_LATE                   307511 non-null float64\n",
      "LogMod_NUM_TIMES_EARLY               307511 non-null float64\n",
      "pwr_TERMS_CHANGE_TIMES               307511 non-null float64\n",
      "pwr_DAYS_INSTALMENT_mean             307511 non-null float64\n",
      "pwr_DAYS_ENTRY_PAYMENT_mean          307511 non-null float64\n",
      "LogMod_AMT_INSTALMENT_mean           307511 non-null float64\n",
      "pwr_AMT_INSTALMENT_max               307511 non-null float64\n",
      "pwr_AMT_INSTALMENT_min               307511 non-null float64\n",
      "LogMod_AMT_PAYMENT_mean              307511 non-null float64\n",
      "LogMod_AMT_PAYMENT_max               307511 non-null float64\n",
      "pwr_AMT_PAYMENT_min                  307511 non-null float64\n",
      "LogMod_NUM_INSTALMENT_NUMBER_mean    307511 non-null float64\n",
      "LogMod_NUM_INSTALMENT_NUMBER_max     307511 non-null float64\n",
      "pwr_rescale_RanFor_EXTpoly           307511 non-null float64\n",
      "pwr_rescale_RanFor_AllFeats          307511 non-null float64\n",
      "pwr_rescale_LogReg_EXTpoly           307511 non-null float64\n",
      "pwr_rescale_LogReg_AllFeats          307511 non-null float64\n",
      "pwr_rescale_MLP_AllFeats             307511 non-null float64\n",
      "dtypes: float64(54), int64(20), object(17)\n",
      "memory usage: 225.8+ MB\n"
     ]
    }
   ],
   "source": [
    "total_df.info(verbose = True, null_counts = True);"
   ]
  },
  {
   "cell_type": "code",
   "execution_count": 24,
   "metadata": {
    "hidden": true
   },
   "outputs": [
    {
     "data": {
      "text/plain": [
       "Series([], dtype: bool)"
      ]
     },
     "execution_count": 24,
     "metadata": {},
     "output_type": "execute_result"
    }
   ],
   "source": [
    "# CHECK: this should be empty if everything is non null\n",
    "total_df.isnull().any()[total_df.isnull().any()==True]"
   ]
  },
  {
   "cell_type": "code",
   "execution_count": null,
   "metadata": {
    "hidden": true
   },
   "outputs": [],
   "source": []
  },
  {
   "cell_type": "markdown",
   "metadata": {},
   "source": [
    "# models with only EXT SOURCES + level 1 final scores.                                     "
   ]
  },
  {
   "cell_type": "code",
   "execution_count": null,
   "metadata": {},
   "outputs": [],
   "source": []
  },
  {
   "cell_type": "code",
   "execution_count": 25,
   "metadata": {
    "scrolled": true
   },
   "outputs": [],
   "source": [
    "minimal_feats = ['EXT_SOURCE_1','EXT_SOURCE_2','EXT_SOURCE_3',\n",
    "                 'pwr_rescale_RanFor_EXTpoly', 'pwr_rescale_RanFor_AllFeats', \n",
    "                 'pwr_rescale_LogReg_EXTpoly','pwr_rescale_LogReg_AllFeats', \n",
    "                 'pwr_rescale_MLP_AllFeats']"
   ]
  },
  {
   "cell_type": "code",
   "execution_count": 26,
   "metadata": {},
   "outputs": [
    {
     "name": "stdout",
     "output_type": "stream",
     "text": [
      "Total original feat len is 8. Sum of feats is 8.\n",
      "Final array is length 40. final feature list is length 40.\n"
     ]
    }
   ],
   "source": [
    "total_df_piped, final_feature_list, total_pipeline, trans_list = master_pipeline(df_in = total_df[minimal_feats],\n",
    "                                                                                 int_cutoff=20, \n",
    "                                                                                 poly_deg=4, \n",
    "                                                                                 feats_with_interaction=[]\n",
    "                                                                                 )"
   ]
  },
  {
   "cell_type": "code",
   "execution_count": null,
   "metadata": {},
   "outputs": [],
   "source": []
  },
  {
   "cell_type": "markdown",
   "metadata": {
    "heading_collapsed": true
   },
   "source": [
    "### DONE. random forest grid search."
   ]
  },
  {
   "cell_type": "code",
   "execution_count": null,
   "metadata": {
    "hidden": true
   },
   "outputs": [],
   "source": []
  },
  {
   "cell_type": "raw",
   "metadata": {
    "hidden": true
   },
   "source": [
    "Results:\n",
    "\n",
    "input: \n",
    "param_dist_dict =  { 'max_depth' :         [10,15,20],\n",
    "                     'min_samples_leaf' :  [20,30,40,50],\n",
    "                     'min_samples_split' : [2,3], \n",
    "                     'n_estimators':       [40],\n",
    "                    }\n",
    "output:\n",
    "{'max_depth': 10,\n",
    " 'min_samples_leaf': 40,\n",
    " 'min_samples_split': 2,\n",
    " 'n_estimators': 40}\n",
    " T_score = 0.7952861875687605, V_score = 0.7734364674660258\n",
    " \n",
    "input:\n",
    "param_dist_dict =  { 'max_depth' :         [5,6,7,8,9,10],\n",
    "                     'min_samples_leaf' :  [35,37,40,42,45],\n",
    "                     'min_samples_split' : [2], \n",
    "                     'n_estimators':       [40],\n",
    "                    }\n",
    "                    \n",
    "output:\n",
    "{'max_depth': 5,\n",
    " 'min_samples_leaf': 35,\n",
    " 'min_samples_split': 2,\n",
    " 'n_estimators': 40}\n",
    " T_score = 0.7688404542108025, V_score = 0.7750880606507247\n",
    " \n",
    "input:\n",
    "param_dist_dict =  { 'max_depth' :         [2,3,4,5],\n",
    "                     'min_samples_leaf' :  [10,20,30,35],\n",
    "                     'min_samples_split' : [2], \n",
    "                     'n_estimators':       [40],\n",
    "                    }\n",
    "\n",
    "output:\n",
    "{'max_depth': 4,\n",
    " 'min_samples_leaf': 10,\n",
    " 'min_samples_split': 2,\n",
    " 'n_estimators': 40}\n",
    "T_score = 0.7672619344174749, V_score = 0.7749036104756363\n",
    "\n",
    "input:\n",
    "param_dist_dict =  { 'max_depth' :         [3,4,5],\n",
    "                     'min_samples_leaf' :  [5,8,10,15],\n",
    "                     'min_samples_split' : [2], \n",
    "                     'n_estimators':       [40],\n",
    "                    }\n",
    "output:\n",
    "{'max_depth': 4,\n",
    " 'min_samples_leaf': 10,\n",
    " 'min_samples_split': 2,\n",
    " 'n_estimators': 40}\n",
    "T_score = 0.7672619344174749, V_score = 0.7749036104756363\n",
    "\n",
    "input:\n",
    "param_dist_dict =  { 'max_depth' :         [3,4,5],\n",
    "                     'min_samples_leaf' :  [9,10,11,12,13,14],\n",
    "                     'min_samples_split' : [2], \n",
    "                     'n_estimators':       [40],\n",
    "                    }\n",
    "                    \n",
    "output:                    \n",
    "{'max_depth': 4,\n",
    " 'min_samples_leaf': 12,\n",
    " 'min_samples_split': 2,\n",
    " 'n_estimators': 40}\n",
    "T_score = 0.7672598098889133, V_score = 0.7749204442111646\n",
    "\n",
    "******************************************************************\n",
    "Switching to training on full set. And some slightly new level 1 results. \n",
    "******************************************************************\n",
    "\n",
    "input: \n",
    "param_dist_dict =  { 'max_depth' :         [3,4,5],\n",
    "                     'min_samples_leaf' :  [9,10,11,12,13,14],\n",
    "                     'min_samples_split' : [2], \n",
    "                     'n_estimators':       [40],\n",
    "                    }\n",
    "                    \n",
    "output:    \n",
    "\n",
    "{'max_depth': 5,\n",
    " 'min_samples_leaf': 9,\n",
    " 'min_samples_split': 2,\n",
    " 'n_estimators': 40}\n",
    "best_score = .76...., train_score = 0.7705122375237419\n",
    "\n",
    "input:\n",
    "param_dist_dict =  { 'max_depth' :         [5,7,9],\n",
    "                     'min_samples_leaf' :  [4,7,9],\n",
    "                     'min_samples_split' : [2], \n",
    "                     'n_estimators':       [40],\n",
    "                    }\n",
    "                    \n",
    "output:  \n",
    "{'max_depth': 5,\n",
    " 'min_samples_leaf': 7,\n",
    " 'min_samples_split': 2,\n",
    " 'n_estimators': 40}\n",
    " best_score = 0.7685749094437057, train_score = 0.7705273370296688\n",
    " \n",
    " input:\n",
    " param_dist_dict =  { 'max_depth' :         [3,4,5,6],\n",
    "                     'min_samples_leaf' :  [5,6,7,8],\n",
    "                     'min_samples_split' : [2], \n",
    "                     'n_estimators':       [40],\n",
    "                    }\n",
    "output:\n",
    "{'max_depth': 5,\n",
    " 'min_samples_leaf': 7,\n",
    " 'min_samples_split': 2,\n",
    " 'n_estimators': 40}\n",
    " best_score = 0.7685749094437057, train_score = 0.7705273370296688\n",
    " \n",
    "******************************************************************\n",
    "Restarting (Fix leaked level 1 results.  )\n",
    "******************************************************************\n",
    "\n",
    "\n",
    "input:\n",
    "param_dist_dict =  { 'max_depth' :         [5,10,20],\n",
    "                     'min_samples_leaf' :  [10,20,30,40,50],\n",
    "                     'min_samples_split' : [2], \n",
    "                     'n_estimators':       [40],\n",
    "                    }\n",
    "                    \n",
    "output:  {'max_depth': 5,\n",
    " 'min_samples_leaf': 20,\n",
    " 'min_samples_split': 2,\n",
    " 'n_estimators': 40}\n",
    " best_score = 0.7682630901407216, train_score = 0.7704197848891641\n",
    " \n",
    " input: \n",
    " param_dist_dict =  { 'max_depth' :         [4,5,7,9],\n",
    "                     'min_samples_leaf' :  [10,15,20,25,30],\n",
    "                     'min_samples_split' : [2], \n",
    "                     'n_estimators':       [40],\n",
    "                    }\n",
    "output:                    \n",
    "{'max_depth': 5,\n",
    " 'min_samples_leaf': 15,\n",
    " 'min_samples_split': 2,\n",
    " 'n_estimators': 40}\n",
    " best_score = 0.7682822695581677, train_score = 0.7703977883032412\n",
    " \n",
    " input: \n",
    " param_dist_dict =  { 'max_depth' :         [4,5,6,7],\n",
    "                     'min_samples_leaf' :  [12,14,15,16,18],\n",
    "                     'min_samples_split' : [2], \n",
    "                     'n_estimators':       [40],\n",
    "                    }\n",
    "                    \n",
    "output:\n",
    "{'max_depth': 6,\n",
    " 'min_samples_leaf': 12,\n",
    " 'min_samples_split': 2,\n",
    " 'n_estimators': 40}\n",
    " best_score = 0.7683195371814959, train_score = 0.7723275482946468\n",
    " \n",
    " input:\n",
    " param_dist_dict =  { 'max_depth' :         [4,5,6,7],\n",
    "                     'min_samples_leaf' :  [9,10,11,12,13],\n",
    "                     'min_samples_split' : [2], \n",
    "                     'n_estimators':       [40],\n",
    "                    }\n",
    "output: \n",
    "{'max_depth': 6,\n",
    " 'min_samples_leaf': 11,\n",
    " 'min_samples_split': 2,\n",
    " 'n_estimators': 40}\n",
    " best_score = 0.7683421720049418, train_score = 0.7723052463371459\n",
    " "
   ]
  },
  {
   "cell_type": "code",
   "execution_count": null,
   "metadata": {
    "hidden": true
   },
   "outputs": [],
   "source": []
  },
  {
   "cell_type": "code",
   "execution_count": 27,
   "metadata": {
    "hidden": true,
    "scrolled": true
   },
   "outputs": [
    {
     "name": "stdout",
     "output_type": "stream",
     "text": [
      "Fitting 3 folds for each of 20 candidates, totalling 60 fits\n",
      "[CV] max_depth=4, min_samples_leaf=9, min_samples_split=2, n_estimators=40 \n",
      "Memmaping (shape=(307511, 40), dtype=float64) to new file /dev/shm/joblib_memmaping_pool_3195_140475080666248/3195-140473954781728-f9e19e0ef8d47f852076b18d96de02fe.pkl\n",
      "Memmaping (shape=(307511,), dtype=int64) to new file /dev/shm/joblib_memmaping_pool_3195_140475080666248/3195-140473954781728-36f41ebc26c9047822d0779f2962f9e3.pkl\n",
      "Memmaping (shape=(307511,), dtype=int64) to new file /dev/shm/joblib_memmaping_pool_3195_140475080666248/3195-140473954781728-7fee98903a11851f0c36b343c7ef5338.pkl\n",
      "Memmaping (shape=(205007,), dtype=int64) to new file /dev/shm/joblib_memmaping_pool_3195_140475080666248/3195-140473954781728-981b55e712abb5a5a2369212f2856f0a.pkl\n",
      "[CV] max_depth=4, min_samples_leaf=9, min_samples_split=2, n_estimators=40 \n",
      "[CV] max_depth=4, min_samples_leaf=9, min_samples_split=2, n_estimators=40 \n",
      "Memmaping (shape=(205007,), dtype=int64) to new file /dev/shm/joblib_memmaping_pool_3195_140475080666248/3195-140473954781728-52b45483e9e8ae50702a4dfc49cfc8ef.pkl\n",
      "Memmaping (shape=(205008,), dtype=int64) to new file /dev/shm/joblib_memmaping_pool_3195_140475080666248/3195-140473954781728-14cff63d81a68491cd383c416c29ffaa.pkl\n",
      "[CV] max_depth=4, min_samples_leaf=10, min_samples_split=2, n_estimators=40 \n",
      "[CV] max_depth=4, min_samples_leaf=10, min_samples_split=2, n_estimators=40 \n",
      "[CV] max_depth=4, min_samples_leaf=10, min_samples_split=2, n_estimators=40 \n",
      "[CV] max_depth=4, min_samples_leaf=11, min_samples_split=2, n_estimators=40 \n",
      "[CV] max_depth=4, min_samples_leaf=11, min_samples_split=2, n_estimators=40 \n",
      "[CV]  max_depth=4, min_samples_leaf=9, min_samples_split=2, n_estimators=40, score=0.7685453407378482, total=  29.6s\n",
      "[CV] max_depth=4, min_samples_leaf=11, min_samples_split=2, n_estimators=40 \n",
      "[CV]  max_depth=4, min_samples_leaf=9, min_samples_split=2, n_estimators=40, score=0.7648047151570294, total=  29.6s\n",
      "[Parallel(n_jobs=-1)]: Done   1 tasks      | elapsed:   31.0s\n",
      "[Parallel(n_jobs=-1)]: Done   2 tasks      | elapsed:   31.1s\n",
      "[CV] max_depth=4, min_samples_leaf=12, min_samples_split=2, n_estimators=40 \n",
      "[CV]  max_depth=4, min_samples_leaf=10, min_samples_split=2, n_estimators=40, score=0.764805320483149, total=  29.3s\n",
      "[CV]  max_depth=4, min_samples_leaf=9, min_samples_split=2, n_estimators=40, score=0.7704950465971397, total=  29.7s\n",
      "[CV]  max_depth=4, min_samples_leaf=11, min_samples_split=2, n_estimators=40, score=0.7685517800226926, total=  28.9s\n",
      "[CV] max_depth=4, min_samples_leaf=12, min_samples_split=2, n_estimators=40 \n",
      "[Parallel(n_jobs=-1)]: Done   3 tasks      | elapsed:   31.3s\n",
      "[Parallel(n_jobs=-1)]: Done   4 tasks      | elapsed:   31.4s\n",
      "[Parallel(n_jobs=-1)]: Done   5 tasks      | elapsed:   31.4s\n",
      "[CV] max_depth=4, min_samples_leaf=12, min_samples_split=2, n_estimators=40 \n",
      "[CV]  max_depth=4, min_samples_leaf=10, min_samples_split=2, n_estimators=40, score=0.7685460922656154, total=  29.8s\n",
      "[CV]  max_depth=4, min_samples_leaf=10, min_samples_split=2, n_estimators=40, score=0.7704962989429638, total=  29.6s\n",
      "[CV] max_depth=4, min_samples_leaf=13, min_samples_split=2, n_estimators=40 \n",
      "[Parallel(n_jobs=-1)]: Done   6 tasks      | elapsed:   31.8s\n",
      "[Parallel(n_jobs=-1)]: Done   7 tasks      | elapsed:   31.9s\n",
      "[CV] max_depth=4, min_samples_leaf=13, min_samples_split=2, n_estimators=40 \n",
      "[CV] max_depth=4, min_samples_leaf=13, min_samples_split=2, n_estimators=40 \n",
      "[CV]  max_depth=4, min_samples_leaf=11, min_samples_split=2, n_estimators=40, score=0.7648084869030416, total=  29.9s\n",
      "[CV] max_depth=5, min_samples_leaf=9, min_samples_split=2, n_estimators=40 \n",
      "[Parallel(n_jobs=-1)]: Done   8 tasks      | elapsed:   32.6s\n",
      "[CV]  max_depth=4, min_samples_leaf=11, min_samples_split=2, n_estimators=40, score=0.7704965451799306, total=  28.3s\n",
      "[CV] max_depth=5, min_samples_leaf=9, min_samples_split=2, n_estimators=40 \n",
      "[Parallel(n_jobs=-1)]: Done   9 tasks      | elapsed:  1.0min\n",
      "[CV]  max_depth=4, min_samples_leaf=12, min_samples_split=2, n_estimators=40, score=0.7648087023581012, total=  28.0s\n",
      "[CV] max_depth=5, min_samples_leaf=9, min_samples_split=2, n_estimators=40 \n",
      "[CV]  max_depth=4, min_samples_leaf=12, min_samples_split=2, n_estimators=40, score=0.7685529214215199, total=  28.4s\n",
      "[Parallel(n_jobs=-1)]: Done  10 tasks      | elapsed:  1.0min\n",
      "[Parallel(n_jobs=-1)]: Done  11 tasks      | elapsed:  1.0min\n",
      "[CV] max_depth=5, min_samples_leaf=10, min_samples_split=2, n_estimators=40 \n",
      "[CV]  max_depth=4, min_samples_leaf=12, min_samples_split=2, n_estimators=40, score=0.7704967478124346, total=  28.3s\n",
      "[CV] max_depth=5, min_samples_leaf=10, min_samples_split=2, n_estimators=40 \n",
      "[CV]  max_depth=4, min_samples_leaf=13, min_samples_split=2, n_estimators=40, score=0.7685520563951054, total=  28.2s\n",
      "[Parallel(n_jobs=-1)]: Done  12 tasks      | elapsed:  1.0min\n",
      "[Parallel(n_jobs=-1)]: Done  13 tasks      | elapsed:  1.0min\n",
      "[CV] max_depth=5, min_samples_leaf=10, min_samples_split=2, n_estimators=40 \n",
      "[CV]  max_depth=4, min_samples_leaf=13, min_samples_split=2, n_estimators=40, score=0.7648077700019804, total=  28.5s\n",
      "[CV] max_depth=5, min_samples_leaf=11, min_samples_split=2, n_estimators=40 \n",
      "[Parallel(n_jobs=-1)]: Done  14 tasks      | elapsed:  1.0min\n",
      "[CV]  max_depth=4, min_samples_leaf=13, min_samples_split=2, n_estimators=40, score=0.770496661885993, total=  28.4s\n",
      "[CV] max_depth=5, min_samples_leaf=11, min_samples_split=2, n_estimators=40 \n",
      "[Parallel(n_jobs=-1)]: Done  15 tasks      | elapsed:  1.0min\n",
      "[CV]  max_depth=5, min_samples_leaf=9, min_samples_split=2, n_estimators=40, score=0.7687471458216195, total=  33.3s\n",
      "[CV] max_depth=5, min_samples_leaf=11, min_samples_split=2, n_estimators=40 \n",
      "[Parallel(n_jobs=-1)]: Done  16 tasks      | elapsed:  1.1min\n",
      "[CV]  max_depth=5, min_samples_leaf=9, min_samples_split=2, n_estimators=40, score=0.765312679315439, total=  34.4s\n",
      "[CV] max_depth=5, min_samples_leaf=12, min_samples_split=2, n_estimators=40 \n",
      "[CV]  max_depth=5, min_samples_leaf=9, min_samples_split=2, n_estimators=40, score=0.7707265696227971, total=  34.2s\n",
      "[CV]  max_depth=5, min_samples_leaf=10, min_samples_split=2, n_estimators=40, score=0.7687107377639721, total=  34.0s\n",
      "[Parallel(n_jobs=-1)]: Done  17 tasks      | elapsed:  1.6min\n",
      "[Parallel(n_jobs=-1)]: Done  18 tasks      | elapsed:  1.6min\n",
      "[Parallel(n_jobs=-1)]: Done  19 tasks      | elapsed:  1.6min\n",
      "[CV] max_depth=5, min_samples_leaf=12, min_samples_split=2, n_estimators=40 \n",
      "[CV] max_depth=5, min_samples_leaf=12, min_samples_split=2, n_estimators=40 \n",
      "[CV]  max_depth=5, min_samples_leaf=10, min_samples_split=2, n_estimators=40, score=0.7653315675423238, total=  34.3s\n",
      "[CV] max_depth=5, min_samples_leaf=13, min_samples_split=2, n_estimators=40 \n",
      "[Parallel(n_jobs=-1)]: Done  20 tasks      | elapsed:  1.6min\n",
      "[CV]  max_depth=5, min_samples_leaf=10, min_samples_split=2, n_estimators=40, score=0.7707291743482128, total=  34.5s\n",
      "[CV] max_depth=5, min_samples_leaf=13, min_samples_split=2, n_estimators=40 \n",
      "[Parallel(n_jobs=-1)]: Done  21 tasks      | elapsed:  1.6min\n",
      "[CV]  max_depth=5, min_samples_leaf=11, min_samples_split=2, n_estimators=40, score=0.7653231173435904, total=  34.6s\n",
      "[CV] max_depth=5, min_samples_leaf=13, min_samples_split=2, n_estimators=40 \n",
      "[CV]  max_depth=5, min_samples_leaf=11, min_samples_split=2, n_estimators=40, score=0.7687150064673389, total=  35.0s\n",
      "[Parallel(n_jobs=-1)]: Done  22 tasks      | elapsed:  1.6min\n",
      "[Parallel(n_jobs=-1)]: Done  23 tasks      | elapsed:  1.6min\n",
      "[CV] max_depth=6, min_samples_leaf=9, min_samples_split=2, n_estimators=40 \n",
      "[CV]  max_depth=5, min_samples_leaf=11, min_samples_split=2, n_estimators=40, score=0.7707339176160362, total=  34.0s\n",
      "[CV] max_depth=6, min_samples_leaf=9, min_samples_split=2, n_estimators=40 \n",
      "[Parallel(n_jobs=-1)]: Done  24 tasks      | elapsed:  1.7min\n",
      "[CV]  max_depth=5, min_samples_leaf=12, min_samples_split=2, n_estimators=40, score=0.7687499608445698, total=  33.8s\n",
      "[CV] max_depth=6, min_samples_leaf=9, min_samples_split=2, n_estimators=40 \n",
      "[CV]  max_depth=5, min_samples_leaf=12, min_samples_split=2, n_estimators=40, score=0.7653223722281761, total=  33.8s\n",
      "[Parallel(n_jobs=-1)]: Done  25 tasks      | elapsed:  2.2min\n",
      "[Parallel(n_jobs=-1)]: Done  26 tasks      | elapsed:  2.2min\n"
     ]
    },
    {
     "name": "stdout",
     "output_type": "stream",
     "text": [
      "[CV] max_depth=6, min_samples_leaf=10, min_samples_split=2, n_estimators=40 \n",
      "[CV]  max_depth=5, min_samples_leaf=13, min_samples_split=2, n_estimators=40, score=0.7687559397224715, total=  33.5s\n",
      "[CV] max_depth=6, min_samples_leaf=10, min_samples_split=2, n_estimators=40 \n",
      "[Parallel(n_jobs=-1)]: Done  27 tasks      | elapsed:  2.2min\n",
      "[CV]  max_depth=5, min_samples_leaf=12, min_samples_split=2, n_estimators=40, score=0.7707508207578276, total=  34.1s\n",
      "[CV] max_depth=6, min_samples_leaf=10, min_samples_split=2, n_estimators=40 \n",
      "[Parallel(n_jobs=-1)]: Done  28 tasks      | elapsed:  2.2min\n",
      "[CV]  max_depth=5, min_samples_leaf=13, min_samples_split=2, n_estimators=40, score=0.7653187530961645, total=  34.6s\n",
      "[CV] max_depth=6, min_samples_leaf=11, min_samples_split=2, n_estimators=40 \n",
      "[Parallel(n_jobs=-1)]: Done  29 tasks      | elapsed:  2.2min\n",
      "[CV]  max_depth=5, min_samples_leaf=13, min_samples_split=2, n_estimators=40, score=0.7707565226825928, total=  34.1s\n",
      "[CV] max_depth=6, min_samples_leaf=11, min_samples_split=2, n_estimators=40 \n",
      "[Parallel(n_jobs=-1)]: Done  30 tasks      | elapsed:  2.2min\n",
      "[CV]  max_depth=6, min_samples_leaf=9, min_samples_split=2, n_estimators=40, score=0.7690011795202656, total=  39.5s\n",
      "[CV] max_depth=6, min_samples_leaf=11, min_samples_split=2, n_estimators=40 \n",
      "[Parallel(n_jobs=-1)]: Done  31 tasks      | elapsed:  2.3min\n",
      "[CV]  max_depth=6, min_samples_leaf=9, min_samples_split=2, n_estimators=40, score=0.7652747143384924, total=  39.7s\n",
      "[CV] max_depth=6, min_samples_leaf=12, min_samples_split=2, n_estimators=40 \n",
      "[Parallel(n_jobs=-1)]: Done  32 tasks      | elapsed:  2.4min\n",
      "[CV]  max_depth=6, min_samples_leaf=10, min_samples_split=2, n_estimators=40, score=0.7689151545991046, total=  39.3s\n",
      "[CV] max_depth=6, min_samples_leaf=12, min_samples_split=2, n_estimators=40 \n",
      "[Parallel(n_jobs=-1)]: Done  33 tasks      | elapsed:  2.9min\n",
      "[CV]  max_depth=6, min_samples_leaf=9, min_samples_split=2, n_estimators=40, score=0.7706726873315056, total=  39.8s\n",
      "[CV] max_depth=6, min_samples_leaf=12, min_samples_split=2, n_estimators=40 \n",
      "[Parallel(n_jobs=-1)]: Done  34 tasks      | elapsed:  2.9min\n",
      "[CV]  max_depth=6, min_samples_leaf=10, min_samples_split=2, n_estimators=40, score=0.7652938128905544, total=  40.0s\n",
      "[CV] max_depth=6, min_samples_leaf=13, min_samples_split=2, n_estimators=40 \n",
      "[Parallel(n_jobs=-1)]: Done  35 tasks      | elapsed:  2.9min\n",
      "[CV]  max_depth=6, min_samples_leaf=10, min_samples_split=2, n_estimators=40, score=0.7707001600668533, total=  40.0s\n",
      "[CV] max_depth=6, min_samples_leaf=13, min_samples_split=2, n_estimators=40 \n",
      "[Parallel(n_jobs=-1)]: Done  36 tasks      | elapsed:  2.9min\n",
      "[CV]  max_depth=6, min_samples_leaf=11, min_samples_split=2, n_estimators=40, score=0.7689402762743036, total=  39.8s\n",
      "[CV] max_depth=6, min_samples_leaf=13, min_samples_split=2, n_estimators=40 \n",
      "[Parallel(n_jobs=-1)]: Done  37 tasks      | elapsed:  2.9min\n",
      "[CV]  max_depth=6, min_samples_leaf=11, min_samples_split=2, n_estimators=40, score=0.7653896352458058, total=  40.1s\n",
      "[CV] max_depth=7, min_samples_leaf=9, min_samples_split=2, n_estimators=40 \n",
      "[Parallel(n_jobs=-1)]: Done  38 tasks      | elapsed:  2.9min\n",
      "[CV]  max_depth=6, min_samples_leaf=11, min_samples_split=2, n_estimators=40, score=0.7706966274641169, total=  40.9s\n",
      "[CV] max_depth=7, min_samples_leaf=9, min_samples_split=2, n_estimators=40 \n",
      "[Parallel(n_jobs=-1)]: Done  39 tasks      | elapsed:  3.0min\n",
      "[CV]  max_depth=6, min_samples_leaf=12, min_samples_split=2, n_estimators=40, score=0.7689690831287499, total=  40.4s\n",
      "[CV] max_depth=7, min_samples_leaf=9, min_samples_split=2, n_estimators=40 \n",
      "[Parallel(n_jobs=-1)]: Done  40 tasks      | elapsed:  3.1min\n",
      "[CV]  max_depth=6, min_samples_leaf=12, min_samples_split=2, n_estimators=40, score=0.7707006038063875, total=  39.0s\n",
      "[CV] max_depth=7, min_samples_leaf=10, min_samples_split=2, n_estimators=40 \n",
      "[Parallel(n_jobs=-1)]: Done  41 tasks      | elapsed:  3.5min\n",
      "[CV]  max_depth=6, min_samples_leaf=12, min_samples_split=2, n_estimators=40, score=0.7652889478383622, total=  39.8s\n",
      "[CV] max_depth=7, min_samples_leaf=10, min_samples_split=2, n_estimators=40 \n",
      "[Parallel(n_jobs=-1)]: Done  42 tasks      | elapsed:  3.5min\n",
      "[CV]  max_depth=6, min_samples_leaf=13, min_samples_split=2, n_estimators=40, score=0.7689362820196437, total=  39.5s\n",
      "[CV] max_depth=7, min_samples_leaf=10, min_samples_split=2, n_estimators=40 \n",
      "[Parallel(n_jobs=-1)]: Done  43 tasks      | elapsed:  3.6min\n",
      "[CV]  max_depth=6, min_samples_leaf=13, min_samples_split=2, n_estimators=40, score=0.765309709113547, total=  39.4s\n",
      "[CV] max_depth=7, min_samples_leaf=11, min_samples_split=2, n_estimators=40 \n",
      "[Parallel(n_jobs=-1)]: Done  44 tasks      | elapsed:  3.6min\n",
      "[CV]  max_depth=6, min_samples_leaf=13, min_samples_split=2, n_estimators=40, score=0.7706455531719874, total=  39.6s\n",
      "[CV] max_depth=7, min_samples_leaf=11, min_samples_split=2, n_estimators=40 \n",
      "[Parallel(n_jobs=-1)]: Done  45 tasks      | elapsed:  3.6min\n",
      "[CV]  max_depth=7, min_samples_leaf=9, min_samples_split=2, n_estimators=40, score=0.7686747516391497, total=  44.7s\n",
      "[CV] max_depth=7, min_samples_leaf=11, min_samples_split=2, n_estimators=40 \n",
      "[CV]  max_depth=7, min_samples_leaf=9, min_samples_split=2, n_estimators=40, score=0.7653410815504134, total=  44.6s\n",
      "[CV] max_depth=7, min_samples_leaf=12, min_samples_split=2, n_estimators=40 \n",
      "[Parallel(n_jobs=-1)]: Done  47 out of  60 | elapsed:  3.8min remaining:  1.0min\n",
      "[CV]  max_depth=7, min_samples_leaf=9, min_samples_split=2, n_estimators=40, score=0.7705677551152844, total=  43.3s\n",
      "[CV] max_depth=7, min_samples_leaf=12, min_samples_split=2, n_estimators=40 \n",
      "[CV]  max_depth=7, min_samples_leaf=10, min_samples_split=2, n_estimators=40, score=0.7689576492621834, total=  44.8s\n",
      "[CV] max_depth=7, min_samples_leaf=12, min_samples_split=2, n_estimators=40 \n",
      "[Parallel(n_jobs=-1)]: Done  49 out of  60 | elapsed:  4.3min remaining:   58.0s\n",
      "[CV]  max_depth=7, min_samples_leaf=10, min_samples_split=2, n_estimators=40, score=0.7652704962927142, total=  45.2s\n",
      "[CV] max_depth=7, min_samples_leaf=13, min_samples_split=2, n_estimators=40 \n",
      "[CV]  max_depth=7, min_samples_leaf=10, min_samples_split=2, n_estimators=40, score=0.7705244180503497, total=  44.6s\n",
      "[CV] max_depth=7, min_samples_leaf=13, min_samples_split=2, n_estimators=40 \n",
      "[Parallel(n_jobs=-1)]: Done  51 out of  60 | elapsed:  4.3min remaining:   45.8s\n",
      "[CV]  max_depth=7, min_samples_leaf=11, min_samples_split=2, n_estimators=40, score=0.7688704040702539, total=  45.1s\n",
      "[CV] max_depth=7, min_samples_leaf=13, min_samples_split=2, n_estimators=40 \n",
      "[CV]  max_depth=7, min_samples_leaf=11, min_samples_split=2, n_estimators=40, score=0.7653288756365503, total=  45.4s\n",
      "[Parallel(n_jobs=-1)]: Done  53 out of  60 | elapsed:  4.4min remaining:   34.5s\n",
      "[CV]  max_depth=7, min_samples_leaf=11, min_samples_split=2, n_estimators=40, score=0.7706728168624101, total=  45.4s\n",
      "[CV]  max_depth=7, min_samples_leaf=12, min_samples_split=2, n_estimators=40, score=0.7687752973335928, total=  44.6s\n",
      "[Parallel(n_jobs=-1)]: Done  55 out of  60 | elapsed:  4.5min remaining:   24.8s\n",
      "[CV]  max_depth=7, min_samples_leaf=12, min_samples_split=2, n_estimators=40, score=0.7652312276844104, total=  44.7s\n",
      "[CV]  max_depth=7, min_samples_leaf=13, min_samples_split=2, n_estimators=40, score=0.7651430398765955, total=  29.8s\n",
      "[Parallel(n_jobs=-1)]: Done  57 out of  60 | elapsed:  4.8min remaining:   15.3s\n",
      "[CV]  max_depth=7, min_samples_leaf=13, min_samples_split=2, n_estimators=40, score=0.7708315114576498, total=  31.1s\n",
      "[CV]  max_depth=7, min_samples_leaf=12, min_samples_split=2, n_estimators=40, score=0.7707123718814313, total=  33.4s\n",
      "[CV]  max_depth=7, min_samples_leaf=13, min_samples_split=2, n_estimators=40, score=0.768916363327638, total=  33.8s\n",
      "[Parallel(n_jobs=-1)]: Done  60 out of  60 | elapsed:  4.9min finished\n"
     ]
    },
    {
     "data": {
      "text/plain": [
       "GridSearchCV(cv=3, error_score='raise',\n",
       "       estimator=RandomForestClassifier(bootstrap=True, class_weight=None, criterion='gini',\n",
       "            max_depth=None, max_features='auto', max_leaf_nodes=None,\n",
       "            min_impurity_decrease=0.0, min_impurity_split=None,\n",
       "            min_samples_leaf=1, min_samples_split=2,\n",
       "            min_weight_fraction_leaf=0.0, n_estimators=10, n_jobs=1,\n",
       "            oob_score=False, random_state=0, verbose=0, warm_start=False),\n",
       "       fit_params=None, iid=True, n_jobs=-1,\n",
       "       param_grid={'max_depth': [4, 5, 6, 7], 'min_samples_leaf': [9, 10, 11, 12, 13], 'min_samples_split': [2], 'n_estimators': [40]},\n",
       "       pre_dispatch='2*n_jobs', refit=True, return_train_score=True,\n",
       "       scoring='roc_auc', verbose=51)"
      ]
     },
     "execution_count": 27,
     "metadata": {},
     "output_type": "execute_result"
    }
   ],
   "source": [
    "param_dist_dict =  { 'max_depth' :         [4,5,6,7],\n",
    "                     'min_samples_leaf' :  [9,10,11,12,13],\n",
    "                     'min_samples_split' : [2], \n",
    "                     'n_estimators':       [40],\n",
    "                    }\n",
    "\n",
    "forest_reg = RandomForestClassifier(random_state=0,\n",
    "                                    class_weight = None)\n",
    "\n",
    "my_grid_search = GridSearchCV(forest_reg, \n",
    "                                param_dist_dict, \n",
    "                                cv = 3,\n",
    "                                return_train_score = True , \n",
    "                                scoring = 'roc_auc',\n",
    "                                n_jobs = -1, \n",
    "                                refit = True,\n",
    "                                verbose = 51, \n",
    "                                        )\n",
    "\n",
    "my_grid_search.fit(total_df_piped, total_df['TARGET'])"
   ]
  },
  {
   "cell_type": "code",
   "execution_count": null,
   "metadata": {
    "hidden": true
   },
   "outputs": [],
   "source": []
  },
  {
   "cell_type": "code",
   "execution_count": 28,
   "metadata": {
    "collapsed": true,
    "hidden": true
   },
   "outputs": [
    {
     "data": {
      "text/html": [
       "<div>\n",
       "<style scoped>\n",
       "    .dataframe tbody tr th:only-of-type {\n",
       "        vertical-align: middle;\n",
       "    }\n",
       "\n",
       "    .dataframe tbody tr th {\n",
       "        vertical-align: top;\n",
       "    }\n",
       "\n",
       "    .dataframe thead th {\n",
       "        text-align: right;\n",
       "    }\n",
       "</style>\n",
       "<table border=\"1\" class=\"dataframe\">\n",
       "  <thead>\n",
       "    <tr style=\"text-align: right;\">\n",
       "      <th></th>\n",
       "      <th>params</th>\n",
       "      <th>mean_test_score</th>\n",
       "    </tr>\n",
       "  </thead>\n",
       "  <tbody>\n",
       "    <tr>\n",
       "      <th>0</th>\n",
       "      <td>{'max_depth': 4, 'min_samples_leaf': 9, 'min_samples_split': 2, 'n_estimators': 40}</td>\n",
       "      <td>0.767948</td>\n",
       "    </tr>\n",
       "    <tr>\n",
       "      <th>1</th>\n",
       "      <td>{'max_depth': 4, 'min_samples_leaf': 10, 'min_samples_split': 2, 'n_estimators': 40}</td>\n",
       "      <td>0.767949</td>\n",
       "    </tr>\n",
       "    <tr>\n",
       "      <th>2</th>\n",
       "      <td>{'max_depth': 4, 'min_samples_leaf': 11, 'min_samples_split': 2, 'n_estimators': 40}</td>\n",
       "      <td>0.767952</td>\n",
       "    </tr>\n",
       "    <tr>\n",
       "      <th>3</th>\n",
       "      <td>{'max_depth': 4, 'min_samples_leaf': 12, 'min_samples_split': 2, 'n_estimators': 40}</td>\n",
       "      <td>0.767953</td>\n",
       "    </tr>\n",
       "    <tr>\n",
       "      <th>4</th>\n",
       "      <td>{'max_depth': 4, 'min_samples_leaf': 13, 'min_samples_split': 2, 'n_estimators': 40}</td>\n",
       "      <td>0.767952</td>\n",
       "    </tr>\n",
       "    <tr>\n",
       "      <th>5</th>\n",
       "      <td>{'max_depth': 5, 'min_samples_leaf': 9, 'min_samples_split': 2, 'n_estimators': 40}</td>\n",
       "      <td>0.768262</td>\n",
       "    </tr>\n",
       "    <tr>\n",
       "      <th>6</th>\n",
       "      <td>{'max_depth': 5, 'min_samples_leaf': 10, 'min_samples_split': 2, 'n_estimators': 40}</td>\n",
       "      <td>0.768257</td>\n",
       "    </tr>\n",
       "    <tr>\n",
       "      <th>7</th>\n",
       "      <td>{'max_depth': 5, 'min_samples_leaf': 11, 'min_samples_split': 2, 'n_estimators': 40}</td>\n",
       "      <td>0.768257</td>\n",
       "    </tr>\n",
       "    <tr>\n",
       "      <th>8</th>\n",
       "      <td>{'max_depth': 5, 'min_samples_leaf': 12, 'min_samples_split': 2, 'n_estimators': 40}</td>\n",
       "      <td>0.768274</td>\n",
       "    </tr>\n",
       "    <tr>\n",
       "      <th>9</th>\n",
       "      <td>{'max_depth': 5, 'min_samples_leaf': 13, 'min_samples_split': 2, 'n_estimators': 40}</td>\n",
       "      <td>0.768277</td>\n",
       "    </tr>\n",
       "    <tr>\n",
       "      <th>10</th>\n",
       "      <td>{'max_depth': 6, 'min_samples_leaf': 9, 'min_samples_split': 2, 'n_estimators': 40}</td>\n",
       "      <td>0.768316</td>\n",
       "    </tr>\n",
       "    <tr>\n",
       "      <th>11</th>\n",
       "      <td>{'max_depth': 6, 'min_samples_leaf': 10, 'min_samples_split': 2, 'n_estimators': 40}</td>\n",
       "      <td>0.768303</td>\n",
       "    </tr>\n",
       "    <tr>\n",
       "      <th>12</th>\n",
       "      <td>{'max_depth': 6, 'min_samples_leaf': 11, 'min_samples_split': 2, 'n_estimators': 40}</td>\n",
       "      <td>0.768342</td>\n",
       "    </tr>\n",
       "    <tr>\n",
       "      <th>13</th>\n",
       "      <td>{'max_depth': 6, 'min_samples_leaf': 12, 'min_samples_split': 2, 'n_estimators': 40}</td>\n",
       "      <td>0.768320</td>\n",
       "    </tr>\n",
       "    <tr>\n",
       "      <th>14</th>\n",
       "      <td>{'max_depth': 6, 'min_samples_leaf': 13, 'min_samples_split': 2, 'n_estimators': 40}</td>\n",
       "      <td>0.768297</td>\n",
       "    </tr>\n",
       "    <tr>\n",
       "      <th>15</th>\n",
       "      <td>{'max_depth': 7, 'min_samples_leaf': 9, 'min_samples_split': 2, 'n_estimators': 40}</td>\n",
       "      <td>0.768195</td>\n",
       "    </tr>\n",
       "    <tr>\n",
       "      <th>16</th>\n",
       "      <td>{'max_depth': 7, 'min_samples_leaf': 10, 'min_samples_split': 2, 'n_estimators': 40}</td>\n",
       "      <td>0.768251</td>\n",
       "    </tr>\n",
       "    <tr>\n",
       "      <th>17</th>\n",
       "      <td>{'max_depth': 7, 'min_samples_leaf': 11, 'min_samples_split': 2, 'n_estimators': 40}</td>\n",
       "      <td>0.768291</td>\n",
       "    </tr>\n",
       "    <tr>\n",
       "      <th>18</th>\n",
       "      <td>{'max_depth': 7, 'min_samples_leaf': 12, 'min_samples_split': 2, 'n_estimators': 40}</td>\n",
       "      <td>0.768240</td>\n",
       "    </tr>\n",
       "    <tr>\n",
       "      <th>19</th>\n",
       "      <td>{'max_depth': 7, 'min_samples_leaf': 13, 'min_samples_split': 2, 'n_estimators': 40}</td>\n",
       "      <td>0.768297</td>\n",
       "    </tr>\n",
       "  </tbody>\n",
       "</table>\n",
       "</div>"
      ],
      "text/plain": [
       "                                                                                  params  \\\n",
       "0   {'max_depth': 4, 'min_samples_leaf': 9, 'min_samples_split': 2, 'n_estimators': 40}    \n",
       "1   {'max_depth': 4, 'min_samples_leaf': 10, 'min_samples_split': 2, 'n_estimators': 40}   \n",
       "2   {'max_depth': 4, 'min_samples_leaf': 11, 'min_samples_split': 2, 'n_estimators': 40}   \n",
       "3   {'max_depth': 4, 'min_samples_leaf': 12, 'min_samples_split': 2, 'n_estimators': 40}   \n",
       "4   {'max_depth': 4, 'min_samples_leaf': 13, 'min_samples_split': 2, 'n_estimators': 40}   \n",
       "5   {'max_depth': 5, 'min_samples_leaf': 9, 'min_samples_split': 2, 'n_estimators': 40}    \n",
       "6   {'max_depth': 5, 'min_samples_leaf': 10, 'min_samples_split': 2, 'n_estimators': 40}   \n",
       "7   {'max_depth': 5, 'min_samples_leaf': 11, 'min_samples_split': 2, 'n_estimators': 40}   \n",
       "8   {'max_depth': 5, 'min_samples_leaf': 12, 'min_samples_split': 2, 'n_estimators': 40}   \n",
       "9   {'max_depth': 5, 'min_samples_leaf': 13, 'min_samples_split': 2, 'n_estimators': 40}   \n",
       "10  {'max_depth': 6, 'min_samples_leaf': 9, 'min_samples_split': 2, 'n_estimators': 40}    \n",
       "11  {'max_depth': 6, 'min_samples_leaf': 10, 'min_samples_split': 2, 'n_estimators': 40}   \n",
       "12  {'max_depth': 6, 'min_samples_leaf': 11, 'min_samples_split': 2, 'n_estimators': 40}   \n",
       "13  {'max_depth': 6, 'min_samples_leaf': 12, 'min_samples_split': 2, 'n_estimators': 40}   \n",
       "14  {'max_depth': 6, 'min_samples_leaf': 13, 'min_samples_split': 2, 'n_estimators': 40}   \n",
       "15  {'max_depth': 7, 'min_samples_leaf': 9, 'min_samples_split': 2, 'n_estimators': 40}    \n",
       "16  {'max_depth': 7, 'min_samples_leaf': 10, 'min_samples_split': 2, 'n_estimators': 40}   \n",
       "17  {'max_depth': 7, 'min_samples_leaf': 11, 'min_samples_split': 2, 'n_estimators': 40}   \n",
       "18  {'max_depth': 7, 'min_samples_leaf': 12, 'min_samples_split': 2, 'n_estimators': 40}   \n",
       "19  {'max_depth': 7, 'min_samples_leaf': 13, 'min_samples_split': 2, 'n_estimators': 40}   \n",
       "\n",
       "    mean_test_score  \n",
       "0   0.767948         \n",
       "1   0.767949         \n",
       "2   0.767952         \n",
       "3   0.767953         \n",
       "4   0.767952         \n",
       "5   0.768262         \n",
       "6   0.768257         \n",
       "7   0.768257         \n",
       "8   0.768274         \n",
       "9   0.768277         \n",
       "10  0.768316         \n",
       "11  0.768303         \n",
       "12  0.768342         \n",
       "13  0.768320         \n",
       "14  0.768297         \n",
       "15  0.768195         \n",
       "16  0.768251         \n",
       "17  0.768291         \n",
       "18  0.768240         \n",
       "19  0.768297         "
      ]
     },
     "execution_count": 28,
     "metadata": {},
     "output_type": "execute_result"
    }
   ],
   "source": [
    "pd.set_option('display.max_colwidth', -1)\n",
    "pd.DataFrame(my_grid_search.cv_results_)[['params','mean_test_score']]"
   ]
  },
  {
   "cell_type": "code",
   "execution_count": null,
   "metadata": {
    "hidden": true
   },
   "outputs": [],
   "source": []
  },
  {
   "cell_type": "code",
   "execution_count": 29,
   "metadata": {
    "hidden": true
   },
   "outputs": [
    {
     "data": {
      "text/plain": [
       "0.7683421720049418"
      ]
     },
     "execution_count": 29,
     "metadata": {},
     "output_type": "execute_result"
    }
   ],
   "source": [
    "my_grid_search.best_score_"
   ]
  },
  {
   "cell_type": "code",
   "execution_count": null,
   "metadata": {
    "hidden": true
   },
   "outputs": [],
   "source": []
  },
  {
   "cell_type": "code",
   "execution_count": 30,
   "metadata": {
    "hidden": true
   },
   "outputs": [
    {
     "data": {
      "text/plain": [
       "{'max_depth': 6,\n",
       " 'min_samples_leaf': 11,\n",
       " 'min_samples_split': 2,\n",
       " 'n_estimators': 40}"
      ]
     },
     "execution_count": 30,
     "metadata": {},
     "output_type": "execute_result"
    }
   ],
   "source": [
    "RF_optimized_parms = my_grid_search.best_params_\n",
    "RF_optimized_parms"
   ]
  },
  {
   "cell_type": "code",
   "execution_count": null,
   "metadata": {
    "hidden": true
   },
   "outputs": [],
   "source": []
  },
  {
   "cell_type": "code",
   "execution_count": 31,
   "metadata": {
    "hidden": true
   },
   "outputs": [
    {
     "data": {
      "text/plain": [
       "0.7723052463371459"
      ]
     },
     "execution_count": 31,
     "metadata": {},
     "output_type": "execute_result"
    }
   ],
   "source": [
    "train_scores = [x[1] for x in my_grid_search.predict_proba(total_df_piped)]\n",
    "roc_auc_score(total_df['TARGET'], train_scores)"
   ]
  },
  {
   "cell_type": "code",
   "execution_count": null,
   "metadata": {
    "hidden": true
   },
   "outputs": [],
   "source": []
  },
  {
   "cell_type": "code",
   "execution_count": 32,
   "metadata": {
    "hidden": true
   },
   "outputs": [],
   "source": [
    "del my_grid_search"
   ]
  },
  {
   "cell_type": "code",
   "execution_count": null,
   "metadata": {
    "hidden": true
   },
   "outputs": [],
   "source": []
  },
  {
   "cell_type": "markdown",
   "metadata": {
    "heading_collapsed": true
   },
   "source": [
    "### DONE. log reg grid search."
   ]
  },
  {
   "cell_type": "code",
   "execution_count": null,
   "metadata": {
    "hidden": true
   },
   "outputs": [],
   "source": []
  },
  {
   "cell_type": "raw",
   "metadata": {
    "hidden": true
   },
   "source": [
    "Results: \n",
    "\n",
    "input: param_grid = [{ 'C' : [21,22,23,24,25,26,27,28] }]\n",
    "output:\n",
    "{'C': 22}\n",
    "T_score = 0.76631882528102, V_score = 0.7752745675559647\n",
    "\n",
    "input:\n",
    "param_grid = [{ 'C' : [21.2,21.5,21.7,22,22.2,22.5,22.7] }]\n",
    "output:\n",
    "{'C': 22}\n",
    "T_score = 0.76631882528102, V_score = 0.7752745675559647\n",
    "\n",
    "input: \n",
    "param_grid = [{ 'C' : [21.8,21.9,22,22.1] }]\n",
    "output:\n",
    "{'C': 22}\n",
    "T_score = 0.76631882528102, V_score = 0.7752745675559647\n",
    "\n",
    "******************************************************************\n",
    "Switching to training on full set. And some slightly new level 1 results. \n",
    "******************************************************************\n",
    "\n",
    "input: \n",
    "param_grid = [{ 'C' : [21.8,21.9,22,22.1] }]\n",
    "output: \n",
    "{'C': 22.1}\n",
    "best_score = 0.7687337315528854, train_score = 0.7689685724410957\n",
    "\n",
    "input:\n",
    "param_grid = [{ 'C' : [22,23,25,30] }]\n",
    "output: \n",
    "{'C': 23}\n",
    "best_score = 0.7687359741746989, train_score = 0.7689615070006149\n",
    "\n",
    "input:\n",
    "param_grid = [{ 'C' : [22.5,23,23.5,24] }]\n",
    "output:\n",
    "{'C': 23.5}\n",
    "best_score = 0.7687422095719723, train_score = 0.7689692835023063\n",
    "\n",
    "\n",
    " \n",
    "******************************************************************\n",
    "Restarting (Fix leaked level 1 results.  )\n",
    "******************************************************************\n",
    "\n",
    "input: \n",
    "param_grid = [{ 'C' : [15,20,25,30] }]\n",
    "output: \n",
    "{'C': 30}\n",
    "best_score = 0.7689873606423704, train_score = 0.7691956939415567\n",
    "\n",
    "input: \n",
    "param_grid = [{ 'C' : [25,30,40,50,100] }]\n",
    "output: {'C': 100}\n",
    "best_score = 0.7689889876758225, train_score = 0.7692006625352015\n",
    "\n",
    "input:\n",
    "param_grid = [{ 'C' : [100,200,300,400,500,1000] }]\n",
    "output:{'C': 100}\n",
    "best_score = 0.7689889876758225, train_score = 0.7692006625352015\n",
    "\n",
    "input: \n",
    "param_grid = [{ 'C' : [60,70,80,90,100,110,120,130,140,50,160,170,180,190] }]\n",
    "output: \n",
    "{'C': 80}\n",
    "best_score = 0.7689906617338039, train_score = 0.7692014935790852\n",
    "\n",
    "input: \n",
    "param_grid = [{ 'C' : [72,74,76,78,80,82,84,86,88] }]\n",
    "output:{'C': 88} \n",
    "best_score = 0.768991307672436, train_score = 0.769200101381084"
   ]
  },
  {
   "cell_type": "code",
   "execution_count": null,
   "metadata": {
    "hidden": true
   },
   "outputs": [],
   "source": []
  },
  {
   "cell_type": "code",
   "execution_count": 33,
   "metadata": {
    "collapsed": true,
    "hidden": true
   },
   "outputs": [
    {
     "name": "stdout",
     "output_type": "stream",
     "text": [
      "Fitting 3 folds for each of 9 candidates, totalling 27 fits\n",
      "[CV] C=72 ............................................................\n",
      "Memmaping (shape=(307511, 40), dtype=float64) to new file /dev/shm/joblib_memmaping_pool_3195_140474891485256/3195-140473954796152-f9e19e0ef8d47f852076b18d96de02fe.pkl\n",
      "Memmaping (shape=(307511,), dtype=int64) to new file /dev/shm/joblib_memmaping_pool_3195_140474891485256/3195-140473954796152-36f41ebc26c9047822d0779f2962f9e3.pkl\n",
      "Memmaping (shape=(307511,), dtype=int64) to new file /dev/shm/joblib_memmaping_pool_3195_140474891485256/3195-140473954796152-7fee98903a11851f0c36b343c7ef5338.pkl\n",
      "Memmaping (shape=(205007,), dtype=int64) to new file /dev/shm/joblib_memmaping_pool_3195_140474891485256/3195-140473954796152-981b55e712abb5a5a2369212f2856f0a.pkl\n",
      "[CV] C=72 ............................................................\n",
      "Memmaping (shape=(205007,), dtype=int64) to new file /dev/shm/joblib_memmaping_pool_3195_140474891485256/3195-140473954796152-52b45483e9e8ae50702a4dfc49cfc8ef.pkl\n",
      "[CV] C=72 ............................................................\n",
      "Memmaping (shape=(205008,), dtype=int64) to new file /dev/shm/joblib_memmaping_pool_3195_140474891485256/3195-140473954796152-14cff63d81a68491cd383c416c29ffaa.pkl\n",
      "[CV] C=74 ............................................................\n",
      "[CV] C=74 ............................................................\n",
      "[CV] C=74 ............................................................\n",
      "[CV] C=76 ............................................................\n",
      "[CV] C=76 ............................................................\n",
      "[CV] ................... C=74, score=0.7694576691565086, total=  32.4s\n",
      "[CV] C=76 ............................................................\n",
      "[Parallel(n_jobs=-1)]: Done   1 tasks      | elapsed:   33.4s\n",
      "[CV] ................... C=74, score=0.7712783725583264, total=  33.2s\n",
      "[CV] C=78 ............................................................\n",
      "[Parallel(n_jobs=-1)]: Done   2 tasks      | elapsed:   34.6s\n",
      "[CV] ................... C=74, score=0.7662345833007772, total=  34.0s\n",
      "[CV] C=78 ............................................................\n",
      "[Parallel(n_jobs=-1)]: Done   3 tasks      | elapsed:   35.3s\n",
      "[CV] ................... C=72, score=0.7712783289538635, total=  34.7s\n",
      "[CV] C=78 ............................................................\n",
      "[Parallel(n_jobs=-1)]: Done   4 tasks      | elapsed:   35.7s\n",
      "[CV] ................... C=72, score=0.7694587926007473, total=  36.5s\n",
      "[CV] C=80 ............................................................\n",
      "[Parallel(n_jobs=-1)]: Done   5 tasks      | elapsed:   37.1s\n",
      "[CV] ................... C=76, score=0.7694625092005243, total=  37.3s\n",
      "[CV] ................... C=72, score=0.7662321991879462, total=  38.4s\n",
      "[CV] C=80 ............................................................\n",
      "[Parallel(n_jobs=-1)]: Done   6 tasks      | elapsed:   39.2s\n",
      "[Parallel(n_jobs=-1)]: Done   7 tasks      | elapsed:   39.2s\n",
      "[CV] C=80 ............................................................\n",
      "[CV] ................... C=76, score=0.7662302883067634, total=  39.9s\n",
      "[CV] C=82 ............................................................\n",
      "[Parallel(n_jobs=-1)]: Done   8 tasks      | elapsed:   41.9s\n",
      "[CV] ................... C=78, score=0.7694623104175824, total=  33.4s\n",
      "[CV] C=82 ............................................................\n",
      "[Parallel(n_jobs=-1)]: Done   9 tasks      | elapsed:  1.1min\n",
      "[CV] ................... C=78, score=0.7712786213602616, total=  33.5s\n",
      "[CV] C=82 ............................................................\n",
      "[Parallel(n_jobs=-1)]: Done  10 tasks      | elapsed:  1.2min\n",
      "[CV] ................... C=76, score=0.7712775376611104, total=  36.1s\n",
      "[CV] C=84 ............................................................\n",
      "[Parallel(n_jobs=-1)]: Done  11 tasks      | elapsed:  1.2min\n",
      "[CV] ................... C=80, score=0.7694580064462744, total=  34.6s\n",
      "[CV] C=84 ............................................................\n",
      "[Parallel(n_jobs=-1)]: Done  12 tasks      | elapsed:  1.2min\n",
      "[CV] ................... C=78, score=0.7662319862978277, total=  36.8s\n",
      "[CV] C=84 ............................................................\n",
      "[Parallel(n_jobs=-1)]: Done  13 out of  27 | elapsed:  1.2min remaining:  1.3min\n",
      "[CV] ................... C=80, score=0.7662347410446602, total=  33.6s\n",
      "[CV] C=86 ............................................................\n",
      "[Parallel(n_jobs=-1)]: Done  14 out of  27 | elapsed:  1.2min remaining:  1.1min\n",
      "[CV] ................... C=80, score=0.7712792600373946, total=  35.8s\n",
      "[CV] C=86 ............................................................\n",
      "[Parallel(n_jobs=-1)]: Done  15 out of  27 | elapsed:  1.3min remaining:  1.0min\n",
      "[CV] ................... C=82, score=0.7694562994779158, total=  36.5s\n",
      "[CV] C=86 ............................................................\n",
      "[Parallel(n_jobs=-1)]: Done  16 out of  27 | elapsed:  1.3min remaining:   54.0s\n",
      "[CV] ................... C=82, score=0.7712757909176263, total=  36.3s\n",
      "[CV] C=88 ............................................................\n",
      "[Parallel(n_jobs=-1)]: Done  17 out of  27 | elapsed:  1.8min remaining:  1.0min\n",
      "[CV] ................... C=84, score=0.7694579679721566, total=  36.1s\n",
      "[CV] C=88 ............................................................\n",
      "[Parallel(n_jobs=-1)]: Done  18 out of  27 | elapsed:  1.8min remaining:   53.0s\n",
      "[CV] ................... C=86, score=0.7694537550562606, total=  34.3s\n",
      "[CV] C=88 ............................................................\n",
      "[Parallel(n_jobs=-1)]: Done  19 out of  27 | elapsed:  1.8min remaining:   45.2s\n",
      "[CV] ................... C=84, score=0.7712721460975224, total=  36.2s\n",
      "[CV] ................... C=82, score=0.7662367647832551, total=  40.5s\n",
      "[Parallel(n_jobs=-1)]: Done  20 out of  27 | elapsed:  1.8min remaining:   38.0s\n",
      "[Parallel(n_jobs=-1)]: Done  21 out of  27 | elapsed:  1.8min remaining:   31.1s\n",
      "[CV] ................... C=84, score=0.7662313514748844, total=  38.1s\n",
      "[Parallel(n_jobs=-1)]: Done  22 out of  27 | elapsed:  1.8min remaining:   25.0s\n",
      "[CV] ................... C=86, score=0.7712720768433754, total=  32.4s\n",
      "[Parallel(n_jobs=-1)]: Done  23 out of  27 | elapsed:  1.9min remaining:   19.3s\n",
      "[CV] ................... C=86, score=0.7662301767318218, total=  37.8s\n",
      "[Parallel(n_jobs=-1)]: Done  24 out of  27 | elapsed:  1.9min remaining:   14.2s\n",
      "[CV] ................... C=88, score=0.7712752086697985, total=  22.5s\n",
      "[Parallel(n_jobs=-1)]: Done  25 out of  27 | elapsed:  2.2min remaining:   10.4s\n",
      "[CV] ................... C=88, score=0.7662329404559485, total=  24.3s\n",
      "[CV] ................... C=88, score=0.7694657961726524, total=  24.6s\n",
      "[Parallel(n_jobs=-1)]: Done  27 out of  27 | elapsed:  2.2min remaining:    0.0s\n",
      "[Parallel(n_jobs=-1)]: Done  27 out of  27 | elapsed:  2.2min finished\n"
     ]
    },
    {
     "data": {
      "text/plain": [
       "GridSearchCV(cv=3, error_score='raise',\n",
       "       estimator=LogisticRegression(C=1.0, class_weight=None, dual=False, fit_intercept=True,\n",
       "          intercept_scaling=1, max_iter=100, multi_class='ovr', n_jobs=1,\n",
       "          penalty='l2', random_state=0, solver='liblinear', tol=0.0001,\n",
       "          verbose=0, warm_start=False),\n",
       "       fit_params=None, iid=True, n_jobs=-1,\n",
       "       param_grid=[{'C': [72, 74, 76, 78, 80, 82, 84, 86, 88]}],\n",
       "       pre_dispatch='2*n_jobs', refit=True, return_train_score=True,\n",
       "       scoring='roc_auc', verbose=51)"
      ]
     },
     "execution_count": 33,
     "metadata": {},
     "output_type": "execute_result"
    }
   ],
   "source": [
    "param_grid = [{ 'C' : [72,74,76,78,80,82,84,86,88] }]\n",
    "\n",
    "my_LgRg = LogisticRegression(penalty= 'l2', \n",
    "                            random_state = 0, \n",
    "                            class_weight = None) \n",
    "\n",
    "my_LgRg_grid_search = GridSearchCV(my_LgRg, \n",
    "                           param_grid, \n",
    "                           cv = 3, # for integer inputs, Stratified folding is default. \n",
    "                           return_train_score = True , \n",
    "                           scoring = 'roc_auc',\n",
    "                           n_jobs = -1, \n",
    "                           refit = True,\n",
    "                           verbose = 51,\n",
    "                            )\n",
    "\n",
    "my_LgRg_grid_search.fit(total_df_piped, \n",
    "                        total_df['TARGET'])"
   ]
  },
  {
   "cell_type": "code",
   "execution_count": null,
   "metadata": {
    "hidden": true
   },
   "outputs": [],
   "source": []
  },
  {
   "cell_type": "code",
   "execution_count": 34,
   "metadata": {
    "hidden": true
   },
   "outputs": [
    {
     "data": {
      "text/html": [
       "<div>\n",
       "<style scoped>\n",
       "    .dataframe tbody tr th:only-of-type {\n",
       "        vertical-align: middle;\n",
       "    }\n",
       "\n",
       "    .dataframe tbody tr th {\n",
       "        vertical-align: top;\n",
       "    }\n",
       "\n",
       "    .dataframe thead th {\n",
       "        text-align: right;\n",
       "    }\n",
       "</style>\n",
       "<table border=\"1\" class=\"dataframe\">\n",
       "  <thead>\n",
       "    <tr style=\"text-align: right;\">\n",
       "      <th></th>\n",
       "      <th>params</th>\n",
       "      <th>mean_test_score</th>\n",
       "    </tr>\n",
       "  </thead>\n",
       "  <tbody>\n",
       "    <tr>\n",
       "      <th>0</th>\n",
       "      <td>{'C': 72}</td>\n",
       "      <td>0.768990</td>\n",
       "    </tr>\n",
       "    <tr>\n",
       "      <th>1</th>\n",
       "      <td>{'C': 74}</td>\n",
       "      <td>0.768990</td>\n",
       "    </tr>\n",
       "    <tr>\n",
       "      <th>2</th>\n",
       "      <td>{'C': 76}</td>\n",
       "      <td>0.768990</td>\n",
       "    </tr>\n",
       "    <tr>\n",
       "      <th>3</th>\n",
       "      <td>{'C': 78}</td>\n",
       "      <td>0.768991</td>\n",
       "    </tr>\n",
       "    <tr>\n",
       "      <th>4</th>\n",
       "      <td>{'C': 80}</td>\n",
       "      <td>0.768991</td>\n",
       "    </tr>\n",
       "    <tr>\n",
       "      <th>5</th>\n",
       "      <td>{'C': 82}</td>\n",
       "      <td>0.768990</td>\n",
       "    </tr>\n",
       "    <tr>\n",
       "      <th>6</th>\n",
       "      <td>{'C': 84}</td>\n",
       "      <td>0.768987</td>\n",
       "    </tr>\n",
       "    <tr>\n",
       "      <th>7</th>\n",
       "      <td>{'C': 86}</td>\n",
       "      <td>0.768985</td>\n",
       "    </tr>\n",
       "    <tr>\n",
       "      <th>8</th>\n",
       "      <td>{'C': 88}</td>\n",
       "      <td>0.768991</td>\n",
       "    </tr>\n",
       "  </tbody>\n",
       "</table>\n",
       "</div>"
      ],
      "text/plain": [
       "      params  mean_test_score\n",
       "0  {'C': 72}  0.768990       \n",
       "1  {'C': 74}  0.768990       \n",
       "2  {'C': 76}  0.768990       \n",
       "3  {'C': 78}  0.768991       \n",
       "4  {'C': 80}  0.768991       \n",
       "5  {'C': 82}  0.768990       \n",
       "6  {'C': 84}  0.768987       \n",
       "7  {'C': 86}  0.768985       \n",
       "8  {'C': 88}  0.768991       "
      ]
     },
     "execution_count": 34,
     "metadata": {},
     "output_type": "execute_result"
    }
   ],
   "source": [
    "pd.set_option('display.max_colwidth', -1)\n",
    "pd.DataFrame(my_LgRg_grid_search.cv_results_)[['params','mean_test_score']]"
   ]
  },
  {
   "cell_type": "code",
   "execution_count": null,
   "metadata": {
    "hidden": true
   },
   "outputs": [],
   "source": []
  },
  {
   "cell_type": "code",
   "execution_count": 35,
   "metadata": {
    "hidden": true
   },
   "outputs": [
    {
     "data": {
      "text/plain": [
       "0.768991307672436"
      ]
     },
     "execution_count": 35,
     "metadata": {},
     "output_type": "execute_result"
    }
   ],
   "source": [
    "my_LgRg_grid_search.best_score_"
   ]
  },
  {
   "cell_type": "code",
   "execution_count": null,
   "metadata": {
    "hidden": true
   },
   "outputs": [],
   "source": []
  },
  {
   "cell_type": "code",
   "execution_count": 36,
   "metadata": {
    "hidden": true
   },
   "outputs": [
    {
     "data": {
      "text/plain": [
       "{'C': 88}"
      ]
     },
     "execution_count": 36,
     "metadata": {},
     "output_type": "execute_result"
    }
   ],
   "source": [
    "LgRg_optimized_parms = my_LgRg_grid_search.best_params_\n",
    "LgRg_optimized_parms"
   ]
  },
  {
   "cell_type": "code",
   "execution_count": null,
   "metadata": {
    "hidden": true
   },
   "outputs": [],
   "source": []
  },
  {
   "cell_type": "code",
   "execution_count": 37,
   "metadata": {
    "hidden": true
   },
   "outputs": [
    {
     "data": {
      "text/plain": [
       "0.769200101381084"
      ]
     },
     "execution_count": 37,
     "metadata": {},
     "output_type": "execute_result"
    }
   ],
   "source": [
    "train_scores = [x[1] for x in my_LgRg_grid_search.predict_proba(total_df_piped)]\n",
    "roc_auc_score(total_df['TARGET'], train_scores)"
   ]
  },
  {
   "cell_type": "code",
   "execution_count": null,
   "metadata": {
    "hidden": true
   },
   "outputs": [],
   "source": []
  },
  {
   "cell_type": "code",
   "execution_count": 38,
   "metadata": {
    "hidden": true
   },
   "outputs": [],
   "source": [
    "del my_LgRg_grid_search"
   ]
  },
  {
   "cell_type": "code",
   "execution_count": null,
   "metadata": {
    "hidden": true
   },
   "outputs": [],
   "source": []
  },
  {
   "cell_type": "markdown",
   "metadata": {
    "heading_collapsed": true
   },
   "source": [
    "### DONE. MLP Classifier."
   ]
  },
  {
   "cell_type": "code",
   "execution_count": null,
   "metadata": {
    "hidden": true
   },
   "outputs": [],
   "source": []
  },
  {
   "cell_type": "raw",
   "metadata": {
    "hidden": true
   },
   "source": [
    "{'alpha': 0.13, 'hidden_layer_sizes': (70,)}\n",
    "'\n",
    "\n",
    "Results:\n",
    "\n",
    "input:\n",
    "param_dist_dict =  { 'alpha' :         [.001,.01,.1],\n",
    "                    'hidden_layer_sizes' : [(100, ),(110, ),(120, )],\n",
    "                    }\n",
    "                   \n",
    "output: {'alpha': 0.01, 'hidden_layer_sizes': (100,)}                   \n",
    "T_score = 0.767409457872488, V_score =  0.7749587075199571     \n",
    "\n",
    "input:\n",
    "param_dist_dict =  { 'alpha' :         [.002,.005,.007,.01,.02,.05,.07,.1],\n",
    "                    'hidden_layer_sizes' : [(50, ),(70, ),(80, ),(100, )],\n",
    "                    }\n",
    "output:\n",
    "{'alpha': 0.1, 'hidden_layer_sizes': (70,)}\n",
    "T_score =0.7661859533460901, V_score = 0.7748665787312043\n",
    "\n",
    "input:\n",
    "param_dist_dict =  { 'alpha' :         [.08,.1,.2,1],\n",
    "                    'hidden_layer_sizes' : [(50, ),(55, ),(70, ),(75, ),(80, )],\n",
    "                    }\n",
    "                    \n",
    "output:                    \n",
    "{'alpha': 0.1, 'hidden_layer_sizes': (70,)}\n",
    "T_score = 0.7661859533460901, V_score = 0.7748665787312043\n",
    "\n",
    "input:\n",
    "param_dist_dict =  { 'alpha' :         [.09,.1,.13,.17],\n",
    "                    'hidden_layer_sizes' : [(55, ),(60, ),(70, ),(73, )],\n",
    "                    }\n",
    "output:    \n",
    "{'alpha': 0.13, 'hidden_layer_sizes': (70,)}                 \n",
    "T_score = 0.765805255095316,  V_score = 0.7740633407933621\n",
    "\n",
    "input:\n",
    "param_dist_dict =  { 'alpha' :         [.11,.12,.13,.15],\n",
    "                    'hidden_layer_sizes' : [(62, ),(65, ),(67, ),(70, ),(72, )],\n",
    "                    }\n",
    "output:\n",
    "{'alpha': 0.13, 'hidden_layer_sizes': (70,)}\n",
    "T_score = 0.765805255095316, V_score = 0.7740633407933621\n",
    "\n",
    "input:\n",
    "param_dist_dict =  { 'alpha' :         [.12,.13,.14],\n",
    "                    'hidden_layer_sizes' : [(68, ),(69, ),(70, ),(71, )],\n",
    "                    }\n",
    "output: \n",
    "{'alpha': 0.13, 'hidden_layer_sizes': (70,)}\n",
    "T_score=0.765805255095316, V_score = 0.7740633407933621\n",
    "\n",
    "******************************************************************\n",
    "Switching to training on full set. And some slightly new level 1 results. \n",
    "******************************************************************\n",
    "\n",
    "\n",
    " \n",
    "******************************************************************\n",
    "Restarting (Fix leaked level 1 results.  )\n",
    "******************************************************************\n",
    "\n",
    "input:\n",
    "param_dist_dict =  { 'alpha' :         [.05,.1,.15,.2],\n",
    "                    'hidden_layer_sizes' : [(50, ),(60, ),(70, ),(80, )],\n",
    "                    }\n",
    "output: \n",
    "{'alpha': 0.05, 'hidden_layer_sizes': (70,)}\n",
    "best_score = 0.7688137480208642, train_score = 0.76932884834681\n",
    "\n",
    "input:\n",
    "param_dist_dict =  { 'alpha' :         [.07,.1,.13],\n",
    "                    'hidden_layer_sizes' : [(65, ),(70, ),(75, )],\n",
    "                    }\n",
    "output:                     \n",
    "{'alpha': 0.13, 'hidden_layer_sizes': (70,)}\n",
    "best_score = 0.7687719119930789, train_score = 0.7689363690631118\n",
    "\n",
    "input: \n",
    "param_dist_dict =  { 'alpha' :         [.11,.13,.15],\n",
    "                    'hidden_layer_sizes' : [(67, ),(70, ),(73, )],\n",
    "                    }\n",
    "                    \n",
    "output: \n",
    "{'alpha': 0.15, 'hidden_layer_sizes': (67,)}\n",
    "best_score = 0.7689326925827549, train_score = 0.7689057213274595"
   ]
  },
  {
   "cell_type": "code",
   "execution_count": null,
   "metadata": {
    "hidden": true
   },
   "outputs": [],
   "source": []
  },
  {
   "cell_type": "code",
   "execution_count": 39,
   "metadata": {
    "hidden": true
   },
   "outputs": [],
   "source": [
    "param_dist_dict =  { 'alpha' :         [.11,.13,.15],\n",
    "                    'hidden_layer_sizes' : [(67, ),(70, ),(73, )],\n",
    "                    }"
   ]
  },
  {
   "cell_type": "code",
   "execution_count": null,
   "metadata": {
    "hidden": true
   },
   "outputs": [],
   "source": []
  },
  {
   "cell_type": "code",
   "execution_count": 40,
   "metadata": {
    "collapsed": true,
    "hidden": true
   },
   "outputs": [
    {
     "name": "stdout",
     "output_type": "stream",
     "text": [
      "Fitting 3 folds for each of 9 candidates, totalling 27 fits\n",
      "[CV] alpha=0.11, hidden_layer_sizes=(67,) ............................\n",
      "Memmaping (shape=(307511, 40), dtype=float64) to new file /dev/shm/joblib_memmaping_pool_3195_140473954782960/3195-140473954908144-f9e19e0ef8d47f852076b18d96de02fe.pkl\n",
      "Memmaping (shape=(307511,), dtype=int64) to new file /dev/shm/joblib_memmaping_pool_3195_140473954782960/3195-140473954908144-36f41ebc26c9047822d0779f2962f9e3.pkl\n",
      "Memmaping (shape=(307511,), dtype=int64) to new file /dev/shm/joblib_memmaping_pool_3195_140473954782960/3195-140473954908144-7fee98903a11851f0c36b343c7ef5338.pkl\n",
      "Memmaping (shape=(205007,), dtype=int64) to new file /dev/shm/joblib_memmaping_pool_3195_140473954782960/3195-140473954908144-981b55e712abb5a5a2369212f2856f0a.pkl\n",
      "[CV] alpha=0.11, hidden_layer_sizes=(67,) ............................\n",
      "Memmaping (shape=(205007,), dtype=int64) to new file /dev/shm/joblib_memmaping_pool_3195_140473954782960/3195-140473954908144-52b45483e9e8ae50702a4dfc49cfc8ef.pkl\n",
      "Memmaping (shape=(205008,), dtype=int64) to new file /dev/shm/joblib_memmaping_pool_3195_140473954782960/3195-140473954908144-14cff63d81a68491cd383c416c29ffaa.pkl\n",
      "[CV] alpha=0.11, hidden_layer_sizes=(67,) ............................\n",
      "[CV] alpha=0.11, hidden_layer_sizes=(70,) ............................\n",
      "[CV] alpha=0.11, hidden_layer_sizes=(70,) ............................\n",
      "[CV] alpha=0.11, hidden_layer_sizes=(70,) ............................\n",
      "[CV] alpha=0.11, hidden_layer_sizes=(73,) ............................\n",
      "[CV] alpha=0.11, hidden_layer_sizes=(73,) ............................\n",
      "[CV]  alpha=0.11, hidden_layer_sizes=(67,), score=0.7693738648331784, total= 1.2min\n",
      "[CV] alpha=0.11, hidden_layer_sizes=(73,) ............................\n",
      "[Parallel(n_jobs=-1)]: Done   1 tasks      | elapsed:  1.3min\n",
      "[CV]  alpha=0.11, hidden_layer_sizes=(70,), score=0.7693823137494411, total= 1.4min\n",
      "[CV] alpha=0.13, hidden_layer_sizes=(67,) ............................\n",
      "[Parallel(n_jobs=-1)]: Done   2 tasks      | elapsed:  1.4min\n",
      "[CV]  alpha=0.11, hidden_layer_sizes=(67,), score=0.7712953924061803, total= 1.4min\n",
      "[CV] alpha=0.13, hidden_layer_sizes=(67,) ............................\n",
      "[Parallel(n_jobs=-1)]: Done   3 tasks      | elapsed:  1.5min\n",
      "[CV]  alpha=0.11, hidden_layer_sizes=(73,), score=0.7654613317642733, total= 1.4min\n",
      "[CV] alpha=0.13, hidden_layer_sizes=(67,) ............................\n",
      "[Parallel(n_jobs=-1)]: Done   4 tasks      | elapsed:  1.5min\n",
      "[CV]  alpha=0.11, hidden_layer_sizes=(70,), score=0.7707532542716022, total= 1.5min\n",
      "[CV] alpha=0.13, hidden_layer_sizes=(70,) ............................\n",
      "[Parallel(n_jobs=-1)]: Done   5 tasks      | elapsed:  1.5min\n",
      "[CV]  alpha=0.11, hidden_layer_sizes=(70,), score=0.7661764912303539, total= 1.5min\n",
      "[CV] alpha=0.13, hidden_layer_sizes=(70,) ............................\n",
      "[Parallel(n_jobs=-1)]: Done   6 tasks      | elapsed:  1.6min\n",
      "[CV]  alpha=0.11, hidden_layer_sizes=(73,), score=0.7667855634465615, total= 1.9min\n",
      "[CV] alpha=0.13, hidden_layer_sizes=(70,) ............................\n",
      "[Parallel(n_jobs=-1)]: Done   7 tasks      | elapsed:  2.0min\n",
      "[CV]  alpha=0.11, hidden_layer_sizes=(67,), score=0.7659324434889754, total= 2.3min\n",
      "[CV] alpha=0.13, hidden_layer_sizes=(73,) ............................\n",
      "[Parallel(n_jobs=-1)]: Done   8 tasks      | elapsed:  2.3min\n",
      "[CV]  alpha=0.11, hidden_layer_sizes=(73,), score=0.769907958673742, total= 1.4min\n",
      "[CV] alpha=0.13, hidden_layer_sizes=(73,) ............................\n",
      "[Parallel(n_jobs=-1)]: Done   9 tasks      | elapsed:  2.7min\n",
      "[CV]  alpha=0.13, hidden_layer_sizes=(67,), score=0.7692961855893974, total= 1.3min\n",
      "[CV] alpha=0.13, hidden_layer_sizes=(73,) ............................\n",
      "[Parallel(n_jobs=-1)]: Done  10 tasks      | elapsed:  2.8min\n",
      "[CV]  alpha=0.13, hidden_layer_sizes=(67,), score=0.7661608848457151, total= 1.3min\n",
      "[Parallel(n_jobs=-1)]: Done  11 tasks      | elapsed:  2.8min\n",
      "[CV] alpha=0.15, hidden_layer_sizes=(67,) ............................\n",
      "[CV]  alpha=0.13, hidden_layer_sizes=(70,), score=0.7694041632009234, total= 1.4min\n",
      "[CV] alpha=0.15, hidden_layer_sizes=(67,) ............................\n",
      "[Parallel(n_jobs=-1)]: Done  12 tasks      | elapsed:  2.9min\n",
      "[CV]  alpha=0.13, hidden_layer_sizes=(67,), score=0.7711316025012033, total= 1.5min\n",
      "[CV] alpha=0.15, hidden_layer_sizes=(67,) ............................\n",
      "[Parallel(n_jobs=-1)]: Done  13 out of  27 | elapsed:  3.0min remaining:  3.3min\n",
      "[CV]  alpha=0.13, hidden_layer_sizes=(70,), score=0.7661851761212056, total= 1.5min\n",
      "[CV] alpha=0.15, hidden_layer_sizes=(70,) ............................\n",
      "[Parallel(n_jobs=-1)]: Done  14 out of  27 | elapsed:  3.1min remaining:  2.9min\n",
      "[CV]  alpha=0.13, hidden_layer_sizes=(70,), score=0.7707264157246928, total= 1.6min\n",
      "[CV] alpha=0.15, hidden_layer_sizes=(70,) ............................\n",
      "[Parallel(n_jobs=-1)]: Done  15 out of  27 | elapsed:  3.6min remaining:  2.8min\n",
      "[CV]  alpha=0.15, hidden_layer_sizes=(67,), score=0.7693193829174725, total= 1.2min\n",
      "[CV] alpha=0.15, hidden_layer_sizes=(70,) ............................\n",
      "[Parallel(n_jobs=-1)]: Done  16 out of  27 | elapsed:  4.1min remaining:  2.8min\n",
      "[CV]  alpha=0.13, hidden_layer_sizes=(73,), score=0.7655821481888998, total= 1.3min\n",
      "[Parallel(n_jobs=-1)]: Done  17 out of  27 | elapsed:  4.1min remaining:  2.4min\n",
      "[CV] alpha=0.15, hidden_layer_sizes=(73,) ............................\n",
      "[CV]  alpha=0.15, hidden_layer_sizes=(67,), score=0.7662319965575926, total= 1.2min\n",
      "[CV] alpha=0.15, hidden_layer_sizes=(73,) ............................\n",
      "[Parallel(n_jobs=-1)]: Done  18 out of  27 | elapsed:  4.2min remaining:  2.1min\n",
      "[CV]  alpha=0.13, hidden_layer_sizes=(73,), score=0.7667482692017349, total= 1.8min\n",
      "[Parallel(n_jobs=-1)]: Done  19 out of  27 | elapsed:  4.2min remaining:  1.8min\n",
      "[CV] alpha=0.15, hidden_layer_sizes=(73,) ............................\n",
      "[CV]  alpha=0.13, hidden_layer_sizes=(73,), score=0.7697917399552952, total= 1.4min\n",
      "[Parallel(n_jobs=-1)]: Done  20 out of  27 | elapsed:  4.2min remaining:  1.5min\n",
      "[CV]  alpha=0.15, hidden_layer_sizes=(70,), score=0.7693693851633991, total= 1.3min\n",
      "[Parallel(n_jobs=-1)]: Done  21 out of  27 | elapsed:  4.5min remaining:  1.3min\n",
      "[CV]  alpha=0.15, hidden_layer_sizes=(67,), score=0.7712467208482043, total= 1.4min\n",
      "[Parallel(n_jobs=-1)]: Done  22 out of  27 | elapsed:  4.5min remaining:  1.0min\n",
      "[CV]  alpha=0.15, hidden_layer_sizes=(70,), score=0.766226360099339, total= 1.1min\n",
      "[Parallel(n_jobs=-1)]: Done  23 out of  27 | elapsed:  4.6min remaining:   48.4s\n",
      "[CV]  alpha=0.15, hidden_layer_sizes=(70,), score=0.7702771999830199, total=  48.1s\n",
      "[Parallel(n_jobs=-1)]: Done  24 out of  27 | elapsed:  4.9min remaining:   36.6s\n",
      "[CV]  alpha=0.15, hidden_layer_sizes=(73,), score=0.7656647033858731, total=  47.3s\n",
      "[Parallel(n_jobs=-1)]: Done  25 out of  27 | elapsed:  5.0min remaining:   23.9s\n",
      "[CV]  alpha=0.15, hidden_layer_sizes=(73,), score=0.7698486989261888, total=  48.4s\n",
      "[CV]  alpha=0.15, hidden_layer_sizes=(73,), score=0.7668545770365497, total=  55.5s\n",
      "[Parallel(n_jobs=-1)]: Done  27 out of  27 | elapsed:  5.0min remaining:    0.0s\n",
      "[Parallel(n_jobs=-1)]: Done  27 out of  27 | elapsed:  5.0min finished\n"
     ]
    },
    {
     "data": {
      "text/plain": [
       "GridSearchCV(cv=3, error_score='raise',\n",
       "       estimator=MLPClassifier(activation='relu', alpha=0.0001, batch_size='auto', beta_1=0.9,\n",
       "       beta_2=0.999, early_stopping=False, epsilon=1e-08,\n",
       "       hidden_layer_sizes=(100,), learning_rate='constant',\n",
       "       learning_rate_init=0.001, max_iter=200, momentum=0.9,\n",
       "       nesterovs_momentum=True, power_t=0.5, random_state=0, shuffle=True,\n",
       "       solver='adam', tol=0.0001, validation_fraction=0.1, verbose=False,\n",
       "       warm_start=False),\n",
       "       fit_params=None, iid=True, n_jobs=-1,\n",
       "       param_grid={'alpha': [0.11, 0.13, 0.15], 'hidden_layer_sizes': [(67,), (70,), (73,)]},\n",
       "       pre_dispatch='2*n_jobs', refit=True, return_train_score=True,\n",
       "       scoring='roc_auc', verbose=51)"
      ]
     },
     "execution_count": 40,
     "metadata": {},
     "output_type": "execute_result"
    }
   ],
   "source": [
    "my_MLP = MLPClassifier(random_state=0, \n",
    "                       tol=0.0001, \n",
    "                     #  verbose=51, \n",
    "                       warm_start=False, \n",
    "                       momentum=0.9)\n",
    "\n",
    "\n",
    "my_grid_search = GridSearchCV(my_MLP, \n",
    "                                param_dist_dict, \n",
    "                                cv = 3,\n",
    "                                return_train_score = True , \n",
    "                                scoring = 'roc_auc',\n",
    "                                n_jobs = -1, \n",
    "                                refit = True,\n",
    "                                verbose = 51, \n",
    "                                        )\n",
    "\n",
    "my_grid_search.fit(total_df_piped, total_df['TARGET'])"
   ]
  },
  {
   "cell_type": "code",
   "execution_count": null,
   "metadata": {
    "hidden": true
   },
   "outputs": [],
   "source": []
  },
  {
   "cell_type": "code",
   "execution_count": 41,
   "metadata": {
    "hidden": true
   },
   "outputs": [
    {
     "data": {
      "text/html": [
       "<div>\n",
       "<style scoped>\n",
       "    .dataframe tbody tr th:only-of-type {\n",
       "        vertical-align: middle;\n",
       "    }\n",
       "\n",
       "    .dataframe tbody tr th {\n",
       "        vertical-align: top;\n",
       "    }\n",
       "\n",
       "    .dataframe thead th {\n",
       "        text-align: right;\n",
       "    }\n",
       "</style>\n",
       "<table border=\"1\" class=\"dataframe\">\n",
       "  <thead>\n",
       "    <tr style=\"text-align: right;\">\n",
       "      <th></th>\n",
       "      <th>params</th>\n",
       "      <th>mean_test_score</th>\n",
       "    </tr>\n",
       "  </thead>\n",
       "  <tbody>\n",
       "    <tr>\n",
       "      <th>0</th>\n",
       "      <td>{'alpha': 0.11, 'hidden_layer_sizes': (67,)}</td>\n",
       "      <td>0.768867</td>\n",
       "    </tr>\n",
       "    <tr>\n",
       "      <th>1</th>\n",
       "      <td>{'alpha': 0.11, 'hidden_layer_sizes': (70,)}</td>\n",
       "      <td>0.768771</td>\n",
       "    </tr>\n",
       "    <tr>\n",
       "      <th>2</th>\n",
       "      <td>{'alpha': 0.11, 'hidden_layer_sizes': (73,)}</td>\n",
       "      <td>0.767385</td>\n",
       "    </tr>\n",
       "    <tr>\n",
       "      <th>3</th>\n",
       "      <td>{'alpha': 0.13, 'hidden_layer_sizes': (67,)}</td>\n",
       "      <td>0.768863</td>\n",
       "    </tr>\n",
       "    <tr>\n",
       "      <th>4</th>\n",
       "      <td>{'alpha': 0.13, 'hidden_layer_sizes': (70,)}</td>\n",
       "      <td>0.768772</td>\n",
       "    </tr>\n",
       "    <tr>\n",
       "      <th>5</th>\n",
       "      <td>{'alpha': 0.13, 'hidden_layer_sizes': (73,)}</td>\n",
       "      <td>0.767374</td>\n",
       "    </tr>\n",
       "    <tr>\n",
       "      <th>6</th>\n",
       "      <td>{'alpha': 0.15, 'hidden_layer_sizes': (67,)}</td>\n",
       "      <td>0.768933</td>\n",
       "    </tr>\n",
       "    <tr>\n",
       "      <th>7</th>\n",
       "      <td>{'alpha': 0.15, 'hidden_layer_sizes': (70,)}</td>\n",
       "      <td>0.768624</td>\n",
       "    </tr>\n",
       "    <tr>\n",
       "      <th>8</th>\n",
       "      <td>{'alpha': 0.15, 'hidden_layer_sizes': (73,)}</td>\n",
       "      <td>0.767456</td>\n",
       "    </tr>\n",
       "  </tbody>\n",
       "</table>\n",
       "</div>"
      ],
      "text/plain": [
       "                                         params  mean_test_score\n",
       "0  {'alpha': 0.11, 'hidden_layer_sizes': (67,)}  0.768867       \n",
       "1  {'alpha': 0.11, 'hidden_layer_sizes': (70,)}  0.768771       \n",
       "2  {'alpha': 0.11, 'hidden_layer_sizes': (73,)}  0.767385       \n",
       "3  {'alpha': 0.13, 'hidden_layer_sizes': (67,)}  0.768863       \n",
       "4  {'alpha': 0.13, 'hidden_layer_sizes': (70,)}  0.768772       \n",
       "5  {'alpha': 0.13, 'hidden_layer_sizes': (73,)}  0.767374       \n",
       "6  {'alpha': 0.15, 'hidden_layer_sizes': (67,)}  0.768933       \n",
       "7  {'alpha': 0.15, 'hidden_layer_sizes': (70,)}  0.768624       \n",
       "8  {'alpha': 0.15, 'hidden_layer_sizes': (73,)}  0.767456       "
      ]
     },
     "execution_count": 41,
     "metadata": {},
     "output_type": "execute_result"
    }
   ],
   "source": [
    "pd.set_option('display.max_colwidth', -1)\n",
    "pd.DataFrame(my_grid_search.cv_results_)[['params','mean_test_score']]"
   ]
  },
  {
   "cell_type": "code",
   "execution_count": null,
   "metadata": {
    "hidden": true
   },
   "outputs": [],
   "source": []
  },
  {
   "cell_type": "code",
   "execution_count": 42,
   "metadata": {
    "hidden": true
   },
   "outputs": [
    {
     "data": {
      "text/plain": [
       "0.7689326925827549"
      ]
     },
     "execution_count": 42,
     "metadata": {},
     "output_type": "execute_result"
    }
   ],
   "source": [
    "my_grid_search.best_score_"
   ]
  },
  {
   "cell_type": "code",
   "execution_count": null,
   "metadata": {
    "hidden": true
   },
   "outputs": [],
   "source": []
  },
  {
   "cell_type": "code",
   "execution_count": 43,
   "metadata": {
    "hidden": true
   },
   "outputs": [
    {
     "data": {
      "text/plain": [
       "{'alpha': 0.15, 'hidden_layer_sizes': (67,)}"
      ]
     },
     "execution_count": 43,
     "metadata": {},
     "output_type": "execute_result"
    }
   ],
   "source": [
    "my_grid_search_optimized_parms = my_grid_search.best_params_\n",
    "my_grid_search_optimized_parms"
   ]
  },
  {
   "cell_type": "code",
   "execution_count": null,
   "metadata": {
    "hidden": true
   },
   "outputs": [],
   "source": []
  },
  {
   "cell_type": "code",
   "execution_count": 44,
   "metadata": {
    "hidden": true
   },
   "outputs": [
    {
     "data": {
      "text/plain": [
       "0.7689057213274595"
      ]
     },
     "execution_count": 44,
     "metadata": {},
     "output_type": "execute_result"
    }
   ],
   "source": [
    "train_scores = [x[1] for x in my_grid_search.predict_proba(total_df_piped)]\n",
    "roc_auc_score(total_df['TARGET'], train_scores)"
   ]
  },
  {
   "cell_type": "code",
   "execution_count": null,
   "metadata": {
    "hidden": true
   },
   "outputs": [],
   "source": []
  },
  {
   "cell_type": "code",
   "execution_count": 45,
   "metadata": {
    "hidden": true
   },
   "outputs": [],
   "source": [
    "del my_grid_search"
   ]
  },
  {
   "cell_type": "code",
   "execution_count": null,
   "metadata": {
    "hidden": true
   },
   "outputs": [],
   "source": []
  },
  {
   "cell_type": "markdown",
   "metadata": {},
   "source": [
    "# models with all features"
   ]
  },
  {
   "cell_type": "code",
   "execution_count": null,
   "metadata": {},
   "outputs": [],
   "source": []
  },
  {
   "cell_type": "code",
   "execution_count": 46,
   "metadata": {
    "scrolled": true
   },
   "outputs": [
    {
     "name": "stdout",
     "output_type": "stream",
     "text": [
      "Total original feat len is 90. Sum of feats is 90.\n",
      "Final array is length 442. final feature list is length 442.\n"
     ]
    }
   ],
   "source": [
    "total_df_piped, final_feature_list, total_pipeline, trans_list = master_pipeline(df_in = total_df,\n",
    "                                                                                 int_cutoff=20, \n",
    "                                                                                 poly_deg=4, \n",
    "                                                                                 feats_with_interaction=[]\n",
    "                                                                                 )"
   ]
  },
  {
   "cell_type": "code",
   "execution_count": null,
   "metadata": {},
   "outputs": [],
   "source": []
  },
  {
   "cell_type": "markdown",
   "metadata": {
    "heading_collapsed": true
   },
   "source": [
    "### DONE random forest grid search"
   ]
  },
  {
   "cell_type": "code",
   "execution_count": null,
   "metadata": {
    "hidden": true
   },
   "outputs": [],
   "source": []
  },
  {
   "cell_type": "raw",
   "metadata": {
    "hidden": true
   },
   "source": [
    "Results:\n",
    "\n",
    "input: \n",
    "param_dist_dict =  { 'max_depth' :         [10,20,30],\n",
    "                     'min_samples_leaf' :  [300,400,500,600],\n",
    "                     'min_samples_split' : [2], \n",
    "                     'n_estimators':       [40],\n",
    "                    }\n",
    "                    \n",
    "output: \n",
    "{'max_depth': 20,\n",
    " 'min_samples_leaf': 600,\n",
    " 'min_samples_split': 2,\n",
    " 'n_estimators': 40}\n",
    "best_score = 0.7677964449764604, test_score = 0.7846835207980667\n",
    "\n",
    "input: \n",
    "param_dist_dict =  { 'max_depth' :         [10,20,30],\n",
    "                     'min_samples_leaf' :  [600,700,800,900,1000],\n",
    "                     'min_samples_split' : [2], \n",
    "                     'n_estimators':       [40],\n",
    "                    }\n",
    "output: \n",
    "{'max_depth': 20,\n",
    " 'min_samples_leaf': 600,\n",
    " 'min_samples_split': 2,\n",
    " 'n_estimators': 40}\n",
    "best_score = 0.7677964449764604, train_score = 0.7846835207980667\n",
    "\n",
    "input: \n",
    "param_dist_dict =  { 'max_depth' :         [15,20,25],\n",
    "                     'min_samples_leaf' :  [550,600,625,650],\n",
    "                     'min_samples_split' : [2], \n",
    "                     'n_estimators':       [40],\n",
    "                    }\n",
    "                    \n",
    "output: \n",
    "{'max_depth': 20,\n",
    " 'min_samples_leaf': 600,\n",
    " 'min_samples_split': 2,\n",
    " 'n_estimators': 40}\n",
    " best_score = 0.7677964449764604, test_score = 0.7846835207980667\n",
    " \n",
    "input: \n",
    " param_dist_dict =  { 'max_depth' :         [16,20,24],\n",
    "                     'min_samples_leaf' :  [570,585,600,615],\n",
    "                     'min_samples_split' : [2], \n",
    "                     'n_estimators':       [40],\n",
    "                    }\n",
    "                    \n",
    "output: \n",
    "{'max_depth': 20,\n",
    " 'min_samples_leaf': 585,\n",
    " 'min_samples_split': 2,\n",
    " 'n_estimators': 40}\n",
    " best_score = 0.7678954093859139, test_score = 0.7850927301123214\n",
    " \n",
    " input: \n",
    " param_dist_dict =  { 'max_depth' :         [17,19,21,23],\n",
    "                     'min_samples_leaf' :  [575,580,585,590,595],\n",
    "                     'min_samples_split' : [2], \n",
    "                     'n_estimators':       [40],\n",
    "                    }\n",
    "output: \n",
    "{'max_depth': 19,\n",
    " 'min_samples_leaf': 595,\n",
    " 'min_samples_split': 2,\n",
    " 'n_estimators': 40}\n",
    "best_score = 0.7679452249753776, test_score = 0.7848303877123949\n",
    "\n",
    "input: \n",
    "param_dist_dict =  { 'max_depth' :         [18,19,20,21,22,23,24],\n",
    "                     'min_samples_leaf' :  [591,592,593,594,595,596,597,598,599,600],\n",
    "                     'min_samples_split' : [2], \n",
    "                     'n_estimators':       [40],\n",
    "                    }\n",
    "output:     \n",
    "{'max_depth': 19,\n",
    " 'min_samples_leaf': 597,\n",
    " 'min_samples_split': 2,\n",
    " 'n_estimators': 40}\n",
    " best_score  = 0.7679517809833616, test_score = 0.7848144488264958\n",
    " \n",
    "******************************************************************\n",
    "Switching to training on full set. And some slightly new level 1 results. \n",
    "******************************************************************\n",
    "\n",
    "input: \n",
    "param_dist_dict =  { 'max_depth' :         [18,19,20,21],\n",
    "                     'min_samples_leaf' :  [594,595,596,597,598,599,600],\n",
    "                     'min_samples_split' : [2], \n",
    "                     'n_estimators':       [40],\n",
    "                    }\n",
    "output:\n",
    "{'max_depth': 18,\n",
    " 'min_samples_leaf': 598,\n",
    " 'min_samples_split': 2,\n",
    " 'n_estimators': 40}\n",
    " best_score = 0.7678558950584005, train_score = 0.7851159325098603\n",
    "\n",
    "input: \n",
    "param_dist_dict =  { 'max_depth' :         [10,15,20],\n",
    "                     'min_samples_leaf' :  [590,595,596,597,598,599,600,610],\n",
    "                     'min_samples_split' : [2], \n",
    "                     'n_estimators':       [40],\n",
    "                    }\n",
    "\n",
    "output: \n",
    "{'max_depth': 20,\n",
    " 'min_samples_leaf': 590,\n",
    " 'min_samples_split': 2,\n",
    " 'n_estimators': 40}\n",
    " best_score = 0.7679840053193745, train_score = 0.7851673942468692\n",
    " \n",
    " input:\n",
    " param_dist_dict =  { 'max_depth' :         [20,30,40,50],\n",
    "                     'min_samples_leaf' :  [200,400,500,525,550,575,600,700,800],\n",
    "                     'min_samples_split' : [2], \n",
    "                     'n_estimators':       [40],\n",
    "                    }\n",
    "output:                     \n",
    " {'max_depth': 20,\n",
    " 'min_samples_leaf': 525,\n",
    " 'min_samples_split': 2,\n",
    " 'n_estimators': 40}\n",
    " best_score = 0.768073429697852, train_score = 0.787580700228428\n",
    " \n",
    " input: \n",
    " param_dist_dict =  { 'max_depth' :         [16,18,20,22,24],\n",
    "                     'min_samples_leaf' :  [505,510,515,520,525,530,535,540,545],\n",
    "                     'min_samples_split' : [2], \n",
    "                     'n_estimators':       [40],\n",
    "                    }\n",
    "output: \n",
    "{'max_depth': 16,\n",
    " 'min_samples_leaf': 510,\n",
    " 'min_samples_split': 2,\n",
    " 'n_estimators': 40}\n",
    "best_score = 0.768248916714676, train_score = 0.787587817537903\n",
    "\n",
    "input: \n",
    "param_dist_dict =  { 'max_depth' :         [5,10,14,16,18,20],\n",
    "                     'min_samples_leaf' :  [505,507,510,512,515],\n",
    "                     'min_samples_split' : [2], \n",
    "                     'n_estimators':       [40],\n",
    "                    }\n",
    "output: \n",
    "{'max_depth': 16,\n",
    " 'min_samples_leaf': 512,\n",
    " 'min_samples_split': 2,\n",
    " 'n_estimators': 40}\n",
    " best_score = 0.7682950251471831, train_score = 0.7874740751036958\n",
    " \n",
    " input: \n",
    " \n",
    " param_dist_dict =  { 'max_depth' :         [14,15,16,17,18],\n",
    "                     'min_samples_leaf' :  [510,511,512,513,514,515],\n",
    "                     'min_samples_split' : [2], \n",
    "                     'n_estimators':       [40],\n",
    "                    }\n",
    "output:\n",
    "{'max_depth': 17,\n",
    " 'min_samples_leaf': 511,\n",
    " 'min_samples_split': 2,\n",
    " 'n_estimators': 40}\n",
    "best_score = 0.7682996744974617, train_score =  0.7879583895814456\n",
    "\n",
    " \n",
    "******************************************************************\n",
    "Restarting (Fix leaked level 1 results.  )\n",
    "******************************************************************\n",
    "\n",
    "input: \n",
    "param_dist_dict =  { 'max_depth' :         [10,15,20,30],\n",
    "                     'min_samples_leaf' :  [400,500,550,600,650],\n",
    "                     'min_samples_split' : [2], \n",
    "                     'n_estimators':       [40],\n",
    "                    }\n",
    "                    \n",
    "output:\n",
    "{'max_depth': 20,\n",
    " 'min_samples_leaf': 550,\n",
    " 'min_samples_split': 2,\n",
    " 'n_estimators': 40}\n",
    " best_score = 0.7681624453883024, train_score = 0.7864507247869006\n",
    " \n",
    " \n",
    " input:\n",
    " param_dist_dict =  { 'max_depth' :         [15,20,22,24,26],\n",
    "                     'min_samples_leaf' :  [520,530,540,550,560,570,580,590],\n",
    "                     'min_samples_split' : [2], \n",
    "                     'n_estimators':       [40],\n",
    "                    }\n",
    "                    \n",
    "output:   \n",
    "{'max_depth': 20,\n",
    " 'min_samples_leaf': 550,\n",
    " 'min_samples_split': 2,\n",
    " 'n_estimators': 40}\n",
    " best_score = 0.7681624453883024, train_score = 0.7864507247869006\n",
    " \n",
    " \n",
    " input: \n",
    " param_dist_dict =  { 'max_depth' :         [16,18,20,22],\n",
    "                     'min_samples_leaf' :  [543,547,550,553,556],\n",
    "                     'min_samples_split' : [2], \n",
    "                     'n_estimators':       [40],\n",
    "                    }\n",
    "\n",
    "output: \n",
    "{'max_depth': 16,\n",
    " 'min_samples_leaf': 550,\n",
    " 'min_samples_split': 2,\n",
    " 'n_estimators': 40}\n",
    " best_score = 0.7681837088411191, train_score = 0.7865378262227534\n",
    " \n",
    " input:\n",
    " param_dist_dict =  { 'max_depth' :         [14,16,18],\n",
    "                     'min_samples_leaf' :  [546,548,550,552,554],\n",
    "                     'min_samples_split' : [2], \n",
    "                     'n_estimators':       [40],\n",
    "                    }\n",
    "output:\n",
    "\n",
    "{'max_depth': 16,\n",
    " 'min_samples_leaf': 550,\n",
    " 'min_samples_split': 2,\n",
    " 'n_estimators': 40}\n",
    " best_score = 0.7681837088411191, train_score = 0.7865378262227534"
   ]
  },
  {
   "cell_type": "code",
   "execution_count": null,
   "metadata": {
    "hidden": true
   },
   "outputs": [],
   "source": []
  },
  {
   "cell_type": "code",
   "execution_count": 66,
   "metadata": {
    "collapsed": true,
    "hidden": true
   },
   "outputs": [
    {
     "name": "stdout",
     "output_type": "stream",
     "text": [
      "Fitting 3 folds for each of 15 candidates, totalling 45 fits\n",
      "Memmaping (shape=(79337838,), dtype=int32) to new file /dev/shm/joblib_memmaping_pool_3195_140473954739424/3195-140473954730168-7425de812d76baf4d8183fd11603bedf.pkl\n",
      "Memmaping (shape=(307512,), dtype=int32) to new file /dev/shm/joblib_memmaping_pool_3195_140473954739424/3195-140473954730168-511e4e07e852e42372cd1047cfce8c24.pkl\n",
      "Memmaping (shape=(79337838,), dtype=float64) to new file /dev/shm/joblib_memmaping_pool_3195_140473954739424/3195-140473954730168-36f0cabefc9e949ddca5595172ca52f7.pkl\n",
      "[CV] max_depth=14, min_samples_leaf=546, min_samples_split=2, n_estimators=40 \n",
      "Memmaping (shape=(307511,), dtype=int64) to new file /dev/shm/joblib_memmaping_pool_3195_140473954739424/3195-140473954730168-36f41ebc26c9047822d0779f2962f9e3.pkl\n",
      "Memmaping (shape=(307511,), dtype=int64) to new file /dev/shm/joblib_memmaping_pool_3195_140473954739424/3195-140473954730168-7fee98903a11851f0c36b343c7ef5338.pkl\n",
      "Memmaping (shape=(205007,), dtype=int64) to new file /dev/shm/joblib_memmaping_pool_3195_140473954739424/3195-140473954730168-981b55e712abb5a5a2369212f2856f0a.pkl\n",
      "[CV] max_depth=14, min_samples_leaf=546, min_samples_split=2, n_estimators=40 \n",
      "Memmaping (shape=(205007,), dtype=int64) to new file /dev/shm/joblib_memmaping_pool_3195_140473954739424/3195-140473954730168-52b45483e9e8ae50702a4dfc49cfc8ef.pkl\n",
      "[CV] max_depth=14, min_samples_leaf=546, min_samples_split=2, n_estimators=40 \n",
      "Memmaping (shape=(205008,), dtype=int64) to new file /dev/shm/joblib_memmaping_pool_3195_140473954739424/3195-140473954730168-14cff63d81a68491cd383c416c29ffaa.pkl\n",
      "[CV] max_depth=14, min_samples_leaf=548, min_samples_split=2, n_estimators=40 \n",
      "[CV] max_depth=14, min_samples_leaf=548, min_samples_split=2, n_estimators=40 \n",
      "[CV] max_depth=14, min_samples_leaf=548, min_samples_split=2, n_estimators=40 \n",
      "[CV] max_depth=14, min_samples_leaf=550, min_samples_split=2, n_estimators=40 \n",
      "[CV] max_depth=14, min_samples_leaf=550, min_samples_split=2, n_estimators=40 \n",
      "[CV]  max_depth=14, min_samples_leaf=546, min_samples_split=2, n_estimators=40, score=0.7682724983254942, total= 3.2min\n",
      "[CV] max_depth=14, min_samples_leaf=550, min_samples_split=2, n_estimators=40 \n",
      "[Parallel(n_jobs=-1)]: Done   1 tasks      | elapsed:  3.4min\n",
      "[CV]  max_depth=14, min_samples_leaf=546, min_samples_split=2, n_estimators=40, score=0.7644411482100286, total= 3.3min\n",
      "[CV] max_depth=14, min_samples_leaf=552, min_samples_split=2, n_estimators=40 \n",
      "[Parallel(n_jobs=-1)]: Done   2 tasks      | elapsed:  3.4min\n",
      "[CV]  max_depth=14, min_samples_leaf=546, min_samples_split=2, n_estimators=40, score=0.7708424298869092, total= 3.3min\n",
      "[CV] max_depth=14, min_samples_leaf=552, min_samples_split=2, n_estimators=40 \n",
      "[Parallel(n_jobs=-1)]: Done   3 tasks      | elapsed:  3.5min\n",
      "[CV]  max_depth=14, min_samples_leaf=548, min_samples_split=2, n_estimators=40, score=0.768351980722928, total= 3.3min\n",
      "[Parallel(n_jobs=-1)]: Done   4 tasks      | elapsed:  3.5min\n",
      "[CV]  max_depth=14, min_samples_leaf=548, min_samples_split=2, n_estimators=40, score=0.7644880943285335, total= 3.3min\n",
      "[Parallel(n_jobs=-1)]: Done   5 tasks      | elapsed:  3.6min\n",
      "[CV] max_depth=14, min_samples_leaf=552, min_samples_split=2, n_estimators=40 \n",
      "[CV] max_depth=14, min_samples_leaf=554, min_samples_split=2, n_estimators=40 \n",
      "[CV]  max_depth=14, min_samples_leaf=548, min_samples_split=2, n_estimators=40, score=0.7708530443674129, total= 3.3min\n",
      "[CV] max_depth=14, min_samples_leaf=554, min_samples_split=2, n_estimators=40 \n",
      "[Parallel(n_jobs=-1)]: Done   6 tasks      | elapsed:  3.6min\n",
      "[CV]  max_depth=14, min_samples_leaf=550, min_samples_split=2, n_estimators=40, score=0.7685649426596176, total= 3.3min\n",
      "[Parallel(n_jobs=-1)]: Done   7 tasks      | elapsed:  3.7min\n",
      "[CV]  max_depth=14, min_samples_leaf=550, min_samples_split=2, n_estimators=40, score=0.764748367887847, total= 3.3min\n",
      "[Parallel(n_jobs=-1)]: Done   8 tasks      | elapsed:  3.7min\n",
      "[CV] max_depth=14, min_samples_leaf=554, min_samples_split=2, n_estimators=40 \n",
      "[CV] max_depth=16, min_samples_leaf=546, min_samples_split=2, n_estimators=40 \n",
      "[CV]  max_depth=14, min_samples_leaf=550, min_samples_split=2, n_estimators=40, score=0.7708975876087403, total= 3.3min\n",
      "[CV] max_depth=16, min_samples_leaf=546, min_samples_split=2, n_estimators=40 \n",
      "[Parallel(n_jobs=-1)]: Done   9 tasks      | elapsed:  6.8min\n",
      "[CV]  max_depth=14, min_samples_leaf=552, min_samples_split=2, n_estimators=40, score=0.7686899104415518, total= 3.3min\n",
      "[CV] max_depth=16, min_samples_leaf=546, min_samples_split=2, n_estimators=40 \n",
      "[Parallel(n_jobs=-1)]: Done  10 tasks      | elapsed:  6.9min\n",
      "[CV]  max_depth=14, min_samples_leaf=552, min_samples_split=2, n_estimators=40, score=0.7646399824506724, total= 3.3min\n",
      "[CV] max_depth=16, min_samples_leaf=548, min_samples_split=2, n_estimators=40 \n",
      "[Parallel(n_jobs=-1)]: Done  11 tasks      | elapsed:  7.0min\n",
      "[CV]  max_depth=14, min_samples_leaf=552, min_samples_split=2, n_estimators=40, score=0.7708769562853717, total= 3.3min\n",
      "[CV] max_depth=16, min_samples_leaf=548, min_samples_split=2, n_estimators=40 \n",
      "[Parallel(n_jobs=-1)]: Done  12 tasks      | elapsed:  7.0min\n",
      "[CV]  max_depth=14, min_samples_leaf=554, min_samples_split=2, n_estimators=40, score=0.768552497564989, total= 3.3min\n",
      "[Parallel(n_jobs=-1)]: Done  13 tasks      | elapsed:  7.1min\n",
      "[CV] max_depth=16, min_samples_leaf=548, min_samples_split=2, n_estimators=40 \n",
      "[CV]  max_depth=14, min_samples_leaf=554, min_samples_split=2, n_estimators=40, score=0.7644500049519396, total= 3.3min\n",
      "[Parallel(n_jobs=-1)]: Done  14 tasks      | elapsed:  7.1min\n",
      "[CV] max_depth=16, min_samples_leaf=550, min_samples_split=2, n_estimators=40 \n",
      "[CV]  max_depth=14, min_samples_leaf=554, min_samples_split=2, n_estimators=40, score=0.7706861546981179, total= 3.4min\n",
      "[CV] max_depth=16, min_samples_leaf=550, min_samples_split=2, n_estimators=40 \n",
      "[Parallel(n_jobs=-1)]: Done  15 tasks      | elapsed:  7.1min\n",
      "[CV]  max_depth=16, min_samples_leaf=546, min_samples_split=2, n_estimators=40, score=0.7684090160375833, total= 3.4min\n",
      "[CV] max_depth=16, min_samples_leaf=550, min_samples_split=2, n_estimators=40 \n",
      "[Parallel(n_jobs=-1)]: Done  16 tasks      | elapsed:  7.2min\n",
      "[CV]  max_depth=16, min_samples_leaf=546, min_samples_split=2, n_estimators=40, score=0.7645312148372614, total= 3.4min\n",
      "[CV] max_depth=16, min_samples_leaf=552, min_samples_split=2, n_estimators=40 \n",
      "[Parallel(n_jobs=-1)]: Done  17 tasks      | elapsed: 10.3min\n",
      "[CV]  max_depth=16, min_samples_leaf=546, min_samples_split=2, n_estimators=40, score=0.7710245112228269, total= 3.4min\n",
      "[CV] max_depth=16, min_samples_leaf=552, min_samples_split=2, n_estimators=40 \n",
      "[Parallel(n_jobs=-1)]: Done  18 tasks      | elapsed: 10.4min\n",
      "[CV]  max_depth=16, min_samples_leaf=548, min_samples_split=2, n_estimators=40, score=0.7685309199972721, total= 3.4min\n",
      "[CV]  max_depth=16, min_samples_leaf=548, min_samples_split=2, n_estimators=40, score=0.7648999738664555, total= 3.3min\n",
      "[CV] max_depth=16, min_samples_leaf=552, min_samples_split=2, n_estimators=40 \n",
      "[Parallel(n_jobs=-1)]: Done  19 tasks      | elapsed: 10.5min\n",
      "[Parallel(n_jobs=-1)]: Done  20 tasks      | elapsed: 10.5min\n",
      "[CV] max_depth=16, min_samples_leaf=554, min_samples_split=2, n_estimators=40 \n",
      "[CV]  max_depth=16, min_samples_leaf=550, min_samples_split=2, n_estimators=40, score=0.7685940431998295, total= 3.4min\n",
      "[CV] max_depth=16, min_samples_leaf=554, min_samples_split=2, n_estimators=40 \n",
      "[CV]  max_depth=16, min_samples_leaf=548, min_samples_split=2, n_estimators=40, score=0.770813566938686, total= 3.4min\n",
      "[Parallel(n_jobs=-1)]: Done  21 tasks      | elapsed: 10.6min\n",
      "[Parallel(n_jobs=-1)]: Done  22 tasks      | elapsed: 10.6min\n",
      "[CV]  max_depth=16, min_samples_leaf=550, min_samples_split=2, n_estimators=40, score=0.7650534791840113, total= 3.4min\n",
      "[Parallel(n_jobs=-1)]: Done  23 tasks      | elapsed: 10.6min\n",
      "[CV] max_depth=16, min_samples_leaf=554, min_samples_split=2, n_estimators=40 \n",
      "[CV] max_depth=18, min_samples_leaf=546, min_samples_split=2, n_estimators=40 \n",
      "[CV]  max_depth=16, min_samples_leaf=550, min_samples_split=2, n_estimators=40, score=0.7709036306743033, total= 3.4min\n",
      "[CV] max_depth=18, min_samples_leaf=546, min_samples_split=2, n_estimators=40 \n"
     ]
    },
    {
     "name": "stdout",
     "output_type": "stream",
     "text": [
      "[Parallel(n_jobs=-1)]: Done  24 tasks      | elapsed: 10.7min\n",
      "[CV]  max_depth=16, min_samples_leaf=552, min_samples_split=2, n_estimators=40, score=0.7650235232359144, total= 3.3min\n",
      "[CV]  max_depth=16, min_samples_leaf=552, min_samples_split=2, n_estimators=40, score=0.7687193957229415, total= 3.4min\n",
      "[CV] max_depth=18, min_samples_leaf=546, min_samples_split=2, n_estimators=40 \n",
      "[Parallel(n_jobs=-1)]: Done  25 tasks      | elapsed: 13.8min\n",
      "[Parallel(n_jobs=-1)]: Done  26 tasks      | elapsed: 13.8min\n",
      "[CV] max_depth=18, min_samples_leaf=548, min_samples_split=2, n_estimators=40 \n",
      "[CV]  max_depth=16, min_samples_leaf=552, min_samples_split=2, n_estimators=40, score=0.770734763414368, total= 3.3min\n",
      "[CV] max_depth=18, min_samples_leaf=548, min_samples_split=2, n_estimators=40 \n",
      "[Parallel(n_jobs=-1)]: Done  27 tasks      | elapsed: 13.9min\n",
      "[CV]  max_depth=16, min_samples_leaf=554, min_samples_split=2, n_estimators=40, score=0.7684036129889776, total= 3.3min\n",
      "[Parallel(n_jobs=-1)]: Done  28 tasks      | elapsed: 14.0min\n",
      "[CV] max_depth=18, min_samples_leaf=548, min_samples_split=2, n_estimators=40 \n",
      "[CV]  max_depth=16, min_samples_leaf=554, min_samples_split=2, n_estimators=40, score=0.764667073359466, total= 3.4min\n",
      "[CV] max_depth=18, min_samples_leaf=550, min_samples_split=2, n_estimators=40 \n",
      "[Parallel(n_jobs=-1)]: Done  29 tasks      | elapsed: 14.1min\n",
      "[CV]  max_depth=16, min_samples_leaf=554, min_samples_split=2, n_estimators=40, score=0.7707313443114836, total= 3.4min\n",
      "[Parallel(n_jobs=-1)]: Done  30 tasks      | elapsed: 14.1min\n",
      "[CV] max_depth=18, min_samples_leaf=550, min_samples_split=2, n_estimators=40 \n",
      "[CV]  max_depth=18, min_samples_leaf=546, min_samples_split=2, n_estimators=40, score=0.7645859096430856, total= 3.4min\n",
      "[CV]  max_depth=18, min_samples_leaf=546, min_samples_split=2, n_estimators=40, score=0.7684255958174017, total= 3.4min\n",
      "[CV] max_depth=18, min_samples_leaf=550, min_samples_split=2, n_estimators=40 \n",
      "[Parallel(n_jobs=-1)]: Done  31 out of  45 | elapsed: 14.2min remaining:  6.4min\n",
      "[Parallel(n_jobs=-1)]: Done  32 out of  45 | elapsed: 14.2min remaining:  5.8min\n",
      "[CV] max_depth=18, min_samples_leaf=552, min_samples_split=2, n_estimators=40 \n",
      "[CV]  max_depth=18, min_samples_leaf=548, min_samples_split=2, n_estimators=40, score=0.7684806407376976, total= 3.4min\n",
      "[CV] max_depth=18, min_samples_leaf=552, min_samples_split=2, n_estimators=40 \n",
      "[Parallel(n_jobs=-1)]: Done  33 out of  45 | elapsed: 17.3min remaining:  6.3min\n",
      "[CV]  max_depth=18, min_samples_leaf=546, min_samples_split=2, n_estimators=40, score=0.7709984985957439, total= 3.4min\n",
      "[Parallel(n_jobs=-1)]: Done  34 out of  45 | elapsed: 17.3min remaining:  5.6min\n",
      "[CV] max_depth=18, min_samples_leaf=552, min_samples_split=2, n_estimators=40 \n",
      "[CV]  max_depth=18, min_samples_leaf=548, min_samples_split=2, n_estimators=40, score=0.7649431533688306, total= 3.4min\n",
      "[CV] max_depth=18, min_samples_leaf=554, min_samples_split=2, n_estimators=40 \n",
      "[Parallel(n_jobs=-1)]: Done  35 out of  45 | elapsed: 17.4min remaining:  5.0min\n",
      "[CV]  max_depth=18, min_samples_leaf=548, min_samples_split=2, n_estimators=40, score=0.7709436877858898, total= 3.4min\n",
      "[CV] max_depth=18, min_samples_leaf=554, min_samples_split=2, n_estimators=40 \n",
      "[Parallel(n_jobs=-1)]: Done  36 out of  45 | elapsed: 17.5min remaining:  4.4min\n",
      "[CV]  max_depth=18, min_samples_leaf=550, min_samples_split=2, n_estimators=40, score=0.7686004529878502, total= 3.4min\n",
      "[CV] max_depth=18, min_samples_leaf=554, min_samples_split=2, n_estimators=40 \n",
      "[Parallel(n_jobs=-1)]: Done  37 out of  45 | elapsed: 17.6min remaining:  3.8min\n",
      "[CV]  max_depth=18, min_samples_leaf=550, min_samples_split=2, n_estimators=40, score=0.7650716607695996, total= 3.4min\n",
      "[Parallel(n_jobs=-1)]: Done  38 out of  45 | elapsed: 17.7min remaining:  3.3min\n",
      "[CV]  max_depth=18, min_samples_leaf=550, min_samples_split=2, n_estimators=40, score=0.7708292260708006, total= 3.4min\n",
      "[Parallel(n_jobs=-1)]: Done  39 out of  45 | elapsed: 17.7min remaining:  2.7min\n",
      "[CV]  max_depth=18, min_samples_leaf=552, min_samples_split=2, n_estimators=40, score=0.7686646316637051, total= 3.4min\n",
      "[Parallel(n_jobs=-1)]: Done  40 out of  45 | elapsed: 17.7min remaining:  2.2min\n",
      "[CV]  max_depth=18, min_samples_leaf=554, min_samples_split=2, n_estimators=40, score=0.768388154088457, total= 2.5min\n",
      "[Parallel(n_jobs=-1)]: Done  41 out of  45 | elapsed: 20.0min remaining:  2.0min\n",
      "[CV]  max_depth=18, min_samples_leaf=554, min_samples_split=2, n_estimators=40, score=0.764719661066107, total= 2.4min\n",
      "[Parallel(n_jobs=-1)]: Done  42 out of  45 | elapsed: 20.0min remaining:  1.4min\n",
      "[CV]  max_depth=18, min_samples_leaf=554, min_samples_split=2, n_estimators=40, score=0.7706454730167248, total= 2.4min\n",
      "[Parallel(n_jobs=-1)]: Done  43 out of  45 | elapsed: 20.1min remaining:   56.1s\n",
      "[CV]  max_depth=18, min_samples_leaf=552, min_samples_split=2, n_estimators=40, score=0.7650074205351565, total= 3.1min\n",
      "[CV]  max_depth=18, min_samples_leaf=552, min_samples_split=2, n_estimators=40, score=0.7706582452768993, total= 3.1min\n",
      "[Parallel(n_jobs=-1)]: Done  45 out of  45 | elapsed: 20.5min remaining:    0.0s\n",
      "[Parallel(n_jobs=-1)]: Done  45 out of  45 | elapsed: 20.5min finished\n"
     ]
    },
    {
     "data": {
      "text/plain": [
       "GridSearchCV(cv=3, error_score='raise',\n",
       "       estimator=RandomForestClassifier(bootstrap=True, class_weight=None, criterion='gini',\n",
       "            max_depth=None, max_features='auto', max_leaf_nodes=None,\n",
       "            min_impurity_decrease=0.0, min_impurity_split=None,\n",
       "            min_samples_leaf=1, min_samples_split=2,\n",
       "            min_weight_fraction_leaf=0.0, n_estimators=10, n_jobs=1,\n",
       "            oob_score=False, random_state=0, verbose=0, warm_start=False),\n",
       "       fit_params=None, iid=True, n_jobs=-1,\n",
       "       param_grid={'max_depth': [14, 16, 18], 'min_samples_leaf': [546, 548, 550, 552, 554], 'min_samples_split': [2], 'n_estimators': [40]},\n",
       "       pre_dispatch='2*n_jobs', refit=True, return_train_score=True,\n",
       "       scoring='roc_auc', verbose=51)"
      ]
     },
     "execution_count": 66,
     "metadata": {},
     "output_type": "execute_result"
    }
   ],
   "source": [
    "param_dist_dict =  { 'max_depth' :         [14,16,18],\n",
    "                     'min_samples_leaf' :  [546,548,550,552,554],\n",
    "                     'min_samples_split' : [2], \n",
    "                     'n_estimators':       [40],\n",
    "                    }\n",
    "\n",
    "forest_reg = RandomForestClassifier(random_state=0,\n",
    "                                    class_weight = None)\n",
    "\n",
    "my_grid_search = GridSearchCV(forest_reg, \n",
    "                                param_dist_dict, \n",
    "                                cv = 3,\n",
    "                                return_train_score = True , \n",
    "                                scoring = 'roc_auc',\n",
    "                                n_jobs = -1, \n",
    "                                refit = True,\n",
    "                                verbose = 51, \n",
    "                                        )\n",
    "\n",
    "my_grid_search.fit(total_df_piped, total_df['TARGET'])"
   ]
  },
  {
   "cell_type": "code",
   "execution_count": null,
   "metadata": {
    "hidden": true
   },
   "outputs": [],
   "source": []
  },
  {
   "cell_type": "code",
   "execution_count": 67,
   "metadata": {
    "hidden": true
   },
   "outputs": [
    {
     "data": {
      "text/html": [
       "<div>\n",
       "<style scoped>\n",
       "    .dataframe tbody tr th:only-of-type {\n",
       "        vertical-align: middle;\n",
       "    }\n",
       "\n",
       "    .dataframe tbody tr th {\n",
       "        vertical-align: top;\n",
       "    }\n",
       "\n",
       "    .dataframe thead th {\n",
       "        text-align: right;\n",
       "    }\n",
       "</style>\n",
       "<table border=\"1\" class=\"dataframe\">\n",
       "  <thead>\n",
       "    <tr style=\"text-align: right;\">\n",
       "      <th></th>\n",
       "      <th>params</th>\n",
       "      <th>mean_test_score</th>\n",
       "    </tr>\n",
       "  </thead>\n",
       "  <tbody>\n",
       "    <tr>\n",
       "      <th>0</th>\n",
       "      <td>{'max_depth': 14, 'min_samples_leaf': 546, 'min_samples_split': 2, 'n_estimators': 40}</td>\n",
       "      <td>0.767852</td>\n",
       "    </tr>\n",
       "    <tr>\n",
       "      <th>1</th>\n",
       "      <td>{'max_depth': 14, 'min_samples_leaf': 548, 'min_samples_split': 2, 'n_estimators': 40}</td>\n",
       "      <td>0.767898</td>\n",
       "    </tr>\n",
       "    <tr>\n",
       "      <th>2</th>\n",
       "      <td>{'max_depth': 14, 'min_samples_leaf': 550, 'min_samples_split': 2, 'n_estimators': 40}</td>\n",
       "      <td>0.768070</td>\n",
       "    </tr>\n",
       "    <tr>\n",
       "      <th>3</th>\n",
       "      <td>{'max_depth': 14, 'min_samples_leaf': 552, 'min_samples_split': 2, 'n_estimators': 40}</td>\n",
       "      <td>0.768069</td>\n",
       "    </tr>\n",
       "    <tr>\n",
       "      <th>4</th>\n",
       "      <td>{'max_depth': 14, 'min_samples_leaf': 554, 'min_samples_split': 2, 'n_estimators': 40}</td>\n",
       "      <td>0.767896</td>\n",
       "    </tr>\n",
       "    <tr>\n",
       "      <th>5</th>\n",
       "      <td>{'max_depth': 16, 'min_samples_leaf': 546, 'min_samples_split': 2, 'n_estimators': 40}</td>\n",
       "      <td>0.767988</td>\n",
       "    </tr>\n",
       "    <tr>\n",
       "      <th>6</th>\n",
       "      <td>{'max_depth': 16, 'min_samples_leaf': 548, 'min_samples_split': 2, 'n_estimators': 40}</td>\n",
       "      <td>0.768081</td>\n",
       "    </tr>\n",
       "    <tr>\n",
       "      <th>7</th>\n",
       "      <td>{'max_depth': 16, 'min_samples_leaf': 550, 'min_samples_split': 2, 'n_estimators': 40}</td>\n",
       "      <td>0.768184</td>\n",
       "    </tr>\n",
       "    <tr>\n",
       "      <th>8</th>\n",
       "      <td>{'max_depth': 16, 'min_samples_leaf': 552, 'min_samples_split': 2, 'n_estimators': 40}</td>\n",
       "      <td>0.768159</td>\n",
       "    </tr>\n",
       "    <tr>\n",
       "      <th>9</th>\n",
       "      <td>{'max_depth': 16, 'min_samples_leaf': 554, 'min_samples_split': 2, 'n_estimators': 40}</td>\n",
       "      <td>0.767934</td>\n",
       "    </tr>\n",
       "    <tr>\n",
       "      <th>10</th>\n",
       "      <td>{'max_depth': 18, 'min_samples_leaf': 546, 'min_samples_split': 2, 'n_estimators': 40}</td>\n",
       "      <td>0.768003</td>\n",
       "    </tr>\n",
       "    <tr>\n",
       "      <th>11</th>\n",
       "      <td>{'max_depth': 18, 'min_samples_leaf': 548, 'min_samples_split': 2, 'n_estimators': 40}</td>\n",
       "      <td>0.768122</td>\n",
       "    </tr>\n",
       "    <tr>\n",
       "      <th>12</th>\n",
       "      <td>{'max_depth': 18, 'min_samples_leaf': 550, 'min_samples_split': 2, 'n_estimators': 40}</td>\n",
       "      <td>0.768167</td>\n",
       "    </tr>\n",
       "    <tr>\n",
       "      <th>13</th>\n",
       "      <td>{'max_depth': 18, 'min_samples_leaf': 552, 'min_samples_split': 2, 'n_estimators': 40}</td>\n",
       "      <td>0.768110</td>\n",
       "    </tr>\n",
       "    <tr>\n",
       "      <th>14</th>\n",
       "      <td>{'max_depth': 18, 'min_samples_leaf': 554, 'min_samples_split': 2, 'n_estimators': 40}</td>\n",
       "      <td>0.767918</td>\n",
       "    </tr>\n",
       "  </tbody>\n",
       "</table>\n",
       "</div>"
      ],
      "text/plain": [
       "                                                                                    params  \\\n",
       "0   {'max_depth': 14, 'min_samples_leaf': 546, 'min_samples_split': 2, 'n_estimators': 40}   \n",
       "1   {'max_depth': 14, 'min_samples_leaf': 548, 'min_samples_split': 2, 'n_estimators': 40}   \n",
       "2   {'max_depth': 14, 'min_samples_leaf': 550, 'min_samples_split': 2, 'n_estimators': 40}   \n",
       "3   {'max_depth': 14, 'min_samples_leaf': 552, 'min_samples_split': 2, 'n_estimators': 40}   \n",
       "4   {'max_depth': 14, 'min_samples_leaf': 554, 'min_samples_split': 2, 'n_estimators': 40}   \n",
       "5   {'max_depth': 16, 'min_samples_leaf': 546, 'min_samples_split': 2, 'n_estimators': 40}   \n",
       "6   {'max_depth': 16, 'min_samples_leaf': 548, 'min_samples_split': 2, 'n_estimators': 40}   \n",
       "7   {'max_depth': 16, 'min_samples_leaf': 550, 'min_samples_split': 2, 'n_estimators': 40}   \n",
       "8   {'max_depth': 16, 'min_samples_leaf': 552, 'min_samples_split': 2, 'n_estimators': 40}   \n",
       "9   {'max_depth': 16, 'min_samples_leaf': 554, 'min_samples_split': 2, 'n_estimators': 40}   \n",
       "10  {'max_depth': 18, 'min_samples_leaf': 546, 'min_samples_split': 2, 'n_estimators': 40}   \n",
       "11  {'max_depth': 18, 'min_samples_leaf': 548, 'min_samples_split': 2, 'n_estimators': 40}   \n",
       "12  {'max_depth': 18, 'min_samples_leaf': 550, 'min_samples_split': 2, 'n_estimators': 40}   \n",
       "13  {'max_depth': 18, 'min_samples_leaf': 552, 'min_samples_split': 2, 'n_estimators': 40}   \n",
       "14  {'max_depth': 18, 'min_samples_leaf': 554, 'min_samples_split': 2, 'n_estimators': 40}   \n",
       "\n",
       "    mean_test_score  \n",
       "0   0.767852         \n",
       "1   0.767898         \n",
       "2   0.768070         \n",
       "3   0.768069         \n",
       "4   0.767896         \n",
       "5   0.767988         \n",
       "6   0.768081         \n",
       "7   0.768184         \n",
       "8   0.768159         \n",
       "9   0.767934         \n",
       "10  0.768003         \n",
       "11  0.768122         \n",
       "12  0.768167         \n",
       "13  0.768110         \n",
       "14  0.767918         "
      ]
     },
     "execution_count": 67,
     "metadata": {},
     "output_type": "execute_result"
    }
   ],
   "source": [
    "pd.set_option('display.max_colwidth', -1)\n",
    "pd.DataFrame(my_grid_search.cv_results_)[['params','mean_test_score']]"
   ]
  },
  {
   "cell_type": "code",
   "execution_count": null,
   "metadata": {
    "hidden": true
   },
   "outputs": [],
   "source": []
  },
  {
   "cell_type": "code",
   "execution_count": 68,
   "metadata": {
    "hidden": true
   },
   "outputs": [
    {
     "data": {
      "text/plain": [
       "{'max_depth': 16,\n",
       " 'min_samples_leaf': 550,\n",
       " 'min_samples_split': 2,\n",
       " 'n_estimators': 40}"
      ]
     },
     "execution_count": 68,
     "metadata": {},
     "output_type": "execute_result"
    }
   ],
   "source": [
    "RF_optimized_parms = my_grid_search.best_params_\n",
    "RF_optimized_parms"
   ]
  },
  {
   "cell_type": "code",
   "execution_count": null,
   "metadata": {
    "hidden": true
   },
   "outputs": [],
   "source": []
  },
  {
   "cell_type": "code",
   "execution_count": 69,
   "metadata": {
    "hidden": true
   },
   "outputs": [
    {
     "data": {
      "text/plain": [
       "0.7681837088411191"
      ]
     },
     "execution_count": 69,
     "metadata": {},
     "output_type": "execute_result"
    }
   ],
   "source": [
    "my_grid_search.best_score_"
   ]
  },
  {
   "cell_type": "code",
   "execution_count": null,
   "metadata": {
    "hidden": true
   },
   "outputs": [],
   "source": []
  },
  {
   "cell_type": "code",
   "execution_count": 70,
   "metadata": {
    "hidden": true
   },
   "outputs": [
    {
     "data": {
      "text/plain": [
       "0.7865378262227534"
      ]
     },
     "execution_count": 70,
     "metadata": {},
     "output_type": "execute_result"
    }
   ],
   "source": [
    "train_scores = [x[1] for x in my_grid_search.predict_proba(total_df_piped)]\n",
    "roc_auc_score(total_df['TARGET'], train_scores)"
   ]
  },
  {
   "cell_type": "code",
   "execution_count": null,
   "metadata": {
    "hidden": true
   },
   "outputs": [],
   "source": []
  },
  {
   "cell_type": "code",
   "execution_count": 71,
   "metadata": {
    "hidden": true
   },
   "outputs": [],
   "source": [
    "del my_grid_search"
   ]
  },
  {
   "cell_type": "code",
   "execution_count": null,
   "metadata": {
    "hidden": true
   },
   "outputs": [],
   "source": []
  },
  {
   "cell_type": "markdown",
   "metadata": {
    "heading_collapsed": true
   },
   "source": [
    "### DONE. log reg grid search"
   ]
  },
  {
   "cell_type": "code",
   "execution_count": null,
   "metadata": {
    "hidden": true
   },
   "outputs": [],
   "source": []
  },
  {
   "cell_type": "raw",
   "metadata": {
    "hidden": true
   },
   "source": [
    "Results: \n",
    "\n",
    "input:\n",
    "param_grid = [{ 'C' : [36,40,50,70] }]\n",
    "\n",
    "output: \n",
    "{'C': 70}\n",
    "best_score = 0.771463923141084, train_score = 0.7746624299958278\n",
    "\n",
    "\n",
    "input: \n",
    "param_grid = [{ 'C' : [70,90,100,120,150,200] }]\n",
    "\n",
    "output: \n",
    "{'C': 200}\n",
    "best_score = 0.7715501709165813, train_score = 0.7746619781370906\n",
    "\n",
    "input: \n",
    "param_grid = [{ 'C' : [200,300,400,500,700] }]\n",
    "output:\n",
    "{'C': 200}\n",
    "best_score = 0.7715501709165813, train_score = 0.7746619781370906\n",
    "\n",
    "input:\n",
    "param_grid = [{ 'C' : [175,185,200,225,250,275] }]\n",
    "output: \n",
    "{'C': 175}\n",
    "best_score = 0.7718108441473754, train_score = 0.7745536856521934\n",
    "\n",
    "input:\n",
    "param_grid = [{ 'C' : [160,165,170,175,180] }]\n",
    "output:\n",
    "{'C': 175}\n",
    "best_score = 0.7718108441473754, test_score = 0.7745536856521934\n",
    "\n",
    "******************************************************************\n",
    "Switching to training on full set. And some slightly new level 1 results. \n",
    "******************************************************************\n",
    "\n",
    "input:\n",
    "param_grid = [{ 'C' : [171,172,173,174,175,176,177,178,179] }]\n",
    "output: \n",
    "{'C': 174}\n",
    "best_score = 0.7714033017857964, train_score = 0.7747486686109132\n",
    "\n",
    "\n",
    " \n",
    "******************************************************************\n",
    "Restarting (Fix leaked level 1 results.  )\n",
    "******************************************************************\n",
    "\n",
    "\n",
    "input: \n",
    "param_grid = [{ 'C' : [170,175,180] }]\n",
    "output: \n",
    "{'C': 175}\n",
    "best_score = 0.7713735163180996, train_score = 0.7746764505839284\n",
    "\n",
    "input: \n",
    "param_grid = [{ 'C' : [171,172,173,174,175,176,177,178,179] }]\n",
    "output: \n",
    "{'C': 179}\n",
    "best_score = 0.7715860050402779, train_score = 0.7738151103627916\n",
    "\n",
    "input: \n",
    "param_grid = [{ 'C' : [177,178,179,180,181] }]\n",
    "output: \n",
    "{'C': 179}\n",
    "bset_score = 0.7715860050402779, train_score = 0.7738151103627916"
   ]
  },
  {
   "cell_type": "code",
   "execution_count": null,
   "metadata": {
    "hidden": true
   },
   "outputs": [],
   "source": []
  },
  {
   "cell_type": "code",
   "execution_count": 53,
   "metadata": {
    "collapsed": true,
    "hidden": true
   },
   "outputs": [
    {
     "name": "stdout",
     "output_type": "stream",
     "text": [
      "Fitting 3 folds for each of 5 candidates, totalling 15 fits\n",
      "Memmaping (shape=(79337838,), dtype=int32) to new file /dev/shm/joblib_memmaping_pool_3195_140474938518104/3195-140473957821688-7425de812d76baf4d8183fd11603bedf.pkl\n",
      "Memmaping (shape=(307512,), dtype=int32) to new file /dev/shm/joblib_memmaping_pool_3195_140474938518104/3195-140473957821688-511e4e07e852e42372cd1047cfce8c24.pkl\n",
      "Memmaping (shape=(79337838,), dtype=float64) to new file /dev/shm/joblib_memmaping_pool_3195_140474938518104/3195-140473957821688-36f0cabefc9e949ddca5595172ca52f7.pkl\n",
      "[CV] C=177 ...........................................................\n",
      "Memmaping (shape=(307511,), dtype=int64) to new file /dev/shm/joblib_memmaping_pool_3195_140474938518104/3195-140473957821688-36f41ebc26c9047822d0779f2962f9e3.pkl\n",
      "Memmaping (shape=(307511,), dtype=int64) to new file /dev/shm/joblib_memmaping_pool_3195_140474938518104/3195-140473957821688-7fee98903a11851f0c36b343c7ef5338.pkl\n",
      "Memmaping (shape=(205007,), dtype=int64) to new file /dev/shm/joblib_memmaping_pool_3195_140474938518104/3195-140473957821688-981b55e712abb5a5a2369212f2856f0a.pkl\n",
      "[CV] C=177 ...........................................................\n",
      "Memmaping (shape=(205007,), dtype=int64) to new file /dev/shm/joblib_memmaping_pool_3195_140474938518104/3195-140473957821688-52b45483e9e8ae50702a4dfc49cfc8ef.pkl\n",
      "[CV] C=177 ...........................................................\n",
      "Memmaping (shape=(205008,), dtype=int64) to new file /dev/shm/joblib_memmaping_pool_3195_140474938518104/3195-140473957821688-14cff63d81a68491cd383c416c29ffaa.pkl\n",
      "[CV] C=178 ...........................................................\n",
      "[CV] C=178 ...........................................................\n",
      "[CV] C=178 ...........................................................\n",
      "[CV] C=179 ...........................................................\n",
      "[CV] C=179 ...........................................................\n",
      "[CV] .................. C=177, score=0.7706993533366471, total=25.2min\n",
      "[CV] C=179 ...........................................................\n",
      "[Parallel(n_jobs=-1)]: Done   1 tasks      | elapsed: 25.2min\n",
      "[CV] .................. C=177, score=0.7733821891415397, total=25.2min\n",
      "[CV] C=180 ...........................................................\n",
      "[Parallel(n_jobs=-1)]: Done   2 out of  15 | elapsed: 25.3min remaining: 164.3min\n",
      "[CV] .................. C=179, score=0.7707674422653381, total=28.1min\n",
      "[CV] C=180 ...........................................................\n",
      "[Parallel(n_jobs=-1)]: Done   3 out of  15 | elapsed: 28.4min remaining: 113.4min\n",
      "[CV] .................. C=178, score=0.7709898906369997, total=30.2min\n",
      "[CV] C=180 ...........................................................\n",
      "[Parallel(n_jobs=-1)]: Done   4 out of  15 | elapsed: 30.4min remaining: 83.5min\n",
      "[CV] .................. C=178, score=0.7738334991799155, total=34.5min\n",
      "[CV] C=181 ...........................................................\n",
      "[Parallel(n_jobs=-1)]: Done   5 out of  15 | elapsed: 34.7min remaining: 69.4min\n",
      "[CV] ................... C=178, score=0.769708308796732, total=50.9min\n",
      "[CV] C=181 ...........................................................\n",
      "[Parallel(n_jobs=-1)]: Done   6 out of  15 | elapsed: 51.0min remaining: 76.6min\n",
      "[CV] .................. C=180, score=0.7706754416724517, total=26.5min\n",
      "[CV] C=181 ...........................................................\n",
      "[Parallel(n_jobs=-1)]: Done   7 out of  15 | elapsed: 51.8min remaining: 59.2min\n",
      "[CV] .................. C=179, score=0.7697740892783567, total=54.4min\n",
      "[Parallel(n_jobs=-1)]: Done   8 out of  15 | elapsed: 54.6min remaining: 47.8min\n",
      "[CV] .................. C=180, score=0.7732900323917034, total=27.3min\n",
      "[Parallel(n_jobs=-1)]: Done   9 out of  15 | elapsed: 57.7min remaining: 38.5min\n",
      "[CV] .................. C=181, score=0.7704537602182048, total=23.4min\n",
      "[Parallel(n_jobs=-1)]: Done  10 out of  15 | elapsed: 58.2min remaining: 29.1min\n",
      "[CV] .................. C=177, score=0.7698233297367514, total=60.4min\n",
      "[Parallel(n_jobs=-1)]: Done  11 out of  15 | elapsed: 60.5min remaining: 22.0min\n",
      "[CV] .................. C=180, score=0.7696393683075675, total=38.8min\n",
      "[Parallel(n_jobs=-1)]: Done  12 out of  15 | elapsed: 67.1min remaining: 16.8min\n",
      "[CV] .................. C=179, score=0.7742165092395933, total=42.1min\n",
      "[Parallel(n_jobs=-1)]: Done  13 out of  15 | elapsed: 67.3min remaining: 10.4min\n",
      "[CV] .................. C=181, score=0.7733232936195001, total=18.6min\n",
      "[CV] ................... C=181, score=0.769628187728943, total=32.6min\n",
      "[Parallel(n_jobs=-1)]: Done  15 out of  15 | elapsed: 83.6min remaining:    0.0s\n",
      "[Parallel(n_jobs=-1)]: Done  15 out of  15 | elapsed: 83.6min finished\n"
     ]
    },
    {
     "data": {
      "text/plain": [
       "GridSearchCV(cv=3, error_score='raise',\n",
       "       estimator=LogisticRegression(C=1.0, class_weight=None, dual=False, fit_intercept=True,\n",
       "          intercept_scaling=1, max_iter=100, multi_class='ovr', n_jobs=1,\n",
       "          penalty='l2', random_state=0, solver='liblinear', tol=0.0001,\n",
       "          verbose=0, warm_start=False),\n",
       "       fit_params=None, iid=True, n_jobs=-1,\n",
       "       param_grid=[{'C': [177, 178, 179, 180, 181]}],\n",
       "       pre_dispatch='2*n_jobs', refit=True, return_train_score=True,\n",
       "       scoring='roc_auc', verbose=51)"
      ]
     },
     "execution_count": 53,
     "metadata": {},
     "output_type": "execute_result"
    }
   ],
   "source": [
    "param_grid = [{ 'C' : [177,178,179,180,181] }]\n",
    "\n",
    "my_LgRg = LogisticRegression(penalty= 'l2', \n",
    "                            random_state = 0, \n",
    "                            class_weight = None) \n",
    "\n",
    "my_LgRg_grid_search = GridSearchCV(my_LgRg, \n",
    "                           param_grid, \n",
    "                           cv = 3, # for integer inputs, Stratified folding is default. \n",
    "                           return_train_score = True , \n",
    "                           scoring = 'roc_auc',\n",
    "                           n_jobs = -1, \n",
    "                           refit = True,\n",
    "                           verbose = 51,\n",
    "                            )\n",
    "\n",
    "my_LgRg_grid_search.fit(total_df_piped, total_df['TARGET'])"
   ]
  },
  {
   "cell_type": "code",
   "execution_count": null,
   "metadata": {
    "hidden": true
   },
   "outputs": [],
   "source": []
  },
  {
   "cell_type": "code",
   "execution_count": 54,
   "metadata": {
    "hidden": true
   },
   "outputs": [
    {
     "data": {
      "text/html": [
       "<div>\n",
       "<style scoped>\n",
       "    .dataframe tbody tr th:only-of-type {\n",
       "        vertical-align: middle;\n",
       "    }\n",
       "\n",
       "    .dataframe tbody tr th {\n",
       "        vertical-align: top;\n",
       "    }\n",
       "\n",
       "    .dataframe thead th {\n",
       "        text-align: right;\n",
       "    }\n",
       "</style>\n",
       "<table border=\"1\" class=\"dataframe\">\n",
       "  <thead>\n",
       "    <tr style=\"text-align: right;\">\n",
       "      <th></th>\n",
       "      <th>params</th>\n",
       "      <th>mean_test_score</th>\n",
       "    </tr>\n",
       "  </thead>\n",
       "  <tbody>\n",
       "    <tr>\n",
       "      <th>0</th>\n",
       "      <td>{'C': 177}</td>\n",
       "      <td>0.771302</td>\n",
       "    </tr>\n",
       "    <tr>\n",
       "      <th>1</th>\n",
       "      <td>{'C': 178}</td>\n",
       "      <td>0.771511</td>\n",
       "    </tr>\n",
       "    <tr>\n",
       "      <th>2</th>\n",
       "      <td>{'C': 179}</td>\n",
       "      <td>0.771586</td>\n",
       "    </tr>\n",
       "    <tr>\n",
       "      <th>3</th>\n",
       "      <td>{'C': 180}</td>\n",
       "      <td>0.771202</td>\n",
       "    </tr>\n",
       "    <tr>\n",
       "      <th>4</th>\n",
       "      <td>{'C': 181}</td>\n",
       "      <td>0.771135</td>\n",
       "    </tr>\n",
       "  </tbody>\n",
       "</table>\n",
       "</div>"
      ],
      "text/plain": [
       "       params  mean_test_score\n",
       "0  {'C': 177}  0.771302       \n",
       "1  {'C': 178}  0.771511       \n",
       "2  {'C': 179}  0.771586       \n",
       "3  {'C': 180}  0.771202       \n",
       "4  {'C': 181}  0.771135       "
      ]
     },
     "execution_count": 54,
     "metadata": {},
     "output_type": "execute_result"
    }
   ],
   "source": [
    "pd.set_option('display.max_colwidth', -1)\n",
    "pd.DataFrame(my_LgRg_grid_search.cv_results_)[['params','mean_test_score']]"
   ]
  },
  {
   "cell_type": "code",
   "execution_count": null,
   "metadata": {
    "hidden": true
   },
   "outputs": [],
   "source": []
  },
  {
   "cell_type": "code",
   "execution_count": 55,
   "metadata": {
    "hidden": true
   },
   "outputs": [
    {
     "data": {
      "text/plain": [
       "0.7715860050402779"
      ]
     },
     "execution_count": 55,
     "metadata": {},
     "output_type": "execute_result"
    }
   ],
   "source": [
    "my_LgRg_grid_search.best_score_"
   ]
  },
  {
   "cell_type": "code",
   "execution_count": null,
   "metadata": {
    "hidden": true
   },
   "outputs": [],
   "source": []
  },
  {
   "cell_type": "code",
   "execution_count": 56,
   "metadata": {
    "hidden": true
   },
   "outputs": [
    {
     "data": {
      "text/plain": [
       "{'C': 179}"
      ]
     },
     "execution_count": 56,
     "metadata": {},
     "output_type": "execute_result"
    }
   ],
   "source": [
    "LgRg_optimized_parms = my_LgRg_grid_search.best_params_\n",
    "LgRg_optimized_parms"
   ]
  },
  {
   "cell_type": "code",
   "execution_count": null,
   "metadata": {
    "hidden": true
   },
   "outputs": [],
   "source": []
  },
  {
   "cell_type": "code",
   "execution_count": 57,
   "metadata": {
    "hidden": true
   },
   "outputs": [
    {
     "data": {
      "text/plain": [
       "0.7738151103627916"
      ]
     },
     "execution_count": 57,
     "metadata": {},
     "output_type": "execute_result"
    }
   ],
   "source": [
    "train_scores = [x[1] for x in my_LgRg_grid_search.predict_proba(total_df_piped)]\n",
    "roc_auc_score(total_df['TARGET'], train_scores)"
   ]
  },
  {
   "cell_type": "code",
   "execution_count": null,
   "metadata": {
    "hidden": true
   },
   "outputs": [],
   "source": []
  },
  {
   "cell_type": "code",
   "execution_count": 58,
   "metadata": {
    "hidden": true
   },
   "outputs": [],
   "source": [
    "del my_LgRg_grid_search"
   ]
  },
  {
   "cell_type": "code",
   "execution_count": null,
   "metadata": {
    "hidden": true
   },
   "outputs": [],
   "source": []
  },
  {
   "cell_type": "markdown",
   "metadata": {
    "heading_collapsed": true
   },
   "source": [
    "### DONE. MLP Classifier"
   ]
  },
  {
   "cell_type": "code",
   "execution_count": null,
   "metadata": {
    "hidden": true
   },
   "outputs": [],
   "source": []
  },
  {
   "cell_type": "raw",
   "metadata": {
    "hidden": true
   },
   "source": [
    "Results:\n",
    "\n",
    "input:\n",
    "param_dist_dict =  { 'alpha' :         [.1,.5,1],\n",
    "                    'hidden_layer_sizes' : [(40, ),(50, ),(100, ),(150, ),(200, )],\n",
    "                    }\n",
    "                    \n",
    "output: \n",
    "{'alpha': 0.1, 'hidden_layer_sizes': (40,)}\n",
    "best_score = 0.7670088768612681, train_score = 0.7706656650820902\n",
    "\n",
    "input:\n",
    "param_dist_dict =  { 'alpha' :         [.1,.3,.5],\n",
    "                    'hidden_layer_sizes' : [(10, ),(20, ),(30, ),(40, )],\n",
    "                    }\n",
    "                    \n",
    "output:                     \n",
    "{'alpha': 0.1, 'hidden_layer_sizes': (40,)}\n",
    "best_score =0.7670088768612681, test_score = 0.7706656650820902\n",
    "\n",
    "input: \n",
    "param_dist_dict =  { 'alpha' :         [.05,.07,.1],\n",
    "                    'hidden_layer_sizes' : [(35, ),(40, ),(45, )],\n",
    "                    }\n",
    "output:     \n",
    "{'alpha': 0.1, 'hidden_layer_sizes': (40,)}\n",
    "best_score = 0.7670088768612681, train_score = 0.7706656650820902\n",
    "\n",
    "input:\n",
    "param_dist_dict =  { 'alpha' :         [.08,.1,.2,.4,1],\n",
    "                    'hidden_layer_sizes' : [(37, ),(40, ),(43, )],\n",
    "                    }\n",
    "output:\n",
    "{'alpha': 0.1, 'hidden_layer_sizes': (40,)}\n",
    "best_score = 0.7670088768612681, test_score = 0.7706656650820902\n",
    "\n",
    "******************************************************************\n",
    "Switching to training on full set. And some slightly new level 1 results. \n",
    "******************************************************************\n",
    "\n",
    "input:\n",
    "param_dist_dict =  { 'alpha' :         [.09,.10,.12,.14,.16,.18],\n",
    "                    'hidden_layer_sizes' : [(38, ),(39, ),(40, ),(41, ),(42, ),(43, )],\n",
    "                    }\n",
    "output: \n",
    "{'alpha': 0.09, 'hidden_layer_sizes': (43,)}\n",
    "best_score = 0.7675439018233958, train_score = 0.7715119433453217\n",
    "\n",
    "input: \n",
    "param_dist_dict =  { 'alpha' :         [.01,.05,.10],\n",
    "                    'hidden_layer_sizes' : [(40, ),(43, ),(50, ),(70, ),(100, )],\n",
    "                    }\n",
    "output:\n",
    "{'alpha': 0.05, 'hidden_layer_sizes': (100,)}\n",
    "best_score = 0.7676977241901013, train_score = 0.7742670832402382\n",
    "\n",
    "input: \n",
    "param_dist_dict =  { 'alpha' :         [.05],\n",
    "                    'hidden_layer_sizes' : [(80, ),(100, ),(120, ),(140, ),(160, )],\n",
    "                    }\n",
    "output:\n",
    "{'alpha': 0.05, 'hidden_layer_sizes': (100,)}\n",
    "best_score = , train_score = 0.7742670832402382\n",
    "\n",
    "input:\n",
    "param_dist_dict =  { 'alpha' :         [.03,.05,.08],\n",
    "                    'hidden_layer_sizes' : [(90,),(100, ),(110, ),(120,)],\n",
    "                    }\n",
    "output:                    \n",
    "{'alpha': 0.05, 'hidden_layer_sizes': (100,)}\n",
    "best_score = 0.7676977241901013, train_score = 0.7742670832402382\n",
    "\n",
    "input: \n",
    "param_dist_dict =  { 'alpha' :         [.03,.05,.07],\n",
    "                    'hidden_layer_sizes' : [(93,),(97, ),(100, ),(103,),(107, )],\n",
    "                    }\n",
    "                    \n",
    "output:   \n",
    "{'alpha': 0.05, 'hidden_layer_sizes': (100,)}\n",
    "best_score = 0.7676977241901013, train_score = 0.7742670832402382\n",
    "\n",
    "\n",
    "\n",
    "******************************************************************\n",
    "Restarting (Fix leaked level 1 results.  )\n",
    "******************************************************************\n",
    "\n",
    "input: \n",
    "param_dist_dict =  { 'alpha' :         [.01,.05,.1],\n",
    "                    'hidden_layer_sizes' : [(30, ),(40, ),(50, ),(70, ),(100, )],\n",
    "                    }\n",
    "output: \n",
    "{'alpha': 0.05, 'hidden_layer_sizes': (50,)}\n",
    "best_score = 0.7675229837136625, train_score = 0.7733901342992994\n",
    "\n",
    "input: \n",
    "param_dist_dict =  { 'alpha' :         [.03,.05,.07],\n",
    "                    'hidden_layer_sizes' : [(45, ),(50, ),(55, )],\n",
    "                    }\n",
    "output: \n",
    "{'alpha': 0.05, 'hidden_layer_sizes': (55,)}\n",
    "best_score = 0.7678962576420044, train_score = 0.7760116364383361\n",
    "\n",
    "input: \n",
    "param_dist_dict =  { 'alpha' :         [.04,.05,.06],\n",
    "                    'hidden_layer_sizes' : [(52,),(55, ),(60, ),(65, )],\n",
    "                    }\n",
    "output: \n",
    "{'alpha': 0.05, 'hidden_layer_sizes': (55,)}\n",
    "best_score = 0.7678962576420044, train_score = 0.7760116364383361\n"
   ]
  },
  {
   "cell_type": "code",
   "execution_count": null,
   "metadata": {
    "hidden": true
   },
   "outputs": [],
   "source": []
  },
  {
   "cell_type": "code",
   "execution_count": 72,
   "metadata": {
    "hidden": true
   },
   "outputs": [],
   "source": [
    "param_dist_dict =  { 'alpha' :         [.04,.05,.06],\n",
    "                    'hidden_layer_sizes' : [(52,),(55, ),(60, ),(65, )],\n",
    "                    }"
   ]
  },
  {
   "cell_type": "code",
   "execution_count": null,
   "metadata": {
    "hidden": true
   },
   "outputs": [],
   "source": []
  },
  {
   "cell_type": "code",
   "execution_count": 73,
   "metadata": {
    "collapsed": true,
    "hidden": true
   },
   "outputs": [
    {
     "name": "stdout",
     "output_type": "stream",
     "text": [
      "Fitting 3 folds for each of 12 candidates, totalling 36 fits\n",
      "Memmaping (shape=(79337838,), dtype=int32) to new file /dev/shm/joblib_memmaping_pool_3195_140475080234376/3195-140473957820456-7425de812d76baf4d8183fd11603bedf.pkl\n",
      "Memmaping (shape=(307512,), dtype=int32) to new file /dev/shm/joblib_memmaping_pool_3195_140475080234376/3195-140473957820456-511e4e07e852e42372cd1047cfce8c24.pkl\n",
      "Memmaping (shape=(79337838,), dtype=float64) to new file /dev/shm/joblib_memmaping_pool_3195_140475080234376/3195-140473957820456-36f0cabefc9e949ddca5595172ca52f7.pkl\n",
      "[CV] alpha=0.04, hidden_layer_sizes=(52,) ............................\n",
      "Memmaping (shape=(307511,), dtype=int64) to new file /dev/shm/joblib_memmaping_pool_3195_140475080234376/3195-140473957820456-36f41ebc26c9047822d0779f2962f9e3.pkl\n",
      "Memmaping (shape=(307511,), dtype=int64) to new file /dev/shm/joblib_memmaping_pool_3195_140475080234376/3195-140473957820456-7fee98903a11851f0c36b343c7ef5338.pkl\n",
      "Memmaping (shape=(205007,), dtype=int64) to new file /dev/shm/joblib_memmaping_pool_3195_140475080234376/3195-140473957820456-981b55e712abb5a5a2369212f2856f0a.pkl\n",
      "[CV] alpha=0.04, hidden_layer_sizes=(52,) ............................\n",
      "Memmaping (shape=(205007,), dtype=int64) to new file /dev/shm/joblib_memmaping_pool_3195_140475080234376/3195-140473957820456-52b45483e9e8ae50702a4dfc49cfc8ef.pkl\n",
      "[CV] alpha=0.04, hidden_layer_sizes=(52,) ............................\n",
      "Memmaping (shape=(205008,), dtype=int64) to new file /dev/shm/joblib_memmaping_pool_3195_140475080234376/3195-140473957820456-14cff63d81a68491cd383c416c29ffaa.pkl\n",
      "[CV] alpha=0.04, hidden_layer_sizes=(55,) ............................\n",
      "[CV] alpha=0.04, hidden_layer_sizes=(55,) ............................\n",
      "[CV] alpha=0.04, hidden_layer_sizes=(55,) ............................\n",
      "[CV] alpha=0.04, hidden_layer_sizes=(60,) ............................\n",
      "[CV] alpha=0.04, hidden_layer_sizes=(60,) ............................\n",
      "[CV]  alpha=0.04, hidden_layer_sizes=(60,), score=0.7655671932993221, total= 9.7min\n",
      "[CV] alpha=0.04, hidden_layer_sizes=(60,) ............................\n",
      "[Parallel(n_jobs=-1)]: Done   1 tasks      | elapsed: 10.2min\n",
      "[CV]  alpha=0.04, hidden_layer_sizes=(52,), score=0.766784246349263, total=11.8min\n",
      "[CV] alpha=0.04, hidden_layer_sizes=(65,) ............................\n",
      "[Parallel(n_jobs=-1)]: Done   2 tasks      | elapsed: 12.5min\n",
      "[CV]  alpha=0.04, hidden_layer_sizes=(52,), score=0.7623298002016621, total=12.1min\n",
      "[CV] alpha=0.04, hidden_layer_sizes=(65,) ............................\n",
      "[Parallel(n_jobs=-1)]: Done   3 tasks      | elapsed: 12.6min\n",
      "[CV]  alpha=0.04, hidden_layer_sizes=(52,), score=0.76957542975725, total=12.1min\n",
      "[CV] alpha=0.04, hidden_layer_sizes=(65,) ............................\n",
      "[Parallel(n_jobs=-1)]: Done   4 tasks      | elapsed: 12.7min\n",
      "[CV]  alpha=0.04, hidden_layer_sizes=(55,), score=0.7663214386216467, total=12.2min\n",
      "[CV] alpha=0.05, hidden_layer_sizes=(52,) ............................\n",
      "[Parallel(n_jobs=-1)]: Done   5 tasks      | elapsed: 13.0min\n",
      "[CV]  alpha=0.04, hidden_layer_sizes=(60,), score=0.7621034556843409, total=13.0min\n",
      "[CV] alpha=0.05, hidden_layer_sizes=(52,) ............................\n",
      "[Parallel(n_jobs=-1)]: Done   6 tasks      | elapsed: 13.9min\n",
      "[CV]  alpha=0.04, hidden_layer_sizes=(55,), score=0.7699231804787436, total=15.1min\n",
      "[CV] alpha=0.05, hidden_layer_sizes=(52,) ............................\n",
      "[Parallel(n_jobs=-1)]: Done   7 tasks      | elapsed: 16.5min\n",
      "[CV]  alpha=0.05, hidden_layer_sizes=(52,), score=0.7706284775360709, total= 7.0min\n",
      "[CV] alpha=0.05, hidden_layer_sizes=(55,) ............................\n",
      "[Parallel(n_jobs=-1)]: Done   8 tasks      | elapsed: 23.6min\n",
      "[CV]  alpha=0.04, hidden_layer_sizes=(55,), score=0.7626356412235936, total=23.1min\n",
      "[CV] alpha=0.05, hidden_layer_sizes=(55,) ............................\n",
      "[Parallel(n_jobs=-1)]: Done   9 tasks      | elapsed: 25.2min\n",
      "[CV]  alpha=0.05, hidden_layer_sizes=(52,), score=0.7670484865901188, total=12.0min\n",
      "[CV] alpha=0.05, hidden_layer_sizes=(55,) ............................\n",
      "[Parallel(n_jobs=-1)]: Done  10 tasks      | elapsed: 25.8min\n",
      "[CV]  alpha=0.04, hidden_layer_sizes=(65,), score=0.76452588617195, total=13.1min\n",
      "[CV] alpha=0.05, hidden_layer_sizes=(60,) ............................\n",
      "[Parallel(n_jobs=-1)]: Done  11 tasks      | elapsed: 26.4min\n",
      "[CV]  alpha=0.05, hidden_layer_sizes=(52,), score=0.7637025676247545, total=12.0min\n",
      "[CV] alpha=0.05, hidden_layer_sizes=(60,) ............................\n",
      "[Parallel(n_jobs=-1)]: Done  12 tasks      | elapsed: 26.7min\n",
      "[CV]  alpha=0.05, hidden_layer_sizes=(55,), score=0.7655434073172449, total= 7.3min\n",
      "[CV] alpha=0.05, hidden_layer_sizes=(60,) ............................\n",
      "[Parallel(n_jobs=-1)]: Done  13 tasks      | elapsed: 32.7min\n",
      "[CV]  alpha=0.05, hidden_layer_sizes=(55,), score=0.7667890466366905, total= 9.9min\n",
      "[CV] alpha=0.05, hidden_layer_sizes=(65,) ............................\n",
      "[Parallel(n_jobs=-1)]: Done  14 tasks      | elapsed: 34.0min\n",
      "[CV]  alpha=0.04, hidden_layer_sizes=(65,), score=0.770266677200137, total=20.2min\n",
      "[CV] alpha=0.05, hidden_layer_sizes=(65,) ............................\n",
      "[Parallel(n_jobs=-1)]: Done  15 tasks      | elapsed: 35.0min\n",
      "[CV]  alpha=0.05, hidden_layer_sizes=(60,), score=0.7655876320331529, total= 9.0min\n",
      "[CV] alpha=0.05, hidden_layer_sizes=(65,) ............................\n",
      "[Parallel(n_jobs=-1)]: Done  16 tasks      | elapsed: 35.7min\n",
      "[CV]  alpha=0.05, hidden_layer_sizes=(60,), score=0.7627042880269925, total=12.5min\n",
      "[CV] alpha=0.06, hidden_layer_sizes=(52,) ............................\n",
      "[Parallel(n_jobs=-1)]: Done  17 tasks      | elapsed: 39.7min\n",
      "[CV]  alpha=0.04, hidden_layer_sizes=(60,), score=0.7703316119402871, total=27.2min\n",
      "[CV] alpha=0.06, hidden_layer_sizes=(52,) ............................\n",
      "[Parallel(n_jobs=-1)]: Done  18 tasks      | elapsed: 40.0min\n",
      "[CV]  alpha=0.05, hidden_layer_sizes=(65,), score=0.7674690587137161, total= 6.7min\n",
      "[CV] alpha=0.06, hidden_layer_sizes=(52,) ............................\n",
      "[Parallel(n_jobs=-1)]: Done  19 tasks      | elapsed: 40.8min\n",
      "[CV]  alpha=0.05, hidden_layer_sizes=(55,), score=0.7713563527277862, total=14.3min\n",
      "[CV] alpha=0.06, hidden_layer_sizes=(55,) ............................\n",
      "[Parallel(n_jobs=-1)]: Done  20 tasks      | elapsed: 41.2min\n",
      "[CV]  alpha=0.04, hidden_layer_sizes=(65,), score=0.7637662660153726, total=26.6min\n",
      "[CV] alpha=0.06, hidden_layer_sizes=(55,) ............................\n",
      "[Parallel(n_jobs=-1)]: Done  21 tasks      | elapsed: 41.4min\n",
      "[CV]  alpha=0.05, hidden_layer_sizes=(60,), score=0.7689672783133076, total= 8.8min\n",
      "[CV] alpha=0.06, hidden_layer_sizes=(55,) ............................\n",
      "[Parallel(n_jobs=-1)]: Done  22 out of  36 | elapsed: 41.7min remaining: 26.6min\n",
      "[CV]  alpha=0.06, hidden_layer_sizes=(52,), score=0.7650952120595582, total= 7.7min\n",
      "[CV] alpha=0.06, hidden_layer_sizes=(60,) ............................\n",
      "[Parallel(n_jobs=-1)]: Done  23 out of  36 | elapsed: 47.8min remaining: 27.0min\n",
      "[CV]  alpha=0.06, hidden_layer_sizes=(52,), score=0.769220272689486, total= 7.7min\n",
      "[CV] alpha=0.06, hidden_layer_sizes=(60,) ............................\n",
      "[Parallel(n_jobs=-1)]: Done  24 out of  36 | elapsed: 48.6min remaining: 24.3min\n",
      "[CV]  alpha=0.05, hidden_layer_sizes=(65,), score=0.765403516707498, total=12.8min\n",
      "[CV] alpha=0.06, hidden_layer_sizes=(60,) ............................\n",
      "[Parallel(n_jobs=-1)]: Done  25 out of  36 | elapsed: 48.7min remaining: 21.4min\n",
      "[CV]  alpha=0.06, hidden_layer_sizes=(55,), score=0.7666331456640678, total= 7.5min\n",
      "[CV] alpha=0.06, hidden_layer_sizes=(65,) ............................\n",
      "[Parallel(n_jobs=-1)]: Done  26 out of  36 | elapsed: 48.8min remaining: 18.8min\n",
      "[CV]  alpha=0.06, hidden_layer_sizes=(55,), score=0.765822956409562, total= 7.4min\n",
      "[CV] alpha=0.06, hidden_layer_sizes=(65,) ............................\n",
      "[Parallel(n_jobs=-1)]: Done  27 out of  36 | elapsed: 48.9min remaining: 16.3min\n",
      "[CV]  alpha=0.05, hidden_layer_sizes=(65,), score=0.7683266120473744, total=14.2min\n",
      "[CV] alpha=0.06, hidden_layer_sizes=(65,) ............................\n",
      "[Parallel(n_jobs=-1)]: Done  28 out of  36 | elapsed: 51.2min remaining: 14.6min\n",
      "[CV]  alpha=0.06, hidden_layer_sizes=(52,), score=0.767340960421066, total=11.6min\n"
     ]
    },
    {
     "name": "stdout",
     "output_type": "stream",
     "text": [
      "[Parallel(n_jobs=-1)]: Done  29 out of  36 | elapsed: 52.2min remaining: 12.6min\n",
      "[CV]  alpha=0.06, hidden_layer_sizes=(55,), score=0.7652482754755549, total=11.4min\n",
      "[Parallel(n_jobs=-1)]: Done  30 out of  36 | elapsed: 53.8min remaining: 10.8min\n",
      "[CV]  alpha=0.06, hidden_layer_sizes=(65,), score=0.7669415990785962, total= 6.6min\n",
      "[Parallel(n_jobs=-1)]: Done  31 out of  36 | elapsed: 55.5min remaining:  8.9min\n",
      "[CV]  alpha=0.06, hidden_layer_sizes=(65,), score=0.766134188937864, total= 6.5min\n",
      "[Parallel(n_jobs=-1)]: Done  32 out of  36 | elapsed: 55.6min remaining:  6.9min\n",
      "[CV]  alpha=0.06, hidden_layer_sizes=(60,), score=0.7650163862870678, total= 7.8min\n",
      "[Parallel(n_jobs=-1)]: Done  33 out of  36 | elapsed: 55.7min remaining:  5.1min\n",
      "[CV]  alpha=0.06, hidden_layer_sizes=(60,), score=0.7686361896265752, total= 7.5min\n",
      "[Parallel(n_jobs=-1)]: Done  34 out of  36 | elapsed: 56.3min remaining:  3.3min\n",
      "[CV]  alpha=0.06, hidden_layer_sizes=(60,), score=0.763941586157705, total= 8.3min\n",
      "[CV]  alpha=0.06, hidden_layer_sizes=(65,), score=0.7684266624874782, total= 7.0min\n",
      "[Parallel(n_jobs=-1)]: Done  36 out of  36 | elapsed: 58.6min remaining:    0.0s\n",
      "[Parallel(n_jobs=-1)]: Done  36 out of  36 | elapsed: 58.6min finished\n"
     ]
    },
    {
     "data": {
      "text/plain": [
       "GridSearchCV(cv=3, error_score='raise',\n",
       "       estimator=MLPClassifier(activation='relu', alpha=0.0001, batch_size='auto', beta_1=0.9,\n",
       "       beta_2=0.999, early_stopping=False, epsilon=1e-08,\n",
       "       hidden_layer_sizes=(100,), learning_rate='constant',\n",
       "       learning_rate_init=0.001, max_iter=200, momentum=0.9,\n",
       "       nesterovs_momentum=True, power_t=0.5, random_state=0, shuffle=True,\n",
       "       solver='adam', tol=0.0001, validation_fraction=0.1, verbose=False,\n",
       "       warm_start=False),\n",
       "       fit_params=None, iid=True, n_jobs=-1,\n",
       "       param_grid={'alpha': [0.04, 0.05, 0.06], 'hidden_layer_sizes': [(52,), (55,), (60,), (65,)]},\n",
       "       pre_dispatch='2*n_jobs', refit=True, return_train_score=True,\n",
       "       scoring='roc_auc', verbose=51)"
      ]
     },
     "execution_count": 73,
     "metadata": {},
     "output_type": "execute_result"
    }
   ],
   "source": [
    "my_MLP = MLPClassifier(random_state=0, \n",
    "                       tol=0.0001, \n",
    "                     #  verbose=51, \n",
    "                       warm_start=False, \n",
    "                       momentum=0.9)\n",
    "\n",
    "\n",
    "my_grid_search = GridSearchCV(my_MLP, \n",
    "                                param_dist_dict, \n",
    "                                cv = 3,\n",
    "                                return_train_score = True , \n",
    "                                scoring = 'roc_auc',\n",
    "                                n_jobs = -1, \n",
    "                                refit = True,\n",
    "                                verbose = 51, \n",
    "                                        )\n",
    "\n",
    "my_grid_search.fit(total_df_piped, total_df['TARGET'])"
   ]
  },
  {
   "cell_type": "code",
   "execution_count": null,
   "metadata": {
    "hidden": true
   },
   "outputs": [],
   "source": []
  },
  {
   "cell_type": "code",
   "execution_count": 74,
   "metadata": {
    "hidden": true
   },
   "outputs": [
    {
     "data": {
      "text/html": [
       "<div>\n",
       "<style scoped>\n",
       "    .dataframe tbody tr th:only-of-type {\n",
       "        vertical-align: middle;\n",
       "    }\n",
       "\n",
       "    .dataframe tbody tr th {\n",
       "        vertical-align: top;\n",
       "    }\n",
       "\n",
       "    .dataframe thead th {\n",
       "        text-align: right;\n",
       "    }\n",
       "</style>\n",
       "<table border=\"1\" class=\"dataframe\">\n",
       "  <thead>\n",
       "    <tr style=\"text-align: right;\">\n",
       "      <th></th>\n",
       "      <th>params</th>\n",
       "      <th>mean_test_score</th>\n",
       "    </tr>\n",
       "  </thead>\n",
       "  <tbody>\n",
       "    <tr>\n",
       "      <th>0</th>\n",
       "      <td>{'alpha': 0.04, 'hidden_layer_sizes': (52,)}</td>\n",
       "      <td>0.766230</td>\n",
       "    </tr>\n",
       "    <tr>\n",
       "      <th>1</th>\n",
       "      <td>{'alpha': 0.04, 'hidden_layer_sizes': (55,)}</td>\n",
       "      <td>0.766293</td>\n",
       "    </tr>\n",
       "    <tr>\n",
       "      <th>2</th>\n",
       "      <td>{'alpha': 0.04, 'hidden_layer_sizes': (60,)}</td>\n",
       "      <td>0.766001</td>\n",
       "    </tr>\n",
       "    <tr>\n",
       "      <th>3</th>\n",
       "      <td>{'alpha': 0.04, 'hidden_layer_sizes': (65,)}</td>\n",
       "      <td>0.766186</td>\n",
       "    </tr>\n",
       "    <tr>\n",
       "      <th>4</th>\n",
       "      <td>{'alpha': 0.05, 'hidden_layer_sizes': (52,)}</td>\n",
       "      <td>0.767126</td>\n",
       "    </tr>\n",
       "    <tr>\n",
       "      <th>5</th>\n",
       "      <td>{'alpha': 0.05, 'hidden_layer_sizes': (55,)}</td>\n",
       "      <td>0.767896</td>\n",
       "    </tr>\n",
       "    <tr>\n",
       "      <th>6</th>\n",
       "      <td>{'alpha': 0.05, 'hidden_layer_sizes': (60,)}</td>\n",
       "      <td>0.765753</td>\n",
       "    </tr>\n",
       "    <tr>\n",
       "      <th>7</th>\n",
       "      <td>{'alpha': 0.05, 'hidden_layer_sizes': (65,)}</td>\n",
       "      <td>0.767066</td>\n",
       "    </tr>\n",
       "    <tr>\n",
       "      <th>8</th>\n",
       "      <td>{'alpha': 0.06, 'hidden_layer_sizes': (52,)}</td>\n",
       "      <td>0.767219</td>\n",
       "    </tr>\n",
       "    <tr>\n",
       "      <th>9</th>\n",
       "      <td>{'alpha': 0.06, 'hidden_layer_sizes': (55,)}</td>\n",
       "      <td>0.765901</td>\n",
       "    </tr>\n",
       "    <tr>\n",
       "      <th>10</th>\n",
       "      <td>{'alpha': 0.06, 'hidden_layer_sizes': (60,)}</td>\n",
       "      <td>0.765865</td>\n",
       "    </tr>\n",
       "    <tr>\n",
       "      <th>11</th>\n",
       "      <td>{'alpha': 0.06, 'hidden_layer_sizes': (65,)}</td>\n",
       "      <td>0.767167</td>\n",
       "    </tr>\n",
       "  </tbody>\n",
       "</table>\n",
       "</div>"
      ],
      "text/plain": [
       "                                          params  mean_test_score\n",
       "0   {'alpha': 0.04, 'hidden_layer_sizes': (52,)}  0.766230       \n",
       "1   {'alpha': 0.04, 'hidden_layer_sizes': (55,)}  0.766293       \n",
       "2   {'alpha': 0.04, 'hidden_layer_sizes': (60,)}  0.766001       \n",
       "3   {'alpha': 0.04, 'hidden_layer_sizes': (65,)}  0.766186       \n",
       "4   {'alpha': 0.05, 'hidden_layer_sizes': (52,)}  0.767126       \n",
       "5   {'alpha': 0.05, 'hidden_layer_sizes': (55,)}  0.767896       \n",
       "6   {'alpha': 0.05, 'hidden_layer_sizes': (60,)}  0.765753       \n",
       "7   {'alpha': 0.05, 'hidden_layer_sizes': (65,)}  0.767066       \n",
       "8   {'alpha': 0.06, 'hidden_layer_sizes': (52,)}  0.767219       \n",
       "9   {'alpha': 0.06, 'hidden_layer_sizes': (55,)}  0.765901       \n",
       "10  {'alpha': 0.06, 'hidden_layer_sizes': (60,)}  0.765865       \n",
       "11  {'alpha': 0.06, 'hidden_layer_sizes': (65,)}  0.767167       "
      ]
     },
     "execution_count": 74,
     "metadata": {},
     "output_type": "execute_result"
    }
   ],
   "source": [
    "pd.set_option('display.max_colwidth', -1)\n",
    "pd.DataFrame(my_grid_search.cv_results_)[['params','mean_test_score']]"
   ]
  },
  {
   "cell_type": "code",
   "execution_count": null,
   "metadata": {
    "hidden": true
   },
   "outputs": [],
   "source": []
  },
  {
   "cell_type": "code",
   "execution_count": 75,
   "metadata": {
    "hidden": true
   },
   "outputs": [
    {
     "data": {
      "text/plain": [
       "0.7678962576420044"
      ]
     },
     "execution_count": 75,
     "metadata": {},
     "output_type": "execute_result"
    }
   ],
   "source": [
    "my_grid_search.best_score_"
   ]
  },
  {
   "cell_type": "code",
   "execution_count": null,
   "metadata": {
    "hidden": true
   },
   "outputs": [],
   "source": []
  },
  {
   "cell_type": "code",
   "execution_count": 76,
   "metadata": {
    "hidden": true
   },
   "outputs": [
    {
     "data": {
      "text/plain": [
       "{'alpha': 0.05, 'hidden_layer_sizes': (55,)}"
      ]
     },
     "execution_count": 76,
     "metadata": {},
     "output_type": "execute_result"
    }
   ],
   "source": [
    "my_grid_search_optimized_parms = my_grid_search.best_params_\n",
    "my_grid_search_optimized_parms"
   ]
  },
  {
   "cell_type": "code",
   "execution_count": null,
   "metadata": {
    "hidden": true
   },
   "outputs": [],
   "source": []
  },
  {
   "cell_type": "code",
   "execution_count": 77,
   "metadata": {
    "hidden": true
   },
   "outputs": [
    {
     "data": {
      "text/plain": [
       "0.7760116364383361"
      ]
     },
     "execution_count": 77,
     "metadata": {},
     "output_type": "execute_result"
    }
   ],
   "source": [
    "train_scores = [x[1] for x in my_grid_search.predict_proba(total_df_piped)]\n",
    "roc_auc_score(total_df['TARGET'], train_scores)"
   ]
  },
  {
   "cell_type": "code",
   "execution_count": null,
   "metadata": {
    "hidden": true
   },
   "outputs": [],
   "source": []
  },
  {
   "cell_type": "code",
   "execution_count": 78,
   "metadata": {
    "hidden": true
   },
   "outputs": [],
   "source": [
    "del my_grid_search"
   ]
  },
  {
   "cell_type": "code",
   "execution_count": null,
   "metadata": {
    "hidden": true
   },
   "outputs": [],
   "source": []
  },
  {
   "cell_type": "code",
   "execution_count": null,
   "metadata": {
    "hidden": true
   },
   "outputs": [],
   "source": []
  }
 ],
 "metadata": {
  "kernelspec": {
   "display_name": "Python 3",
   "language": "python",
   "name": "python3"
  },
  "language_info": {
   "codemirror_mode": {
    "name": "ipython",
    "version": 3
   },
   "file_extension": ".py",
   "mimetype": "text/x-python",
   "name": "python",
   "nbconvert_exporter": "python",
   "pygments_lexer": "ipython3",
   "version": "3.6.6"
  },
  "latex_envs": {
   "LaTeX_envs_menu_present": true,
   "autocomplete": true,
   "bibliofile": "biblio.bib",
   "cite_by": "apalike",
   "current_citInitial": 1,
   "eqLabelWithNumbers": true,
   "eqNumInitial": 1,
   "hotkeys": {
    "equation": "Ctrl-E",
    "itemize": "Ctrl-I"
   },
   "labels_anchors": false,
   "latex_user_defs": false,
   "report_style_numbering": false,
   "user_envs_cfg": false
  },
  "toc": {
   "nav_menu": {},
   "number_sections": true,
   "sideBar": true,
   "skip_h1_title": false,
   "toc_cell": false,
   "toc_position": {},
   "toc_section_display": "none",
   "toc_window_display": false
  },
  "varInspector": {
   "cols": {
    "lenName": 16,
    "lenType": 16,
    "lenVar": 40
   },
   "kernels_config": {
    "python": {
     "delete_cmd_postfix": "",
     "delete_cmd_prefix": "del ",
     "library": "var_list.py",
     "varRefreshCmd": "print(var_dic_list())"
    },
    "r": {
     "delete_cmd_postfix": ") ",
     "delete_cmd_prefix": "rm(",
     "library": "var_list.r",
     "varRefreshCmd": "cat(var_dic_list()) "
    }
   },
   "oldHeight": 1038.5,
   "position": {
    "height": "852px",
    "left": "1314px",
    "right": "46px",
    "top": "121px",
    "width": "800px"
   },
   "types_to_exclude": [
    "module",
    "function",
    "builtin_function_or_method",
    "instance",
    "_Feature"
   ],
   "varInspector_section_display": "block",
   "window_display": false
  }
 },
 "nbformat": 4,
 "nbformat_minor": 2
}
