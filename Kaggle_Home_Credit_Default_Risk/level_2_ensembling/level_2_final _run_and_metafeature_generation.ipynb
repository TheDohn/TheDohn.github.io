{
 "cells": [
  {
   "cell_type": "code",
   "execution_count": null,
   "metadata": {},
   "outputs": [],
   "source": []
  },
  {
   "cell_type": "code",
   "execution_count": 1,
   "metadata": {
    "scrolled": true
   },
   "outputs": [
    {
     "data": {
      "text/plain": [
       "('0.23.3', '1.14.2')"
      ]
     },
     "execution_count": 1,
     "metadata": {},
     "output_type": "execute_result"
    }
   ],
   "source": [
    "import pandas as pd\n",
    "\n",
    "import numpy as np\n",
    "\n",
    "import matplotlib.pyplot as plt\n",
    "import seaborn as sns\n",
    "sns.set(context = 'notebook', #mostly controls relative sizes of things on plot \n",
    "                        #The base context is “notebook”, and the other contexts are “paper”, “talk”, and “poster”\n",
    "        style = 'darkgrid', #dict, None, or one of {darkgrid, whitegrid, dark, white, ticks}\n",
    "        palette = 'deep', # Should be something that color_palette() can process.\n",
    "        font_scale = 1, \n",
    "        color_codes = False, \n",
    "        rc = None)\n",
    "\n",
    "# from IPython.core.interactiveshell import InteractiveShell \n",
    "# InteractiveShell.ast_node_interactivity = 'last_expr' \n",
    "# setting = \"all\" allows multiple outputs to be displayed for a given input cell. don't use w plotting!\n",
    "\n",
    "from IPython.display import display\n",
    "\n",
    "%matplotlib notebook\n",
    "##%matplotlib inline\n",
    "\n",
    "pd.__version__ , np.__version__ #,  matplotlib.__version__, sns.__version__"
   ]
  },
  {
   "cell_type": "code",
   "execution_count": null,
   "metadata": {},
   "outputs": [],
   "source": []
  },
  {
   "cell_type": "code",
   "execution_count": 2,
   "metadata": {},
   "outputs": [],
   "source": [
    "from sklearn.model_selection import train_test_split, learning_curve, KFold, StratifiedKFold, \\\n",
    "                                    ShuffleSplit, GridSearchCV, RandomizedSearchCV, cross_val_predict\n",
    "\n",
    "from sklearn.metrics import roc_auc_score\n",
    "\n",
    "from sklearn.ensemble import RandomForestClassifier\n",
    "from sklearn.linear_model import LogisticRegression\n",
    "from sklearn.neural_network import MLPClassifier\n",
    "from sklearn.ensemble import AdaBoostClassifier\n",
    "\n",
    "from sklearn.tree import DecisionTreeClassifier\n",
    "\n",
    "from sklearn.externals import joblib"
   ]
  },
  {
   "cell_type": "code",
   "execution_count": null,
   "metadata": {
    "scrolled": true
   },
   "outputs": [],
   "source": []
  },
  {
   "cell_type": "code",
   "execution_count": 3,
   "metadata": {},
   "outputs": [
    {
     "name": "stdout",
     "output_type": "stream",
     "text": [
      "/Users/DonBunk/Desktop/Google Drive/data_science/Python_Projects/Home_Credit_Default_Risk\n"
     ]
    }
   ],
   "source": [
    "cd '/Users/DonBunk/Desktop/Google Drive/data_science/Python_Projects/Home_Credit_Default_Risk/'"
   ]
  },
  {
   "cell_type": "code",
   "execution_count": 4,
   "metadata": {},
   "outputs": [],
   "source": [
    "from Home_Credit_package.master_pipeline import master_pipeline\n",
    "from Home_Credit_package.Dons_functions import balanced_sample"
   ]
  },
  {
   "cell_type": "code",
   "execution_count": null,
   "metadata": {},
   "outputs": [],
   "source": []
  },
  {
   "cell_type": "code",
   "execution_count": 5,
   "metadata": {},
   "outputs": [],
   "source": [
    "model_save_path = 'saved_models/level_2_models/'"
   ]
  },
  {
   "cell_type": "code",
   "execution_count": null,
   "metadata": {},
   "outputs": [],
   "source": []
  },
  {
   "cell_type": "markdown",
   "metadata": {
    "heading_collapsed": true
   },
   "source": [
    "# load this"
   ]
  },
  {
   "cell_type": "code",
   "execution_count": null,
   "metadata": {
    "hidden": true
   },
   "outputs": [],
   "source": []
  },
  {
   "cell_type": "markdown",
   "metadata": {
    "heading_collapsed": true,
    "hidden": true
   },
   "source": [
    "## load df."
   ]
  },
  {
   "cell_type": "code",
   "execution_count": null,
   "metadata": {
    "hidden": true
   },
   "outputs": [],
   "source": []
  },
  {
   "cell_type": "code",
   "execution_count": 6,
   "metadata": {
    "hidden": true
   },
   "outputs": [],
   "source": [
    "o_path = 'wrangling/TRAINING_DATA_create_final_wrangled_csv/'\n",
    "L1_mf_path = 'level_1_ensembling/'\n",
    "original_cleaned_df = pd.read_csv(o_path + 'complete_initial_wrangled_data.csv', index_col = 'SK_ID_CURR')\n",
    "level_1_metafeatures_df = pd.read_csv(L1_mf_path + 'FINAL_level_1_meta_features_df.csv', index_col = 'SK_ID_CURR')\n",
    "total_df = pd.merge(original_cleaned_df, level_1_metafeatures_df, left_index=True, right_index=True, how = 'outer' )"
   ]
  },
  {
   "cell_type": "code",
   "execution_count": null,
   "metadata": {
    "hidden": true
   },
   "outputs": [],
   "source": []
  },
  {
   "cell_type": "code",
   "execution_count": 7,
   "metadata": {
    "hidden": true
   },
   "outputs": [
    {
     "name": "stdout",
     "output_type": "stream",
     "text": [
      "<class 'pandas.core.frame.DataFrame'>\n",
      "Int64Index: 307511 entries, 100002 to 456255\n",
      "Data columns (total 91 columns):\n",
      "TARGET                               307511 non-null int64\n",
      "NAME_CONTRACT_TYPE                   307511 non-null object\n",
      "CODE_GENDER                          307511 non-null object\n",
      "FLAG_OWN_CAR                         307511 non-null object\n",
      "FLAG_OWN_REALTY                      307511 non-null object\n",
      "CNT_CHILDREN                         307511 non-null int64\n",
      "NAME_EDUCATION_TYPE                  307511 non-null object\n",
      "NAME_FAMILY_STATUS                   307511 non-null object\n",
      "DAYS_BIRTH                           307511 non-null int64\n",
      "FLAG_EMP_PHONE                       307511 non-null int64\n",
      "FLAG_WORK_PHONE                      307511 non-null int64\n",
      "FLAG_PHONE                           307511 non-null int64\n",
      "FLAG_EMAIL                           307511 non-null int64\n",
      "CNT_FAM_MEMBERS                      307511 non-null int64\n",
      "REGION_RATING_CLIENT                 307511 non-null int64\n",
      "WEEKDAY_APPR_PROCESS_START           307511 non-null object\n",
      "HOUR_APPR_PROCESS_START              307511 non-null int64\n",
      "REG_REGION_NOT_LIVE_REGION           307511 non-null int64\n",
      "REG_REGION_NOT_WORK_REGION           307511 non-null int64\n",
      "LIVE_REGION_NOT_WORK_REGION          307511 non-null int64\n",
      "REG_CITY_NOT_LIVE_CITY               307511 non-null int64\n",
      "REG_CITY_NOT_WORK_CITY               307511 non-null int64\n",
      "LIVE_CITY_NOT_WORK_CITY              307511 non-null int64\n",
      "EXT_SOURCE_1                         307511 non-null float64\n",
      "EXT_SOURCE_2                         307511 non-null float64\n",
      "EXT_SOURCE_3                         307511 non-null float64\n",
      "APARTMENTS_AVG                       307511 non-null float64\n",
      "LANDAREA_AVG                         307511 non-null float64\n",
      "TOTALAREA_MODE                       307511 non-null float64\n",
      "EMERGENCYSTATE_MODE                  307511 non-null object\n",
      "OBS_60_CNT_SOCIAL_CIRCLE             307511 non-null float64\n",
      "FLAG_DOCUMENT_3                      307511 non-null int64\n",
      "FLAG_DOCUMENT_6                      307511 non-null int64\n",
      "AMT_REQ_CREDIT_BUREAU_YEAR           307511 non-null float64\n",
      "NULL_COUNTS                          307511 non-null int64\n",
      "SOCIAL_NULL_COUNTS                   307511 non-null int64\n",
      "NAME_TYPE_SUITE_condensed            307511 non-null object\n",
      "NAME_INCOME_TYPE_condensed           307511 non-null object\n",
      "NAME_HOUSING_TYPE_condensed          307511 non-null object\n",
      "OCCUPATION_TYPE_condensed            307511 non-null object\n",
      "ORGANIZATION_TYPE_condensed          307511 non-null object\n",
      "DAYS_EMPLOYED_eq_365243              307511 non-null object\n",
      "log_AMT_INCOME_TOTAL                 307511 non-null float64\n",
      "log_AMT_CREDIT                       307511 non-null float64\n",
      "pwr_AMT_ANNUITY_from_app_train       307511 non-null float64\n",
      "log_AMT_GOODS_PRICE                  307511 non-null float64\n",
      "pwr_REGION_POPULATION_RELATIVE       307511 non-null float64\n",
      "pwr_DAYS_REGISTRATION                307511 non-null float64\n",
      "pwr_OWN_CAR_AGE                      307511 non-null float64\n",
      "pwr_DAYS_LAST_PHONE_CHANGE           307511 non-null float64\n",
      "pwr_DAYS_EMPLOYED                    307511 non-null float64\n",
      "pwr_DAYS_ID_PUBLISH                  307511 non-null float64\n",
      "DAYS_CREDIT_min                      307511 non-null float64\n",
      "CREDIT_ACTIVE_mode                   307511 non-null object\n",
      "CREDIT_CURRENCY_mode_condensed       307511 non-null object\n",
      "CREDIT_TYPE_mode_condensed           307511 non-null object\n",
      "pwr_DAYS_CREDIT_mean                 307511 non-null float64\n",
      "pwr_DAYS_ENDDATE_FACT_min            307511 non-null float64\n",
      "pwr_DAYS_CREDIT_median               307511 non-null float64\n",
      "pwr_DAYS_ENDDATE_FACT_median         307511 non-null float64\n",
      "LogMod_AMT_CREDIT_SUM_DEBT_mean      307511 non-null float64\n",
      "pwr_DAYS_CREDIT_ENDDATE_mean         307511 non-null float64\n",
      "pwr_DAYS_CREDIT_UPDATE_mean          307511 non-null float64\n",
      "NUM_OF_LOANS                         307511 non-null float64\n",
      "AMT_OVERPAY_MEAN                     307511 non-null float64\n",
      "AMT_OVERPAY_SD                       307511 non-null float64\n",
      "NUM_TIMES_OVERPAY                    307511 non-null float64\n",
      "NUM_INSTALMENT_VERSION_max           307511 non-null float64\n",
      "NUM_INSTALMENT_VERSION_min           307511 non-null float64\n",
      "DAYS_INSTALMENT_min                  307511 non-null float64\n",
      "DAYS_ENTRY_PAYMENT_min               307511 non-null float64\n",
      "pwr_DAYS_PAYMENT_LATE_median         307511 non-null float64\n",
      "LogMod_DAYS_PAYMENT_LATE_sd          307511 non-null float64\n",
      "pwr_NUM_TIMES_LATE                   307511 non-null float64\n",
      "LogMod_NUM_TIMES_EARLY               307511 non-null float64\n",
      "pwr_TERMS_CHANGE_TIMES               307511 non-null float64\n",
      "pwr_DAYS_INSTALMENT_mean             307511 non-null float64\n",
      "pwr_DAYS_ENTRY_PAYMENT_mean          307511 non-null float64\n",
      "LogMod_AMT_INSTALMENT_mean           307511 non-null float64\n",
      "pwr_AMT_INSTALMENT_max               307511 non-null float64\n",
      "pwr_AMT_INSTALMENT_min               307511 non-null float64\n",
      "LogMod_AMT_PAYMENT_mean              307511 non-null float64\n",
      "LogMod_AMT_PAYMENT_max               307511 non-null float64\n",
      "pwr_AMT_PAYMENT_min                  307511 non-null float64\n",
      "LogMod_NUM_INSTALMENT_NUMBER_mean    307511 non-null float64\n",
      "LogMod_NUM_INSTALMENT_NUMBER_max     307511 non-null float64\n",
      "pwr_rescale_RanFor_EXTpoly           307511 non-null float64\n",
      "pwr_rescale_RanFor_AllFeats          307511 non-null float64\n",
      "pwr_rescale_LogReg_EXTpoly           307511 non-null float64\n",
      "pwr_rescale_LogReg_AllFeats          307511 non-null float64\n",
      "pwr_rescale_MLP_AllFeats             307511 non-null float64\n",
      "dtypes: float64(54), int64(20), object(17)\n",
      "memory usage: 225.8+ MB\n"
     ]
    }
   ],
   "source": [
    "total_df.info(verbose = True, null_counts = True);"
   ]
  },
  {
   "cell_type": "code",
   "execution_count": 8,
   "metadata": {
    "hidden": true
   },
   "outputs": [
    {
     "data": {
      "text/plain": [
       "Series([], dtype: bool)"
      ]
     },
     "execution_count": 8,
     "metadata": {},
     "output_type": "execute_result"
    }
   ],
   "source": [
    "# CHECK: this should be empty if everything is non null\n",
    "total_df.isnull().any()[total_df.isnull().any()==True]"
   ]
  },
  {
   "cell_type": "code",
   "execution_count": null,
   "metadata": {
    "hidden": true
   },
   "outputs": [],
   "source": []
  },
  {
   "cell_type": "code",
   "execution_count": 9,
   "metadata": {
    "hidden": true
   },
   "outputs": [],
   "source": [
    "raw_level_2_new_features_df = pd.DataFrame(total_df.index)\n",
    "raw_level_2_new_features_df.set_index('SK_ID_CURR', inplace=True)"
   ]
  },
  {
   "cell_type": "code",
   "execution_count": null,
   "metadata": {
    "hidden": true
   },
   "outputs": [],
   "source": []
  },
  {
   "cell_type": "markdown",
   "metadata": {
    "heading_collapsed": true
   },
   "source": [
    "# models with only EXT SOURCES + level 1 final scores.                                     "
   ]
  },
  {
   "cell_type": "code",
   "execution_count": null,
   "metadata": {
    "hidden": true
   },
   "outputs": [],
   "source": []
  },
  {
   "cell_type": "code",
   "execution_count": 10,
   "metadata": {
    "hidden": true,
    "scrolled": true
   },
   "outputs": [],
   "source": [
    "minimal_feats = ['EXT_SOURCE_1','EXT_SOURCE_2','EXT_SOURCE_3',\n",
    "                 'pwr_rescale_RanFor_EXTpoly', 'pwr_rescale_RanFor_AllFeats', \n",
    "                 'pwr_rescale_LogReg_EXTpoly','pwr_rescale_LogReg_AllFeats', \n",
    "                 'pwr_rescale_MLP_AllFeats']"
   ]
  },
  {
   "cell_type": "code",
   "execution_count": 11,
   "metadata": {
    "hidden": true
   },
   "outputs": [
    {
     "name": "stdout",
     "output_type": "stream",
     "text": [
      "Total original feat len is 8. Sum of feats is 8.\n",
      "Final array is length 40. final feature list is length 40.\n"
     ]
    }
   ],
   "source": [
    "total_df_piped, final_feature_list, total_pipeline, trans_list = master_pipeline(df_in = total_df[minimal_feats],\n",
    "                                                                                 int_cutoff=20, \n",
    "                                                                                 poly_deg=4, \n",
    "                                                                                 feats_with_interaction=[]\n",
    "                                                                                 )"
   ]
  },
  {
   "cell_type": "code",
   "execution_count": null,
   "metadata": {
    "hidden": true
   },
   "outputs": [],
   "source": []
  },
  {
   "cell_type": "code",
   "execution_count": 12,
   "metadata": {
    "hidden": true
   },
   "outputs": [],
   "source": [
    "# have to use same folds as from level 1 metafeature creation!\n",
    "# this has to be loaded each time bc iteration is 'used up'\n",
    "my_StrKFold = StratifiedKFold(n_splits = 3, \n",
    "                              shuffle = True,\n",
    "                              random_state = 0)\n",
    "\n",
    "my_folds = my_StrKFold.split(total_df, total_df['TARGET'])"
   ]
  },
  {
   "cell_type": "code",
   "execution_count": null,
   "metadata": {
    "hidden": true
   },
   "outputs": [],
   "source": []
  },
  {
   "cell_type": "markdown",
   "metadata": {
    "heading_collapsed": true,
    "hidden": true
   },
   "source": [
    "### random forest"
   ]
  },
  {
   "cell_type": "code",
   "execution_count": null,
   "metadata": {
    "hidden": true
   },
   "outputs": [],
   "source": []
  },
  {
   "cell_type": "raw",
   "metadata": {
    "hidden": true
   },
   "source": [
    "Results:\n",
    "\n",
    "input: \n",
    "param_dist_dict =  { 'max_depth' :         [10,15,20],\n",
    "                     'min_samples_leaf' :  [20,30,40,50],\n",
    "                     'min_samples_split' : [2,3], \n",
    "                     'n_estimators':       [40],\n",
    "                    }\n",
    "output:\n",
    "{'max_depth': 10,\n",
    " 'min_samples_leaf': 40,\n",
    " 'min_samples_split': 2,\n",
    " 'n_estimators': 40}\n",
    " T_score = 0.7952861875687605, V_score = 0.7734364674660258\n",
    " \n",
    "input:\n",
    "param_dist_dict =  { 'max_depth' :         [5,6,7,8,9,10],\n",
    "                     'min_samples_leaf' :  [35,37,40,42,45],\n",
    "                     'min_samples_split' : [2], \n",
    "                     'n_estimators':       [40],\n",
    "                    }\n",
    "                    \n",
    "output:\n",
    "{'max_depth': 5,\n",
    " 'min_samples_leaf': 35,\n",
    " 'min_samples_split': 2,\n",
    " 'n_estimators': 40}\n",
    " T_score = 0.7688404542108025, V_score = 0.7750880606507247\n",
    " \n",
    "input:\n",
    "param_dist_dict =  { 'max_depth' :         [2,3,4,5],\n",
    "                     'min_samples_leaf' :  [10,20,30,35],\n",
    "                     'min_samples_split' : [2], \n",
    "                     'n_estimators':       [40],\n",
    "                    }\n",
    "\n",
    "output:\n",
    "{'max_depth': 4,\n",
    " 'min_samples_leaf': 10,\n",
    " 'min_samples_split': 2,\n",
    " 'n_estimators': 40}\n",
    "T_score = 0.7672619344174749, V_score = 0.7749036104756363\n",
    "\n",
    "input:\n",
    "param_dist_dict =  { 'max_depth' :         [3,4,5],\n",
    "                     'min_samples_leaf' :  [5,8,10,15],\n",
    "                     'min_samples_split' : [2], \n",
    "                     'n_estimators':       [40],\n",
    "                    }\n",
    "output:\n",
    "{'max_depth': 4,\n",
    " 'min_samples_leaf': 10,\n",
    " 'min_samples_split': 2,\n",
    " 'n_estimators': 40}\n",
    "T_score = 0.7672619344174749, V_score = 0.7749036104756363\n",
    "\n",
    "input:\n",
    "param_dist_dict =  { 'max_depth' :         [3,4,5],\n",
    "                     'min_samples_leaf' :  [9,10,11,12,13,14],\n",
    "                     'min_samples_split' : [2], \n",
    "                     'n_estimators':       [40],\n",
    "                    }\n",
    "                    \n",
    "output:                    \n",
    "{'max_depth': 4,\n",
    " 'min_samples_leaf': 12,\n",
    " 'min_samples_split': 2,\n",
    " 'n_estimators': 40}\n",
    "T_score = 0.7672598098889133, V_score = 0.7749204442111646\n",
    "\n",
    "******************************************************************\n",
    "Switching to training on full set. And some slightly new level 1 results. \n",
    "******************************************************************\n",
    "\n",
    "input: \n",
    "param_dist_dict =  { 'max_depth' :         [3,4,5],\n",
    "                     'min_samples_leaf' :  [9,10,11,12,13,14],\n",
    "                     'min_samples_split' : [2], \n",
    "                     'n_estimators':       [40],\n",
    "                    }\n",
    "                    \n",
    "output:    \n",
    "\n",
    "{'max_depth': 5,\n",
    " 'min_samples_leaf': 9,\n",
    " 'min_samples_split': 2,\n",
    " 'n_estimators': 40}\n",
    "best_score = .76...., train_score = 0.7705122375237419\n",
    "\n",
    "input:\n",
    "param_dist_dict =  { 'max_depth' :         [5,7,9],\n",
    "                     'min_samples_leaf' :  [4,7,9],\n",
    "                     'min_samples_split' : [2], \n",
    "                     'n_estimators':       [40],\n",
    "                    }\n",
    "                    \n",
    "output:  \n",
    "{'max_depth': 5,\n",
    " 'min_samples_leaf': 7,\n",
    " 'min_samples_split': 2,\n",
    " 'n_estimators': 40}\n",
    " best_score = 0.7685749094437057, train_score = 0.7705273370296688\n",
    " \n",
    " input:\n",
    " param_dist_dict =  { 'max_depth' :         [3,4,5,6],\n",
    "                     'min_samples_leaf' :  [5,6,7,8],\n",
    "                     'min_samples_split' : [2], \n",
    "                     'n_estimators':       [40],\n",
    "                    }\n",
    "output:\n",
    "{'max_depth': 5,\n",
    " 'min_samples_leaf': 7,\n",
    " 'min_samples_split': 2,\n",
    " 'n_estimators': 40}\n",
    " best_score = 0.7685749094437057, train_score = 0.7705273370296688\n",
    " \n",
    "******************************************************************\n",
    "Restarting (Fix leaked level 1 results.  )\n",
    "******************************************************************\n",
    "\n",
    "\n",
    "input:\n",
    "param_dist_dict =  { 'max_depth' :         [5,10,20],\n",
    "                     'min_samples_leaf' :  [10,20,30,40,50],\n",
    "                     'min_samples_split' : [2], \n",
    "                     'n_estimators':       [40],\n",
    "                    }\n",
    "                    \n",
    "output:  {'max_depth': 5,\n",
    " 'min_samples_leaf': 20,\n",
    " 'min_samples_split': 2,\n",
    " 'n_estimators': 40}\n",
    " best_score = 0.7682630901407216, train_score = 0.7704197848891641\n",
    " \n",
    " input: \n",
    " param_dist_dict =  { 'max_depth' :         [4,5,7,9],\n",
    "                     'min_samples_leaf' :  [10,15,20,25,30],\n",
    "                     'min_samples_split' : [2], \n",
    "                     'n_estimators':       [40],\n",
    "                    }\n",
    "output:                    \n",
    "{'max_depth': 5,\n",
    " 'min_samples_leaf': 15,\n",
    " 'min_samples_split': 2,\n",
    " 'n_estimators': 40}\n",
    " best_score = 0.7682822695581677, train_score = 0.7703977883032412\n",
    " \n",
    " input: \n",
    " param_dist_dict =  { 'max_depth' :         [4,5,6,7],\n",
    "                     'min_samples_leaf' :  [12,14,15,16,18],\n",
    "                     'min_samples_split' : [2], \n",
    "                     'n_estimators':       [40],\n",
    "                    }\n",
    "                    \n",
    "output:\n",
    "{'max_depth': 6,\n",
    " 'min_samples_leaf': 12,\n",
    " 'min_samples_split': 2,\n",
    " 'n_estimators': 40}\n",
    " best_score = 0.7683195371814959, train_score = 0.7723275482946468\n",
    " \n",
    " input:\n",
    " param_dist_dict =  { 'max_depth' :         [4,5,6,7],\n",
    "                     'min_samples_leaf' :  [9,10,11,12,13],\n",
    "                     'min_samples_split' : [2], \n",
    "                     'n_estimators':       [40],\n",
    "                    }\n",
    "output: \n",
    "{'max_depth': 6,\n",
    " 'min_samples_leaf': 11,\n",
    " 'min_samples_split': 2,\n",
    " 'n_estimators': 40}\n",
    " best_score = 0.7683421720049418, train_score = 0.7723052463371459\n",
    " "
   ]
  },
  {
   "cell_type": "code",
   "execution_count": null,
   "metadata": {
    "hidden": true
   },
   "outputs": [],
   "source": []
  },
  {
   "cell_type": "code",
   "execution_count": 13,
   "metadata": {
    "hidden": true
   },
   "outputs": [
    {
     "name": "stdout",
     "output_type": "stream",
     "text": [
      "Memmaping (shape=(307511, 40), dtype=float64) to new file /var/folders/1x/nd476hm95310c4gp98rmvwkc0000gn/T/joblib_memmaping_pool_10792_4316237608/10792-112256359672-b6ec14b94b7e98261af04adf479938df.pkl\n",
      "Memmaping (shape=(307511,), dtype=int64) to new file /var/folders/1x/nd476hm95310c4gp98rmvwkc0000gn/T/joblib_memmaping_pool_10792_4316237608/10792-112256359672-7fee98903a11851f0c36b343c7ef5338.pkl\n",
      "Memmaping (shape=(205007,), dtype=int64) to new file /var/folders/1x/nd476hm95310c4gp98rmvwkc0000gn/T/joblib_memmaping_pool_10792_4316237608/10792-112256359672-617b94b8ee1dd73b53ff7a38ec2f741c.pkl\n",
      "Memmaping (shape=(205007,), dtype=int64) to new file /var/folders/1x/nd476hm95310c4gp98rmvwkc0000gn/T/joblib_memmaping_pool_10792_4316237608/10792-112256359672-49dd99a20eff7bff76798131d715d7ea.pkl\n",
      "Memmaping (shape=(205008,), dtype=int64) to new file /var/folders/1x/nd476hm95310c4gp98rmvwkc0000gn/T/joblib_memmaping_pool_10792_4316237608/10792-112256359672-20227521c910aa39c9819320f3625345.pkl\n",
      "[Parallel(n_jobs=-1)]: Done   1 tasks      | elapsed:   26.1s\n",
      "[Parallel(n_jobs=-1)]: Done   3 out of   3 | elapsed:   26.5s remaining:    0.0s\n",
      "[Parallel(n_jobs=-1)]: Done   3 out of   3 | elapsed:   26.5s finished\n"
     ]
    }
   ],
   "source": [
    "# have to use same folds as from level 1 metafeature creation!\n",
    "# this has to be loaded each time bc iteration is 'used up'\n",
    "my_StrKFold = StratifiedKFold(n_splits = 3, \n",
    "                              shuffle = True,\n",
    "                              random_state = 0)\n",
    "\n",
    "my_folds = my_StrKFold.split(total_df, total_df['TARGET'])\n",
    "\n",
    "param_dist_dict =  { 'max_depth':6,\n",
    "                     'min_samples_leaf':11,\n",
    "                     'min_samples_split':2, \n",
    "                     'n_estimators':40,\n",
    "                    }\n",
    "\n",
    "forest_reg = RandomForestClassifier(random_state=0,\n",
    "                                    class_weight = None,\n",
    "                                    **param_dist_dict,\n",
    "                                   )\n",
    "\n",
    "cross_val_preds = cross_val_predict(estimator = forest_reg, \n",
    "                                      X = total_df_piped,\n",
    "                                      y = total_df['TARGET'], \n",
    "                                      groups = None,\n",
    "                                      cv = my_folds,\n",
    "                                      n_jobs = -1,\n",
    "                                      verbose = 51,\n",
    "                                      fit_params = None, \n",
    "                                      pre_dispatch = '2*n_jobs', \n",
    "                                      method = 'predict_proba')"
   ]
  },
  {
   "cell_type": "code",
   "execution_count": null,
   "metadata": {
    "hidden": true
   },
   "outputs": [],
   "source": []
  },
  {
   "cell_type": "code",
   "execution_count": 14,
   "metadata": {
    "hidden": true
   },
   "outputs": [],
   "source": [
    "val_scores = [x[1]for x in cross_val_preds]"
   ]
  },
  {
   "cell_type": "code",
   "execution_count": null,
   "metadata": {
    "hidden": true
   },
   "outputs": [],
   "source": []
  },
  {
   "cell_type": "code",
   "execution_count": 15,
   "metadata": {
    "hidden": true
   },
   "outputs": [],
   "source": [
    "raw_level_2_new_features_df['RanFor_EXTpoly_Level2'] = val_scores"
   ]
  },
  {
   "cell_type": "code",
   "execution_count": null,
   "metadata": {
    "hidden": true
   },
   "outputs": [],
   "source": []
  },
  {
   "cell_type": "code",
   "execution_count": 16,
   "metadata": {
    "hidden": true
   },
   "outputs": [
    {
     "data": {
      "text/plain": [
       "0.7683671572255159"
      ]
     },
     "execution_count": 16,
     "metadata": {},
     "output_type": "execute_result"
    }
   ],
   "source": [
    "roc_auc_score(total_df['TARGET'], val_scores)"
   ]
  },
  {
   "cell_type": "code",
   "execution_count": null,
   "metadata": {
    "hidden": true
   },
   "outputs": [],
   "source": []
  },
  {
   "cell_type": "code",
   "execution_count": 17,
   "metadata": {
    "hidden": true
   },
   "outputs": [
    {
     "data": {
      "text/plain": [
       "RandomForestClassifier(bootstrap=True, class_weight=None, criterion='gini',\n",
       "            max_depth=6, max_features='auto', max_leaf_nodes=None,\n",
       "            min_impurity_decrease=0.0, min_impurity_split=None,\n",
       "            min_samples_leaf=11, min_samples_split=2,\n",
       "            min_weight_fraction_leaf=0.0, n_estimators=40, n_jobs=1,\n",
       "            oob_score=False, random_state=0, verbose=0, warm_start=False)"
      ]
     },
     "execution_count": 17,
     "metadata": {},
     "output_type": "execute_result"
    }
   ],
   "source": [
    "# fit and save model for predictions\n",
    "forest_reg.fit(X = total_df_piped,\n",
    "               y = total_df['TARGET'])"
   ]
  },
  {
   "cell_type": "code",
   "execution_count": 18,
   "metadata": {
    "hidden": true
   },
   "outputs": [
    {
     "data": {
      "text/plain": [
       "['saved_models/level_2_models/RanFor_EXTpoly_level_2.joblib']"
      ]
     },
     "execution_count": 18,
     "metadata": {},
     "output_type": "execute_result"
    }
   ],
   "source": [
    "joblib.dump(forest_reg, model_save_path + 'RanFor_EXTpoly_level_2.joblib')"
   ]
  },
  {
   "cell_type": "code",
   "execution_count": null,
   "metadata": {
    "hidden": true
   },
   "outputs": [],
   "source": []
  },
  {
   "cell_type": "markdown",
   "metadata": {
    "heading_collapsed": true,
    "hidden": true
   },
   "source": [
    "### log reg"
   ]
  },
  {
   "cell_type": "code",
   "execution_count": null,
   "metadata": {
    "hidden": true
   },
   "outputs": [],
   "source": []
  },
  {
   "cell_type": "raw",
   "metadata": {
    "hidden": true
   },
   "source": [
    "Results: \n",
    "\n",
    "input: param_grid = [{ 'C' : [21,22,23,24,25,26,27,28] }]\n",
    "output:\n",
    "{'C': 22}\n",
    "T_score = 0.76631882528102, V_score = 0.7752745675559647\n",
    "\n",
    "input:\n",
    "param_grid = [{ 'C' : [21.2,21.5,21.7,22,22.2,22.5,22.7] }]\n",
    "output:\n",
    "{'C': 22}\n",
    "T_score = 0.76631882528102, V_score = 0.7752745675559647\n",
    "\n",
    "input: \n",
    "param_grid = [{ 'C' : [21.8,21.9,22,22.1] }]\n",
    "output:\n",
    "{'C': 22}\n",
    "T_score = 0.76631882528102, V_score = 0.7752745675559647\n",
    "\n",
    "******************************************************************\n",
    "Switching to training on full set. And some slightly new level 1 results. \n",
    "******************************************************************\n",
    "\n",
    "input: \n",
    "param_grid = [{ 'C' : [21.8,21.9,22,22.1] }]\n",
    "output: \n",
    "{'C': 22.1}\n",
    "best_score = 0.7687337315528854, train_score = 0.7689685724410957\n",
    "\n",
    "input:\n",
    "param_grid = [{ 'C' : [22,23,25,30] }]\n",
    "output: \n",
    "{'C': 23}\n",
    "best_score = 0.7687359741746989, train_score = 0.7689615070006149\n",
    "\n",
    "input:\n",
    "param_grid = [{ 'C' : [22.5,23,23.5,24] }]\n",
    "output:\n",
    "{'C': 23.5}\n",
    "best_score = 0.7687422095719723, train_score = 0.7689692835023063\n",
    "\n",
    "\n",
    " \n",
    "******************************************************************\n",
    "Restarting (Fix leaked level 1 results.  )\n",
    "******************************************************************\n",
    "\n",
    "input: \n",
    "param_grid = [{ 'C' : [15,20,25,30] }]\n",
    "output: \n",
    "{'C': 30}\n",
    "best_score = 0.7689873606423704, train_score = 0.7691956939415567\n",
    "\n",
    "input: \n",
    "param_grid = [{ 'C' : [25,30,40,50,100] }]\n",
    "output: {'C': 100}\n",
    "best_score = 0.7689889876758225, train_score = 0.7692006625352015\n",
    "\n",
    "input:\n",
    "param_grid = [{ 'C' : [100,200,300,400,500,1000] }]\n",
    "output:{'C': 100}\n",
    "best_score = 0.7689889876758225, train_score = 0.7692006625352015\n",
    "\n",
    "input: \n",
    "param_grid = [{ 'C' : [60,70,80,90,100,110,120,130,140,50,160,170,180,190] }]\n",
    "output: \n",
    "{'C': 80}\n",
    "best_score = 0.7689906617338039, train_score = 0.7692014935790852\n",
    "\n",
    "input: \n",
    "param_grid = [{ 'C' : [72,74,76,78,80,82,84,86,88] }]\n",
    "output:{'C': 88} \n",
    "best_score = 0.768991307672436, train_score = 0.769200101381084"
   ]
  },
  {
   "cell_type": "code",
   "execution_count": null,
   "metadata": {
    "hidden": true
   },
   "outputs": [],
   "source": []
  },
  {
   "cell_type": "code",
   "execution_count": 19,
   "metadata": {
    "hidden": true
   },
   "outputs": [
    {
     "name": "stdout",
     "output_type": "stream",
     "text": [
      "Memmaping (shape=(307511, 40), dtype=float64) to new file /var/folders/1x/nd476hm95310c4gp98rmvwkc0000gn/T/joblib_memmaping_pool_10792_4349738568/10792-112256358944-b6ec14b94b7e98261af04adf479938df.pkl\n",
      "Memmaping (shape=(307511,), dtype=int64) to new file /var/folders/1x/nd476hm95310c4gp98rmvwkc0000gn/T/joblib_memmaping_pool_10792_4349738568/10792-112256358944-7fee98903a11851f0c36b343c7ef5338.pkl\n",
      "Memmaping (shape=(205007,), dtype=int64) to new file /var/folders/1x/nd476hm95310c4gp98rmvwkc0000gn/T/joblib_memmaping_pool_10792_4349738568/10792-112256358944-617b94b8ee1dd73b53ff7a38ec2f741c.pkl\n",
      "Memmaping (shape=(205007,), dtype=int64) to new file /var/folders/1x/nd476hm95310c4gp98rmvwkc0000gn/T/joblib_memmaping_pool_10792_4349738568/10792-112256358944-49dd99a20eff7bff76798131d715d7ea.pkl\n",
      "Memmaping (shape=(205008,), dtype=int64) to new file /var/folders/1x/nd476hm95310c4gp98rmvwkc0000gn/T/joblib_memmaping_pool_10792_4349738568/10792-112256358944-20227521c910aa39c9819320f3625345.pkl\n",
      "[Parallel(n_jobs=-1)]: Done   1 tasks      | elapsed:   21.7s\n",
      "[Parallel(n_jobs=-1)]: Done   3 out of   3 | elapsed:   25.1s remaining:    0.0s\n",
      "[Parallel(n_jobs=-1)]: Done   3 out of   3 | elapsed:   25.1s finished\n"
     ]
    }
   ],
   "source": [
    "# have to use same folds as from level 1 metafeature creation!\n",
    "# this has to be loaded each time bc iteration is 'used up'\n",
    "my_StrKFold = StratifiedKFold(n_splits = 3, \n",
    "                              shuffle = True,\n",
    "                              random_state = 0)\n",
    "\n",
    "my_folds = my_StrKFold.split(total_df, total_df['TARGET'])\n",
    "\n",
    "my_LgRg = LogisticRegression(penalty= 'l2', \n",
    "                             random_state = 0, \n",
    "                             class_weight = None,\n",
    "                             C = 88.0) \n",
    "\n",
    "cross_val_preds = cross_val_predict(estimator = my_LgRg, \n",
    "                                      X = total_df_piped,\n",
    "                                      y = total_df['TARGET'], \n",
    "                                      groups = None,\n",
    "                                      cv = my_folds,\n",
    "                                      n_jobs = -1,\n",
    "                                      verbose = 51,\n",
    "                                      fit_params = None, \n",
    "                                      pre_dispatch = '2*n_jobs', \n",
    "                                      method = 'predict_proba'\n",
    "                                   )\n",
    "\n"
   ]
  },
  {
   "cell_type": "code",
   "execution_count": null,
   "metadata": {
    "hidden": true
   },
   "outputs": [],
   "source": []
  },
  {
   "cell_type": "code",
   "execution_count": null,
   "metadata": {
    "hidden": true
   },
   "outputs": [],
   "source": []
  },
  {
   "cell_type": "code",
   "execution_count": null,
   "metadata": {
    "hidden": true
   },
   "outputs": [],
   "source": []
  },
  {
   "cell_type": "code",
   "execution_count": 20,
   "metadata": {
    "hidden": true
   },
   "outputs": [],
   "source": [
    "val_scores = [x[1]for x in cross_val_preds]\n",
    "\n",
    "raw_level_2_new_features_df['LogReg_EXTpoly_Level2'] = val_scores"
   ]
  },
  {
   "cell_type": "code",
   "execution_count": null,
   "metadata": {
    "hidden": true
   },
   "outputs": [],
   "source": []
  },
  {
   "cell_type": "code",
   "execution_count": 21,
   "metadata": {
    "hidden": true
   },
   "outputs": [
    {
     "data": {
      "text/plain": [
       "0.7686470523637944"
      ]
     },
     "execution_count": 21,
     "metadata": {},
     "output_type": "execute_result"
    }
   ],
   "source": [
    "roc_auc_score(total_df['TARGET'],val_scores)"
   ]
  },
  {
   "cell_type": "code",
   "execution_count": null,
   "metadata": {
    "hidden": true
   },
   "outputs": [],
   "source": []
  },
  {
   "cell_type": "code",
   "execution_count": 22,
   "metadata": {
    "hidden": true
   },
   "outputs": [
    {
     "data": {
      "text/plain": [
       "LogisticRegression(C=88.0, class_weight=None, dual=False, fit_intercept=True,\n",
       "          intercept_scaling=1, max_iter=100, multi_class='ovr', n_jobs=1,\n",
       "          penalty='l2', random_state=0, solver='liblinear', tol=0.0001,\n",
       "          verbose=0, warm_start=False)"
      ]
     },
     "execution_count": 22,
     "metadata": {},
     "output_type": "execute_result"
    }
   ],
   "source": [
    "# fit and save model for predictions\n",
    "my_LgRg.fit(X = total_df_piped,\n",
    "            y = total_df['TARGET'])"
   ]
  },
  {
   "cell_type": "code",
   "execution_count": 23,
   "metadata": {
    "hidden": true
   },
   "outputs": [
    {
     "data": {
      "text/plain": [
       "['saved_models/level_2_models/LogReg_EXTpoly_level_2.joblib']"
      ]
     },
     "execution_count": 23,
     "metadata": {},
     "output_type": "execute_result"
    }
   ],
   "source": [
    "joblib.dump(my_LgRg, model_save_path + 'LogReg_EXTpoly_level_2.joblib')"
   ]
  },
  {
   "cell_type": "code",
   "execution_count": null,
   "metadata": {
    "hidden": true
   },
   "outputs": [],
   "source": []
  },
  {
   "cell_type": "markdown",
   "metadata": {
    "heading_collapsed": true,
    "hidden": true
   },
   "source": [
    "### MLP Classifier."
   ]
  },
  {
   "cell_type": "code",
   "execution_count": null,
   "metadata": {
    "hidden": true
   },
   "outputs": [],
   "source": []
  },
  {
   "cell_type": "raw",
   "metadata": {
    "hidden": true
   },
   "source": [
    "{'alpha': 0.13, 'hidden_layer_sizes': (70,)}\n",
    "'\n",
    "\n",
    "Results:\n",
    "\n",
    "input:\n",
    "param_dist_dict =  { 'alpha' :         [.001,.01,.1],\n",
    "                    'hidden_layer_sizes' : [(100, ),(110, ),(120, )],\n",
    "                    }\n",
    "                   \n",
    "output: {'alpha': 0.01, 'hidden_layer_sizes': (100,)}                   \n",
    "T_score = 0.767409457872488, V_score =  0.7749587075199571     \n",
    "\n",
    "input:\n",
    "param_dist_dict =  { 'alpha' :         [.002,.005,.007,.01,.02,.05,.07,.1],\n",
    "                    'hidden_layer_sizes' : [(50, ),(70, ),(80, ),(100, )],\n",
    "                    }\n",
    "output:\n",
    "{'alpha': 0.1, 'hidden_layer_sizes': (70,)}\n",
    "T_score =0.7661859533460901, V_score = 0.7748665787312043\n",
    "\n",
    "input:\n",
    "param_dist_dict =  { 'alpha' :         [.08,.1,.2,1],\n",
    "                    'hidden_layer_sizes' : [(50, ),(55, ),(70, ),(75, ),(80, )],\n",
    "                    }\n",
    "                    \n",
    "output:                    \n",
    "{'alpha': 0.1, 'hidden_layer_sizes': (70,)}\n",
    "T_score = 0.7661859533460901, V_score = 0.7748665787312043\n",
    "\n",
    "input:\n",
    "param_dist_dict =  { 'alpha' :         [.09,.1,.13,.17],\n",
    "                    'hidden_layer_sizes' : [(55, ),(60, ),(70, ),(73, )],\n",
    "                    }\n",
    "output:    \n",
    "{'alpha': 0.13, 'hidden_layer_sizes': (70,)}                 \n",
    "T_score = 0.765805255095316,  V_score = 0.7740633407933621\n",
    "\n",
    "input:\n",
    "param_dist_dict =  { 'alpha' :         [.11,.12,.13,.15],\n",
    "                    'hidden_layer_sizes' : [(62, ),(65, ),(67, ),(70, ),(72, )],\n",
    "                    }\n",
    "output:\n",
    "{'alpha': 0.13, 'hidden_layer_sizes': (70,)}\n",
    "T_score = 0.765805255095316, V_score = 0.7740633407933621\n",
    "\n",
    "input:\n",
    "param_dist_dict =  { 'alpha' :         [.12,.13,.14],\n",
    "                    'hidden_layer_sizes' : [(68, ),(69, ),(70, ),(71, )],\n",
    "                    }\n",
    "output: \n",
    "{'alpha': 0.13, 'hidden_layer_sizes': (70,)}\n",
    "T_score=0.765805255095316, V_score = 0.7740633407933621\n",
    "\n",
    "******************************************************************\n",
    "Switching to training on full set. And some slightly new level 1 results. \n",
    "******************************************************************\n",
    "\n",
    "\n",
    " \n",
    "******************************************************************\n",
    "Restarting (Fix leaked level 1 results.  )\n",
    "******************************************************************\n",
    "\n",
    "input:\n",
    "param_dist_dict =  { 'alpha' :         [.05,.1,.15,.2],\n",
    "                    'hidden_layer_sizes' : [(50, ),(60, ),(70, ),(80, )],\n",
    "                    }\n",
    "output: \n",
    "{'alpha': 0.05, 'hidden_layer_sizes': (70,)}\n",
    "best_score = 0.7688137480208642, train_score = 0.76932884834681\n",
    "\n",
    "input:\n",
    "param_dist_dict =  { 'alpha' :         [.07,.1,.13],\n",
    "                    'hidden_layer_sizes' : [(65, ),(70, ),(75, )],\n",
    "                    }\n",
    "output:                     \n",
    "{'alpha': 0.13, 'hidden_layer_sizes': (70,)}\n",
    "best_score = 0.7687719119930789, train_score = 0.7689363690631118\n",
    "\n",
    "input: \n",
    "param_dist_dict =  { 'alpha' :         [.11,.13,.15],\n",
    "                    'hidden_layer_sizes' : [(67, ),(70, ),(73, )],\n",
    "                    }\n",
    "                    \n",
    "output: \n",
    "{'alpha': 0.15, 'hidden_layer_sizes': (67,)}\n",
    "best_score = 0.7689326925827549, train_score = 0.7689057213274595"
   ]
  },
  {
   "cell_type": "code",
   "execution_count": null,
   "metadata": {
    "hidden": true
   },
   "outputs": [],
   "source": []
  },
  {
   "cell_type": "code",
   "execution_count": 24,
   "metadata": {
    "hidden": true
   },
   "outputs": [],
   "source": [
    "param_dist_dict =  { 'alpha' :         .15,\n",
    "                    'hidden_layer_sizes' : (67, ),\n",
    "                    }"
   ]
  },
  {
   "cell_type": "code",
   "execution_count": null,
   "metadata": {
    "hidden": true
   },
   "outputs": [],
   "source": []
  },
  {
   "cell_type": "code",
   "execution_count": 25,
   "metadata": {
    "hidden": true
   },
   "outputs": [
    {
     "name": "stdout",
     "output_type": "stream",
     "text": [
      "Memmaping (shape=(307511, 40), dtype=float64) to new file /var/folders/1x/nd476hm95310c4gp98rmvwkc0000gn/T/joblib_memmaping_pool_10792_4349738736/10792-112256359784-b6ec14b94b7e98261af04adf479938df.pkl\n",
      "Memmaping (shape=(307511,), dtype=int64) to new file /var/folders/1x/nd476hm95310c4gp98rmvwkc0000gn/T/joblib_memmaping_pool_10792_4349738736/10792-112256359784-7fee98903a11851f0c36b343c7ef5338.pkl\n",
      "Memmaping (shape=(205007,), dtype=int64) to new file /var/folders/1x/nd476hm95310c4gp98rmvwkc0000gn/T/joblib_memmaping_pool_10792_4349738736/10792-112256359784-617b94b8ee1dd73b53ff7a38ec2f741c.pkl\n",
      "Memmaping (shape=(205007,), dtype=int64) to new file /var/folders/1x/nd476hm95310c4gp98rmvwkc0000gn/T/joblib_memmaping_pool_10792_4349738736/10792-112256359784-49dd99a20eff7bff76798131d715d7ea.pkl\n",
      "Memmaping (shape=(205008,), dtype=int64) to new file /var/folders/1x/nd476hm95310c4gp98rmvwkc0000gn/T/joblib_memmaping_pool_10792_4349738736/10792-112256359784-20227521c910aa39c9819320f3625345.pkl\n",
      "[Parallel(n_jobs=-1)]: Done   1 tasks      | elapsed:   16.9s\n",
      "[Parallel(n_jobs=-1)]: Done   3 out of   3 | elapsed:   20.1s remaining:    0.0s\n",
      "[Parallel(n_jobs=-1)]: Done   3 out of   3 | elapsed:   20.1s finished\n"
     ]
    }
   ],
   "source": [
    "# have to use same folds as from level 1 metafeature creation!\n",
    "# this has to be loaded each time bc iteration is 'used up'\n",
    "my_StrKFold = StratifiedKFold(n_splits = 3, \n",
    "                              shuffle = True,\n",
    "                              random_state = 0)\n",
    "\n",
    "my_folds = my_StrKFold.split(total_df, total_df['TARGET'])\n",
    "\n",
    "my_MLP = MLPClassifier(random_state=0, \n",
    "                       tol=0.0001, \n",
    "                     #  verbose=51, \n",
    "                       warm_start=False, \n",
    "                       momentum=0.9,\n",
    "                       **param_dist_dict)\n",
    "\n",
    "\n",
    "cross_val_preds = cross_val_predict(estimator = my_MLP, \n",
    "                                      X = total_df_piped,\n",
    "                                      y = total_df['TARGET'], \n",
    "                                      groups = None,\n",
    "                                      cv = my_folds,\n",
    "                                      n_jobs = -1,\n",
    "                                      verbose = 51,\n",
    "                                      fit_params = None, \n",
    "                                      pre_dispatch = '2*n_jobs', \n",
    "                                      method = 'predict_proba')"
   ]
  },
  {
   "cell_type": "code",
   "execution_count": null,
   "metadata": {
    "hidden": true
   },
   "outputs": [],
   "source": []
  },
  {
   "cell_type": "code",
   "execution_count": 26,
   "metadata": {
    "hidden": true
   },
   "outputs": [],
   "source": [
    "val_scores = [x[1]for x in cross_val_preds]\n",
    "\n",
    "raw_level_2_new_features_df['MLP_EXTpoly_Level2'] = val_scores"
   ]
  },
  {
   "cell_type": "code",
   "execution_count": null,
   "metadata": {
    "hidden": true
   },
   "outputs": [],
   "source": []
  },
  {
   "cell_type": "code",
   "execution_count": 27,
   "metadata": {
    "hidden": true
   },
   "outputs": [
    {
     "data": {
      "text/plain": [
       "MLPClassifier(activation='relu', alpha=0.15, batch_size='auto', beta_1=0.9,\n",
       "       beta_2=0.999, early_stopping=False, epsilon=1e-08,\n",
       "       hidden_layer_sizes=(67,), learning_rate='constant',\n",
       "       learning_rate_init=0.001, max_iter=200, momentum=0.9,\n",
       "       nesterovs_momentum=True, power_t=0.5, random_state=0, shuffle=True,\n",
       "       solver='adam', tol=0.0001, validation_fraction=0.1, verbose=False,\n",
       "       warm_start=False)"
      ]
     },
     "execution_count": 27,
     "metadata": {},
     "output_type": "execute_result"
    }
   ],
   "source": [
    "# fit and save model for predictions\n",
    "my_MLP.fit(X = total_df_piped,\n",
    "           y = total_df['TARGET'])"
   ]
  },
  {
   "cell_type": "code",
   "execution_count": 28,
   "metadata": {
    "hidden": true
   },
   "outputs": [
    {
     "data": {
      "text/plain": [
       "['saved_models/level_2_models/MLP_EXTpoly_level_2.joblib']"
      ]
     },
     "execution_count": 28,
     "metadata": {},
     "output_type": "execute_result"
    }
   ],
   "source": [
    "joblib.dump(my_MLP, model_save_path + 'MLP_EXTpoly_level_2.joblib')"
   ]
  },
  {
   "cell_type": "code",
   "execution_count": null,
   "metadata": {
    "hidden": true
   },
   "outputs": [],
   "source": []
  },
  {
   "cell_type": "markdown",
   "metadata": {},
   "source": [
    "# models with all features"
   ]
  },
  {
   "cell_type": "code",
   "execution_count": null,
   "metadata": {},
   "outputs": [],
   "source": []
  },
  {
   "cell_type": "code",
   "execution_count": 29,
   "metadata": {
    "scrolled": true
   },
   "outputs": [
    {
     "name": "stdout",
     "output_type": "stream",
     "text": [
      "Total original feat len is 90. Sum of feats is 90.\n",
      "Final array is length 443. final feature list is length 443.\n"
     ]
    }
   ],
   "source": [
    "total_df_piped, final_feature_list, total_pipeline, trans_list = master_pipeline(df_in = total_df,\n",
    "                                                                                 int_cutoff=20, \n",
    "                                                                                 poly_deg=4, \n",
    "                                                                                 feats_with_interaction=[]\n",
    "                                                                                 )"
   ]
  },
  {
   "cell_type": "code",
   "execution_count": null,
   "metadata": {},
   "outputs": [],
   "source": []
  },
  {
   "cell_type": "code",
   "execution_count": 30,
   "metadata": {},
   "outputs": [],
   "source": [
    "my_StrKFold = StratifiedKFold(n_splits = 3, \n",
    "                              shuffle = True,\n",
    "                              random_state = 0)\n",
    "\n",
    "my_folds = my_StrKFold.split(total_df, total_df['TARGET'])"
   ]
  },
  {
   "cell_type": "code",
   "execution_count": null,
   "metadata": {},
   "outputs": [],
   "source": []
  },
  {
   "cell_type": "markdown",
   "metadata": {
    "heading_collapsed": true
   },
   "source": [
    "### random forest"
   ]
  },
  {
   "cell_type": "code",
   "execution_count": null,
   "metadata": {
    "hidden": true
   },
   "outputs": [],
   "source": []
  },
  {
   "cell_type": "raw",
   "metadata": {
    "hidden": true
   },
   "source": [
    "Results:\n",
    "\n",
    "input: \n",
    "param_dist_dict =  { 'max_depth' :         [10,20,30],\n",
    "                     'min_samples_leaf' :  [300,400,500,600],\n",
    "                     'min_samples_split' : [2], \n",
    "                     'n_estimators':       [40],\n",
    "                    }\n",
    "                    \n",
    "output: \n",
    "{'max_depth': 20,\n",
    " 'min_samples_leaf': 600,\n",
    " 'min_samples_split': 2,\n",
    " 'n_estimators': 40}\n",
    "best_score = 0.7677964449764604, test_score = 0.7846835207980667\n",
    "\n",
    "input: \n",
    "param_dist_dict =  { 'max_depth' :         [10,20,30],\n",
    "                     'min_samples_leaf' :  [600,700,800,900,1000],\n",
    "                     'min_samples_split' : [2], \n",
    "                     'n_estimators':       [40],\n",
    "                    }\n",
    "output: \n",
    "{'max_depth': 20,\n",
    " 'min_samples_leaf': 600,\n",
    " 'min_samples_split': 2,\n",
    " 'n_estimators': 40}\n",
    "best_score = 0.7677964449764604, train_score = 0.7846835207980667\n",
    "\n",
    "input: \n",
    "param_dist_dict =  { 'max_depth' :         [15,20,25],\n",
    "                     'min_samples_leaf' :  [550,600,625,650],\n",
    "                     'min_samples_split' : [2], \n",
    "                     'n_estimators':       [40],\n",
    "                    }\n",
    "                    \n",
    "output: \n",
    "{'max_depth': 20,\n",
    " 'min_samples_leaf': 600,\n",
    " 'min_samples_split': 2,\n",
    " 'n_estimators': 40}\n",
    " best_score = 0.7677964449764604, test_score = 0.7846835207980667\n",
    " \n",
    "input: \n",
    " param_dist_dict =  { 'max_depth' :         [16,20,24],\n",
    "                     'min_samples_leaf' :  [570,585,600,615],\n",
    "                     'min_samples_split' : [2], \n",
    "                     'n_estimators':       [40],\n",
    "                    }\n",
    "                    \n",
    "output: \n",
    "{'max_depth': 20,\n",
    " 'min_samples_leaf': 585,\n",
    " 'min_samples_split': 2,\n",
    " 'n_estimators': 40}\n",
    " best_score = 0.7678954093859139, test_score = 0.7850927301123214\n",
    " \n",
    " input: \n",
    " param_dist_dict =  { 'max_depth' :         [17,19,21,23],\n",
    "                     'min_samples_leaf' :  [575,580,585,590,595],\n",
    "                     'min_samples_split' : [2], \n",
    "                     'n_estimators':       [40],\n",
    "                    }\n",
    "output: \n",
    "{'max_depth': 19,\n",
    " 'min_samples_leaf': 595,\n",
    " 'min_samples_split': 2,\n",
    " 'n_estimators': 40}\n",
    "best_score = 0.7679452249753776, test_score = 0.7848303877123949\n",
    "\n",
    "input: \n",
    "param_dist_dict =  { 'max_depth' :         [18,19,20,21,22,23,24],\n",
    "                     'min_samples_leaf' :  [591,592,593,594,595,596,597,598,599,600],\n",
    "                     'min_samples_split' : [2], \n",
    "                     'n_estimators':       [40],\n",
    "                    }\n",
    "output:     \n",
    "{'max_depth': 19,\n",
    " 'min_samples_leaf': 597,\n",
    " 'min_samples_split': 2,\n",
    " 'n_estimators': 40}\n",
    " best_score  = 0.7679517809833616, test_score = 0.7848144488264958\n",
    " \n",
    "******************************************************************\n",
    "Switching to training on full set. And some slightly new level 1 results. \n",
    "******************************************************************\n",
    "\n",
    "input: \n",
    "param_dist_dict =  { 'max_depth' :         [18,19,20,21],\n",
    "                     'min_samples_leaf' :  [594,595,596,597,598,599,600],\n",
    "                     'min_samples_split' : [2], \n",
    "                     'n_estimators':       [40],\n",
    "                    }\n",
    "output:\n",
    "{'max_depth': 18,\n",
    " 'min_samples_leaf': 598,\n",
    " 'min_samples_split': 2,\n",
    " 'n_estimators': 40}\n",
    " best_score = 0.7678558950584005, train_score = 0.7851159325098603\n",
    "\n",
    "input: \n",
    "param_dist_dict =  { 'max_depth' :         [10,15,20],\n",
    "                     'min_samples_leaf' :  [590,595,596,597,598,599,600,610],\n",
    "                     'min_samples_split' : [2], \n",
    "                     'n_estimators':       [40],\n",
    "                    }\n",
    "\n",
    "output: \n",
    "{'max_depth': 20,\n",
    " 'min_samples_leaf': 590,\n",
    " 'min_samples_split': 2,\n",
    " 'n_estimators': 40}\n",
    " best_score = 0.7679840053193745, train_score = 0.7851673942468692\n",
    " \n",
    " input:\n",
    " param_dist_dict =  { 'max_depth' :         [20,30,40,50],\n",
    "                     'min_samples_leaf' :  [200,400,500,525,550,575,600,700,800],\n",
    "                     'min_samples_split' : [2], \n",
    "                     'n_estimators':       [40],\n",
    "                    }\n",
    "output:                     \n",
    " {'max_depth': 20,\n",
    " 'min_samples_leaf': 525,\n",
    " 'min_samples_split': 2,\n",
    " 'n_estimators': 40}\n",
    " best_score = 0.768073429697852, train_score = 0.787580700228428\n",
    " \n",
    " input: \n",
    " param_dist_dict =  { 'max_depth' :         [16,18,20,22,24],\n",
    "                     'min_samples_leaf' :  [505,510,515,520,525,530,535,540,545],\n",
    "                     'min_samples_split' : [2], \n",
    "                     'n_estimators':       [40],\n",
    "                    }\n",
    "output: \n",
    "{'max_depth': 16,\n",
    " 'min_samples_leaf': 510,\n",
    " 'min_samples_split': 2,\n",
    " 'n_estimators': 40}\n",
    "best_score = 0.768248916714676, train_score = 0.787587817537903\n",
    "\n",
    "input: \n",
    "param_dist_dict =  { 'max_depth' :         [5,10,14,16,18,20],\n",
    "                     'min_samples_leaf' :  [505,507,510,512,515],\n",
    "                     'min_samples_split' : [2], \n",
    "                     'n_estimators':       [40],\n",
    "                    }\n",
    "output: \n",
    "{'max_depth': 16,\n",
    " 'min_samples_leaf': 512,\n",
    " 'min_samples_split': 2,\n",
    " 'n_estimators': 40}\n",
    " best_score = 0.7682950251471831, train_score = 0.7874740751036958\n",
    " \n",
    " input: \n",
    " \n",
    " param_dist_dict =  { 'max_depth' :         [14,15,16,17,18],\n",
    "                     'min_samples_leaf' :  [510,511,512,513,514,515],\n",
    "                     'min_samples_split' : [2], \n",
    "                     'n_estimators':       [40],\n",
    "                    }\n",
    "output:\n",
    "{'max_depth': 17,\n",
    " 'min_samples_leaf': 511,\n",
    " 'min_samples_split': 2,\n",
    " 'n_estimators': 40}\n",
    "best_score = 0.7682996744974617, train_score =  0.7879583895814456\n",
    "\n",
    " \n",
    "******************************************************************\n",
    "Restarting (Fix leaked level 1 results.  )\n",
    "******************************************************************\n",
    "\n",
    "input: \n",
    "param_dist_dict =  { 'max_depth' :         [10,15,20,30],\n",
    "                     'min_samples_leaf' :  [400,500,550,600,650],\n",
    "                     'min_samples_split' : [2], \n",
    "                     'n_estimators':       [40],\n",
    "                    }\n",
    "                    \n",
    "output:\n",
    "{'max_depth': 20,\n",
    " 'min_samples_leaf': 550,\n",
    " 'min_samples_split': 2,\n",
    " 'n_estimators': 40}\n",
    " best_score = 0.7681624453883024, train_score = 0.7864507247869006\n",
    " \n",
    " \n",
    " input:\n",
    " param_dist_dict =  { 'max_depth' :         [15,20,22,24,26],\n",
    "                     'min_samples_leaf' :  [520,530,540,550,560,570,580,590],\n",
    "                     'min_samples_split' : [2], \n",
    "                     'n_estimators':       [40],\n",
    "                    }\n",
    "                    \n",
    "output:   \n",
    "{'max_depth': 20,\n",
    " 'min_samples_leaf': 550,\n",
    " 'min_samples_split': 2,\n",
    " 'n_estimators': 40}\n",
    " best_score = 0.7681624453883024, train_score = 0.7864507247869006\n",
    " \n",
    " \n",
    " input: \n",
    " param_dist_dict =  { 'max_depth' :         [16,18,20,22],\n",
    "                     'min_samples_leaf' :  [543,547,550,553,556],\n",
    "                     'min_samples_split' : [2], \n",
    "                     'n_estimators':       [40],\n",
    "                    }\n",
    "\n",
    "output: \n",
    "{'max_depth': 16,\n",
    " 'min_samples_leaf': 550,\n",
    " 'min_samples_split': 2,\n",
    " 'n_estimators': 40}\n",
    " best_score = 0.7681837088411191, train_score = 0.7865378262227534\n",
    " \n",
    " input:\n",
    " param_dist_dict =  { 'max_depth' :         [14,16,18],\n",
    "                     'min_samples_leaf' :  [546,548,550,552,554],\n",
    "                     'min_samples_split' : [2], \n",
    "                     'n_estimators':       [40],\n",
    "                    }\n",
    "output:\n",
    "\n",
    "{'max_depth': 16,\n",
    " 'min_samples_leaf': 550,\n",
    " 'min_samples_split': 2,\n",
    " 'n_estimators': 40}\n",
    " best_score = 0.7681837088411191, train_score = 0.7865378262227534"
   ]
  },
  {
   "cell_type": "code",
   "execution_count": null,
   "metadata": {
    "hidden": true
   },
   "outputs": [],
   "source": []
  },
  {
   "cell_type": "code",
   "execution_count": 31,
   "metadata": {
    "hidden": true
   },
   "outputs": [
    {
     "name": "stdout",
     "output_type": "stream",
     "text": [
      "Memmaping (shape=(79337838,), dtype=int32) to new file /var/folders/1x/nd476hm95310c4gp98rmvwkc0000gn/T/joblib_memmaping_pool_10792_112256452648/10792-111999951312-83d81779c0a161e9d1e756b375ef8701.pkl\n",
      "Memmaping (shape=(307512,), dtype=int32) to new file /var/folders/1x/nd476hm95310c4gp98rmvwkc0000gn/T/joblib_memmaping_pool_10792_112256452648/10792-111999951312-511e4e07e852e42372cd1047cfce8c24.pkl\n",
      "Memmaping (shape=(79337838,), dtype=float64) to new file /var/folders/1x/nd476hm95310c4gp98rmvwkc0000gn/T/joblib_memmaping_pool_10792_112256452648/10792-111999951312-bb0f2fc11be951d7119859e152f852f0.pkl\n",
      "Memmaping (shape=(307511,), dtype=int64) to new file /var/folders/1x/nd476hm95310c4gp98rmvwkc0000gn/T/joblib_memmaping_pool_10792_112256452648/10792-111999951312-7fee98903a11851f0c36b343c7ef5338.pkl\n",
      "Memmaping (shape=(205007,), dtype=int64) to new file /var/folders/1x/nd476hm95310c4gp98rmvwkc0000gn/T/joblib_memmaping_pool_10792_112256452648/10792-111999951312-617b94b8ee1dd73b53ff7a38ec2f741c.pkl\n",
      "Memmaping (shape=(205007,), dtype=int64) to new file /var/folders/1x/nd476hm95310c4gp98rmvwkc0000gn/T/joblib_memmaping_pool_10792_112256452648/10792-111999951312-49dd99a20eff7bff76798131d715d7ea.pkl\n",
      "Memmaping (shape=(205008,), dtype=int64) to new file /var/folders/1x/nd476hm95310c4gp98rmvwkc0000gn/T/joblib_memmaping_pool_10792_112256452648/10792-111999951312-20227521c910aa39c9819320f3625345.pkl\n",
      "[Parallel(n_jobs=-1)]: Done   1 tasks      | elapsed:  3.3min\n",
      "[Parallel(n_jobs=-1)]: Done   3 out of   3 | elapsed:  3.3min remaining:    0.0s\n",
      "[Parallel(n_jobs=-1)]: Done   3 out of   3 | elapsed:  3.3min finished\n"
     ]
    }
   ],
   "source": [
    "# have to use same folds as from level 1 metafeature creation!\n",
    "# this has to be loaded each time bc iteration is 'used up'\n",
    "my_StrKFold = StratifiedKFold(n_splits = 3, \n",
    "                              shuffle = True,\n",
    "                              random_state = 0)\n",
    "\n",
    "my_folds = my_StrKFold.split(total_df, total_df['TARGET'])\n",
    "\n",
    "param_dist_dict =  { 'max_depth' :         16,\n",
    "                     'min_samples_leaf' :  550,\n",
    "                     'min_samples_split' : 2, \n",
    "                     'n_estimators':       40,\n",
    "                    }\n",
    "\n",
    "forest_reg = RandomForestClassifier(random_state=0,\n",
    "                                    class_weight = None,\n",
    "                                    **param_dist_dict)\n",
    "\n",
    "cross_val_preds = cross_val_predict(estimator = forest_reg, \n",
    "                                      X = total_df_piped,\n",
    "                                      y = total_df['TARGET'], \n",
    "                                      groups = None,\n",
    "                                      cv = my_folds,\n",
    "                                      n_jobs = -1,\n",
    "                                      verbose = 51,\n",
    "                                      fit_params = None, \n",
    "                                      pre_dispatch = '2*n_jobs', \n",
    "                                      method = 'predict_proba')"
   ]
  },
  {
   "cell_type": "code",
   "execution_count": null,
   "metadata": {
    "hidden": true
   },
   "outputs": [],
   "source": []
  },
  {
   "cell_type": "code",
   "execution_count": 32,
   "metadata": {
    "hidden": true
   },
   "outputs": [],
   "source": [
    "val_scores = [x[1]for x in cross_val_preds]\n",
    "\n",
    "raw_level_2_new_features_df['RanFor_AllFeats_Level2'] = val_scores"
   ]
  },
  {
   "cell_type": "code",
   "execution_count": null,
   "metadata": {
    "hidden": true
   },
   "outputs": [],
   "source": []
  },
  {
   "cell_type": "code",
   "execution_count": 33,
   "metadata": {
    "hidden": true
   },
   "outputs": [
    {
     "data": {
      "text/plain": [
       "0.7674439691425369"
      ]
     },
     "execution_count": 33,
     "metadata": {},
     "output_type": "execute_result"
    }
   ],
   "source": [
    "roc_auc_score(total_df['TARGET'],val_scores)"
   ]
  },
  {
   "cell_type": "code",
   "execution_count": null,
   "metadata": {
    "hidden": true
   },
   "outputs": [],
   "source": []
  },
  {
   "cell_type": "code",
   "execution_count": 34,
   "metadata": {
    "hidden": true
   },
   "outputs": [
    {
     "data": {
      "text/plain": [
       "RandomForestClassifier(bootstrap=True, class_weight=None, criterion='gini',\n",
       "            max_depth=16, max_features='auto', max_leaf_nodes=None,\n",
       "            min_impurity_decrease=0.0, min_impurity_split=None,\n",
       "            min_samples_leaf=550, min_samples_split=2,\n",
       "            min_weight_fraction_leaf=0.0, n_estimators=40, n_jobs=1,\n",
       "            oob_score=False, random_state=0, verbose=0, warm_start=False)"
      ]
     },
     "execution_count": 34,
     "metadata": {},
     "output_type": "execute_result"
    }
   ],
   "source": [
    "# fit and save model for predictions\n",
    "forest_reg.fit(X = total_df_piped,\n",
    "               y = total_df['TARGET'])"
   ]
  },
  {
   "cell_type": "code",
   "execution_count": 35,
   "metadata": {
    "hidden": true
   },
   "outputs": [
    {
     "data": {
      "text/plain": [
       "['saved_models/level_2_models/RanFor_AllFeats_level_2.joblib']"
      ]
     },
     "execution_count": 35,
     "metadata": {},
     "output_type": "execute_result"
    }
   ],
   "source": [
    "joblib.dump(forest_reg, model_save_path + 'RanFor_AllFeats_level_2.joblib')"
   ]
  },
  {
   "cell_type": "code",
   "execution_count": null,
   "metadata": {
    "hidden": true
   },
   "outputs": [],
   "source": []
  },
  {
   "cell_type": "markdown",
   "metadata": {
    "heading_collapsed": true
   },
   "source": [
    "### log reg"
   ]
  },
  {
   "cell_type": "code",
   "execution_count": null,
   "metadata": {
    "hidden": true
   },
   "outputs": [],
   "source": []
  },
  {
   "cell_type": "raw",
   "metadata": {
    "hidden": true
   },
   "source": [
    "Results: \n",
    "\n",
    "input:\n",
    "param_grid = [{ 'C' : [36,40,50,70] }]\n",
    "\n",
    "output: \n",
    "{'C': 70}\n",
    "best_score = 0.771463923141084, train_score = 0.7746624299958278\n",
    "\n",
    "\n",
    "input: \n",
    "param_grid = [{ 'C' : [70,90,100,120,150,200] }]\n",
    "\n",
    "output: \n",
    "{'C': 200}\n",
    "best_score = 0.7715501709165813, train_score = 0.7746619781370906\n",
    "\n",
    "input: \n",
    "param_grid = [{ 'C' : [200,300,400,500,700] }]\n",
    "output:\n",
    "{'C': 200}\n",
    "best_score = 0.7715501709165813, train_score = 0.7746619781370906\n",
    "\n",
    "input:\n",
    "param_grid = [{ 'C' : [175,185,200,225,250,275] }]\n",
    "output: \n",
    "{'C': 175}\n",
    "best_score = 0.7718108441473754, train_score = 0.7745536856521934\n",
    "\n",
    "input:\n",
    "param_grid = [{ 'C' : [160,165,170,175,180] }]\n",
    "output:\n",
    "{'C': 175}\n",
    "best_score = 0.7718108441473754, test_score = 0.7745536856521934\n",
    "\n",
    "******************************************************************\n",
    "Switching to training on full set. And some slightly new level 1 results. \n",
    "******************************************************************\n",
    "\n",
    "input:\n",
    "param_grid = [{ 'C' : [171,172,173,174,175,176,177,178,179] }]\n",
    "output: \n",
    "{'C': 174}\n",
    "best_score = 0.7714033017857964, train_score = 0.7747486686109132\n",
    "\n",
    "\n",
    " \n",
    "******************************************************************\n",
    "Restarting (Fix leaked level 1 results.  )\n",
    "******************************************************************\n",
    "\n",
    "\n",
    "input: \n",
    "param_grid = [{ 'C' : [170,175,180] }]\n",
    "output: \n",
    "{'C': 175}\n",
    "best_score = 0.7713735163180996, train_score = 0.7746764505839284\n",
    "\n",
    "input: \n",
    "param_grid = [{ 'C' : [171,172,173,174,175,176,177,178,179] }]\n",
    "output: \n",
    "{'C': 179}\n",
    "best_score = 0.7715860050402779, train_score = 0.7738151103627916\n",
    "\n",
    "input: \n",
    "param_grid = [{ 'C' : [177,178,179,180,181] }]\n",
    "output: \n",
    "{'C': 179}\n",
    "bset_score = 0.7715860050402779, train_score = 0.7738151103627916"
   ]
  },
  {
   "cell_type": "code",
   "execution_count": null,
   "metadata": {
    "hidden": true
   },
   "outputs": [],
   "source": []
  },
  {
   "cell_type": "code",
   "execution_count": 36,
   "metadata": {
    "hidden": true
   },
   "outputs": [
    {
     "name": "stdout",
     "output_type": "stream",
     "text": [
      "Memmaping (shape=(79337838,), dtype=int32) to new file /var/folders/1x/nd476hm95310c4gp98rmvwkc0000gn/T/joblib_memmaping_pool_10792_4349895680/10792-112256358776-83d81779c0a161e9d1e756b375ef8701.pkl\n",
      "Memmaping (shape=(307512,), dtype=int32) to new file /var/folders/1x/nd476hm95310c4gp98rmvwkc0000gn/T/joblib_memmaping_pool_10792_4349895680/10792-112256358776-511e4e07e852e42372cd1047cfce8c24.pkl\n",
      "Memmaping (shape=(79337838,), dtype=float64) to new file /var/folders/1x/nd476hm95310c4gp98rmvwkc0000gn/T/joblib_memmaping_pool_10792_4349895680/10792-112256358776-bb0f2fc11be951d7119859e152f852f0.pkl\n",
      "Memmaping (shape=(307511,), dtype=int64) to new file /var/folders/1x/nd476hm95310c4gp98rmvwkc0000gn/T/joblib_memmaping_pool_10792_4349895680/10792-112256358776-7fee98903a11851f0c36b343c7ef5338.pkl\n",
      "Memmaping (shape=(205007,), dtype=int64) to new file /var/folders/1x/nd476hm95310c4gp98rmvwkc0000gn/T/joblib_memmaping_pool_10792_4349895680/10792-112256358776-617b94b8ee1dd73b53ff7a38ec2f741c.pkl\n",
      "Memmaping (shape=(205007,), dtype=int64) to new file /var/folders/1x/nd476hm95310c4gp98rmvwkc0000gn/T/joblib_memmaping_pool_10792_4349895680/10792-112256358776-49dd99a20eff7bff76798131d715d7ea.pkl\n",
      "Memmaping (shape=(205008,), dtype=int64) to new file /var/folders/1x/nd476hm95310c4gp98rmvwkc0000gn/T/joblib_memmaping_pool_10792_4349895680/10792-112256358776-20227521c910aa39c9819320f3625345.pkl\n",
      "[Parallel(n_jobs=-1)]: Done   1 tasks      | elapsed: 19.4min\n"
     ]
    },
    {
     "name": "stderr",
     "output_type": "stream",
     "text": [
      "/anaconda/lib/python3.6/site-packages/sklearn/linear_model/base.py:340: RuntimeWarning: overflow encountered in exp\n",
      "  np.exp(prob, prob)\n"
     ]
    },
    {
     "name": "stdout",
     "output_type": "stream",
     "text": [
      "[Parallel(n_jobs=-1)]: Done   3 out of   3 | elapsed: 39.4min remaining:    0.0s\n",
      "[Parallel(n_jobs=-1)]: Done   3 out of   3 | elapsed: 39.4min finished\n"
     ]
    }
   ],
   "source": [
    "# have to use same folds as from level 1 metafeature creation!\n",
    "# this has to be loaded each time bc iteration is 'used up'\n",
    "my_StrKFold = StratifiedKFold(n_splits = 3, \n",
    "                              shuffle = True,\n",
    "                              random_state = 0)\n",
    "\n",
    "my_folds = my_StrKFold.split(total_df, total_df['TARGET'])\n",
    "\n",
    "my_LgRg = LogisticRegression(penalty= 'l2', \n",
    "                            random_state = 0, \n",
    "                            class_weight = None,\n",
    "                            C = 179.0) \n",
    "\n",
    "cross_val_preds = cross_val_predict(estimator = my_LgRg, \n",
    "                                      X = total_df_piped,\n",
    "                                      y = total_df['TARGET'], \n",
    "                                      groups = None,\n",
    "                                      cv = my_folds,\n",
    "                                      n_jobs = -1,\n",
    "                                      verbose = 51,\n",
    "                                      fit_params = None, \n",
    "                                      pre_dispatch = '2*n_jobs', \n",
    "                                      method = 'predict_proba')"
   ]
  },
  {
   "cell_type": "code",
   "execution_count": null,
   "metadata": {
    "hidden": true
   },
   "outputs": [],
   "source": []
  },
  {
   "cell_type": "code",
   "execution_count": 37,
   "metadata": {
    "hidden": true
   },
   "outputs": [],
   "source": [
    "val_scores = [x[1]for x in cross_val_preds]\n",
    "\n",
    "raw_level_2_new_features_df['LogReg_AllFeats_Level2'] = val_scores"
   ]
  },
  {
   "cell_type": "code",
   "execution_count": null,
   "metadata": {
    "hidden": true
   },
   "outputs": [],
   "source": []
  },
  {
   "cell_type": "code",
   "execution_count": 38,
   "metadata": {
    "hidden": true
   },
   "outputs": [
    {
     "data": {
      "text/plain": [
       "0.774004179116205"
      ]
     },
     "execution_count": 38,
     "metadata": {},
     "output_type": "execute_result"
    }
   ],
   "source": [
    "roc_auc_score(total_df['TARGET'],val_scores)"
   ]
  },
  {
   "cell_type": "code",
   "execution_count": null,
   "metadata": {
    "hidden": true
   },
   "outputs": [],
   "source": []
  },
  {
   "cell_type": "code",
   "execution_count": 39,
   "metadata": {
    "hidden": true
   },
   "outputs": [
    {
     "data": {
      "text/plain": [
       "LogisticRegression(C=179.0, class_weight=None, dual=False, fit_intercept=True,\n",
       "          intercept_scaling=1, max_iter=100, multi_class='ovr', n_jobs=1,\n",
       "          penalty='l2', random_state=0, solver='liblinear', tol=0.0001,\n",
       "          verbose=0, warm_start=False)"
      ]
     },
     "execution_count": 39,
     "metadata": {},
     "output_type": "execute_result"
    }
   ],
   "source": [
    "# fit and save model for predictions\n",
    "my_LgRg.fit(X = total_df_piped,\n",
    "            y = total_df['TARGET'])"
   ]
  },
  {
   "cell_type": "code",
   "execution_count": 40,
   "metadata": {
    "hidden": true
   },
   "outputs": [
    {
     "data": {
      "text/plain": [
       "['saved_models/level_2_models/LogReg_AllFeats_level_2.joblib']"
      ]
     },
     "execution_count": 40,
     "metadata": {},
     "output_type": "execute_result"
    }
   ],
   "source": [
    "joblib.dump(my_LgRg, model_save_path + 'LogReg_AllFeats_level_2.joblib')"
   ]
  },
  {
   "cell_type": "code",
   "execution_count": null,
   "metadata": {
    "hidden": true
   },
   "outputs": [],
   "source": []
  },
  {
   "cell_type": "markdown",
   "metadata": {
    "heading_collapsed": true
   },
   "source": [
    "### MLP Classifier"
   ]
  },
  {
   "cell_type": "code",
   "execution_count": null,
   "metadata": {
    "hidden": true
   },
   "outputs": [],
   "source": []
  },
  {
   "cell_type": "raw",
   "metadata": {
    "hidden": true
   },
   "source": [
    "Results:\n",
    "\n",
    "input:\n",
    "param_dist_dict =  { 'alpha' :         [.1,.5,1],\n",
    "                    'hidden_layer_sizes' : [(40, ),(50, ),(100, ),(150, ),(200, )],\n",
    "                    }\n",
    "                    \n",
    "output: \n",
    "{'alpha': 0.1, 'hidden_layer_sizes': (40,)}\n",
    "best_score = 0.7670088768612681, train_score = 0.7706656650820902\n",
    "\n",
    "input:\n",
    "param_dist_dict =  { 'alpha' :         [.1,.3,.5],\n",
    "                    'hidden_layer_sizes' : [(10, ),(20, ),(30, ),(40, )],\n",
    "                    }\n",
    "                    \n",
    "output:                     \n",
    "{'alpha': 0.1, 'hidden_layer_sizes': (40,)}\n",
    "best_score =0.7670088768612681, test_score = 0.7706656650820902\n",
    "\n",
    "input: \n",
    "param_dist_dict =  { 'alpha' :         [.05,.07,.1],\n",
    "                    'hidden_layer_sizes' : [(35, ),(40, ),(45, )],\n",
    "                    }\n",
    "output:     \n",
    "{'alpha': 0.1, 'hidden_layer_sizes': (40,)}\n",
    "best_score = 0.7670088768612681, train_score = 0.7706656650820902\n",
    "\n",
    "input:\n",
    "param_dist_dict =  { 'alpha' :         [.08,.1,.2,.4,1],\n",
    "                    'hidden_layer_sizes' : [(37, ),(40, ),(43, )],\n",
    "                    }\n",
    "output:\n",
    "{'alpha': 0.1, 'hidden_layer_sizes': (40,)}\n",
    "best_score = 0.7670088768612681, test_score = 0.7706656650820902\n",
    "\n",
    "******************************************************************\n",
    "Switching to training on full set. And some slightly new level 1 results. \n",
    "******************************************************************\n",
    "\n",
    "input:\n",
    "param_dist_dict =  { 'alpha' :         [.09,.10,.12,.14,.16,.18],\n",
    "                    'hidden_layer_sizes' : [(38, ),(39, ),(40, ),(41, ),(42, ),(43, )],\n",
    "                    }\n",
    "output: \n",
    "{'alpha': 0.09, 'hidden_layer_sizes': (43,)}\n",
    "best_score = 0.7675439018233958, train_score = 0.7715119433453217\n",
    "\n",
    "input: \n",
    "param_dist_dict =  { 'alpha' :         [.01,.05,.10],\n",
    "                    'hidden_layer_sizes' : [(40, ),(43, ),(50, ),(70, ),(100, )],\n",
    "                    }\n",
    "output:\n",
    "{'alpha': 0.05, 'hidden_layer_sizes': (100,)}\n",
    "best_score = 0.7676977241901013, train_score = 0.7742670832402382\n",
    "\n",
    "input: \n",
    "param_dist_dict =  { 'alpha' :         [.05],\n",
    "                    'hidden_layer_sizes' : [(80, ),(100, ),(120, ),(140, ),(160, )],\n",
    "                    }\n",
    "output:\n",
    "{'alpha': 0.05, 'hidden_layer_sizes': (100,)}\n",
    "best_score = , train_score = 0.7742670832402382\n",
    "\n",
    "input:\n",
    "param_dist_dict =  { 'alpha' :         [.03,.05,.08],\n",
    "                    'hidden_layer_sizes' : [(90,),(100, ),(110, ),(120,)],\n",
    "                    }\n",
    "output:                    \n",
    "{'alpha': 0.05, 'hidden_layer_sizes': (100,)}\n",
    "best_score = 0.7676977241901013, train_score = 0.7742670832402382\n",
    "\n",
    "input: \n",
    "param_dist_dict =  { 'alpha' :         [.03,.05,.07],\n",
    "                    'hidden_layer_sizes' : [(93,),(97, ),(100, ),(103,),(107, )],\n",
    "                    }\n",
    "                    \n",
    "output:   \n",
    "{'alpha': 0.05, 'hidden_layer_sizes': (100,)}\n",
    "best_score = 0.7676977241901013, train_score = 0.7742670832402382\n",
    "\n",
    "\n",
    "\n",
    "******************************************************************\n",
    "Restarting (Fix leaked level 1 results.  )\n",
    "******************************************************************\n",
    "\n",
    "input: \n",
    "param_dist_dict =  { 'alpha' :         [.01,.05,.1],\n",
    "                    'hidden_layer_sizes' : [(30, ),(40, ),(50, ),(70, ),(100, )],\n",
    "                    }\n",
    "output: \n",
    "{'alpha': 0.05, 'hidden_layer_sizes': (50,)}\n",
    "best_score = 0.7675229837136625, train_score = 0.7733901342992994\n",
    "\n",
    "input: \n",
    "param_dist_dict =  { 'alpha' :         [.03,.05,.07],\n",
    "                    'hidden_layer_sizes' : [(45, ),(50, ),(55, )],\n",
    "                    }\n",
    "output: \n",
    "{'alpha': 0.05, 'hidden_layer_sizes': (55,)}\n",
    "best_score = 0.7678962576420044, train_score = 0.7760116364383361\n",
    "\n",
    "input: \n",
    "param_dist_dict =  { 'alpha' :         [.04,.05,.06],\n",
    "                    'hidden_layer_sizes' : [(52,),(55, ),(60, ),(65, )],\n",
    "                    }\n",
    "output: \n",
    "{'alpha': 0.05, 'hidden_layer_sizes': (55,)}\n",
    "best_score = 0.7678962576420044, train_score = 0.7760116364383361\n"
   ]
  },
  {
   "cell_type": "code",
   "execution_count": null,
   "metadata": {
    "hidden": true
   },
   "outputs": [],
   "source": []
  },
  {
   "cell_type": "code",
   "execution_count": 41,
   "metadata": {
    "hidden": true
   },
   "outputs": [],
   "source": [
    "param_dist_dict =  { 'alpha' :             .05,\n",
    "                    'hidden_layer_sizes' : (55, ),\n",
    "                    }"
   ]
  },
  {
   "cell_type": "code",
   "execution_count": null,
   "metadata": {
    "hidden": true
   },
   "outputs": [],
   "source": []
  },
  {
   "cell_type": "code",
   "execution_count": 42,
   "metadata": {
    "hidden": true
   },
   "outputs": [
    {
     "name": "stdout",
     "output_type": "stream",
     "text": [
      "Memmaping (shape=(79337838,), dtype=int32) to new file /var/folders/1x/nd476hm95310c4gp98rmvwkc0000gn/T/joblib_memmaping_pool_10792_112256367416/10792-4316299336-83d81779c0a161e9d1e756b375ef8701.pkl\n",
      "Memmaping (shape=(307512,), dtype=int32) to new file /var/folders/1x/nd476hm95310c4gp98rmvwkc0000gn/T/joblib_memmaping_pool_10792_112256367416/10792-4316299336-511e4e07e852e42372cd1047cfce8c24.pkl\n",
      "Memmaping (shape=(79337838,), dtype=float64) to new file /var/folders/1x/nd476hm95310c4gp98rmvwkc0000gn/T/joblib_memmaping_pool_10792_112256367416/10792-4316299336-bb0f2fc11be951d7119859e152f852f0.pkl\n",
      "Memmaping (shape=(307511,), dtype=int64) to new file /var/folders/1x/nd476hm95310c4gp98rmvwkc0000gn/T/joblib_memmaping_pool_10792_112256367416/10792-4316299336-7fee98903a11851f0c36b343c7ef5338.pkl\n",
      "Memmaping (shape=(205007,), dtype=int64) to new file /var/folders/1x/nd476hm95310c4gp98rmvwkc0000gn/T/joblib_memmaping_pool_10792_112256367416/10792-4316299336-617b94b8ee1dd73b53ff7a38ec2f741c.pkl\n",
      "Memmaping (shape=(205007,), dtype=int64) to new file /var/folders/1x/nd476hm95310c4gp98rmvwkc0000gn/T/joblib_memmaping_pool_10792_112256367416/10792-4316299336-49dd99a20eff7bff76798131d715d7ea.pkl\n",
      "Memmaping (shape=(205008,), dtype=int64) to new file /var/folders/1x/nd476hm95310c4gp98rmvwkc0000gn/T/joblib_memmaping_pool_10792_112256367416/10792-4316299336-20227521c910aa39c9819320f3625345.pkl\n",
      "[Parallel(n_jobs=-1)]: Done   1 tasks      | elapsed:  2.3min\n",
      "[Parallel(n_jobs=-1)]: Done   3 out of   3 | elapsed:  3.5min remaining:    0.0s\n",
      "[Parallel(n_jobs=-1)]: Done   3 out of   3 | elapsed:  3.5min finished\n"
     ]
    }
   ],
   "source": [
    "# have to use same folds as from level 1 metafeature creation!\n",
    "# this has to be loaded each time bc iteration is 'used up'\n",
    "my_StrKFold = StratifiedKFold(n_splits = 3, \n",
    "                              shuffle = True,\n",
    "                              random_state = 0)\n",
    "\n",
    "my_folds = my_StrKFold.split(total_df, total_df['TARGET'])\n",
    "\n",
    "my_MLP = MLPClassifier(random_state=0, \n",
    "                       tol=0.0001, \n",
    "                     #  verbose=51, \n",
    "                       warm_start=False, \n",
    "                       momentum=0.9,\n",
    "                       **param_dist_dict,)\n",
    "\n",
    "\n",
    "cross_val_preds = cross_val_predict(estimator = my_MLP, \n",
    "                                      X = total_df_piped,\n",
    "                                      y = total_df['TARGET'], \n",
    "                                      groups = None,\n",
    "                                      cv = my_folds,\n",
    "                                      n_jobs = -1,\n",
    "                                      verbose = 51,\n",
    "                                      fit_params = None, \n",
    "                                      pre_dispatch = '2*n_jobs', \n",
    "                                      method = 'predict_proba')"
   ]
  },
  {
   "cell_type": "code",
   "execution_count": null,
   "metadata": {
    "hidden": true
   },
   "outputs": [],
   "source": []
  },
  {
   "cell_type": "code",
   "execution_count": 43,
   "metadata": {
    "hidden": true
   },
   "outputs": [],
   "source": [
    "val_scores = [x[1]for x in cross_val_preds]\n",
    "\n",
    "raw_level_2_new_features_df['MLP_AllFeats_Level2'] = val_scores"
   ]
  },
  {
   "cell_type": "code",
   "execution_count": null,
   "metadata": {
    "hidden": true
   },
   "outputs": [],
   "source": []
  },
  {
   "cell_type": "code",
   "execution_count": 44,
   "metadata": {
    "hidden": true
   },
   "outputs": [
    {
     "data": {
      "text/plain": [
       "0.7652337215805917"
      ]
     },
     "execution_count": 44,
     "metadata": {},
     "output_type": "execute_result"
    }
   ],
   "source": [
    "roc_auc_score(total_df['TARGET'],val_scores)"
   ]
  },
  {
   "cell_type": "code",
   "execution_count": null,
   "metadata": {
    "hidden": true
   },
   "outputs": [],
   "source": []
  },
  {
   "cell_type": "code",
   "execution_count": 45,
   "metadata": {
    "hidden": true
   },
   "outputs": [
    {
     "data": {
      "text/plain": [
       "MLPClassifier(activation='relu', alpha=0.05, batch_size='auto', beta_1=0.9,\n",
       "       beta_2=0.999, early_stopping=False, epsilon=1e-08,\n",
       "       hidden_layer_sizes=(55,), learning_rate='constant',\n",
       "       learning_rate_init=0.001, max_iter=200, momentum=0.9,\n",
       "       nesterovs_momentum=True, power_t=0.5, random_state=0, shuffle=True,\n",
       "       solver='adam', tol=0.0001, validation_fraction=0.1, verbose=False,\n",
       "       warm_start=False)"
      ]
     },
     "execution_count": 45,
     "metadata": {},
     "output_type": "execute_result"
    }
   ],
   "source": [
    "# fit and save model for predictions\n",
    "my_MLP.fit(X = total_df_piped,\n",
    "           y = total_df['TARGET'])"
   ]
  },
  {
   "cell_type": "code",
   "execution_count": 46,
   "metadata": {
    "hidden": true
   },
   "outputs": [
    {
     "data": {
      "text/plain": [
       "['saved_models/level_2_models/MLP_AllFeats_level_2.joblib']"
      ]
     },
     "execution_count": 46,
     "metadata": {},
     "output_type": "execute_result"
    }
   ],
   "source": [
    "joblib.dump(my_MLP, model_save_path + 'MLP_AllFeats_level_2.joblib')"
   ]
  },
  {
   "cell_type": "code",
   "execution_count": null,
   "metadata": {
    "hidden": true
   },
   "outputs": [],
   "source": []
  },
  {
   "cell_type": "markdown",
   "metadata": {
    "heading_collapsed": true
   },
   "source": [
    "# plot so far"
   ]
  },
  {
   "cell_type": "code",
   "execution_count": null,
   "metadata": {
    "hidden": true
   },
   "outputs": [],
   "source": []
  },
  {
   "cell_type": "code",
   "execution_count": 47,
   "metadata": {
    "hidden": true
   },
   "outputs": [],
   "source": [
    "just_for_plotting_df = pd.merge(total_df, raw_level_2_new_features_df, left_index=True, right_index= True, how = 'inner') #on='SK_ID_CURR' )"
   ]
  },
  {
   "cell_type": "code",
   "execution_count": 48,
   "metadata": {
    "hidden": true,
    "scrolled": true
   },
   "outputs": [
    {
     "data": {
      "text/plain": [
       "((307511, 91), (307511, 6), (307511, 97))"
      ]
     },
     "execution_count": 48,
     "metadata": {},
     "output_type": "execute_result"
    }
   ],
   "source": [
    "total_df.shape, raw_level_2_new_features_df.shape, just_for_plotting_df.shape"
   ]
  },
  {
   "cell_type": "code",
   "execution_count": 49,
   "metadata": {
    "hidden": true
   },
   "outputs": [],
   "source": [
    "# get a random sample bc full sample is too much to plot\n",
    "this_sample = balanced_sample(just_for_plotting_df, 24000, 0)"
   ]
  },
  {
   "cell_type": "code",
   "execution_count": 50,
   "metadata": {
    "hidden": true
   },
   "outputs": [],
   "source": [
    "['RanFor_EXTpoly_Level2', 'LogReg_EXTpoly_Level2','MLP_EXTpoly_Level2',\n",
    "'RanFor_AllFeats_Level2','LogReg_AllFeats_Level2''MLP_AllFeats_Level2',];"
   ]
  },
  {
   "cell_type": "code",
   "execution_count": 51,
   "metadata": {
    "hidden": true
   },
   "outputs": [
    {
     "data": {
      "image/png": "[encoded data removed]",
      "text/plain": [
       "<Figure size 720x288 with 2 Axes>"
      ]
     },
     "metadata": {},
     "output_type": "display_data"
    }
   ],
   "source": [
    "feat = 'RanFor_EXTpoly_Level2'\n",
    "#this_sample['LogMod_'+ feat] = log_modulus_transformation(this_sample[feat])\n",
    "this_sample['pwr_'+ feat] = (+this_sample[feat])**(1/5)\n",
    "this_sample['pwr_'+ feat] = \\\n",
    "(this_sample['pwr_'+ feat] - min(this_sample['pwr_'+ feat])) /( max(this_sample['pwr_'+ feat]) - min(this_sample['pwr_'+ feat]))\n",
    "\n",
    "my_list = [feat,  'pwr_'+ feat] # 'LogMod_'+feat,\n",
    "num_plots = len(my_list)\n",
    "\n",
    "fig, axs = plt.subplots(nrows = 1,\n",
    "                        ncols = num_plots,\n",
    "                        figsize = (num_plots*5,  4));\n",
    "\n",
    "for f, a in zip(my_list, range(len(my_list))):   \n",
    "    dat_0 = this_sample[ (this_sample['TARGET']== 0) ][f]\n",
    "    dat_1 = this_sample[ (this_sample['TARGET']== 1) ][f]\n",
    "\n",
    "    my_bins =np.histogram(  this_sample[f]  , bins = 30 )[1] \n",
    "    \n",
    "    g0 = sns.distplot(dat_0, color = 'blue', ax = axs[a], kde = False, bins = my_bins)\n",
    "    g1 = sns.distplot(dat_1, color = 'red',  ax = axs[a], kde = False, bins = my_bins)\n",
    "    \n",
    "plt.tight_layout()"
   ]
  },
  {
   "cell_type": "code",
   "execution_count": 52,
   "metadata": {
    "hidden": true
   },
   "outputs": [
    {
     "data": {
      "image/png": "[encoded data removed]",
      "text/plain": [
       "<Figure size 720x288 with 2 Axes>"
      ]
     },
     "metadata": {},
     "output_type": "display_data"
    }
   ],
   "source": [
    "feat = 'LogReg_EXTpoly_Level2'\n",
    "#this_sample['LogMod_'+ feat] = log_modulus_transformation(this_sample[feat])\n",
    "this_sample['pwr_'+ feat] = (+this_sample[feat])**(1/5)\n",
    "this_sample['pwr_'+ feat] = \\\n",
    "(this_sample['pwr_'+ feat] - min(this_sample['pwr_'+ feat])) /( max(this_sample['pwr_'+ feat]) - min(this_sample['pwr_'+ feat]))\n",
    "\n",
    "my_list = [feat,  'pwr_'+ feat] # 'LogMod_'+feat,\n",
    "num_plots = len(my_list)\n",
    "\n",
    "fig, axs = plt.subplots(nrows = 1,\n",
    "                        ncols = num_plots,\n",
    "                        figsize = (num_plots*5,  4));\n",
    "\n",
    "for f, a in zip(my_list, range(len(my_list))):   \n",
    "    dat_0 = this_sample[ (this_sample['TARGET']== 0) ][f]\n",
    "    dat_1 = this_sample[ (this_sample['TARGET']== 1) ][f]\n",
    "\n",
    "    my_bins =np.histogram(  this_sample[f]  , bins = 30 )[1] \n",
    "    \n",
    "    g0 = sns.distplot(dat_0, color = 'blue', ax = axs[a], kde = False, bins = my_bins)\n",
    "    g1 = sns.distplot(dat_1, color = 'red',  ax = axs[a], kde = False, bins = my_bins)\n",
    "    \n",
    "plt.tight_layout()"
   ]
  },
  {
   "cell_type": "code",
   "execution_count": 53,
   "metadata": {
    "hidden": true
   },
   "outputs": [
    {
     "data": {
      "image/png": "[encoded data removed]",
      "text/plain": [
       "<Figure size 720x288 with 2 Axes>"
      ]
     },
     "metadata": {},
     "output_type": "display_data"
    }
   ],
   "source": [
    "feat = 'MLP_EXTpoly_Level2'\n",
    "#this_sample['LogMod_'+ feat] = log_modulus_transformation(this_sample[feat])\n",
    "this_sample['pwr_'+ feat] = (+this_sample[feat])**(1/5)\n",
    "this_sample['pwr_'+ feat] = \\\n",
    "(this_sample['pwr_'+ feat] - min(this_sample['pwr_'+ feat])) /( max(this_sample['pwr_'+ feat]) - min(this_sample['pwr_'+ feat]))\n",
    "\n",
    "my_list = [feat,  'pwr_'+ feat] # 'LogMod_'+feat,\n",
    "num_plots = len(my_list)\n",
    "\n",
    "fig, axs = plt.subplots(nrows = 1,\n",
    "                        ncols = num_plots,\n",
    "                        figsize = (num_plots*5,  4));\n",
    "\n",
    "for f, a in zip(my_list, range(len(my_list))):   \n",
    "    dat_0 = this_sample[ (this_sample['TARGET']== 0) ][f]\n",
    "    dat_1 = this_sample[ (this_sample['TARGET']== 1) ][f]\n",
    "\n",
    "    my_bins =np.histogram(  this_sample[f]  , bins = 30 )[1] \n",
    "    \n",
    "    g0 = sns.distplot(dat_0, color = 'blue', ax = axs[a], kde = False, bins = my_bins)\n",
    "    g1 = sns.distplot(dat_1, color = 'red',  ax = axs[a], kde = False, bins = my_bins)\n",
    "    \n",
    "plt.tight_layout()"
   ]
  },
  {
   "cell_type": "code",
   "execution_count": 54,
   "metadata": {
    "hidden": true
   },
   "outputs": [
    {
     "data": {
      "image/png": "[encoded data removed]",
      "text/plain": [
       "<Figure size 720x288 with 2 Axes>"
      ]
     },
     "metadata": {},
     "output_type": "display_data"
    }
   ],
   "source": [
    "feat = 'RanFor_AllFeats_Level2'\n",
    "#this_sample['LogMod_'+ feat] = log_modulus_transformation(this_sample[feat])\n",
    "this_sample['pwr_'+ feat] = (+this_sample[feat])**(1/5)\n",
    "this_sample['pwr_'+ feat] = \\\n",
    "(this_sample['pwr_'+ feat] - min(this_sample['pwr_'+ feat])) /( max(this_sample['pwr_'+ feat]) - min(this_sample['pwr_'+ feat]))\n",
    "\n",
    "my_list = [feat,  'pwr_'+ feat] # 'LogMod_'+feat,\n",
    "num_plots = len(my_list)\n",
    "\n",
    "fig, axs = plt.subplots(nrows = 1,\n",
    "                        ncols = num_plots,\n",
    "                        figsize = (num_plots*5,  4));\n",
    "\n",
    "for f, a in zip(my_list, range(len(my_list))):   \n",
    "    dat_0 = this_sample[ (this_sample['TARGET']== 0) ][f]\n",
    "    dat_1 = this_sample[ (this_sample['TARGET']== 1) ][f]\n",
    "\n",
    "    my_bins =np.histogram(  this_sample[f]  , bins = 30 )[1] \n",
    "    \n",
    "    g0 = sns.distplot(dat_0, color = 'blue', ax = axs[a], kde = False, bins = my_bins)\n",
    "    g1 = sns.distplot(dat_1, color = 'red',  ax = axs[a], kde = False, bins = my_bins)\n",
    "    \n",
    "plt.tight_layout()"
   ]
  },
  {
   "cell_type": "code",
   "execution_count": 55,
   "metadata": {
    "hidden": true
   },
   "outputs": [
    {
     "data": {
      "image/png": "[encoded data removed]",
      "text/plain": [
       "<Figure size 720x288 with 2 Axes>"
      ]
     },
     "metadata": {},
     "output_type": "display_data"
    }
   ],
   "source": [
    "feat = 'LogReg_AllFeats_Level2'\n",
    "#this_sample['LogMod_'+ feat] = log_modulus_transformation(this_sample[feat])\n",
    "this_sample['pwr_'+ feat] = (+this_sample[feat])**(1/5)\n",
    "this_sample['pwr_'+ feat] = \\\n",
    "(this_sample['pwr_'+ feat] - min(this_sample['pwr_'+ feat])) /( max(this_sample['pwr_'+ feat]) - min(this_sample['pwr_'+ feat]))\n",
    "\n",
    "my_list = [feat,  'pwr_'+ feat] # 'LogMod_'+feat,\n",
    "num_plots = len(my_list)\n",
    "\n",
    "fig, axs = plt.subplots(nrows = 1,\n",
    "                        ncols = num_plots,\n",
    "                        figsize = (num_plots*5,  4));\n",
    "\n",
    "for f, a in zip(my_list, range(len(my_list))):   \n",
    "    dat_0 = this_sample[ (this_sample['TARGET']== 0) ][f]\n",
    "    dat_1 = this_sample[ (this_sample['TARGET']== 1) ][f]\n",
    "\n",
    "    my_bins =np.histogram(  this_sample[f]  , bins = 30 )[1] \n",
    "    \n",
    "    g0 = sns.distplot(dat_0, color = 'blue', ax = axs[a], kde = False, bins = my_bins)\n",
    "    g1 = sns.distplot(dat_1, color = 'red',  ax = axs[a], kde = False, bins = my_bins)\n",
    "    \n",
    "plt.tight_layout()"
   ]
  },
  {
   "cell_type": "code",
   "execution_count": 56,
   "metadata": {
    "hidden": true
   },
   "outputs": [
    {
     "data": {
      "image/png": "[encoded data removed]",
      "text/plain": [
       "<Figure size 720x288 with 2 Axes>"
      ]
     },
     "metadata": {},
     "output_type": "display_data"
    }
   ],
   "source": [
    "feat = 'MLP_AllFeats_Level2'\n",
    "#this_sample['LogMod_'+ feat] = log_modulus_transformation(this_sample[feat])\n",
    "this_sample['pwr_'+ feat] = (+this_sample[feat])**(1/5)\n",
    "this_sample['pwr_'+ feat] = \\\n",
    "(this_sample['pwr_'+ feat] - min(this_sample['pwr_'+ feat])) /( max(this_sample['pwr_'+ feat]) - min(this_sample['pwr_'+ feat]))\n",
    "\n",
    "my_list = [feat,  'pwr_'+ feat] # 'LogMod_'+feat,\n",
    "num_plots = len(my_list)\n",
    "\n",
    "fig, axs = plt.subplots(nrows = 1,\n",
    "                        ncols = num_plots,\n",
    "                        figsize = (num_plots*5,  4));\n",
    "\n",
    "for f, a in zip(my_list, range(len(my_list))):   \n",
    "    dat_0 = this_sample[ (this_sample['TARGET']== 0) ][f]\n",
    "    dat_1 = this_sample[ (this_sample['TARGET']== 1) ][f]\n",
    "\n",
    "    my_bins =np.histogram(  this_sample[f]  , bins = 30 )[1] \n",
    "    \n",
    "    g0 = sns.distplot(dat_0, color = 'blue', ax = axs[a], kde = False, bins = my_bins)\n",
    "    g1 = sns.distplot(dat_1, color = 'red',  ax = axs[a], kde = False, bins = my_bins)\n",
    "    \n",
    "plt.tight_layout()"
   ]
  },
  {
   "cell_type": "code",
   "execution_count": null,
   "metadata": {
    "hidden": true
   },
   "outputs": [],
   "source": []
  },
  {
   "cell_type": "markdown",
   "metadata": {
    "heading_collapsed": true
   },
   "source": [
    "# Final level 2 metafeatures"
   ]
  },
  {
   "cell_type": "code",
   "execution_count": null,
   "metadata": {
    "hidden": true
   },
   "outputs": [],
   "source": []
  },
  {
   "cell_type": "code",
   "execution_count": 57,
   "metadata": {
    "hidden": true
   },
   "outputs": [],
   "source": [
    "def pwr_and_rescale(df_col, pwr):\n",
    "    temp_col = df_col**pwr\n",
    "    return (temp_col - min(temp_col)) /( max(temp_col) - min(temp_col))"
   ]
  },
  {
   "cell_type": "code",
   "execution_count": null,
   "metadata": {
    "hidden": true
   },
   "outputs": [],
   "source": []
  },
  {
   "cell_type": "code",
   "execution_count": 58,
   "metadata": {
    "hidden": true
   },
   "outputs": [],
   "source": [
    "FINAL_level_2_new_features_df = pd.DataFrame()"
   ]
  },
  {
   "cell_type": "code",
   "execution_count": null,
   "metadata": {
    "hidden": true
   },
   "outputs": [],
   "source": []
  },
  {
   "cell_type": "code",
   "execution_count": 59,
   "metadata": {
    "hidden": true
   },
   "outputs": [],
   "source": [
    "feat = 'RanFor_EXTpoly_Level2'\n",
    "FINAL_level_2_new_features_df['pwr_rescale_'+ feat] = pwr_and_rescale(+raw_level_2_new_features_df[feat], 1/5)\n",
    "\n",
    "feat = 'LogReg_EXTpoly_Level2'\n",
    "FINAL_level_2_new_features_df['pwr_rescale_'+ feat] = pwr_and_rescale(+raw_level_2_new_features_df[feat], 1/3.5)\n",
    "\n",
    "feat = 'MLP_EXTpoly_Level2'\n",
    "FINAL_level_2_new_features_df['pwr_rescale_'+ feat] = pwr_and_rescale(+raw_level_2_new_features_df[feat], 1/4)\n",
    "\n",
    "feat = 'RanFor_AllFeats_Level2'\n",
    "FINAL_level_2_new_features_df['pwr_rescale_'+ feat] = pwr_and_rescale(+raw_level_2_new_features_df[feat], 1/7)\n",
    "\n",
    "feat = 'LogReg_AllFeats_Level2'\n",
    "FINAL_level_2_new_features_df['pwr_rescale_'+ feat] = pwr_and_rescale(+raw_level_2_new_features_df[feat], 1/4)\n",
    "\n",
    "feat = 'MLP_AllFeats_Level2'\n",
    "FINAL_level_2_new_features_df['pwr_rescale_'+ feat] = pwr_and_rescale(+raw_level_2_new_features_df[feat], 1/4)\n"
   ]
  },
  {
   "cell_type": "code",
   "execution_count": null,
   "metadata": {
    "hidden": true
   },
   "outputs": [],
   "source": []
  },
  {
   "cell_type": "code",
   "execution_count": 60,
   "metadata": {
    "hidden": true
   },
   "outputs": [
    {
     "data": {
      "text/plain": [
       "'/Users/DonBunk/Desktop/Google Drive/data_science/Python_Projects/Home_Credit_Default_Risk'"
      ]
     },
     "execution_count": 60,
     "metadata": {},
     "output_type": "execute_result"
    }
   ],
   "source": [
    "pwd"
   ]
  },
  {
   "cell_type": "code",
   "execution_count": 61,
   "metadata": {
    "hidden": true
   },
   "outputs": [],
   "source": [
    "save_path = 'level_2_ensembling/'\n",
    "FINAL_level_2_new_features_df.to_csv(save_path + 'FINAL_level_2_meta_features_df.csv', columns = list(FINAL_level_2_new_features_df.columns))"
   ]
  },
  {
   "cell_type": "code",
   "execution_count": null,
   "metadata": {
    "hidden": true
   },
   "outputs": [],
   "source": []
  },
  {
   "cell_type": "code",
   "execution_count": null,
   "metadata": {
    "hidden": true
   },
   "outputs": [],
   "source": []
  },
  {
   "cell_type": "code",
   "execution_count": null,
   "metadata": {
    "hidden": true
   },
   "outputs": [],
   "source": []
  }
 ],
 "metadata": {
  "kernelspec": {
   "display_name": "Python 3",
   "language": "python",
   "name": "python3"
  },
  "language_info": {
   "codemirror_mode": {
    "name": "ipython",
    "version": 3
   },
   "file_extension": ".py",
   "mimetype": "text/x-python",
   "name": "python",
   "nbconvert_exporter": "python",
   "pygments_lexer": "ipython3",
   "version": "3.6.6"
  },
  "latex_envs": {
   "LaTeX_envs_menu_present": true,
   "autocomplete": true,
   "bibliofile": "biblio.bib",
   "cite_by": "apalike",
   "current_citInitial": 1,
   "eqLabelWithNumbers": true,
   "eqNumInitial": 1,
   "hotkeys": {
    "equation": "Ctrl-E",
    "itemize": "Ctrl-I"
   },
   "labels_anchors": false,
   "latex_user_defs": false,
   "report_style_numbering": false,
   "user_envs_cfg": false
  },
  "toc": {
   "nav_menu": {},
   "number_sections": true,
   "sideBar": true,
   "skip_h1_title": false,
   "toc_cell": false,
   "toc_position": {},
   "toc_section_display": "none",
   "toc_window_display": false
  },
  "varInspector": {
   "cols": {
    "lenName": 16,
    "lenType": 16,
    "lenVar": 40
   },
   "kernels_config": {
    "python": {
     "delete_cmd_postfix": "",
     "delete_cmd_prefix": "del ",
     "library": "var_list.py",
     "varRefreshCmd": "print(var_dic_list())"
    },
    "r": {
     "delete_cmd_postfix": ") ",
     "delete_cmd_prefix": "rm(",
     "library": "var_list.r",
     "varRefreshCmd": "cat(var_dic_list()) "
    }
   },
   "oldHeight": 1038.5,
   "position": {
    "height": "852px",
    "left": "1314px",
    "right": "46px",
    "top": "121px",
    "width": "800px"
   },
   "types_to_exclude": [
    "module",
    "function",
    "builtin_function_or_method",
    "instance",
    "_Feature"
   ],
   "varInspector_section_display": "block",
   "window_display": false
  }
 },
 "nbformat": 4,
 "nbformat_minor": 2
}
