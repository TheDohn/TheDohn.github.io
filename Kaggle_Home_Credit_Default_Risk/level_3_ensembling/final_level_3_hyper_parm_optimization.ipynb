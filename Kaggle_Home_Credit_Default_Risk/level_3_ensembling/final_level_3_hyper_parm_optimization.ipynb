{
 "cells": [
  {
   "cell_type": "code",
   "execution_count": null,
   "metadata": {},
   "outputs": [],
   "source": []
  },
  {
   "cell_type": "code",
   "execution_count": 1,
   "metadata": {
    "scrolled": true
   },
   "outputs": [
    {
     "data": {
      "text/plain": [
       "('0.23.0', '1.14.3')"
      ]
     },
     "execution_count": 1,
     "metadata": {},
     "output_type": "execute_result"
    }
   ],
   "source": [
    "import pandas as pd\n",
    "\n",
    "import numpy as np\n",
    "\n",
    "# import matplotlib.pyplot as plt\n",
    "# import seaborn as sns\n",
    "# sns.set(context = 'notebook', #mostly controls relative sizes of things on plot \n",
    "#                         #The base context is “notebook”, and the other contexts are “paper”, “talk”, and “poster”\n",
    "#         style = 'darkgrid', #dict, None, or one of {darkgrid, whitegrid, dark, white, ticks}\n",
    "#         palette = 'deep', # Should be something that color_palette() can process.\n",
    "#         font_scale = 1, \n",
    "#         color_codes = False, \n",
    "#         rc = None)\n",
    "\n",
    "# from IPython.core.interactiveshell import InteractiveShell \n",
    "# InteractiveShell.ast_node_interactivity = 'last_expr' \n",
    "# setting = \"all\" allows multiple outputs to be displayed for a given input cell. don't use w plotting!\n",
    "\n",
    "from IPython.display import display\n",
    "\n",
    "# %matplotlib notebook\n",
    "#%matplotlib inline\n",
    "\n",
    "pd.__version__ , np.__version__ #,  matplotlib.__version__, sns.__version__"
   ]
  },
  {
   "cell_type": "code",
   "execution_count": null,
   "metadata": {},
   "outputs": [],
   "source": []
  },
  {
   "cell_type": "code",
   "execution_count": 2,
   "metadata": {},
   "outputs": [],
   "source": [
    "from sklearn.model_selection import train_test_split, learning_curve, cross_val_score, KFold, StratifiedKFold, \\\n",
    "                                    ShuffleSplit, GridSearchCV, RandomizedSearchCV\n",
    "\n",
    "from sklearn.metrics import roc_auc_score\n",
    "\n",
    "from sklearn.ensemble import RandomForestClassifier\n",
    "from sklearn.linear_model import LogisticRegression\n",
    "from sklearn.neural_network import MLPClassifier\n",
    "from sklearn.ensemble import AdaBoostClassifier\n",
    "\n",
    "from sklearn.tree import DecisionTreeClassifier"
   ]
  },
  {
   "cell_type": "code",
   "execution_count": null,
   "metadata": {},
   "outputs": [],
   "source": []
  },
  {
   "cell_type": "code",
   "execution_count": 3,
   "metadata": {
    "scrolled": true
   },
   "outputs": [
    {
     "data": {
      "text/plain": [
       "'/home/thedohn/Notebooks'"
      ]
     },
     "execution_count": 3,
     "metadata": {},
     "output_type": "execute_result"
    }
   ],
   "source": [
    "pwd"
   ]
  },
  {
   "cell_type": "code",
   "execution_count": 4,
   "metadata": {},
   "outputs": [],
   "source": [
    "#cd '/Users/DonBunk/Desktop/Google Drive/data_science/Python_Projects/Home_Credit_Default_Risk/'"
   ]
  },
  {
   "cell_type": "code",
   "execution_count": 5,
   "metadata": {},
   "outputs": [],
   "source": [
    "from Home_Credit_package.master_pipeline import master_pipeline"
   ]
  },
  {
   "cell_type": "code",
   "execution_count": null,
   "metadata": {},
   "outputs": [],
   "source": []
  },
  {
   "cell_type": "markdown",
   "metadata": {},
   "source": [
    "# load this"
   ]
  },
  {
   "cell_type": "code",
   "execution_count": null,
   "metadata": {},
   "outputs": [],
   "source": []
  },
  {
   "cell_type": "markdown",
   "metadata": {
    "heading_collapsed": true
   },
   "source": [
    "## load df."
   ]
  },
  {
   "cell_type": "code",
   "execution_count": null,
   "metadata": {
    "hidden": true
   },
   "outputs": [],
   "source": []
  },
  {
   "cell_type": "code",
   "execution_count": 6,
   "metadata": {
    "hidden": true
   },
   "outputs": [],
   "source": [
    "path_o = ''#'wrangling/create_final_wrangled_csv/'\n",
    "path_input = ''#'level_3_ensembling/'\n",
    "original_cleaned_df = pd.read_csv(path_o + 'complete_initial_wrangled_data.csv', index_col = 'SK_ID_CURR')\n",
    "level_1_metafeatures_df = pd.read_csv(path_input + 'level_3_input_FINAL_level_2_meta_features_df.csv', index_col = 'SK_ID_CURR')\n",
    "total_df = pd.merge(original_cleaned_df, level_1_metafeatures_df, left_index=True, right_index=True, how = 'outer' )"
   ]
  },
  {
   "cell_type": "code",
   "execution_count": null,
   "metadata": {
    "hidden": true
   },
   "outputs": [],
   "source": []
  },
  {
   "cell_type": "code",
   "execution_count": 7,
   "metadata": {
    "hidden": true
   },
   "outputs": [
    {
     "name": "stdout",
     "output_type": "stream",
     "text": [
      "<class 'pandas.core.frame.DataFrame'>\n",
      "Int64Index: 307511 entries, 100002 to 456255\n",
      "Data columns (total 92 columns):\n",
      "TARGET                                307511 non-null int64\n",
      "NAME_CONTRACT_TYPE                    307511 non-null object\n",
      "CODE_GENDER                           307511 non-null object\n",
      "FLAG_OWN_CAR                          307511 non-null object\n",
      "FLAG_OWN_REALTY                       307511 non-null object\n",
      "CNT_CHILDREN                          307511 non-null int64\n",
      "NAME_EDUCATION_TYPE                   307511 non-null object\n",
      "NAME_FAMILY_STATUS                    307511 non-null object\n",
      "DAYS_BIRTH                            307511 non-null int64\n",
      "FLAG_EMP_PHONE                        307511 non-null int64\n",
      "FLAG_WORK_PHONE                       307511 non-null int64\n",
      "FLAG_PHONE                            307511 non-null int64\n",
      "FLAG_EMAIL                            307511 non-null int64\n",
      "CNT_FAM_MEMBERS                       307511 non-null int64\n",
      "REGION_RATING_CLIENT                  307511 non-null int64\n",
      "WEEKDAY_APPR_PROCESS_START            307511 non-null object\n",
      "HOUR_APPR_PROCESS_START               307511 non-null int64\n",
      "REG_REGION_NOT_LIVE_REGION            307511 non-null int64\n",
      "REG_REGION_NOT_WORK_REGION            307511 non-null int64\n",
      "LIVE_REGION_NOT_WORK_REGION           307511 non-null int64\n",
      "REG_CITY_NOT_LIVE_CITY                307511 non-null int64\n",
      "REG_CITY_NOT_WORK_CITY                307511 non-null int64\n",
      "LIVE_CITY_NOT_WORK_CITY               307511 non-null int64\n",
      "EXT_SOURCE_1                          307511 non-null float64\n",
      "EXT_SOURCE_2                          307511 non-null float64\n",
      "EXT_SOURCE_3                          307511 non-null float64\n",
      "APARTMENTS_AVG                        307511 non-null float64\n",
      "LANDAREA_AVG                          307511 non-null float64\n",
      "TOTALAREA_MODE                        307511 non-null float64\n",
      "EMERGENCYSTATE_MODE                   307511 non-null object\n",
      "OBS_60_CNT_SOCIAL_CIRCLE              307511 non-null float64\n",
      "FLAG_DOCUMENT_3                       307511 non-null int64\n",
      "FLAG_DOCUMENT_6                       307511 non-null int64\n",
      "AMT_REQ_CREDIT_BUREAU_YEAR            307511 non-null float64\n",
      "NULL_COUNTS                           307511 non-null int64\n",
      "SOCIAL_NULL_COUNTS                    307511 non-null int64\n",
      "NAME_TYPE_SUITE_condensed             307511 non-null object\n",
      "NAME_INCOME_TYPE_condensed            307511 non-null object\n",
      "NAME_HOUSING_TYPE_condensed           307511 non-null object\n",
      "OCCUPATION_TYPE_condensed             307511 non-null object\n",
      "ORGANIZATION_TYPE_condensed           307511 non-null object\n",
      "DAYS_EMPLOYED_eq_365243               307511 non-null object\n",
      "log_AMT_INCOME_TOTAL                  307511 non-null float64\n",
      "log_AMT_CREDIT                        307511 non-null float64\n",
      "pwr_AMT_ANNUITY_from_app_train        307511 non-null float64\n",
      "log_AMT_GOODS_PRICE                   307511 non-null float64\n",
      "pwr_REGION_POPULATION_RELATIVE        307511 non-null float64\n",
      "pwr_DAYS_REGISTRATION                 307511 non-null float64\n",
      "pwr_OWN_CAR_AGE                       307511 non-null float64\n",
      "pwr_DAYS_LAST_PHONE_CHANGE            307511 non-null float64\n",
      "pwr_DAYS_EMPLOYED                     307511 non-null float64\n",
      "pwr_DAYS_ID_PUBLISH                   307511 non-null float64\n",
      "DAYS_CREDIT_min                       307511 non-null float64\n",
      "CREDIT_ACTIVE_mode_condensed          307511 non-null object\n",
      "CREDIT_CURRENCY_mode_condensed        307511 non-null object\n",
      "CREDIT_TYPE_mode_condensed            307511 non-null object\n",
      "pwr_DAYS_CREDIT_mean                  307511 non-null float64\n",
      "pwr_DAYS_ENDDATE_FACT_min             307511 non-null float64\n",
      "pwr_DAYS_CREDIT_median                307511 non-null float64\n",
      "pwr_DAYS_ENDDATE_FACT_median          307511 non-null float64\n",
      "LogMod_AMT_CREDIT_SUM_DEBT_mean       307511 non-null float64\n",
      "pwr_DAYS_CREDIT_ENDDATE_mean          307511 non-null float64\n",
      "pwr_DAYS_CREDIT_UPDATE_mean           307511 non-null float64\n",
      "NUM_OF_LOANS                          307511 non-null float64\n",
      "AMT_OVERPAY_MEAN                      307511 non-null float64\n",
      "AMT_OVERPAY_SD                        307511 non-null float64\n",
      "NUM_TIMES_OVERPAY                     307511 non-null float64\n",
      "NUM_INSTALMENT_VERSION_max            307511 non-null float64\n",
      "NUM_INSTALMENT_VERSION_min            307511 non-null float64\n",
      "DAYS_INSTALMENT_min                   307511 non-null float64\n",
      "DAYS_ENTRY_PAYMENT_min                307511 non-null float64\n",
      "pwr_DAYS_PAYMENT_LATE_median          307511 non-null float64\n",
      "LogMod_DAYS_PAYMENT_LATE_sd           307511 non-null float64\n",
      "pwr_NUM_TIMES_LATE                    307511 non-null float64\n",
      "LogMod_NUM_TIMES_EARLY                307511 non-null float64\n",
      "pwr_TERMS_CHANGE_TIMES                307511 non-null float64\n",
      "pwr_DAYS_INSTALMENT_mean              307511 non-null float64\n",
      "pwr_DAYS_ENTRY_PAYMENT_mean           307511 non-null float64\n",
      "LogMod_AMT_INSTALMENT_mean            307511 non-null float64\n",
      "pwr_AMT_INSTALMENT_max                307511 non-null float64\n",
      "pwr_AMT_INSTALMENT_min                307511 non-null float64\n",
      "LogMod_AMT_PAYMENT_mean               307511 non-null float64\n",
      "LogMod_AMT_PAYMENT_max                307511 non-null float64\n",
      "pwr_AMT_PAYMENT_min                   307511 non-null float64\n",
      "LogMod_NUM_INSTALMENT_NUMBER_mean     307511 non-null float64\n",
      "LogMod_NUM_INSTALMENT_NUMBER_max      307511 non-null float64\n",
      "pwr_rescale_RanFor_EXTpoly_Level2     307511 non-null float64\n",
      "pwr_rescale_LogReg_EXTpoly_Level2     307511 non-null float64\n",
      "pwr_rescale_MLP_EXTpoly_Level2        307511 non-null float64\n",
      "pwr_rescale_RanFor_AllFeats_Level2    307511 non-null float64\n",
      "pwr_rescale_LogReg_AllFeats_Level2    307511 non-null float64\n",
      "pwr_rescale_MLP_AllFeats_Level2       307511 non-null float64\n",
      "dtypes: float64(55), int64(20), object(17)\n",
      "memory usage: 228.2+ MB\n"
     ]
    }
   ],
   "source": [
    "total_df.info(verbose = True, null_counts = True);"
   ]
  },
  {
   "cell_type": "code",
   "execution_count": 8,
   "metadata": {
    "hidden": true
   },
   "outputs": [
    {
     "data": {
      "text/plain": [
       "Series([], dtype: bool)"
      ]
     },
     "execution_count": 8,
     "metadata": {},
     "output_type": "execute_result"
    }
   ],
   "source": [
    "# CHECK: this should be empty if everything is non null\n",
    "total_df.isnull().any()[total_df.isnull().any()==True]"
   ]
  },
  {
   "cell_type": "code",
   "execution_count": null,
   "metadata": {
    "hidden": true
   },
   "outputs": [],
   "source": []
  },
  {
   "cell_type": "markdown",
   "metadata": {},
   "source": [
    "# models with only EXT SOURCES + level 2 final scores.                                     "
   ]
  },
  {
   "cell_type": "code",
   "execution_count": null,
   "metadata": {},
   "outputs": [],
   "source": []
  },
  {
   "cell_type": "code",
   "execution_count": 56,
   "metadata": {
    "scrolled": true
   },
   "outputs": [],
   "source": [
    "minimal_feats = ['EXT_SOURCE_1','EXT_SOURCE_2','EXT_SOURCE_3',\n",
    "                 'pwr_rescale_RanFor_EXTpoly_Level2',     \n",
    "                    'pwr_rescale_LogReg_EXTpoly_Level2',     \n",
    "                    'pwr_rescale_MLP_EXTpoly_Level2',        \n",
    "                    'pwr_rescale_RanFor_AllFeats_Level2', \n",
    "                    'pwr_rescale_LogReg_AllFeats_Level2',  \n",
    "                    'pwr_rescale_MLP_AllFeats_Level2',\n",
    "                    ]"
   ]
  },
  {
   "cell_type": "code",
   "execution_count": 57,
   "metadata": {},
   "outputs": [
    {
     "name": "stdout",
     "output_type": "stream",
     "text": [
      "Total original feat len is 9. Sum of feats is 9.\n",
      "Final array is length 45. final feature list is length 45.\n"
     ]
    }
   ],
   "source": [
    "total_df_piped, final_feature_list, total_pipeline, trans_list = master_pipeline(df_in = total_df[minimal_feats],\n",
    "                                                                                 int_cutoff=20, \n",
    "                                                                                 poly_deg=4, \n",
    "                                                                                 feats_with_interaction=[]\n",
    "                                                                                 )"
   ]
  },
  {
   "cell_type": "code",
   "execution_count": null,
   "metadata": {},
   "outputs": [],
   "source": []
  },
  {
   "cell_type": "markdown",
   "metadata": {
    "heading_collapsed": true
   },
   "source": [
    "### DONE. AdaBoost + log reg grid search."
   ]
  },
  {
   "cell_type": "code",
   "execution_count": null,
   "metadata": {
    "hidden": true
   },
   "outputs": [],
   "source": []
  },
  {
   "cell_type": "raw",
   "metadata": {
    "hidden": true
   },
   "source": [
    "input:\n",
    "param_grid = [{ 'base_estimator__C': [.01,.1,1,10,100] ,\n",
    "              'learning_rate':       [.1,.5,1,2]}]\n",
    "              \n",
    "output: \n",
    "{'base_estimator__C': 100, 'learning_rate': 1}\n",
    "best_score = 0.7746618823193743, train_score = 0.7748662754276789\n",
    "\n",
    "input: \n",
    "param_grid = [{ 'base_estimator__C': [.01,.1,1,10,100,200,500] ,\n",
    "              'learning_rate':       [.1,.5,1,2]}]\n",
    "output:\n",
    "{'base_estimator__C': 500, 'learning_rate': 1}\n",
    "best_score = 0.774672223770816, train_score = 0.7748953414440054\n",
    "\n",
    "input\n",
    "param_grid = [{ 'base_estimator__C': [.01,.1,1,10,100,200,500] ,\n",
    "                'learning_rate':       [.1,.5,1,2]}]\n",
    "output:  {'base_estimator__C': 500, 'learning_rate': 1}\n",
    "best_score = 0.774672223770816, train_score = 0.7748953414440054\n",
    "\n",
    "input:\n",
    "param_grid = [{ 'base_estimator__C': [300,400,500,600,700,800,900,1000],\n",
    "                'learning_rate':       [.1,.5,1,2],\n",
    "              }]\n",
    "              \n",
    "output:  \n",
    "{'base_estimator__C': 1000, 'learning_rate': 1}\n",
    "best_score = 0.7746843824884295, train_score = 0.7749187198256312\n",
    "\n",
    "-> This potential seems to be very flat. "
   ]
  },
  {
   "cell_type": "code",
   "execution_count": null,
   "metadata": {
    "hidden": true
   },
   "outputs": [],
   "source": []
  },
  {
   "cell_type": "code",
   "execution_count": 58,
   "metadata": {
    "collapsed": true,
    "hidden": true
   },
   "outputs": [
    {
     "name": "stdout",
     "output_type": "stream",
     "text": [
      "Fitting 3 folds for each of 32 candidates, totalling 96 fits\n",
      "[CV] base_estimator__C=300, learning_rate=0.1 ........................\n",
      "Memmaping (shape=(307511, 45), dtype=float64) to new file /dev/shm/joblib_memmaping_pool_1824_139943438208080/1824-139943440924744-1893222a0eaf16b127df7344cdf2dd31.pkl\n",
      "Memmaping (shape=(307511,), dtype=int64) to new file /dev/shm/joblib_memmaping_pool_1824_139943438208080/1824-139943440924744-36f41ebc26c9047822d0779f2962f9e3.pkl\n",
      "Memmaping (shape=(307511,), dtype=int64) to new file /dev/shm/joblib_memmaping_pool_1824_139943438208080/1824-139943440924744-7fee98903a11851f0c36b343c7ef5338.pkl\n",
      "Memmaping (shape=(205007,), dtype=int64) to new file /dev/shm/joblib_memmaping_pool_1824_139943438208080/1824-139943440924744-981b55e712abb5a5a2369212f2856f0a.pkl\n",
      "[CV] base_estimator__C=300, learning_rate=0.1 ........................\n",
      "Memmaping (shape=(205007,), dtype=int64) to new file /dev/shm/joblib_memmaping_pool_1824_139943438208080/1824-139943440924744-52b45483e9e8ae50702a4dfc49cfc8ef.pkl\n",
      "[CV] base_estimator__C=300, learning_rate=0.1 ........................\n",
      "Memmaping (shape=(205008,), dtype=int64) to new file /dev/shm/joblib_memmaping_pool_1824_139943438208080/1824-139943440924744-14cff63d81a68491cd383c416c29ffaa.pkl\n",
      "[CV] base_estimator__C=300, learning_rate=0.5 ........................\n",
      "[CV] base_estimator__C=300, learning_rate=0.5 ........................\n",
      "[CV] base_estimator__C=300, learning_rate=0.5 ........................\n",
      "[CV] base_estimator__C=300, learning_rate=1 ..........................\n",
      "[CV] base_estimator__C=300, learning_rate=1 ..........................\n",
      "[CV]  base_estimator__C=300, learning_rate=1, score=0.7724606214999975, total= 2.2min\n",
      "[CV] base_estimator__C=300, learning_rate=1 ..........................\n",
      "[Parallel(n_jobs=-1)]: Done   1 tasks      | elapsed:  2.3min\n",
      "[CV]  base_estimator__C=300, learning_rate=1, score=0.7740900324493915, total= 2.4min\n",
      "[CV] base_estimator__C=300, learning_rate=2 ..........................\n",
      "[Parallel(n_jobs=-1)]: Done   2 tasks      | elapsed:  2.5min\n",
      "[CV]  base_estimator__C=300, learning_rate=0.5, score=0.7774495698355611, total= 2.7min\n",
      "[CV] base_estimator__C=300, learning_rate=2 ..........................\n",
      "[Parallel(n_jobs=-1)]: Done   3 tasks      | elapsed:  2.8min\n",
      "[CV]  base_estimator__C=300, learning_rate=0.5, score=0.7741136504278211, total= 2.8min\n",
      "[CV] base_estimator__C=300, learning_rate=2 ..........................\n",
      "[Parallel(n_jobs=-1)]: Done   4 tasks      | elapsed:  2.9min\n",
      "[CV]  base_estimator__C=300, learning_rate=0.5, score=0.7724306963311948, total= 2.9min\n",
      "[CV] base_estimator__C=400, learning_rate=0.1 ........................\n",
      "[Parallel(n_jobs=-1)]: Done   5 tasks      | elapsed:  2.9min\n",
      "[CV]  base_estimator__C=300, learning_rate=0.1, score=0.7723246847470867, total= 3.4min\n",
      "[CV] base_estimator__C=400, learning_rate=0.1 ........................\n",
      "[Parallel(n_jobs=-1)]: Done   6 tasks      | elapsed:  3.4min\n",
      "[CV]  base_estimator__C=300, learning_rate=0.1, score=0.7741272638531591, total= 3.4min\n",
      "[CV] base_estimator__C=400, learning_rate=0.1 ........................\n",
      "[Parallel(n_jobs=-1)]: Done   7 tasks      | elapsed:  3.5min\n",
      "[CV]  base_estimator__C=300, learning_rate=0.1, score=0.7774652546173599, total= 3.5min\n",
      "[CV] base_estimator__C=400, learning_rate=0.5 ........................\n",
      "[Parallel(n_jobs=-1)]: Done   8 tasks      | elapsed:  3.5min\n",
      "[CV]  base_estimator__C=300, learning_rate=1, score=0.7774529478989509, total= 2.3min\n",
      "[CV] base_estimator__C=400, learning_rate=0.5 ........................\n",
      "[Parallel(n_jobs=-1)]: Done   9 tasks      | elapsed:  4.6min\n",
      "[CV]  base_estimator__C=300, learning_rate=2, score=0.7724657180381317, total= 2.5min\n",
      "[CV] base_estimator__C=400, learning_rate=0.5 ........................\n",
      "[Parallel(n_jobs=-1)]: Done  10 tasks      | elapsed:  5.0min\n",
      "[CV]  base_estimator__C=300, learning_rate=2, score=0.7771042853311892, total= 2.4min\n",
      "[CV] base_estimator__C=400, learning_rate=1 ..........................\n",
      "[Parallel(n_jobs=-1)]: Done  11 tasks      | elapsed:  5.4min\n",
      "[CV]  base_estimator__C=300, learning_rate=2, score=0.7714441327435293, total= 2.6min\n",
      "[CV] base_estimator__C=400, learning_rate=1 ..........................\n",
      "[Parallel(n_jobs=-1)]: Done  12 tasks      | elapsed:  5.4min\n",
      "[CV]  base_estimator__C=400, learning_rate=0.5, score=0.7741041973370845, total= 3.0min\n",
      "[CV] base_estimator__C=400, learning_rate=1 ..........................\n",
      "[Parallel(n_jobs=-1)]: Done  13 tasks      | elapsed:  6.6min\n",
      "[CV]  base_estimator__C=400, learning_rate=0.1, score=0.7741336005403562, total= 3.6min\n",
      "[CV] base_estimator__C=400, learning_rate=2 ..........................\n",
      "[Parallel(n_jobs=-1)]: Done  14 tasks      | elapsed:  6.6min\n",
      "[CV]  base_estimator__C=400, learning_rate=0.1, score=0.7723462943765684, total= 3.6min\n",
      "[CV] base_estimator__C=400, learning_rate=2 ..........................\n",
      "[Parallel(n_jobs=-1)]: Done  15 tasks      | elapsed:  7.0min\n",
      "[CV]  base_estimator__C=400, learning_rate=0.1, score=0.7774668282254766, total= 3.7min\n",
      "[CV] base_estimator__C=400, learning_rate=2 ..........................\n",
      "[Parallel(n_jobs=-1)]: Done  16 tasks      | elapsed:  7.2min\n",
      "[CV]  base_estimator__C=400, learning_rate=0.5, score=0.7724425668789979, total= 3.0min\n",
      "[CV] base_estimator__C=500, learning_rate=0.1 ........................\n",
      "[Parallel(n_jobs=-1)]: Done  17 tasks      | elapsed:  7.6min\n",
      "[CV]  base_estimator__C=400, learning_rate=1, score=0.7724696359857914, total= 2.4min\n",
      "[CV] base_estimator__C=500, learning_rate=0.1 ........................\n",
      "[Parallel(n_jobs=-1)]: Done  18 tasks      | elapsed:  7.9min\n",
      "[CV]  base_estimator__C=400, learning_rate=1, score=0.7740847050665508, total= 2.5min\n",
      "[CV] base_estimator__C=500, learning_rate=0.1 ........................\n",
      "[Parallel(n_jobs=-1)]: Done  19 tasks      | elapsed:  7.9min\n",
      "[CV]  base_estimator__C=400, learning_rate=0.5, score=0.7774504085802297, total= 2.9min\n",
      "[CV] base_estimator__C=500, learning_rate=0.5 ........................\n",
      "[Parallel(n_jobs=-1)]: Done  20 tasks      | elapsed:  8.0min\n",
      "[CV]  base_estimator__C=400, learning_rate=1, score=0.7774558642680279, total= 2.3min\n",
      "[CV] base_estimator__C=500, learning_rate=0.5 ........................\n",
      "[Parallel(n_jobs=-1)]: Done  21 tasks      | elapsed:  8.9min\n",
      "[CV]  base_estimator__C=400, learning_rate=2, score=0.7717351214735305, total= 2.6min\n",
      "[CV] base_estimator__C=500, learning_rate=0.5 ........................\n",
      "[Parallel(n_jobs=-1)]: Done  22 tasks      | elapsed:  9.3min\n",
      "[CV]  base_estimator__C=400, learning_rate=2, score=0.7708391080045114, total= 2.6min\n",
      "[CV] base_estimator__C=500, learning_rate=1 ..........................\n",
      "[Parallel(n_jobs=-1)]: Done  23 tasks      | elapsed:  9.7min\n",
      "[CV]  base_estimator__C=400, learning_rate=2, score=0.7765002686163163, total= 2.7min\n",
      "[CV] base_estimator__C=500, learning_rate=1 ..........................\n",
      "[Parallel(n_jobs=-1)]: Done  24 tasks      | elapsed:  9.9min\n",
      "[CV]  base_estimator__C=500, learning_rate=0.5, score=0.7740973014927091, total= 3.1min\n",
      "[CV] base_estimator__C=500, learning_rate=1 ..........................\n",
      "[Parallel(n_jobs=-1)]: Done  25 tasks      | elapsed: 11.2min\n",
      "[CV]  base_estimator__C=500, learning_rate=0.1, score=0.774137581329075, total= 3.7min\n",
      "[CV] base_estimator__C=500, learning_rate=2 ..........................\n",
      "[Parallel(n_jobs=-1)]: Done  26 tasks      | elapsed: 11.4min\n",
      "[CV]  base_estimator__C=500, learning_rate=0.1, score=0.7723612043796756, total= 3.8min\n",
      "[CV] base_estimator__C=500, learning_rate=2 ..........................\n",
      "[Parallel(n_jobs=-1)]: Done  27 tasks      | elapsed: 11.8min\n",
      "[CV]  base_estimator__C=500, learning_rate=0.1, score=0.777466893632171, total= 3.8min\n",
      "[CV] base_estimator__C=500, learning_rate=2 ..........................\n",
      "[Parallel(n_jobs=-1)]: Done  28 tasks      | elapsed: 11.8min\n",
      "[CV]  base_estimator__C=500, learning_rate=0.5, score=0.7724529766927962, total= 3.1min\n",
      "[CV] base_estimator__C=600, learning_rate=0.1 ........................\n",
      "[Parallel(n_jobs=-1)]: Done  29 tasks      | elapsed: 12.1min\n",
      "[CV]  base_estimator__C=500, learning_rate=1, score=0.7740840894806665, total= 2.6min\n",
      "[CV] base_estimator__C=600, learning_rate=0.1 ........................\n",
      "[Parallel(n_jobs=-1)]: Done  30 tasks      | elapsed: 12.3min\n"
     ]
    },
    {
     "name": "stdout",
     "output_type": "stream",
     "text": [
      "[CV]  base_estimator__C=500, learning_rate=0.5, score=0.7774538571802507, total= 3.1min\n",
      "[CV] base_estimator__C=600, learning_rate=0.1 ........................\n",
      "[CV]  base_estimator__C=500, learning_rate=1, score=0.7724768883569914, total= 2.5min\n",
      "[Parallel(n_jobs=-1)]: Done  31 tasks      | elapsed: 12.4min\n",
      "[Parallel(n_jobs=-1)]: Done  32 tasks      | elapsed: 12.4min\n",
      "[CV] base_estimator__C=600, learning_rate=0.5 ........................\n",
      "[CV]  base_estimator__C=500, learning_rate=1, score=0.7774557206297972, total= 2.5min\n",
      "[CV] base_estimator__C=600, learning_rate=0.5 ........................\n",
      "[Parallel(n_jobs=-1)]: Done  33 tasks      | elapsed: 13.7min\n",
      "[CV]  base_estimator__C=500, learning_rate=2, score=0.7708966319404624, total= 2.7min\n",
      "[CV] base_estimator__C=600, learning_rate=0.5 ........................\n",
      "[Parallel(n_jobs=-1)]: Done  34 tasks      | elapsed: 14.1min\n",
      "[CV]  base_estimator__C=500, learning_rate=2, score=0.7701013001077692, total= 2.8min\n",
      "[CV] base_estimator__C=600, learning_rate=1 ..........................\n",
      "[Parallel(n_jobs=-1)]: Done  35 tasks      | elapsed: 14.6min\n",
      "[CV]  base_estimator__C=500, learning_rate=2, score=0.7757552312210007, total= 2.9min\n",
      "[CV] base_estimator__C=600, learning_rate=1 ..........................\n",
      "[Parallel(n_jobs=-1)]: Done  36 tasks      | elapsed: 14.7min\n",
      "[CV]  base_estimator__C=600, learning_rate=0.5, score=0.7740924524713994, total= 3.2min\n",
      "[CV] base_estimator__C=600, learning_rate=1 ..........................\n",
      "[Parallel(n_jobs=-1)]: Done  37 tasks      | elapsed: 15.7min\n",
      "[CV]  base_estimator__C=600, learning_rate=0.1, score=0.774138430324607, total= 3.9min\n",
      "[CV] base_estimator__C=600, learning_rate=2 ..........................\n",
      "[Parallel(n_jobs=-1)]: Done  38 tasks      | elapsed: 16.0min\n",
      "[CV]  base_estimator__C=600, learning_rate=0.1, score=0.7723702086057046, total= 4.0min\n",
      "[CV] base_estimator__C=600, learning_rate=2 ..........................\n",
      "[Parallel(n_jobs=-1)]: Done  39 tasks      | elapsed: 16.3min\n",
      "[CV]  base_estimator__C=600, learning_rate=0.1, score=0.7774653341313805, total= 3.9min\n",
      "[CV] base_estimator__C=600, learning_rate=2 ..........................\n",
      "[Parallel(n_jobs=-1)]: Done  40 tasks      | elapsed: 16.4min\n",
      "[CV]  base_estimator__C=600, learning_rate=0.5, score=0.7724600623428192, total= 3.2min\n",
      "[CV] base_estimator__C=700, learning_rate=0.1 ........................\n",
      "[Parallel(n_jobs=-1)]: Done  41 tasks      | elapsed: 16.9min\n",
      "[CV]  base_estimator__C=600, learning_rate=1, score=0.7740842036205491, total= 2.7min\n",
      "[CV] base_estimator__C=700, learning_rate=0.1 ........................\n",
      "[Parallel(n_jobs=-1)]: Done  42 tasks      | elapsed: 17.3min\n",
      "[CV]  base_estimator__C=600, learning_rate=0.5, score=0.7774546099984777, total= 3.2min\n",
      "[CV] base_estimator__C=700, learning_rate=0.1 ........................\n",
      "[Parallel(n_jobs=-1)]: Done  43 tasks      | elapsed: 17.3min\n",
      "[CV]  base_estimator__C=600, learning_rate=1, score=0.7724827287280691, total= 2.6min\n",
      "[CV] base_estimator__C=700, learning_rate=0.5 ........................\n",
      "[Parallel(n_jobs=-1)]: Done  44 tasks      | elapsed: 17.4min\n",
      "[CV]  base_estimator__C=600, learning_rate=1, score=0.7774582868806867, total= 2.5min\n",
      "[CV] base_estimator__C=700, learning_rate=0.5 ........................\n",
      "[Parallel(n_jobs=-1)]: Done  45 tasks      | elapsed: 18.3min\n",
      "[CV]  base_estimator__C=600, learning_rate=2, score=0.7700364737842652, total= 2.8min\n",
      "[CV] base_estimator__C=700, learning_rate=0.5 ........................\n",
      "[Parallel(n_jobs=-1)]: Done  46 tasks      | elapsed: 18.8min\n",
      "[CV]  base_estimator__C=600, learning_rate=2, score=0.7693326103191623, total= 2.8min\n",
      "[CV] base_estimator__C=700, learning_rate=1 ..........................\n",
      "[Parallel(n_jobs=-1)]: Done  47 tasks      | elapsed: 19.2min\n",
      "[CV]  base_estimator__C=600, learning_rate=2, score=0.7749919107308916, total= 2.8min\n",
      "[CV] base_estimator__C=700, learning_rate=1 ..........................\n",
      "[Parallel(n_jobs=-1)]: Done  48 tasks      | elapsed: 19.2min\n",
      "[CV]  base_estimator__C=700, learning_rate=0.5, score=0.7740883844746804, total= 3.3min\n",
      "[CV] base_estimator__C=700, learning_rate=1 ..........................\n",
      "[Parallel(n_jobs=-1)]: Done  49 tasks      | elapsed: 20.7min\n",
      "[CV]  base_estimator__C=700, learning_rate=0.1, score=0.7741382212819006, total= 4.1min\n",
      "[CV] base_estimator__C=700, learning_rate=2 ..........................\n",
      "[Parallel(n_jobs=-1)]: Done  50 tasks      | elapsed: 21.1min\n",
      "[CV]  base_estimator__C=700, learning_rate=0.1, score=0.7723786626518496, total= 4.1min\n",
      "[CV] base_estimator__C=700, learning_rate=2 ..........................\n",
      "[Parallel(n_jobs=-1)]: Done  51 tasks      | elapsed: 21.4min\n",
      "[CV]  base_estimator__C=700, learning_rate=0.1, score=0.7774649339963092, total= 4.1min\n",
      "[CV] base_estimator__C=700, learning_rate=2 ..........................\n",
      "[Parallel(n_jobs=-1)]: Done  52 tasks      | elapsed: 21.5min\n",
      "[CV]  base_estimator__C=700, learning_rate=0.5, score=0.7724645817691869, total= 3.3min\n",
      "[CV] base_estimator__C=800, learning_rate=0.1 ........................\n",
      "[Parallel(n_jobs=-1)]: Done  53 tasks      | elapsed: 21.6min\n",
      "[CV]  base_estimator__C=700, learning_rate=1, score=0.7740847781673744, total= 2.7min\n",
      "[CV] base_estimator__C=800, learning_rate=0.1 ........................\n",
      "[Parallel(n_jobs=-1)]: Done  54 tasks      | elapsed: 22.0min\n",
      "[CV]  base_estimator__C=700, learning_rate=1, score=0.7724880830427922, total= 2.7min\n",
      "[CV] base_estimator__C=800, learning_rate=0.1 ........................\n",
      "[Parallel(n_jobs=-1)]: Done  55 tasks      | elapsed: 22.0min\n",
      "[CV]  base_estimator__C=700, learning_rate=0.5, score=0.7774544714901839, total= 3.2min\n",
      "[CV] base_estimator__C=800, learning_rate=0.5 ........................\n",
      "[Parallel(n_jobs=-1)]: Done  56 tasks      | elapsed: 22.1min\n",
      "[CV]  base_estimator__C=700, learning_rate=1, score=0.7774597643024882, total= 2.7min\n",
      "[CV] base_estimator__C=800, learning_rate=0.5 ........................\n",
      "[Parallel(n_jobs=-1)]: Done  57 tasks      | elapsed: 23.4min\n",
      "[CV]  base_estimator__C=700, learning_rate=2, score=0.7692137355550127, total= 2.8min\n",
      "[CV] base_estimator__C=800, learning_rate=0.5 ........................\n",
      "[Parallel(n_jobs=-1)]: Done  58 tasks      | elapsed: 23.9min\n",
      "[CV]  base_estimator__C=700, learning_rate=2, score=0.7685875013173377, total= 2.8min\n",
      "[CV] base_estimator__C=800, learning_rate=1 ..........................\n",
      "[Parallel(n_jobs=-1)]: Done  59 tasks      | elapsed: 24.3min\n",
      "[CV]  base_estimator__C=700, learning_rate=2, score=0.7742646254819094, total= 2.8min\n",
      "[CV] base_estimator__C=800, learning_rate=1 ..........................\n",
      "[Parallel(n_jobs=-1)]: Done  60 tasks      | elapsed: 24.3min\n",
      "[CV]  base_estimator__C=800, learning_rate=0.5, score=0.7740866557043217, total= 3.3min\n",
      "[CV] base_estimator__C=800, learning_rate=1 ..........................\n",
      "[Parallel(n_jobs=-1)]: Done  61 tasks      | elapsed: 25.4min\n",
      "[CV]  base_estimator__C=800, learning_rate=0.1, score=0.774137146571544, total= 4.2min\n",
      "[CV] base_estimator__C=800, learning_rate=2 ..........................\n",
      "[Parallel(n_jobs=-1)]: Done  62 tasks      | elapsed: 25.8min\n",
      "[CV]  base_estimator__C=800, learning_rate=0.1, score=0.7723866190994049, total= 4.1min\n",
      "[CV] base_estimator__C=800, learning_rate=2 ..........................\n",
      "[Parallel(n_jobs=-1)]: Done  63 tasks      | elapsed: 26.1min\n",
      "[CV]  base_estimator__C=800, learning_rate=0.1, score=0.7774645505335327, total= 4.2min\n",
      "[CV] base_estimator__C=800, learning_rate=2 ..........................\n",
      "[Parallel(n_jobs=-1)]: Done  64 tasks      | elapsed: 26.2min\n",
      "[CV]  base_estimator__C=800, learning_rate=0.5, score=0.7724691011955545, total= 3.4min\n",
      "[CV] base_estimator__C=900, learning_rate=0.1 ........................\n",
      "[Parallel(n_jobs=-1)]: Done  65 tasks      | elapsed: 26.8min\n",
      "[CV]  base_estimator__C=800, learning_rate=1, score=0.7724929128270432, total= 2.7min\n",
      "[CV] base_estimator__C=900, learning_rate=0.1 ........................\n",
      "[Parallel(n_jobs=-1)]: Done  66 tasks      | elapsed: 27.0min\n",
      "[CV]  base_estimator__C=800, learning_rate=1, score=0.774086177342791, total= 2.8min\n",
      "[CV] base_estimator__C=900, learning_rate=0.1 ........................\n",
      "[Parallel(n_jobs=-1)]: Done  67 tasks      | elapsed: 27.1min\n",
      "[CV]  base_estimator__C=800, learning_rate=0.5, score=0.7774562939002359, total= 3.4min\n"
     ]
    },
    {
     "name": "stdout",
     "output_type": "stream",
     "text": [
      "[CV] base_estimator__C=900, learning_rate=0.5 ........................\n",
      "[Parallel(n_jobs=-1)]: Done  68 tasks      | elapsed: 27.3min\n",
      "[CV]  base_estimator__C=800, learning_rate=1, score=0.777460831329345, total= 2.7min\n",
      "[CV] base_estimator__C=900, learning_rate=0.5 ........................\n",
      "[Parallel(n_jobs=-1)]: Done  69 tasks      | elapsed: 28.1min\n",
      "[CV]  base_estimator__C=800, learning_rate=2, score=0.7684496524007737, total= 2.7min\n",
      "[CV] base_estimator__C=900, learning_rate=0.5 ........................\n",
      "[Parallel(n_jobs=-1)]: Done  70 tasks      | elapsed: 28.6min\n",
      "[CV]  base_estimator__C=800, learning_rate=2, score=0.767893683444385, total= 2.8min\n",
      "[CV] base_estimator__C=900, learning_rate=1 ..........................\n",
      "[Parallel(n_jobs=-1)]: Done  71 tasks      | elapsed: 28.9min\n",
      "[CV]  base_estimator__C=800, learning_rate=2, score=0.7735962178001882, total= 2.8min\n",
      "[CV] base_estimator__C=900, learning_rate=1 ..........................\n",
      "[Parallel(n_jobs=-1)]: Done  72 tasks      | elapsed: 29.0min\n",
      "[CV]  base_estimator__C=900, learning_rate=0.5, score=0.7740856976987892, total= 3.5min\n",
      "[CV] base_estimator__C=900, learning_rate=1 ..........................\n",
      "[Parallel(n_jobs=-1)]: Done  73 tasks      | elapsed: 30.8min\n",
      "[CV]  base_estimator__C=900, learning_rate=0.1, score=0.7741371824807207, total= 4.3min\n",
      "[CV] base_estimator__C=900, learning_rate=2 ..........................\n",
      "[Parallel(n_jobs=-1)]: Done  74 tasks      | elapsed: 31.2min\n",
      "[CV]  base_estimator__C=900, learning_rate=0.1, score=0.7723936034342511, total= 4.2min\n",
      "[CV] base_estimator__C=900, learning_rate=2 ..........................\n",
      "[Parallel(n_jobs=-1)]: Done  75 tasks      | elapsed: 31.3min\n",
      "[CV]  base_estimator__C=900, learning_rate=0.1, score=0.7774647929230469, total= 4.4min\n",
      "[CV] base_estimator__C=900, learning_rate=2 ..........................\n",
      "[Parallel(n_jobs=-1)]: Done  76 tasks      | elapsed: 31.6min\n",
      "[CV]  base_estimator__C=900, learning_rate=0.5, score=0.7724729126981549, total= 3.5min\n",
      "[CV] base_estimator__C=1000, learning_rate=0.1 .......................\n",
      "[Parallel(n_jobs=-1)]: Done  77 tasks      | elapsed: 31.7min\n",
      "[CV]  base_estimator__C=900, learning_rate=1, score=0.7740880099932673, total= 2.9min\n",
      "[CV] base_estimator__C=1000, learning_rate=0.1 .......................\n",
      "[Parallel(n_jobs=-1)]: Done  78 tasks      | elapsed: 31.8min\n",
      "[CV]  base_estimator__C=900, learning_rate=1, score=0.7724965216992902, total= 2.8min\n",
      "[CV] base_estimator__C=1000, learning_rate=0.1 .......................\n",
      "[Parallel(n_jobs=-1)]: Done  79 tasks      | elapsed: 31.9min\n",
      "[CV]  base_estimator__C=900, learning_rate=0.5, score=0.7774562426008678, total= 3.4min\n",
      "[CV] base_estimator__C=1000, learning_rate=0.5 .......................\n",
      "[Parallel(n_jobs=-1)]: Done  80 tasks      | elapsed: 32.1min\n",
      "[CV]  base_estimator__C=900, learning_rate=1, score=0.7774609108433655, total= 2.8min\n",
      "[CV] base_estimator__C=1000, learning_rate=0.5 .......................\n",
      "[Parallel(n_jobs=-1)]: Done  81 tasks      | elapsed: 33.6min\n",
      "[CV]  base_estimator__C=900, learning_rate=2, score=0.7677510804093352, total= 2.8min\n",
      "[CV] base_estimator__C=1000, learning_rate=0.5 .......................\n",
      "[CV]  base_estimator__C=900, learning_rate=2, score=0.7672616883488093, total= 2.8min\n",
      "[CV] base_estimator__C=1000, learning_rate=1 .........................\n",
      "[Parallel(n_jobs=-1)]: Done  83 out of  96 | elapsed: 34.1min remaining:  5.3min\n",
      "[CV]  base_estimator__C=900, learning_rate=2, score=0.772977646172099, total= 2.8min\n",
      "[CV] base_estimator__C=1000, learning_rate=1 .........................\n",
      "[CV]  base_estimator__C=1000, learning_rate=0.5, score=0.7740853360420823, total= 3.5min\n",
      "[CV] base_estimator__C=1000, learning_rate=1 .........................\n",
      "[Parallel(n_jobs=-1)]: Done  85 out of  96 | elapsed: 35.6min remaining:  4.6min\n",
      "[CV]  base_estimator__C=1000, learning_rate=0.1, score=0.7741362488421294, total= 4.4min\n",
      "[CV] base_estimator__C=1000, learning_rate=2 .........................\n",
      "[CV]  base_estimator__C=1000, learning_rate=0.1, score=0.7723991488370925, total= 4.5min\n",
      "[CV] base_estimator__C=1000, learning_rate=2 .........................\n",
      "[Parallel(n_jobs=-1)]: Done  87 out of  96 | elapsed: 36.3min remaining:  3.8min\n",
      "[CV]  base_estimator__C=1000, learning_rate=0.1, score=0.7774640978166092, total= 4.5min\n",
      "[CV] base_estimator__C=1000, learning_rate=2 .........................\n",
      "[CV]  base_estimator__C=1000, learning_rate=1, score=0.7740905967364522, total= 2.8min\n",
      "[Parallel(n_jobs=-1)]: Done  89 out of  96 | elapsed: 37.0min remaining:  2.9min\n",
      "[CV]  base_estimator__C=1000, learning_rate=0.5, score=0.7724760662933416, total= 3.4min\n",
      "[CV]  base_estimator__C=1000, learning_rate=1, score=0.7725002793381258, total= 2.9min\n",
      "[Parallel(n_jobs=-1)]: Done  91 out of  96 | elapsed: 37.3min remaining:  2.1min\n",
      "[CV]  base_estimator__C=1000, learning_rate=0.5, score=0.777456877430548, total= 3.4min\n",
      "[CV]  base_estimator__C=1000, learning_rate=1, score=0.7774622984912727, total= 2.5min\n",
      "[Parallel(n_jobs=-1)]: Done  93 out of  96 | elapsed: 38.1min remaining:  1.2min\n",
      "[CV]  base_estimator__C=1000, learning_rate=2, score=0.7671105235400845, total= 2.2min\n",
      "[CV]  base_estimator__C=1000, learning_rate=2, score=0.772409224806271, total= 2.1min\n",
      "[CV]  base_estimator__C=1000, learning_rate=2, score=0.766678637460921, total= 2.2min\n",
      "[Parallel(n_jobs=-1)]: Done  96 out of  96 | elapsed: 38.5min finished\n"
     ]
    },
    {
     "data": {
      "text/plain": [
       "GridSearchCV(cv=3, error_score='raise',\n",
       "       estimator=AdaBoostClassifier(algorithm='SAMME.R',\n",
       "          base_estimator=LogisticRegression(C=1.0, class_weight=None, dual=False, fit_intercept=True,\n",
       "          intercept_scaling=1, max_iter=100, multi_class='ovr', n_jobs=1,\n",
       "          penalty='l2', random_state=0, solver='liblinear', tol=0.0001,\n",
       "          verbose=0, warm_start=False),\n",
       "          learning_rate=1.0, n_estimators=50, random_state=0),\n",
       "       fit_params=None, iid=True, n_jobs=-1,\n",
       "       param_grid=[{'base_estimator__C': [300, 400, 500, 600, 700, 800, 900, 1000], 'learning_rate': [0.1, 0.5, 1, 2]}],\n",
       "       pre_dispatch='2*n_jobs', refit=True, return_train_score=True,\n",
       "       scoring='roc_auc', verbose=51)"
      ]
     },
     "execution_count": 58,
     "metadata": {},
     "output_type": "execute_result"
    }
   ],
   "source": [
    "param_grid = [{ 'base_estimator__C': [300,400,500,600,700,800,900,1000],\n",
    "                'learning_rate':       [.1,.5,1,2],\n",
    "              }]\n",
    "\n",
    "my_LgRg_4_Ada = LogisticRegression(penalty= 'l2', \n",
    "                                   random_state = 0, \n",
    "                                   class_weight = None) \n",
    "\n",
    "my_AdaBC_LogReg_minimal_feats = AdaBoostClassifier(base_estimator = my_LgRg_4_Ada, \n",
    "                                                   n_estimators = 50, \n",
    "                                                   algorithm = 'SAMME.R', \n",
    "                                                   random_state = 0)\n",
    "\n",
    "my_AdaBC_LogReg_minimal_feats_grid_search = GridSearchCV(my_AdaBC_LogReg_minimal_feats, \n",
    "                                                       param_grid, \n",
    "                                                       cv = 3, # for integer inputs, Stratified folding is default. \n",
    "                                                       return_train_score = True , \n",
    "                                                       scoring = 'roc_auc',\n",
    "                                                       n_jobs = -1, \n",
    "                                                       refit = True,\n",
    "                                                       verbose = 51,\n",
    "                                                        )\n",
    "\n",
    "my_AdaBC_LogReg_minimal_feats_grid_search.fit(total_df_piped, \n",
    "                                                total_df['TARGET'])"
   ]
  },
  {
   "cell_type": "code",
   "execution_count": null,
   "metadata": {
    "hidden": true
   },
   "outputs": [],
   "source": []
  },
  {
   "cell_type": "code",
   "execution_count": 59,
   "metadata": {
    "hidden": true,
    "scrolled": true
   },
   "outputs": [
    {
     "data": {
      "text/html": [
       "<div>\n",
       "<style scoped>\n",
       "    .dataframe tbody tr th:only-of-type {\n",
       "        vertical-align: middle;\n",
       "    }\n",
       "\n",
       "    .dataframe tbody tr th {\n",
       "        vertical-align: top;\n",
       "    }\n",
       "\n",
       "    .dataframe thead th {\n",
       "        text-align: right;\n",
       "    }\n",
       "</style>\n",
       "<table border=\"1\" class=\"dataframe\">\n",
       "  <thead>\n",
       "    <tr style=\"text-align: right;\">\n",
       "      <th></th>\n",
       "      <th>params</th>\n",
       "      <th>mean_test_score</th>\n",
       "    </tr>\n",
       "  </thead>\n",
       "  <tbody>\n",
       "    <tr>\n",
       "      <th>0</th>\n",
       "      <td>{'base_estimator__C': 300, 'learning_rate': 0.1}</td>\n",
       "      <td>0.774639</td>\n",
       "    </tr>\n",
       "    <tr>\n",
       "      <th>1</th>\n",
       "      <td>{'base_estimator__C': 300, 'learning_rate': 0.5}</td>\n",
       "      <td>0.774665</td>\n",
       "    </tr>\n",
       "    <tr>\n",
       "      <th>2</th>\n",
       "      <td>{'base_estimator__C': 300, 'learning_rate': 1}</td>\n",
       "      <td>0.774668</td>\n",
       "    </tr>\n",
       "    <tr>\n",
       "      <th>3</th>\n",
       "      <td>{'base_estimator__C': 300, 'learning_rate': 2}</td>\n",
       "      <td>0.773671</td>\n",
       "    </tr>\n",
       "    <tr>\n",
       "      <th>4</th>\n",
       "      <td>{'base_estimator__C': 400, 'learning_rate': 0.1}</td>\n",
       "      <td>0.774649</td>\n",
       "    </tr>\n",
       "    <tr>\n",
       "      <th>5</th>\n",
       "      <td>{'base_estimator__C': 400, 'learning_rate': 0.5}</td>\n",
       "      <td>0.774666</td>\n",
       "    </tr>\n",
       "    <tr>\n",
       "      <th>6</th>\n",
       "      <td>{'base_estimator__C': 400, 'learning_rate': 1}</td>\n",
       "      <td>0.774670</td>\n",
       "    </tr>\n",
       "    <tr>\n",
       "      <th>7</th>\n",
       "      <td>{'base_estimator__C': 400, 'learning_rate': 2}</td>\n",
       "      <td>0.773025</td>\n",
       "    </tr>\n",
       "    <tr>\n",
       "      <th>8</th>\n",
       "      <td>{'base_estimator__C': 500, 'learning_rate': 0.1}</td>\n",
       "      <td>0.774655</td>\n",
       "    </tr>\n",
       "    <tr>\n",
       "      <th>9</th>\n",
       "      <td>{'base_estimator__C': 500, 'learning_rate': 0.5}</td>\n",
       "      <td>0.774668</td>\n",
       "    </tr>\n",
       "    <tr>\n",
       "      <th>10</th>\n",
       "      <td>{'base_estimator__C': 500, 'learning_rate': 1}</td>\n",
       "      <td>0.774672</td>\n",
       "    </tr>\n",
       "    <tr>\n",
       "      <th>11</th>\n",
       "      <td>{'base_estimator__C': 500, 'learning_rate': 2}</td>\n",
       "      <td>0.772251</td>\n",
       "    </tr>\n",
       "    <tr>\n",
       "      <th>12</th>\n",
       "      <td>{'base_estimator__C': 600, 'learning_rate': 0.1}</td>\n",
       "      <td>0.774658</td>\n",
       "    </tr>\n",
       "    <tr>\n",
       "      <th>13</th>\n",
       "      <td>{'base_estimator__C': 600, 'learning_rate': 0.5}</td>\n",
       "      <td>0.774669</td>\n",
       "    </tr>\n",
       "    <tr>\n",
       "      <th>14</th>\n",
       "      <td>{'base_estimator__C': 600, 'learning_rate': 1}</td>\n",
       "      <td>0.774675</td>\n",
       "    </tr>\n",
       "    <tr>\n",
       "      <th>15</th>\n",
       "      <td>{'base_estimator__C': 600, 'learning_rate': 2}</td>\n",
       "      <td>0.771454</td>\n",
       "    </tr>\n",
       "    <tr>\n",
       "      <th>16</th>\n",
       "      <td>{'base_estimator__C': 700, 'learning_rate': 0.1}</td>\n",
       "      <td>0.774661</td>\n",
       "    </tr>\n",
       "    <tr>\n",
       "      <th>17</th>\n",
       "      <td>{'base_estimator__C': 700, 'learning_rate': 0.5}</td>\n",
       "      <td>0.774669</td>\n",
       "    </tr>\n",
       "    <tr>\n",
       "      <th>18</th>\n",
       "      <td>{'base_estimator__C': 700, 'learning_rate': 1}</td>\n",
       "      <td>0.774678</td>\n",
       "    </tr>\n",
       "    <tr>\n",
       "      <th>19</th>\n",
       "      <td>{'base_estimator__C': 700, 'learning_rate': 2}</td>\n",
       "      <td>0.770689</td>\n",
       "    </tr>\n",
       "    <tr>\n",
       "      <th>20</th>\n",
       "      <td>{'base_estimator__C': 800, 'learning_rate': 0.1}</td>\n",
       "      <td>0.774663</td>\n",
       "    </tr>\n",
       "    <tr>\n",
       "      <th>21</th>\n",
       "      <td>{'base_estimator__C': 800, 'learning_rate': 0.5}</td>\n",
       "      <td>0.774671</td>\n",
       "    </tr>\n",
       "    <tr>\n",
       "      <th>22</th>\n",
       "      <td>{'base_estimator__C': 800, 'learning_rate': 1}</td>\n",
       "      <td>0.774680</td>\n",
       "    </tr>\n",
       "    <tr>\n",
       "      <th>23</th>\n",
       "      <td>{'base_estimator__C': 800, 'learning_rate': 2}</td>\n",
       "      <td>0.769980</td>\n",
       "    </tr>\n",
       "    <tr>\n",
       "      <th>24</th>\n",
       "      <td>{'base_estimator__C': 900, 'learning_rate': 0.1}</td>\n",
       "      <td>0.774665</td>\n",
       "    </tr>\n",
       "    <tr>\n",
       "      <th>25</th>\n",
       "      <td>{'base_estimator__C': 900, 'learning_rate': 0.5}</td>\n",
       "      <td>0.774672</td>\n",
       "    </tr>\n",
       "    <tr>\n",
       "      <th>26</th>\n",
       "      <td>{'base_estimator__C': 900, 'learning_rate': 1}</td>\n",
       "      <td>0.774682</td>\n",
       "    </tr>\n",
       "    <tr>\n",
       "      <th>27</th>\n",
       "      <td>{'base_estimator__C': 900, 'learning_rate': 2}</td>\n",
       "      <td>0.769330</td>\n",
       "    </tr>\n",
       "    <tr>\n",
       "      <th>28</th>\n",
       "      <td>{'base_estimator__C': 1000, 'learning_rate': 0.1}</td>\n",
       "      <td>0.774666</td>\n",
       "    </tr>\n",
       "    <tr>\n",
       "      <th>29</th>\n",
       "      <td>{'base_estimator__C': 1000, 'learning_rate': 0.5}</td>\n",
       "      <td>0.774673</td>\n",
       "    </tr>\n",
       "    <tr>\n",
       "      <th>30</th>\n",
       "      <td>{'base_estimator__C': 1000, 'learning_rate': 1}</td>\n",
       "      <td>0.774684</td>\n",
       "    </tr>\n",
       "    <tr>\n",
       "      <th>31</th>\n",
       "      <td>{'base_estimator__C': 1000, 'learning_rate': 2}</td>\n",
       "      <td>0.768733</td>\n",
       "    </tr>\n",
       "  </tbody>\n",
       "</table>\n",
       "</div>"
      ],
      "text/plain": [
       "                                               params  mean_test_score\n",
       "0   {'base_estimator__C': 300, 'learning_rate': 0.1}   0.774639       \n",
       "1   {'base_estimator__C': 300, 'learning_rate': 0.5}   0.774665       \n",
       "2   {'base_estimator__C': 300, 'learning_rate': 1}     0.774668       \n",
       "3   {'base_estimator__C': 300, 'learning_rate': 2}     0.773671       \n",
       "4   {'base_estimator__C': 400, 'learning_rate': 0.1}   0.774649       \n",
       "5   {'base_estimator__C': 400, 'learning_rate': 0.5}   0.774666       \n",
       "6   {'base_estimator__C': 400, 'learning_rate': 1}     0.774670       \n",
       "7   {'base_estimator__C': 400, 'learning_rate': 2}     0.773025       \n",
       "8   {'base_estimator__C': 500, 'learning_rate': 0.1}   0.774655       \n",
       "9   {'base_estimator__C': 500, 'learning_rate': 0.5}   0.774668       \n",
       "10  {'base_estimator__C': 500, 'learning_rate': 1}     0.774672       \n",
       "11  {'base_estimator__C': 500, 'learning_rate': 2}     0.772251       \n",
       "12  {'base_estimator__C': 600, 'learning_rate': 0.1}   0.774658       \n",
       "13  {'base_estimator__C': 600, 'learning_rate': 0.5}   0.774669       \n",
       "14  {'base_estimator__C': 600, 'learning_rate': 1}     0.774675       \n",
       "15  {'base_estimator__C': 600, 'learning_rate': 2}     0.771454       \n",
       "16  {'base_estimator__C': 700, 'learning_rate': 0.1}   0.774661       \n",
       "17  {'base_estimator__C': 700, 'learning_rate': 0.5}   0.774669       \n",
       "18  {'base_estimator__C': 700, 'learning_rate': 1}     0.774678       \n",
       "19  {'base_estimator__C': 700, 'learning_rate': 2}     0.770689       \n",
       "20  {'base_estimator__C': 800, 'learning_rate': 0.1}   0.774663       \n",
       "21  {'base_estimator__C': 800, 'learning_rate': 0.5}   0.774671       \n",
       "22  {'base_estimator__C': 800, 'learning_rate': 1}     0.774680       \n",
       "23  {'base_estimator__C': 800, 'learning_rate': 2}     0.769980       \n",
       "24  {'base_estimator__C': 900, 'learning_rate': 0.1}   0.774665       \n",
       "25  {'base_estimator__C': 900, 'learning_rate': 0.5}   0.774672       \n",
       "26  {'base_estimator__C': 900, 'learning_rate': 1}     0.774682       \n",
       "27  {'base_estimator__C': 900, 'learning_rate': 2}     0.769330       \n",
       "28  {'base_estimator__C': 1000, 'learning_rate': 0.1}  0.774666       \n",
       "29  {'base_estimator__C': 1000, 'learning_rate': 0.5}  0.774673       \n",
       "30  {'base_estimator__C': 1000, 'learning_rate': 1}    0.774684       \n",
       "31  {'base_estimator__C': 1000, 'learning_rate': 2}    0.768733       "
      ]
     },
     "execution_count": 59,
     "metadata": {},
     "output_type": "execute_result"
    }
   ],
   "source": [
    "pd.set_option('display.max_colwidth', -1)\n",
    "pd.DataFrame(my_AdaBC_LogReg_minimal_feats_grid_search.cv_results_)[['params','mean_test_score']]"
   ]
  },
  {
   "cell_type": "code",
   "execution_count": null,
   "metadata": {
    "hidden": true
   },
   "outputs": [],
   "source": []
  },
  {
   "cell_type": "code",
   "execution_count": 60,
   "metadata": {
    "hidden": true
   },
   "outputs": [
    {
     "data": {
      "text/plain": [
       "0.7746843824884295"
      ]
     },
     "execution_count": 60,
     "metadata": {},
     "output_type": "execute_result"
    }
   ],
   "source": [
    "my_AdaBC_LogReg_minimal_feats_grid_search.best_score_"
   ]
  },
  {
   "cell_type": "code",
   "execution_count": null,
   "metadata": {
    "hidden": true
   },
   "outputs": [],
   "source": []
  },
  {
   "cell_type": "code",
   "execution_count": 61,
   "metadata": {
    "hidden": true
   },
   "outputs": [
    {
     "data": {
      "text/plain": [
       "{'base_estimator__C': 1000, 'learning_rate': 1}"
      ]
     },
     "execution_count": 61,
     "metadata": {},
     "output_type": "execute_result"
    }
   ],
   "source": [
    "LgRg_optimized_parms = my_AdaBC_LogReg_minimal_feats_grid_search.best_params_\n",
    "LgRg_optimized_parms"
   ]
  },
  {
   "cell_type": "code",
   "execution_count": null,
   "metadata": {
    "hidden": true
   },
   "outputs": [],
   "source": []
  },
  {
   "cell_type": "code",
   "execution_count": 62,
   "metadata": {
    "hidden": true
   },
   "outputs": [
    {
     "data": {
      "text/plain": [
       "0.7749187198256312"
      ]
     },
     "execution_count": 62,
     "metadata": {},
     "output_type": "execute_result"
    }
   ],
   "source": [
    "train_scores = [x[1] for x in my_AdaBC_LogReg_minimal_feats_grid_search.predict_proba(total_df_piped)]\n",
    "roc_auc_score(total_df['TARGET'], train_scores)"
   ]
  },
  {
   "cell_type": "code",
   "execution_count": null,
   "metadata": {
    "hidden": true
   },
   "outputs": [],
   "source": []
  },
  {
   "cell_type": "code",
   "execution_count": 63,
   "metadata": {
    "hidden": true
   },
   "outputs": [],
   "source": [
    "del my_AdaBC_LogReg_minimal_feats_grid_search"
   ]
  },
  {
   "cell_type": "code",
   "execution_count": null,
   "metadata": {
    "hidden": true
   },
   "outputs": [],
   "source": []
  },
  {
   "cell_type": "code",
   "execution_count": null,
   "metadata": {
    "hidden": true
   },
   "outputs": [],
   "source": []
  },
  {
   "cell_type": "markdown",
   "metadata": {},
   "source": [
    "# models with all features"
   ]
  },
  {
   "cell_type": "code",
   "execution_count": 9,
   "metadata": {},
   "outputs": [],
   "source": [
    "feats_to_drop = ['pwr_rescale_RanFor_EXTpoly_Level2',     \n",
    "                 'pwr_rescale_LogReg_EXTpoly_Level2',     \n",
    "                 'pwr_rescale_MLP_EXTpoly_Level2',        \n",
    "                ]"
   ]
  },
  {
   "cell_type": "code",
   "execution_count": null,
   "metadata": {},
   "outputs": [],
   "source": []
  },
  {
   "cell_type": "code",
   "execution_count": 10,
   "metadata": {
    "scrolled": true
   },
   "outputs": [
    {
     "name": "stdout",
     "output_type": "stream",
     "text": [
      "Total original feat len is 88. Sum of feats is 88.\n",
      "Final array is length 432. final feature list is length 432.\n"
     ]
    }
   ],
   "source": [
    "total_df_piped, final_feature_list, total_pipeline, trans_list = \\\n",
    "master_pipeline(df_in = total_df.drop(columns = feats_to_drop),\n",
    "               int_cutoff=20, \n",
    "               poly_deg=4, \n",
    "               feats_with_interaction=[]\n",
    "               )"
   ]
  },
  {
   "cell_type": "code",
   "execution_count": null,
   "metadata": {},
   "outputs": [],
   "source": []
  },
  {
   "cell_type": "markdown",
   "metadata": {},
   "source": [
    "### Adaboost + log reg grid search"
   ]
  },
  {
   "cell_type": "code",
   "execution_count": null,
   "metadata": {},
   "outputs": [],
   "source": []
  },
  {
   "cell_type": "raw",
   "metadata": {},
   "source": [
    "input:\n",
    "param_grid = [{ 'base_estimator__C': [.01,.1,1,10,200] ,\n",
    "                'learning_rate':       [.1,.5,2]}]\n",
    "                \n",
    "output:\n",
    "{'base_estimator__C': 10, 'learning_rate': 0.1}\n",
    "best_score = 0.7724472158335524, train_score = 0.7740659925649644\n",
    "\n",
    "\n",
    "input:\n",
    "param_grid = [{ 'base_estimator__C': [.1,1,10,50,100,200] ,\n",
    "                'learning_rate':       [.01,.1,.5]}]\n",
    "output:\n",
    "{'base_estimator__C': 200, 'learning_rate': 0.01}\n",
    "best_score = 0.7726025504592231, train_score = 0.7743676835818082\n",
    "\n",
    "input:\n",
    "param_grid = [{ 'base_estimator__C': [100,200,300,500] ,\n",
    "                'learning_rate':       [.001,.01,.1]}]\n",
    "output:\n",
    "{'base_estimator__C': 200, 'learning_rate': 0.01}\n",
    "best_score = 0.7726025504592231, train_score = 0.7743676835818082                "
   ]
  },
  {
   "cell_type": "code",
   "execution_count": null,
   "metadata": {},
   "outputs": [],
   "source": []
  },
  {
   "cell_type": "code",
   "execution_count": 16,
   "metadata": {
    "scrolled": false
   },
   "outputs": [
    {
     "name": "stdout",
     "output_type": "stream",
     "text": [
      "Fitting 3 folds for each of 12 candidates, totalling 36 fits\n",
      "Memmaping (shape=(76877750,), dtype=int32) to new file /dev/shm/joblib_memmaping_pool_2392_139946017526224/2392-139946013753072-daf169b31db8d878d50c1206f310810c.pkl\n",
      "Memmaping (shape=(307512,), dtype=int32) to new file /dev/shm/joblib_memmaping_pool_2392_139946017526224/2392-139946013753072-d16d7957d6b5ec4281598ec2ca74d159.pkl\n",
      "Memmaping (shape=(76877750,), dtype=float64) to new file /dev/shm/joblib_memmaping_pool_2392_139946017526224/2392-139946013753072-9e9de26c8aaed60aa6668a1090e2249b.pkl\n",
      "[CV] base_estimator__C=100, learning_rate=0.001 ......................\n",
      "Memmaping (shape=(307511,), dtype=int64) to new file /dev/shm/joblib_memmaping_pool_2392_139946017526224/2392-139946013753072-36f41ebc26c9047822d0779f2962f9e3.pkl\n",
      "Memmaping (shape=(307511,), dtype=int64) to new file /dev/shm/joblib_memmaping_pool_2392_139946017526224/2392-139946013753072-7fee98903a11851f0c36b343c7ef5338.pkl\n",
      "Memmaping (shape=(205007,), dtype=int64) to new file /dev/shm/joblib_memmaping_pool_2392_139946017526224/2392-139946013753072-981b55e712abb5a5a2369212f2856f0a.pkl\n",
      "[CV] base_estimator__C=100, learning_rate=0.001 ......................\n",
      "Memmaping (shape=(205007,), dtype=int64) to new file /dev/shm/joblib_memmaping_pool_2392_139946017526224/2392-139946013753072-52b45483e9e8ae50702a4dfc49cfc8ef.pkl\n",
      "[CV] base_estimator__C=100, learning_rate=0.001 ......................\n",
      "Memmaping (shape=(205008,), dtype=int64) to new file /dev/shm/joblib_memmaping_pool_2392_139946017526224/2392-139946013753072-14cff63d81a68491cd383c416c29ffaa.pkl\n",
      "[CV] base_estimator__C=100, learning_rate=0.01 .......................\n",
      "[CV] base_estimator__C=100, learning_rate=0.01 .......................\n",
      "[CV] base_estimator__C=100, learning_rate=0.01 .......................\n",
      "[CV] base_estimator__C=100, learning_rate=0.1 ........................\n",
      "[CV] base_estimator__C=100, learning_rate=0.1 ........................\n",
      "[CV]  base_estimator__C=100, learning_rate=0.001, score=0.7716300345507197, total=30.0min\n",
      "[CV] base_estimator__C=100, learning_rate=0.1 ........................\n",
      "[Parallel(n_jobs=-1)]: Done   1 tasks      | elapsed: 30.3min\n",
      "[CV]  base_estimator__C=100, learning_rate=0.01, score=0.7718917188276846, total=31.0min\n",
      "[CV] base_estimator__C=200, learning_rate=0.001 ......................\n",
      "[Parallel(n_jobs=-1)]: Done   2 tasks      | elapsed: 31.4min\n",
      "[CV]  base_estimator__C=100, learning_rate=0.01, score=0.7703008243175918, total=31.7min\n",
      "[CV] base_estimator__C=200, learning_rate=0.001 ......................\n",
      "[Parallel(n_jobs=-1)]: Done   3 tasks      | elapsed: 32.1min\n",
      "[CV]  base_estimator__C=100, learning_rate=0.01, score=0.7752796924910679, total=32.2min\n",
      "[CV] base_estimator__C=200, learning_rate=0.001 ......................\n",
      "[Parallel(n_jobs=-1)]: Done   4 tasks      | elapsed: 32.7min\n",
      "[CV]  base_estimator__C=100, learning_rate=0.001, score=0.7748602303828972, total=32.4min\n",
      "[CV] base_estimator__C=200, learning_rate=0.01 .......................\n",
      "[Parallel(n_jobs=-1)]: Done   5 tasks      | elapsed: 32.7min\n",
      "[CV]  base_estimator__C=100, learning_rate=0.001, score=0.7700561494480935, total=33.2min\n",
      "[CV] base_estimator__C=200, learning_rate=0.01 .......................\n",
      "[Parallel(n_jobs=-1)]: Done   6 tasks      | elapsed: 33.5min\n",
      "[CV]  base_estimator__C=100, learning_rate=0.1, score=0.7699533286508193, total=48.0min\n",
      "[CV] base_estimator__C=200, learning_rate=0.01 .......................\n",
      "[Parallel(n_jobs=-1)]: Done   7 tasks      | elapsed: 48.5min\n",
      "[CV]  base_estimator__C=100, learning_rate=0.1, score=0.7713261903355004, total=48.6min\n",
      "[CV] base_estimator__C=200, learning_rate=0.1 ........................\n",
      "[Parallel(n_jobs=-1)]: Done   8 tasks      | elapsed: 49.0min\n",
      "[CV]  base_estimator__C=200, learning_rate=0.001, score=0.7719917694884791, total=35.9min\n",
      "[CV] base_estimator__C=200, learning_rate=0.1 ........................\n",
      "[Parallel(n_jobs=-1)]: Done   9 tasks      | elapsed: 67.5min\n",
      "[CV]  base_estimator__C=200, learning_rate=0.001, score=0.7752542108124448, total=34.9min\n",
      "[CV] base_estimator__C=200, learning_rate=0.1 ........................\n",
      "[Parallel(n_jobs=-1)]: Done  10 tasks      | elapsed: 67.8min\n",
      "[CV]  base_estimator__C=200, learning_rate=0.001, score=0.7702833250063587, total=36.3min\n",
      "[CV] base_estimator__C=300, learning_rate=0.001 ......................\n",
      "[Parallel(n_jobs=-1)]: Done  11 tasks      | elapsed: 68.7min\n",
      "[CV]  base_estimator__C=200, learning_rate=0.01, score=0.7720256857057656, total=39.8min\n",
      "[CV] base_estimator__C=300, learning_rate=0.001 ......................\n",
      "[Parallel(n_jobs=-1)]: Done  12 tasks      | elapsed: 72.7min\n",
      "[CV]  base_estimator__C=200, learning_rate=0.01, score=0.7703469535023293, total=39.7min\n",
      "[CV] base_estimator__C=300, learning_rate=0.001 ......................\n",
      "[Parallel(n_jobs=-1)]: Done  13 tasks      | elapsed: 73.4min\n",
      "[CV]  base_estimator__C=100, learning_rate=0.1, score=0.7752384734487936, total=47.8min\n",
      "[CV] base_estimator__C=300, learning_rate=0.01 .......................\n",
      "[Parallel(n_jobs=-1)]: Done  14 tasks      | elapsed: 78.4min\n",
      "[CV]  base_estimator__C=200, learning_rate=0.01, score=0.7754350398025385, total=41.5min\n",
      "[CV] base_estimator__C=300, learning_rate=0.01 .......................\n",
      "[Parallel(n_jobs=-1)]: Done  15 tasks      | elapsed: 90.2min\n",
      "[CV]  base_estimator__C=300, learning_rate=0.001, score=0.7720778258301697, total=39.1min\n",
      "[CV] base_estimator__C=300, learning_rate=0.01 .......................\n",
      "[Parallel(n_jobs=-1)]: Done  16 tasks      | elapsed: 107.9min\n",
      "[CV]  base_estimator__C=200, learning_rate=0.1, score=0.771152493800938, total=62.2min\n",
      "[CV] base_estimator__C=300, learning_rate=0.1 ........................\n",
      "[Parallel(n_jobs=-1)]: Done  17 tasks      | elapsed: 111.6min\n",
      "[CV]  base_estimator__C=300, learning_rate=0.001, score=0.7703009679542983, total=39.0min\n",
      "[CV] base_estimator__C=300, learning_rate=0.1 ........................\n",
      "[Parallel(n_jobs=-1)]: Done  18 tasks      | elapsed: 112.0min\n",
      "[CV]  base_estimator__C=300, learning_rate=0.001, score=0.7753396832546167, total=42.4min\n",
      "[CV] base_estimator__C=300, learning_rate=0.1 ........................\n",
      "[Parallel(n_jobs=-1)]: Done  19 tasks      | elapsed: 116.1min\n",
      "[CV]  base_estimator__C=300, learning_rate=0.01, score=0.7720252188864698, total=48.0min\n",
      "[CV] base_estimator__C=500, learning_rate=0.001 ......................\n",
      "[Parallel(n_jobs=-1)]: Done  20 tasks      | elapsed: 126.6min\n",
      "[CV]  base_estimator__C=200, learning_rate=0.1, score=0.7698487893429515, total=60.1min\n",
      "[CV] base_estimator__C=500, learning_rate=0.001 ......................\n",
      "[Parallel(n_jobs=-1)]: Done  21 tasks      | elapsed: 127.9min\n",
      "[CV]  base_estimator__C=200, learning_rate=0.1, score=0.7751104917852398, total=61.3min\n",
      "[CV] base_estimator__C=500, learning_rate=0.001 ......................\n",
      "[Parallel(n_jobs=-1)]: Done  22 out of  36 | elapsed: 129.3min remaining: 82.3min\n",
      "[CV]  base_estimator__C=300, learning_rate=0.01, score=0.7703061619601974, total=44.9min\n",
      "[CV] base_estimator__C=500, learning_rate=0.01 .......................\n",
      "[Parallel(n_jobs=-1)]: Done  23 out of  36 | elapsed: 135.3min remaining: 76.5min\n",
      "[CV]  base_estimator__C=300, learning_rate=0.01, score=0.7754394874577534, total=45.6min\n",
      "[CV] base_estimator__C=500, learning_rate=0.01 .......................\n",
      "[Parallel(n_jobs=-1)]: Done  24 out of  36 | elapsed: 153.8min remaining: 76.9min\n",
      "[CV]  base_estimator__C=500, learning_rate=0.001, score=0.7721039189768424, total=44.7min\n",
      "[CV] base_estimator__C=500, learning_rate=0.01 .......................\n",
      "[Parallel(n_jobs=-1)]: Done  25 out of  36 | elapsed: 171.6min remaining: 75.5min\n",
      "[CV]  base_estimator__C=500, learning_rate=0.001, score=0.7702509323641361, total=44.6min\n",
      "[CV] base_estimator__C=500, learning_rate=0.1 ........................\n",
      "[Parallel(n_jobs=-1)]: Done  26 out of  36 | elapsed: 172.7min remaining: 66.4min\n",
      "[CV]  base_estimator__C=500, learning_rate=0.001, score=0.7753568364808274, total=44.3min\n",
      "[CV] base_estimator__C=500, learning_rate=0.1 ........................\n",
      "[Parallel(n_jobs=-1)]: Done  27 out of  36 | elapsed: 173.9min remaining: 58.0min\n",
      "[CV]  base_estimator__C=300, learning_rate=0.1, score=0.7697945985480703, total=69.4min\n",
      "[CV] base_estimator__C=500, learning_rate=0.1 ........................\n"
     ]
    },
    {
     "name": "stdout",
     "output_type": "stream",
     "text": [
      "[Parallel(n_jobs=-1)]: Done  28 out of  36 | elapsed: 181.6min remaining: 51.9min\n",
      "[CV]  base_estimator__C=300, learning_rate=0.1, score=0.7710484405494245, total=72.7min\n",
      "[Parallel(n_jobs=-1)]: Done  29 out of  36 | elapsed: 184.5min remaining: 44.5min\n",
      "[CV]  base_estimator__C=300, learning_rate=0.1, score=0.7750409529268022, total=69.7min\n",
      "[Parallel(n_jobs=-1)]: Done  30 out of  36 | elapsed: 186.0min remaining: 37.2min\n",
      "[CV]  base_estimator__C=500, learning_rate=0.01, score=0.7719890519332939, total=54.7min\n",
      "[Parallel(n_jobs=-1)]: Done  31 out of  36 | elapsed: 190.3min remaining: 30.7min\n",
      "[CV]  base_estimator__C=500, learning_rate=0.01, score=0.7702227526378096, total=52.4min\n",
      "[Parallel(n_jobs=-1)]: Done  32 out of  36 | elapsed: 206.4min remaining: 25.8min\n",
      "[CV]  base_estimator__C=500, learning_rate=0.01, score=0.7753933654783723, total=44.8min\n",
      "[Parallel(n_jobs=-1)]: Done  33 out of  36 | elapsed: 216.6min remaining: 19.7min\n",
      "[CV]  base_estimator__C=500, learning_rate=0.1, score=0.7697282486495024, total=59.8min\n",
      "[Parallel(n_jobs=-1)]: Done  34 out of  36 | elapsed: 233.9min remaining: 13.8min\n",
      "[CV]  base_estimator__C=500, learning_rate=0.1, score=0.7709277600666806, total=62.6min\n",
      "[CV]  base_estimator__C=500, learning_rate=0.1, score=0.774952056251809, total=56.9min\n",
      "[Parallel(n_jobs=-1)]: Done  36 out of  36 | elapsed: 238.7min remaining:    0.0s\n",
      "[Parallel(n_jobs=-1)]: Done  36 out of  36 | elapsed: 238.7min finished\n"
     ]
    },
    {
     "data": {
      "text/plain": [
       "GridSearchCV(cv=3, error_score='raise',\n",
       "       estimator=AdaBoostClassifier(algorithm='SAMME.R',\n",
       "          base_estimator=LogisticRegression(C=1.0, class_weight=None, dual=False, fit_intercept=True,\n",
       "          intercept_scaling=1, max_iter=100, multi_class='ovr', n_jobs=1,\n",
       "          penalty='l2', random_state=0, solver='liblinear', tol=0.0001,\n",
       "          verbose=0, warm_start=False),\n",
       "          learning_rate=1.0, n_estimators=50, random_state=0),\n",
       "       fit_params=None, iid=True, n_jobs=-1,\n",
       "       param_grid=[{'base_estimator__C': [100, 200, 300, 500], 'learning_rate': [0.001, 0.01, 0.1]}],\n",
       "       pre_dispatch='2*n_jobs', refit=True, return_train_score=True,\n",
       "       scoring='roc_auc', verbose=51)"
      ]
     },
     "execution_count": 16,
     "metadata": {},
     "output_type": "execute_result"
    }
   ],
   "source": [
    "param_grid = [{ 'base_estimator__C': [100,200,300,500] ,\n",
    "                'learning_rate':       [.001,.01,.1]}]\n",
    "\n",
    "my_LgRg_4_Ada = LogisticRegression(penalty= 'l2', \n",
    "                                   random_state = 0, \n",
    "                                   class_weight = None) \n",
    "\n",
    "my_AdaBC_LogReg_all_feats = AdaBoostClassifier(base_estimator = my_LgRg_4_Ada, \n",
    "                                               n_estimators = 50, \n",
    "                                               algorithm = 'SAMME.R', \n",
    "                                               random_state = 0)\n",
    "\n",
    "my_AdaBC_LogReg_all_feats_grid_search = GridSearchCV(my_AdaBC_LogReg_all_feats, \n",
    "                                                       param_grid, \n",
    "                                                       cv = 3, # for integer inputs, Stratified folding is default. \n",
    "                                                       return_train_score = True , \n",
    "                                                       scoring = 'roc_auc',\n",
    "                                                       n_jobs = -1, \n",
    "                                                       refit = True,\n",
    "                                                       verbose = 51,\n",
    "                                                        )\n",
    "\n",
    "my_AdaBC_LogReg_all_feats_grid_search.fit(total_df_piped, \n",
    "                                           total_df['TARGET'])"
   ]
  },
  {
   "cell_type": "code",
   "execution_count": null,
   "metadata": {},
   "outputs": [],
   "source": []
  },
  {
   "cell_type": "code",
   "execution_count": 17,
   "metadata": {},
   "outputs": [
    {
     "data": {
      "text/html": [
       "<div>\n",
       "<style scoped>\n",
       "    .dataframe tbody tr th:only-of-type {\n",
       "        vertical-align: middle;\n",
       "    }\n",
       "\n",
       "    .dataframe tbody tr th {\n",
       "        vertical-align: top;\n",
       "    }\n",
       "\n",
       "    .dataframe thead th {\n",
       "        text-align: right;\n",
       "    }\n",
       "</style>\n",
       "<table border=\"1\" class=\"dataframe\">\n",
       "  <thead>\n",
       "    <tr style=\"text-align: right;\">\n",
       "      <th></th>\n",
       "      <th>params</th>\n",
       "      <th>mean_test_score</th>\n",
       "    </tr>\n",
       "  </thead>\n",
       "  <tbody>\n",
       "    <tr>\n",
       "      <th>0</th>\n",
       "      <td>{'base_estimator__C': 100, 'learning_rate': 0.001}</td>\n",
       "      <td>0.772182</td>\n",
       "    </tr>\n",
       "    <tr>\n",
       "      <th>1</th>\n",
       "      <td>{'base_estimator__C': 100, 'learning_rate': 0.01}</td>\n",
       "      <td>0.772491</td>\n",
       "    </tr>\n",
       "    <tr>\n",
       "      <th>2</th>\n",
       "      <td>{'base_estimator__C': 100, 'learning_rate': 0.1}</td>\n",
       "      <td>0.772173</td>\n",
       "    </tr>\n",
       "    <tr>\n",
       "      <th>3</th>\n",
       "      <td>{'base_estimator__C': 200, 'learning_rate': 0.001}</td>\n",
       "      <td>0.772510</td>\n",
       "    </tr>\n",
       "    <tr>\n",
       "      <th>4</th>\n",
       "      <td>{'base_estimator__C': 200, 'learning_rate': 0.01}</td>\n",
       "      <td>0.772603</td>\n",
       "    </tr>\n",
       "    <tr>\n",
       "      <th>5</th>\n",
       "      <td>{'base_estimator__C': 200, 'learning_rate': 0.1}</td>\n",
       "      <td>0.772037</td>\n",
       "    </tr>\n",
       "    <tr>\n",
       "      <th>6</th>\n",
       "      <td>{'base_estimator__C': 300, 'learning_rate': 0.001}</td>\n",
       "      <td>0.772573</td>\n",
       "    </tr>\n",
       "    <tr>\n",
       "      <th>7</th>\n",
       "      <td>{'base_estimator__C': 300, 'learning_rate': 0.01}</td>\n",
       "      <td>0.772590</td>\n",
       "    </tr>\n",
       "    <tr>\n",
       "      <th>8</th>\n",
       "      <td>{'base_estimator__C': 300, 'learning_rate': 0.1}</td>\n",
       "      <td>0.771961</td>\n",
       "    </tr>\n",
       "    <tr>\n",
       "      <th>9</th>\n",
       "      <td>{'base_estimator__C': 500, 'learning_rate': 0.001}</td>\n",
       "      <td>0.772571</td>\n",
       "    </tr>\n",
       "    <tr>\n",
       "      <th>10</th>\n",
       "      <td>{'base_estimator__C': 500, 'learning_rate': 0.01}</td>\n",
       "      <td>0.772535</td>\n",
       "    </tr>\n",
       "    <tr>\n",
       "      <th>11</th>\n",
       "      <td>{'base_estimator__C': 500, 'learning_rate': 0.1}</td>\n",
       "      <td>0.771869</td>\n",
       "    </tr>\n",
       "  </tbody>\n",
       "</table>\n",
       "</div>"
      ],
      "text/plain": [
       "                                                params  mean_test_score\n",
       "0   {'base_estimator__C': 100, 'learning_rate': 0.001}  0.772182       \n",
       "1   {'base_estimator__C': 100, 'learning_rate': 0.01}   0.772491       \n",
       "2   {'base_estimator__C': 100, 'learning_rate': 0.1}    0.772173       \n",
       "3   {'base_estimator__C': 200, 'learning_rate': 0.001}  0.772510       \n",
       "4   {'base_estimator__C': 200, 'learning_rate': 0.01}   0.772603       \n",
       "5   {'base_estimator__C': 200, 'learning_rate': 0.1}    0.772037       \n",
       "6   {'base_estimator__C': 300, 'learning_rate': 0.001}  0.772573       \n",
       "7   {'base_estimator__C': 300, 'learning_rate': 0.01}   0.772590       \n",
       "8   {'base_estimator__C': 300, 'learning_rate': 0.1}    0.771961       \n",
       "9   {'base_estimator__C': 500, 'learning_rate': 0.001}  0.772571       \n",
       "10  {'base_estimator__C': 500, 'learning_rate': 0.01}   0.772535       \n",
       "11  {'base_estimator__C': 500, 'learning_rate': 0.1}    0.771869       "
      ]
     },
     "execution_count": 17,
     "metadata": {},
     "output_type": "execute_result"
    }
   ],
   "source": [
    "pd.set_option('display.max_colwidth', -1)\n",
    "pd.DataFrame(my_AdaBC_LogReg_all_feats_grid_search.cv_results_)[['params','mean_test_score']]"
   ]
  },
  {
   "cell_type": "code",
   "execution_count": null,
   "metadata": {},
   "outputs": [],
   "source": []
  },
  {
   "cell_type": "code",
   "execution_count": 18,
   "metadata": {},
   "outputs": [
    {
     "data": {
      "text/plain": [
       "0.7726025504592231"
      ]
     },
     "execution_count": 18,
     "metadata": {},
     "output_type": "execute_result"
    }
   ],
   "source": [
    "my_AdaBC_LogReg_all_feats_grid_search.best_score_"
   ]
  },
  {
   "cell_type": "code",
   "execution_count": null,
   "metadata": {},
   "outputs": [],
   "source": []
  },
  {
   "cell_type": "code",
   "execution_count": 19,
   "metadata": {},
   "outputs": [
    {
     "data": {
      "text/plain": [
       "{'base_estimator__C': 200, 'learning_rate': 0.01}"
      ]
     },
     "execution_count": 19,
     "metadata": {},
     "output_type": "execute_result"
    }
   ],
   "source": [
    "LgRg_optimized_parms = my_AdaBC_LogReg_all_feats_grid_search.best_params_\n",
    "LgRg_optimized_parms"
   ]
  },
  {
   "cell_type": "code",
   "execution_count": null,
   "metadata": {},
   "outputs": [],
   "source": []
  },
  {
   "cell_type": "code",
   "execution_count": 20,
   "metadata": {},
   "outputs": [
    {
     "data": {
      "text/plain": [
       "0.7743676835818082"
      ]
     },
     "execution_count": 20,
     "metadata": {},
     "output_type": "execute_result"
    }
   ],
   "source": [
    "train_scores = [x[1] for x in my_AdaBC_LogReg_all_feats_grid_search.predict_proba(total_df_piped)]\n",
    "roc_auc_score(total_df['TARGET'], train_scores)"
   ]
  },
  {
   "cell_type": "code",
   "execution_count": null,
   "metadata": {},
   "outputs": [],
   "source": []
  },
  {
   "cell_type": "code",
   "execution_count": 21,
   "metadata": {},
   "outputs": [],
   "source": [
    "del my_AdaBC_LogReg_all_feats_grid_search"
   ]
  },
  {
   "cell_type": "code",
   "execution_count": null,
   "metadata": {},
   "outputs": [],
   "source": []
  },
  {
   "cell_type": "code",
   "execution_count": null,
   "metadata": {},
   "outputs": [],
   "source": []
  }
 ],
 "metadata": {
  "kernelspec": {
   "display_name": "Python 3",
   "language": "python",
   "name": "python3"
  },
  "language_info": {
   "codemirror_mode": {
    "name": "ipython",
    "version": 3
   },
   "file_extension": ".py",
   "mimetype": "text/x-python",
   "name": "python",
   "nbconvert_exporter": "python",
   "pygments_lexer": "ipython3",
   "version": "3.6.6"
  },
  "latex_envs": {
   "LaTeX_envs_menu_present": true,
   "autocomplete": true,
   "bibliofile": "biblio.bib",
   "cite_by": "apalike",
   "current_citInitial": 1,
   "eqLabelWithNumbers": true,
   "eqNumInitial": 1,
   "hotkeys": {
    "equation": "Ctrl-E",
    "itemize": "Ctrl-I"
   },
   "labels_anchors": false,
   "latex_user_defs": false,
   "report_style_numbering": false,
   "user_envs_cfg": false
  },
  "toc": {
   "nav_menu": {},
   "number_sections": true,
   "sideBar": true,
   "skip_h1_title": false,
   "toc_cell": false,
   "toc_position": {},
   "toc_section_display": "none",
   "toc_window_display": false
  },
  "varInspector": {
   "cols": {
    "lenName": 16,
    "lenType": 16,
    "lenVar": 40
   },
   "kernels_config": {
    "python": {
     "delete_cmd_postfix": "",
     "delete_cmd_prefix": "del ",
     "library": "var_list.py",
     "varRefreshCmd": "print(var_dic_list())"
    },
    "r": {
     "delete_cmd_postfix": ") ",
     "delete_cmd_prefix": "rm(",
     "library": "var_list.r",
     "varRefreshCmd": "cat(var_dic_list()) "
    }
   },
   "oldHeight": 1038.5,
   "position": {
    "height": "852px",
    "left": "1314px",
    "right": "46px",
    "top": "121px",
    "width": "800px"
   },
   "types_to_exclude": [
    "module",
    "function",
    "builtin_function_or_method",
    "instance",
    "_Feature"
   ],
   "varInspector_section_display": "block",
   "window_display": false
  }
 },
 "nbformat": 4,
 "nbformat_minor": 2
}
