{
 "cells": [
  {
   "cell_type": "code",
   "execution_count": null,
   "metadata": {},
   "outputs": [],
   "source": []
  },
  {
   "cell_type": "code",
   "execution_count": 1,
   "metadata": {
    "scrolled": true
   },
   "outputs": [
    {
     "data": {
      "text/plain": [
       "('0.23.3', '1.14.2')"
      ]
     },
     "execution_count": 1,
     "metadata": {},
     "output_type": "execute_result"
    }
   ],
   "source": [
    "import pandas as pd\n",
    "\n",
    "import numpy as np\n",
    "\n",
    "from IPython.display import display\n",
    "\n",
    "pd.__version__ , np.__version__ #,  matplotlib.__version__, sns.__version__"
   ]
  },
  {
   "cell_type": "code",
   "execution_count": null,
   "metadata": {},
   "outputs": [],
   "source": []
  },
  {
   "cell_type": "code",
   "execution_count": 2,
   "metadata": {},
   "outputs": [],
   "source": [
    "from sklearn.model_selection import train_test_split, learning_curve, cross_val_score, KFold, StratifiedKFold, \\\n",
    "                                    ShuffleSplit, GridSearchCV, RandomizedSearchCV, cross_val_predict\n",
    "\n",
    "from sklearn.metrics import roc_auc_score\n",
    "\n",
    "from sklearn.ensemble import RandomForestClassifier\n",
    "from sklearn.linear_model import LogisticRegression\n",
    "from sklearn.neural_network import MLPClassifier\n",
    "from sklearn.ensemble import AdaBoostClassifier\n",
    "\n",
    "from sklearn.tree import DecisionTreeClassifier\n",
    "\n",
    "from sklearn.externals import joblib"
   ]
  },
  {
   "cell_type": "code",
   "execution_count": null,
   "metadata": {},
   "outputs": [],
   "source": []
  },
  {
   "cell_type": "code",
   "execution_count": 3,
   "metadata": {
    "scrolled": true
   },
   "outputs": [
    {
     "data": {
      "text/plain": [
       "'/Users/DonBunk/Desktop/Google Drive/data_science/Python_Projects/Home_Credit_Default_Risk/level_3_ensembling'"
      ]
     },
     "execution_count": 3,
     "metadata": {},
     "output_type": "execute_result"
    }
   ],
   "source": [
    "pwd"
   ]
  },
  {
   "cell_type": "code",
   "execution_count": 4,
   "metadata": {},
   "outputs": [
    {
     "name": "stdout",
     "output_type": "stream",
     "text": [
      "/Users/DonBunk/Desktop/Google Drive/data_science/Python_Projects/Home_Credit_Default_Risk\n"
     ]
    }
   ],
   "source": [
    "cd '/Users/DonBunk/Desktop/Google Drive/data_science/Python_Projects/Home_Credit_Default_Risk/'"
   ]
  },
  {
   "cell_type": "code",
   "execution_count": 5,
   "metadata": {},
   "outputs": [],
   "source": [
    "from Home_Credit_package.master_pipeline import master_pipeline"
   ]
  },
  {
   "cell_type": "code",
   "execution_count": 6,
   "metadata": {},
   "outputs": [],
   "source": [
    "save_path = 'saved_models/level_3_models/'"
   ]
  },
  {
   "cell_type": "markdown",
   "metadata": {},
   "source": [
    "# load this"
   ]
  },
  {
   "cell_type": "code",
   "execution_count": null,
   "metadata": {},
   "outputs": [],
   "source": []
  },
  {
   "cell_type": "markdown",
   "metadata": {
    "heading_collapsed": true
   },
   "source": [
    "## load df"
   ]
  },
  {
   "cell_type": "code",
   "execution_count": null,
   "metadata": {
    "hidden": true
   },
   "outputs": [],
   "source": []
  },
  {
   "cell_type": "code",
   "execution_count": 7,
   "metadata": {
    "hidden": true
   },
   "outputs": [],
   "source": [
    "o_path = 'wrangling/TRAINING_DATA_create_final_wrangled_csv/'\n",
    "L1_mf_path = 'level_2_ensembling/'\n",
    "original_cleaned_df = pd.read_csv(o_path + 'complete_initial_wrangled_data.csv', index_col = 'SK_ID_CURR')\n",
    "level_2_metafeatures_df = pd.read_csv(L1_mf_path + 'FINAL_level_2_meta_features_df.csv', index_col = 'SK_ID_CURR')\n",
    "total_df = pd.merge(original_cleaned_df, level_2_metafeatures_df, left_index=True, right_index=True, how = 'outer' )"
   ]
  },
  {
   "cell_type": "code",
   "execution_count": null,
   "metadata": {
    "hidden": true
   },
   "outputs": [],
   "source": []
  },
  {
   "cell_type": "code",
   "execution_count": 8,
   "metadata": {
    "hidden": true
   },
   "outputs": [
    {
     "name": "stdout",
     "output_type": "stream",
     "text": [
      "<class 'pandas.core.frame.DataFrame'>\n",
      "Int64Index: 307511 entries, 100002 to 456255\n",
      "Data columns (total 92 columns):\n",
      "TARGET                                307511 non-null int64\n",
      "NAME_CONTRACT_TYPE                    307511 non-null object\n",
      "CODE_GENDER                           307511 non-null object\n",
      "FLAG_OWN_CAR                          307511 non-null object\n",
      "FLAG_OWN_REALTY                       307511 non-null object\n",
      "CNT_CHILDREN                          307511 non-null int64\n",
      "NAME_EDUCATION_TYPE                   307511 non-null object\n",
      "NAME_FAMILY_STATUS                    307511 non-null object\n",
      "DAYS_BIRTH                            307511 non-null int64\n",
      "FLAG_EMP_PHONE                        307511 non-null int64\n",
      "FLAG_WORK_PHONE                       307511 non-null int64\n",
      "FLAG_PHONE                            307511 non-null int64\n",
      "FLAG_EMAIL                            307511 non-null int64\n",
      "CNT_FAM_MEMBERS                       307511 non-null int64\n",
      "REGION_RATING_CLIENT                  307511 non-null int64\n",
      "WEEKDAY_APPR_PROCESS_START            307511 non-null object\n",
      "HOUR_APPR_PROCESS_START               307511 non-null int64\n",
      "REG_REGION_NOT_LIVE_REGION            307511 non-null int64\n",
      "REG_REGION_NOT_WORK_REGION            307511 non-null int64\n",
      "LIVE_REGION_NOT_WORK_REGION           307511 non-null int64\n",
      "REG_CITY_NOT_LIVE_CITY                307511 non-null int64\n",
      "REG_CITY_NOT_WORK_CITY                307511 non-null int64\n",
      "LIVE_CITY_NOT_WORK_CITY               307511 non-null int64\n",
      "EXT_SOURCE_1                          307511 non-null float64\n",
      "EXT_SOURCE_2                          307511 non-null float64\n",
      "EXT_SOURCE_3                          307511 non-null float64\n",
      "APARTMENTS_AVG                        307511 non-null float64\n",
      "LANDAREA_AVG                          307511 non-null float64\n",
      "TOTALAREA_MODE                        307511 non-null float64\n",
      "EMERGENCYSTATE_MODE                   307511 non-null object\n",
      "OBS_60_CNT_SOCIAL_CIRCLE              307511 non-null float64\n",
      "FLAG_DOCUMENT_3                       307511 non-null int64\n",
      "FLAG_DOCUMENT_6                       307511 non-null int64\n",
      "AMT_REQ_CREDIT_BUREAU_YEAR            307511 non-null float64\n",
      "NULL_COUNTS                           307511 non-null int64\n",
      "SOCIAL_NULL_COUNTS                    307511 non-null int64\n",
      "NAME_TYPE_SUITE_condensed             307511 non-null object\n",
      "NAME_INCOME_TYPE_condensed            307511 non-null object\n",
      "NAME_HOUSING_TYPE_condensed           307511 non-null object\n",
      "OCCUPATION_TYPE_condensed             307511 non-null object\n",
      "ORGANIZATION_TYPE_condensed           307511 non-null object\n",
      "DAYS_EMPLOYED_eq_365243               307511 non-null object\n",
      "log_AMT_INCOME_TOTAL                  307511 non-null float64\n",
      "log_AMT_CREDIT                        307511 non-null float64\n",
      "pwr_AMT_ANNUITY_from_app_train        307511 non-null float64\n",
      "log_AMT_GOODS_PRICE                   307511 non-null float64\n",
      "pwr_REGION_POPULATION_RELATIVE        307511 non-null float64\n",
      "pwr_DAYS_REGISTRATION                 307511 non-null float64\n",
      "pwr_OWN_CAR_AGE                       307511 non-null float64\n",
      "pwr_DAYS_LAST_PHONE_CHANGE            307511 non-null float64\n",
      "pwr_DAYS_EMPLOYED                     307511 non-null float64\n",
      "pwr_DAYS_ID_PUBLISH                   307511 non-null float64\n",
      "DAYS_CREDIT_min                       307511 non-null float64\n",
      "CREDIT_ACTIVE_mode                    307511 non-null object\n",
      "CREDIT_CURRENCY_mode_condensed        307511 non-null object\n",
      "CREDIT_TYPE_mode_condensed            307511 non-null object\n",
      "pwr_DAYS_CREDIT_mean                  307511 non-null float64\n",
      "pwr_DAYS_ENDDATE_FACT_min             307511 non-null float64\n",
      "pwr_DAYS_CREDIT_median                307511 non-null float64\n",
      "pwr_DAYS_ENDDATE_FACT_median          307511 non-null float64\n",
      "LogMod_AMT_CREDIT_SUM_DEBT_mean       307511 non-null float64\n",
      "pwr_DAYS_CREDIT_ENDDATE_mean          307511 non-null float64\n",
      "pwr_DAYS_CREDIT_UPDATE_mean           307511 non-null float64\n",
      "NUM_OF_LOANS                          307511 non-null float64\n",
      "AMT_OVERPAY_MEAN                      307511 non-null float64\n",
      "AMT_OVERPAY_SD                        307511 non-null float64\n",
      "NUM_TIMES_OVERPAY                     307511 non-null float64\n",
      "NUM_INSTALMENT_VERSION_max            307511 non-null float64\n",
      "NUM_INSTALMENT_VERSION_min            307511 non-null float64\n",
      "DAYS_INSTALMENT_min                   307511 non-null float64\n",
      "DAYS_ENTRY_PAYMENT_min                307511 non-null float64\n",
      "pwr_DAYS_PAYMENT_LATE_median          307511 non-null float64\n",
      "LogMod_DAYS_PAYMENT_LATE_sd           307511 non-null float64\n",
      "pwr_NUM_TIMES_LATE                    307511 non-null float64\n",
      "LogMod_NUM_TIMES_EARLY                307511 non-null float64\n",
      "pwr_TERMS_CHANGE_TIMES                307511 non-null float64\n",
      "pwr_DAYS_INSTALMENT_mean              307511 non-null float64\n",
      "pwr_DAYS_ENTRY_PAYMENT_mean           307511 non-null float64\n",
      "LogMod_AMT_INSTALMENT_mean            307511 non-null float64\n",
      "pwr_AMT_INSTALMENT_max                307511 non-null float64\n",
      "pwr_AMT_INSTALMENT_min                307511 non-null float64\n",
      "LogMod_AMT_PAYMENT_mean               307511 non-null float64\n",
      "LogMod_AMT_PAYMENT_max                307511 non-null float64\n",
      "pwr_AMT_PAYMENT_min                   307511 non-null float64\n",
      "LogMod_NUM_INSTALMENT_NUMBER_mean     307511 non-null float64\n",
      "LogMod_NUM_INSTALMENT_NUMBER_max      307511 non-null float64\n",
      "pwr_rescale_RanFor_EXTpoly_Level2     307511 non-null float64\n",
      "pwr_rescale_LogReg_EXTpoly_Level2     307511 non-null float64\n",
      "pwr_rescale_MLP_EXTpoly_Level2        307511 non-null float64\n",
      "pwr_rescale_RanFor_AllFeats_Level2    307511 non-null float64\n",
      "pwr_rescale_LogReg_AllFeats_Level2    307511 non-null float64\n",
      "pwr_rescale_MLP_AllFeats_Level2       307511 non-null float64\n",
      "dtypes: float64(55), int64(20), object(17)\n",
      "memory usage: 228.2+ MB\n"
     ]
    }
   ],
   "source": [
    "total_df.info(verbose = True, null_counts = True);"
   ]
  },
  {
   "cell_type": "code",
   "execution_count": 9,
   "metadata": {
    "hidden": true
   },
   "outputs": [
    {
     "data": {
      "text/plain": [
       "Series([], dtype: bool)"
      ]
     },
     "execution_count": 9,
     "metadata": {},
     "output_type": "execute_result"
    }
   ],
   "source": [
    "# CHECK: this should be empty if everything is non null\n",
    "total_df.isnull().any()[total_df.isnull().any()==True]"
   ]
  },
  {
   "cell_type": "code",
   "execution_count": null,
   "metadata": {
    "hidden": true
   },
   "outputs": [],
   "source": []
  },
  {
   "cell_type": "markdown",
   "metadata": {},
   "source": [
    "# models with only EXT SOURCES + level 2 final scores."
   ]
  },
  {
   "cell_type": "code",
   "execution_count": null,
   "metadata": {},
   "outputs": [],
   "source": []
  },
  {
   "cell_type": "code",
   "execution_count": 10,
   "metadata": {
    "scrolled": true
   },
   "outputs": [],
   "source": [
    "minimal_feats = ['EXT_SOURCE_1','EXT_SOURCE_2','EXT_SOURCE_3',\n",
    "                 'pwr_rescale_RanFor_EXTpoly_Level2',     \n",
    "                    'pwr_rescale_LogReg_EXTpoly_Level2',     \n",
    "                    'pwr_rescale_MLP_EXTpoly_Level2',        \n",
    "                    'pwr_rescale_RanFor_AllFeats_Level2', \n",
    "                    'pwr_rescale_LogReg_AllFeats_Level2',  \n",
    "                    'pwr_rescale_MLP_AllFeats_Level2',\n",
    "                    ]"
   ]
  },
  {
   "cell_type": "code",
   "execution_count": 11,
   "metadata": {},
   "outputs": [
    {
     "name": "stdout",
     "output_type": "stream",
     "text": [
      "Total original feat len is 9. Sum of feats is 9.\n",
      "Final array is length 45. final feature list is length 45.\n"
     ]
    }
   ],
   "source": [
    "total_df_piped, final_feature_list, total_pipeline, trans_list = master_pipeline(df_in = total_df[minimal_feats],\n",
    "                                                                                 int_cutoff=20, \n",
    "                                                                                 poly_deg=4, \n",
    "                                                                                 feats_with_interaction=[]\n",
    "                                                                                 )"
   ]
  },
  {
   "cell_type": "code",
   "execution_count": null,
   "metadata": {},
   "outputs": [],
   "source": []
  },
  {
   "cell_type": "markdown",
   "metadata": {
    "heading_collapsed": true
   },
   "source": [
    "### AdaBoost + log reg."
   ]
  },
  {
   "cell_type": "code",
   "execution_count": null,
   "metadata": {
    "hidden": true
   },
   "outputs": [],
   "source": []
  },
  {
   "cell_type": "raw",
   "metadata": {
    "hidden": true
   },
   "source": [
    "input:\n",
    "param_grid = [{ 'base_estimator__C': [.01,.1,1,10,100] ,\n",
    "              'learning_rate':       [.1,.5,1,2]}]\n",
    "              \n",
    "output: \n",
    "{'base_estimator__C': 100, 'learning_rate': 1}\n",
    "best_score = 0.7746618823193743, train_score = 0.7748662754276789\n",
    "\n",
    "input: \n",
    "param_grid = [{ 'base_estimator__C': [.01,.1,1,10,100,200,500] ,\n",
    "              'learning_rate':       [.1,.5,1,2]}]\n",
    "output:\n",
    "{'base_estimator__C': 500, 'learning_rate': 1}\n",
    "best_score = 0.774672223770816, train_score = 0.7748953414440054\n",
    "\n",
    "input\n",
    "param_grid = [{ 'base_estimator__C': [.01,.1,1,10,100,200,500] ,\n",
    "                'learning_rate':       [.1,.5,1,2]}]\n",
    "output:  {'base_estimator__C': 500, 'learning_rate': 1}\n",
    "best_score = 0.774672223770816, train_score = 0.7748953414440054\n",
    "\n",
    "input:\n",
    "param_grid = [{ 'base_estimator__C': [300,400,500,600,700,800,900,1000],\n",
    "                'learning_rate':       [.1,.5,1,2],\n",
    "              }]\n",
    "              \n",
    "output:  \n",
    "{'base_estimator__C': 1000, 'learning_rate': 1}\n",
    "best_score = 0.7746843824884295, train_score = 0.7749187198256312\n",
    "\n",
    "-> This potential seems to be very flat. "
   ]
  },
  {
   "cell_type": "code",
   "execution_count": null,
   "metadata": {
    "hidden": true
   },
   "outputs": [],
   "source": []
  },
  {
   "cell_type": "code",
   "execution_count": 12,
   "metadata": {
    "hidden": true
   },
   "outputs": [
    {
     "data": {
      "text/plain": [
       "AdaBoostClassifier(algorithm='SAMME.R',\n",
       "          base_estimator=LogisticRegression(C=1000, class_weight=None, dual=False, fit_intercept=True,\n",
       "          intercept_scaling=1, max_iter=100, multi_class='ovr', n_jobs=1,\n",
       "          penalty='l2', random_state=0, solver='liblinear', tol=0.0001,\n",
       "          verbose=0, warm_start=False),\n",
       "          learning_rate=1, n_estimators=50, random_state=0)"
      ]
     },
     "execution_count": 12,
     "metadata": {},
     "output_type": "execute_result"
    }
   ],
   "source": [
    "my_LgRg_4_Ada = LogisticRegression(penalty= 'l2', \n",
    "                                   random_state = 0, \n",
    "                                   class_weight = None,\n",
    "                                   C= 1000,\n",
    "                                   ) \n",
    "\n",
    "my_AdaBC_LogReg_minimal_feats = AdaBoostClassifier(base_estimator = my_LgRg_4_Ada, \n",
    "                                                   n_estimators = 50, \n",
    "                                                   algorithm = 'SAMME.R', \n",
    "                                                   random_state = 0,\n",
    "                                                  learning_rate=1,\n",
    "                                                  )\n",
    "\n",
    "my_AdaBC_LogReg_minimal_feats.fit(X = total_df_piped,\n",
    "                                 y = total_df['TARGET'], \n",
    "                                 )\n"
   ]
  },
  {
   "cell_type": "code",
   "execution_count": null,
   "metadata": {
    "hidden": true
   },
   "outputs": [],
   "source": []
  },
  {
   "cell_type": "code",
   "execution_count": 13,
   "metadata": {
    "hidden": true
   },
   "outputs": [],
   "source": [
    "final_training_predictions = my_AdaBC_LogReg_minimal_feats.predict_proba(X = total_df_piped)"
   ]
  },
  {
   "cell_type": "code",
   "execution_count": null,
   "metadata": {
    "hidden": true
   },
   "outputs": [],
   "source": []
  },
  {
   "cell_type": "code",
   "execution_count": 14,
   "metadata": {
    "hidden": true
   },
   "outputs": [
    {
     "data": {
      "text/plain": [
       "0.7744626146708214"
      ]
     },
     "execution_count": 14,
     "metadata": {},
     "output_type": "execute_result"
    }
   ],
   "source": [
    "val_scores = [x[1] for x in final_training_predictions]\n",
    "roc_auc_score(total_df['TARGET'], val_scores)"
   ]
  },
  {
   "cell_type": "code",
   "execution_count": null,
   "metadata": {
    "hidden": true
   },
   "outputs": [],
   "source": []
  },
  {
   "cell_type": "code",
   "execution_count": 15,
   "metadata": {
    "hidden": true
   },
   "outputs": [
    {
     "data": {
      "text/plain": [
       "AdaBoostClassifier(algorithm='SAMME.R',\n",
       "          base_estimator=LogisticRegression(C=1000, class_weight=None, dual=False, fit_intercept=True,\n",
       "          intercept_scaling=1, max_iter=100, multi_class='ovr', n_jobs=1,\n",
       "          penalty='l2', random_state=0, solver='liblinear', tol=0.0001,\n",
       "          verbose=0, warm_start=False),\n",
       "          learning_rate=1, n_estimators=50, random_state=0)"
      ]
     },
     "execution_count": 15,
     "metadata": {},
     "output_type": "execute_result"
    }
   ],
   "source": [
    "# fit and save model for predictions\n",
    "my_AdaBC_LogReg_minimal_feats.fit(X = total_df_piped,\n",
    "                                  y = total_df['TARGET'])"
   ]
  },
  {
   "cell_type": "code",
   "execution_count": 16,
   "metadata": {
    "hidden": true
   },
   "outputs": [
    {
     "data": {
      "text/plain": [
       "['saved_models/level_3_models/my_AdaBC_LogReg_minimal_feats_level_3.joblib']"
      ]
     },
     "execution_count": 16,
     "metadata": {},
     "output_type": "execute_result"
    }
   ],
   "source": [
    "joblib.dump(my_AdaBC_LogReg_minimal_feats, save_path + 'my_AdaBC_LogReg_minimal_feats_level_3.joblib')"
   ]
  },
  {
   "cell_type": "code",
   "execution_count": null,
   "metadata": {
    "hidden": true
   },
   "outputs": [],
   "source": []
  },
  {
   "cell_type": "markdown",
   "metadata": {},
   "source": [
    "# models with all features"
   ]
  },
  {
   "cell_type": "code",
   "execution_count": 17,
   "metadata": {},
   "outputs": [],
   "source": [
    "feats_to_drop = ['pwr_rescale_RanFor_EXTpoly_Level2',     \n",
    "                 'pwr_rescale_LogReg_EXTpoly_Level2',     \n",
    "                 'pwr_rescale_MLP_EXTpoly_Level2',        \n",
    "                ]"
   ]
  },
  {
   "cell_type": "code",
   "execution_count": null,
   "metadata": {},
   "outputs": [],
   "source": []
  },
  {
   "cell_type": "code",
   "execution_count": 18,
   "metadata": {
    "scrolled": true
   },
   "outputs": [
    {
     "name": "stdout",
     "output_type": "stream",
     "text": [
      "Total original feat len is 88. Sum of feats is 88.\n",
      "Final array is length 433. final feature list is length 433.\n"
     ]
    }
   ],
   "source": [
    "total_df_piped, final_feature_list, total_pipeline, trans_list = \\\n",
    "master_pipeline(df_in = total_df.drop(columns = feats_to_drop),\n",
    "               int_cutoff=20, \n",
    "               poly_deg=4, \n",
    "               feats_with_interaction=[]\n",
    "               )"
   ]
  },
  {
   "cell_type": "code",
   "execution_count": null,
   "metadata": {},
   "outputs": [],
   "source": []
  },
  {
   "cell_type": "markdown",
   "metadata": {
    "heading_collapsed": true
   },
   "source": [
    "### Adaboost + log reg."
   ]
  },
  {
   "cell_type": "code",
   "execution_count": null,
   "metadata": {
    "hidden": true
   },
   "outputs": [],
   "source": []
  },
  {
   "cell_type": "raw",
   "metadata": {
    "hidden": true
   },
   "source": [
    "input:\n",
    "param_grid = [{ 'base_estimator__C': [.01,.1,1,10,200] ,\n",
    "                'learning_rate':       [.1,.5,2]}]\n",
    "                \n",
    "output:\n",
    "{'base_estimator__C': 10, 'learning_rate': 0.1}\n",
    "best_score = 0.7724472158335524, train_score = 0.7740659925649644\n",
    "\n",
    "\n",
    "input:\n",
    "param_grid = [{ 'base_estimator__C': [.1,1,10,50,100,200] ,\n",
    "                'learning_rate':       [.01,.1,.5]}]\n",
    "output:\n",
    "{'base_estimator__C': 200, 'learning_rate': 0.01}\n",
    "best_score = 0.7726025504592231, train_score = 0.7743676835818082\n",
    "\n",
    "input:\n",
    "param_grid = [{ 'base_estimator__C': [100,200,300,500] ,\n",
    "                'learning_rate':       [.001,.01,.1]}]\n",
    "output:\n",
    "{'base_estimator__C': 200, 'learning_rate': 0.01}\n",
    "best_score = 0.7726025504592231, train_score = 0.7743676835818082                "
   ]
  },
  {
   "cell_type": "code",
   "execution_count": null,
   "metadata": {
    "hidden": true
   },
   "outputs": [],
   "source": []
  },
  {
   "cell_type": "code",
   "execution_count": 19,
   "metadata": {
    "hidden": true,
    "scrolled": false
   },
   "outputs": [
    {
     "data": {
      "text/plain": [
       "AdaBoostClassifier(algorithm='SAMME.R',\n",
       "          base_estimator=LogisticRegression(C=200, class_weight=None, dual=False, fit_intercept=True,\n",
       "          intercept_scaling=1, max_iter=100, multi_class='ovr', n_jobs=1,\n",
       "          penalty='l2', random_state=0, solver='liblinear', tol=0.0001,\n",
       "          verbose=0, warm_start=False),\n",
       "          learning_rate=0.01, n_estimators=50, random_state=0)"
      ]
     },
     "execution_count": 19,
     "metadata": {},
     "output_type": "execute_result"
    }
   ],
   "source": [
    "my_LgRg_4_Ada = LogisticRegression(penalty= 'l2', \n",
    "                                   random_state = 0, \n",
    "                                   class_weight = None,\n",
    "                                   C= 200,\n",
    "                                  ) \n",
    "\n",
    "my_AdaBC_LogReg_all_feats = AdaBoostClassifier(base_estimator = my_LgRg_4_Ada, \n",
    "                                               n_estimators = 50, \n",
    "                                               algorithm = 'SAMME.R', \n",
    "                                               random_state = 0,\n",
    "                                               learning_rate = .01,)\n",
    "\n",
    "\n",
    "my_AdaBC_LogReg_all_feats.fit(X = total_df_piped,\n",
    "                              y = total_df['TARGET'])\n"
   ]
  },
  {
   "cell_type": "code",
   "execution_count": 20,
   "metadata": {
    "hidden": true
   },
   "outputs": [],
   "source": [
    "final_training_predictions = my_AdaBC_LogReg_all_feats.predict_proba(X = total_df_piped)"
   ]
  },
  {
   "cell_type": "code",
   "execution_count": 21,
   "metadata": {
    "hidden": true
   },
   "outputs": [
    {
     "data": {
      "text/plain": [
       "0.7739918994168435"
      ]
     },
     "execution_count": 21,
     "metadata": {},
     "output_type": "execute_result"
    }
   ],
   "source": [
    "train_scores = [x[1] for x in final_training_predictions]\n",
    "roc_auc_score(total_df['TARGET'], train_scores)"
   ]
  },
  {
   "cell_type": "code",
   "execution_count": null,
   "metadata": {
    "hidden": true
   },
   "outputs": [],
   "source": []
  },
  {
   "cell_type": "code",
   "execution_count": 22,
   "metadata": {
    "hidden": true
   },
   "outputs": [
    {
     "data": {
      "text/plain": [
       "AdaBoostClassifier(algorithm='SAMME.R',\n",
       "          base_estimator=LogisticRegression(C=200, class_weight=None, dual=False, fit_intercept=True,\n",
       "          intercept_scaling=1, max_iter=100, multi_class='ovr', n_jobs=1,\n",
       "          penalty='l2', random_state=0, solver='liblinear', tol=0.0001,\n",
       "          verbose=0, warm_start=False),\n",
       "          learning_rate=0.01, n_estimators=50, random_state=0)"
      ]
     },
     "execution_count": 22,
     "metadata": {},
     "output_type": "execute_result"
    }
   ],
   "source": [
    "# fit and save model for predictions\n",
    "my_AdaBC_LogReg_all_feats.fit(X = total_df_piped,\n",
    "                              y = total_df['TARGET'])"
   ]
  },
  {
   "cell_type": "code",
   "execution_count": 23,
   "metadata": {
    "hidden": true
   },
   "outputs": [
    {
     "data": {
      "text/plain": [
       "['saved_models/level_3_models/my_AdaBC_LogReg_all_feats_level_3.joblib']"
      ]
     },
     "execution_count": 23,
     "metadata": {},
     "output_type": "execute_result"
    }
   ],
   "source": [
    "joblib.dump(my_AdaBC_LogReg_all_feats, save_path + 'my_AdaBC_LogReg_all_feats_level_3.joblib')"
   ]
  },
  {
   "cell_type": "code",
   "execution_count": null,
   "metadata": {
    "hidden": true
   },
   "outputs": [],
   "source": []
  }
 ],
 "metadata": {
  "kernelspec": {
   "display_name": "Python 3",
   "language": "python",
   "name": "python3"
  },
  "language_info": {
   "codemirror_mode": {
    "name": "ipython",
    "version": 3
   },
   "file_extension": ".py",
   "mimetype": "text/x-python",
   "name": "python",
   "nbconvert_exporter": "python",
   "pygments_lexer": "ipython3",
   "version": "3.6.6"
  },
  "latex_envs": {
   "LaTeX_envs_menu_present": true,
   "autocomplete": true,
   "bibliofile": "biblio.bib",
   "cite_by": "apalike",
   "current_citInitial": 1,
   "eqLabelWithNumbers": true,
   "eqNumInitial": 1,
   "hotkeys": {
    "equation": "Ctrl-E",
    "itemize": "Ctrl-I"
   },
   "labels_anchors": false,
   "latex_user_defs": false,
   "report_style_numbering": false,
   "user_envs_cfg": false
  },
  "toc": {
   "nav_menu": {},
   "number_sections": true,
   "sideBar": true,
   "skip_h1_title": false,
   "toc_cell": false,
   "toc_position": {},
   "toc_section_display": "none",
   "toc_window_display": false
  },
  "varInspector": {
   "cols": {
    "lenName": 16,
    "lenType": 16,
    "lenVar": 40
   },
   "kernels_config": {
    "python": {
     "delete_cmd_postfix": "",
     "delete_cmd_prefix": "del ",
     "library": "var_list.py",
     "varRefreshCmd": "print(var_dic_list())"
    },
    "r": {
     "delete_cmd_postfix": ") ",
     "delete_cmd_prefix": "rm(",
     "library": "var_list.r",
     "varRefreshCmd": "cat(var_dic_list()) "
    }
   },
   "oldHeight": 1038.5,
   "position": {
    "height": "852px",
    "left": "1314px",
    "right": "46px",
    "top": "121px",
    "width": "800px"
   },
   "types_to_exclude": [
    "module",
    "function",
    "builtin_function_or_method",
    "instance",
    "_Feature"
   ],
   "varInspector_section_display": "block",
   "window_display": false
  }
 },
 "nbformat": 4,
 "nbformat_minor": 2
}
