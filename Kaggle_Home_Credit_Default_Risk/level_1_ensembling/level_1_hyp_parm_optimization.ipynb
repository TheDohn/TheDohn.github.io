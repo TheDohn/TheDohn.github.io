{
 "cells": [
  {
   "cell_type": "code",
   "execution_count": null,
   "metadata": {},
   "outputs": [],
   "source": []
  },
  {
   "cell_type": "code",
   "execution_count": 1,
   "metadata": {
    "scrolled": true
   },
   "outputs": [
    {
     "data": {
      "text/plain": [
       "('0.23.0', '1.14.3')"
      ]
     },
     "execution_count": 1,
     "metadata": {},
     "output_type": "execute_result"
    }
   ],
   "source": [
    "import pandas as pd\n",
    "\n",
    "import numpy as np\n",
    "\n",
    "# import matplotlib.pyplot as plt\n",
    "# import seaborn as sns\n",
    "# sns.set(context = 'notebook', #mostly controls relative sizes of things on plot \n",
    "#                         #The base context is “notebook”, and the other contexts are “paper”, “talk”, and “poster”\n",
    "#         style = 'darkgrid', #dict, None, or one of {darkgrid, whitegrid, dark, white, ticks}\n",
    "#         palette = 'deep', # Should be something that color_palette() can process.\n",
    "#         font_scale = 1, \n",
    "#         color_codes = False, \n",
    "#         rc = None)\n",
    "\n",
    "# from IPython.core.interactiveshell import InteractiveShell \n",
    "# InteractiveShell.ast_node_interactivity = 'last_expr' \n",
    "# setting = \"all\" allows multiple outputs to be displayed for a given input cell. don't use w plotting!\n",
    "\n",
    "from IPython.display import display\n",
    "\n",
    "# %matplotlib notebook\n",
    "#%matplotlib inline\n",
    "\n",
    "pd.__version__ , np.__version__ #,  matplotlib.__version__, sns.__version__"
   ]
  },
  {
   "cell_type": "code",
   "execution_count": null,
   "metadata": {},
   "outputs": [],
   "source": []
  },
  {
   "cell_type": "code",
   "execution_count": 2,
   "metadata": {},
   "outputs": [],
   "source": [
    "from sklearn.model_selection import cross_val_score, GridSearchCV #KFold, StratifiedKFold,\n",
    "\n",
    "from sklearn.metrics import roc_auc_score\n",
    "\n",
    "\n",
    "from sklearn.ensemble import RandomForestClassifier\n",
    "from sklearn.linear_model import LogisticRegression\n",
    "\n",
    "from sklearn.neural_network import MLPClassifier"
   ]
  },
  {
   "cell_type": "code",
   "execution_count": null,
   "metadata": {},
   "outputs": [],
   "source": []
  },
  {
   "cell_type": "code",
   "execution_count": 3,
   "metadata": {
    "scrolled": true
   },
   "outputs": [
    {
     "data": {
      "text/plain": [
       "'/home/thedohn/Notebooks'"
      ]
     },
     "execution_count": 3,
     "metadata": {},
     "output_type": "execute_result"
    }
   ],
   "source": [
    "pwd"
   ]
  },
  {
   "cell_type": "code",
   "execution_count": 4,
   "metadata": {},
   "outputs": [
    {
     "name": "stdout",
     "output_type": "stream",
     "text": [
      "/home/thedohn/Notebooks\n"
     ]
    }
   ],
   "source": [
    "% cd '/home/thedohn/Notebooks'"
   ]
  },
  {
   "cell_type": "code",
   "execution_count": 5,
   "metadata": {},
   "outputs": [],
   "source": [
    "from Home_Credit_package.master_pipeline import master_pipeline"
   ]
  },
  {
   "cell_type": "code",
   "execution_count": null,
   "metadata": {},
   "outputs": [],
   "source": []
  },
  {
   "cell_type": "markdown",
   "metadata": {},
   "source": [
    "# load this"
   ]
  },
  {
   "cell_type": "code",
   "execution_count": null,
   "metadata": {},
   "outputs": [],
   "source": []
  },
  {
   "cell_type": "markdown",
   "metadata": {
    "heading_collapsed": true
   },
   "source": [
    "## load df"
   ]
  },
  {
   "cell_type": "code",
   "execution_count": null,
   "metadata": {
    "hidden": true
   },
   "outputs": [],
   "source": []
  },
  {
   "cell_type": "code",
   "execution_count": null,
   "metadata": {
    "hidden": true
   },
   "outputs": [],
   "source": []
  },
  {
   "cell_type": "code",
   "execution_count": 6,
   "metadata": {
    "hidden": true
   },
   "outputs": [],
   "source": [
    "from functools import reduce\n",
    "\n",
    "df_to_merge_0 = pd.read_csv('application_train_df_cleaned_final.csv', index_col = 'SK_ID_CURR')\n",
    "df_to_merge_1 = pd.read_csv('bureau_df_aggregated_wrangled_final.csv', index_col = 'SK_ID_CURR')\n",
    "df_to_merge_2 = pd.read_csv('installments_payments_wrangled_df_final.csv', index_col = 'SK_ID_CURR')\n",
    "\n",
    "dfs = (df_to_merge_0,\n",
    "       df_to_merge_1,\n",
    "       df_to_merge_2,\n",
    "       )\n",
    "\n",
    "# these all have the same index (SK_ID_CURR) so no risk for funny business\n",
    "total_df = reduce( lambda left, right: pd.merge( left, right, left_index = True, right_index = True), dfs)\n",
    "# from https://stackoverflow.com/questions/23668427/pandas-joining-multiple-dataframes-on-columns\n",
    "\n",
    "del dfs\n",
    "del df_to_merge_0\n",
    "del df_to_merge_1\n",
    "del df_to_merge_2"
   ]
  },
  {
   "cell_type": "code",
   "execution_count": null,
   "metadata": {
    "hidden": true
   },
   "outputs": [],
   "source": []
  },
  {
   "cell_type": "code",
   "execution_count": 7,
   "metadata": {
    "hidden": true,
    "scrolled": false
   },
   "outputs": [
    {
     "name": "stdout",
     "output_type": "stream",
     "text": [
      "<class 'pandas.core.frame.DataFrame'>\n",
      "Int64Index: 307511 entries, 100002 to 456255\n",
      "Data columns (total 86 columns):\n",
      "TARGET                               307511 non-null int64\n",
      "NAME_CONTRACT_TYPE                   307511 non-null object\n",
      "CODE_GENDER                          307511 non-null object\n",
      "FLAG_OWN_CAR                         307511 non-null object\n",
      "FLAG_OWN_REALTY                      307511 non-null object\n",
      "CNT_CHILDREN                         307511 non-null int64\n",
      "NAME_EDUCATION_TYPE                  307511 non-null object\n",
      "NAME_FAMILY_STATUS                   307511 non-null object\n",
      "DAYS_BIRTH                           307511 non-null int64\n",
      "FLAG_EMP_PHONE                       307511 non-null int64\n",
      "FLAG_WORK_PHONE                      307511 non-null int64\n",
      "FLAG_PHONE                           307511 non-null int64\n",
      "FLAG_EMAIL                           307511 non-null int64\n",
      "CNT_FAM_MEMBERS                      307511 non-null int64\n",
      "REGION_RATING_CLIENT                 307511 non-null int64\n",
      "WEEKDAY_APPR_PROCESS_START           307511 non-null object\n",
      "HOUR_APPR_PROCESS_START              307511 non-null int64\n",
      "REG_REGION_NOT_LIVE_REGION           307511 non-null int64\n",
      "REG_REGION_NOT_WORK_REGION           307511 non-null int64\n",
      "LIVE_REGION_NOT_WORK_REGION          307511 non-null int64\n",
      "REG_CITY_NOT_LIVE_CITY               307511 non-null int64\n",
      "REG_CITY_NOT_WORK_CITY               307511 non-null int64\n",
      "LIVE_CITY_NOT_WORK_CITY              307511 non-null int64\n",
      "EXT_SOURCE_1                         307511 non-null float64\n",
      "EXT_SOURCE_2                         307511 non-null float64\n",
      "EXT_SOURCE_3                         307511 non-null float64\n",
      "APARTMENTS_AVG                       307511 non-null float64\n",
      "LANDAREA_AVG                         307511 non-null float64\n",
      "TOTALAREA_MODE                       307511 non-null float64\n",
      "EMERGENCYSTATE_MODE                  307511 non-null object\n",
      "OBS_60_CNT_SOCIAL_CIRCLE             307511 non-null float64\n",
      "FLAG_DOCUMENT_3                      307511 non-null int64\n",
      "FLAG_DOCUMENT_6                      307511 non-null int64\n",
      "AMT_REQ_CREDIT_BUREAU_YEAR           307511 non-null float64\n",
      "NULL_COUNTS                          307511 non-null int64\n",
      "SOCIAL_NULL_COUNTS                   307511 non-null int64\n",
      "NAME_TYPE_SUITE_condensed            307511 non-null object\n",
      "NAME_INCOME_TYPE_condensed           307511 non-null object\n",
      "NAME_HOUSING_TYPE_condensed          307511 non-null object\n",
      "OCCUPATION_TYPE_condensed            307511 non-null object\n",
      "ORGANIZATION_TYPE_condensed          307511 non-null object\n",
      "DAYS_EMPLOYED_eq_365243              307511 non-null object\n",
      "log_AMT_INCOME_TOTAL                 307511 non-null float64\n",
      "log_AMT_CREDIT                       307511 non-null float64\n",
      "pwr_AMT_ANNUITY_from_app_train       307511 non-null float64\n",
      "log_AMT_GOODS_PRICE                  307511 non-null float64\n",
      "pwr_REGION_POPULATION_RELATIVE       307511 non-null float64\n",
      "pwr_DAYS_REGISTRATION                307511 non-null float64\n",
      "pwr_OWN_CAR_AGE                      307511 non-null float64\n",
      "pwr_DAYS_LAST_PHONE_CHANGE           307511 non-null float64\n",
      "pwr_DAYS_EMPLOYED                    307511 non-null float64\n",
      "pwr_DAYS_ID_PUBLISH                  307511 non-null float64\n",
      "DAYS_CREDIT_min                      307511 non-null float64\n",
      "CREDIT_ACTIVE_mode_condensed         307511 non-null object\n",
      "CREDIT_CURRENCY_mode_condensed       307511 non-null object\n",
      "CREDIT_TYPE_mode_condensed           307511 non-null object\n",
      "pwr_DAYS_CREDIT_mean                 307511 non-null float64\n",
      "pwr_DAYS_ENDDATE_FACT_min            307511 non-null float64\n",
      "pwr_DAYS_CREDIT_median               307511 non-null float64\n",
      "pwr_DAYS_ENDDATE_FACT_median         307511 non-null float64\n",
      "LogMod_AMT_CREDIT_SUM_DEBT_mean      307511 non-null float64\n",
      "pwr_DAYS_CREDIT_ENDDATE_mean         307511 non-null float64\n",
      "pwr_DAYS_CREDIT_UPDATE_mean          307511 non-null float64\n",
      "NUM_OF_LOANS                         307511 non-null float64\n",
      "AMT_OVERPAY_MEAN                     307511 non-null float64\n",
      "AMT_OVERPAY_SD                       307511 non-null float64\n",
      "NUM_TIMES_OVERPAY                    307511 non-null float64\n",
      "NUM_INSTALMENT_VERSION_max           307511 non-null float64\n",
      "NUM_INSTALMENT_VERSION_min           307511 non-null float64\n",
      "DAYS_INSTALMENT_min                  307511 non-null float64\n",
      "DAYS_ENTRY_PAYMENT_min               307511 non-null float64\n",
      "pwr_DAYS_PAYMENT_LATE_median         307511 non-null float64\n",
      "LogMod_DAYS_PAYMENT_LATE_sd          307511 non-null float64\n",
      "pwr_NUM_TIMES_LATE                   307511 non-null float64\n",
      "LogMod_NUM_TIMES_EARLY               307511 non-null float64\n",
      "pwr_TERMS_CHANGE_TIMES               307511 non-null float64\n",
      "pwr_DAYS_INSTALMENT_mean             307511 non-null float64\n",
      "pwr_DAYS_ENTRY_PAYMENT_mean          307511 non-null float64\n",
      "LogMod_AMT_INSTALMENT_mean           307511 non-null float64\n",
      "pwr_AMT_INSTALMENT_max               307511 non-null float64\n",
      "pwr_AMT_INSTALMENT_min               307511 non-null float64\n",
      "LogMod_AMT_PAYMENT_mean              307511 non-null float64\n",
      "LogMod_AMT_PAYMENT_max               307511 non-null float64\n",
      "pwr_AMT_PAYMENT_min                  307511 non-null float64\n",
      "LogMod_NUM_INSTALMENT_NUMBER_mean    307511 non-null float64\n",
      "LogMod_NUM_INSTALMENT_NUMBER_max     307511 non-null float64\n",
      "dtypes: float64(49), int64(20), object(17)\n",
      "memory usage: 214.1+ MB\n"
     ]
    }
   ],
   "source": [
    "total_df.info(verbose = True, null_counts = True);"
   ]
  },
  {
   "cell_type": "code",
   "execution_count": 8,
   "metadata": {
    "hidden": true
   },
   "outputs": [
    {
     "data": {
      "text/plain": [
       "Series([], dtype: bool)"
      ]
     },
     "execution_count": 8,
     "metadata": {},
     "output_type": "execute_result"
    }
   ],
   "source": [
    "# CHECK: this should be empty if everything is non null\n",
    "total_df.isnull().any()[total_df.isnull().any()==True]"
   ]
  },
  {
   "cell_type": "code",
   "execution_count": null,
   "metadata": {
    "hidden": true,
    "scrolled": true
   },
   "outputs": [],
   "source": []
  },
  {
   "cell_type": "code",
   "execution_count": 9,
   "metadata": {
    "hidden": true
   },
   "outputs": [],
   "source": [
    "# # split into train, test, validate\n",
    "# credit_train_and_validate_df, credit_test_df = train_test_split(total_df, random_state = 0, train_size = 8/10, test_size = 2/10)\n",
    "\n",
    "# len(credit_train_and_validate_df)/len(total_df), len(credit_test_df)/len(total_df)"
   ]
  },
  {
   "cell_type": "code",
   "execution_count": 10,
   "metadata": {
    "hidden": true
   },
   "outputs": [],
   "source": [
    "# credit_train_and_validate_df['TARGET'].value_counts()"
   ]
  },
  {
   "cell_type": "code",
   "execution_count": 11,
   "metadata": {
    "hidden": true
   },
   "outputs": [],
   "source": [
    "# credit_train_and_validate_df.shape"
   ]
  },
  {
   "cell_type": "code",
   "execution_count": null,
   "metadata": {
    "hidden": true
   },
   "outputs": [],
   "source": []
  },
  {
   "cell_type": "code",
   "execution_count": 12,
   "metadata": {
    "hidden": true
   },
   "outputs": [],
   "source": [
    "# # split into train, test, validate\n",
    "# credit_train_df, credit_validate_df = train_test_split(credit_train_and_validate_df, random_state = 0, train_size = 6/8, test_size = 2/8)\n",
    "\n",
    "# len(credit_train_df)/len(total_df), len(credit_validate_df)/len(total_df)"
   ]
  },
  {
   "cell_type": "code",
   "execution_count": null,
   "metadata": {
    "hidden": true
   },
   "outputs": [],
   "source": []
  },
  {
   "cell_type": "code",
   "execution_count": 13,
   "metadata": {
    "hidden": true
   },
   "outputs": [],
   "source": [
    "# # for now\n",
    "# del total_df\n",
    "# del credit_test_df"
   ]
  },
  {
   "cell_type": "code",
   "execution_count": null,
   "metadata": {
    "hidden": true
   },
   "outputs": [],
   "source": []
  },
  {
   "cell_type": "markdown",
   "metadata": {},
   "source": [
    "# new models to run"
   ]
  },
  {
   "cell_type": "code",
   "execution_count": null,
   "metadata": {},
   "outputs": [],
   "source": []
  },
  {
   "cell_type": "code",
   "execution_count": 14,
   "metadata": {
    "scrolled": true
   },
   "outputs": [
    {
     "data": {
      "text/plain": [
       "2"
      ]
     },
     "execution_count": 14,
     "metadata": {},
     "output_type": "execute_result"
    }
   ],
   "source": [
    "1+1"
   ]
  },
  {
   "cell_type": "code",
   "execution_count": null,
   "metadata": {},
   "outputs": [],
   "source": []
  },
  {
   "cell_type": "markdown",
   "metadata": {
    "heading_collapsed": true
   },
   "source": [
    "### DONE. random forest random grid search, EXT sources, with poly interactions"
   ]
  },
  {
   "cell_type": "code",
   "execution_count": null,
   "metadata": {
    "hidden": true
   },
   "outputs": [],
   "source": []
  },
  {
   "cell_type": "code",
   "execution_count": 15,
   "metadata": {
    "hidden": true,
    "scrolled": true
   },
   "outputs": [
    {
     "name": "stdout",
     "output_type": "stream",
     "text": [
      "Total original feat len is 3. Sum of feats is 3.\n",
      "Final array is length 35. final feature list is length 35.\n"
     ]
    }
   ],
   "source": [
    "total_df_piped, final_feature_list, total_pipeline, trans_list = \\\n",
    "master_pipeline(df_in = total_df[['EXT_SOURCE_1','EXT_SOURCE_2',\n",
    "                                         'EXT_SOURCE_3']],\n",
    "                int_cutoff=20, \n",
    "                poly_deg=4, \n",
    "                feats_with_interaction=['EXT_SOURCE_1','EXT_SOURCE_2',\n",
    "                                         'EXT_SOURCE_3']\n",
    "                )\n"
   ]
  },
  {
   "cell_type": "raw",
   "metadata": {
    "hidden": true
   },
   "source": [
    "Results:\n",
    "\n",
    "input: \n",
    "param_dist_dict =  { 'max_depth' :         [2,5,10,20],\n",
    "                     'min_samples_leaf' :  [2,5,10,20],\n",
    "                     'min_samples_split' : [2,5,10,20], \n",
    "                     'n_estimators':       [50] # more will always be better for this!\n",
    "                   }\n",
    "output: \n",
    "{'max_depth': 5,\n",
    " 'min_samples_leaf': 10,\n",
    " 'min_samples_split': 2,\n",
    " 'n_estimators': 50}\n",
    "\n",
    "T_score = 0.6664251965901989, V_score = 0.6721473507069853\n",
    "\n",
    "\n",
    "input: \n",
    "param_dist_dict =  { 'max_depth' :         [4,5,7],\n",
    "                     'min_samples_leaf' :  [7,10,15],\n",
    "                     'min_samples_split' : [2,3,4], \n",
    "                     'n_estimators':       [50]\n",
    "                   }\n",
    "                   \n",
    "output:\n",
    "{'max_depth': 5,\n",
    " 'min_samples_leaf': 10,\n",
    " 'min_samples_split': 2,\n",
    " 'n_estimators': 50}\n",
    " \n",
    " T_score = 0.6664251965901989, V_score = 0.6721473507069853\n",
    " \n",
    " input:\n",
    " param_dist_dict =  { 'max_depth' :         [4,5,6],\n",
    "                     'min_samples_leaf' :  [9,10,11,12],\n",
    "                     'min_samples_split' : [2,3], \n",
    "                     'n_estimators':       [50]\n",
    "                   }\n",
    "output:\n",
    "{'max_depth': 6,\n",
    " 'min_samples_leaf': 11,\n",
    " 'min_samples_split': 2,\n",
    " 'n_estimators': 50}\n",
    " T_score = 0.6700580736077947, V_score = 0.6724665167070081\n",
    " \n",
    " ************************************************************************ \n",
    " At this point I switched to class_weight = None and auc_roc w/ pred_proba\n",
    " ************************************************************************\n",
    " \n",
    " input:\n",
    " { 'max_depth' :         [5,6,7],\n",
    "                     'min_samples_leaf' :  [10,11,12],\n",
    "                     'min_samples_split' : [2,3], \n",
    "                     'n_estimators':       [50]\n",
    "                   }\n",
    "\n",
    "\n",
    "output:\n",
    "{'max_depth': 6,\n",
    " 'min_samples_leaf': 12,\n",
    " 'min_samples_split': 2,\n",
    " 'n_estimators': 50}\n",
    " T_score = 0.7322164368538024, V_score = 0.7318908099490624\n",
    " \n",
    "  ************************************************************************ \n",
    " At this point I switched to optimization on full set. \n",
    " ************************************************************************\n",
    " \n",
    " input:\n",
    " param_dist_dict =  { 'max_depth' :         [5,6,7],\n",
    "                     'min_samples_leaf' :  [11,12,13,14],\n",
    "                     'min_samples_split' : [2,3], \n",
    "                     'n_estimators':       [50]\n",
    "                   }\n",
    "\n",
    "output: \n",
    "{'max_depth': 7,\n",
    " 'min_samples_leaf': 11,\n",
    " 'min_samples_split': 2,\n",
    " 'n_estimators': 50}\n",
    " best_score = 0.725489467945794, test_score= 0.7360129111473657\n",
    " \n",
    " input:\n",
    " param_dist_dict =  { 'max_depth' :         [7,10,20],\n",
    "                     'min_samples_leaf' :  [5,10,20,30],\n",
    "                     'min_samples_split' : [2], \n",
    "                     'n_estimators':       [50]\n",
    "                   }\n",
    "output:\n",
    "{'max_depth': 7,\n",
    " 'min_samples_leaf': 10,\n",
    " 'min_samples_split': 2,\n",
    " 'n_estimators': 50}\n",
    "best_score = 0.7255327801710438, test_score  = 0.7360699554273631\n",
    "\n",
    "input: \n",
    "param_dist_dict =  { 'max_depth' :         [5,7,9],\n",
    "                     'min_samples_leaf' :  [7,10,12],\n",
    "                     'min_samples_split' : [2], \n",
    "                     'n_estimators':       [50]\n",
    "                   }\n",
    "output:   \n",
    "{'max_depth': 7,\n",
    " 'min_samples_leaf': 10,\n",
    " 'min_samples_split': 2,\n",
    " 'n_estimators': 50}\n",
    " best_score = 0.7255327801710438, train_score = 0.7360699554273631\n",
    " \n",
    "input:\n",
    "param_dist_dict =  { 'max_depth' :         [6,7,8],\n",
    "                     'min_samples_leaf' :  [8,9,10,11,12],\n",
    "                     'min_samples_split' : [2], \n",
    "                     'n_estimators':       [50]\n",
    "                   }\n",
    "output:\n",
    "{'max_depth': 7,\n",
    " 'min_samples_leaf': 10,\n",
    " 'min_samples_split': 2,\n",
    " 'n_estimators': 50}\n",
    "best_score =0.7255327801710438, train_score = 0.7360699554273631"
   ]
  },
  {
   "cell_type": "code",
   "execution_count": 16,
   "metadata": {
    "collapsed": true,
    "hidden": true
   },
   "outputs": [
    {
     "name": "stdout",
     "output_type": "stream",
     "text": [
      "Fitting 3 folds for each of 15 candidates, totalling 45 fits\n",
      "[CV] max_depth=6, min_samples_leaf=8, min_samples_split=2, n_estimators=50 \n",
      "Memmaping (shape=(307511, 35), dtype=float64) to new file /dev/shm/joblib_memmaping_pool_6234_140079007263768/6234-140079004598056-b675758a20e22f3b4e24b10b420720d1.pkl\n",
      "Memmaping (shape=(307511,), dtype=int64) to new file /dev/shm/joblib_memmaping_pool_6234_140079007263768/6234-140079004598056-36f41ebc26c9047822d0779f2962f9e3.pkl\n",
      "Memmaping (shape=(307511,), dtype=int64) to new file /dev/shm/joblib_memmaping_pool_6234_140079007263768/6234-140079004598056-7fee98903a11851f0c36b343c7ef5338.pkl\n",
      "Memmaping (shape=(205007,), dtype=int64) to new file /dev/shm/joblib_memmaping_pool_6234_140079007263768/6234-140079004598056-981b55e712abb5a5a2369212f2856f0a.pkl\n",
      "[CV] max_depth=6, min_samples_leaf=8, min_samples_split=2, n_estimators=50 \n",
      "Memmaping (shape=(205007,), dtype=int64) to new file /dev/shm/joblib_memmaping_pool_6234_140079007263768/6234-140079004598056-52b45483e9e8ae50702a4dfc49cfc8ef.pkl\n",
      "[CV] max_depth=6, min_samples_leaf=8, min_samples_split=2, n_estimators=50 \n",
      "Memmaping (shape=(205008,), dtype=int64) to new file /dev/shm/joblib_memmaping_pool_6234_140079007263768/6234-140079004598056-14cff63d81a68491cd383c416c29ffaa.pkl\n",
      "[CV] max_depth=6, min_samples_leaf=9, min_samples_split=2, n_estimators=50 \n",
      "[CV] max_depth=6, min_samples_leaf=9, min_samples_split=2, n_estimators=50 \n",
      "[CV] max_depth=6, min_samples_leaf=9, min_samples_split=2, n_estimators=50 \n",
      "[CV] max_depth=6, min_samples_leaf=10, min_samples_split=2, n_estimators=50 \n",
      "[CV] max_depth=6, min_samples_leaf=10, min_samples_split=2, n_estimators=50 \n",
      "[CV]  max_depth=6, min_samples_leaf=8, min_samples_split=2, n_estimators=50, score=0.7287771269455445, total=  59.0s\n",
      "[CV] max_depth=6, min_samples_leaf=10, min_samples_split=2, n_estimators=50 \n",
      "[Parallel(n_jobs=-1)]: Done   1 tasks      | elapsed:  1.0min\n",
      "[CV]  max_depth=6, min_samples_leaf=9, min_samples_split=2, n_estimators=50, score=0.7225192659946286, total= 1.0min\n",
      "[CV] max_depth=6, min_samples_leaf=11, min_samples_split=2, n_estimators=50 \n",
      "[Parallel(n_jobs=-1)]: Done   2 tasks      | elapsed:  1.1min\n",
      "[CV]  max_depth=6, min_samples_leaf=9, min_samples_split=2, n_estimators=50, score=0.7287637371692264, total= 1.0min\n",
      "[CV] max_depth=6, min_samples_leaf=11, min_samples_split=2, n_estimators=50 \n",
      "[CV]  max_depth=6, min_samples_leaf=10, min_samples_split=2, n_estimators=50, score=0.7247315361025571, total= 1.0min\n",
      "[Parallel(n_jobs=-1)]: Done   3 tasks      | elapsed:  1.1min\n",
      "[Parallel(n_jobs=-1)]: Done   4 tasks      | elapsed:  1.1min\n",
      "[CV] max_depth=6, min_samples_leaf=11, min_samples_split=2, n_estimators=50 \n",
      "[CV]  max_depth=6, min_samples_leaf=9, min_samples_split=2, n_estimators=50, score=0.724749810026028, total= 1.1min\n",
      "[CV] max_depth=6, min_samples_leaf=12, min_samples_split=2, n_estimators=50 \n",
      "[Parallel(n_jobs=-1)]: Done   5 tasks      | elapsed:  1.1min\n",
      "[CV]  max_depth=6, min_samples_leaf=8, min_samples_split=2, n_estimators=50, score=0.7224062861065568, total= 1.1min\n",
      "[CV] max_depth=6, min_samples_leaf=12, min_samples_split=2, n_estimators=50 \n",
      "[Parallel(n_jobs=-1)]: Done   6 tasks      | elapsed:  1.1min\n",
      "[CV]  max_depth=6, min_samples_leaf=10, min_samples_split=2, n_estimators=50, score=0.7226094749760972, total= 1.1min\n",
      "[CV] max_depth=6, min_samples_leaf=12, min_samples_split=2, n_estimators=50 \n",
      "[Parallel(n_jobs=-1)]: Done   7 tasks      | elapsed:  1.1min\n",
      "[CV]  max_depth=6, min_samples_leaf=8, min_samples_split=2, n_estimators=50, score=0.7247817429025433, total= 1.1min\n",
      "[CV] max_depth=7, min_samples_leaf=8, min_samples_split=2, n_estimators=50 \n",
      "[Parallel(n_jobs=-1)]: Done   8 tasks      | elapsed:  1.2min\n",
      "[CV]  max_depth=6, min_samples_leaf=10, min_samples_split=2, n_estimators=50, score=0.7287971266454433, total=  53.7s\n",
      "[CV] max_depth=7, min_samples_leaf=8, min_samples_split=2, n_estimators=50 \n",
      "[Parallel(n_jobs=-1)]: Done   9 tasks      | elapsed:  1.9min\n",
      "[CV]  max_depth=6, min_samples_leaf=11, min_samples_split=2, n_estimators=50, score=0.7245940924467003, total=  56.1s\n",
      "[CV] max_depth=7, min_samples_leaf=8, min_samples_split=2, n_estimators=50 \n",
      "[Parallel(n_jobs=-1)]: Done  10 tasks      | elapsed:  2.0min\n",
      "[CV]  max_depth=6, min_samples_leaf=11, min_samples_split=2, n_estimators=50, score=0.7225199572462779, total=  56.1s\n",
      "[CV] max_depth=7, min_samples_leaf=9, min_samples_split=2, n_estimators=50 \n",
      "[Parallel(n_jobs=-1)]: Done  11 tasks      | elapsed:  2.0min\n",
      "[CV]  max_depth=6, min_samples_leaf=11, min_samples_split=2, n_estimators=50, score=0.7288564857855222, total=  58.2s\n",
      "[CV] max_depth=7, min_samples_leaf=9, min_samples_split=2, n_estimators=50 \n",
      "[Parallel(n_jobs=-1)]: Done  12 tasks      | elapsed:  2.1min\n",
      "[CV]  max_depth=6, min_samples_leaf=12, min_samples_split=2, n_estimators=50, score=0.7288793877471715, total=  56.4s\n",
      "[CV] max_depth=7, min_samples_leaf=9, min_samples_split=2, n_estimators=50 \n",
      "[Parallel(n_jobs=-1)]: Done  13 tasks      | elapsed:  2.1min\n",
      "[CV]  max_depth=6, min_samples_leaf=12, min_samples_split=2, n_estimators=50, score=0.7245820737735438, total=  57.6s\n",
      "[CV] max_depth=7, min_samples_leaf=10, min_samples_split=2, n_estimators=50 \n",
      "[Parallel(n_jobs=-1)]: Done  14 tasks      | elapsed:  2.1min\n",
      "[CV]  max_depth=6, min_samples_leaf=12, min_samples_split=2, n_estimators=50, score=0.7225607519945865, total=  58.1s\n",
      "[CV] max_depth=7, min_samples_leaf=10, min_samples_split=2, n_estimators=50 \n",
      "[Parallel(n_jobs=-1)]: Done  15 tasks      | elapsed:  2.1min\n",
      "[CV]  max_depth=7, min_samples_leaf=8, min_samples_split=2, n_estimators=50, score=0.7245197457027537, total= 1.1min\n",
      "[CV] max_depth=7, min_samples_leaf=10, min_samples_split=2, n_estimators=50 \n",
      "[Parallel(n_jobs=-1)]: Done  16 tasks      | elapsed:  2.2min\n",
      "[CV]  max_depth=7, min_samples_leaf=8, min_samples_split=2, n_estimators=50, score=0.7226682076405814, total= 1.0min\n",
      "[CV] max_depth=7, min_samples_leaf=11, min_samples_split=2, n_estimators=50 \n",
      "[Parallel(n_jobs=-1)]: Done  17 tasks      | elapsed:  3.0min\n",
      "[CV]  max_depth=7, min_samples_leaf=9, min_samples_split=2, n_estimators=50, score=0.7248658954166394, total= 1.1min\n",
      "[CV] max_depth=7, min_samples_leaf=11, min_samples_split=2, n_estimators=50 \n",
      "[Parallel(n_jobs=-1)]: Done  18 tasks      | elapsed:  3.1min\n",
      "[CV]  max_depth=7, min_samples_leaf=10, min_samples_split=2, n_estimators=50, score=0.7248541165654834, total=  58.5s\n",
      "[CV] max_depth=7, min_samples_leaf=11, min_samples_split=2, n_estimators=50 \n",
      "[CV]  max_depth=7, min_samples_leaf=9, min_samples_split=2, n_estimators=50, score=0.7288263922937063, total= 1.0min\n",
      "[Parallel(n_jobs=-1)]: Done  19 tasks      | elapsed:  3.1min\n",
      "[Parallel(n_jobs=-1)]: Done  20 tasks      | elapsed:  3.1min\n",
      "[CV] max_depth=7, min_samples_leaf=12, min_samples_split=2, n_estimators=50 \n",
      "[CV]  max_depth=7, min_samples_leaf=8, min_samples_split=2, n_estimators=50, score=0.7290510533876371, total= 1.1min\n",
      "[CV] max_depth=7, min_samples_leaf=12, min_samples_split=2, n_estimators=50 \n",
      "[Parallel(n_jobs=-1)]: Done  21 tasks      | elapsed:  3.2min\n",
      "[CV]  max_depth=7, min_samples_leaf=9, min_samples_split=2, n_estimators=50, score=0.7227583435212263, total= 1.1min\n",
      "[CV] max_depth=7, min_samples_leaf=12, min_samples_split=2, n_estimators=50 \n",
      "[CV]  max_depth=7, min_samples_leaf=10, min_samples_split=2, n_estimators=50, score=0.7227315418095512, total= 1.1min\n",
      "[Parallel(n_jobs=-1)]: Done  22 tasks      | elapsed:  3.2min\n",
      "[Parallel(n_jobs=-1)]: Done  23 tasks      | elapsed:  3.2min\n",
      "[CV] max_depth=8, min_samples_leaf=8, min_samples_split=2, n_estimators=50 \n",
      "[CV]  max_depth=7, min_samples_leaf=10, min_samples_split=2, n_estimators=50, score=0.7290127160873665, total= 1.0min\n",
      "[CV] max_depth=8, min_samples_leaf=8, min_samples_split=2, n_estimators=50 \n",
      "[Parallel(n_jobs=-1)]: Done  24 tasks      | elapsed:  3.3min\n",
      "[CV]  max_depth=7, min_samples_leaf=11, min_samples_split=2, n_estimators=50, score=0.7245329936239729, total= 1.1min\n",
      "[CV] max_depth=8, min_samples_leaf=8, min_samples_split=2, n_estimators=50 \n",
      "[Parallel(n_jobs=-1)]: Done  25 tasks      | elapsed:  4.1min\n",
      "[CV]  max_depth=7, min_samples_leaf=12, min_samples_split=2, n_estimators=50, score=0.7287214139080539, total=  55.5s\n",
      "[CV] max_depth=8, min_samples_leaf=9, min_samples_split=2, n_estimators=50 \n"
     ]
    },
    {
     "name": "stdout",
     "output_type": "stream",
     "text": [
      "[Parallel(n_jobs=-1)]: Done  26 tasks      | elapsed:  4.2min\n",
      "[CV]  max_depth=7, min_samples_leaf=11, min_samples_split=2, n_estimators=50, score=0.7288023822657059, total= 1.1min\n",
      "[CV] max_depth=8, min_samples_leaf=9, min_samples_split=2, n_estimators=50 \n",
      "[Parallel(n_jobs=-1)]: Done  27 tasks      | elapsed:  4.3min\n",
      "[CV]  max_depth=7, min_samples_leaf=11, min_samples_split=2, n_estimators=50, score=0.7231330602675574, total= 1.1min\n",
      "[CV] max_depth=8, min_samples_leaf=9, min_samples_split=2, n_estimators=50 \n",
      "[Parallel(n_jobs=-1)]: Done  28 tasks      | elapsed:  4.3min\n",
      "[CV]  max_depth=7, min_samples_leaf=12, min_samples_split=2, n_estimators=50, score=0.7245966067302967, total= 1.2min\n",
      "[CV] max_depth=8, min_samples_leaf=10, min_samples_split=2, n_estimators=50 \n",
      "[CV]  max_depth=7, min_samples_leaf=12, min_samples_split=2, n_estimators=50, score=0.7228385870649567, total= 1.1min\n",
      "[Parallel(n_jobs=-1)]: Done  29 tasks      | elapsed:  4.3min\n",
      "[Parallel(n_jobs=-1)]: Done  30 tasks      | elapsed:  4.3min\n",
      "[CV] max_depth=8, min_samples_leaf=10, min_samples_split=2, n_estimators=50 \n",
      "[CV]  max_depth=8, min_samples_leaf=8, min_samples_split=2, n_estimators=50, score=0.7238748528004301, total= 1.1min\n",
      "[CV] max_depth=8, min_samples_leaf=10, min_samples_split=2, n_estimators=50 \n",
      "[Parallel(n_jobs=-1)]: Done  31 out of  45 | elapsed:  4.4min remaining:  2.0min\n",
      "[CV]  max_depth=8, min_samples_leaf=8, min_samples_split=2, n_estimators=50, score=0.7223021475707491, total= 1.2min\n",
      "[CV] max_depth=8, min_samples_leaf=11, min_samples_split=2, n_estimators=50 \n",
      "[Parallel(n_jobs=-1)]: Done  32 out of  45 | elapsed:  4.6min remaining:  1.9min\n",
      "[CV]  max_depth=8, min_samples_leaf=8, min_samples_split=2, n_estimators=50, score=0.7281069757265497, total=  58.1s\n",
      "[CV] max_depth=8, min_samples_leaf=11, min_samples_split=2, n_estimators=50 \n",
      "[Parallel(n_jobs=-1)]: Done  33 out of  45 | elapsed:  5.1min remaining:  1.9min\n",
      "[CV]  max_depth=8, min_samples_leaf=9, min_samples_split=2, n_estimators=50, score=0.7236993460586264, total=  57.5s\n",
      "[CV] max_depth=8, min_samples_leaf=11, min_samples_split=2, n_estimators=50 \n",
      "[Parallel(n_jobs=-1)]: Done  34 out of  45 | elapsed:  5.2min remaining:  1.7min\n",
      "[CV]  max_depth=8, min_samples_leaf=9, min_samples_split=2, n_estimators=50, score=0.7223636907695365, total=  54.6s\n",
      "[CV] max_depth=8, min_samples_leaf=12, min_samples_split=2, n_estimators=50 \n",
      "[Parallel(n_jobs=-1)]: Done  35 out of  45 | elapsed:  5.2min remaining:  1.5min\n",
      "[CV]  max_depth=8, min_samples_leaf=9, min_samples_split=2, n_estimators=50, score=0.728429686585228, total=  54.5s\n",
      "[CV] max_depth=8, min_samples_leaf=12, min_samples_split=2, n_estimators=50 \n",
      "[Parallel(n_jobs=-1)]: Done  36 out of  45 | elapsed:  5.2min remaining:  1.3min\n",
      "[CV]  max_depth=8, min_samples_leaf=10, min_samples_split=2, n_estimators=50, score=0.7238425794279726, total=  51.9s\n",
      "[CV] max_depth=8, min_samples_leaf=12, min_samples_split=2, n_estimators=50 \n",
      "[Parallel(n_jobs=-1)]: Done  37 out of  45 | elapsed:  5.2min remaining:  1.1min\n",
      "[CV]  max_depth=8, min_samples_leaf=10, min_samples_split=2, n_estimators=50, score=0.7223813805276527, total=  54.1s\n",
      "[Parallel(n_jobs=-1)]: Done  38 out of  45 | elapsed:  5.3min remaining:   58.2s\n",
      "[CV]  max_depth=8, min_samples_leaf=10, min_samples_split=2, n_estimators=50, score=0.7284398746397341, total=  51.5s\n",
      "[Parallel(n_jobs=-1)]: Done  39 out of  45 | elapsed:  5.3min remaining:   49.0s\n",
      "[CV]  max_depth=8, min_samples_leaf=11, min_samples_split=2, n_estimators=50, score=0.7241667110454928, total=  50.7s\n",
      "[Parallel(n_jobs=-1)]: Done  40 out of  45 | elapsed:  5.4min remaining:   40.8s\n",
      "[CV]  max_depth=8, min_samples_leaf=11, min_samples_split=2, n_estimators=50, score=0.7224537888172989, total=  38.2s\n",
      "[Parallel(n_jobs=-1)]: Done  41 out of  45 | elapsed:  5.8min remaining:   33.9s\n",
      "[CV]  max_depth=8, min_samples_leaf=12, min_samples_split=2, n_estimators=50, score=0.7223580421278123, total=  36.7s\n",
      "[Parallel(n_jobs=-1)]: Done  42 out of  45 | elapsed:  5.8min remaining:   25.0s\n",
      "[CV]  max_depth=8, min_samples_leaf=12, min_samples_split=2, n_estimators=50, score=0.7243404062975847, total=  39.4s\n",
      "[Parallel(n_jobs=-1)]: Done  43 out of  45 | elapsed:  5.9min remaining:   16.4s\n",
      "[CV]  max_depth=8, min_samples_leaf=11, min_samples_split=2, n_estimators=50, score=0.7282607353225774, total=  46.3s\n",
      "[CV]  max_depth=8, min_samples_leaf=12, min_samples_split=2, n_estimators=50, score=0.7280267948141982, total=  45.1s\n",
      "[Parallel(n_jobs=-1)]: Done  45 out of  45 | elapsed:  6.0min remaining:    0.0s\n",
      "[Parallel(n_jobs=-1)]: Done  45 out of  45 | elapsed:  6.0min finished\n"
     ]
    },
    {
     "data": {
      "text/plain": [
       "GridSearchCV(cv=3, error_score='raise',\n",
       "       estimator=RandomForestClassifier(bootstrap=True, class_weight=None, criterion='gini',\n",
       "            max_depth=None, max_features='auto', max_leaf_nodes=None,\n",
       "            min_impurity_decrease=0.0, min_impurity_split=None,\n",
       "            min_samples_leaf=1, min_samples_split=2,\n",
       "            min_weight_fraction_leaf=0.0, n_estimators=10, n_jobs=1,\n",
       "            oob_score=False, random_state=0, verbose=0, warm_start=False),\n",
       "       fit_params=None, iid=True, n_jobs=-1,\n",
       "       param_grid={'max_depth': [6, 7, 8], 'min_samples_leaf': [8, 9, 10, 11, 12], 'min_samples_split': [2], 'n_estimators': [50]},\n",
       "       pre_dispatch='2*n_jobs', refit=True, return_train_score=True,\n",
       "       scoring='roc_auc', verbose=51)"
      ]
     },
     "execution_count": 16,
     "metadata": {},
     "output_type": "execute_result"
    }
   ],
   "source": [
    "param_dist_dict =  { 'max_depth' :         [6,7,8],\n",
    "                     'min_samples_leaf' :  [8,9,10,11,12],\n",
    "                     'min_samples_split' : [2], \n",
    "                     'n_estimators':       [50]\n",
    "                   }\n",
    "\n",
    "\n",
    "forest_reg = RandomForestClassifier(random_state=0,\n",
    "                                    class_weight = None)\n",
    "\n",
    "my_grid_search = GridSearchCV(forest_reg, \n",
    "                                param_dist_dict, \n",
    "                                cv = 3,\n",
    "                                return_train_score = True , \n",
    "                                scoring = 'roc_auc',\n",
    "                                n_jobs = -1, \n",
    "                                refit = True,\n",
    "                                verbose = 51, \n",
    "                                       )\n",
    "\n",
    "my_grid_search.fit(total_df_piped, total_df['TARGET'])"
   ]
  },
  {
   "cell_type": "code",
   "execution_count": null,
   "metadata": {
    "hidden": true
   },
   "outputs": [],
   "source": []
  },
  {
   "cell_type": "code",
   "execution_count": 17,
   "metadata": {
    "hidden": true
   },
   "outputs": [
    {
     "data": {
      "text/html": [
       "<div>\n",
       "<style scoped>\n",
       "    .dataframe tbody tr th:only-of-type {\n",
       "        vertical-align: middle;\n",
       "    }\n",
       "\n",
       "    .dataframe tbody tr th {\n",
       "        vertical-align: top;\n",
       "    }\n",
       "\n",
       "    .dataframe thead th {\n",
       "        text-align: right;\n",
       "    }\n",
       "</style>\n",
       "<table border=\"1\" class=\"dataframe\">\n",
       "  <thead>\n",
       "    <tr style=\"text-align: right;\">\n",
       "      <th></th>\n",
       "      <th>params</th>\n",
       "      <th>mean_test_score</th>\n",
       "    </tr>\n",
       "  </thead>\n",
       "  <tbody>\n",
       "    <tr>\n",
       "      <th>0</th>\n",
       "      <td>{'max_depth': 6, 'min_samples_leaf': 8, 'min_samples_split': 2, 'n_estimators': 50}</td>\n",
       "      <td>0.725322</td>\n",
       "    </tr>\n",
       "    <tr>\n",
       "      <th>1</th>\n",
       "      <td>{'max_depth': 6, 'min_samples_leaf': 9, 'min_samples_split': 2, 'n_estimators': 50}</td>\n",
       "      <td>0.725344</td>\n",
       "    </tr>\n",
       "    <tr>\n",
       "      <th>2</th>\n",
       "      <td>{'max_depth': 6, 'min_samples_leaf': 10, 'min_samples_split': 2, 'n_estimators': 50}</td>\n",
       "      <td>0.725379</td>\n",
       "    </tr>\n",
       "    <tr>\n",
       "      <th>3</th>\n",
       "      <td>{'max_depth': 6, 'min_samples_leaf': 11, 'min_samples_split': 2, 'n_estimators': 50}</td>\n",
       "      <td>0.725324</td>\n",
       "    </tr>\n",
       "    <tr>\n",
       "      <th>4</th>\n",
       "      <td>{'max_depth': 6, 'min_samples_leaf': 12, 'min_samples_split': 2, 'n_estimators': 50}</td>\n",
       "      <td>0.725341</td>\n",
       "    </tr>\n",
       "    <tr>\n",
       "      <th>5</th>\n",
       "      <td>{'max_depth': 7, 'min_samples_leaf': 8, 'min_samples_split': 2, 'n_estimators': 50}</td>\n",
       "      <td>0.725413</td>\n",
       "    </tr>\n",
       "    <tr>\n",
       "      <th>6</th>\n",
       "      <td>{'max_depth': 7, 'min_samples_leaf': 9, 'min_samples_split': 2, 'n_estimators': 50}</td>\n",
       "      <td>0.725484</td>\n",
       "    </tr>\n",
       "    <tr>\n",
       "      <th>7</th>\n",
       "      <td>{'max_depth': 7, 'min_samples_leaf': 10, 'min_samples_split': 2, 'n_estimators': 50}</td>\n",
       "      <td>0.725533</td>\n",
       "    </tr>\n",
       "    <tr>\n",
       "      <th>8</th>\n",
       "      <td>{'max_depth': 7, 'min_samples_leaf': 11, 'min_samples_split': 2, 'n_estimators': 50}</td>\n",
       "      <td>0.725489</td>\n",
       "    </tr>\n",
       "    <tr>\n",
       "      <th>9</th>\n",
       "      <td>{'max_depth': 7, 'min_samples_leaf': 12, 'min_samples_split': 2, 'n_estimators': 50}</td>\n",
       "      <td>0.725386</td>\n",
       "    </tr>\n",
       "    <tr>\n",
       "      <th>10</th>\n",
       "      <td>{'max_depth': 8, 'min_samples_leaf': 8, 'min_samples_split': 2, 'n_estimators': 50}</td>\n",
       "      <td>0.724761</td>\n",
       "    </tr>\n",
       "    <tr>\n",
       "      <th>11</th>\n",
       "      <td>{'max_depth': 8, 'min_samples_leaf': 9, 'min_samples_split': 2, 'n_estimators': 50}</td>\n",
       "      <td>0.724831</td>\n",
       "    </tr>\n",
       "    <tr>\n",
       "      <th>12</th>\n",
       "      <td>{'max_depth': 8, 'min_samples_leaf': 10, 'min_samples_split': 2, 'n_estimators': 50}</td>\n",
       "      <td>0.724888</td>\n",
       "    </tr>\n",
       "    <tr>\n",
       "      <th>13</th>\n",
       "      <td>{'max_depth': 8, 'min_samples_leaf': 11, 'min_samples_split': 2, 'n_estimators': 50}</td>\n",
       "      <td>0.724960</td>\n",
       "    </tr>\n",
       "    <tr>\n",
       "      <th>14</th>\n",
       "      <td>{'max_depth': 8, 'min_samples_leaf': 12, 'min_samples_split': 2, 'n_estimators': 50}</td>\n",
       "      <td>0.724908</td>\n",
       "    </tr>\n",
       "  </tbody>\n",
       "</table>\n",
       "</div>"
      ],
      "text/plain": [
       "                                                                                  params  \\\n",
       "0   {'max_depth': 6, 'min_samples_leaf': 8, 'min_samples_split': 2, 'n_estimators': 50}    \n",
       "1   {'max_depth': 6, 'min_samples_leaf': 9, 'min_samples_split': 2, 'n_estimators': 50}    \n",
       "2   {'max_depth': 6, 'min_samples_leaf': 10, 'min_samples_split': 2, 'n_estimators': 50}   \n",
       "3   {'max_depth': 6, 'min_samples_leaf': 11, 'min_samples_split': 2, 'n_estimators': 50}   \n",
       "4   {'max_depth': 6, 'min_samples_leaf': 12, 'min_samples_split': 2, 'n_estimators': 50}   \n",
       "5   {'max_depth': 7, 'min_samples_leaf': 8, 'min_samples_split': 2, 'n_estimators': 50}    \n",
       "6   {'max_depth': 7, 'min_samples_leaf': 9, 'min_samples_split': 2, 'n_estimators': 50}    \n",
       "7   {'max_depth': 7, 'min_samples_leaf': 10, 'min_samples_split': 2, 'n_estimators': 50}   \n",
       "8   {'max_depth': 7, 'min_samples_leaf': 11, 'min_samples_split': 2, 'n_estimators': 50}   \n",
       "9   {'max_depth': 7, 'min_samples_leaf': 12, 'min_samples_split': 2, 'n_estimators': 50}   \n",
       "10  {'max_depth': 8, 'min_samples_leaf': 8, 'min_samples_split': 2, 'n_estimators': 50}    \n",
       "11  {'max_depth': 8, 'min_samples_leaf': 9, 'min_samples_split': 2, 'n_estimators': 50}    \n",
       "12  {'max_depth': 8, 'min_samples_leaf': 10, 'min_samples_split': 2, 'n_estimators': 50}   \n",
       "13  {'max_depth': 8, 'min_samples_leaf': 11, 'min_samples_split': 2, 'n_estimators': 50}   \n",
       "14  {'max_depth': 8, 'min_samples_leaf': 12, 'min_samples_split': 2, 'n_estimators': 50}   \n",
       "\n",
       "    mean_test_score  \n",
       "0   0.725322         \n",
       "1   0.725344         \n",
       "2   0.725379         \n",
       "3   0.725324         \n",
       "4   0.725341         \n",
       "5   0.725413         \n",
       "6   0.725484         \n",
       "7   0.725533         \n",
       "8   0.725489         \n",
       "9   0.725386         \n",
       "10  0.724761         \n",
       "11  0.724831         \n",
       "12  0.724888         \n",
       "13  0.724960         \n",
       "14  0.724908         "
      ]
     },
     "execution_count": 17,
     "metadata": {},
     "output_type": "execute_result"
    }
   ],
   "source": [
    "pd.set_option('display.max_colwidth', -1)\n",
    "pd.DataFrame(my_grid_search.cv_results_)[['params','mean_test_score']]"
   ]
  },
  {
   "cell_type": "code",
   "execution_count": null,
   "metadata": {
    "hidden": true
   },
   "outputs": [],
   "source": []
  },
  {
   "cell_type": "code",
   "execution_count": 18,
   "metadata": {
    "hidden": true
   },
   "outputs": [
    {
     "data": {
      "text/plain": [
       "0.7255327801710438"
      ]
     },
     "execution_count": 18,
     "metadata": {},
     "output_type": "execute_result"
    }
   ],
   "source": [
    "my_grid_search.best_score_"
   ]
  },
  {
   "cell_type": "code",
   "execution_count": null,
   "metadata": {
    "hidden": true
   },
   "outputs": [],
   "source": []
  },
  {
   "cell_type": "code",
   "execution_count": 19,
   "metadata": {
    "hidden": true
   },
   "outputs": [
    {
     "data": {
      "text/plain": [
       "{'max_depth': 7,\n",
       " 'min_samples_leaf': 10,\n",
       " 'min_samples_split': 2,\n",
       " 'n_estimators': 50}"
      ]
     },
     "execution_count": 19,
     "metadata": {},
     "output_type": "execute_result"
    }
   ],
   "source": [
    "RF_optimized_parms = my_grid_search.best_params_\n",
    "RF_optimized_parms"
   ]
  },
  {
   "cell_type": "code",
   "execution_count": null,
   "metadata": {
    "hidden": true
   },
   "outputs": [],
   "source": []
  },
  {
   "cell_type": "code",
   "execution_count": 20,
   "metadata": {
    "hidden": true
   },
   "outputs": [
    {
     "data": {
      "text/plain": [
       "0.7360699554273631"
      ]
     },
     "execution_count": 20,
     "metadata": {},
     "output_type": "execute_result"
    }
   ],
   "source": [
    "train_scores = [x[1] for x in my_grid_search.predict_proba(total_df_piped)]\n",
    "roc_auc_score(total_df['TARGET'], train_scores)"
   ]
  },
  {
   "cell_type": "code",
   "execution_count": null,
   "metadata": {
    "hidden": true
   },
   "outputs": [],
   "source": []
  },
  {
   "cell_type": "code",
   "execution_count": 21,
   "metadata": {
    "hidden": true
   },
   "outputs": [],
   "source": [
    "del my_grid_search"
   ]
  },
  {
   "cell_type": "markdown",
   "metadata": {
    "heading_collapsed": true
   },
   "source": [
    "### DONE. random forest grid search, all features"
   ]
  },
  {
   "cell_type": "code",
   "execution_count": null,
   "metadata": {
    "hidden": true
   },
   "outputs": [],
   "source": []
  },
  {
   "cell_type": "code",
   "execution_count": 22,
   "metadata": {
    "hidden": true
   },
   "outputs": [
    {
     "name": "stdout",
     "output_type": "stream",
     "text": [
      "Total original feat len is 85. Sum of feats is 85.\n",
      "Final array is length 417. final feature list is length 417.\n"
     ]
    }
   ],
   "source": [
    "total_df_piped, final_feature_list, total_pipeline, trans_list = master_pipeline(df_in = total_df,\n",
    "                                                                             int_cutoff=20, \n",
    "                                                                             poly_deg=4, \n",
    "                                                                             feats_with_interaction=[]\n",
    "                                                                               )\n"
   ]
  },
  {
   "cell_type": "code",
   "execution_count": null,
   "metadata": {
    "hidden": true
   },
   "outputs": [],
   "source": []
  },
  {
   "cell_type": "raw",
   "metadata": {
    "hidden": true
   },
   "source": [
    "Results:\n",
    "input:\n",
    "param_dist_dict =  { 'max_depth' :         [3,6,8],\n",
    "                     'min_samples_leaf' :  [10,20,30],\n",
    "                     'min_samples_split' : [2,3,5], \n",
    "                     'n_estimators':       [30],\n",
    "                    }\n",
    "\n",
    "output:\n",
    "{'max_depth': 8,\n",
    " 'min_samples_leaf': 30,\n",
    " 'min_samples_split': 2,\n",
    " 'n_estimators': 30}\n",
    "\n",
    "T_score = 0.7131662810493575, V_score = 0.6839713262556161\n",
    "                    \n",
    "input:\n",
    "param_dist_dict =  { 'max_depth' :         [7,8,10],\n",
    "                     'min_samples_leaf' :  [25,30,40],\n",
    "                     'min_samples_split' : [2,3], \n",
    "                     'n_estimators':       [30],\n",
    "                    }\n",
    "output:\n",
    "{'max_depth': 10,\n",
    " 'min_samples_leaf': 40,\n",
    " 'min_samples_split': 2,\n",
    " 'n_estimators': 30}\n",
    " \n",
    " T_score = 0.7451060196423408, V_score = 0.6843765409684018\n",
    " \n",
    " input:\n",
    " param_dist_dict =  { 'max_depth' :         [9,10,11],\n",
    "                     'min_samples_leaf' :  [35,40,50,60],\n",
    "                     'min_samples_split' : [2,3], \n",
    "                     'n_estimators':       [30],\n",
    "                    }\n",
    "output:\n",
    "{'max_depth': 11,\n",
    " 'min_samples_leaf': 60,\n",
    " 'min_samples_split': 2,\n",
    " 'n_estimators': 30}\n",
    "T_score = 0.7511082567366179, V_score = 0.6799837381909455\n",
    "\n",
    "input: \n",
    "\n",
    "param_dist_dict =  { 'max_depth' :         [11,12,13],\n",
    "                     'min_samples_leaf' :  [55,60,70,80,90,100],\n",
    "                     'min_samples_split' : [2], \n",
    "                     'n_estimators':       [30],\n",
    "                    }\n",
    "output:\n",
    "{'max_depth': 12,\n",
    " 'min_samples_leaf': 80,\n",
    " 'min_samples_split': 2,\n",
    " 'n_estimators': 30}\n",
    " T_score = 0.753132291233742, V_score = 0.683764052383475\n",
    " \n",
    " input:\n",
    " param_dist_dict =  { 'max_depth' :         [11,12,13],\n",
    "                     'min_samples_leaf' :  [70,71,72,73,74,75,76,77,78,79,80,81,82,83,84,85,86,87,88,89,90],\n",
    "                     'min_samples_split' : [2,3], \n",
    "                     'n_estimators':       [40],\n",
    "                    }\n",
    "output:    \n",
    "{'max_depth': 13,\n",
    " 'min_samples_leaf': 72,\n",
    " 'min_samples_split': 2,\n",
    " 'n_estimators': 40}\n",
    " T_score = 0.7659160542468663, V_score = 0.6818976104106902\n",
    " \n",
    " input : \n",
    " \n",
    " param_dist_dict =  { 'max_depth' :         [11,12,13,14,15,16],\n",
    "                     'min_samples_leaf' :  [70,71,72,73,74,75],\n",
    "                     'min_samples_split' : [2], \n",
    "                     'n_estimators':       [40],\n",
    "                    }\n",
    "                    \n",
    "output:\n",
    "{'max_depth': 16,\n",
    " 'min_samples_leaf': 70,\n",
    " 'min_samples_split': 2,\n",
    " 'n_estimators': 40}\n",
    " \n",
    " T_score = 0.7791905200831135, V_score = 0.6797572575690205\n",
    " \n",
    " input:\n",
    " param_dist_dict =  { 'max_depth' :         [16,19,22,25],\n",
    "                     'min_samples_leaf' :  [60,63,66,70],\n",
    "                     'min_samples_split' : [2], \n",
    "                     'n_estimators':       [40],\n",
    "                    }\n",
    "\n",
    "output: \n",
    "{'max_depth': 19,\n",
    " 'min_samples_leaf': 63,\n",
    " 'min_samples_split': 2,\n",
    " 'n_estimators': 40}\n",
    " T_score = 0.790413360147336, V_score = 0.6775898933580822\n",
    " \n",
    " input:\n",
    " param_dist_dict =  { 'max_depth' :         [17,18,19,20,21],\n",
    "                     'min_samples_leaf' :  [61,62,63,64,65],\n",
    "                     'min_samples_split' : [2], \n",
    "                     'n_estimators':       [40],\n",
    "                    }\n",
    "\n",
    " output: \n",
    " {'max_depth': 20,\n",
    " 'min_samples_leaf': 62,\n",
    " 'min_samples_split': 2,\n",
    " 'n_estimators': 40}\n",
    " \n",
    " T_score = 0.7932580396311071, V_score = 0.6768631378640674\n",
    " \n",
    "  ************************************************************************ \n",
    " At this point I switched to class_weight = None and auc_roc w/ pred_proba\n",
    " ************************************************************************\n",
    " \n",
    "input: { 'max_depth' :         [17,18,19,20,21],\n",
    "                     'min_samples_leaf' :  [61,62,63,64,65],\n",
    "                     'min_samples_split' : [2], \n",
    "                     'n_estimators':       [40],\n",
    "                    }\n",
    "                    \n",
    "output:  \n",
    "{'max_depth': 17,\n",
    " 'min_samples_leaf': 64,\n",
    " 'min_samples_split': 2,\n",
    " 'n_estimators': 40}\n",
    " \n",
    " T_score = 0.8615477268629522, V_score = 0.7547311940802416\n",
    "\n",
    "input:\n",
    "param_dist_dict =  { 'max_depth' :         [14,15,16,17,18],\n",
    "                     'min_samples_leaf' :  [61,62,63,64,65],\n",
    "                     'min_samples_split' : [2,3], \n",
    "                     'n_estimators':       [40],\n",
    "                    }\n",
    " \n",
    " output:\n",
    " {'max_depth': 17,\n",
    " 'min_samples_leaf': 64,\n",
    " 'min_samples_split': 2,\n",
    " 'n_estimators': 40}\n",
    " \n",
    " T_score = 0.8615477268629522, V_score = 0.7547311940802416\n",
    "\n",
    "  ************************************************************************ \n",
    " At this point I switched to training on full set\n",
    " ************************************************************************\n",
    " \n",
    "\n",
    "input:\n",
    "param_dist_dict =  { 'max_depth' :         [14,15,16,17,18],\n",
    "                     'min_samples_leaf' :  [61,62,63,64,65],\n",
    "                     'min_samples_split' : [2], \n",
    "                     'n_estimators':       [40],\n",
    "                    }\n",
    "output:  \n",
    "{'max_depth': 15,\n",
    " 'min_samples_leaf': 63,\n",
    " 'min_samples_split': 2,\n",
    " 'n_estimators': 40}\n",
    " best_score = 0.7496549981982892, train_score = 0.8498758422290261"
   ]
  },
  {
   "cell_type": "code",
   "execution_count": null,
   "metadata": {
    "hidden": true
   },
   "outputs": [],
   "source": []
  },
  {
   "cell_type": "code",
   "execution_count": 23,
   "metadata": {
    "collapsed": true,
    "hidden": true
   },
   "outputs": [
    {
     "name": "stdout",
     "output_type": "stream",
     "text": [
      "Fitting 3 folds for each of 25 candidates, totalling 75 fits\n",
      "Memmaping (shape=(73187618,), dtype=int32) to new file /dev/shm/joblib_memmaping_pool_3496_140630285815200/3496-140630235841704-9bf90f5320b696a352c12cd4001de90f.pkl\n",
      "Memmaping (shape=(307512,), dtype=int32) to new file /dev/shm/joblib_memmaping_pool_3496_140630285815200/3496-140630235841704-851f25297a32c2e0d1a0ef9235730f5f.pkl\n",
      "Memmaping (shape=(73187618,), dtype=float64) to new file /dev/shm/joblib_memmaping_pool_3496_140630285815200/3496-140630235841704-94dce670310afaed17a34e987de612cb.pkl\n",
      "[CV] max_depth=14, min_samples_leaf=61, min_samples_split=2, n_estimators=40 \n",
      "Memmaping (shape=(307511,), dtype=int64) to new file /dev/shm/joblib_memmaping_pool_3496_140630285815200/3496-140630235841704-36f41ebc26c9047822d0779f2962f9e3.pkl\n",
      "Memmaping (shape=(307511,), dtype=int64) to new file /dev/shm/joblib_memmaping_pool_3496_140630285815200/3496-140630235841704-7fee98903a11851f0c36b343c7ef5338.pkl\n",
      "Memmaping (shape=(205007,), dtype=int64) to new file /dev/shm/joblib_memmaping_pool_3496_140630285815200/3496-140630235841704-981b55e712abb5a5a2369212f2856f0a.pkl\n",
      "[CV] max_depth=14, min_samples_leaf=61, min_samples_split=2, n_estimators=40 \n",
      "Memmaping (shape=(205007,), dtype=int64) to new file /dev/shm/joblib_memmaping_pool_3496_140630285815200/3496-140630235841704-52b45483e9e8ae50702a4dfc49cfc8ef.pkl\n",
      "[CV] max_depth=14, min_samples_leaf=61, min_samples_split=2, n_estimators=40 \n",
      "Memmaping (shape=(205008,), dtype=int64) to new file /dev/shm/joblib_memmaping_pool_3496_140630285815200/3496-140630235841704-14cff63d81a68491cd383c416c29ffaa.pkl\n",
      "[CV] max_depth=14, min_samples_leaf=62, min_samples_split=2, n_estimators=40 \n",
      "[CV] max_depth=14, min_samples_leaf=62, min_samples_split=2, n_estimators=40 \n",
      "[CV] max_depth=14, min_samples_leaf=62, min_samples_split=2, n_estimators=40 \n",
      "[CV] max_depth=14, min_samples_leaf=63, min_samples_split=2, n_estimators=40 \n",
      "[CV] max_depth=14, min_samples_leaf=63, min_samples_split=2, n_estimators=40 \n",
      "[CV]  max_depth=14, min_samples_leaf=61, min_samples_split=2, n_estimators=40, score=0.7507561789673604, total= 5.1min\n",
      "[CV] max_depth=14, min_samples_leaf=63, min_samples_split=2, n_estimators=40 \n",
      "[Parallel(n_jobs=-1)]: Done   1 tasks      | elapsed:  5.2min\n",
      "[CV]  max_depth=14, min_samples_leaf=61, min_samples_split=2, n_estimators=40, score=0.7445630758954234, total= 5.1min\n",
      "[Parallel(n_jobs=-1)]: Done   2 tasks      | elapsed:  5.3min\n",
      "[CV] max_depth=14, min_samples_leaf=64, min_samples_split=2, n_estimators=40 \n",
      "[CV]  max_depth=14, min_samples_leaf=61, min_samples_split=2, n_estimators=40, score=0.7517579677857923, total= 5.1min\n",
      "[CV] max_depth=14, min_samples_leaf=64, min_samples_split=2, n_estimators=40 \n",
      "[Parallel(n_jobs=-1)]: Done   3 tasks      | elapsed:  5.3min\n",
      "[CV]  max_depth=14, min_samples_leaf=62, min_samples_split=2, n_estimators=40, score=0.7495557595610026, total= 5.2min\n",
      "[CV] max_depth=14, min_samples_leaf=64, min_samples_split=2, n_estimators=40 \n",
      "[Parallel(n_jobs=-1)]: Done   4 tasks      | elapsed:  5.4min\n",
      "[CV]  max_depth=14, min_samples_leaf=63, min_samples_split=2, n_estimators=40, score=0.7476288539082923, total= 5.1min\n",
      "[Parallel(n_jobs=-1)]: Done   5 tasks      | elapsed:  5.4min\n",
      "[CV]  max_depth=14, min_samples_leaf=62, min_samples_split=2, n_estimators=40, score=0.7514808524467298, total= 5.1min\n",
      "[Parallel(n_jobs=-1)]: Done   6 tasks      | elapsed:  5.4min\n",
      "[CV] max_depth=14, min_samples_leaf=65, min_samples_split=2, n_estimators=40 \n",
      "[CV]  max_depth=14, min_samples_leaf=63, min_samples_split=2, n_estimators=40, score=0.7489609291807235, total= 5.1min\n",
      "[CV]  max_depth=14, min_samples_leaf=62, min_samples_split=2, n_estimators=40, score=0.7467253533759547, total= 5.2min\n",
      "[Parallel(n_jobs=-1)]: Done   7 tasks      | elapsed:  5.4min\n",
      "[Parallel(n_jobs=-1)]: Done   8 tasks      | elapsed:  5.4min\n",
      "[CV] max_depth=14, min_samples_leaf=65, min_samples_split=2, n_estimators=40 \n",
      "[CV] max_depth=14, min_samples_leaf=65, min_samples_split=2, n_estimators=40 \n",
      "[CV] max_depth=15, min_samples_leaf=61, min_samples_split=2, n_estimators=40 \n",
      "[CV]  max_depth=14, min_samples_leaf=63, min_samples_split=2, n_estimators=40, score=0.750967367574208, total= 5.1min\n",
      "[CV] max_depth=15, min_samples_leaf=61, min_samples_split=2, n_estimators=40 \n",
      "[Parallel(n_jobs=-1)]: Done   9 tasks      | elapsed: 10.4min\n",
      "[CV]  max_depth=14, min_samples_leaf=64, min_samples_split=2, n_estimators=40, score=0.746218828790785, total= 5.1min\n",
      "[CV] max_depth=15, min_samples_leaf=61, min_samples_split=2, n_estimators=40 \n",
      "[Parallel(n_jobs=-1)]: Done  10 tasks      | elapsed: 10.5min\n",
      "[CV]  max_depth=14, min_samples_leaf=64, min_samples_split=2, n_estimators=40, score=0.7514218645653985, total= 5.1min\n",
      "[Parallel(n_jobs=-1)]: Done  11 tasks      | elapsed: 10.5min\n",
      "[CV] max_depth=15, min_samples_leaf=62, min_samples_split=2, n_estimators=40 \n",
      "[CV]  max_depth=14, min_samples_leaf=64, min_samples_split=2, n_estimators=40, score=0.7502825133150716, total= 5.1min\n",
      "[CV] max_depth=15, min_samples_leaf=62, min_samples_split=2, n_estimators=40 \n",
      "[Parallel(n_jobs=-1)]: Done  12 tasks      | elapsed: 10.6min\n",
      "[CV]  max_depth=14, min_samples_leaf=65, min_samples_split=2, n_estimators=40, score=0.7459743065352874, total= 5.1min\n",
      "[CV] max_depth=15, min_samples_leaf=62, min_samples_split=2, n_estimators=40 \n",
      "[Parallel(n_jobs=-1)]: Done  13 tasks      | elapsed: 10.6min\n",
      "[CV]  max_depth=14, min_samples_leaf=65, min_samples_split=2, n_estimators=40, score=0.7497940400321271, total= 5.1min\n",
      "[Parallel(n_jobs=-1)]: Done  14 tasks      | elapsed: 10.6min\n",
      "[CV] max_depth=15, min_samples_leaf=63, min_samples_split=2, n_estimators=40 \n",
      "[CV]  max_depth=14, min_samples_leaf=65, min_samples_split=2, n_estimators=40, score=0.7511445402018398, total= 5.1min\n",
      "[CV] max_depth=15, min_samples_leaf=63, min_samples_split=2, n_estimators=40 \n",
      "[Parallel(n_jobs=-1)]: Done  15 tasks      | elapsed: 10.7min\n",
      "[CV]  max_depth=15, min_samples_leaf=61, min_samples_split=2, n_estimators=40, score=0.7509422487781984, total= 5.5min\n",
      "[CV] max_depth=15, min_samples_leaf=63, min_samples_split=2, n_estimators=40 \n",
      "[Parallel(n_jobs=-1)]: Done  16 tasks      | elapsed: 11.1min\n",
      "[CV]  max_depth=15, min_samples_leaf=61, min_samples_split=2, n_estimators=40, score=0.7454167768121879, total= 5.5min\n",
      "[CV] max_depth=15, min_samples_leaf=64, min_samples_split=2, n_estimators=40 \n",
      "[Parallel(n_jobs=-1)]: Done  17 tasks      | elapsed: 16.0min\n",
      "[CV]  max_depth=15, min_samples_leaf=61, min_samples_split=2, n_estimators=40, score=0.7521962580445425, total= 5.4min\n",
      "[Parallel(n_jobs=-1)]: Done  18 tasks      | elapsed: 16.0min\n",
      "[CV] max_depth=15, min_samples_leaf=64, min_samples_split=2, n_estimators=40 \n",
      "[CV]  max_depth=15, min_samples_leaf=62, min_samples_split=2, n_estimators=40, score=0.7502944908365713, total= 5.4min\n",
      "[Parallel(n_jobs=-1)]: Done  19 tasks      | elapsed: 16.0min\n",
      "[CV] max_depth=15, min_samples_leaf=64, min_samples_split=2, n_estimators=40 \n",
      "[CV]  max_depth=15, min_samples_leaf=62, min_samples_split=2, n_estimators=40, score=0.7511930027148908, total= 5.4min\n",
      "[CV] max_depth=15, min_samples_leaf=65, min_samples_split=2, n_estimators=40 \n",
      "[Parallel(n_jobs=-1)]: Done  20 tasks      | elapsed: 16.2min\n",
      "[CV]  max_depth=15, min_samples_leaf=62, min_samples_split=2, n_estimators=40, score=0.7472162895310739, total= 5.5min\n",
      "[Parallel(n_jobs=-1)]: Done  21 tasks      | elapsed: 16.2min\n",
      "[CV] max_depth=15, min_samples_leaf=65, min_samples_split=2, n_estimators=40 \n",
      "[CV]  max_depth=15, min_samples_leaf=63, min_samples_split=2, n_estimators=40, score=0.7508601732252267, total= 5.4min\n",
      "[Parallel(n_jobs=-1)]: Done  22 tasks      | elapsed: 16.2min\n",
      "[CV] max_depth=15, min_samples_leaf=65, min_samples_split=2, n_estimators=40 \n",
      "[CV]  max_depth=15, min_samples_leaf=63, min_samples_split=2, n_estimators=40, score=0.746816466499191, total= 5.4min\n",
      "[Parallel(n_jobs=-1)]: Done  23 tasks      | elapsed: 16.2min\n",
      "[CV] max_depth=16, min_samples_leaf=61, min_samples_split=2, n_estimators=40 \n",
      "[CV]  max_depth=15, min_samples_leaf=63, min_samples_split=2, n_estimators=40, score=0.7512883708051705, total= 5.4min\n",
      "[CV] max_depth=16, min_samples_leaf=61, min_samples_split=2, n_estimators=40 \n",
      "[Parallel(n_jobs=-1)]: Done  24 tasks      | elapsed: 16.5min\n"
     ]
    },
    {
     "name": "stdout",
     "output_type": "stream",
     "text": [
      "[CV]  max_depth=15, min_samples_leaf=64, min_samples_split=2, n_estimators=40, score=0.7500110468810652, total= 5.4min\n",
      "[CV] max_depth=16, min_samples_leaf=61, min_samples_split=2, n_estimators=40 \n",
      "[Parallel(n_jobs=-1)]: Done  25 tasks      | elapsed: 21.5min\n",
      "[CV]  max_depth=15, min_samples_leaf=64, min_samples_split=2, n_estimators=40, score=0.752061224000358, total= 5.4min\n",
      "[CV]  max_depth=15, min_samples_leaf=64, min_samples_split=2, n_estimators=40, score=0.7468440729611627, total= 5.4min\n",
      "[Parallel(n_jobs=-1)]: Done  26 tasks      | elapsed: 21.5min\n",
      "[Parallel(n_jobs=-1)]: Done  27 tasks      | elapsed: 21.5min\n",
      "[CV] max_depth=16, min_samples_leaf=62, min_samples_split=2, n_estimators=40 \n",
      "[CV] max_depth=16, min_samples_leaf=62, min_samples_split=2, n_estimators=40 \n",
      "[CV]  max_depth=15, min_samples_leaf=65, min_samples_split=2, n_estimators=40, score=0.74590406049106, total= 5.3min\n",
      "[CV] max_depth=16, min_samples_leaf=62, min_samples_split=2, n_estimators=40 \n",
      "[Parallel(n_jobs=-1)]: Done  28 tasks      | elapsed: 21.6min\n",
      "[CV]  max_depth=15, min_samples_leaf=65, min_samples_split=2, n_estimators=40, score=0.7502815353186469, total= 5.4min\n",
      "[Parallel(n_jobs=-1)]: Done  29 tasks      | elapsed: 21.7min\n",
      "[CV] max_depth=16, min_samples_leaf=63, min_samples_split=2, n_estimators=40 \n",
      "[CV]  max_depth=15, min_samples_leaf=65, min_samples_split=2, n_estimators=40, score=0.7523231419016189, total= 5.3min\n",
      "[Parallel(n_jobs=-1)]: Done  30 tasks      | elapsed: 21.7min\n",
      "[CV] max_depth=16, min_samples_leaf=63, min_samples_split=2, n_estimators=40 \n",
      "[CV]  max_depth=16, min_samples_leaf=61, min_samples_split=2, n_estimators=40, score=0.7499855898398062, total= 5.7min\n",
      "[CV] max_depth=16, min_samples_leaf=63, min_samples_split=2, n_estimators=40 \n",
      "[Parallel(n_jobs=-1)]: Done  31 tasks      | elapsed: 22.0min\n",
      "[CV]  max_depth=16, min_samples_leaf=61, min_samples_split=2, n_estimators=40, score=0.7464297721187624, total= 5.7min\n",
      "[CV] max_depth=16, min_samples_leaf=64, min_samples_split=2, n_estimators=40 \n",
      "[Parallel(n_jobs=-1)]: Done  32 tasks      | elapsed: 22.3min\n",
      "[CV]  max_depth=16, min_samples_leaf=61, min_samples_split=2, n_estimators=40, score=0.7509606383795966, total= 5.6min\n",
      "[CV] max_depth=16, min_samples_leaf=64, min_samples_split=2, n_estimators=40 \n",
      "[Parallel(n_jobs=-1)]: Done  33 tasks      | elapsed: 27.2min\n",
      "[CV]  max_depth=16, min_samples_leaf=62, min_samples_split=2, n_estimators=40, score=0.7500245615561678, total= 5.6min\n",
      "[CV] max_depth=16, min_samples_leaf=64, min_samples_split=2, n_estimators=40 \n",
      "[Parallel(n_jobs=-1)]: Done  34 tasks      | elapsed: 27.3min\n",
      "[CV]  max_depth=16, min_samples_leaf=62, min_samples_split=2, n_estimators=40, score=0.7463051467564763, total= 5.6min\n",
      "[Parallel(n_jobs=-1)]: Done  35 tasks      | elapsed: 27.3min\n",
      "[CV] max_depth=16, min_samples_leaf=65, min_samples_split=2, n_estimators=40 \n",
      "[CV]  max_depth=16, min_samples_leaf=63, min_samples_split=2, n_estimators=40, score=0.7466555715860818, total= 5.6min\n",
      "[CV] max_depth=16, min_samples_leaf=65, min_samples_split=2, n_estimators=40 \n",
      "[Parallel(n_jobs=-1)]: Done  36 tasks      | elapsed: 27.4min\n",
      "[CV]  max_depth=16, min_samples_leaf=62, min_samples_split=2, n_estimators=40, score=0.7510352443331192, total= 5.7min\n",
      "[CV] max_depth=16, min_samples_leaf=65, min_samples_split=2, n_estimators=40 \n",
      "[Parallel(n_jobs=-1)]: Done  37 tasks      | elapsed: 27.4min\n",
      "[CV]  max_depth=16, min_samples_leaf=63, min_samples_split=2, n_estimators=40, score=0.7507313888108096, total= 5.7min\n",
      "[CV] max_depth=17, min_samples_leaf=61, min_samples_split=2, n_estimators=40 \n",
      "[Parallel(n_jobs=-1)]: Done  38 tasks      | elapsed: 27.5min\n",
      "[CV]  max_depth=16, min_samples_leaf=63, min_samples_split=2, n_estimators=40, score=0.7500896469282515, total= 5.6min\n",
      "[CV] max_depth=17, min_samples_leaf=61, min_samples_split=2, n_estimators=40 \n",
      "[Parallel(n_jobs=-1)]: Done  39 tasks      | elapsed: 27.7min\n",
      "[CV]  max_depth=16, min_samples_leaf=64, min_samples_split=2, n_estimators=40, score=0.7504423391763442, total= 5.7min\n",
      "[CV] max_depth=17, min_samples_leaf=61, min_samples_split=2, n_estimators=40 \n",
      "[Parallel(n_jobs=-1)]: Done  40 tasks      | elapsed: 28.1min\n",
      "[CV]  max_depth=16, min_samples_leaf=65, min_samples_split=2, n_estimators=40, score=0.7503896963234679, total= 5.6min\n",
      "[CV] max_depth=17, min_samples_leaf=62, min_samples_split=2, n_estimators=40 \n",
      "[Parallel(n_jobs=-1)]: Done  41 tasks      | elapsed: 33.0min\n",
      "[CV]  max_depth=16, min_samples_leaf=64, min_samples_split=2, n_estimators=40, score=0.7461307961619118, total= 5.7min\n",
      "[Parallel(n_jobs=-1)]: Done  42 tasks      | elapsed: 33.0min\n",
      "[CV]  max_depth=16, min_samples_leaf=64, min_samples_split=2, n_estimators=40, score=0.7511609713894446, total= 5.6min\n",
      "[Parallel(n_jobs=-1)]: Done  43 tasks      | elapsed: 33.0min\n",
      "[CV] max_depth=17, min_samples_leaf=62, min_samples_split=2, n_estimators=40 \n",
      "[CV] max_depth=17, min_samples_leaf=62, min_samples_split=2, n_estimators=40 \n",
      "[CV]  max_depth=16, min_samples_leaf=65, min_samples_split=2, n_estimators=40, score=0.747229283523116, total= 5.6min\n",
      "[CV] max_depth=17, min_samples_leaf=63, min_samples_split=2, n_estimators=40 \n",
      "[Parallel(n_jobs=-1)]: Done  44 tasks      | elapsed: 33.1min\n",
      "[CV]  max_depth=16, min_samples_leaf=65, min_samples_split=2, n_estimators=40, score=0.750839701401768, total= 5.6min\n",
      "[Parallel(n_jobs=-1)]: Done  45 tasks      | elapsed: 33.2min\n",
      "[CV] max_depth=17, min_samples_leaf=63, min_samples_split=2, n_estimators=40 \n",
      "[CV]  max_depth=17, min_samples_leaf=61, min_samples_split=2, n_estimators=40, score=0.7505560045449474, total= 5.8min\n",
      "[CV] max_depth=17, min_samples_leaf=63, min_samples_split=2, n_estimators=40 \n",
      "[Parallel(n_jobs=-1)]: Done  46 tasks      | elapsed: 33.4min\n",
      "[CV]  max_depth=17, min_samples_leaf=61, min_samples_split=2, n_estimators=40, score=0.7460935262840264, total= 5.9min\n",
      "[CV] max_depth=17, min_samples_leaf=64, min_samples_split=2, n_estimators=40 \n",
      "[Parallel(n_jobs=-1)]: Done  47 tasks      | elapsed: 33.7min\n",
      "[CV]  max_depth=17, min_samples_leaf=61, min_samples_split=2, n_estimators=40, score=0.7513594242774515, total= 5.9min\n",
      "[CV] max_depth=17, min_samples_leaf=64, min_samples_split=2, n_estimators=40 \n",
      "[Parallel(n_jobs=-1)]: Done  48 tasks      | elapsed: 34.1min\n",
      "[CV]  max_depth=17, min_samples_leaf=62, min_samples_split=2, n_estimators=40, score=0.7465784617592438, total= 5.7min\n",
      "[CV] max_depth=17, min_samples_leaf=64, min_samples_split=2, n_estimators=40 \n",
      "[Parallel(n_jobs=-1)]: Done  49 tasks      | elapsed: 38.9min\n",
      "[CV]  max_depth=17, min_samples_leaf=62, min_samples_split=2, n_estimators=40, score=0.7500924132277992, total= 5.8min\n",
      "[Parallel(n_jobs=-1)]: Done  50 tasks      | elapsed: 38.9min\n",
      "[CV] max_depth=17, min_samples_leaf=65, min_samples_split=2, n_estimators=40 \n",
      "[CV]  max_depth=17, min_samples_leaf=62, min_samples_split=2, n_estimators=40, score=0.7509363096542717, total= 5.8min\n",
      "[CV] max_depth=17, min_samples_leaf=65, min_samples_split=2, n_estimators=40 \n",
      "[Parallel(n_jobs=-1)]: Done  51 tasks      | elapsed: 39.0min\n",
      "[CV]  max_depth=17, min_samples_leaf=63, min_samples_split=2, n_estimators=40, score=0.7465837468205551, total= 5.7min\n",
      "[Parallel(n_jobs=-1)]: Done  52 tasks      | elapsed: 39.0min\n",
      "[CV] max_depth=17, min_samples_leaf=65, min_samples_split=2, n_estimators=40 \n",
      "[CV]  max_depth=17, min_samples_leaf=63, min_samples_split=2, n_estimators=40, score=0.750292981368684, total= 5.8min\n",
      "[Parallel(n_jobs=-1)]: Done  53 tasks      | elapsed: 39.0min\n",
      "[CV] max_depth=18, min_samples_leaf=61, min_samples_split=2, n_estimators=40 \n",
      "[CV]  max_depth=17, min_samples_leaf=63, min_samples_split=2, n_estimators=40, score=0.7515880014368952, total= 5.8min\n",
      "[CV] max_depth=18, min_samples_leaf=61, min_samples_split=2, n_estimators=40 \n",
      "[Parallel(n_jobs=-1)]: Done  54 tasks      | elapsed: 39.3min\n",
      "[CV]  max_depth=17, min_samples_leaf=64, min_samples_split=2, n_estimators=40, score=0.7496964235005169, total= 5.8min\n",
      "[CV] max_depth=18, min_samples_leaf=61, min_samples_split=2, n_estimators=40 \n",
      "[Parallel(n_jobs=-1)]: Done  55 tasks      | elapsed: 39.6min\n",
      "[CV]  max_depth=17, min_samples_leaf=64, min_samples_split=2, n_estimators=40, score=0.7465761687018245, total= 5.8min\n",
      "[CV] max_depth=18, min_samples_leaf=62, min_samples_split=2, n_estimators=40 \n"
     ]
    },
    {
     "name": "stdout",
     "output_type": "stream",
     "text": [
      "[Parallel(n_jobs=-1)]: Done  56 tasks      | elapsed: 40.0min\n",
      "[CV]  max_depth=17, min_samples_leaf=65, min_samples_split=2, n_estimators=40, score=0.750026306998644, total= 5.7min\n",
      "[CV] max_depth=18, min_samples_leaf=62, min_samples_split=2, n_estimators=40 \n",
      "[Parallel(n_jobs=-1)]: Done  57 tasks      | elapsed: 44.7min\n",
      "[CV]  max_depth=17, min_samples_leaf=64, min_samples_split=2, n_estimators=40, score=0.751035016050931, total= 5.8min\n",
      "[Parallel(n_jobs=-1)]: Done  58 tasks      | elapsed: 44.8min\n",
      "[CV] max_depth=18, min_samples_leaf=62, min_samples_split=2, n_estimators=40 \n",
      "[CV]  max_depth=17, min_samples_leaf=65, min_samples_split=2, n_estimators=40, score=0.7464385057434965, total= 5.7min\n",
      "[CV] max_depth=18, min_samples_leaf=63, min_samples_split=2, n_estimators=40 \n",
      "[Parallel(n_jobs=-1)]: Done  59 tasks      | elapsed: 44.8min\n",
      "[CV]  max_depth=17, min_samples_leaf=65, min_samples_split=2, n_estimators=40, score=0.7521093902595581, total= 5.7min\n",
      "[CV] max_depth=18, min_samples_leaf=63, min_samples_split=2, n_estimators=40 \n",
      "[Parallel(n_jobs=-1)]: Done  60 tasks      | elapsed: 44.9min\n",
      "[CV]  max_depth=18, min_samples_leaf=61, min_samples_split=2, n_estimators=40, score=0.7505190039858866, total= 5.9min\n",
      "[CV] max_depth=18, min_samples_leaf=63, min_samples_split=2, n_estimators=40 \n",
      "[CV]  max_depth=18, min_samples_leaf=61, min_samples_split=2, n_estimators=40, score=0.7458292321794058, total= 5.9min\n",
      "[CV] max_depth=18, min_samples_leaf=64, min_samples_split=2, n_estimators=40 \n",
      "[Parallel(n_jobs=-1)]: Done  62 out of  75 | elapsed: 45.3min remaining:  9.5min\n",
      "[CV]  max_depth=18, min_samples_leaf=61, min_samples_split=2, n_estimators=40, score=0.7510396830109446, total= 6.0min\n",
      "[CV] max_depth=18, min_samples_leaf=64, min_samples_split=2, n_estimators=40 \n",
      "[CV]  max_depth=18, min_samples_leaf=62, min_samples_split=2, n_estimators=40, score=0.7494150135433704, total= 6.0min\n",
      "[CV] max_depth=18, min_samples_leaf=64, min_samples_split=2, n_estimators=40 \n",
      "[Parallel(n_jobs=-1)]: Done  64 out of  75 | elapsed: 46.0min remaining:  7.9min\n",
      "[CV]  max_depth=18, min_samples_leaf=62, min_samples_split=2, n_estimators=40, score=0.7460669137367637, total= 5.9min\n",
      "[CV] max_depth=18, min_samples_leaf=65, min_samples_split=2, n_estimators=40 \n",
      "[CV]  max_depth=18, min_samples_leaf=62, min_samples_split=2, n_estimators=40, score=0.751298997469274, total= 5.9min\n",
      "[CV] max_depth=18, min_samples_leaf=65, min_samples_split=2, n_estimators=40 \n",
      "[Parallel(n_jobs=-1)]: Done  66 out of  75 | elapsed: 50.8min remaining:  6.9min\n",
      "[CV]  max_depth=18, min_samples_leaf=63, min_samples_split=2, n_estimators=40, score=0.7498253464217579, total= 5.9min\n",
      "[CV] max_depth=18, min_samples_leaf=65, min_samples_split=2, n_estimators=40 \n",
      "[CV]  max_depth=18, min_samples_leaf=63, min_samples_split=2, n_estimators=40, score=0.7466835012306428, total= 5.9min\n",
      "[Parallel(n_jobs=-1)]: Done  68 out of  75 | elapsed: 50.9min remaining:  5.2min\n",
      "[CV]  max_depth=18, min_samples_leaf=63, min_samples_split=2, n_estimators=40, score=0.7504469624169287, total= 5.9min\n",
      "[CV]  max_depth=18, min_samples_leaf=64, min_samples_split=2, n_estimators=40, score=0.7492256311109924, total= 5.8min\n",
      "[Parallel(n_jobs=-1)]: Done  70 out of  75 | elapsed: 51.2min remaining:  3.7min\n",
      "[CV]  max_depth=18, min_samples_leaf=64, min_samples_split=2, n_estimators=40, score=0.7471272591400797, total= 5.8min\n",
      "[CV]  max_depth=18, min_samples_leaf=64, min_samples_split=2, n_estimators=40, score=0.7513449860702979, total= 5.7min\n",
      "[Parallel(n_jobs=-1)]: Done  72 out of  75 | elapsed: 51.8min remaining:  2.2min\n",
      "[CV]  max_depth=18, min_samples_leaf=65, min_samples_split=2, n_estimators=40, score=0.7474089050718153, total= 4.7min\n",
      "[CV]  max_depth=18, min_samples_leaf=65, min_samples_split=2, n_estimators=40, score=0.7498883311174913, total= 4.8min\n",
      "[CV]  max_depth=18, min_samples_leaf=65, min_samples_split=2, n_estimators=40, score=0.7505593182929571, total= 4.7min\n",
      "[Parallel(n_jobs=-1)]: Done  75 out of  75 | elapsed: 55.6min finished\n"
     ]
    },
    {
     "data": {
      "text/plain": [
       "GridSearchCV(cv=3, error_score='raise',\n",
       "       estimator=RandomForestClassifier(bootstrap=True, class_weight=None, criterion='gini',\n",
       "            max_depth=None, max_features='auto', max_leaf_nodes=None,\n",
       "            min_impurity_decrease=0.0, min_impurity_split=None,\n",
       "            min_samples_leaf=1, min_samples_split=2,\n",
       "            min_weight_fraction_leaf=0.0, n_estimators=10, n_jobs=1,\n",
       "            oob_score=False, random_state=0, verbose=0, warm_start=False),\n",
       "       fit_params=None, iid=True, n_jobs=-1,\n",
       "       param_grid={'max_depth': [14, 15, 16, 17, 18], 'min_samples_leaf': [61, 62, 63, 64, 65], 'min_samples_split': [2], 'n_estimators': [40]},\n",
       "       pre_dispatch='2*n_jobs', refit=True, return_train_score=True,\n",
       "       scoring='roc_auc', verbose=51)"
      ]
     },
     "execution_count": 23,
     "metadata": {},
     "output_type": "execute_result"
    }
   ],
   "source": [
    "param_dist_dict =  { 'max_depth' :         [14,15,16,17,18],\n",
    "                     'min_samples_leaf' :  [61,62,63,64,65],\n",
    "                     'min_samples_split' : [2], \n",
    "                     'n_estimators':       [40],\n",
    "                    }\n",
    "\n",
    "forest_reg = RandomForestClassifier(random_state=0,\n",
    "                                    class_weight = None)\n",
    "\n",
    "my_grid_search = GridSearchCV(forest_reg, \n",
    "                                param_dist_dict, \n",
    "                                cv = 3,\n",
    "                                return_train_score = True , \n",
    "                                scoring = 'roc_auc',\n",
    "                                n_jobs = -1, \n",
    "                                refit = True,\n",
    "                                verbose = 51, \n",
    "                                        )\n",
    "\n",
    "my_grid_search.fit(total_df_piped, total_df['TARGET'])"
   ]
  },
  {
   "cell_type": "code",
   "execution_count": null,
   "metadata": {
    "hidden": true
   },
   "outputs": [],
   "source": []
  },
  {
   "cell_type": "code",
   "execution_count": 24,
   "metadata": {
    "collapsed": true,
    "hidden": true
   },
   "outputs": [
    {
     "data": {
      "text/html": [
       "<div>\n",
       "<style scoped>\n",
       "    .dataframe tbody tr th:only-of-type {\n",
       "        vertical-align: middle;\n",
       "    }\n",
       "\n",
       "    .dataframe tbody tr th {\n",
       "        vertical-align: top;\n",
       "    }\n",
       "\n",
       "    .dataframe thead th {\n",
       "        text-align: right;\n",
       "    }\n",
       "</style>\n",
       "<table border=\"1\" class=\"dataframe\">\n",
       "  <thead>\n",
       "    <tr style=\"text-align: right;\">\n",
       "      <th></th>\n",
       "      <th>params</th>\n",
       "      <th>mean_test_score</th>\n",
       "    </tr>\n",
       "  </thead>\n",
       "  <tbody>\n",
       "    <tr>\n",
       "      <th>0</th>\n",
       "      <td>{'max_depth': 14, 'min_samples_leaf': 61, 'min_samples_split': 2, 'n_estimators': 40}</td>\n",
       "      <td>0.749026</td>\n",
       "    </tr>\n",
       "    <tr>\n",
       "      <th>1</th>\n",
       "      <td>{'max_depth': 14, 'min_samples_leaf': 62, 'min_samples_split': 2, 'n_estimators': 40}</td>\n",
       "      <td>0.749254</td>\n",
       "    </tr>\n",
       "    <tr>\n",
       "      <th>2</th>\n",
       "      <td>{'max_depth': 14, 'min_samples_leaf': 63, 'min_samples_split': 2, 'n_estimators': 40}</td>\n",
       "      <td>0.749186</td>\n",
       "    </tr>\n",
       "    <tr>\n",
       "      <th>3</th>\n",
       "      <td>{'max_depth': 14, 'min_samples_leaf': 64, 'min_samples_split': 2, 'n_estimators': 40}</td>\n",
       "      <td>0.749308</td>\n",
       "    </tr>\n",
       "    <tr>\n",
       "      <th>4</th>\n",
       "      <td>{'max_depth': 14, 'min_samples_leaf': 65, 'min_samples_split': 2, 'n_estimators': 40}</td>\n",
       "      <td>0.748971</td>\n",
       "    </tr>\n",
       "    <tr>\n",
       "      <th>5</th>\n",
       "      <td>{'max_depth': 15, 'min_samples_leaf': 61, 'min_samples_split': 2, 'n_estimators': 40}</td>\n",
       "      <td>0.749518</td>\n",
       "    </tr>\n",
       "    <tr>\n",
       "      <th>6</th>\n",
       "      <td>{'max_depth': 15, 'min_samples_leaf': 62, 'min_samples_split': 2, 'n_estimators': 40}</td>\n",
       "      <td>0.749568</td>\n",
       "    </tr>\n",
       "    <tr>\n",
       "      <th>7</th>\n",
       "      <td>{'max_depth': 15, 'min_samples_leaf': 63, 'min_samples_split': 2, 'n_estimators': 40}</td>\n",
       "      <td>0.749655</td>\n",
       "    </tr>\n",
       "    <tr>\n",
       "      <th>8</th>\n",
       "      <td>{'max_depth': 15, 'min_samples_leaf': 64, 'min_samples_split': 2, 'n_estimators': 40}</td>\n",
       "      <td>0.749639</td>\n",
       "    </tr>\n",
       "    <tr>\n",
       "      <th>9</th>\n",
       "      <td>{'max_depth': 15, 'min_samples_leaf': 65, 'min_samples_split': 2, 'n_estimators': 40}</td>\n",
       "      <td>0.749503</td>\n",
       "    </tr>\n",
       "    <tr>\n",
       "      <th>10</th>\n",
       "      <td>{'max_depth': 16, 'min_samples_leaf': 61, 'min_samples_split': 2, 'n_estimators': 40}</td>\n",
       "      <td>0.749125</td>\n",
       "    </tr>\n",
       "    <tr>\n",
       "      <th>11</th>\n",
       "      <td>{'max_depth': 16, 'min_samples_leaf': 62, 'min_samples_split': 2, 'n_estimators': 40}</td>\n",
       "      <td>0.749122</td>\n",
       "    </tr>\n",
       "    <tr>\n",
       "      <th>12</th>\n",
       "      <td>{'max_depth': 16, 'min_samples_leaf': 63, 'min_samples_split': 2, 'n_estimators': 40}</td>\n",
       "      <td>0.749159</td>\n",
       "    </tr>\n",
       "    <tr>\n",
       "      <th>13</th>\n",
       "      <td>{'max_depth': 16, 'min_samples_leaf': 64, 'min_samples_split': 2, 'n_estimators': 40}</td>\n",
       "      <td>0.749245</td>\n",
       "    </tr>\n",
       "    <tr>\n",
       "      <th>14</th>\n",
       "      <td>{'max_depth': 16, 'min_samples_leaf': 65, 'min_samples_split': 2, 'n_estimators': 40}</td>\n",
       "      <td>0.749486</td>\n",
       "    </tr>\n",
       "    <tr>\n",
       "      <th>15</th>\n",
       "      <td>{'max_depth': 17, 'min_samples_leaf': 61, 'min_samples_split': 2, 'n_estimators': 40}</td>\n",
       "      <td>0.749336</td>\n",
       "    </tr>\n",
       "    <tr>\n",
       "      <th>16</th>\n",
       "      <td>{'max_depth': 17, 'min_samples_leaf': 62, 'min_samples_split': 2, 'n_estimators': 40}</td>\n",
       "      <td>0.749202</td>\n",
       "    </tr>\n",
       "    <tr>\n",
       "      <th>17</th>\n",
       "      <td>{'max_depth': 17, 'min_samples_leaf': 63, 'min_samples_split': 2, 'n_estimators': 40}</td>\n",
       "      <td>0.749488</td>\n",
       "    </tr>\n",
       "    <tr>\n",
       "      <th>18</th>\n",
       "      <td>{'max_depth': 17, 'min_samples_leaf': 64, 'min_samples_split': 2, 'n_estimators': 40}</td>\n",
       "      <td>0.749103</td>\n",
       "    </tr>\n",
       "    <tr>\n",
       "      <th>19</th>\n",
       "      <td>{'max_depth': 17, 'min_samples_leaf': 65, 'min_samples_split': 2, 'n_estimators': 40}</td>\n",
       "      <td>0.749525</td>\n",
       "    </tr>\n",
       "    <tr>\n",
       "      <th>20</th>\n",
       "      <td>{'max_depth': 18, 'min_samples_leaf': 61, 'min_samples_split': 2, 'n_estimators': 40}</td>\n",
       "      <td>0.749129</td>\n",
       "    </tr>\n",
       "    <tr>\n",
       "      <th>21</th>\n",
       "      <td>{'max_depth': 18, 'min_samples_leaf': 62, 'min_samples_split': 2, 'n_estimators': 40}</td>\n",
       "      <td>0.748927</td>\n",
       "    </tr>\n",
       "    <tr>\n",
       "      <th>22</th>\n",
       "      <td>{'max_depth': 18, 'min_samples_leaf': 63, 'min_samples_split': 2, 'n_estimators': 40}</td>\n",
       "      <td>0.748985</td>\n",
       "    </tr>\n",
       "    <tr>\n",
       "      <th>23</th>\n",
       "      <td>{'max_depth': 18, 'min_samples_leaf': 64, 'min_samples_split': 2, 'n_estimators': 40}</td>\n",
       "      <td>0.749233</td>\n",
       "    </tr>\n",
       "    <tr>\n",
       "      <th>24</th>\n",
       "      <td>{'max_depth': 18, 'min_samples_leaf': 65, 'min_samples_split': 2, 'n_estimators': 40}</td>\n",
       "      <td>0.749286</td>\n",
       "    </tr>\n",
       "  </tbody>\n",
       "</table>\n",
       "</div>"
      ],
      "text/plain": [
       "                                                                                   params  \\\n",
       "0   {'max_depth': 14, 'min_samples_leaf': 61, 'min_samples_split': 2, 'n_estimators': 40}   \n",
       "1   {'max_depth': 14, 'min_samples_leaf': 62, 'min_samples_split': 2, 'n_estimators': 40}   \n",
       "2   {'max_depth': 14, 'min_samples_leaf': 63, 'min_samples_split': 2, 'n_estimators': 40}   \n",
       "3   {'max_depth': 14, 'min_samples_leaf': 64, 'min_samples_split': 2, 'n_estimators': 40}   \n",
       "4   {'max_depth': 14, 'min_samples_leaf': 65, 'min_samples_split': 2, 'n_estimators': 40}   \n",
       "5   {'max_depth': 15, 'min_samples_leaf': 61, 'min_samples_split': 2, 'n_estimators': 40}   \n",
       "6   {'max_depth': 15, 'min_samples_leaf': 62, 'min_samples_split': 2, 'n_estimators': 40}   \n",
       "7   {'max_depth': 15, 'min_samples_leaf': 63, 'min_samples_split': 2, 'n_estimators': 40}   \n",
       "8   {'max_depth': 15, 'min_samples_leaf': 64, 'min_samples_split': 2, 'n_estimators': 40}   \n",
       "9   {'max_depth': 15, 'min_samples_leaf': 65, 'min_samples_split': 2, 'n_estimators': 40}   \n",
       "10  {'max_depth': 16, 'min_samples_leaf': 61, 'min_samples_split': 2, 'n_estimators': 40}   \n",
       "11  {'max_depth': 16, 'min_samples_leaf': 62, 'min_samples_split': 2, 'n_estimators': 40}   \n",
       "12  {'max_depth': 16, 'min_samples_leaf': 63, 'min_samples_split': 2, 'n_estimators': 40}   \n",
       "13  {'max_depth': 16, 'min_samples_leaf': 64, 'min_samples_split': 2, 'n_estimators': 40}   \n",
       "14  {'max_depth': 16, 'min_samples_leaf': 65, 'min_samples_split': 2, 'n_estimators': 40}   \n",
       "15  {'max_depth': 17, 'min_samples_leaf': 61, 'min_samples_split': 2, 'n_estimators': 40}   \n",
       "16  {'max_depth': 17, 'min_samples_leaf': 62, 'min_samples_split': 2, 'n_estimators': 40}   \n",
       "17  {'max_depth': 17, 'min_samples_leaf': 63, 'min_samples_split': 2, 'n_estimators': 40}   \n",
       "18  {'max_depth': 17, 'min_samples_leaf': 64, 'min_samples_split': 2, 'n_estimators': 40}   \n",
       "19  {'max_depth': 17, 'min_samples_leaf': 65, 'min_samples_split': 2, 'n_estimators': 40}   \n",
       "20  {'max_depth': 18, 'min_samples_leaf': 61, 'min_samples_split': 2, 'n_estimators': 40}   \n",
       "21  {'max_depth': 18, 'min_samples_leaf': 62, 'min_samples_split': 2, 'n_estimators': 40}   \n",
       "22  {'max_depth': 18, 'min_samples_leaf': 63, 'min_samples_split': 2, 'n_estimators': 40}   \n",
       "23  {'max_depth': 18, 'min_samples_leaf': 64, 'min_samples_split': 2, 'n_estimators': 40}   \n",
       "24  {'max_depth': 18, 'min_samples_leaf': 65, 'min_samples_split': 2, 'n_estimators': 40}   \n",
       "\n",
       "    mean_test_score  \n",
       "0   0.749026         \n",
       "1   0.749254         \n",
       "2   0.749186         \n",
       "3   0.749308         \n",
       "4   0.748971         \n",
       "5   0.749518         \n",
       "6   0.749568         \n",
       "7   0.749655         \n",
       "8   0.749639         \n",
       "9   0.749503         \n",
       "10  0.749125         \n",
       "11  0.749122         \n",
       "12  0.749159         \n",
       "13  0.749245         \n",
       "14  0.749486         \n",
       "15  0.749336         \n",
       "16  0.749202         \n",
       "17  0.749488         \n",
       "18  0.749103         \n",
       "19  0.749525         \n",
       "20  0.749129         \n",
       "21  0.748927         \n",
       "22  0.748985         \n",
       "23  0.749233         \n",
       "24  0.749286         "
      ]
     },
     "execution_count": 24,
     "metadata": {},
     "output_type": "execute_result"
    }
   ],
   "source": [
    "pd.set_option('display.max_colwidth', -1)\n",
    "pd.DataFrame(my_grid_search.cv_results_)[['params','mean_test_score']]"
   ]
  },
  {
   "cell_type": "code",
   "execution_count": null,
   "metadata": {
    "hidden": true
   },
   "outputs": [],
   "source": []
  },
  {
   "cell_type": "code",
   "execution_count": 25,
   "metadata": {
    "hidden": true
   },
   "outputs": [
    {
     "data": {
      "text/plain": [
       "{'max_depth': 15,\n",
       " 'min_samples_leaf': 63,\n",
       " 'min_samples_split': 2,\n",
       " 'n_estimators': 40}"
      ]
     },
     "execution_count": 25,
     "metadata": {},
     "output_type": "execute_result"
    }
   ],
   "source": [
    "RF_optimized_parms = my_grid_search.best_params_\n",
    "RF_optimized_parms"
   ]
  },
  {
   "cell_type": "code",
   "execution_count": null,
   "metadata": {
    "hidden": true
   },
   "outputs": [],
   "source": []
  },
  {
   "cell_type": "code",
   "execution_count": 26,
   "metadata": {
    "hidden": true
   },
   "outputs": [
    {
     "data": {
      "text/plain": [
       "0.7496549981982892"
      ]
     },
     "execution_count": 26,
     "metadata": {},
     "output_type": "execute_result"
    }
   ],
   "source": [
    "my_grid_search.best_score_"
   ]
  },
  {
   "cell_type": "code",
   "execution_count": null,
   "metadata": {
    "hidden": true
   },
   "outputs": [],
   "source": []
  },
  {
   "cell_type": "code",
   "execution_count": 27,
   "metadata": {
    "hidden": true
   },
   "outputs": [],
   "source": [
    "#pd.DataFrame(my_grid_search.cv_results_)"
   ]
  },
  {
   "cell_type": "code",
   "execution_count": null,
   "metadata": {
    "hidden": true
   },
   "outputs": [],
   "source": []
  },
  {
   "cell_type": "code",
   "execution_count": 28,
   "metadata": {
    "hidden": true
   },
   "outputs": [
    {
     "data": {
      "text/plain": [
       "0.8498758422290261"
      ]
     },
     "execution_count": 28,
     "metadata": {},
     "output_type": "execute_result"
    }
   ],
   "source": [
    "train_scores = [x[1] for x in my_grid_search.predict_proba(total_df_piped)]\n",
    "roc_auc_score(total_df['TARGET'], train_scores)"
   ]
  },
  {
   "cell_type": "code",
   "execution_count": null,
   "metadata": {
    "hidden": true
   },
   "outputs": [],
   "source": []
  },
  {
   "cell_type": "code",
   "execution_count": 29,
   "metadata": {
    "hidden": true
   },
   "outputs": [],
   "source": [
    "del my_grid_search"
   ]
  },
  {
   "cell_type": "code",
   "execution_count": null,
   "metadata": {
    "hidden": true
   },
   "outputs": [],
   "source": []
  },
  {
   "cell_type": "markdown",
   "metadata": {
    "heading_collapsed": true
   },
   "source": [
    "### DONE. log reg grid search, on EXT sources with poly interactions"
   ]
  },
  {
   "cell_type": "code",
   "execution_count": 30,
   "metadata": {
    "hidden": true
   },
   "outputs": [
    {
     "name": "stdout",
     "output_type": "stream",
     "text": [
      "Total original feat len is 3. Sum of feats is 3.\n",
      "Final array is length 35. final feature list is length 35.\n"
     ]
    }
   ],
   "source": [
    "total_df_piped, final_feature_list, total_pipeline, trans_list = \\\n",
    "master_pipeline(df_in = total_df[['EXT_SOURCE_1','EXT_SOURCE_2',\n",
    "                                         'EXT_SOURCE_3']],\n",
    "                        int_cutoff=20, \n",
    "                        poly_deg=4, \n",
    "                        feats_with_interaction=['EXT_SOURCE_1','EXT_SOURCE_2',\n",
    "                                               'EXT_SOURCE_3']\n",
    "               )\n"
   ]
  },
  {
   "cell_type": "code",
   "execution_count": null,
   "metadata": {
    "hidden": true
   },
   "outputs": [],
   "source": []
  },
  {
   "cell_type": "raw",
   "metadata": {
    "hidden": true
   },
   "source": [
    "Results:\n",
    "\n",
    "input:\n",
    "param_grid = [{ 'C' : [.01,.02,.05,.1,.2,1,2,5,10] }]\n",
    "output:\n",
    "{'C': 10}\n",
    "T_score = 0.6644216364535465, V_score = 0.6715860011977025\n",
    "\n",
    "input:\n",
    "param_grid = [{ 'C' : [6,7,8,9,10,11,12,15,20,30,40,50] }]\n",
    "output:\n",
    "{'C': 30}\n",
    "T_score = 0.6644275192175465, V_score = 0.6713180184470813\n",
    "\n",
    "input: \n",
    "param_grid = [{ 'C' : [25,26,27,28,29,30,31,32,33,34,35,36,37,38,39] }]\n",
    "output: \n",
    "{'C': 27}\n",
    "T_score = 0.6644235896873112, V_score = 0.6715353604020436\n",
    "\n",
    " ************************************************************************ \n",
    " At this point I switched to class_weight = None and auc_roc w/ pred_proba\n",
    " ************************************************************************\n",
    " \n",
    "input:[{ 'C' : [26,26.25,26.5,26.75,27,27.25,27.5,27.75,28] }]\n",
    " \n",
    "output:\n",
    " {'C': 28}\n",
    "T_score = 0.7245672034420737, V_score = 0.731962509258422\n",
    "\n",
    "input: param_grid = [{ 'C' : [27.5,28,28.5,29,29.5,30,30.5,31] }]\n",
    "\n",
    "output:\n",
    "{'C': 28}\n",
    "T_score = 0.7245672034420737 , V_score = 0.731962509258422\n",
    "\n",
    " ************************************************************************ \n",
    " At this point I switched to full set for training.\n",
    " ************************************************************************\n",
    "\n",
    "\n",
    "input:\n",
    "param_grid = [{ 'C' : [27.5,28,28.5,29,29.5,30,30.5,31] }]\n",
    "output:{'C': 30.5}\n",
    "best_score = 0.7256419872244535, train_score = 0.7258789804884163"
   ]
  },
  {
   "cell_type": "code",
   "execution_count": null,
   "metadata": {
    "hidden": true
   },
   "outputs": [],
   "source": []
  },
  {
   "cell_type": "code",
   "execution_count": 32,
   "metadata": {
    "hidden": true,
    "scrolled": true
   },
   "outputs": [
    {
     "name": "stdout",
     "output_type": "stream",
     "text": [
      "Fitting 3 folds for each of 8 candidates, totalling 24 fits\n",
      "[CV] C=27.5 ..........................................................\n",
      "Memmaping (shape=(307511, 35), dtype=float64) to new file /dev/shm/joblib_memmaping_pool_3496_140630282662296/3496-140630235858760-b675758a20e22f3b4e24b10b420720d1.pkl\n",
      "Memmaping (shape=(307511,), dtype=int64) to new file /dev/shm/joblib_memmaping_pool_3496_140630282662296/3496-140630235858760-36f41ebc26c9047822d0779f2962f9e3.pkl\n",
      "Memmaping (shape=(307511,), dtype=int64) to new file /dev/shm/joblib_memmaping_pool_3496_140630282662296/3496-140630235858760-7fee98903a11851f0c36b343c7ef5338.pkl\n",
      "Memmaping (shape=(205007,), dtype=int64) to new file /dev/shm/joblib_memmaping_pool_3496_140630282662296/3496-140630235858760-981b55e712abb5a5a2369212f2856f0a.pkl\n",
      "[CV] C=27.5 ..........................................................\n",
      "[CV] C=27.5 ..........................................................\n",
      "Memmaping (shape=(205007,), dtype=int64) to new file /dev/shm/joblib_memmaping_pool_3496_140630282662296/3496-140630235858760-52b45483e9e8ae50702a4dfc49cfc8ef.pkl\n",
      "Memmaping (shape=(205008,), dtype=int64) to new file /dev/shm/joblib_memmaping_pool_3496_140630282662296/3496-140630235858760-14cff63d81a68491cd383c416c29ffaa.pkl\n",
      "[CV] C=28 ............................................................\n",
      "[CV] C=28 ............................................................\n",
      "[CV] C=28 ............................................................\n",
      "[CV] C=28.5 ..........................................................\n",
      "[CV] C=28.5 ..........................................................\n",
      "[CV] ................. C=27.5, score=0.7229359400488602, total=  12.0s\n",
      "[CV] C=28.5 ..........................................................\n",
      "[Parallel(n_jobs=-1)]: Done   1 tasks      | elapsed:   12.6s\n",
      "[CV] ..................... C=28, score=0.72293589644486, total=  12.4s\n",
      "[CV] C=29 ............................................................\n",
      "[Parallel(n_jobs=-1)]: Done   2 tasks      | elapsed:   13.5s\n",
      "[CV] .................. C=28.5, score=0.722936658232392, total=  12.5s\n",
      "[CV] C=29 ............................................................\n",
      "[CV] ................. C=27.5, score=0.7291996849705805, total=  13.5s\n",
      "[Parallel(n_jobs=-1)]: Done   3 tasks      | elapsed:   14.2s\n",
      "[Parallel(n_jobs=-1)]: Done   4 tasks      | elapsed:   14.3s\n",
      "[CV] C=29 ............................................................\n",
      "[CV] ................... C=28, score=0.7291993656320139, total=  13.5s\n",
      "[CV] C=29.5 ..........................................................\n",
      "[CV] ................... C=28, score=0.7247895839277451, total=  14.0s\n",
      "[Parallel(n_jobs=-1)]: Done   5 tasks      | elapsed:   14.7s\n",
      "[Parallel(n_jobs=-1)]: Done   6 tasks      | elapsed:   14.9s\n",
      "[CV] C=29.5 ..........................................................\n",
      "[CV] ................. C=27.5, score=0.7247895287815096, total=  14.9s\n",
      "[CV] C=29.5 ..........................................................\n",
      "[Parallel(n_jobs=-1)]: Done   7 tasks      | elapsed:   15.3s\n",
      "[CV] .................. C=28.5, score=0.724789973798805, total=  14.3s\n",
      "[CV] C=30 ............................................................\n",
      "[Parallel(n_jobs=-1)]: Done   8 tasks      | elapsed:   15.8s\n",
      "[CV] ................... C=29, score=0.7229367005539216, total=  11.8s\n",
      "[CV] C=30 ............................................................\n",
      "[Parallel(n_jobs=-1)]: Done   9 tasks      | elapsed:   26.1s\n",
      "[CV] .................. C=28.5, score=0.729199301507804, total=  13.6s\n",
      "[CV] C=30 ............................................................\n",
      "[Parallel(n_jobs=-1)]: Done  10 out of  24 | elapsed:   26.4s remaining:   36.9s\n",
      "[CV] ................. C=29.5, score=0.7229372327792174, total=  11.6s\n",
      "[CV] C=30.5 ..........................................................\n",
      "[Parallel(n_jobs=-1)]: Done  11 out of  24 | elapsed:   26.9s remaining:   31.8s\n",
      "[CV] ................... C=29, score=0.7291978369108443, total=  12.9s\n",
      "[CV] ................... C=29, score=0.7247900366398642, total=  13.8s\n",
      "[CV] C=30.5 ..........................................................\n",
      "[Parallel(n_jobs=-1)]: Done  12 out of  24 | elapsed:   27.5s remaining:   27.5s\n",
      "[Parallel(n_jobs=-1)]: Done  13 out of  24 | elapsed:   27.5s remaining:   23.3s\n",
      "[CV] C=30.5 ..........................................................\n",
      "[CV] .................. C=29.5, score=0.729197182843901, total=  12.6s\n",
      "[CV] C=31 ............................................................\n",
      "[Parallel(n_jobs=-1)]: Done  14 out of  24 | elapsed:   28.0s remaining:   20.0s\n",
      "[CV] ................. C=29.5, score=0.7247894287488034, total=  13.9s\n",
      "[CV] C=31 ............................................................\n",
      "[Parallel(n_jobs=-1)]: Done  15 out of  24 | elapsed:   28.8s remaining:   17.3s\n",
      "[CV] ................... C=30, score=0.7247901418024528, total=  13.1s\n",
      "[CV] C=31 ............................................................\n",
      "[Parallel(n_jobs=-1)]: Done  16 out of  24 | elapsed:   29.1s remaining:   14.6s\n",
      "[CV] ................... C=30, score=0.7229372866429822, total=  11.7s\n",
      "[Parallel(n_jobs=-1)]: Done  17 out of  24 | elapsed:   38.0s remaining:   15.6s\n",
      "[CV] ................... C=30, score=0.7291967173021354, total=  12.8s\n",
      "[Parallel(n_jobs=-1)]: Done  18 out of  24 | elapsed:   39.3s remaining:   13.1s\n",
      "[CV] ................... C=31, score=0.7229389320527522, total=  11.3s\n",
      "[CV] ................. C=30.5, score=0.7247914896790453, total=  13.3s\n",
      "[CV] ................... C=31, score=0.7247910125999849, total=  12.1s\n",
      "[Parallel(n_jobs=-1)]: Done  19 out of  24 | elapsed:   40.3s remaining:   10.6s\n",
      "[Parallel(n_jobs=-1)]: Done  20 out of  24 | elapsed:   40.3s remaining:    8.1s\n",
      "[Parallel(n_jobs=-1)]: Done  21 out of  24 | elapsed:   40.3s remaining:    5.8s\n",
      "[CV] ................. C=30.5, score=0.7291963274269379, total=  12.7s\n",
      "[Parallel(n_jobs=-1)]: Done  22 out of  24 | elapsed:   40.5s remaining:    3.7s\n",
      "[CV] ................. C=30.5, score=0.7229381792425146, total=  13.2s\n",
      "[CV] ................... C=31, score=0.7291959734612978, total=  12.1s\n",
      "[Parallel(n_jobs=-1)]: Done  24 out of  24 | elapsed:   41.3s remaining:    0.0s\n",
      "[Parallel(n_jobs=-1)]: Done  24 out of  24 | elapsed:   41.3s finished\n"
     ]
    },
    {
     "data": {
      "text/plain": [
       "GridSearchCV(cv=3, error_score='raise',\n",
       "       estimator=LogisticRegression(C=1.0, class_weight=None, dual=False, fit_intercept=True,\n",
       "          intercept_scaling=1, max_iter=100, multi_class='ovr', n_jobs=1,\n",
       "          penalty='l2', random_state=0, solver='liblinear', tol=0.0001,\n",
       "          verbose=0, warm_start=False),\n",
       "       fit_params=None, iid=True, n_jobs=-1,\n",
       "       param_grid=[{'C': [27.5, 28, 28.5, 29, 29.5, 30, 30.5, 31]}],\n",
       "       pre_dispatch='2*n_jobs', refit=True, return_train_score=True,\n",
       "       scoring='roc_auc', verbose=51)"
      ]
     },
     "execution_count": 32,
     "metadata": {},
     "output_type": "execute_result"
    }
   ],
   "source": [
    "param_grid = [{ 'C' : [27.5,28,28.5,29,29.5,30,30.5,31] }]\n",
    "\n",
    "my_LgRg = LogisticRegression(penalty= 'l2', \n",
    "                            random_state = 0, \n",
    "                            class_weight = None) \n",
    "\n",
    "my_LgRg_grid_search = GridSearchCV(my_LgRg, \n",
    "                                   param_grid, \n",
    "                                   cv = 3, # for integer inputs, Stratified folding is default. \n",
    "                                   return_train_score = True , \n",
    "                                   scoring = 'roc_auc',\n",
    "                                   n_jobs = -1, \n",
    "                                   refit = True,\n",
    "                                   verbose = 51, \n",
    "                                    )\n",
    "\n",
    "my_LgRg_grid_search.fit(total_df_piped, \n",
    "                        total_df['TARGET'])"
   ]
  },
  {
   "cell_type": "code",
   "execution_count": null,
   "metadata": {
    "hidden": true
   },
   "outputs": [],
   "source": []
  },
  {
   "cell_type": "code",
   "execution_count": 33,
   "metadata": {
    "hidden": true
   },
   "outputs": [
    {
     "data": {
      "text/html": [
       "<div>\n",
       "<style scoped>\n",
       "    .dataframe tbody tr th:only-of-type {\n",
       "        vertical-align: middle;\n",
       "    }\n",
       "\n",
       "    .dataframe tbody tr th {\n",
       "        vertical-align: top;\n",
       "    }\n",
       "\n",
       "    .dataframe thead th {\n",
       "        text-align: right;\n",
       "    }\n",
       "</style>\n",
       "<table border=\"1\" class=\"dataframe\">\n",
       "  <thead>\n",
       "    <tr style=\"text-align: right;\">\n",
       "      <th></th>\n",
       "      <th>params</th>\n",
       "      <th>mean_test_score</th>\n",
       "    </tr>\n",
       "  </thead>\n",
       "  <tbody>\n",
       "    <tr>\n",
       "      <th>0</th>\n",
       "      <td>{'C': 27.5}</td>\n",
       "      <td>0.725642</td>\n",
       "    </tr>\n",
       "    <tr>\n",
       "      <th>1</th>\n",
       "      <td>{'C': 28}</td>\n",
       "      <td>0.725642</td>\n",
       "    </tr>\n",
       "    <tr>\n",
       "      <th>2</th>\n",
       "      <td>{'C': 28.5}</td>\n",
       "      <td>0.725642</td>\n",
       "    </tr>\n",
       "    <tr>\n",
       "      <th>3</th>\n",
       "      <td>{'C': 29}</td>\n",
       "      <td>0.725642</td>\n",
       "    </tr>\n",
       "    <tr>\n",
       "      <th>4</th>\n",
       "      <td>{'C': 29.5}</td>\n",
       "      <td>0.725641</td>\n",
       "    </tr>\n",
       "    <tr>\n",
       "      <th>5</th>\n",
       "      <td>{'C': 30}</td>\n",
       "      <td>0.725641</td>\n",
       "    </tr>\n",
       "    <tr>\n",
       "      <th>6</th>\n",
       "      <td>{'C': 30.5}</td>\n",
       "      <td>0.725642</td>\n",
       "    </tr>\n",
       "    <tr>\n",
       "      <th>7</th>\n",
       "      <td>{'C': 31}</td>\n",
       "      <td>0.725642</td>\n",
       "    </tr>\n",
       "  </tbody>\n",
       "</table>\n",
       "</div>"
      ],
      "text/plain": [
       "        params  mean_test_score\n",
       "0  {'C': 27.5}  0.725642       \n",
       "1  {'C': 28}    0.725642       \n",
       "2  {'C': 28.5}  0.725642       \n",
       "3  {'C': 29}    0.725642       \n",
       "4  {'C': 29.5}  0.725641       \n",
       "5  {'C': 30}    0.725641       \n",
       "6  {'C': 30.5}  0.725642       \n",
       "7  {'C': 31}    0.725642       "
      ]
     },
     "execution_count": 33,
     "metadata": {},
     "output_type": "execute_result"
    }
   ],
   "source": [
    "pd.set_option('display.max_colwidth', -1)\n",
    "pd.DataFrame(my_LgRg_grid_search.cv_results_)[['params','mean_test_score']]"
   ]
  },
  {
   "cell_type": "code",
   "execution_count": null,
   "metadata": {
    "hidden": true
   },
   "outputs": [],
   "source": []
  },
  {
   "cell_type": "code",
   "execution_count": 34,
   "metadata": {
    "hidden": true
   },
   "outputs": [
    {
     "data": {
      "text/plain": [
       "{'C': 30.5}"
      ]
     },
     "execution_count": 34,
     "metadata": {},
     "output_type": "execute_result"
    }
   ],
   "source": [
    "LgRg_optimized_parms = my_LgRg_grid_search.best_params_\n",
    "my_LgRg_grid_search.best_params_"
   ]
  },
  {
   "cell_type": "code",
   "execution_count": null,
   "metadata": {
    "hidden": true
   },
   "outputs": [],
   "source": []
  },
  {
   "cell_type": "code",
   "execution_count": 35,
   "metadata": {
    "hidden": true
   },
   "outputs": [
    {
     "data": {
      "text/plain": [
       "0.7256419872244535"
      ]
     },
     "execution_count": 35,
     "metadata": {},
     "output_type": "execute_result"
    }
   ],
   "source": [
    "my_LgRg_grid_search.best_score_"
   ]
  },
  {
   "cell_type": "code",
   "execution_count": null,
   "metadata": {
    "hidden": true
   },
   "outputs": [],
   "source": []
  },
  {
   "cell_type": "code",
   "execution_count": 36,
   "metadata": {
    "hidden": true
   },
   "outputs": [],
   "source": [
    "#pd.DataFrame(my_LgRg_grid_search.cv_results_)"
   ]
  },
  {
   "cell_type": "code",
   "execution_count": null,
   "metadata": {
    "hidden": true
   },
   "outputs": [],
   "source": []
  },
  {
   "cell_type": "code",
   "execution_count": 37,
   "metadata": {
    "hidden": true
   },
   "outputs": [
    {
     "data": {
      "text/plain": [
       "0.7258789804884163"
      ]
     },
     "execution_count": 37,
     "metadata": {},
     "output_type": "execute_result"
    }
   ],
   "source": [
    "train_scores = [x[1] for x in my_LgRg_grid_search.predict_proba(total_df_piped)]\n",
    "roc_auc_score(total_df['TARGET'], train_scores)"
   ]
  },
  {
   "cell_type": "code",
   "execution_count": null,
   "metadata": {
    "hidden": true
   },
   "outputs": [],
   "source": []
  },
  {
   "cell_type": "code",
   "execution_count": 38,
   "metadata": {
    "hidden": true
   },
   "outputs": [],
   "source": [
    "del my_LgRg_grid_search"
   ]
  },
  {
   "cell_type": "code",
   "execution_count": null,
   "metadata": {
    "hidden": true
   },
   "outputs": [],
   "source": []
  },
  {
   "cell_type": "markdown",
   "metadata": {
    "heading_collapsed": true
   },
   "source": [
    "### DONE. log reg grid search, on all features"
   ]
  },
  {
   "cell_type": "code",
   "execution_count": null,
   "metadata": {
    "hidden": true
   },
   "outputs": [],
   "source": []
  },
  {
   "cell_type": "code",
   "execution_count": 39,
   "metadata": {
    "hidden": true,
    "scrolled": true
   },
   "outputs": [
    {
     "name": "stdout",
     "output_type": "stream",
     "text": [
      "Total original feat len is 85. Sum of feats is 85.\n",
      "Final array is length 417. final feature list is length 417.\n"
     ]
    }
   ],
   "source": [
    "total_df_piped, final_feature_list, total_pipeline, trans_list = master_pipeline(df_in = total_df,\n",
    "                                                                                         int_cutoff=20, \n",
    "                                                                                         poly_deg=4, \n",
    "                                                                                         feats_with_interaction=[])"
   ]
  },
  {
   "cell_type": "code",
   "execution_count": null,
   "metadata": {
    "hidden": true
   },
   "outputs": [],
   "source": []
  },
  {
   "cell_type": "raw",
   "metadata": {
    "hidden": true
   },
   "source": [
    "Results: \n",
    "input:\n",
    "param_grid =[.01,.02,.05,.1,.2,1,2,5,10] \n",
    "output:\n",
    "C = 2.0\n",
    "T_score 0.700086430741929=, V_score = 0.7083853881309714\n",
    "\n",
    "input:\n",
    "param_grid = [1,1.25,1.5,1.75,2,2.25,2.5,2.75,3,3.25,3.5,3.75,4,4.5,5] \n",
    "output:\n",
    "{'C': 2}\n",
    "T_score = 0.700086430741929, V_score = 0.7083853881309714\n",
    "\n",
    "input:\n",
    "[1.75,1.8,1.85,1.9,1.95,2.0,2.05,2.1,2.15,2.2,2.25] }]\n",
    "output: \n",
    "{'C': 2.1}\n",
    "T_score = 0.7000766030725567, V_score = 0.7084207907472247\n",
    "\n",
    "input:\n",
    "param_grid = [{ 'C' : [2.0,2.02,2.04,2.05,2.1,2.13,2.15] }]\n",
    "output:\n",
    "{'C': 2.02}\n",
    "T_score = 0.7000707049334196, V_score = 0.7084119400931614\n",
    "\n",
    " ************************************************************************ \n",
    " At this point I switched to class_weight = None and auc_roc w/ pred_proba\n",
    " ************************************************************************\n",
    " \n",
    " input: [{ 'C' : [2.00,2.01,2.02,2.03,2.04] }]\n",
    " \n",
    " output:{'C': 2.04}\n",
    "T_score = 0.7692248298789864, V_score = 0.7736352317055116\n",
    "\n",
    " \n",
    "input: param_grid = [{ 'C' : [2.00,2.1,2.2,2.5,2.75,3,5,10] }]\n",
    "\n",
    "output:\n",
    "{'C': 5}\n",
    "T_score = 0.769428255558488, V_score = 0.7735895383706987\n",
    "\n",
    "input:\n",
    "[{ 'C' : [4,5,5.5,6,6.5,7,8,9] }]\n",
    "\n",
    "output:\n",
    "{'C': 7}\n",
    "T_score =0.7695408788320749,  V_score = 0.773595867586681\n",
    "\n",
    "\n",
    " ************************************************************************ \n",
    " At this point I switched to training on full set.\n",
    " ************************************************************************\n",
    " input:\n",
    " param_grid = [{ 'C' : [4,5,5.5,6,6.5,7,8,9] }]\n",
    " output:{'C': 5.5}\n",
    " best_score = 0.7675500818243326, train_score = 0.7709731136997777"
   ]
  },
  {
   "cell_type": "code",
   "execution_count": null,
   "metadata": {
    "hidden": true
   },
   "outputs": [],
   "source": []
  },
  {
   "cell_type": "code",
   "execution_count": 40,
   "metadata": {
    "hidden": true,
    "scrolled": true
   },
   "outputs": [
    {
     "name": "stdout",
     "output_type": "stream",
     "text": [
      "Fitting 3 folds for each of 8 candidates, totalling 24 fits\n",
      "Memmaping (shape=(73187618,), dtype=int32) to new file /dev/shm/joblib_memmaping_pool_3496_140631203124336/3496-140630279311544-9bf90f5320b696a352c12cd4001de90f.pkl\n",
      "Memmaping (shape=(307512,), dtype=int32) to new file /dev/shm/joblib_memmaping_pool_3496_140631203124336/3496-140630279311544-851f25297a32c2e0d1a0ef9235730f5f.pkl\n",
      "Memmaping (shape=(73187618,), dtype=float64) to new file /dev/shm/joblib_memmaping_pool_3496_140631203124336/3496-140630279311544-94dce670310afaed17a34e987de612cb.pkl\n",
      "[CV] C=4 .............................................................\n",
      "Memmaping (shape=(307511,), dtype=int64) to new file /dev/shm/joblib_memmaping_pool_3496_140631203124336/3496-140630279311544-36f41ebc26c9047822d0779f2962f9e3.pkl\n",
      "Memmaping (shape=(307511,), dtype=int64) to new file /dev/shm/joblib_memmaping_pool_3496_140631203124336/3496-140630279311544-7fee98903a11851f0c36b343c7ef5338.pkl\n",
      "Memmaping (shape=(205007,), dtype=int64) to new file /dev/shm/joblib_memmaping_pool_3496_140631203124336/3496-140630279311544-981b55e712abb5a5a2369212f2856f0a.pkl\n",
      "[CV] C=4 .............................................................\n",
      "Memmaping (shape=(205007,), dtype=int64) to new file /dev/shm/joblib_memmaping_pool_3496_140631203124336/3496-140630279311544-52b45483e9e8ae50702a4dfc49cfc8ef.pkl\n",
      "[CV] C=4 .............................................................\n",
      "Memmaping (shape=(205008,), dtype=int64) to new file /dev/shm/joblib_memmaping_pool_3496_140631203124336/3496-140630279311544-14cff63d81a68491cd383c416c29ffaa.pkl\n",
      "[CV] C=5 .............................................................\n",
      "[CV] C=5 .............................................................\n",
      "[CV] C=5 .............................................................\n",
      "[CV] C=5.5 ...........................................................\n",
      "[CV] C=5.5 ...........................................................\n",
      "[CV] .................... C=4, score=0.7649347852482153, total=10.5min\n",
      "[CV] C=5.5 ...........................................................\n",
      "[Parallel(n_jobs=-1)]: Done   1 tasks      | elapsed: 10.5min\n",
      "[CV] .................... C=4, score=0.7676794531442797, total=15.3min\n",
      "[CV] C=6 .............................................................\n",
      "[Parallel(n_jobs=-1)]: Done   2 tasks      | elapsed: 15.3min\n",
      "[CV] .................... C=5, score=0.7699454585118284, total=15.9min\n",
      "[CV] C=6 .............................................................\n",
      "[Parallel(n_jobs=-1)]: Done   3 tasks      | elapsed: 16.1min\n",
      "[CV] .................... C=5, score=0.7649689823265613, total=18.6min\n",
      "[CV] C=6 .............................................................\n",
      "[Parallel(n_jobs=-1)]: Done   4 tasks      | elapsed: 18.7min\n",
      "[CV] ..................... C=4, score=0.769966773399277, total=18.8min\n",
      "[CV] C=6.5 ...........................................................\n",
      "[Parallel(n_jobs=-1)]: Done   5 tasks      | elapsed: 18.9min\n",
      "[CV] .................... C=5, score=0.7676579679144454, total=19.2min\n",
      "[CV] C=6.5 ...........................................................\n",
      "[Parallel(n_jobs=-1)]: Done   6 tasks      | elapsed: 19.3min\n",
      "[CV] .................. C=5.5, score=0.7699648868650147, total=11.7min\n",
      "[CV] C=6.5 ...........................................................\n",
      "[Parallel(n_jobs=-1)]: Done   7 tasks      | elapsed: 22.3min\n",
      "[CV] .................. C=5.5, score=0.7677028749047085, total=24.3min\n",
      "[CV] C=7 .............................................................\n",
      "[Parallel(n_jobs=-1)]: Done   8 tasks      | elapsed: 24.5min\n",
      "[CV] .................. C=5.5, score=0.7649825072614287, total=27.2min\n",
      "[CV] C=7 .............................................................\n",
      "[Parallel(n_jobs=-1)]: Done   9 tasks      | elapsed: 27.4min\n",
      "[CV] .................... C=6, score=0.7649705418108017, total=15.0min\n",
      "[CV] C=7 .............................................................\n",
      "[Parallel(n_jobs=-1)]: Done  10 out of  24 | elapsed: 31.1min remaining: 43.5min\n",
      "[CV] .................. C=6.5, score=0.7699537728569144, total=13.9min\n",
      "[CV] C=8 .............................................................\n",
      "[Parallel(n_jobs=-1)]: Done  11 out of  24 | elapsed: 36.2min remaining: 42.7min\n",
      "[CV] .................... C=6, score=0.7676715043915481, total=21.2min\n",
      "[CV] C=8 .............................................................\n",
      "[Parallel(n_jobs=-1)]: Done  12 out of  24 | elapsed: 36.5min remaining: 36.5min\n",
      "[CV] .................. C=6.5, score=0.7676993506755206, total=18.4min\n",
      "[CV] C=8 .............................................................\n",
      "[Parallel(n_jobs=-1)]: Done  13 out of  24 | elapsed: 37.3min remaining: 31.6min\n",
      "[CV] .................... C=6.5, score=0.76499402769476, total=22.9min\n",
      "[CV] C=9 .............................................................\n",
      "[Parallel(n_jobs=-1)]: Done  14 out of  24 | elapsed: 42.2min remaining: 30.1min\n",
      "[CV] .................... C=7, score=0.7677061747015427, total=19.2min\n",
      "[CV] C=9 .............................................................\n",
      "[Parallel(n_jobs=-1)]: Done  15 out of  24 | elapsed: 43.7min remaining: 26.2min\n",
      "[CV] ..................... C=6, score=0.769926491852955, total=25.1min\n",
      "[CV] C=9 .............................................................\n",
      "[Parallel(n_jobs=-1)]: Done  16 out of  24 | elapsed: 43.9min remaining: 21.9min\n",
      "[CV] .................... C=8, score=0.7675468379902032, total=13.5min\n",
      "[Parallel(n_jobs=-1)]: Done  17 out of  24 | elapsed: 49.7min remaining: 20.5min\n",
      "[CV] .................... C=8, score=0.7650030524403186, total=14.8min\n",
      "[Parallel(n_jobs=-1)]: Done  18 out of  24 | elapsed: 51.3min remaining: 17.1min\n",
      "[CV] .................... C=7, score=0.7699140222590524, total=21.1min\n",
      "[Parallel(n_jobs=-1)]: Done  19 out of  24 | elapsed: 52.2min remaining: 13.7min\n",
      "[CV] .................... C=7, score=0.7650107139196377, total=28.9min\n",
      "[Parallel(n_jobs=-1)]: Done  20 out of  24 | elapsed: 56.3min remaining: 11.3min\n",
      "[CV] ..................... C=9, score=0.767607228247928, total=15.6min\n",
      "[Parallel(n_jobs=-1)]: Done  21 out of  24 | elapsed: 57.8min remaining:  8.3min\n",
      "[CV] .................... C=9, score=0.7698952236056096, total=19.8min\n",
      "[Parallel(n_jobs=-1)]: Done  22 out of  24 | elapsed: 63.7min remaining:  5.8min\n",
      "[CV] .................... C=8, score=0.7698940334602693, total=27.4min\n",
      "[CV] .................... C=9, score=0.7649949331189984, total=21.9min\n",
      "[Parallel(n_jobs=-1)]: Done  24 out of  24 | elapsed: 65.6min remaining:    0.0s\n",
      "[Parallel(n_jobs=-1)]: Done  24 out of  24 | elapsed: 65.6min finished\n"
     ]
    },
    {
     "data": {
      "text/plain": [
       "GridSearchCV(cv=3, error_score='raise',\n",
       "       estimator=LogisticRegression(C=1.0, class_weight=None, dual=False, fit_intercept=True,\n",
       "          intercept_scaling=1, max_iter=100, multi_class='ovr', n_jobs=1,\n",
       "          penalty='l2', random_state=0, solver='liblinear', tol=0.0001,\n",
       "          verbose=0, warm_start=False),\n",
       "       fit_params=None, iid=True, n_jobs=-1,\n",
       "       param_grid=[{'C': [4, 5, 5.5, 6, 6.5, 7, 8, 9]}],\n",
       "       pre_dispatch='2*n_jobs', refit=True, return_train_score=True,\n",
       "       scoring='roc_auc', verbose=51)"
      ]
     },
     "execution_count": 40,
     "metadata": {},
     "output_type": "execute_result"
    }
   ],
   "source": [
    "param_grid = [{ 'C' : [4,5,5.5,6,6.5,7,8,9] }]\n",
    "\n",
    "my_LgRg = LogisticRegression(penalty= 'l2', \n",
    "                            random_state = 0, \n",
    "                            class_weight = None) \n",
    "\n",
    "my_LgRg_grid_search = GridSearchCV(my_LgRg, \n",
    "                           param_grid, \n",
    "                           cv = 3, # for integer inputs, Stratified folding is default. \n",
    "                           return_train_score = True , \n",
    "                           scoring = 'roc_auc',\n",
    "                           n_jobs = -1, \n",
    "                           refit = True,\n",
    "                           verbose = 51,\n",
    "                            )\n",
    "\n",
    "my_LgRg_grid_search.fit(total_df_piped, \n",
    "                        total_df['TARGET'])"
   ]
  },
  {
   "cell_type": "code",
   "execution_count": null,
   "metadata": {
    "hidden": true
   },
   "outputs": [],
   "source": []
  },
  {
   "cell_type": "code",
   "execution_count": 41,
   "metadata": {
    "collapsed": true,
    "hidden": true
   },
   "outputs": [
    {
     "data": {
      "text/html": [
       "<div>\n",
       "<style scoped>\n",
       "    .dataframe tbody tr th:only-of-type {\n",
       "        vertical-align: middle;\n",
       "    }\n",
       "\n",
       "    .dataframe tbody tr th {\n",
       "        vertical-align: top;\n",
       "    }\n",
       "\n",
       "    .dataframe thead th {\n",
       "        text-align: right;\n",
       "    }\n",
       "</style>\n",
       "<table border=\"1\" class=\"dataframe\">\n",
       "  <thead>\n",
       "    <tr style=\"text-align: right;\">\n",
       "      <th></th>\n",
       "      <th>params</th>\n",
       "      <th>mean_test_score</th>\n",
       "    </tr>\n",
       "  </thead>\n",
       "  <tbody>\n",
       "    <tr>\n",
       "      <th>0</th>\n",
       "      <td>{'C': 4}</td>\n",
       "      <td>0.767527</td>\n",
       "    </tr>\n",
       "    <tr>\n",
       "      <th>1</th>\n",
       "      <td>{'C': 5}</td>\n",
       "      <td>0.767524</td>\n",
       "    </tr>\n",
       "    <tr>\n",
       "      <th>2</th>\n",
       "      <td>{'C': 5.5}</td>\n",
       "      <td>0.767550</td>\n",
       "    </tr>\n",
       "    <tr>\n",
       "      <th>3</th>\n",
       "      <td>{'C': 6}</td>\n",
       "      <td>0.767523</td>\n",
       "    </tr>\n",
       "    <tr>\n",
       "      <th>4</th>\n",
       "      <td>{'C': 6.5}</td>\n",
       "      <td>0.767549</td>\n",
       "    </tr>\n",
       "    <tr>\n",
       "      <th>5</th>\n",
       "      <td>{'C': 7}</td>\n",
       "      <td>0.767544</td>\n",
       "    </tr>\n",
       "    <tr>\n",
       "      <th>6</th>\n",
       "      <td>{'C': 8}</td>\n",
       "      <td>0.767481</td>\n",
       "    </tr>\n",
       "    <tr>\n",
       "      <th>7</th>\n",
       "      <td>{'C': 9}</td>\n",
       "      <td>0.767499</td>\n",
       "    </tr>\n",
       "  </tbody>\n",
       "</table>\n",
       "</div>"
      ],
      "text/plain": [
       "       params  mean_test_score\n",
       "0  {'C': 4}    0.767527       \n",
       "1  {'C': 5}    0.767524       \n",
       "2  {'C': 5.5}  0.767550       \n",
       "3  {'C': 6}    0.767523       \n",
       "4  {'C': 6.5}  0.767549       \n",
       "5  {'C': 7}    0.767544       \n",
       "6  {'C': 8}    0.767481       \n",
       "7  {'C': 9}    0.767499       "
      ]
     },
     "execution_count": 41,
     "metadata": {},
     "output_type": "execute_result"
    }
   ],
   "source": [
    "pd.set_option('display.max_colwidth', -1)\n",
    "pd.DataFrame(my_LgRg_grid_search.cv_results_)[['params','mean_test_score']]"
   ]
  },
  {
   "cell_type": "code",
   "execution_count": null,
   "metadata": {
    "hidden": true
   },
   "outputs": [],
   "source": []
  },
  {
   "cell_type": "code",
   "execution_count": 42,
   "metadata": {
    "hidden": true
   },
   "outputs": [
    {
     "data": {
      "text/plain": [
       "0.7675500818243326"
      ]
     },
     "execution_count": 42,
     "metadata": {},
     "output_type": "execute_result"
    }
   ],
   "source": [
    "my_LgRg_grid_search.best_score_"
   ]
  },
  {
   "cell_type": "code",
   "execution_count": null,
   "metadata": {
    "hidden": true
   },
   "outputs": [],
   "source": []
  },
  {
   "cell_type": "code",
   "execution_count": 43,
   "metadata": {
    "hidden": true
   },
   "outputs": [
    {
     "data": {
      "text/plain": [
       "{'C': 5.5}"
      ]
     },
     "execution_count": 43,
     "metadata": {},
     "output_type": "execute_result"
    }
   ],
   "source": [
    "LgRg_optimized_parms = my_LgRg_grid_search.best_params_\n",
    "LgRg_optimized_parms"
   ]
  },
  {
   "cell_type": "code",
   "execution_count": null,
   "metadata": {
    "hidden": true
   },
   "outputs": [],
   "source": []
  },
  {
   "cell_type": "code",
   "execution_count": 44,
   "metadata": {
    "hidden": true
   },
   "outputs": [
    {
     "data": {
      "text/plain": [
       "0.7709731136997777"
      ]
     },
     "execution_count": 44,
     "metadata": {},
     "output_type": "execute_result"
    }
   ],
   "source": [
    "train_scores = [x[1] for x in my_LgRg_grid_search.predict_proba(total_df_piped)]\n",
    "roc_auc_score(total_df['TARGET'], train_scores)"
   ]
  },
  {
   "cell_type": "code",
   "execution_count": null,
   "metadata": {
    "hidden": true
   },
   "outputs": [],
   "source": []
  },
  {
   "cell_type": "code",
   "execution_count": 45,
   "metadata": {
    "hidden": true
   },
   "outputs": [],
   "source": [
    "del my_LgRg_grid_search"
   ]
  },
  {
   "cell_type": "code",
   "execution_count": null,
   "metadata": {
    "hidden": true
   },
   "outputs": [],
   "source": []
  },
  {
   "cell_type": "markdown",
   "metadata": {
    "heading_collapsed": true
   },
   "source": [
    "### DONE. MLP Classifier, all features. "
   ]
  },
  {
   "cell_type": "code",
   "execution_count": null,
   "metadata": {
    "hidden": true
   },
   "outputs": [],
   "source": []
  },
  {
   "cell_type": "code",
   "execution_count": 23,
   "metadata": {
    "hidden": true,
    "scrolled": true
   },
   "outputs": [
    {
     "name": "stdout",
     "output_type": "stream",
     "text": [
      "Total original feat len is 85. Sum of feats is 85.\n",
      "Final array is length 417. final feature list is length 417.\n"
     ]
    }
   ],
   "source": [
    "total_df_piped, final_feature_list, total_pipeline, trans_list = master_pipeline(df_in = total_df,\n",
    "                                                                                         int_cutoff=20, \n",
    "                                                                                         poly_deg=4, \n",
    "                                                                                         feats_with_interaction=[])"
   ]
  },
  {
   "cell_type": "code",
   "execution_count": null,
   "metadata": {
    "hidden": true
   },
   "outputs": [],
   "source": []
  },
  {
   "cell_type": "raw",
   "metadata": {
    "hidden": true
   },
   "source": [
    "Results:\n",
    "\n",
    "input:\n",
    "param_dist_dict =  { 'alpha' :         [.01,.1,.5,1],\n",
    "                    hidden_layer_sizes : [(100, ),(150, ),(200, )],<- I don't think I actualy had this for this stage\n",
    "                    }               \n",
    "\n",
    "output:\n",
    "{'alpha': 0.1}\n",
    "T_score = 0.7736934979702228, V_score = 0.7714727124723018\n",
    "\n",
    "input:\n",
    "param_dist_dict =  { 'alpha' :         [.05,.1,.2,.3,.4,.5,.7,1],\n",
    "                    'hidden_layer_sizes' : [(100, ),(150, ),(200, )],\n",
    "                    }\n",
    "                    \n",
    "output:\n",
    "{'alpha': 0.3, 'hidden_layer_sizes': (150,)}\n",
    "T_score = 0.76325177479495, V_score = 0.7659848404781542\n",
    "\n",
    "input:\n",
    "param_dist_dict =  { 'alpha' :         [.25,.3,.35],\n",
    "                    'hidden_layer_sizes' : [(120, ),(140, ),(150, ),(160, ),(170, )],\n",
    "                    }\n",
    "                    \n",
    "output:\n",
    "{'alpha': 0.35, 'hidden_layer_sizes': (120,)}\n",
    "T_score = 0.7625734785440917, V_score = 0.7651371248673069\n",
    "\n",
    "\n",
    "input:\n",
    "param_dist_dict =  { 'alpha' :         [.32,.35,.37,.40],\n",
    "                    'hidden_layer_sizes' : [(100, ),(105, ),(110, ),(115, ),(120, ),(125, )],\n",
    "                    }\n",
    "\n",
    "output:\n",
    "{'alpha': 0.35, 'hidden_layer_sizes': (120,)}\n",
    "T_score = 0.7625734785440917, V_score = 0.7625734785440917\n",
    "\n",
    "******************************************************************\n",
    "Switching to training on full set.\n",
    "******************************************************************\n",
    "input:\n",
    "param_dist_dict =  { 'alpha' :         [.32,.35,.37,.40],\n",
    "                    'hidden_layer_sizes' : [(100, ),(105, ),(110, ),(115, ),(120, ),(125, )],\n",
    "                    }\n",
    "output:  \n",
    "{'alpha': 0.35, 'hidden_layer_sizes': (100,)}\n",
    "best_score =0.7625392362887993, train_score = 0.7630282799516954\n",
    "\n",
    "input:\n",
    "param_dist_dict =  { 'alpha' :         [.32,.35,.37],\n",
    "                    'hidden_layer_sizes' : [(40, ),(60, ),(80, ),(100, )],\n",
    "                    }\n",
    "output:                     \n",
    "{'alpha': 0.35, 'hidden_layer_sizes': (100,)}\n",
    "best_score = 0.7625392362887993, train_score = 0.7630282799516954\n",
    "\n",
    "input: \n",
    "param_dist_dict =  { 'alpha' :         [.33,.35,.37],\n",
    "                    'hidden_layer_sizes' : [(85, ),(90, ),(95, ),(100, ),(103, )],\n",
    "                    }\n",
    "output:                     \n",
    "{'alpha': 0.35, 'hidden_layer_sizes': (100,)}\n",
    "best_score = my_grid_search.best_score_, test_score = 0.7630282799516954\n",
    "\n",
    "input:\n",
    "param_dist_dict =  { 'alpha' :         [.34,.35,.36],\n",
    "                    'hidden_layer_sizes' : [(96, ),(97, ),(98, ),(99, ),(100, ),(101, ),(102, )],\n",
    "                    }\n",
    "output: \n",
    "{'alpha': 0.35, 'hidden_layer_sizes': (100,)}\n",
    "best_score = 0.7625392362887993, train_score = 0.7630282799516954"
   ]
  },
  {
   "cell_type": "code",
   "execution_count": null,
   "metadata": {
    "hidden": true
   },
   "outputs": [],
   "source": []
  },
  {
   "cell_type": "code",
   "execution_count": 24,
   "metadata": {
    "hidden": true
   },
   "outputs": [],
   "source": [
    "param_dist_dict =  { 'alpha' :         [.34,.35,.36],\n",
    "                    'hidden_layer_sizes' : [(96, ),(97, ),(98, ),(99, ),(100, ),(101, ),(102, )],\n",
    "                    }"
   ]
  },
  {
   "cell_type": "code",
   "execution_count": null,
   "metadata": {
    "hidden": true
   },
   "outputs": [],
   "source": []
  },
  {
   "cell_type": "code",
   "execution_count": 25,
   "metadata": {
    "collapsed": true,
    "hidden": true
   },
   "outputs": [
    {
     "name": "stdout",
     "output_type": "stream",
     "text": [
      "Fitting 3 folds for each of 21 candidates, totalling 63 fits\n",
      "Memmaping (shape=(73187618,), dtype=int32) to new file /dev/shm/joblib_memmaping_pool_1835_139712370625784/1835-139712359562656-9bf90f5320b696a352c12cd4001de90f.pkl\n",
      "Memmaping (shape=(307512,), dtype=int32) to new file /dev/shm/joblib_memmaping_pool_1835_139712370625784/1835-139712359562656-851f25297a32c2e0d1a0ef9235730f5f.pkl\n",
      "Memmaping (shape=(73187618,), dtype=float64) to new file /dev/shm/joblib_memmaping_pool_1835_139712370625784/1835-139712359562656-94dce670310afaed17a34e987de612cb.pkl\n",
      "[CV] alpha=0.34, hidden_layer_sizes=(96,) ............................\n",
      "Memmaping (shape=(307511,), dtype=int64) to new file /dev/shm/joblib_memmaping_pool_1835_139712370625784/1835-139712359562656-36f41ebc26c9047822d0779f2962f9e3.pkl\n",
      "Memmaping (shape=(307511,), dtype=int64) to new file /dev/shm/joblib_memmaping_pool_1835_139712370625784/1835-139712359562656-7fee98903a11851f0c36b343c7ef5338.pkl\n",
      "Memmaping (shape=(205007,), dtype=int64) to new file /dev/shm/joblib_memmaping_pool_1835_139712370625784/1835-139712359562656-981b55e712abb5a5a2369212f2856f0a.pkl\n",
      "[CV] alpha=0.34, hidden_layer_sizes=(96,) ............................\n",
      "Memmaping (shape=(205007,), dtype=int64) to new file /dev/shm/joblib_memmaping_pool_1835_139712370625784/1835-139712359562656-52b45483e9e8ae50702a4dfc49cfc8ef.pkl\n",
      "[CV] alpha=0.34, hidden_layer_sizes=(96,) ............................\n",
      "Memmaping (shape=(205008,), dtype=int64) to new file /dev/shm/joblib_memmaping_pool_1835_139712370625784/1835-139712359562656-14cff63d81a68491cd383c416c29ffaa.pkl\n",
      "[CV] alpha=0.34, hidden_layer_sizes=(97,) ............................\n",
      "[CV] alpha=0.34, hidden_layer_sizes=(97,) ............................\n",
      "[CV] alpha=0.34, hidden_layer_sizes=(97,) ............................\n",
      "[CV] alpha=0.34, hidden_layer_sizes=(98,) ............................\n",
      "[CV] alpha=0.34, hidden_layer_sizes=(98,) ............................\n",
      "[CV]  alpha=0.34, hidden_layer_sizes=(96,), score=0.7644434037797629, total= 9.6min\n",
      "[CV] alpha=0.34, hidden_layer_sizes=(98,) ............................\n",
      "[Parallel(n_jobs=-1)]: Done   1 tasks      | elapsed:  9.8min\n",
      "[CV]  alpha=0.34, hidden_layer_sizes=(97,), score=0.7628918890184341, total= 9.7min\n",
      "[CV] alpha=0.34, hidden_layer_sizes=(99,) ............................\n",
      "[Parallel(n_jobs=-1)]: Done   2 tasks      | elapsed: 10.2min\n",
      "[CV]  alpha=0.34, hidden_layer_sizes=(97,), score=0.7571823761993466, total=10.6min\n",
      "[CV] alpha=0.34, hidden_layer_sizes=(99,) ............................\n",
      "[Parallel(n_jobs=-1)]: Done   3 tasks      | elapsed: 11.1min\n",
      "[CV]  alpha=0.34, hidden_layer_sizes=(97,), score=0.7606072414894369, total=14.4min\n",
      "[CV] alpha=0.34, hidden_layer_sizes=(99,) ............................\n",
      "[Parallel(n_jobs=-1)]: Done   4 tasks      | elapsed: 16.1min\n",
      "[CV]  alpha=0.34, hidden_layer_sizes=(96,), score=0.7600316116176318, total=19.6min\n",
      "[CV] alpha=0.34, hidden_layer_sizes=(100,) ...........................\n",
      "[Parallel(n_jobs=-1)]: Done   5 tasks      | elapsed: 21.2min\n",
      "[CV]  alpha=0.34, hidden_layer_sizes=(98,), score=0.7576361668762277, total=20.4min\n",
      "[CV] alpha=0.34, hidden_layer_sizes=(100,) ...........................\n",
      "[Parallel(n_jobs=-1)]: Done   6 tasks      | elapsed: 23.0min\n",
      "[CV]  alpha=0.34, hidden_layer_sizes=(98,), score=0.763626386958572, total=12.8min\n",
      "[CV] alpha=0.34, hidden_layer_sizes=(100,) ...........................\n",
      "[Parallel(n_jobs=-1)]: Done   7 tasks      | elapsed: 23.3min\n",
      "[CV]  alpha=0.34, hidden_layer_sizes=(96,), score=0.7600130196414538, total=24.0min\n",
      "[CV] alpha=0.34, hidden_layer_sizes=(101,) ...........................\n",
      "[Parallel(n_jobs=-1)]: Done   8 tasks      | elapsed: 26.0min\n",
      "[CV]  alpha=0.34, hidden_layer_sizes=(98,), score=0.7616624679113835, total=23.5min\n",
      "[CV] alpha=0.34, hidden_layer_sizes=(101,) ...........................\n",
      "[Parallel(n_jobs=-1)]: Done   9 tasks      | elapsed: 26.2min\n",
      "[CV]  alpha=0.34, hidden_layer_sizes=(99,), score=0.758442440748015, total=14.9min\n",
      "[CV] alpha=0.34, hidden_layer_sizes=(101,) ...........................\n",
      "[Parallel(n_jobs=-1)]: Done  10 tasks      | elapsed: 27.1min\n",
      "[CV]  alpha=0.34, hidden_layer_sizes=(99,), score=0.7609188651712697, total=19.4min\n",
      "[CV] alpha=0.34, hidden_layer_sizes=(102,) ...........................\n",
      "[Parallel(n_jobs=-1)]: Done  11 tasks      | elapsed: 31.4min\n",
      "[CV]  alpha=0.34, hidden_layer_sizes=(99,), score=0.7656843444716658, total=18.7min\n",
      "[CV] alpha=0.34, hidden_layer_sizes=(102,) ...........................\n",
      "[Parallel(n_jobs=-1)]: Done  12 tasks      | elapsed: 36.4min\n",
      "[CV]  alpha=0.34, hidden_layer_sizes=(101,), score=0.7646602346663944, total=10.7min\n",
      "[CV] alpha=0.34, hidden_layer_sizes=(102,) ...........................\n",
      "[Parallel(n_jobs=-1)]: Done  13 tasks      | elapsed: 38.4min\n",
      "[CV]  alpha=0.34, hidden_layer_sizes=(101,), score=0.7594417495284276, total=12.8min\n",
      "[CV] alpha=0.35, hidden_layer_sizes=(96,) ............................\n",
      "[Parallel(n_jobs=-1)]: Done  14 tasks      | elapsed: 40.0min\n",
      "[CV]  alpha=0.34, hidden_layer_sizes=(100,), score=0.7597063219291667, total=16.9min\n",
      "[CV] alpha=0.35, hidden_layer_sizes=(96,) ............................\n",
      "[Parallel(n_jobs=-1)]: Done  15 tasks      | elapsed: 41.3min\n",
      "[CV]  alpha=0.34, hidden_layer_sizes=(100,), score=0.7620539382122983, total=20.8min\n",
      "[CV] alpha=0.35, hidden_layer_sizes=(96,) ............................\n",
      "[Parallel(n_jobs=-1)]: Done  16 tasks      | elapsed: 43.3min\n",
      "[CV]  alpha=0.34, hidden_layer_sizes=(100,), score=0.7658464607347583, total=19.0min\n",
      "[CV] alpha=0.35, hidden_layer_sizes=(97,) ............................\n",
      "[Parallel(n_jobs=-1)]: Done  17 tasks      | elapsed: 43.8min\n",
      "[CV]  alpha=0.34, hidden_layer_sizes=(102,), score=0.7600658228031543, total=16.8min\n",
      "[CV] alpha=0.35, hidden_layer_sizes=(97,) ............................\n",
      "[Parallel(n_jobs=-1)]: Done  18 tasks      | elapsed: 54.7min\n",
      "[CV]  alpha=0.34, hidden_layer_sizes=(102,), score=0.7610752297570113, total=22.5min\n",
      "[CV] alpha=0.35, hidden_layer_sizes=(97,) ............................\n",
      "[Parallel(n_jobs=-1)]: Done  19 tasks      | elapsed: 55.2min\n",
      "[CV]  alpha=0.34, hidden_layer_sizes=(101,), score=0.7617169831713246, total=28.5min\n",
      "[CV] alpha=0.35, hidden_layer_sizes=(98,) ............................\n",
      "[Parallel(n_jobs=-1)]: Done  20 tasks      | elapsed: 55.7min\n",
      "[CV]  alpha=0.35, hidden_layer_sizes=(96,), score=0.7602331531536961, total=18.3min\n",
      "[CV] alpha=0.35, hidden_layer_sizes=(98,) ............................\n",
      "[Parallel(n_jobs=-1)]: Done  21 tasks      | elapsed: 59.8min\n",
      "[CV]  alpha=0.35, hidden_layer_sizes=(96,), score=0.7555153144783011, total=17.5min\n",
      "[CV] alpha=0.35, hidden_layer_sizes=(98,) ............................\n",
      "[Parallel(n_jobs=-1)]: Done  22 tasks      | elapsed: 60.9min\n",
      "[CV]  alpha=0.34, hidden_layer_sizes=(102,), score=0.7631941448953217, total=23.3min\n",
      "[CV] alpha=0.35, hidden_layer_sizes=(99,) ............................\n",
      "[Parallel(n_jobs=-1)]: Done  23 tasks      | elapsed: 63.2min\n",
      "[CV]  alpha=0.35, hidden_layer_sizes=(97,), score=0.7573535385720184, total= 9.7min\n",
      "[CV] alpha=0.35, hidden_layer_sizes=(99,) ............................\n",
      "[Parallel(n_jobs=-1)]: Done  24 tasks      | elapsed: 64.7min\n",
      "[CV]  alpha=0.35, hidden_layer_sizes=(96,), score=0.7645719664086609, total=19.7min\n",
      "[CV] alpha=0.35, hidden_layer_sizes=(99,) ............................\n",
      "[Parallel(n_jobs=-1)]: Done  25 tasks      | elapsed: 64.9min\n",
      "[CV]  alpha=0.35, hidden_layer_sizes=(97,), score=0.7623415207004058, total=27.4min\n",
      "[CV] alpha=0.35, hidden_layer_sizes=(100,) ...........................\n",
      "[Parallel(n_jobs=-1)]: Done  26 tasks      | elapsed: 71.7min\n",
      "[CV]  alpha=0.35, hidden_layer_sizes=(97,), score=0.7647789324268052, total=15.6min\n",
      "[CV] alpha=0.35, hidden_layer_sizes=(100,) ...........................\n",
      "[Parallel(n_jobs=-1)]: Done  27 tasks      | elapsed: 72.4min\n",
      "[CV]  alpha=0.35, hidden_layer_sizes=(98,), score=0.7576573066267113, total=11.6min\n",
      "[CV] alpha=0.35, hidden_layer_sizes=(100,) ...........................\n",
      "[Parallel(n_jobs=-1)]: Done  28 tasks      | elapsed: 73.5min\n",
      "[CV]  alpha=0.35, hidden_layer_sizes=(98,), score=0.7597595566422214, total=14.5min\n",
      "[CV] alpha=0.35, hidden_layer_sizes=(101,) ...........................\n",
      "[Parallel(n_jobs=-1)]: Done  29 tasks      | elapsed: 75.2min\n"
     ]
    },
    {
     "name": "stdout",
     "output_type": "stream",
     "text": [
      "[CV]  alpha=0.35, hidden_layer_sizes=(99,), score=0.7638376711010267, total=11.6min\n",
      "[CV] alpha=0.35, hidden_layer_sizes=(101,) ...........................\n",
      "[Parallel(n_jobs=-1)]: Done  30 tasks      | elapsed: 77.1min\n",
      "[CV]  alpha=0.35, hidden_layer_sizes=(99,), score=0.7587675085690676, total=13.1min\n",
      "[CV] alpha=0.35, hidden_layer_sizes=(101,) ...........................\n",
      "[Parallel(n_jobs=-1)]: Done  31 tasks      | elapsed: 77.2min\n",
      "[CV]  alpha=0.35, hidden_layer_sizes=(98,), score=0.7615002764205054, total=21.9min\n",
      "[CV] alpha=0.35, hidden_layer_sizes=(102,) ...........................\n",
      "[Parallel(n_jobs=-1)]: Done  32 tasks      | elapsed: 79.6min\n",
      "[CV]  alpha=0.35, hidden_layer_sizes=(101,), score=0.7594786975061942, total=13.0min\n",
      "[CV] alpha=0.35, hidden_layer_sizes=(102,) ...........................\n",
      "[Parallel(n_jobs=-1)]: Done  33 tasks      | elapsed: 91.1min\n",
      "[CV]  alpha=0.35, hidden_layer_sizes=(99,), score=0.7592330909218107, total=25.2min\n",
      "[Parallel(n_jobs=-1)]: Done  34 tasks      | elapsed: 91.1min\n",
      "[CV] alpha=0.35, hidden_layer_sizes=(102,) ...........................\n",
      "[CV]  alpha=0.35, hidden_layer_sizes=(100,), score=0.7594629282477903, total=17.9min\n",
      "[CV] alpha=0.36, hidden_layer_sizes=(96,) ............................\n",
      "[Parallel(n_jobs=-1)]: Done  35 tasks      | elapsed: 92.0min\n",
      "[CV]  alpha=0.35, hidden_layer_sizes=(100,), score=0.7623261881232386, total=20.0min\n",
      "[CV] alpha=0.36, hidden_layer_sizes=(96,) ............................\n",
      "[Parallel(n_jobs=-1)]: Done  36 tasks      | elapsed: 92.8min\n",
      "[CV]  alpha=0.35, hidden_layer_sizes=(100,), score=0.7658286245857094, total=18.3min\n",
      "[CV] alpha=0.36, hidden_layer_sizes=(96,) ............................\n",
      "[Parallel(n_jobs=-1)]: Done  37 tasks      | elapsed: 93.1min\n",
      "[CV]  alpha=0.35, hidden_layer_sizes=(101,), score=0.7628331352824684, total=17.9min\n",
      "[CV] alpha=0.36, hidden_layer_sizes=(97,) ............................\n",
      "[Parallel(n_jobs=-1)]: Done  38 tasks      | elapsed: 94.9min\n",
      "[CV]  alpha=0.35, hidden_layer_sizes=(101,), score=0.7648774131062447, total=18.0min\n",
      "[CV] alpha=0.36, hidden_layer_sizes=(97,) ............................\n",
      "[Parallel(n_jobs=-1)]: Done  39 tasks      | elapsed: 97.0min\n",
      "[CV]  alpha=0.35, hidden_layer_sizes=(102,), score=0.7607513315491388, total=21.0min\n",
      "[CV] alpha=0.36, hidden_layer_sizes=(97,) ............................\n",
      "[Parallel(n_jobs=-1)]: Done  40 tasks      | elapsed: 101.6min\n",
      "[CV]  alpha=0.35, hidden_layer_sizes=(102,), score=0.7596707243929337, total=16.4min\n",
      "[CV] alpha=0.36, hidden_layer_sizes=(98,) ............................\n",
      "[Parallel(n_jobs=-1)]: Done  41 tasks      | elapsed: 109.1min\n",
      "[CV]  alpha=0.36, hidden_layer_sizes=(97,), score=0.7605954523785166, total=13.4min\n",
      "[CV] alpha=0.36, hidden_layer_sizes=(98,) ............................\n",
      "[Parallel(n_jobs=-1)]: Done  42 tasks      | elapsed: 109.3min\n",
      "[CV]  alpha=0.36, hidden_layer_sizes=(97,), score=0.762833807873863, total= 9.3min\n",
      "[CV] alpha=0.36, hidden_layer_sizes=(98,) ............................\n",
      "[Parallel(n_jobs=-1)]: Done  43 tasks      | elapsed: 111.2min\n",
      "[CV]  alpha=0.36, hidden_layer_sizes=(96,), score=0.7560217390307645, total=17.6min\n",
      "[CV] alpha=0.36, hidden_layer_sizes=(99,) ............................\n",
      "[Parallel(n_jobs=-1)]: Done  44 tasks      | elapsed: 111.8min\n",
      "[CV]  alpha=0.36, hidden_layer_sizes=(96,), score=0.759907828838525, total=19.4min\n",
      "[CV] alpha=0.36, hidden_layer_sizes=(99,) ............................\n",
      "[Parallel(n_jobs=-1)]: Done  45 tasks      | elapsed: 112.7min\n",
      "[CV]  alpha=0.35, hidden_layer_sizes=(102,), score=0.7630974494338922, total=20.9min\n",
      "[CV] alpha=0.36, hidden_layer_sizes=(99,) ............................\n",
      "[Parallel(n_jobs=-1)]: Done  46 tasks      | elapsed: 113.4min\n",
      "[CV]  alpha=0.36, hidden_layer_sizes=(96,), score=0.7638822938563748, total=19.5min\n",
      "[CV] alpha=0.36, hidden_layer_sizes=(100,) ...........................\n",
      "[Parallel(n_jobs=-1)]: Done  47 tasks      | elapsed: 114.8min\n",
      "[CV]  alpha=0.36, hidden_layer_sizes=(98,), score=0.763312201413631, total=13.2min\n",
      "[CV] alpha=0.36, hidden_layer_sizes=(100,) ...........................\n",
      "[Parallel(n_jobs=-1)]: Done  48 tasks      | elapsed: 125.3min\n",
      "[CV]  alpha=0.36, hidden_layer_sizes=(97,), score=0.759058408808598, total=27.6min\n",
      "[CV] alpha=0.36, hidden_layer_sizes=(100,) ...........................\n",
      "[CV]  alpha=0.36, hidden_layer_sizes=(99,), score=0.7578000781601703, total=13.3min\n",
      "[CV] alpha=0.36, hidden_layer_sizes=(101,) ...........................\n",
      "[Parallel(n_jobs=-1)]: Done  50 out of  63 | elapsed: 126.1min remaining: 32.8min\n",
      "[CV]  alpha=0.36, hidden_layer_sizes=(99,), score=0.7643176305540063, total=13.9min\n",
      "[CV] alpha=0.36, hidden_layer_sizes=(101,) ...........................\n",
      "[CV]  alpha=0.36, hidden_layer_sizes=(100,), score=0.7604736914142987, total=12.9min\n",
      "[CV] alpha=0.36, hidden_layer_sizes=(101,) ...........................\n",
      "[Parallel(n_jobs=-1)]: Done  52 out of  63 | elapsed: 128.3min remaining: 27.1min\n",
      "[CV]  alpha=0.36, hidden_layer_sizes=(98,), score=0.757326012905694, total=19.3min\n",
      "[CV] alpha=0.36, hidden_layer_sizes=(102,) ...........................\n",
      "[CV]  alpha=0.36, hidden_layer_sizes=(98,), score=0.7612123745972202, total=21.7min\n",
      "[CV] alpha=0.36, hidden_layer_sizes=(102,) ...........................\n",
      "[Parallel(n_jobs=-1)]: Done  54 out of  63 | elapsed: 133.2min remaining: 22.2min\n",
      "[CV]  alpha=0.36, hidden_layer_sizes=(100,), score=0.763529441412723, total=11.2min\n",
      "[CV] alpha=0.36, hidden_layer_sizes=(102,) ...........................\n",
      "[CV]  alpha=0.36, hidden_layer_sizes=(99,), score=0.759207008676138, total=25.4min\n",
      "[Parallel(n_jobs=-1)]: Done  56 out of  63 | elapsed: 139.3min remaining: 17.4min\n",
      "[CV]  alpha=0.36, hidden_layer_sizes=(100,), score=0.7583873599185426, total=13.1min\n",
      "[CV]  alpha=0.36, hidden_layer_sizes=(101,), score=0.7595172267702014, total=11.9min\n",
      "[Parallel(n_jobs=-1)]: Done  58 out of  63 | elapsed: 140.9min remaining: 12.2min\n",
      "[CV]  alpha=0.36, hidden_layer_sizes=(101,), score=0.7624311435928138, total=17.0min\n",
      "[CV]  alpha=0.36, hidden_layer_sizes=(102,), score=0.7603018352250361, total=13.9min\n",
      "[Parallel(n_jobs=-1)]: Done  60 out of  63 | elapsed: 145.3min remaining:  7.3min\n",
      "[CV]  alpha=0.36, hidden_layer_sizes=(101,), score=0.7644897643012056, total=16.5min\n",
      "[CV]  alpha=0.36, hidden_layer_sizes=(102,), score=0.7592712219786988, total=12.0min\n",
      "[CV]  alpha=0.36, hidden_layer_sizes=(102,), score=0.7664696275037459, total= 9.4min\n",
      "[Parallel(n_jobs=-1)]: Done  63 out of  63 | elapsed: 146.8min finished\n"
     ]
    },
    {
     "data": {
      "text/plain": [
       "GridSearchCV(cv=3, error_score='raise',\n",
       "       estimator=MLPClassifier(activation='relu', alpha=0.0001, batch_size='auto', beta_1=0.9,\n",
       "       beta_2=0.999, early_stopping=False, epsilon=1e-08,\n",
       "       hidden_layer_sizes=(100,), learning_rate='constant',\n",
       "       learning_rate_init=0.001, max_iter=200, momentum=0.9,\n",
       "       nesterovs_momentum=True, power_t=0.5, random_state=0, shuffle=True,\n",
       "       solver='adam', tol=0.0001, validation_fraction=0.1, verbose=False,\n",
       "       warm_start=False),\n",
       "       fit_params=None, iid=True, n_jobs=-1,\n",
       "       param_grid={'alpha': [0.34, 0.35, 0.36], 'hidden_layer_sizes': [(96,), (97,), (98,), (99,), (100,), (101,), (102,)]},\n",
       "       pre_dispatch='2*n_jobs', refit=True, return_train_score=True,\n",
       "       scoring='roc_auc', verbose=51)"
      ]
     },
     "execution_count": 25,
     "metadata": {},
     "output_type": "execute_result"
    }
   ],
   "source": [
    "my_MLP = MLPClassifier(random_state=0, \n",
    "                       tol=0.0001, \n",
    "                     #  verbose=51, \n",
    "                       warm_start=False, \n",
    "                       momentum=0.9)\n",
    "\n",
    "\n",
    "my_grid_search = GridSearchCV(my_MLP, \n",
    "                                param_dist_dict, \n",
    "                                cv = 3,\n",
    "                                return_train_score = True , \n",
    "                                scoring = 'roc_auc',\n",
    "                                n_jobs = -1, \n",
    "                                refit = True,\n",
    "                                verbose = 51, \n",
    "                                        )\n",
    "\n",
    "my_grid_search.fit(total_df_piped, total_df['TARGET'])"
   ]
  },
  {
   "cell_type": "code",
   "execution_count": null,
   "metadata": {
    "hidden": true
   },
   "outputs": [],
   "source": []
  },
  {
   "cell_type": "code",
   "execution_count": 26,
   "metadata": {
    "collapsed": true,
    "hidden": true
   },
   "outputs": [
    {
     "data": {
      "text/html": [
       "<div>\n",
       "<style scoped>\n",
       "    .dataframe tbody tr th:only-of-type {\n",
       "        vertical-align: middle;\n",
       "    }\n",
       "\n",
       "    .dataframe tbody tr th {\n",
       "        vertical-align: top;\n",
       "    }\n",
       "\n",
       "    .dataframe thead th {\n",
       "        text-align: right;\n",
       "    }\n",
       "</style>\n",
       "<table border=\"1\" class=\"dataframe\">\n",
       "  <thead>\n",
       "    <tr style=\"text-align: right;\">\n",
       "      <th></th>\n",
       "      <th>params</th>\n",
       "      <th>mean_test_score</th>\n",
       "    </tr>\n",
       "  </thead>\n",
       "  <tbody>\n",
       "    <tr>\n",
       "      <th>0</th>\n",
       "      <td>{'alpha': 0.34, 'hidden_layer_sizes': (96,)}</td>\n",
       "      <td>0.761496</td>\n",
       "    </tr>\n",
       "    <tr>\n",
       "      <th>1</th>\n",
       "      <td>{'alpha': 0.34, 'hidden_layer_sizes': (97,)}</td>\n",
       "      <td>0.760227</td>\n",
       "    </tr>\n",
       "    <tr>\n",
       "      <th>2</th>\n",
       "      <td>{'alpha': 0.34, 'hidden_layer_sizes': (98,)}</td>\n",
       "      <td>0.760975</td>\n",
       "    </tr>\n",
       "    <tr>\n",
       "      <th>3</th>\n",
       "      <td>{'alpha': 0.34, 'hidden_layer_sizes': (99,)}</td>\n",
       "      <td>0.761682</td>\n",
       "    </tr>\n",
       "    <tr>\n",
       "      <th>4</th>\n",
       "      <td>{'alpha': 0.34, 'hidden_layer_sizes': (100,)}</td>\n",
       "      <td>0.762536</td>\n",
       "    </tr>\n",
       "    <tr>\n",
       "      <th>5</th>\n",
       "      <td>{'alpha': 0.34, 'hidden_layer_sizes': (101,)}</td>\n",
       "      <td>0.761940</td>\n",
       "    </tr>\n",
       "    <tr>\n",
       "      <th>6</th>\n",
       "      <td>{'alpha': 0.34, 'hidden_layer_sizes': (102,)}</td>\n",
       "      <td>0.761445</td>\n",
       "    </tr>\n",
       "    <tr>\n",
       "      <th>7</th>\n",
       "      <td>{'alpha': 0.35, 'hidden_layer_sizes': (96,)}</td>\n",
       "      <td>0.760107</td>\n",
       "    </tr>\n",
       "    <tr>\n",
       "      <th>8</th>\n",
       "      <td>{'alpha': 0.35, 'hidden_layer_sizes': (97,)}</td>\n",
       "      <td>0.761491</td>\n",
       "    </tr>\n",
       "    <tr>\n",
       "      <th>9</th>\n",
       "      <td>{'alpha': 0.35, 'hidden_layer_sizes': (98,)}</td>\n",
       "      <td>0.759639</td>\n",
       "    </tr>\n",
       "    <tr>\n",
       "      <th>10</th>\n",
       "      <td>{'alpha': 0.35, 'hidden_layer_sizes': (99,)}</td>\n",
       "      <td>0.760613</td>\n",
       "    </tr>\n",
       "    <tr>\n",
       "      <th>11</th>\n",
       "      <td>{'alpha': 0.35, 'hidden_layer_sizes': (100,)}</td>\n",
       "      <td>0.762539</td>\n",
       "    </tr>\n",
       "    <tr>\n",
       "      <th>12</th>\n",
       "      <td>{'alpha': 0.35, 'hidden_layer_sizes': (101,)}</td>\n",
       "      <td>0.762396</td>\n",
       "    </tr>\n",
       "    <tr>\n",
       "      <th>13</th>\n",
       "      <td>{'alpha': 0.35, 'hidden_layer_sizes': (102,)}</td>\n",
       "      <td>0.761173</td>\n",
       "    </tr>\n",
       "    <tr>\n",
       "      <th>14</th>\n",
       "      <td>{'alpha': 0.36, 'hidden_layer_sizes': (96,)}</td>\n",
       "      <td>0.759937</td>\n",
       "    </tr>\n",
       "    <tr>\n",
       "      <th>15</th>\n",
       "      <td>{'alpha': 0.36, 'hidden_layer_sizes': (97,)}</td>\n",
       "      <td>0.760829</td>\n",
       "    </tr>\n",
       "    <tr>\n",
       "      <th>16</th>\n",
       "      <td>{'alpha': 0.36, 'hidden_layer_sizes': (98,)}</td>\n",
       "      <td>0.760617</td>\n",
       "    </tr>\n",
       "    <tr>\n",
       "      <th>17</th>\n",
       "      <td>{'alpha': 0.36, 'hidden_layer_sizes': (99,)}</td>\n",
       "      <td>0.760442</td>\n",
       "    </tr>\n",
       "    <tr>\n",
       "      <th>18</th>\n",
       "      <td>{'alpha': 0.36, 'hidden_layer_sizes': (100,)}</td>\n",
       "      <td>0.760797</td>\n",
       "    </tr>\n",
       "    <tr>\n",
       "      <th>19</th>\n",
       "      <td>{'alpha': 0.36, 'hidden_layer_sizes': (101,)}</td>\n",
       "      <td>0.762146</td>\n",
       "    </tr>\n",
       "    <tr>\n",
       "      <th>20</th>\n",
       "      <td>{'alpha': 0.36, 'hidden_layer_sizes': (102,)}</td>\n",
       "      <td>0.762014</td>\n",
       "    </tr>\n",
       "  </tbody>\n",
       "</table>\n",
       "</div>"
      ],
      "text/plain": [
       "                                           params  mean_test_score\n",
       "0   {'alpha': 0.34, 'hidden_layer_sizes': (96,)}   0.761496       \n",
       "1   {'alpha': 0.34, 'hidden_layer_sizes': (97,)}   0.760227       \n",
       "2   {'alpha': 0.34, 'hidden_layer_sizes': (98,)}   0.760975       \n",
       "3   {'alpha': 0.34, 'hidden_layer_sizes': (99,)}   0.761682       \n",
       "4   {'alpha': 0.34, 'hidden_layer_sizes': (100,)}  0.762536       \n",
       "5   {'alpha': 0.34, 'hidden_layer_sizes': (101,)}  0.761940       \n",
       "6   {'alpha': 0.34, 'hidden_layer_sizes': (102,)}  0.761445       \n",
       "7   {'alpha': 0.35, 'hidden_layer_sizes': (96,)}   0.760107       \n",
       "8   {'alpha': 0.35, 'hidden_layer_sizes': (97,)}   0.761491       \n",
       "9   {'alpha': 0.35, 'hidden_layer_sizes': (98,)}   0.759639       \n",
       "10  {'alpha': 0.35, 'hidden_layer_sizes': (99,)}   0.760613       \n",
       "11  {'alpha': 0.35, 'hidden_layer_sizes': (100,)}  0.762539       \n",
       "12  {'alpha': 0.35, 'hidden_layer_sizes': (101,)}  0.762396       \n",
       "13  {'alpha': 0.35, 'hidden_layer_sizes': (102,)}  0.761173       \n",
       "14  {'alpha': 0.36, 'hidden_layer_sizes': (96,)}   0.759937       \n",
       "15  {'alpha': 0.36, 'hidden_layer_sizes': (97,)}   0.760829       \n",
       "16  {'alpha': 0.36, 'hidden_layer_sizes': (98,)}   0.760617       \n",
       "17  {'alpha': 0.36, 'hidden_layer_sizes': (99,)}   0.760442       \n",
       "18  {'alpha': 0.36, 'hidden_layer_sizes': (100,)}  0.760797       \n",
       "19  {'alpha': 0.36, 'hidden_layer_sizes': (101,)}  0.762146       \n",
       "20  {'alpha': 0.36, 'hidden_layer_sizes': (102,)}  0.762014       "
      ]
     },
     "execution_count": 26,
     "metadata": {},
     "output_type": "execute_result"
    }
   ],
   "source": [
    "pd.set_option('display.max_colwidth', -1)\n",
    "pd.DataFrame(my_grid_search.cv_results_)[['params','mean_test_score']]"
   ]
  },
  {
   "cell_type": "code",
   "execution_count": null,
   "metadata": {
    "hidden": true
   },
   "outputs": [],
   "source": []
  },
  {
   "cell_type": "code",
   "execution_count": 27,
   "metadata": {
    "hidden": true
   },
   "outputs": [
    {
     "data": {
      "text/plain": [
       "0.7625392362887993"
      ]
     },
     "execution_count": 27,
     "metadata": {},
     "output_type": "execute_result"
    }
   ],
   "source": [
    "my_grid_search.best_score_"
   ]
  },
  {
   "cell_type": "code",
   "execution_count": null,
   "metadata": {
    "hidden": true
   },
   "outputs": [],
   "source": []
  },
  {
   "cell_type": "code",
   "execution_count": 28,
   "metadata": {
    "hidden": true
   },
   "outputs": [
    {
     "data": {
      "text/plain": [
       "{'alpha': 0.35, 'hidden_layer_sizes': (100,)}"
      ]
     },
     "execution_count": 28,
     "metadata": {},
     "output_type": "execute_result"
    }
   ],
   "source": [
    "my_grid_search_optimized_parms = my_grid_search.best_params_\n",
    "my_grid_search_optimized_parms"
   ]
  },
  {
   "cell_type": "code",
   "execution_count": null,
   "metadata": {
    "hidden": true
   },
   "outputs": [],
   "source": []
  },
  {
   "cell_type": "code",
   "execution_count": 29,
   "metadata": {
    "hidden": true
   },
   "outputs": [
    {
     "data": {
      "text/plain": [
       "0.7630282799516954"
      ]
     },
     "execution_count": 29,
     "metadata": {},
     "output_type": "execute_result"
    }
   ],
   "source": [
    "train_scores = [x[1] for x in my_grid_search.predict_proba(total_df_piped)]\n",
    "roc_auc_score(total_df['TARGET'], train_scores)"
   ]
  },
  {
   "cell_type": "code",
   "execution_count": null,
   "metadata": {
    "hidden": true
   },
   "outputs": [],
   "source": []
  },
  {
   "cell_type": "code",
   "execution_count": 30,
   "metadata": {
    "hidden": true
   },
   "outputs": [],
   "source": [
    "del my_grid_search"
   ]
  },
  {
   "cell_type": "code",
   "execution_count": null,
   "metadata": {
    "hidden": true
   },
   "outputs": [],
   "source": []
  }
 ],
 "metadata": {
  "kernelspec": {
   "display_name": "Python 3",
   "language": "python",
   "name": "python3"
  },
  "language_info": {
   "codemirror_mode": {
    "name": "ipython",
    "version": 3
   },
   "file_extension": ".py",
   "mimetype": "text/x-python",
   "name": "python",
   "nbconvert_exporter": "python",
   "pygments_lexer": "ipython3",
   "version": "3.6.6"
  },
  "latex_envs": {
   "LaTeX_envs_menu_present": true,
   "autocomplete": true,
   "bibliofile": "biblio.bib",
   "cite_by": "apalike",
   "current_citInitial": 1,
   "eqLabelWithNumbers": true,
   "eqNumInitial": 1,
   "hotkeys": {
    "equation": "Ctrl-E",
    "itemize": "Ctrl-I"
   },
   "labels_anchors": false,
   "latex_user_defs": false,
   "report_style_numbering": false,
   "user_envs_cfg": false
  },
  "toc": {
   "nav_menu": {},
   "number_sections": true,
   "sideBar": true,
   "skip_h1_title": false,
   "toc_cell": false,
   "toc_position": {},
   "toc_section_display": "none",
   "toc_window_display": false
  },
  "varInspector": {
   "cols": {
    "lenName": 16,
    "lenType": 16,
    "lenVar": 40
   },
   "kernels_config": {
    "python": {
     "delete_cmd_postfix": "",
     "delete_cmd_prefix": "del ",
     "library": "var_list.py",
     "varRefreshCmd": "print(var_dic_list())"
    },
    "r": {
     "delete_cmd_postfix": ") ",
     "delete_cmd_prefix": "rm(",
     "library": "var_list.r",
     "varRefreshCmd": "cat(var_dic_list()) "
    }
   },
   "oldHeight": 1038.5,
   "position": {
    "height": "852px",
    "left": "1314px",
    "right": "46px",
    "top": "121px",
    "width": "800px"
   },
   "types_to_exclude": [
    "module",
    "function",
    "builtin_function_or_method",
    "instance",
    "_Feature"
   ],
   "varInspector_section_display": "block",
   "window_display": false
  }
 },
 "nbformat": 4,
 "nbformat_minor": 2
}
