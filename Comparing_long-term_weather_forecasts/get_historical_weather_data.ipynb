{
 "cells": [
  {
   "cell_type": "code",
   "execution_count": 29,
   "metadata": {},
   "outputs": [],
   "source": [
    "from selenium import webdriver\n",
    "from selenium.webdriver.support.ui import Select\n",
    "\n",
    "import pandas as pd\n",
    "\n",
    "import time\n",
    "\n",
    "from bs4 import BeautifulSoup\n",
    "\n",
    "from datetime import datetime"
   ]
  },
  {
   "cell_type": "markdown",
   "metadata": {
    "heading_collapsed": true
   },
   "source": [
    "## weather underground"
   ]
  },
  {
   "cell_type": "code",
   "execution_count": null,
   "metadata": {
    "hidden": true
   },
   "outputs": [],
   "source": []
  },
  {
   "cell_type": "code",
   "execution_count": 2,
   "metadata": {
    "hidden": true
   },
   "outputs": [],
   "source": [
    "# Leb_wug_sauce_dict = {'Leb_Dec_2018':{'sauce':'https://www.wunderground.com/history/monthly/us/nh/west-lebanon/KLEB/date/2018-12','yr':'2018'},\n",
    "#                       'Leb_Jan_2019':{'sauce':'https://www.wunderground.com/history/monthly/us/nh/west-lebanon/KLEB/date/2019-1', 'yr':'2019'},\n",
    "#                       'Leb_Feb_2019':{'sauce':'https://www.wunderground.com/history/monthly/us/nh/west-lebanon/KLEB/date/2019-2', 'yr':'2019'},\n",
    "#                      }\n",
    "\n",
    "\n",
    "# this is a bit weird, there is no direct link to the Foliage View station in Lebanon NH, but if you type out the address below by hand, \n",
    "# you will get that station, which is the default station for daily weather in Lebanon, NH. \n",
    "Leb_wug_sauce_dict = {'Leb_Dec_2018':{'sauce':'https://www.wunderground.com/history/monthly/us/nh/west-lebanon/KNHLEBAN27/date/2018-12',\n",
    "                                      'yr':'2018'},\n",
    "                      'Leb_Jan_2019':{'sauce':'https://www.wunderground.com/history/monthly/us/nh/west-lebanon/KNHLEBAN27/date/2019-1',\n",
    "                                      'yr':'2019'},\n",
    "                      'Leb_Feb_2019':{'sauce':'https://www.wunderground.com/history/monthly/us/nh/west-lebanon/KNHLEBAN27/date/2019-2',\n",
    "                                      'yr':'2019'},\n",
    "                     }\n",
    "\n",
    "\n",
    "# again, had to figure out station code, and then put into html address by hand. \n",
    "Wapp_wug_sauce_dict = {'Wapp_Dec_2018':{'sauce':'https://www.wunderground.com/history/monthly/us/ny/wappingers-falls/KNYWAPPI41/date/2018-12',\n",
    "                                        'yr':'2018'},\n",
    "                       'Wapp_Jan_2019':{'sauce':'https://www.wunderground.com/history/monthly/us/ny/wappingers-falls/KNYWAPPI41/date/2019-01',\n",
    "                                        'yr':'2019'},\n",
    "                       'Wapp_Feb_2019':{'sauce':'https://www.wunderground.com/history/monthly/us/ny/wappingers-falls/KNYWAPPI41/date/2019-02',\n",
    "                                        'yr':'2019'},\n",
    "                      }\n",
    "\n",
    "Lyn_wug_sauce_dict = {'Lynd_Dec_2018':{'sauce':'https://www.wunderground.com/history/monthly/us/oh/cleveland/KOHCLEVE65/date/2018-12',\n",
    "                                       'yr':'2018'},\n",
    "                       'Lynd_Jan_2019':{'sauce':'https://www.wunderground.com/history/monthly/us/oh/cleveland/KOHCLEVE65/date/2019-01',\n",
    "                                        'yr':'2019'},\n",
    "                       'Lynd_Feb_2019':{'sauce':'https://www.wunderground.com/history/monthly/us/oh/cleveland/KOHCLEVE65/date/2019-02',\n",
    "                                        'yr':'2019'},\n",
    "                      }"
   ]
  },
  {
   "cell_type": "code",
   "execution_count": 3,
   "metadata": {
    "hidden": true
   },
   "outputs": [],
   "source": [
    "def fix_wug_date(month, day, year):\n",
    "    \"\"\"Add leading zeros for month and day\"\"\"\n",
    "    \n",
    "    if len(month)==1:\n",
    "        month = '0' + month\n",
    "    if len(day)==1:\n",
    "        day = '0' + day\n",
    "    return month + '-' + day + '-' + year\n",
    "    "
   ]
  },
  {
   "cell_type": "code",
   "execution_count": 4,
   "metadata": {
    "hidden": true
   },
   "outputs": [],
   "source": [
    "def get_wug_historical_data(dict_in):\n",
    "    \"\"\"Scrapes and parses weather.com historical monthly data.\"\"\"\n",
    "    \"\"\"Note:\n",
    "        Will get an error sometimes if browser doesn't load (error below). Just rerun.\n",
    "        NoSuchElementException: Message: no such element: Unable to locate element: {\"method\":\"class name\",\"selector\":\"observation-table\"}\n",
    "          (Session info: chrome=73.0.3683.103)\n",
    "          (Driver info: chromedriver=2.42.591059 (a3d9684d10d61aa0c45f6723b327283be1ebaad8),platform=Mac OS X 10.14.4 x86_64)\"\"\"\n",
    "\n",
    "    all_dfs = []\n",
    "    \n",
    "    for key in dict_in.keys():\n",
    "\n",
    "        # open browser and wait for it to load\n",
    "        with webdriver.Chrome() as browser:\n",
    "            browser.get(dict_in[key]['sauce'])\n",
    "            time.sleep(30)\n",
    "\n",
    "            weather_table = browser.find_element_by_class_name(\"observation-table\")\n",
    "            mytable = pd.read_html(weather_table.get_attribute('outerHTML'))\n",
    "\n",
    "            #get the month and format it as 2-digit string\n",
    "            month_str = mytable[0].iloc[0,0].split(' ')[0]\n",
    "            month_num = datetime.strptime(month_str,'%b').strftime('%m')\n",
    "            \n",
    "        # rework headers in individual dfs\n",
    "        for i in range(1,8):\n",
    "            # make first row into header \n",
    "            new_header = mytable[i].iloc[0]\n",
    "            mytable[i] = mytable[i][1:]\n",
    "            mytable[i].columns = new_header\n",
    "\n",
    "            # add hierarchical header from first df\n",
    "            top_header = mytable[0].columns[i-1]\n",
    "            mytable[i] = pd.concat({top_header:mytable[i]}, axis = 1)\n",
    "\n",
    "        #combine all dfs, one for each temp, dew_point, humidity etc. \n",
    "        final_table = mytable[1]\n",
    "        for i in range(2,8):\n",
    "            final_table = final_table.join(mytable[i]) # I do not fully understand why this works\n",
    "\n",
    "        # make this standard\n",
    "        final_table.rename(columns = {'Temperature (° F)': 'Temperature'})\n",
    "        \n",
    "        # create new date col, set as index, drop old date (Time) column\n",
    "        date_srs = final_table[('Time', month_str)].apply(lambda d: fix_wug_date(month_num, d, dict_in[key]['yr'])  ) \n",
    "        date_srs = date_srs.rename('date')\n",
    "        final_table.set_index(date_srs, inplace = True)      \n",
    "        final_table.drop(columns = 'Time', inplace = True)# createa an error, but seems fine\n",
    "        \n",
    "        final_table.rename(columns={'Temperature (° F)':'Temperature'}, inplace = True)\n",
    "        \n",
    "        all_dfs.append(final_table)\n",
    "    \n",
    "        \n",
    "    final_df = pd.concat(all_dfs).drop_duplicates()\n",
    "            \n",
    "    return final_df"
   ]
  },
  {
   "cell_type": "code",
   "execution_count": 5,
   "metadata": {
    "hidden": true
   },
   "outputs": [
    {
     "name": "stderr",
     "output_type": "stream",
     "text": [
      "/anaconda/lib/python3.6/site-packages/pandas/core/generic.py:3812: PerformanceWarning: dropping on a non-lexsorted multi-index without a level parameter may impact performance.\n",
      "  new_axis = axis.drop(labels, errors=errors)\n",
      "/anaconda/lib/python3.6/site-packages/pandas/core/generic.py:3812: PerformanceWarning: dropping on a non-lexsorted multi-index without a level parameter may impact performance.\n",
      "  new_axis = axis.drop(labels, errors=errors)\n",
      "/anaconda/lib/python3.6/site-packages/pandas/core/generic.py:3812: PerformanceWarning: dropping on a non-lexsorted multi-index without a level parameter may impact performance.\n",
      "  new_axis = axis.drop(labels, errors=errors)\n"
     ]
    }
   ],
   "source": [
    "wug_Leb_df = get_wug_historical_data(Leb_wug_sauce_dict)\n",
    "wug_Leb_df.to_csv(path_or_buf = 'historical_weather_data/Leb_wug_weather_data.csv')"
   ]
  },
  {
   "cell_type": "code",
   "execution_count": 6,
   "metadata": {
    "hidden": true
   },
   "outputs": [
    {
     "name": "stderr",
     "output_type": "stream",
     "text": [
      "/anaconda/lib/python3.6/site-packages/pandas/core/generic.py:3812: PerformanceWarning: dropping on a non-lexsorted multi-index without a level parameter may impact performance.\n",
      "  new_axis = axis.drop(labels, errors=errors)\n",
      "/anaconda/lib/python3.6/site-packages/pandas/core/generic.py:3812: PerformanceWarning: dropping on a non-lexsorted multi-index without a level parameter may impact performance.\n",
      "  new_axis = axis.drop(labels, errors=errors)\n",
      "/anaconda/lib/python3.6/site-packages/pandas/core/generic.py:3812: PerformanceWarning: dropping on a non-lexsorted multi-index without a level parameter may impact performance.\n",
      "  new_axis = axis.drop(labels, errors=errors)\n"
     ]
    }
   ],
   "source": [
    "wug_Wapp_df = get_wug_historical_data(Wapp_wug_sauce_dict)\n",
    "wug_Wapp_df.to_csv(path_or_buf = 'historical_weather_data/Wapp_wug_weather_data.csv')"
   ]
  },
  {
   "cell_type": "code",
   "execution_count": 7,
   "metadata": {
    "hidden": true
   },
   "outputs": [
    {
     "name": "stderr",
     "output_type": "stream",
     "text": [
      "/anaconda/lib/python3.6/site-packages/pandas/core/generic.py:3812: PerformanceWarning: dropping on a non-lexsorted multi-index without a level parameter may impact performance.\n",
      "  new_axis = axis.drop(labels, errors=errors)\n",
      "/anaconda/lib/python3.6/site-packages/pandas/core/generic.py:3812: PerformanceWarning: dropping on a non-lexsorted multi-index without a level parameter may impact performance.\n",
      "  new_axis = axis.drop(labels, errors=errors)\n",
      "/anaconda/lib/python3.6/site-packages/pandas/core/generic.py:3812: PerformanceWarning: dropping on a non-lexsorted multi-index without a level parameter may impact performance.\n",
      "  new_axis = axis.drop(labels, errors=errors)\n"
     ]
    }
   ],
   "source": [
    "wug_Lyn_df = get_wug_historical_data(Lyn_wug_sauce_dict)\n",
    "wug_Lyn_df.to_csv(path_or_buf = 'historical_weather_data/Lyn_wug_weather_data.csv')"
   ]
  },
  {
   "cell_type": "code",
   "execution_count": null,
   "metadata": {
    "hidden": true
   },
   "outputs": [],
   "source": []
  },
  {
   "cell_type": "code",
   "execution_count": null,
   "metadata": {
    "hidden": true
   },
   "outputs": [],
   "source": []
  },
  {
   "cell_type": "code",
   "execution_count": null,
   "metadata": {
    "hidden": true
   },
   "outputs": [],
   "source": []
  },
  {
   "cell_type": "markdown",
   "metadata": {},
   "source": [
    "## accuweather"
   ]
  },
  {
   "cell_type": "code",
   "execution_count": null,
   "metadata": {},
   "outputs": [],
   "source": []
  },
  {
   "cell_type": "code",
   "execution_count": 30,
   "metadata": {},
   "outputs": [],
   "source": [
    "awc_Leb_sauces = {'Leb_Dec_2018_awc':{'sauce': 'https://www.accuweather.com/en/us/lebanon-nh/03766/month/1289_pc?monyr=12/01/2018', \n",
    "                                  'yr':'2018'},\n",
    "                  'Leb_Jan_2019_awc':{'sauce': 'https://www.accuweather.com/en/us/lebanon-nh/03766/month/1289_pc?monyr=01/01/2019', \n",
    "                                  'yr':'2019'},\n",
    "                  'Leb_Feb_2019_awc':{'sauce': 'https://www.accuweather.com/en/us/lebanon-nh/03766/month/1289_pc?monyr=02/01/2019', \n",
    "                                  'yr':'2019'},\n",
    "                 }\n",
    "              \n",
    "awc_Wapp_sauces = {'Wapp_Dec_2018_awc': {'sauce': 'https://www.accuweather.com/en/us/wappingers-falls-ny/03766/month/4751_pc?monyr=12/01/2018', \n",
    "                                     'yr':'2018'},\n",
    "                   'Wapp_Jan_2019_awc': {'sauce': 'https://www.accuweather.com/en/us/wappingers-falls-ny/03766/month/4751_pc?monyr=01/01/2019', \n",
    "                                     'yr':'2019'},\n",
    "                   'Wapp_Feb_2019_awc': {'sauce': 'https://www.accuweather.com/en/us/wappingers-falls-ny/03766/month/4751_pc?monyr=02/01/2019', \n",
    "                                      'yr':'2019'},\n",
    "                    }\n",
    "               \n",
    "awc_Lyn_sauces = {'Lynd_Dec_2018_awc': {'sauce': 'https://www.accuweather.com/en/us/cleveland-oh/44124/month/18910_pc?monyr=12/01/2018', \n",
    "                                    'yr':'2018'},\n",
    "                  'Lynd_Jan_2019_awc': {'sauce': 'https://www.accuweather.com/en/us/cleveland-oh/44124/month/18910_pc?monyr=01/01/2019', \n",
    "                                    'yr':'2019'},\n",
    "                  'Lynd_Feb_2019_awc': {'sauce': 'https://www.accuweather.com/en/us/cleveland-oh/44124/month/18910_pc?monyr=02/01/2019', \n",
    "                                    'yr':'2019'},\n",
    "                 }"
   ]
  },
  {
   "cell_type": "code",
   "execution_count": 31,
   "metadata": {},
   "outputs": [],
   "source": [
    "def parse_historical_awc(entry, year): \n",
    "    \"\"\"Parses accuweather.com historical monthly data.\"\"\"\n",
    "    date, actual_and_ave_temps = entry.split('  Actual Temp  ')\n",
    "    actual_temps, ave_temps = actual_and_ave_temps.split('  Hist. Avg.  ')\n",
    "    \n",
    "    date = datetime.strptime(date + ' ' + year,'%a %b %d %Y')\n",
    "    date = date.strftime('%m-%d-%Y')\n",
    "    \n",
    "    actual_temps = actual_temps.split('  /')\n",
    "    high_temp = actual_temps[0].rstrip('°')\n",
    "    low_temp = actual_temps[1].rstrip('°')\n",
    "    \n",
    "    ave_temps = ave_temps.split('/')\n",
    "    ave_high_temp = ave_temps[0].rstrip('°')\n",
    "    ave_low_temp = ave_temps[1].rstrip('°')\n",
    "    \n",
    "    return {'date':date, 'Max': high_temp, 'Min': low_temp, 'Max_Ave': ave_high_temp, 'Min_Ave': ave_low_temp}"
   ]
  },
  {
   "cell_type": "code",
   "execution_count": 77,
   "metadata": {},
   "outputs": [],
   "source": [
    "def scrape_historical_awc_data(dict_of_sauces):\n",
    "    \"\"\"Scrapes accuweather.com historical monthly data.\"\"\"\n",
    "    all_dfs = []\n",
    "    \n",
    "    for place_n_date in dict_of_sauces.keys(): \n",
    "        \n",
    "        with webdriver.Chrome() as browser:\n",
    "\n",
    "            browser.get(dict_of_sauces[place_n_date]['sauce'])\n",
    "\n",
    "            weather_table = browser.find_element_by_id(\"content\")\n",
    "            acw_table = pd.read_html(weather_table.get_attribute('outerHTML'))\n",
    "\n",
    "        # flatten table\n",
    "        acw_table_flat_vals = acw_table[0].values.flatten()\n",
    "\n",
    "        # make df and set index\n",
    "        \n",
    "        awc_final_parsed_table = []\n",
    "        prior_date = 0\n",
    "        recording = False\n",
    "        \n",
    "        for v in acw_table_flat_vals:\n",
    "            date = v.split('  Actual Temp  ')[0]\n",
    "         #   print(date)\n",
    "            curr_day = date.split(' ')[2]\n",
    "        #    print(date)  \n",
    "        \n",
    "            if recording:\n",
    "                if curr_day =='1': # if recording and date = 1, this is a second new month -> break\n",
    "                    break\n",
    "                else:\n",
    "                    entry = parse_historical_awc(v, year = dict_of_sauces[place_n_date]['yr'])     \n",
    "                    awc_final_parsed_table.append(entry)\n",
    "            else:\n",
    "                if curr_day =='1': # if not recording and date = 1, this is the first of month -> start recording.\n",
    "                    entry = parse_historical_awc(v, year = dict_of_sauces[place_n_date]['yr'])     \n",
    "                    awc_final_parsed_table.append(entry)   \n",
    "                    recording = True\n",
    " \n",
    "        awc_df = pd.DataFrame(awc_final_parsed_table)   \n",
    "      #  print(awc_df)\n",
    "        awc_df = awc_df.set_index('date')\n",
    "\n",
    "        \n",
    "        \n",
    "        #add hiearchical column header, and reorder columns\n",
    "        awc_df = pd.concat({'Temperature':awc_df}, axis = 1)\n",
    "        awc_df = awc_df[[('Temperature','Max'),('Temperature','Min'),('Temperature','Max_Ave'),('Temperature','Min_Ave')]]\n",
    "\n",
    "        all_dfs.append(awc_df)\n",
    "   \n",
    "  #  print(all_dfs)\n",
    "    final_df = pd.concat(all_dfs)#.drop_duplicates()\n",
    "\n",
    "    \n",
    "    return final_df"
   ]
  },
  {
   "cell_type": "code",
   "execution_count": null,
   "metadata": {},
   "outputs": [],
   "source": []
  },
  {
   "cell_type": "code",
   "execution_count": 78,
   "metadata": {},
   "outputs": [],
   "source": [
    "Leb_df = scrape_historical_awc_data(awc_Leb_sauces)\n",
    "Leb_df.to_csv(path_or_buf='historical_weather_data/Leb_awc_historical_weather_data.csv')\n",
    "\n",
    "Wapp_df = scrape_historical_awc_data(awc_Wapp_sauces)\n",
    "Wapp_df.to_csv(path_or_buf='historical_weather_data/Wapp_awc_historical_weather_data.csv')\n",
    "\n",
    "Lyn_df = scrape_historical_awc_data(awc_Lyn_sauces)\n",
    "Lyn_df.to_csv(path_or_buf='historical_weather_data/Lyn_awc_historical_weather_data.csv')"
   ]
  },
  {
   "cell_type": "code",
   "execution_count": null,
   "metadata": {},
   "outputs": [],
   "source": []
  },
  {
   "cell_type": "markdown",
   "metadata": {
    "heading_collapsed": true
   },
   "source": [
    "## weather.com"
   ]
  },
  {
   "cell_type": "code",
   "execution_count": null,
   "metadata": {
    "hidden": true
   },
   "outputs": [],
   "source": []
  },
  {
   "cell_type": "code",
   "execution_count": 12,
   "metadata": {
    "hidden": true
   },
   "outputs": [],
   "source": [
    "wdc_Leb_sauces = {'Leb_Dec_2018_wdc':{'sauce': 'https://weather.com/weather/monthly/l/USID0448:27:US', \n",
    "                                      'month':'Dec','yr':'2018'},\n",
    "                  'Leb_Jan_2019_wdc':{'sauce': 'https://weather.com/weather/monthly/l/USID0448:27:US', \n",
    "                                      'month':'Jan','yr':'2019'},\n",
    "                  'Leb_Feb_2019_awc':{'sauce': 'https://weather.com/weather/monthly/l/USID0448:27:US', \n",
    "                                      'month':'Feb','yr':'2019'},\n",
    "                 }\n",
    "              \n",
    "wdc_Wapp_sauces = {'Wapp_Dec_2018_wdc': {'sauce': 'https://weather.com/weather/monthly/l/USNY1512:1:US', \n",
    "                                         'month':'Dec','yr':'2018'},\n",
    "                   'Wapp_Jan_2019_wdc': {'sauce': 'https://weather.com/weather/monthly/l/USNY1512:1:US', \n",
    "                                          'month':'Jan','yr':'2019'},\n",
    "                   'Wapp_Feb_2019_wdc': {'sauce': 'https://weather.com/weather/monthly/l/USNY1512:1:US', \n",
    "                                          'month':'Feb','yr':'2019'},\n",
    "                    }\n",
    "               \n",
    "wdc_Lyn_sauces = {'Lynd_Dec_2018_wdc': {'sauce': 'https://weather.com/weather/monthly/l/44124:4:US', \n",
    "                                       'month':'Dec','yr':'2018'},\n",
    "                  'Lynd_Jan_2019_wdc': {'sauce': 'https://weather.com/weather/monthly/l/44124:4:US', \n",
    "                                       'month':'Jan','yr':'2019'},\n",
    "                  'Lynd_Feb_2019_wdc': {'sauce': 'https://weather.com/weather/monthly/l/44124:4:US', \n",
    "                                        'month':'Feb','yr':'2019'},\n",
    "                 }"
   ]
  },
  {
   "cell_type": "code",
   "execution_count": 13,
   "metadata": {
    "hidden": true
   },
   "outputs": [],
   "source": [
    "def get_wdc_historical_data(sauce, month, year):\n",
    "    \"\"\"Scrapes weatherunderground.com historical monthly data.\"\"\"\n",
    "    month_and_year = month + ' ' + year\n",
    "\n",
    "    with webdriver.Chrome() as browser:\n",
    "        browser.get(sauce)\n",
    "\n",
    "        time.sleep(10) # wait for the page to load. \n",
    "\n",
    "        month_button = Select(browser.find_element_by_id(\"month-picker\"))\n",
    "\n",
    "        i = 0\n",
    "        while True:\n",
    "\n",
    "            month_button.select_by_visible_text(month_and_year)\n",
    "\n",
    "            time.sleep(10) # wait for the new page to load\n",
    "\n",
    "            test_but = month_button.first_selected_option.text\n",
    "\n",
    "            if month_button.first_selected_option.text == month_and_year:\n",
    "                break\n",
    "\n",
    "            i+=1\n",
    "            \n",
    "            if i==10:\n",
    "                print('Tried to get weather.com historical data 10 times, breaking.')\n",
    "\n",
    "        wdc_weather_table = browser.find_element_by_class_name(\"forecast-monthly\")\n",
    "        wdc_table = wdc_weather_table.get_attribute('outerHTML')\n",
    "\n",
    "        soup = BeautifulSoup(wdc_table,\"lxml\")\n",
    "\n",
    "    return soup.findAll(\"div\", {\"class\":\"dayCell opaque\"}) # \"opaque\" days are the past days"
   ]
  },
  {
   "cell_type": "code",
   "execution_count": 14,
   "metadata": {
    "hidden": true,
    "scrolled": false
   },
   "outputs": [],
   "source": [
    "def parse_wdc_historical_monthly_date(data_in, month, year):\n",
    "    \"\"\"Parses weatherunderground.com historical monthly data.\"\"\"\n",
    "    final_list = []\n",
    "    prior_date = 0\n",
    "\n",
    "    recording = False\n",
    "\n",
    "    for d in data_in:\n",
    "\n",
    "        curr_day = d.find(\"div\",{\"class\":\"date\"}).text\n",
    "        # note to self: there is not much other info in this page other than low and hi temp\n",
    "        # they seems to have the nightly cloud cover as well, but that is it. \n",
    "        curr_hi_temp = d.find(\"div\",{\"class\":\"hi\"}).text  \\\n",
    "                        .rstrip('°')\n",
    "        curr_low_temp = d.find(\"div\",{\"class\":\"low\"}).text \\\n",
    "                         .rstrip('°')\n",
    "  \n",
    "        if recording:\n",
    "            if curr_day =='1': # if recording and date = 1, this is a second new month -> break\n",
    "                break\n",
    "            else:\n",
    "                curr_date = month + '-' + curr_day + '-' + year\n",
    "                curr_date = datetime.strptime(curr_date,'%b-%d-%Y')\n",
    "                curr_date = curr_date.strftime('%m-%d-%Y')\n",
    "                final_list.append({'date':curr_date, 'Max':curr_hi_temp, 'Min':curr_low_temp})\n",
    "        else:\n",
    "            if curr_day =='1': # if not recording and date = 1, this is the first of month -> start recording.\n",
    "                recording = True\n",
    "                curr_date = month + '-' + curr_day + '-' + year\n",
    "                curr_date = datetime.strptime(curr_date,'%b-%d-%Y')\n",
    "                curr_date = curr_date.strftime('%m-%d-%Y')\n",
    "                final_list.append({'date':curr_date, 'Max':curr_hi_temp, 'Min':curr_low_temp})        \n",
    "               \n",
    "    final_df = pd.DataFrame(final_list)    \n",
    "    final_df.set_index(keys = 'date', inplace = True)\n",
    "    final_df = pd.concat({'Temperature':final_df}, axis = 1)\n",
    "    \n",
    "    return final_df"
   ]
  },
  {
   "cell_type": "code",
   "execution_count": 15,
   "metadata": {
    "hidden": true
   },
   "outputs": [],
   "source": [
    "final_dfs = []\n",
    "\n",
    "for k in wdc_Leb_sauces:\n",
    "    wdc_scraped_data = get_wdc_historical_data(sauce = wdc_Leb_sauces[k]['sauce'], \n",
    "                                               month = wdc_Leb_sauces[k]['month'], \n",
    "                                               year = wdc_Leb_sauces[k]['yr'])\n",
    "    wdc_df = parse_wdc_historical_monthly_date(data_in = wdc_scraped_data, month = wdc_Leb_sauces[k]['month'], year = wdc_Leb_sauces[k]['yr'])\n",
    "    final_dfs.append(wdc_df)\n",
    "    \n",
    "Leb_wdc_historical_df = pd.concat(final_dfs)\n",
    "Leb_wdc_historical_df.to_csv(path_or_buf = 'historical_weather_data/Leb_wdc_weather_data.csv')"
   ]
  },
  {
   "cell_type": "code",
   "execution_count": 16,
   "metadata": {
    "hidden": true
   },
   "outputs": [],
   "source": [
    "final_dfs = []\n",
    "\n",
    "for k in wdc_Wapp_sauces:\n",
    "    wdc_scraped_data = get_wdc_historical_data(sauce = wdc_Wapp_sauces[k]['sauce'], \n",
    "                                               month = wdc_Wapp_sauces[k]['month'], \n",
    "                                               year = wdc_Wapp_sauces[k]['yr'])\n",
    "    wdc_df = parse_wdc_historical_monthly_date(data_in = wdc_scraped_data, month = wdc_Wapp_sauces[k]['month'], year = wdc_Wapp_sauces[k]['yr'])\n",
    "    final_dfs.append(wdc_df)\n",
    "    \n",
    "Wapp_wdc_historical_df = pd.concat(final_dfs)\n",
    "Wapp_wdc_historical_df.to_csv(path_or_buf = 'historical_weather_data/Wapp_wdc_weather_data.csv')"
   ]
  },
  {
   "cell_type": "code",
   "execution_count": 17,
   "metadata": {
    "hidden": true
   },
   "outputs": [],
   "source": [
    "final_dfs = []\n",
    "\n",
    "for k in wdc_Lyn_sauces:\n",
    "    wdc_scraped_data = get_wdc_historical_data(sauce = wdc_Lyn_sauces[k]['sauce'], \n",
    "                                               month = wdc_Lyn_sauces[k]['month'], \n",
    "                                               year = wdc_Lyn_sauces[k]['yr'])\n",
    "    wdc_df = parse_wdc_historical_monthly_date(data_in = wdc_scraped_data, month = wdc_Lyn_sauces[k]['month'], year = wdc_Lyn_sauces[k]['yr'])\n",
    "    final_dfs.append(wdc_df)\n",
    "    \n",
    "Lyn_wdc_historical_df = pd.concat(final_dfs)\n",
    "Lyn_wdc_historical_df.to_csv(path_or_buf = 'historical_weather_data/Lyn_wdc_weather_data.csv')"
   ]
  },
  {
   "cell_type": "code",
   "execution_count": null,
   "metadata": {
    "hidden": true
   },
   "outputs": [],
   "source": []
  }
 ],
 "metadata": {
  "kernelspec": {
   "display_name": "Python 3",
   "language": "python",
   "name": "python3"
  },
  "language_info": {
   "codemirror_mode": {
    "name": "ipython",
    "version": 3
   },
   "file_extension": ".py",
   "mimetype": "text/x-python",
   "name": "python",
   "nbconvert_exporter": "python",
   "pygments_lexer": "ipython3",
   "version": "3.6.8"
  },
  "latex_envs": {
   "LaTeX_envs_menu_present": true,
   "autoclose": false,
   "autocomplete": true,
   "bibliofile": "biblio.bib",
   "cite_by": "apalike",
   "current_citInitial": 1,
   "eqLabelWithNumbers": true,
   "eqNumInitial": 1,
   "hotkeys": {
    "equation": "Ctrl-E",
    "itemize": "Ctrl-I"
   },
   "labels_anchors": false,
   "latex_user_defs": false,
   "report_style_numbering": false,
   "user_envs_cfg": false
  },
  "toc": {
   "base_numbering": 1,
   "nav_menu": {},
   "number_sections": true,
   "sideBar": true,
   "skip_h1_title": false,
   "title_cell": "Table of Contents",
   "title_sidebar": "Contents",
   "toc_cell": false,
   "toc_position": {},
   "toc_section_display": "block",
   "toc_window_display": false
  },
  "varInspector": {
   "cols": {
    "lenName": 16,
    "lenType": 16,
    "lenVar": 40
   },
   "kernels_config": {
    "python": {
     "delete_cmd_postfix": "",
     "delete_cmd_prefix": "del ",
     "library": "var_list.py",
     "varRefreshCmd": "print(var_dic_list())"
    },
    "r": {
     "delete_cmd_postfix": ") ",
     "delete_cmd_prefix": "rm(",
     "library": "var_list.r",
     "varRefreshCmd": "cat(var_dic_list()) "
    }
   },
   "position": {
    "height": "597.85px",
    "left": "1478.27px",
    "right": "20px",
    "top": "120px",
    "width": "325.733px"
   },
   "types_to_exclude": [
    "module",
    "function",
    "builtin_function_or_method",
    "instance",
    "_Feature"
   ],
   "window_display": false
  }
 },
 "nbformat": 4,
 "nbformat_minor": 2
}
