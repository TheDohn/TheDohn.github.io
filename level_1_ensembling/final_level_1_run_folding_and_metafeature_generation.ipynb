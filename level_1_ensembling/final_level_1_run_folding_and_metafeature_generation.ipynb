{
 "cells": [
  {
   "cell_type": "code",
   "execution_count": null,
   "metadata": {},
   "outputs": [],
   "source": []
  },
  {
   "cell_type": "code",
   "execution_count": 1,
   "metadata": {
    "scrolled": true
   },
   "outputs": [
    {
     "data": {
      "text/plain": [
       "('0.23.3', '1.14.2')"
      ]
     },
     "execution_count": 1,
     "metadata": {},
     "output_type": "execute_result"
    }
   ],
   "source": [
    "import pandas as pd\n",
    "\n",
    "import numpy as np\n",
    "\n",
    "import matplotlib.pyplot as plt\n",
    "import seaborn as sns\n",
    "sns.set(context = 'notebook', #mostly controls relative sizes of things on plot \n",
    "                        #The base context is “notebook”, and the other contexts are “paper”, “talk”, and “poster”\n",
    "        style = 'darkgrid', #dict, None, or one of {darkgrid, whitegrid, dark, white, ticks}\n",
    "        palette = 'deep', # Should be something that color_palette() can process.\n",
    "        font_scale = 1, \n",
    "        color_codes = False, \n",
    "        rc = None)\n",
    "\n",
    "#from IPython.core.interactiveshell import InteractiveShell \n",
    "#InteractiveShell.ast_node_interactivity = 'last_expr' \n",
    "#setting = \"all\" allows multiple outputs to be displayed for a given input cell. don't use w plotting!\n",
    "\n",
    "from IPython.display import display\n",
    "\n",
    "%matplotlib notebook\n",
    "#%matplotlib inline\n",
    "\n",
    "pd.__version__ , np.__version__ #,  matplotlib.__version__, sns.__version__"
   ]
  },
  {
   "cell_type": "code",
   "execution_count": null,
   "metadata": {},
   "outputs": [],
   "source": []
  },
  {
   "cell_type": "code",
   "execution_count": 2,
   "metadata": {},
   "outputs": [],
   "source": [
    "from sklearn.model_selection import train_test_split, learning_curve, cross_val_score, KFold, StratifiedKFold, \\\n",
    "                                    ShuffleSplit, GridSearchCV, RandomizedSearchCV, cross_val_predict\n",
    "\n",
    "from sklearn.metrics import roc_auc_score\n",
    "\n",
    "from sklearn.ensemble import RandomForestClassifier\n",
    "from sklearn.linear_model import LogisticRegression\n",
    "\n",
    "from sklearn.neural_network import MLPClassifier\n",
    "\n",
    "from sklearn.externals import joblib"
   ]
  },
  {
   "cell_type": "code",
   "execution_count": null,
   "metadata": {},
   "outputs": [],
   "source": []
  },
  {
   "cell_type": "code",
   "execution_count": 3,
   "metadata": {
    "scrolled": true
   },
   "outputs": [
    {
     "data": {
      "text/plain": [
       "'/Users/DonBunk/Desktop/Google Drive/data_science/Python_Projects/Home_Credit_Default_Risk/level_1_ensembling'"
      ]
     },
     "execution_count": 3,
     "metadata": {},
     "output_type": "execute_result"
    }
   ],
   "source": [
    "pwd"
   ]
  },
  {
   "cell_type": "code",
   "execution_count": 4,
   "metadata": {},
   "outputs": [
    {
     "name": "stdout",
     "output_type": "stream",
     "text": [
      "/Users/DonBunk/Desktop/Google Drive/data_science/Python_Projects/Home_Credit_Default_Risk\n"
     ]
    }
   ],
   "source": [
    "% cd '/Users/DonBunk/Desktop/Google Drive/data_science/Python_Projects/Home_Credit_Default_Risk/'"
   ]
  },
  {
   "cell_type": "code",
   "execution_count": 5,
   "metadata": {},
   "outputs": [],
   "source": [
    "from Home_Credit_package.master_pipeline import master_pipeline\n",
    "from Home_Credit_package.Dons_functions import balanced_sample"
   ]
  },
  {
   "cell_type": "code",
   "execution_count": 6,
   "metadata": {},
   "outputs": [
    {
     "data": {
      "text/plain": [
       "'/Users/DonBunk/Desktop/Google Drive/data_science/Python_Projects/Home_Credit_Default_Risk'"
      ]
     },
     "execution_count": 6,
     "metadata": {},
     "output_type": "execute_result"
    }
   ],
   "source": [
    "pwd"
   ]
  },
  {
   "cell_type": "code",
   "execution_count": null,
   "metadata": {},
   "outputs": [],
   "source": []
  },
  {
   "cell_type": "code",
   "execution_count": 7,
   "metadata": {},
   "outputs": [],
   "source": [
    "model_save_path = 'saved_models/level_1_models/'"
   ]
  },
  {
   "cell_type": "code",
   "execution_count": null,
   "metadata": {},
   "outputs": [],
   "source": []
  },
  {
   "cell_type": "markdown",
   "metadata": {},
   "source": [
    "# load this"
   ]
  },
  {
   "cell_type": "code",
   "execution_count": null,
   "metadata": {},
   "outputs": [],
   "source": []
  },
  {
   "cell_type": "markdown",
   "metadata": {
    "heading_collapsed": true
   },
   "source": [
    "## load df"
   ]
  },
  {
   "cell_type": "code",
   "execution_count": null,
   "metadata": {
    "hidden": true
   },
   "outputs": [],
   "source": []
  },
  {
   "cell_type": "code",
   "execution_count": 8,
   "metadata": {
    "hidden": true
   },
   "outputs": [],
   "source": [
    "from functools import reduce\n",
    "\n",
    "path = 'wrangling/TRAINING_DATA_create_final_wrangled_csv/'\n",
    "total_df = pd.read_csv(path + 'complete_initial_wrangled_data.csv', index_col = 'SK_ID_CURR')"
   ]
  },
  {
   "cell_type": "code",
   "execution_count": null,
   "metadata": {
    "hidden": true
   },
   "outputs": [],
   "source": []
  },
  {
   "cell_type": "code",
   "execution_count": 9,
   "metadata": {
    "hidden": true,
    "scrolled": false
   },
   "outputs": [
    {
     "name": "stdout",
     "output_type": "stream",
     "text": [
      "<class 'pandas.core.frame.DataFrame'>\n",
      "Int64Index: 307511 entries, 100002 to 456255\n",
      "Data columns (total 86 columns):\n",
      "TARGET                               307511 non-null int64\n",
      "NAME_CONTRACT_TYPE                   307511 non-null object\n",
      "CODE_GENDER                          307511 non-null object\n",
      "FLAG_OWN_CAR                         307511 non-null object\n",
      "FLAG_OWN_REALTY                      307511 non-null object\n",
      "CNT_CHILDREN                         307511 non-null int64\n",
      "NAME_EDUCATION_TYPE                  307511 non-null object\n",
      "NAME_FAMILY_STATUS                   307511 non-null object\n",
      "DAYS_BIRTH                           307511 non-null int64\n",
      "FLAG_EMP_PHONE                       307511 non-null int64\n",
      "FLAG_WORK_PHONE                      307511 non-null int64\n",
      "FLAG_PHONE                           307511 non-null int64\n",
      "FLAG_EMAIL                           307511 non-null int64\n",
      "CNT_FAM_MEMBERS                      307511 non-null int64\n",
      "REGION_RATING_CLIENT                 307511 non-null int64\n",
      "WEEKDAY_APPR_PROCESS_START           307511 non-null object\n",
      "HOUR_APPR_PROCESS_START              307511 non-null int64\n",
      "REG_REGION_NOT_LIVE_REGION           307511 non-null int64\n",
      "REG_REGION_NOT_WORK_REGION           307511 non-null int64\n",
      "LIVE_REGION_NOT_WORK_REGION          307511 non-null int64\n",
      "REG_CITY_NOT_LIVE_CITY               307511 non-null int64\n",
      "REG_CITY_NOT_WORK_CITY               307511 non-null int64\n",
      "LIVE_CITY_NOT_WORK_CITY              307511 non-null int64\n",
      "EXT_SOURCE_1                         307511 non-null float64\n",
      "EXT_SOURCE_2                         307511 non-null float64\n",
      "EXT_SOURCE_3                         307511 non-null float64\n",
      "APARTMENTS_AVG                       307511 non-null float64\n",
      "LANDAREA_AVG                         307511 non-null float64\n",
      "TOTALAREA_MODE                       307511 non-null float64\n",
      "EMERGENCYSTATE_MODE                  307511 non-null object\n",
      "OBS_60_CNT_SOCIAL_CIRCLE             307511 non-null float64\n",
      "FLAG_DOCUMENT_3                      307511 non-null int64\n",
      "FLAG_DOCUMENT_6                      307511 non-null int64\n",
      "AMT_REQ_CREDIT_BUREAU_YEAR           307511 non-null float64\n",
      "NULL_COUNTS                          307511 non-null int64\n",
      "SOCIAL_NULL_COUNTS                   307511 non-null int64\n",
      "NAME_TYPE_SUITE_condensed            307511 non-null object\n",
      "NAME_INCOME_TYPE_condensed           307511 non-null object\n",
      "NAME_HOUSING_TYPE_condensed          307511 non-null object\n",
      "OCCUPATION_TYPE_condensed            307511 non-null object\n",
      "ORGANIZATION_TYPE_condensed          307511 non-null object\n",
      "DAYS_EMPLOYED_eq_365243              307511 non-null object\n",
      "log_AMT_INCOME_TOTAL                 307511 non-null float64\n",
      "log_AMT_CREDIT                       307511 non-null float64\n",
      "pwr_AMT_ANNUITY_from_app_train       307511 non-null float64\n",
      "log_AMT_GOODS_PRICE                  307511 non-null float64\n",
      "pwr_REGION_POPULATION_RELATIVE       307511 non-null float64\n",
      "pwr_DAYS_REGISTRATION                307511 non-null float64\n",
      "pwr_OWN_CAR_AGE                      307511 non-null float64\n",
      "pwr_DAYS_LAST_PHONE_CHANGE           307511 non-null float64\n",
      "pwr_DAYS_EMPLOYED                    307511 non-null float64\n",
      "pwr_DAYS_ID_PUBLISH                  307511 non-null float64\n",
      "DAYS_CREDIT_min                      307511 non-null float64\n",
      "CREDIT_ACTIVE_mode                   307511 non-null object\n",
      "CREDIT_CURRENCY_mode_condensed       307511 non-null object\n",
      "CREDIT_TYPE_mode_condensed           307511 non-null object\n",
      "pwr_DAYS_CREDIT_mean                 307511 non-null float64\n",
      "pwr_DAYS_ENDDATE_FACT_min            307511 non-null float64\n",
      "pwr_DAYS_CREDIT_median               307511 non-null float64\n",
      "pwr_DAYS_ENDDATE_FACT_median         307511 non-null float64\n",
      "LogMod_AMT_CREDIT_SUM_DEBT_mean      307511 non-null float64\n",
      "pwr_DAYS_CREDIT_ENDDATE_mean         307511 non-null float64\n",
      "pwr_DAYS_CREDIT_UPDATE_mean          307511 non-null float64\n",
      "NUM_OF_LOANS                         307511 non-null float64\n",
      "AMT_OVERPAY_MEAN                     307511 non-null float64\n",
      "AMT_OVERPAY_SD                       307511 non-null float64\n",
      "NUM_TIMES_OVERPAY                    307511 non-null float64\n",
      "NUM_INSTALMENT_VERSION_max           307511 non-null float64\n",
      "NUM_INSTALMENT_VERSION_min           307511 non-null float64\n",
      "DAYS_INSTALMENT_min                  307511 non-null float64\n",
      "DAYS_ENTRY_PAYMENT_min               307511 non-null float64\n",
      "pwr_DAYS_PAYMENT_LATE_median         307511 non-null float64\n",
      "LogMod_DAYS_PAYMENT_LATE_sd          307511 non-null float64\n",
      "pwr_NUM_TIMES_LATE                   307511 non-null float64\n",
      "LogMod_NUM_TIMES_EARLY               307511 non-null float64\n",
      "pwr_TERMS_CHANGE_TIMES               307511 non-null float64\n",
      "pwr_DAYS_INSTALMENT_mean             307511 non-null float64\n",
      "pwr_DAYS_ENTRY_PAYMENT_mean          307511 non-null float64\n",
      "LogMod_AMT_INSTALMENT_mean           307511 non-null float64\n",
      "pwr_AMT_INSTALMENT_max               307511 non-null float64\n",
      "pwr_AMT_INSTALMENT_min               307511 non-null float64\n",
      "LogMod_AMT_PAYMENT_mean              307511 non-null float64\n",
      "LogMod_AMT_PAYMENT_max               307511 non-null float64\n",
      "pwr_AMT_PAYMENT_min                  307511 non-null float64\n",
      "LogMod_NUM_INSTALMENT_NUMBER_mean    307511 non-null float64\n",
      "LogMod_NUM_INSTALMENT_NUMBER_max     307511 non-null float64\n",
      "dtypes: float64(49), int64(20), object(17)\n",
      "memory usage: 204.1+ MB\n"
     ]
    }
   ],
   "source": [
    "total_df.info(verbose = True, null_counts = True);"
   ]
  },
  {
   "cell_type": "code",
   "execution_count": 10,
   "metadata": {
    "hidden": true
   },
   "outputs": [
    {
     "data": {
      "text/plain": [
       "Series([], dtype: bool)"
      ]
     },
     "execution_count": 10,
     "metadata": {},
     "output_type": "execute_result"
    }
   ],
   "source": [
    "# CHECK: this should be empty if everything is non null\n",
    "total_df.isnull().any()[total_df.isnull().any()==True]"
   ]
  },
  {
   "cell_type": "code",
   "execution_count": null,
   "metadata": {
    "hidden": true,
    "scrolled": true
   },
   "outputs": [],
   "source": []
  },
  {
   "cell_type": "markdown",
   "metadata": {},
   "source": [
    "# new models to run"
   ]
  },
  {
   "cell_type": "code",
   "execution_count": null,
   "metadata": {},
   "outputs": [],
   "source": []
  },
  {
   "cell_type": "code",
   "execution_count": 11,
   "metadata": {},
   "outputs": [],
   "source": [
    "raw_level_1_new_features_df = pd.DataFrame(total_df.index)\n",
    "raw_level_1_new_features_df.set_index('SK_ID_CURR', inplace=True)"
   ]
  },
  {
   "cell_type": "code",
   "execution_count": null,
   "metadata": {},
   "outputs": [],
   "source": []
  },
  {
   "cell_type": "markdown",
   "metadata": {
    "heading_collapsed": true
   },
   "source": [
    "### random forest random, EXT sources, with poly interactions"
   ]
  },
  {
   "cell_type": "code",
   "execution_count": null,
   "metadata": {
    "hidden": true
   },
   "outputs": [],
   "source": []
  },
  {
   "cell_type": "code",
   "execution_count": 12,
   "metadata": {
    "hidden": true,
    "scrolled": true
   },
   "outputs": [
    {
     "name": "stdout",
     "output_type": "stream",
     "text": [
      "Total original feat len is 3. Sum of feats is 3.\n",
      "Final array is length 35. final feature list is length 35.\n"
     ]
    }
   ],
   "source": [
    "total_df_piped, final_feature_list, total_pipeline, trans_list = \\\n",
    "master_pipeline(df_in = total_df[['EXT_SOURCE_1','EXT_SOURCE_2',\n",
    "                                         'EXT_SOURCE_3']],\n",
    "                int_cutoff=20, \n",
    "                poly_deg=4, \n",
    "                feats_with_interaction=['EXT_SOURCE_1','EXT_SOURCE_2',\n",
    "                                         'EXT_SOURCE_3']\n",
    "                )"
   ]
  },
  {
   "cell_type": "code",
   "execution_count": null,
   "metadata": {
    "hidden": true
   },
   "outputs": [],
   "source": []
  },
  {
   "cell_type": "code",
   "execution_count": 13,
   "metadata": {
    "hidden": true
   },
   "outputs": [
    {
     "name": "stdout",
     "output_type": "stream",
     "text": [
      "Memmaping (shape=(307511, 35), dtype=float64) to new file /var/folders/1x/nd476hm95310c4gp98rmvwkc0000gn/T/joblib_memmaping_pool_10637_4491624008/10637-112175649680-b9484bf6bcb51c1aa31120baddc95076.pkl\n",
      "Memmaping (shape=(307511,), dtype=int64) to new file /var/folders/1x/nd476hm95310c4gp98rmvwkc0000gn/T/joblib_memmaping_pool_10637_4491624008/10637-112175649680-7fee98903a11851f0c36b343c7ef5338.pkl\n",
      "Memmaping (shape=(205007,), dtype=int64) to new file /var/folders/1x/nd476hm95310c4gp98rmvwkc0000gn/T/joblib_memmaping_pool_10637_4491624008/10637-112175649680-617b94b8ee1dd73b53ff7a38ec2f741c.pkl\n",
      "Memmaping (shape=(205007,), dtype=int64) to new file /var/folders/1x/nd476hm95310c4gp98rmvwkc0000gn/T/joblib_memmaping_pool_10637_4491624008/10637-112175649680-49dd99a20eff7bff76798131d715d7ea.pkl\n",
      "Memmaping (shape=(205008,), dtype=int64) to new file /var/folders/1x/nd476hm95310c4gp98rmvwkc0000gn/T/joblib_memmaping_pool_10637_4491624008/10637-112175649680-20227521c910aa39c9819320f3625345.pkl\n",
      "[Parallel(n_jobs=-1)]: Done   1 tasks      | elapsed:   40.2s\n",
      "[Parallel(n_jobs=-1)]: Done   3 out of   3 | elapsed:   40.4s remaining:    0.0s\n",
      "[Parallel(n_jobs=-1)]: Done   3 out of   3 | elapsed:   40.4s finished\n"
     ]
    }
   ],
   "source": [
    "my_StrKFold = StratifiedKFold(n_splits = 3, \n",
    "                              shuffle = True,\n",
    "                              random_state = 0)\n",
    "\n",
    "my_folds = my_StrKFold.split(total_df, total_df['TARGET'])\n",
    "\n",
    "param_dist_dict =  {'max_depth': 7,\n",
    "                     'min_samples_leaf': 10,\n",
    "                     'min_samples_split': 2,\n",
    "                     'n_estimators': 50}\n",
    "\n",
    "forest_reg = RandomForestClassifier(random_state=0,\n",
    "                                    class_weight = None,\n",
    "                                    **param_dist_dict,\n",
    "                                    #verbose = 51\n",
    "                                   )\n",
    "\n",
    "cross_val_preds = cross_val_predict(estimator = forest_reg, \n",
    "                                      X = total_df_piped,\n",
    "                                      y = total_df['TARGET'], \n",
    "                                      groups = None,\n",
    "                                      cv = my_folds,\n",
    "                                      n_jobs = -1,\n",
    "                                      verbose = 51,\n",
    "                                      fit_params = None, \n",
    "                                      pre_dispatch = '2*n_jobs', \n",
    "                                      method = 'predict_proba')"
   ]
  },
  {
   "cell_type": "code",
   "execution_count": null,
   "metadata": {
    "hidden": true
   },
   "outputs": [],
   "source": []
  },
  {
   "cell_type": "code",
   "execution_count": 14,
   "metadata": {
    "hidden": true
   },
   "outputs": [],
   "source": [
    "val_scores = [x[1]for x in cross_val_preds]"
   ]
  },
  {
   "cell_type": "code",
   "execution_count": null,
   "metadata": {
    "hidden": true
   },
   "outputs": [],
   "source": []
  },
  {
   "cell_type": "code",
   "execution_count": 15,
   "metadata": {
    "hidden": true
   },
   "outputs": [],
   "source": [
    "raw_level_1_new_features_df['RanFor_EXTpoly'] = val_scores"
   ]
  },
  {
   "cell_type": "code",
   "execution_count": null,
   "metadata": {
    "hidden": true
   },
   "outputs": [],
   "source": []
  },
  {
   "cell_type": "code",
   "execution_count": 16,
   "metadata": {
    "hidden": true
   },
   "outputs": [
    {
     "data": {
      "text/plain": [
       "0.7254847039583217"
      ]
     },
     "execution_count": 16,
     "metadata": {},
     "output_type": "execute_result"
    }
   ],
   "source": [
    "roc_auc_score(total_df['TARGET'], val_scores)"
   ]
  },
  {
   "cell_type": "code",
   "execution_count": null,
   "metadata": {
    "hidden": true
   },
   "outputs": [],
   "source": []
  },
  {
   "cell_type": "code",
   "execution_count": 17,
   "metadata": {
    "hidden": true
   },
   "outputs": [
    {
     "data": {
      "text/plain": [
       "RandomForestClassifier(bootstrap=True, class_weight=None, criterion='gini',\n",
       "            max_depth=7, max_features='auto', max_leaf_nodes=None,\n",
       "            min_impurity_decrease=0.0, min_impurity_split=None,\n",
       "            min_samples_leaf=10, min_samples_split=2,\n",
       "            min_weight_fraction_leaf=0.0, n_estimators=50, n_jobs=1,\n",
       "            oob_score=False, random_state=0, verbose=0, warm_start=False)"
      ]
     },
     "execution_count": 17,
     "metadata": {},
     "output_type": "execute_result"
    }
   ],
   "source": [
    "# fit and save model for predictions\n",
    "forest_reg.fit(X = total_df_piped,\n",
    "               y = total_df['TARGET'])"
   ]
  },
  {
   "cell_type": "code",
   "execution_count": 18,
   "metadata": {
    "hidden": true
   },
   "outputs": [
    {
     "data": {
      "text/plain": [
       "['saved_models/level_1_models/RanFor_EXTpoly_level_1.joblib']"
      ]
     },
     "execution_count": 18,
     "metadata": {},
     "output_type": "execute_result"
    }
   ],
   "source": [
    "joblib.dump(forest_reg, model_save_path + 'RanFor_EXTpoly_level_1.joblib')"
   ]
  },
  {
   "cell_type": "code",
   "execution_count": null,
   "metadata": {
    "hidden": true
   },
   "outputs": [],
   "source": []
  },
  {
   "cell_type": "markdown",
   "metadata": {
    "heading_collapsed": true
   },
   "source": [
    "### random forest, all features"
   ]
  },
  {
   "cell_type": "code",
   "execution_count": null,
   "metadata": {
    "hidden": true
   },
   "outputs": [],
   "source": []
  },
  {
   "cell_type": "code",
   "execution_count": 19,
   "metadata": {
    "hidden": true
   },
   "outputs": [
    {
     "name": "stdout",
     "output_type": "stream",
     "text": [
      "Total original feat len is 85. Sum of feats is 85.\n",
      "Final array is length 418. final feature list is length 418.\n"
     ]
    }
   ],
   "source": [
    "total_df_piped, final_feature_list, total_pipeline, trans_list = \\\n",
    "master_pipeline(df_in = total_df,\n",
    "                int_cutoff=20, \n",
    "                poly_deg=4, \n",
    "                feats_with_interaction=[]\n",
    "                )"
   ]
  },
  {
   "cell_type": "code",
   "execution_count": null,
   "metadata": {
    "hidden": true
   },
   "outputs": [],
   "source": []
  },
  {
   "cell_type": "code",
   "execution_count": 20,
   "metadata": {
    "hidden": true
   },
   "outputs": [
    {
     "name": "stdout",
     "output_type": "stream",
     "text": [
      "Memmaping (shape=(73187618,), dtype=int32) to new file /var/folders/1x/nd476hm95310c4gp98rmvwkc0000gn/T/joblib_memmaping_pool_10637_112175648952/10637-112180294880-944bb81dc33d1a337714af8a3d3ab012.pkl\n",
      "Memmaping (shape=(307512,), dtype=int32) to new file /var/folders/1x/nd476hm95310c4gp98rmvwkc0000gn/T/joblib_memmaping_pool_10637_112175648952/10637-112180294880-851f25297a32c2e0d1a0ef9235730f5f.pkl\n",
      "Memmaping (shape=(73187618,), dtype=float64) to new file /var/folders/1x/nd476hm95310c4gp98rmvwkc0000gn/T/joblib_memmaping_pool_10637_112175648952/10637-112180294880-5f766c0f99bba322f54619d7700cf8ee.pkl\n",
      "Memmaping (shape=(307511,), dtype=int64) to new file /var/folders/1x/nd476hm95310c4gp98rmvwkc0000gn/T/joblib_memmaping_pool_10637_112175648952/10637-112180294880-7fee98903a11851f0c36b343c7ef5338.pkl\n",
      "Memmaping (shape=(205007,), dtype=int64) to new file /var/folders/1x/nd476hm95310c4gp98rmvwkc0000gn/T/joblib_memmaping_pool_10637_112175648952/10637-112180294880-617b94b8ee1dd73b53ff7a38ec2f741c.pkl\n",
      "Memmaping (shape=(205007,), dtype=int64) to new file /var/folders/1x/nd476hm95310c4gp98rmvwkc0000gn/T/joblib_memmaping_pool_10637_112175648952/10637-112180294880-49dd99a20eff7bff76798131d715d7ea.pkl\n",
      "Memmaping (shape=(205008,), dtype=int64) to new file /var/folders/1x/nd476hm95310c4gp98rmvwkc0000gn/T/joblib_memmaping_pool_10637_112175648952/10637-112180294880-20227521c910aa39c9819320f3625345.pkl\n",
      "[Parallel(n_jobs=-1)]: Done   1 tasks      | elapsed:  6.3min\n",
      "[Parallel(n_jobs=-1)]: Done   3 out of   3 | elapsed:  6.3min remaining:    0.0s\n",
      "[Parallel(n_jobs=-1)]: Done   3 out of   3 | elapsed:  6.3min finished\n"
     ]
    }
   ],
   "source": [
    "my_StrKFold = StratifiedKFold(n_splits = 3, \n",
    "                              shuffle = True,\n",
    "                              random_state = 0)\n",
    "\n",
    "my_folds = my_StrKFold.split(total_df, total_df['TARGET'])\n",
    "\n",
    "param_dist_dict =  {'max_depth': 15,\n",
    "                     'min_samples_leaf': 63,\n",
    "                     'min_samples_split': 2,\n",
    "                     'n_estimators': 40}\n",
    "\n",
    "forest_reg = RandomForestClassifier(random_state=0,\n",
    "                                    class_weight = None,\n",
    "                                   **param_dist_dict, \n",
    "                                 #  verbose = 51, \n",
    "                                 #  n_jobs = -1\n",
    "                                   )\n",
    "\n",
    "cross_val_preds = cross_val_predict(estimator = forest_reg, \n",
    "                                      X = total_df_piped,\n",
    "                                      y = total_df['TARGET'], \n",
    "                                      groups = None,\n",
    "                                      cv = my_folds,\n",
    "                                      n_jobs = -1,\n",
    "                                      verbose = 51,\n",
    "                                      fit_params = None, \n",
    "                                      pre_dispatch = '2*n_jobs', \n",
    "                                      method = 'predict_proba')"
   ]
  },
  {
   "cell_type": "code",
   "execution_count": null,
   "metadata": {
    "hidden": true
   },
   "outputs": [],
   "source": []
  },
  {
   "cell_type": "code",
   "execution_count": 21,
   "metadata": {
    "hidden": true
   },
   "outputs": [],
   "source": [
    "val_scores = [x[1]for x in cross_val_preds]\n",
    "\n",
    "raw_level_1_new_features_df['RanFor_AllFeats'] = val_scores"
   ]
  },
  {
   "cell_type": "code",
   "execution_count": null,
   "metadata": {
    "hidden": true
   },
   "outputs": [],
   "source": []
  },
  {
   "cell_type": "code",
   "execution_count": 22,
   "metadata": {
    "hidden": true
   },
   "outputs": [
    {
     "data": {
      "text/plain": [
       "0.7490073680262378"
      ]
     },
     "execution_count": 22,
     "metadata": {},
     "output_type": "execute_result"
    }
   ],
   "source": [
    "roc_auc_score(total_df['TARGET'],val_scores)"
   ]
  },
  {
   "cell_type": "code",
   "execution_count": null,
   "metadata": {
    "hidden": true
   },
   "outputs": [],
   "source": []
  },
  {
   "cell_type": "code",
   "execution_count": 23,
   "metadata": {
    "hidden": true
   },
   "outputs": [
    {
     "data": {
      "text/plain": [
       "RandomForestClassifier(bootstrap=True, class_weight=None, criterion='gini',\n",
       "            max_depth=15, max_features='auto', max_leaf_nodes=None,\n",
       "            min_impurity_decrease=0.0, min_impurity_split=None,\n",
       "            min_samples_leaf=63, min_samples_split=2,\n",
       "            min_weight_fraction_leaf=0.0, n_estimators=40, n_jobs=1,\n",
       "            oob_score=False, random_state=0, verbose=0, warm_start=False)"
      ]
     },
     "execution_count": 23,
     "metadata": {},
     "output_type": "execute_result"
    }
   ],
   "source": [
    "# fit and save model for predictions\n",
    "forest_reg.fit(X = total_df_piped,\n",
    "               y = total_df['TARGET'])"
   ]
  },
  {
   "cell_type": "code",
   "execution_count": 24,
   "metadata": {
    "hidden": true
   },
   "outputs": [
    {
     "data": {
      "text/plain": [
       "['saved_models/level_1_models/RanFor_AllFeats_level_1.joblib']"
      ]
     },
     "execution_count": 24,
     "metadata": {},
     "output_type": "execute_result"
    }
   ],
   "source": [
    "joblib.dump(forest_reg, model_save_path + 'RanFor_AllFeats_level_1.joblib')"
   ]
  },
  {
   "cell_type": "code",
   "execution_count": null,
   "metadata": {
    "hidden": true
   },
   "outputs": [],
   "source": []
  },
  {
   "cell_type": "markdown",
   "metadata": {
    "heading_collapsed": true
   },
   "source": [
    "### log reg, on EXT sources with poly interactions"
   ]
  },
  {
   "cell_type": "code",
   "execution_count": 25,
   "metadata": {
    "hidden": true
   },
   "outputs": [
    {
     "name": "stdout",
     "output_type": "stream",
     "text": [
      "Total original feat len is 3. Sum of feats is 3.\n",
      "Final array is length 35. final feature list is length 35.\n"
     ]
    }
   ],
   "source": [
    "total_df_piped, final_feature_list, total_pipeline, trans_list = \\\n",
    "master_pipeline(df_in = total_df[['EXT_SOURCE_1','EXT_SOURCE_2',\n",
    "                                         'EXT_SOURCE_3']],\n",
    "                int_cutoff=20, \n",
    "                poly_deg=4, \n",
    "                feats_with_interaction=['EXT_SOURCE_1','EXT_SOURCE_2',\n",
    "                                         'EXT_SOURCE_3']\n",
    "                )"
   ]
  },
  {
   "cell_type": "code",
   "execution_count": null,
   "metadata": {
    "hidden": true
   },
   "outputs": [],
   "source": []
  },
  {
   "cell_type": "code",
   "execution_count": 26,
   "metadata": {
    "code_folding": [
     14
    ],
    "hidden": true,
    "scrolled": true
   },
   "outputs": [
    {
     "name": "stdout",
     "output_type": "stream",
     "text": [
      "Memmaping (shape=(307511, 35), dtype=float64) to new file /var/folders/1x/nd476hm95310c4gp98rmvwkc0000gn/T/joblib_memmaping_pool_10637_112180294488/10637-112180382632-b9484bf6bcb51c1aa31120baddc95076.pkl\n",
      "Memmaping (shape=(307511,), dtype=int64) to new file /var/folders/1x/nd476hm95310c4gp98rmvwkc0000gn/T/joblib_memmaping_pool_10637_112180294488/10637-112180382632-7fee98903a11851f0c36b343c7ef5338.pkl\n",
      "Memmaping (shape=(205007,), dtype=int64) to new file /var/folders/1x/nd476hm95310c4gp98rmvwkc0000gn/T/joblib_memmaping_pool_10637_112180294488/10637-112180382632-617b94b8ee1dd73b53ff7a38ec2f741c.pkl\n",
      "Memmaping (shape=(205007,), dtype=int64) to new file /var/folders/1x/nd476hm95310c4gp98rmvwkc0000gn/T/joblib_memmaping_pool_10637_112180294488/10637-112180382632-49dd99a20eff7bff76798131d715d7ea.pkl\n",
      "Memmaping (shape=(205008,), dtype=int64) to new file /var/folders/1x/nd476hm95310c4gp98rmvwkc0000gn/T/joblib_memmaping_pool_10637_112180294488/10637-112180382632-20227521c910aa39c9819320f3625345.pkl\n",
      "[Parallel(n_jobs=-1)]: Done   1 tasks      | elapsed:   22.6s\n",
      "[Parallel(n_jobs=-1)]: Done   3 out of   3 | elapsed:   23.9s remaining:    0.0s\n",
      "[Parallel(n_jobs=-1)]: Done   3 out of   3 | elapsed:   23.9s finished\n"
     ]
    }
   ],
   "source": [
    "my_StrKFold = StratifiedKFold(n_splits = 3, \n",
    "                              shuffle = True,\n",
    "                              random_state = 0)\n",
    "\n",
    "my_folds = my_StrKFold.split(total_df, total_df['TARGET'])\n",
    "\n",
    "my_LgRg = LogisticRegression(penalty= 'l2', \n",
    "                            random_state = 0, \n",
    "                            class_weight = None, \n",
    "                            C = 30.5,\n",
    "                          #  verbose = 51\n",
    "                            ) \n",
    "\n",
    "cross_val_preds = cross_val_predict(estimator = my_LgRg, \n",
    "                                      X = total_df_piped,\n",
    "                                      y = total_df['TARGET'], \n",
    "                                      groups = None,\n",
    "                                      cv = my_folds,\n",
    "                                      n_jobs = -1,\n",
    "                                      verbose = 51,\n",
    "                                      fit_params = None, \n",
    "                                      pre_dispatch = '2*n_jobs', \n",
    "                                      method = 'predict_proba')"
   ]
  },
  {
   "cell_type": "code",
   "execution_count": null,
   "metadata": {
    "hidden": true
   },
   "outputs": [],
   "source": []
  },
  {
   "cell_type": "code",
   "execution_count": 27,
   "metadata": {
    "hidden": true
   },
   "outputs": [],
   "source": [
    "val_scores = [x[1]for x in cross_val_preds]\n",
    "\n",
    "raw_level_1_new_features_df['LogReg_EXTpoly'] = val_scores"
   ]
  },
  {
   "cell_type": "code",
   "execution_count": null,
   "metadata": {
    "hidden": true
   },
   "outputs": [],
   "source": []
  },
  {
   "cell_type": "code",
   "execution_count": 28,
   "metadata": {
    "hidden": true
   },
   "outputs": [
    {
     "data": {
      "text/plain": [
       "0.7254526622434527"
      ]
     },
     "execution_count": 28,
     "metadata": {},
     "output_type": "execute_result"
    }
   ],
   "source": [
    "roc_auc_score(total_df['TARGET'],val_scores)"
   ]
  },
  {
   "cell_type": "code",
   "execution_count": null,
   "metadata": {
    "hidden": true
   },
   "outputs": [],
   "source": []
  },
  {
   "cell_type": "code",
   "execution_count": 29,
   "metadata": {
    "hidden": true
   },
   "outputs": [
    {
     "data": {
      "text/plain": [
       "LogisticRegression(C=30.5, class_weight=None, dual=False, fit_intercept=True,\n",
       "          intercept_scaling=1, max_iter=100, multi_class='ovr', n_jobs=1,\n",
       "          penalty='l2', random_state=0, solver='liblinear', tol=0.0001,\n",
       "          verbose=0, warm_start=False)"
      ]
     },
     "execution_count": 29,
     "metadata": {},
     "output_type": "execute_result"
    }
   ],
   "source": [
    "# fit and save model for predictions\n",
    "my_LgRg.fit(X = total_df_piped,\n",
    "            y = total_df['TARGET'])"
   ]
  },
  {
   "cell_type": "code",
   "execution_count": 30,
   "metadata": {
    "hidden": true
   },
   "outputs": [
    {
     "data": {
      "text/plain": [
       "['saved_models/level_1_models/LogReg_EXTpoly_level_1.joblib']"
      ]
     },
     "execution_count": 30,
     "metadata": {},
     "output_type": "execute_result"
    }
   ],
   "source": [
    "joblib.dump(my_LgRg, model_save_path + 'LogReg_EXTpoly_level_1.joblib')"
   ]
  },
  {
   "cell_type": "code",
   "execution_count": null,
   "metadata": {
    "hidden": true
   },
   "outputs": [],
   "source": []
  },
  {
   "cell_type": "markdown",
   "metadata": {},
   "source": [
    "###  log reg, on all features"
   ]
  },
  {
   "cell_type": "code",
   "execution_count": null,
   "metadata": {},
   "outputs": [],
   "source": []
  },
  {
   "cell_type": "code",
   "execution_count": 31,
   "metadata": {
    "scrolled": true
   },
   "outputs": [
    {
     "name": "stdout",
     "output_type": "stream",
     "text": [
      "Total original feat len is 85. Sum of feats is 85.\n",
      "Final array is length 418. final feature list is length 418.\n"
     ]
    }
   ],
   "source": [
    "total_df_piped, final_feature_list, total_pipeline, trans_list = \\\n",
    "master_pipeline(df_in = total_df,\n",
    "                int_cutoff=20, \n",
    "                poly_deg=4, \n",
    "                feats_with_interaction=[]\n",
    "                )"
   ]
  },
  {
   "cell_type": "code",
   "execution_count": null,
   "metadata": {},
   "outputs": [],
   "source": []
  },
  {
   "cell_type": "code",
   "execution_count": 32,
   "metadata": {},
   "outputs": [
    {
     "name": "stdout",
     "output_type": "stream",
     "text": [
      "Memmaping (shape=(73187618,), dtype=int32) to new file /var/folders/1x/nd476hm95310c4gp98rmvwkc0000gn/T/joblib_memmaping_pool_10637_4479337416/10637-112180360304-944bb81dc33d1a337714af8a3d3ab012.pkl\n",
      "Memmaping (shape=(307512,), dtype=int32) to new file /var/folders/1x/nd476hm95310c4gp98rmvwkc0000gn/T/joblib_memmaping_pool_10637_4479337416/10637-112180360304-851f25297a32c2e0d1a0ef9235730f5f.pkl\n",
      "Memmaping (shape=(73187618,), dtype=float64) to new file /var/folders/1x/nd476hm95310c4gp98rmvwkc0000gn/T/joblib_memmaping_pool_10637_4479337416/10637-112180360304-5f766c0f99bba322f54619d7700cf8ee.pkl\n",
      "Memmaping (shape=(307511,), dtype=int64) to new file /var/folders/1x/nd476hm95310c4gp98rmvwkc0000gn/T/joblib_memmaping_pool_10637_4479337416/10637-112180360304-7fee98903a11851f0c36b343c7ef5338.pkl\n",
      "Memmaping (shape=(205007,), dtype=int64) to new file /var/folders/1x/nd476hm95310c4gp98rmvwkc0000gn/T/joblib_memmaping_pool_10637_4479337416/10637-112180360304-617b94b8ee1dd73b53ff7a38ec2f741c.pkl\n",
      "Memmaping (shape=(205007,), dtype=int64) to new file /var/folders/1x/nd476hm95310c4gp98rmvwkc0000gn/T/joblib_memmaping_pool_10637_4479337416/10637-112180360304-49dd99a20eff7bff76798131d715d7ea.pkl\n",
      "Memmaping (shape=(205008,), dtype=int64) to new file /var/folders/1x/nd476hm95310c4gp98rmvwkc0000gn/T/joblib_memmaping_pool_10637_4479337416/10637-112180360304-20227521c910aa39c9819320f3625345.pkl\n"
     ]
    },
    {
     "name": "stderr",
     "output_type": "stream",
     "text": [
      "/anaconda/lib/python3.6/site-packages/sklearn/linear_model/base.py:340: RuntimeWarning: overflow encountered in exp\n",
      "  np.exp(prob, prob)\n"
     ]
    },
    {
     "name": "stdout",
     "output_type": "stream",
     "text": [
      "[Parallel(n_jobs=-1)]: Done   1 tasks      | elapsed: 23.7min\n"
     ]
    },
    {
     "name": "stderr",
     "output_type": "stream",
     "text": [
      "/anaconda/lib/python3.6/site-packages/sklearn/linear_model/base.py:340: RuntimeWarning: overflow encountered in exp\n",
      "  np.exp(prob, prob)\n"
     ]
    },
    {
     "name": "stdout",
     "output_type": "stream",
     "text": [
      "[Parallel(n_jobs=-1)]: Done   3 out of   3 | elapsed: 32.3min remaining:    0.0s\n",
      "[Parallel(n_jobs=-1)]: Done   3 out of   3 | elapsed: 32.3min finished\n"
     ]
    }
   ],
   "source": [
    "my_StrKFold = StratifiedKFold(n_splits = 3, \n",
    "                              shuffle = True,\n",
    "                              random_state = 0)\n",
    "\n",
    "my_folds = my_StrKFold.split(total_df, total_df['TARGET'])\n",
    "\n",
    "my_LgRg = LogisticRegression(penalty= 'l2', \n",
    "                            random_state = 0, \n",
    "                            class_weight = None,\n",
    "                            C = 5.5,\n",
    "                          #  verbose = 51\n",
    "                            ) \n",
    "\n",
    "cross_val_preds = cross_val_predict(estimator = my_LgRg, \n",
    "                                      X = total_df_piped,\n",
    "                                      y = total_df['TARGET'], \n",
    "                                      groups = None,\n",
    "                                      cv = my_folds,\n",
    "                                      n_jobs = -1,\n",
    "                                      verbose = 51,\n",
    "                                      fit_params = None, \n",
    "                                      pre_dispatch = '2*n_jobs', \n",
    "                                      method = 'predict_proba')"
   ]
  },
  {
   "cell_type": "code",
   "execution_count": null,
   "metadata": {},
   "outputs": [],
   "source": []
  },
  {
   "cell_type": "code",
   "execution_count": 33,
   "metadata": {},
   "outputs": [],
   "source": [
    "val_scores = [x[1]for x in cross_val_preds]\n",
    "\n",
    "raw_level_1_new_features_df['LogReg_AllFeats'] = val_scores"
   ]
  },
  {
   "cell_type": "code",
   "execution_count": null,
   "metadata": {},
   "outputs": [],
   "source": []
  },
  {
   "cell_type": "code",
   "execution_count": 34,
   "metadata": {},
   "outputs": [
    {
     "data": {
      "text/plain": [
       "0.7677839227336094"
      ]
     },
     "execution_count": 34,
     "metadata": {},
     "output_type": "execute_result"
    }
   ],
   "source": [
    "roc_auc_score(total_df['TARGET'],val_scores)"
   ]
  },
  {
   "cell_type": "code",
   "execution_count": null,
   "metadata": {},
   "outputs": [],
   "source": []
  },
  {
   "cell_type": "code",
   "execution_count": 35,
   "metadata": {},
   "outputs": [
    {
     "data": {
      "text/plain": [
       "LogisticRegression(C=5.5, class_weight=None, dual=False, fit_intercept=True,\n",
       "          intercept_scaling=1, max_iter=100, multi_class='ovr', n_jobs=1,\n",
       "          penalty='l2', random_state=0, solver='liblinear', tol=0.0001,\n",
       "          verbose=0, warm_start=False)"
      ]
     },
     "execution_count": 35,
     "metadata": {},
     "output_type": "execute_result"
    }
   ],
   "source": [
    "# fit and save model for predictions\n",
    "my_LgRg.fit(X = total_df_piped,\n",
    "            y = total_df['TARGET'])"
   ]
  },
  {
   "cell_type": "code",
   "execution_count": 36,
   "metadata": {},
   "outputs": [
    {
     "data": {
      "text/plain": [
       "['saved_models/level_1_models/LogReg_AllFeats_level_1.joblib']"
      ]
     },
     "execution_count": 36,
     "metadata": {},
     "output_type": "execute_result"
    }
   ],
   "source": [
    "joblib.dump(my_LgRg, model_save_path + 'LogReg_AllFeats_level_1.joblib')"
   ]
  },
  {
   "cell_type": "code",
   "execution_count": null,
   "metadata": {},
   "outputs": [],
   "source": []
  },
  {
   "cell_type": "markdown",
   "metadata": {
    "heading_collapsed": true
   },
   "source": [
    "### MLP Classifier, all features. "
   ]
  },
  {
   "cell_type": "code",
   "execution_count": null,
   "metadata": {
    "hidden": true
   },
   "outputs": [],
   "source": []
  },
  {
   "cell_type": "code",
   "execution_count": 37,
   "metadata": {
    "hidden": true,
    "scrolled": true
   },
   "outputs": [
    {
     "name": "stdout",
     "output_type": "stream",
     "text": [
      "Total original feat len is 85. Sum of feats is 85.\n",
      "Final array is length 418. final feature list is length 418.\n"
     ]
    }
   ],
   "source": [
    "total_df_piped, final_feature_list, total_pipeline, trans_list = \\\n",
    "master_pipeline(df_in = total_df,\n",
    "                int_cutoff=20, \n",
    "                poly_deg=4, \n",
    "                feats_with_interaction=[]\n",
    "                )"
   ]
  },
  {
   "cell_type": "code",
   "execution_count": null,
   "metadata": {
    "hidden": true
   },
   "outputs": [],
   "source": []
  },
  {
   "cell_type": "code",
   "execution_count": 38,
   "metadata": {
    "hidden": true
   },
   "outputs": [
    {
     "name": "stdout",
     "output_type": "stream",
     "text": [
      "Memmaping (shape=(73187618,), dtype=int32) to new file /var/folders/1x/nd476hm95310c4gp98rmvwkc0000gn/T/joblib_memmaping_pool_10637_112165433128/10637-112180361760-944bb81dc33d1a337714af8a3d3ab012.pkl\n",
      "Memmaping (shape=(307512,), dtype=int32) to new file /var/folders/1x/nd476hm95310c4gp98rmvwkc0000gn/T/joblib_memmaping_pool_10637_112165433128/10637-112180361760-851f25297a32c2e0d1a0ef9235730f5f.pkl\n",
      "Memmaping (shape=(73187618,), dtype=float64) to new file /var/folders/1x/nd476hm95310c4gp98rmvwkc0000gn/T/joblib_memmaping_pool_10637_112165433128/10637-112180361760-5f766c0f99bba322f54619d7700cf8ee.pkl\n",
      "Memmaping (shape=(307511,), dtype=int64) to new file /var/folders/1x/nd476hm95310c4gp98rmvwkc0000gn/T/joblib_memmaping_pool_10637_112165433128/10637-112180361760-7fee98903a11851f0c36b343c7ef5338.pkl\n",
      "Memmaping (shape=(205007,), dtype=int64) to new file /var/folders/1x/nd476hm95310c4gp98rmvwkc0000gn/T/joblib_memmaping_pool_10637_112165433128/10637-112180361760-617b94b8ee1dd73b53ff7a38ec2f741c.pkl\n",
      "Memmaping (shape=(205007,), dtype=int64) to new file /var/folders/1x/nd476hm95310c4gp98rmvwkc0000gn/T/joblib_memmaping_pool_10637_112165433128/10637-112180361760-49dd99a20eff7bff76798131d715d7ea.pkl\n",
      "Memmaping (shape=(205008,), dtype=int64) to new file /var/folders/1x/nd476hm95310c4gp98rmvwkc0000gn/T/joblib_memmaping_pool_10637_112165433128/10637-112180361760-20227521c910aa39c9819320f3625345.pkl\n",
      "[Parallel(n_jobs=-1)]: Done   1 tasks      | elapsed:  3.7min\n",
      "[Parallel(n_jobs=-1)]: Done   3 out of   3 | elapsed:  3.8min remaining:    0.0s\n",
      "[Parallel(n_jobs=-1)]: Done   3 out of   3 | elapsed:  3.8min finished\n"
     ]
    }
   ],
   "source": [
    "my_StrKFold = StratifiedKFold(n_splits = 3, \n",
    "                              shuffle = True,\n",
    "                              random_state = 0)\n",
    "\n",
    "my_folds = my_StrKFold.split(total_df, total_df['TARGET'])\n",
    "\n",
    "param_dist_dict =  {'alpha': 0.35, 'hidden_layer_sizes': (100,)}\n",
    "\n",
    "my_MLP = MLPClassifier(random_state=0, \n",
    "                       tol=0.0001, \n",
    "                       warm_start=False, \n",
    "                       momentum=0.9,\n",
    "                      **param_dist_dict, \n",
    "                     # verbose = 51\n",
    "                      )\n",
    "\n",
    "cross_val_preds = cross_val_predict(estimator = my_MLP, \n",
    "                                      X = total_df_piped,\n",
    "                                      y = total_df['TARGET'], \n",
    "                                      groups = None,\n",
    "                                      cv = my_folds,\n",
    "                                      n_jobs = -1,\n",
    "                                      verbose = 51,\n",
    "                                      fit_params = None, \n",
    "                                      pre_dispatch = '2*n_jobs', \n",
    "                                      method = 'predict_proba')"
   ]
  },
  {
   "cell_type": "code",
   "execution_count": null,
   "metadata": {
    "hidden": true
   },
   "outputs": [],
   "source": []
  },
  {
   "cell_type": "code",
   "execution_count": 39,
   "metadata": {
    "hidden": true
   },
   "outputs": [],
   "source": [
    "val_scores = [x[1]for x in cross_val_preds]\n",
    "\n",
    "raw_level_1_new_features_df['MLP_AllFeats'] = val_scores"
   ]
  },
  {
   "cell_type": "code",
   "execution_count": null,
   "metadata": {
    "hidden": true
   },
   "outputs": [],
   "source": []
  },
  {
   "cell_type": "code",
   "execution_count": 40,
   "metadata": {
    "hidden": true
   },
   "outputs": [
    {
     "data": {
      "text/plain": [
       "0.7597744093473513"
      ]
     },
     "execution_count": 40,
     "metadata": {},
     "output_type": "execute_result"
    }
   ],
   "source": [
    "roc_auc_score(total_df['TARGET'],val_scores)"
   ]
  },
  {
   "cell_type": "code",
   "execution_count": null,
   "metadata": {
    "hidden": true
   },
   "outputs": [],
   "source": []
  },
  {
   "cell_type": "code",
   "execution_count": 41,
   "metadata": {
    "hidden": true
   },
   "outputs": [
    {
     "data": {
      "text/plain": [
       "MLPClassifier(activation='relu', alpha=0.35, batch_size='auto', beta_1=0.9,\n",
       "       beta_2=0.999, early_stopping=False, epsilon=1e-08,\n",
       "       hidden_layer_sizes=(100,), learning_rate='constant',\n",
       "       learning_rate_init=0.001, max_iter=200, momentum=0.9,\n",
       "       nesterovs_momentum=True, power_t=0.5, random_state=0, shuffle=True,\n",
       "       solver='adam', tol=0.0001, validation_fraction=0.1, verbose=False,\n",
       "       warm_start=False)"
      ]
     },
     "execution_count": 41,
     "metadata": {},
     "output_type": "execute_result"
    }
   ],
   "source": [
    "# fit and save model for predictions\n",
    "my_MLP.fit(X = total_df_piped,\n",
    "           y = total_df['TARGET'])"
   ]
  },
  {
   "cell_type": "code",
   "execution_count": 42,
   "metadata": {
    "hidden": true
   },
   "outputs": [
    {
     "data": {
      "text/plain": [
       "['saved_models/level_1_models/MLP_AllFeats_level_1.joblib']"
      ]
     },
     "execution_count": 42,
     "metadata": {},
     "output_type": "execute_result"
    }
   ],
   "source": [
    "joblib.dump(my_MLP, model_save_path + 'MLP_AllFeats_level_1.joblib')"
   ]
  },
  {
   "cell_type": "code",
   "execution_count": null,
   "metadata": {
    "hidden": true
   },
   "outputs": [],
   "source": []
  },
  {
   "cell_type": "markdown",
   "metadata": {
    "heading_collapsed": true
   },
   "source": [
    "# Plot so far "
   ]
  },
  {
   "cell_type": "code",
   "execution_count": null,
   "metadata": {
    "hidden": true
   },
   "outputs": [],
   "source": []
  },
  {
   "cell_type": "code",
   "execution_count": 43,
   "metadata": {
    "hidden": true
   },
   "outputs": [],
   "source": [
    "just_for_plotting_df = pd.merge(total_df, raw_level_1_new_features_df, left_index=True, right_index= True, how = 'inner') #on='SK_ID_CURR' )"
   ]
  },
  {
   "cell_type": "code",
   "execution_count": null,
   "metadata": {
    "hidden": true,
    "scrolled": true
   },
   "outputs": [],
   "source": []
  },
  {
   "cell_type": "code",
   "execution_count": 44,
   "metadata": {
    "hidden": true
   },
   "outputs": [
    {
     "data": {
      "text/plain": [
       "((307511, 86), (307511, 5), (307511, 91))"
      ]
     },
     "execution_count": 44,
     "metadata": {},
     "output_type": "execute_result"
    }
   ],
   "source": [
    "#check shapes \n",
    "total_df.shape, raw_level_1_new_features_df.shape, just_for_plotting_df.shape"
   ]
  },
  {
   "cell_type": "code",
   "execution_count": null,
   "metadata": {
    "hidden": true
   },
   "outputs": [],
   "source": []
  },
  {
   "cell_type": "markdown",
   "metadata": {
    "heading_collapsed": true,
    "hidden": true
   },
   "source": [
    "## log mod trans"
   ]
  },
  {
   "cell_type": "code",
   "execution_count": null,
   "metadata": {
    "hidden": true
   },
   "outputs": [],
   "source": []
  },
  {
   "cell_type": "code",
   "execution_count": 45,
   "metadata": {
    "hidden": true
   },
   "outputs": [],
   "source": [
    "def log_modulus_transformation(x):\n",
    "    return np.sign(x)*np.log10( np.abs(x)+1)"
   ]
  },
  {
   "cell_type": "code",
   "execution_count": null,
   "metadata": {
    "hidden": true
   },
   "outputs": [],
   "source": []
  },
  {
   "cell_type": "code",
   "execution_count": 46,
   "metadata": {
    "hidden": true
   },
   "outputs": [],
   "source": [
    "# get a random sample bc full sample is too much to plot\n",
    "this_sample = balanced_sample(just_for_plotting_df, 24000, 0)"
   ]
  },
  {
   "cell_type": "code",
   "execution_count": null,
   "metadata": {
    "hidden": true
   },
   "outputs": [],
   "source": []
  },
  {
   "cell_type": "code",
   "execution_count": 47,
   "metadata": {
    "hidden": true
   },
   "outputs": [],
   "source": [
    "my_list = ['RanFor_EXTpoly', 'RanFor_AllFeats', 'LogReg_EXTpoly',\n",
    "       'LogReg_AllFeats', 'MLP_AllFeats']\n",
    "\n",
    "for f in my_list:\n",
    "    this_sample['LogMod_' + f] = log_modulus_transformation(this_sample[f])"
   ]
  },
  {
   "cell_type": "code",
   "execution_count": null,
   "metadata": {
    "hidden": true
   },
   "outputs": [],
   "source": []
  },
  {
   "cell_type": "code",
   "execution_count": 48,
   "metadata": {
    "hidden": true
   },
   "outputs": [
    {
     "data": {
      "image/png": "[encoded data removed]",
      "text/plain": [
       "<Figure size 1800x288 with 5 Axes>"
      ]
     },
     "metadata": {},
     "output_type": "display_data"
    }
   ],
   "source": [
    "# PLOT \n",
    "\n",
    "my_list = ['RanFor_EXTpoly', 'RanFor_AllFeats', 'LogReg_EXTpoly',\n",
    "       'LogReg_AllFeats', 'MLP_AllFeats']\n",
    "\n",
    "num_plots = len(my_list)\n",
    "\n",
    "fig, axs = plt.subplots(nrows = 1,\n",
    "                        ncols = num_plots,\n",
    "                        figsize = (num_plots*5,  4));\n",
    "\n",
    "for f, a in zip(my_list, range(len(my_list))):\n",
    "    \n",
    "    dat_0 = this_sample[ (this_sample['TARGET']== 0) & (this_sample[f].notna())][f]\n",
    "    dat_1 = this_sample[ (this_sample['TARGET']== 1) & (this_sample[f].notna())][f]\n",
    "    \n",
    "    #keep data within 3 SDs of mean\n",
    "    dat_0 = dat_0[~((dat_0-dat_0.mean()).abs() > 3*dat_0.std())]\n",
    "    dat_1 = dat_1[~((dat_1-dat_1.mean()).abs() > 3*dat_1.std())]\n",
    "    \n",
    "#     #divv = 40\n",
    "#     bw_0 = np.std(dat_0)/3\n",
    "#     bw_1 = np.std(dat_1)/3\n",
    "    \n",
    "    my_bins =np.histogram(  this_sample[ (this_sample[f].notna())][f]  , bins = 30 )[1] #, 'fd'\n",
    "    \n",
    "    g0 = sns.distplot(dat_0, color = 'blue', ax = axs[a], kde = False, bins = my_bins)#, bw =bw_0) #( abs(max(dat_0)- min(dat_0))/divv   ) )#, bw = 90000)\n",
    "    g1 = sns.distplot(dat_1, color = 'red',  ax = axs[a],kde = False, bins = my_bins)#, bw =bw_1) #( abs(max(dat_0)- min(dat_0))/divv       ) )#,   ) #, bw = 90000)\n",
    "    \n",
    "#     if f =='AMT_CREDIT_SUM_max':\n",
    "#         #g1.set_ylim(10**4.3, 10**7)\n",
    "#         g1.set_xlim(1, 10**7)\n",
    "    \n",
    "   # g0.set_xticklabels(g.get_xticklabels(),rotation = 80)\n",
    "\n",
    "plt.tight_layout()"
   ]
  },
  {
   "cell_type": "code",
   "execution_count": null,
   "metadata": {
    "hidden": true
   },
   "outputs": [],
   "source": []
  },
  {
   "cell_type": "code",
   "execution_count": null,
   "metadata": {
    "hidden": true
   },
   "outputs": [],
   "source": []
  },
  {
   "cell_type": "code",
   "execution_count": null,
   "metadata": {
    "hidden": true
   },
   "outputs": [],
   "source": []
  },
  {
   "cell_type": "code",
   "execution_count": 49,
   "metadata": {
    "hidden": true
   },
   "outputs": [
    {
     "data": {
      "image/png": "[encoded data removed]",
      "text/plain": [
       "<Figure size 1800x288 with 5 Axes>"
      ]
     },
     "metadata": {},
     "output_type": "display_data"
    }
   ],
   "source": [
    "# PLOT \n",
    "\n",
    "my_list  =  my_list = ['LogMod_RanFor_EXTpoly', 'LogMod_RanFor_AllFeats', 'LogMod_LogReg_EXTpoly',\n",
    "               'LogMod_LogReg_AllFeats', 'LogMod_MLP_AllFeats']\n",
    "\n",
    "num_plots = len(my_list)\n",
    "\n",
    "fig, axs = plt.subplots(nrows = 1,\n",
    "                        ncols = num_plots,\n",
    "                        figsize = (num_plots*5,  4));\n",
    "\n",
    "for f, a in zip(my_list, range(len(my_list))):\n",
    "    \n",
    "    dat_0 = this_sample[ (this_sample['TARGET']== 0) & (this_sample[f].notna())][f]\n",
    "    dat_1 = this_sample[ (this_sample['TARGET']== 1) & (this_sample[f].notna())][f]\n",
    "    \n",
    "    #keep data within 3 SDs of mean\n",
    "    dat_0 = dat_0[~((dat_0-dat_0.mean()).abs() > 3*dat_0.std())]\n",
    "    dat_1 = dat_1[~((dat_1-dat_1.mean()).abs() > 3*dat_1.std())]\n",
    "    \n",
    "#     #divv = 40\n",
    "#     bw_0 = np.std(dat_0)/3\n",
    "#     bw_1 = np.std(dat_1)/3\n",
    "    \n",
    "    my_bins =np.histogram(  this_sample[ (this_sample[f].notna())][f]  , bins = 30 )[1] #, 'fd'\n",
    "    \n",
    "    g0 = sns.distplot(dat_0, color = 'blue', ax = axs[a], kde = False, bins = my_bins)#, bw =bw_0) #( abs(max(dat_0)- min(dat_0))/divv   ) )#, bw = 90000)\n",
    "    g1 = sns.distplot(dat_1, color = 'red',  ax = axs[a],kde = False, bins = my_bins)#, bw =bw_1) #( abs(max(dat_0)- min(dat_0))/divv       ) )#,   ) #, bw = 90000)\n",
    "    \n",
    "#     if f =='AMT_CREDIT_SUM_max':\n",
    "#         #g1.set_ylim(10**4.3, 10**7)\n",
    "#         g1.set_xlim(1, 10**7)\n",
    "    \n",
    "   # g0.set_xticklabels(g.get_xticklabels(),rotation = 80)\n",
    "\n",
    "plt.tight_layout()"
   ]
  },
  {
   "cell_type": "code",
   "execution_count": null,
   "metadata": {
    "hidden": true
   },
   "outputs": [],
   "source": []
  },
  {
   "cell_type": "markdown",
   "metadata": {
    "heading_collapsed": true,
    "hidden": true
   },
   "source": [
    "## pwr transformations"
   ]
  },
  {
   "cell_type": "code",
   "execution_count": 50,
   "metadata": {
    "hidden": true
   },
   "outputs": [
    {
     "data": {
      "text/plain": [
       "['RanFor_EXTpoly',\n",
       " 'RanFor_AllFeats',\n",
       " 'LogReg_AllFeats',\n",
       " 'LogReg_EXTpoly',\n",
       " 'MLP_AllFeats']"
      ]
     },
     "execution_count": 50,
     "metadata": {},
     "output_type": "execute_result"
    }
   ],
   "source": [
    "['RanFor_EXTpoly', 'RanFor_AllFeats', 'LogReg_AllFeats',\n",
    " 'LogReg_EXTpoly', 'MLP_AllFeats']"
   ]
  },
  {
   "cell_type": "code",
   "execution_count": 51,
   "metadata": {
    "hidden": true
   },
   "outputs": [],
   "source": [
    "# get a random sample bc full sample is too much to plot\n",
    "this_sample = balanced_sample(just_for_plotting_df, 24000, 0)"
   ]
  },
  {
   "cell_type": "code",
   "execution_count": null,
   "metadata": {
    "hidden": true
   },
   "outputs": [],
   "source": []
  },
  {
   "cell_type": "code",
   "execution_count": 52,
   "metadata": {
    "code_folding": [],
    "hidden": true
   },
   "outputs": [
    {
     "data": {
      "image/png": "[encoded data removed]",
      "text/plain": [
       "<Figure size 720x288 with 2 Axes>"
      ]
     },
     "metadata": {},
     "output_type": "display_data"
    }
   ],
   "source": [
    "feat = 'RanFor_EXTpoly'\n",
    "#this_sample['LogMod_'+ feat] = log_modulus_transformation(this_sample[feat])\n",
    "this_sample['pwr_'+ feat] = (+this_sample[feat])**(1/5)\n",
    "this_sample['pwr_'+ feat] = \\\n",
    "(this_sample['pwr_'+ feat] - min(this_sample['pwr_'+ feat])) /( max(this_sample['pwr_'+ feat]) - min(this_sample['pwr_'+ feat]))\n",
    "\n",
    "my_list = [feat,  'pwr_'+ feat] # 'LogMod_'+feat,\n",
    "num_plots = len(my_list)\n",
    "\n",
    "fig, axs = plt.subplots(nrows = 1,\n",
    "                        ncols = num_plots,\n",
    "                        figsize = (num_plots*5,  4));\n",
    "\n",
    "for f, a in zip(my_list, range(len(my_list))):   \n",
    "    dat_0 = this_sample[ (this_sample['TARGET']== 0) ][f]\n",
    "    dat_1 = this_sample[ (this_sample['TARGET']== 1) ][f]\n",
    "\n",
    "    my_bins =np.histogram(  this_sample[f]  , bins = 30 )[1] \n",
    "    \n",
    "    g0 = sns.distplot(dat_0, color = 'blue', ax = axs[a], kde = False, bins = my_bins)\n",
    "    g1 = sns.distplot(dat_1, color = 'red',  ax = axs[a], kde = False, bins = my_bins)\n",
    "    \n",
    "plt.tight_layout()"
   ]
  },
  {
   "cell_type": "code",
   "execution_count": null,
   "metadata": {
    "hidden": true
   },
   "outputs": [],
   "source": []
  },
  {
   "cell_type": "code",
   "execution_count": 53,
   "metadata": {
    "code_folding": [
     9,
     13
    ],
    "hidden": true
   },
   "outputs": [
    {
     "data": {
      "image/png": "[encoded data removed]",
      "text/plain": [
       "<Figure size 720x288 with 2 Axes>"
      ]
     },
     "metadata": {},
     "output_type": "display_data"
    }
   ],
   "source": [
    "feat = 'RanFor_AllFeats'\n",
    "#this_sample['LogMod_'+ feat] = log_modulus_transformation(this_sample[feat])\n",
    "this_sample['pwr_'+ feat] = (+this_sample[feat])**(1/3.5)\n",
    "this_sample['pwr_'+ feat] = \\\n",
    "(this_sample['pwr_'+ feat] - min(this_sample['pwr_'+ feat])) /( max(this_sample['pwr_'+ feat]) - min(this_sample['pwr_'+ feat]))\n",
    "\n",
    "my_list = [feat,  'pwr_'+ feat] # 'LogMod_'+feat,\n",
    "num_plots = len(my_list)\n",
    "\n",
    "fig, axs = plt.subplots(nrows = 1,\n",
    "                        ncols = num_plots,\n",
    "                        figsize = (num_plots*5,  4));\n",
    "\n",
    "for f, a in zip(my_list, range(len(my_list))):   \n",
    "    dat_0 = this_sample[ (this_sample['TARGET']== 0) & (this_sample[f].notna())][f]\n",
    "    dat_1 = this_sample[ (this_sample['TARGET']== 1) & (this_sample[f].notna())][f]\n",
    "\n",
    "    my_bins =np.histogram(  this_sample[ (this_sample[f].notna())][f]  , bins = 30 )[1] \n",
    "    \n",
    "    g0 = sns.distplot(dat_0, color = 'blue', ax = axs[a], kde = False, bins = my_bins)\n",
    "    g1 = sns.distplot(dat_1, color = 'red',  ax = axs[a], kde = False, bins = my_bins)\n",
    "    \n",
    "plt.tight_layout()"
   ]
  },
  {
   "cell_type": "code",
   "execution_count": null,
   "metadata": {
    "hidden": true
   },
   "outputs": [],
   "source": []
  },
  {
   "cell_type": "code",
   "execution_count": 54,
   "metadata": {
    "hidden": true
   },
   "outputs": [
    {
     "data": {
      "image/png": "[encoded data removed]",
      "text/plain": [
       "<Figure size 720x288 with 2 Axes>"
      ]
     },
     "metadata": {},
     "output_type": "display_data"
    }
   ],
   "source": [
    "feat = 'LogReg_EXTpoly'\n",
    "#this_sample['LogMod_'+ feat] = log_modulus_transformation(this_sample[feat])\n",
    "this_sample['pwr_'+ feat] = (+this_sample[feat])**(1/7)\n",
    "this_sample['pwr_'+ feat] = \\\n",
    "(this_sample['pwr_'+ feat] - min(this_sample['pwr_'+ feat])) /( max(this_sample['pwr_'+ feat]) - min(this_sample['pwr_'+ feat]))\n",
    "\n",
    "my_list = [feat,  'pwr_'+ feat] # 'LogMod_'+feat,\n",
    "num_plots = len(my_list)\n",
    "\n",
    "fig, axs = plt.subplots(nrows = 1,\n",
    "                        ncols = num_plots,\n",
    "                        figsize = (num_plots*5,  4));\n",
    "\n",
    "for f, a in zip(my_list, range(len(my_list))):   \n",
    "    dat_0 = this_sample[ (this_sample['TARGET']== 0) & (this_sample[f].notna())][f]\n",
    "    dat_1 = this_sample[ (this_sample['TARGET']== 1) & (this_sample[f].notna())][f]\n",
    "\n",
    "    my_bins =np.histogram(  this_sample[ (this_sample[f].notna())][f]  , bins = 30 )[1] \n",
    "    \n",
    "    g0 = sns.distplot(dat_0, color = 'blue', ax = axs[a], kde = False, bins = my_bins)\n",
    "    g1 = sns.distplot(dat_1, color = 'red',  ax = axs[a], kde = False, bins = my_bins)\n",
    "    \n",
    "plt.tight_layout()"
   ]
  },
  {
   "cell_type": "code",
   "execution_count": null,
   "metadata": {
    "hidden": true
   },
   "outputs": [],
   "source": []
  },
  {
   "cell_type": "code",
   "execution_count": 55,
   "metadata": {
    "hidden": true
   },
   "outputs": [
    {
     "data": {
      "image/png": "[encoded data removed]",
      "text/plain": [
       "<Figure size 720x288 with 2 Axes>"
      ]
     },
     "metadata": {},
     "output_type": "display_data"
    }
   ],
   "source": [
    "feat = 'LogReg_AllFeats'\n",
    "#this_sample['LogMod_'+ feat] = log_modulus_transformation(this_sample[feat])\n",
    "this_sample['pwr_'+ feat] = (+this_sample[feat])**(1/4)\n",
    "this_sample['pwr_'+ feat] = \\\n",
    "(this_sample['pwr_'+ feat] - min(this_sample['pwr_'+ feat])) /( max(this_sample['pwr_'+ feat]) - min(this_sample['pwr_'+ feat]))\n",
    "\n",
    "my_list = [feat,  'pwr_'+ feat] # 'LogMod_'+feat,\n",
    "num_plots = len(my_list)\n",
    "\n",
    "fig, axs = plt.subplots(nrows = 1,\n",
    "                        ncols = num_plots,\n",
    "                        figsize = (num_plots*5,  4));\n",
    "\n",
    "for f, a in zip(my_list, range(len(my_list))):   \n",
    "    dat_0 = this_sample[ (this_sample['TARGET']== 0) & (this_sample[f].notna())][f]\n",
    "    dat_1 = this_sample[ (this_sample['TARGET']== 1) & (this_sample[f].notna())][f]\n",
    "\n",
    "    my_bins =np.histogram(  this_sample[ (this_sample[f].notna())][f]  , bins = 30 )[1] \n",
    "    \n",
    "    g0 = sns.distplot(dat_0, color = 'blue', ax = axs[a], kde = False, bins = my_bins)\n",
    "    g1 = sns.distplot(dat_1, color = 'red',  ax = axs[a], kde = False, bins = my_bins)\n",
    "    \n",
    "plt.tight_layout()"
   ]
  },
  {
   "cell_type": "code",
   "execution_count": null,
   "metadata": {
    "hidden": true
   },
   "outputs": [],
   "source": []
  },
  {
   "cell_type": "code",
   "execution_count": 56,
   "metadata": {
    "hidden": true,
    "scrolled": true
   },
   "outputs": [
    {
     "data": {
      "image/png": "[encoded data removed]",
      "text/plain": [
       "<Figure size 720x288 with 2 Axes>"
      ]
     },
     "metadata": {},
     "output_type": "display_data"
    }
   ],
   "source": [
    "feat = 'MLP_AllFeats'\n",
    "#this_sample['LogMod_'+ feat] = log_modulus_transformation(this_sample[feat])\n",
    "this_sample['pwr_'+ feat] = (+this_sample[feat])**(1/4)\n",
    "this_sample['pwr_'+ feat] = \\\n",
    "(this_sample['pwr_'+ feat] - min(this_sample['pwr_'+ feat])) /( max(this_sample['pwr_'+ feat]) - min(this_sample['pwr_'+ feat]))\n",
    "\n",
    "my_list = [feat,  'pwr_'+ feat] # 'LogMod_'+feat,\n",
    "num_plots = len(my_list)\n",
    "\n",
    "fig, axs = plt.subplots(nrows = 1,\n",
    "                        ncols = num_plots,\n",
    "                        figsize = (num_plots*5,  4));\n",
    "\n",
    "for f, a in zip(my_list, range(len(my_list))):   \n",
    "    dat_0 = this_sample[ (this_sample['TARGET']== 0) & (this_sample[f].notna())][f]\n",
    "    dat_1 = this_sample[ (this_sample['TARGET']== 1) & (this_sample[f].notna())][f]\n",
    "\n",
    "    my_bins =np.histogram(  this_sample[ (this_sample[f].notna())][f]  , bins = 30 )[1] \n",
    "    \n",
    "    g0 = sns.distplot(dat_0, color = 'blue', ax = axs[a], kde = False, bins = my_bins)\n",
    "    g1 = sns.distplot(dat_1, color = 'red',  ax = axs[a], kde = False, bins = my_bins)\n",
    "    \n",
    "plt.tight_layout()"
   ]
  },
  {
   "cell_type": "code",
   "execution_count": null,
   "metadata": {
    "hidden": true
   },
   "outputs": [],
   "source": []
  },
  {
   "cell_type": "markdown",
   "metadata": {
    "heading_collapsed": true
   },
   "source": [
    "# final new level 1 meta-features"
   ]
  },
  {
   "cell_type": "code",
   "execution_count": null,
   "metadata": {
    "hidden": true
   },
   "outputs": [],
   "source": []
  },
  {
   "cell_type": "code",
   "execution_count": 57,
   "metadata": {
    "hidden": true
   },
   "outputs": [],
   "source": [
    "def pwr_and_rescale(df_col, pwr):\n",
    "    temp_col = df_col**pwr\n",
    "    return (temp_col - min(temp_col)) /( max(temp_col) - min(temp_col))"
   ]
  },
  {
   "cell_type": "code",
   "execution_count": null,
   "metadata": {
    "hidden": true
   },
   "outputs": [],
   "source": []
  },
  {
   "cell_type": "code",
   "execution_count": 58,
   "metadata": {
    "hidden": true
   },
   "outputs": [],
   "source": [
    "FINAL_level_1_new_features_df = pd.DataFrame()"
   ]
  },
  {
   "cell_type": "code",
   "execution_count": null,
   "metadata": {
    "hidden": true
   },
   "outputs": [],
   "source": []
  },
  {
   "cell_type": "code",
   "execution_count": 59,
   "metadata": {
    "code_folding": [
     9,
     13
    ],
    "hidden": true
   },
   "outputs": [],
   "source": [
    "feat = 'RanFor_EXTpoly'\n",
    "FINAL_level_1_new_features_df['pwr_rescale_'+ feat] = pwr_and_rescale(+raw_level_1_new_features_df[feat], 1/5)\n",
    "#total_df.drop(columns=[feat], inplace = True)\n",
    "\n",
    "feat = 'RanFor_AllFeats'\n",
    "FINAL_level_1_new_features_df['pwr_rescale_'+ feat] = pwr_and_rescale(+raw_level_1_new_features_df[feat], 1/3.5)\n",
    "#total_df.drop(columns=[feat], inplace = True)\n",
    "\n",
    "feat = 'LogReg_EXTpoly'\n",
    "FINAL_level_1_new_features_df['pwr_rescale_'+ feat] = pwr_and_rescale(+raw_level_1_new_features_df[feat], 1/7)\n",
    "#total_df.drop(columns=[feat], inplace = True)\n",
    "\n",
    "feat = 'LogReg_AllFeats'\n",
    "FINAL_level_1_new_features_df['pwr_rescale_'+ feat] = pwr_and_rescale(+raw_level_1_new_features_df[feat], 1/4)\n",
    "#total_df.drop(columns=[feat], inplace = True)\n",
    "\n",
    "feat = 'MLP_AllFeats'\n",
    "FINAL_level_1_new_features_df['pwr_rescale_'+ feat] = pwr_and_rescale(+raw_level_1_new_features_df[feat], 1/4)\n",
    "#total_df.drop(columns=[feat], inplace = True)\n"
   ]
  },
  {
   "cell_type": "code",
   "execution_count": null,
   "metadata": {
    "hidden": true
   },
   "outputs": [],
   "source": []
  },
  {
   "cell_type": "code",
   "execution_count": 60,
   "metadata": {
    "hidden": true
   },
   "outputs": [
    {
     "data": {
      "text/plain": [
       "'/Users/DonBunk/Desktop/Google Drive/data_science/Python_Projects/Home_Credit_Default_Risk'"
      ]
     },
     "execution_count": 60,
     "metadata": {},
     "output_type": "execute_result"
    }
   ],
   "source": [
    "pwd"
   ]
  },
  {
   "cell_type": "code",
   "execution_count": 61,
   "metadata": {
    "hidden": true
   },
   "outputs": [],
   "source": [
    "#% cd level_1_ensembling/"
   ]
  },
  {
   "cell_type": "code",
   "execution_count": null,
   "metadata": {
    "hidden": true
   },
   "outputs": [],
   "source": []
  },
  {
   "cell_type": "code",
   "execution_count": 62,
   "metadata": {
    "hidden": true
   },
   "outputs": [],
   "source": [
    "save_path = 'level_1_ensembling/'\n",
    "FINAL_level_1_new_features_df.to_csv(save_path + 'FINAL_level_1_meta_features_df.csv', columns = list(FINAL_level_1_new_features_df.columns))"
   ]
  },
  {
   "cell_type": "code",
   "execution_count": null,
   "metadata": {
    "hidden": true
   },
   "outputs": [],
   "source": []
  }
 ],
 "metadata": {
  "kernelspec": {
   "display_name": "Python 3",
   "language": "python",
   "name": "python3"
  },
  "language_info": {
   "codemirror_mode": {
    "name": "ipython",
    "version": 3
   },
   "file_extension": ".py",
   "mimetype": "text/x-python",
   "name": "python",
   "nbconvert_exporter": "python",
   "pygments_lexer": "ipython3",
   "version": "3.6.6"
  },
  "latex_envs": {
   "LaTeX_envs_menu_present": true,
   "autocomplete": true,
   "bibliofile": "biblio.bib",
   "cite_by": "apalike",
   "current_citInitial": 1,
   "eqLabelWithNumbers": true,
   "eqNumInitial": 1,
   "hotkeys": {
    "equation": "Ctrl-E",
    "itemize": "Ctrl-I"
   },
   "labels_anchors": false,
   "latex_user_defs": false,
   "report_style_numbering": false,
   "user_envs_cfg": false
  },
  "toc": {
   "nav_menu": {},
   "number_sections": true,
   "sideBar": true,
   "skip_h1_title": false,
   "toc_cell": false,
   "toc_position": {},
   "toc_section_display": "none",
   "toc_window_display": false
  },
  "varInspector": {
   "cols": {
    "lenName": 16,
    "lenType": 16,
    "lenVar": 40
   },
   "kernels_config": {
    "python": {
     "delete_cmd_postfix": "",
     "delete_cmd_prefix": "del ",
     "library": "var_list.py",
     "varRefreshCmd": "print(var_dic_list())"
    },
    "r": {
     "delete_cmd_postfix": ") ",
     "delete_cmd_prefix": "rm(",
     "library": "var_list.r",
     "varRefreshCmd": "cat(var_dic_list()) "
    }
   },
   "oldHeight": 1038.5,
   "position": {
    "height": "852px",
    "left": "897px",
    "right": "-112.4px",
    "top": "128px",
    "width": "800px"
   },
   "types_to_exclude": [
    "module",
    "function",
    "builtin_function_or_method",
    "instance",
    "_Feature"
   ],
   "varInspector_section_display": "block",
   "window_display": false
  }
 },
 "nbformat": 4,
 "nbformat_minor": 2
}
